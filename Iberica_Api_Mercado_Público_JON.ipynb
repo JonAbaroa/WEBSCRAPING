{
  "nbformat": 4,
  "nbformat_minor": 0,
  "metadata": {
    "kernelspec": {
      "display_name": "Python 3",
      "language": "python",
      "name": "python3"
    },
    "language_info": {
      "codemirror_mode": {
        "name": "ipython",
        "version": 3
      },
      "file_extension": ".py",
      "mimetype": "text/x-python",
      "name": "python",
      "nbconvert_exporter": "python",
      "pygments_lexer": "ipython3",
      "version": "3.6.4"
    },
    "colab": {
      "name": "Iberica_Api_Mercado_Público_JON.ipynb",
      "provenance": [],
      "collapsed_sections": [
        "Lm06702GSRep",
        "l2rrhkm6SWyW",
        "gCE00ORHrNVN",
        "t0K5qf_w7Let",
        "fog486USRp9I",
        "y_TvMRDm1z4U",
        "u2gpVD6rR0Tn"
      ],
      "toc_visible": true,
      "include_colab_link": true
    }
  },
  "cells": [
    {
      "cell_type": "markdown",
      "metadata": {
        "id": "view-in-github",
        "colab_type": "text"
      },
      "source": [
        "<a href=\"https://colab.research.google.com/github/JonAbaroa/WEBSCRAPING/blob/main/Iberica_Api_Mercado_P%C3%BAblico_JON.ipynb\" target=\"_parent\"><img src=\"https://colab.research.google.com/assets/colab-badge.svg\" alt=\"Open In Colab\"/></a>"
      ]
    },
    {
      "cell_type": "markdown",
      "metadata": {
        "id": "gxv5kngCSiE2"
      },
      "source": [
        "Estimado jon iñaki abaroa schilling:\n",
        "Con fecha 25-09-2020, se envia Ticket:\n",
        "\n",
        "166E1F2D-5FD5-4063-BA75-CFA20CE6798B"
      ]
    },
    {
      "cell_type": "markdown",
      "metadata": {
        "id": "Lm06702GSRep"
      },
      "source": [
        "## **Resumen API-Tipos de Consultas**\n"
      ]
    },
    {
      "cell_type": "markdown",
      "metadata": {
        "id": "l2rrhkm6SWyW"
      },
      "source": [
        "**Servicio Web**\n",
        "\n",
        "Los archivos de los recursos a los que se accede a través de api.mercadopublico.cl, utilizan las siguientes estructuras:\n",
        "\n",
        "Formato JSON:\n",
        "http://api.mercadopublico.cl/servicios/v1/publico/licitaciones.json?fecha=02022014&ticket=F8537A18-6766-4DEF-9E59-426B4FEE2844\n",
        "\n",
        "Formato JSONP:\n",
        "http://api.mercadopublico.cl/servicios/v1/publico/licitaciones.jsonp?fecha=02022014&callback=respuesta&ticket=F8537A18-6766-4DEF-9E59-426B4FEE2844\n",
        "\n",
        "Formato XML:\n",
        "http://api.mercadopublico.cl/servicios/v1/publico/licitaciones.xml?fecha=02022014&ticket=F8537A18-6766-4DEF-9E59-426B4FEE2844\n",
        "\n",
        "\n",
        "Notas sobre la información solicitada\n",
        "Los estados de las licitaciones consultadas serán mostrados por código, descritos de la siguiente forma:\n",
        "\n",
        "Publicada = \"5\"\n",
        "Cerrada = \"6\"\n",
        "Desierta = \"7\"\n",
        "Adjudicada = \"8\"\n",
        "Revocada = \"18\"\n",
        "Suspendida = \"19\""
      ]
    },
    {
      "cell_type": "markdown",
      "metadata": {
        "id": "BjY6n7RBqhyj"
      },
      "source": [
        "**Por {código} de licitación:**\n",
        "\n",
        "Ejemplo de {codigo} = 1509-5-L114\n",
        "\n",
        "http://api.mercadopublico.cl/servicios/v1/publico/licitaciones.json?codigo=1509-5-L114&ticket=F8537A18-6766-4DEF-9E59-426B4FEE2844"
      ]
    },
    {
      "cell_type": "markdown",
      "metadata": {
        "id": "X5ILrprjqhJr"
      },
      "source": [
        "**Por todos los estados del día actual:**\n",
        "\n",
        "http://api.mercadopublico.cl/servicios/v1/publico/licitaciones.json?ticket=F8537A18-6766-4DEF-9E59-426B4FEE2844"
      ]
    },
    {
      "cell_type": "markdown",
      "metadata": {
        "id": "lqYFw5Jz2ZoK"
      },
      "source": [
        "**Por todos los estados de una {fecha} en particular:**\n",
        "\n",
        "Ejemplo de {fecha} = 02022014\n",
        "\n",
        "http://api.mercadopublico.cl/servicios/v1/publico/licitaciones.json?fecha=02022014&ticket=F8537A18-6766-4DEF-9E59-426B4FEE2844\n",
        "\n",
        "\n",
        "Por estado \"activas\" :\n",
        "\n",
        "La opción estados \"activas\", muestra todas las licitaciones publicadas al día de realizada la consulta.\n",
        "\n",
        "http://api.mercadopublico.cl/servicios/v1/publico/licitaciones.json?estado={estado}&ticket=F8537A18-6766-4DEF-9E59-426B4FEE2844\n",
        "\n",
        "http://api.mercadopublico.cl/servicios/v1/publico/licitaciones.json?estado=activas&ticket=F8537A18-6766-4DEF-9E59-426B4FEE2844"
      ]
    },
    {
      "cell_type": "markdown",
      "metadata": {
        "id": "dOpJh1702Z9z"
      },
      "source": [
        "**Por {estado} del día actual::**\n",
        "\n",
        "{estados} de las licitaciones:\n",
        "\n",
        "Publicada Cerrada Desierta Adjudicada Revocada Suspendida Todos (muestra todos los estados posibles antes señalados)\n",
        "\n",
        "http://api.mercadopublico.cl/servicios/v1/publico/licitaciones.json?fecha=02022014&estado={estado}&ticket=F8537A18-6766-4DEF-9E59-426B4FEE2844\n",
        "\n",
        "http://api.mercadopublico.cl/servicios/v1/publico/licitaciones.json?fecha=02022014&estado=adjudicada&ticket=F8537A18-6766-4DEF-9E59-426B4FEE2844"
      ]
    },
    {
      "cell_type": "markdown",
      "metadata": {
        "id": "5_5iZOJa2ZzT"
      },
      "source": [
        "**Por {código} de Organismo Público:**\n",
        "\n",
        "Ejemplo de {CódigoOrganismo} = 694\n",
        "\n",
        "http://api.mercadopublico.cl/servicios/v1/publico/licitaciones.json?fecha={fecha}&CodigoOrganismo={CódigoOrganismo}&ticket=F8537A18-6766-4DEF-9E59-426B4FEE2844\n",
        "\n",
        "http://api.mercadopublico.cl/servicios/v1/publico/licitaciones.json?fecha=02022014&CodigoOrganismo=6945&ticket=F8537A18-6766-4DEF-9E59-426B4FEE2844"
      ]
    },
    {
      "cell_type": "markdown",
      "metadata": {
        "id": "kXb-MmUF2Zdh"
      },
      "source": [
        "**Por {código} de Proveedor:**\n",
        "\n",
        "Ejemplo de {CódigoProveedor} = 17793\n",
        "\n",
        "http://api.mercadopublico.cl/servicios/v1/publico/licitaciones.json?fecha=02022014&CodigoProveedor={CódigoProveedor}&ticket=F8537A18-6766-4DEF-9E59-426B4FEE2844\n",
        "\n",
        "http://api.mercadopublico.cl/servicios/v1/publico/licitaciones.json?fecha=02022014&CodigoProveedor=17793&ticket=F8537A18-6766-4DEF-9E59-426B4FEE2844\n",
        "\n",
        "Los resultados de las búsquedas son realizadas en base a las Licitaciones Publicadas en el día. Los resultados entregados son con información básica de las Licitaciones.\n",
        "\n",
        "En el caso de la búsqueda por código no importa la fecha, siempre obtendrá la Licitación solicitada. El resultado entregado por la búsqueda es información detallada de la Licitación.\n",
        "\n",
        "El formato de la fecha es ddmmaaaa, ejemplo: 12062014, obtendrá las Licitaciones del día 12 del mes de junio del año 2014."
      ]
    },
    {
      "cell_type": "markdown",
      "metadata": {
        "id": "6qHJWEwmYqqQ"
      },
      "source": [
        "**Códigos de Organismos Públicos y Proveedores**"
      ]
    },
    {
      "cell_type": "markdown",
      "metadata": {
        "id": "QrFRb9XGYtbf"
      },
      "source": [
        "Para obtener el código de un Proveedor debe consumir el siguiente método indicando el rut de la empresa a buscar (debe incluir puntos, guion y digito verificador):\n",
        "\n",
        "http://api.mercadopublico.cl/servicios/v1/Publico/Empresas/BuscarProveedor?rutempresaproveedor=70.017.820-k&ticket=F8537A18-6766-4DEF-9E59-426B4FEE2844\n",
        "\n",
        "Donde:\n",
        "Código Empresa: Código de la empresa Proveedor. Ejemplo de {CodigoEmpresa} = 17793\n",
        "Nombre Empresa: Nombre de la empresa Proveedor. Ejemplo de {NombreEmpresa} = \"Cámara de Comercio de Santiago A.G. (CCS)\".\n",
        "\n",
        "Para obtener el código de un Organismo Público debe consumir el siguiente método, el cual devuelve un listado de todos los Orgranismos Públicos de la plataforma Mercado Publico:\n",
        "\n",
        "http://api.mercadopublico.cl/servicios/v1/Publico/Empresas/BuscarComprador?ticket=F8537A18-6766-4DEF-9E59-426B4FEE2844\n",
        "\n",
        "Donde:\n",
        "Código Empresa: Código del organismo público. Ejemplo de {CodigoEmpresa} = 6945\n",
        "Nombre Empresa: Nombre del organismo público. Ejemplo de {NombreEmpresa} = \"Dirección de Compras y Contratación Pública\"."
      ]
    },
    {
      "cell_type": "markdown",
      "metadata": {
        "id": "gCE00ORHrNVN"
      },
      "source": [
        "## **Ejercicio - todos los Orgranismos Públicos**"
      ]
    },
    {
      "cell_type": "code",
      "metadata": {
        "id": "icZENaU_Y3f-"
      },
      "source": [
        "# ticket mercado publico de on iñaki abaroa schilling= 81D9D50E-E3EA-41F5-A456-0AD2B42E6D80"
      ],
      "execution_count": null,
      "outputs": []
    },
    {
      "cell_type": "markdown",
      "metadata": {
        "id": "dlGErLQCzf3S"
      },
      "source": [
        "**Listado de todos los Orgranismos Públicos de la plataforma Mercado Publicoimport requests**"
      ]
    },
    {
      "cell_type": "code",
      "metadata": {
        "id": "7VPfZflLztBg",
        "outputId": "667e5165-a40e-4bd8-b2b0-0b9dc46303d8",
        "colab": {
          "base_uri": "https://localhost:8080/",
          "height": 33
        }
      },
      "source": [
        "import requests\n",
        "\n",
        "url = \"http://api.mercadopublico.cl/servicios/v1/Publico/Empresas/BuscarComprador?ticket=F8537A18-6766-4DEF-9E59-426B4FEE2844\"\n",
        "\n",
        "respuesta=requests.request(\"GET\", url)\n",
        "print(respuesta)"
      ],
      "execution_count": 3,
      "outputs": [
        {
          "output_type": "stream",
          "text": [
            "<Response [200]>\n"
          ],
          "name": "stdout"
        }
      ]
    },
    {
      "cell_type": "code",
      "metadata": {
        "id": "VNZ5ZjEr0Bks",
        "outputId": "5cb1028b-2ec3-424c-c6c0-0efb128ae761",
        "colab": {
          "base_uri": "https://localhost:8080/",
          "height": 53
        }
      },
      "source": [
        "print(respuesta.headers)"
      ],
      "execution_count": 5,
      "outputs": [
        {
          "output_type": "stream",
          "text": [
            "{'Cache-Control': 'no-cache', 'Pragma': 'no-cache', 'Content-Type': 'application/json; charset=utf-8', 'Expires': '-1', 'Server': 'Microsoft-IIS/7.5', 'X-AspNet-Version': '4.0.30319', 'X-Powered-By': 'ASP.NET', 'Set-Cookie': 'dtCookie=1$C716CF4132C69F70E1A122B9BF52E1B3; Path=/; Domain=.mercadopublico.cl', 'Date': 'Wed, 21 Oct 2020 10:58:20 GMT', 'Content-Length': '66897'}\n"
          ],
          "name": "stdout"
        }
      ]
    },
    {
      "cell_type": "code",
      "metadata": {
        "id": "3VL1_f6u0Vcx",
        "outputId": "d613c7e5-3bd0-4b97-bc85-31e493900c83",
        "colab": {
          "base_uri": "https://localhost:8080/",
          "height": 135
        }
      },
      "source": [
        "respuesta.text"
      ],
      "execution_count": 6,
      "outputs": [
        {
          "output_type": "execute_result",
          "data": {
            "application/vnd.google.colaboratory.intrinsic+json": {
              "type": "string"
            },
            "text/plain": [
              "'{\"Cantidad\":863,\"FechaCreacion\":\"2020-10-21T07:58:20.987\",\"listaEmpresas\":[{\"CodigoEmpresa\":\"1034640\",\"NombreEmpresa\":\" CORPORACION MUNICIPAL DE PEÑALOLEN PARA EL DESARROLLO SOCIAL \"},{\"CodigoEmpresa\":\"7311\",\"NombreEmpresa\":\" Hospital de enfermedades InfecciDr. Lucio Córdova\"},{\"CodigoEmpresa\":\"7086\",\"NombreEmpresa\":\"AGENCIA CHILENA DE COOPERACION INTERNACIONAL PARA EL DESARROLLO\"},{\"CodigoEmpresa\":\"1224636\",\"NombreEmpresa\":\"Agencia Chilena de Eficiencia Energética\"},{\"CodigoEmpresa\":\"7193\",\"NombreEmpresa\":\"Agencia de Promoción de la Inversión Extranjera\"},{\"CodigoEmpresa\":\"7212\",\"NombreEmpresa\":\"Agencia Nacional de Inteligencia\"},{\"CodigoEmpresa\":\"111875\",\"NombreEmpresa\":\"ARMADA DE CHILE\"},{\"CodigoEmpresa\":\"6959\",\"NombreEmpresa\":\"Banco del Estado de Chile\"},{\"CodigoEmpresa\":\"7265\",\"NombreEmpresa\":\"Biblioteca del Congreso Nacional\"},{\"CodigoEmpresa\":\"7038\",\"NombreEmpresa\":\"Bienestar del Registro Civil\"},{\"CodigoEmpresa\":\"7313\",\"NombreEmpresa\":\"C.D.T. Doctora Eloisa Díaz\"},{\"CodigoEmpresa\":\"156657\",\"NombreEmpresa\":\"Cámara de Diputados de Chile\"},{\"CodigoEmpresa\":\"7175\",\"NombreEmpresa\":\"CAPREDENA\"},{\"CodigoEmpresa\":\"7198\",\"NombreEmpresa\":\"Casa de Moneda de Chile\"},{\"CodigoEmpresa\":\"6957\",\"NombreEmpresa\":\"Central de Abastecimiento S.N.S.S. -  CENABAST\"},{\"CodigoEmpresa\":\"1339711\",\"NombreEmpresa\":\"CENTRO ASISTENCIAL NORTE DE ANTOFAGASTA\"},{\"CodigoEmpresa\":\"1741046\",\"NombreEmpresa\":\"CENTRO DE FORMACION TECNICA DE LA REGION DE ATACAMA\"},{\"CodigoEmpresa\":\"1700248\",\"NombreEmpresa\":\"CENTRO DE FORMACIÓN TÉCNICA ESTATAL DE MAGALLANES Y ANTARTICA CHILENA\"},{\"CodigoEmpresa\":\"1741019\",\"NombreEmpresa\":\"Centro de Formación Técnica Estatal Región de Arica y Parinacota\"},{\"CodigoEmpresa\":\"7380\",\"NombreEmpresa\":\"Centro de Información de Recursos Naturales\"},{\"CodigoEmpresa\":\"7317\",\"NombreEmpresa\":\"Centro de Referencia de Salud de Maipú\"},{\"CodigoEmpresa\":\"7473\",\"NombreEmpresa\":\"Centro de Salud Dr. Víctor M. Fernández\"},{\"CodigoEmpresa\":\"7461\",\"NombreEmpresa\":\"Centro Diagnóstico Terapéutico Los Angeles\"},{\"CodigoEmpresa\":\"7373\",\"NombreEmpresa\":\"Centro Referencia Salud Doctor Salvador Allende G.\"},{\"CodigoEmpresa\":\"118627\",\"NombreEmpresa\":\"Cesfam Dr. Alejandro Gutierrez\"},{\"CodigoEmpresa\":\"111870\",\"NombreEmpresa\":\"COMANDO DE APOYO A LA FUERZA\"},{\"CodigoEmpresa\":\"192032\",\"NombreEmpresa\":\"Comisión Administradora del Sistema de Créditos para Estudios Superiores\"},{\"CodigoEmpresa\":\"7219\",\"NombreEmpresa\":\"Comisión Chilena de Energía Nuclear\"},{\"CodigoEmpresa\":\"7075\",\"NombreEmpresa\":\"Comisión Chilena del Cobre - COCHILCO\"},{\"CodigoEmpresa\":\"262897\",\"NombreEmpresa\":\"Comisión Nacional de Acreditación - CNA\"},{\"CodigoEmpresa\":\"6938\",\"NombreEmpresa\":\"Comisión Nacional de Energía\"},{\"CodigoEmpresa\":\"7213\",\"NombreEmpresa\":\"Comisión Nacional de Investigación Científica y Tecnológicas - CONICYT\"},{\"CodigoEmpresa\":\"7186\",\"NombreEmpresa\":\"Comisión Nacional de Riego\"},{\"CodigoEmpresa\":\"7016\",\"NombreEmpresa\":\"COMISION PARA EL MERCADO FINANCIERO\"},{\"CodigoEmpresa\":\"7043\",\"NombreEmpresa\":\"Comité de Seguros del Agro\"},{\"CodigoEmpresa\":\"7057\",\"NombreEmpresa\":\"Comité SEP\"},{\"CodigoEmpresa\":\"7320\",\"NombreEmpresa\":\"Complejo Asistencial Dr. Sotero del Rio\"},{\"CodigoEmpresa\":\"7375\",\"NombreEmpresa\":\"Complejo Asistencial Dr. Victor Ríos Ruíz\"},{\"CodigoEmpresa\":\"7103\",\"NombreEmpresa\":\"Complejo Penitenciario de Valparaiso\"},{\"CodigoEmpresa\":\"1090137\",\"NombreEmpresa\":\"CONGREGACIÓN HIJAS DE SANTA MARIA DE LA PROVIDENCIA\"},{\"CodigoEmpresa\":\"6933\",\"NombreEmpresa\":\"Consejo de Defensa del Estado\"},{\"CodigoEmpresa\":\"7224\",\"NombreEmpresa\":\"Consejo de Rectores de las Universidades Chilenas\"},{\"CodigoEmpresa\":\"1692048\",\"NombreEmpresa\":\"CONSEJO FISCAL AUTONOMO\"},{\"CodigoEmpresa\":\"7082\",\"NombreEmpresa\":\"Consejo Nacional de Educación\"},{\"CodigoEmpresa\":\"1060064\",\"NombreEmpresa\":\"Consejo para la Transparencia\"},{\"CodigoEmpresa\":\"118630\",\"NombreEmpresa\":\"Consultorio General Urbano Victor Domingo Silva\"},{\"CodigoEmpresa\":\"7144\",\"NombreEmpresa\":\"Consultorio Gral. Urbano Violeta Parra\"},{\"CodigoEmpresa\":\"7133\",\"NombreEmpresa\":\"Consultorio Miraflores\"},{\"CodigoEmpresa\":\"7231\",\"NombreEmpresa\":\"Contraloría General de la República\"},{\"CodigoEmpresa\":\"7354\",\"NombreEmpresa\":\"Corp. de Asistencia Judicial Región del Bío-Bío\"},{\"CodigoEmpresa\":\"7058\",\"NombreEmpresa\":\"Corp. Municipal de Desarrollo Social Cerro Navia\"},{\"CodigoEmpresa\":\"7342\",\"NombreEmpresa\":\"Corporacion Administrativa del Poder Judicial\"},{\"CodigoEmpresa\":\"7235\",\"NombreEmpresa\":\"Corporación de Asistencia Judicial de la V Región\"},{\"CodigoEmpresa\":\"272303\",\"NombreEmpresa\":\"Corporación de Asistencia Judicial de las Regiones de Tarapacá y Antofagasta\"},{\"CodigoEmpresa\":\"7152\",\"NombreEmpresa\":\"Corporación de Asistencia Judicial RM\"},{\"CodigoEmpresa\":\"1085182\",\"NombreEmpresa\":\"Corporación de Ecuación, Salud y Menores de Puerto Natales\"},{\"CodigoEmpresa\":\"6942\",\"NombreEmpresa\":\"CORPORACION DE FOMENTO DE LA PRODUCCION\"},{\"CodigoEmpresa\":\"1088974\",\"NombreEmpresa\":\"Corporación Municipal de Castro\"},{\"CodigoEmpresa\":\"1035946\",\"NombreEmpresa\":\"Corporacion Municipal de Educacion\"},{\"CodigoEmpresa\":\"1033466\",\"NombreEmpresa\":\"CORPORACIÓN MUNICIPAL DE EDUCACIÓN Y SALUD\"},{\"CodigoEmpresa\":\"7105\",\"NombreEmpresa\":\"Corporación Municipal de la Florida\"},{\"CodigoEmpresa\":\"7483\",\"NombreEmpresa\":\"Corporación Municipal de Panguipulli\"},{\"CodigoEmpresa\":\"7183\",\"NombreEmpresa\":\"Corporación Nacional de Desarrollo Indígena - CONADI\"},{\"CodigoEmpresa\":\"6924\",\"NombreEmpresa\":\"Corporación Nacional Forestal - CONAF\"},{\"CodigoEmpresa\":\"7136\",\"NombreEmpresa\":\"CRS de Peñalolen Cordillera Oriente\"},{\"CodigoEmpresa\":\"7129\",\"NombreEmpresa\":\"Defensa Civil de Chile\"},{\"CodigoEmpresa\":\"7034\",\"NombreEmpresa\":\"DEFENSORIA PENAL PUBLICA\"},{\"CodigoEmpresa\":\"7299\",\"NombreEmpresa\":\"Departamento de Salud Parral\"},{\"CodigoEmpresa\":\"7228\",\"NombreEmpresa\":\"Dirección Administrativa - Min. Defensa\"},{\"CodigoEmpresa\":\"7466\",\"NombreEmpresa\":\"Dirección Atención Primaria, Serv.Salud M.Central\"},{\"CodigoEmpresa\":\"7243\",\"NombreEmpresa\":\"Dirección de Aeropuertos - MOPTT\"},{\"CodigoEmpresa\":\"7245\",\"NombreEmpresa\":\"Dirección de Arquitectura - MOP\"},{\"CodigoEmpresa\":\"6945\",\"NombreEmpresa\":\"Dirección de Compras y Contratación Pública\"},{\"CodigoEmpresa\":\"7068\",\"NombreEmpresa\":\"Dirección de Contabilidad y Finanzas MOP\"},{\"CodigoEmpresa\":\"7244\",\"NombreEmpresa\":\"Dirección de Fiscalía - MOPTT\"},{\"CodigoEmpresa\":\"113812\",\"NombreEmpresa\":\"DIRECCION DE LOGISTICA DE CARABINEROS\"},{\"CodigoEmpresa\":\"7242\",\"NombreEmpresa\":\"Dirección de Obras Hidráulicas - MOPTT\"},{\"CodigoEmpresa\":\"7246\",\"NombreEmpresa\":\"Dirección de Obras Portuarias - MOPTT\"},{\"CodigoEmpresa\":\"7067\",\"NombreEmpresa\":\"Dirección de Planeamiento - MOPTT\"},{\"CodigoEmpresa\":\"7012\",\"NombreEmpresa\":\"Dirección de Presupuestos\"},{\"CodigoEmpresa\":\"6927\",\"NombreEmpresa\":\"Dirección de Previsión de Carabineros de Chile\"},{\"CodigoEmpresa\":\"7010\",\"NombreEmpresa\":\"Dirección de Relaciones Económicas\"},{\"CodigoEmpresa\":\"118628\",\"NombreEmpresa\":\"Dirección de Salud Rural\"},{\"CodigoEmpresa\":\"7000\",\"NombreEmpresa\":\"Dirección del Trabajo\"},{\"CodigoEmpresa\":\"7202\",\"NombreEmpresa\":\"Dirección General de Aeronáutica Civil\"},{\"CodigoEmpresa\":\"7209\",\"NombreEmpresa\":\"Dirección General de Crédito Prendario - DICREP\"},{\"CodigoEmpresa\":\"6925\",\"NombreEmpresa\":\"DIRECCION GENERAL DE GENDARMERIA DE CHIL\"},{\"CodigoEmpresa\":\"7127\",\"NombreEmpresa\":\"Dirección General de Movilización Nacional - DGMN\"},{\"CodigoEmpresa\":\"7250\",\"NombreEmpresa\":\"Dirección General de Obras Publicas - MOP\"},{\"CodigoEmpresa\":\"1674056\",\"NombreEmpresa\":\"Dirección General de Promoción de Exportaciones\"},{\"CodigoEmpresa\":\"7187\",\"NombreEmpresa\":\"Dirección Nacional de Fronteras y Límites del Estado\"},{\"CodigoEmpresa\":\"7371\",\"NombreEmpresa\":\"Dirección Nacional del Servicio Civil\"},{\"CodigoEmpresa\":\"7295\",\"NombreEmpresa\":\"DIRECCION SERVICIO DE SALUD TALCAHUANO\"},{\"CodigoEmpresa\":\"7272\",\"NombreEmpresa\":\"DIRECCION SERVICIO SALUD METROPOLITANO O\"},{\"CodigoEmpresa\":\"7208\",\"NombreEmpresa\":\"Empresa de Abastecimiento de Zonas Aisladas- EMAZA\"},{\"CodigoEmpresa\":\"7467\",\"NombreEmpresa\":\"Empresa de Servicios Sanitarios de Atacama\"},{\"CodigoEmpresa\":\"7128\",\"NombreEmpresa\":\"Empresa de Servicios Sanitarios de la Araucania\"},{\"CodigoEmpresa\":\"7358\",\"NombreEmpresa\":\"Empresa de Servicios Sanitarios de Magallanes S.A.\"},{\"CodigoEmpresa\":\"7138\",\"NombreEmpresa\":\"Empresa de Servicios Sanitarios de Tarapacá S.A.\"},{\"CodigoEmpresa\":\"6961\",\"NombreEmpresa\":\"Empresa Nacional de Minería\"},{\"CodigoEmpresa\":\"7149\",\"NombreEmpresa\":\"Empresa Nacional del Petróleo\"},{\"CodigoEmpresa\":\"1069779\",\"NombreEmpresa\":\"EMPRESA PORTUARIA ANTOFAGASTA\"},{\"CodigoEmpresa\":\"1085179\",\"NombreEmpresa\":\"Empresa Portuaria Arica\"},{\"CodigoEmpresa\":\"7493\",\"NombreEmpresa\":\"Empresa Portuaria Iquique\"},{\"CodigoEmpresa\":\"7463\",\"NombreEmpresa\":\"Empresa Portuaria Puerto Montt\"},{\"CodigoEmpresa\":\"1076044\",\"NombreEmpresa\":\"EMPRESA PORTUARIA SAN ANTONIO\"},{\"CodigoEmpresa\":\"1061586\",\"NombreEmpresa\":\"EMPRESA PORTUARIA VALPARAISO\"},{\"CodigoEmpresa\":\"7266\",\"NombreEmpresa\":\"Estado Mayor Conjunto\"},{\"CodigoEmpresa\":\"7076\",\"NombreEmpresa\":\"FISCALIA NACIONAL ECONOMICA\"},{\"CodigoEmpresa\":\"7182\",\"NombreEmpresa\":\"FONDO DE SOLIDARIDAD E INVERSION SOCIAL\"},{\"CodigoEmpresa\":\"220665\",\"NombreEmpresa\":\"FONDO HOSPITAL DE LA DIRECCION DE PREVISION DE CARABINEROS DE CHILE\"},{\"CodigoEmpresa\":\"6954\",\"NombreEmpresa\":\"Fondo Nacional de Salud - FONASA\"},{\"CodigoEmpresa\":\"6946\",\"NombreEmpresa\":\"Fuerza Aérea de Chile\"},{\"CodigoEmpresa\":\"1090451\",\"NombreEmpresa\":\"FUND NACIONAL DE ORQUESTAS JUVENILES E INFANTILES DE CHILE\"},{\"CodigoEmpresa\":\"1736867\",\"NombreEmpresa\":\"Fundación para la Innovación Agraria\"},{\"CodigoEmpresa\":\"7286\",\"NombreEmpresa\":\"Gobernación  Provincial de Choapa\"},{\"CodigoEmpresa\":\"7379\",\"NombreEmpresa\":\"Gobernación de Cachapoal\"},{\"CodigoEmpresa\":\"7134\",\"NombreEmpresa\":\"Gobernación Provincia Capitan Prat\"},{\"CodigoEmpresa\":\"7284\",\"NombreEmpresa\":\"Gobernación Provincia Cordillera\"},{\"CodigoEmpresa\":\"7271\",\"NombreEmpresa\":\"GOBERNACION PROVINCIA DE CHACABUCO\"},{\"CodigoEmpresa\":\"7347\",\"NombreEmpresa\":\"Gobernación Provincia de Elqui\"},{\"CodigoEmpresa\":\"7148\",\"NombreEmpresa\":\"Gobernación Provincial Antártica\"},{\"CodigoEmpresa\":\"7151\",\"NombreEmpresa\":\"Gobernación Provincial Antofagasta\"},{\"CodigoEmpresa\":\"7387\",\"NombreEmpresa\":\"Gobernación Provincial Cardenal Caro\"},{\"CodigoEmpresa\":\"7281\",\"NombreEmpresa\":\"Gobernación Provincial Cauquenes\"},{\"CodigoEmpresa\":\"7499\",\"NombreEmpresa\":\"Gobernación Provincial Chiloe\"},{\"CodigoEmpresa\":\"7450\",\"NombreEmpresa\":\"Gobernación Provincial de Arauco\"},{\"CodigoEmpresa\":\"7357\",\"NombreEmpresa\":\"Gobernación Provincial de Arica\"},{\"CodigoEmpresa\":\"7059\",\"NombreEmpresa\":\"Gobernación Provincial de Aysén\"},{\"CodigoEmpresa\":\"7061\",\"NombreEmpresa\":\"GOBERNACION PROVINCIAL DE CAUTIN\"},{\"CodigoEmpresa\":\"7155\",\"NombreEmpresa\":\"Gobernación Provincial de Chañaral\"},{\"CodigoEmpresa\":\"7376\",\"NombreEmpresa\":\"Gobernación Provincial de Colchagua\"},{\"CodigoEmpresa\":\"7300\",\"NombreEmpresa\":\"Gobernación Provincial de Concepción\"},{\"CodigoEmpresa\":\"7145\",\"NombreEmpresa\":\"Gobernación Provincial de Copiapó\"},{\"CodigoEmpresa\":\"7292\",\"NombreEmpresa\":\"Gobernación Provincial de Coyhaique\"},{\"CodigoEmpresa\":\"7263\",\"NombreEmpresa\":\"Gobernación Provincial de Curicó\"},{\"CodigoEmpresa\":\"7237\",\"NombreEmpresa\":\"GOBERNACION PROVINCIAL DE EL LOA\"},{\"CodigoEmpresa\":\"7309\",\"NombreEmpresa\":\"GOBERNACION PROVINCIAL DE GRAL CARRERA\"},{\"CodigoEmpresa\":\"7150\",\"NombreEmpresa\":\"Gobernación Provincial de Huasco\"},{\"CodigoEmpresa\":\"7349\",\"NombreEmpresa\":\"Gobernación Provincial de Iquique\"},{\"CodigoEmpresa\":\"135959\",\"NombreEmpresa\":\"Gobernación Provincial de Isla de Pascua\"},{\"CodigoEmpresa\":\"7037\",\"NombreEmpresa\":\"Gobernación Provincial de Limarí\"},{\"CodigoEmpresa\":\"7282\",\"NombreEmpresa\":\"Gobernación Provincial de Linares\"},{\"CodigoEmpresa\":\"7267\",\"NombreEmpresa\":\"Gobernación Provincial de Llanquihue\"},{\"CodigoEmpresa\":\"7009\",\"NombreEmpresa\":\"Gobernación Provincial de Los Andes\"},{\"CodigoEmpresa\":\"7484\",\"NombreEmpresa\":\"Gobernación Provincial de Magallanes\"},{\"CodigoEmpresa\":\"7253\",\"NombreEmpresa\":\"Gobernación Provincial de Maipo\"},{\"CodigoEmpresa\":\"7275\",\"NombreEmpresa\":\"Gobernación Provincial de Malleco\"},{\"CodigoEmpresa\":\"7142\",\"NombreEmpresa\":\"Gobernación Provincial de Ñuble\"},{\"CodigoEmpresa\":\"7283\",\"NombreEmpresa\":\"GOBERNACION PROVINCIAL DE OSORNO\"},{\"CodigoEmpresa\":\"7252\",\"NombreEmpresa\":\"Gobernación Provincial de Palena\"},{\"CodigoEmpresa\":\"7350\",\"NombreEmpresa\":\"GOBERNACION PROVINCIAL DE PARINACOTA\"},{\"CodigoEmpresa\":\"7420\",\"NombreEmpresa\":\"Gobernación Provincial de Petorca\"},{\"CodigoEmpresa\":\"7346\",\"NombreEmpresa\":\"GOBERNACION PROVINCIAL DE QUILLOTA\"},{\"CodigoEmpresa\":\"269793\",\"NombreEmpresa\":\"Gobernación Provincial de Ranco\"},{\"CodigoEmpresa\":\"111119\",\"NombreEmpresa\":\"Gobernación Provincial de San Antonio\"},{\"CodigoEmpresa\":\"7055\",\"NombreEmpresa\":\"Gobernación Provincial de Talagante\"},{\"CodigoEmpresa\":\"7269\",\"NombreEmpresa\":\"Gobernación Provincial de Talca\"},{\"CodigoEmpresa\":\"7063\",\"NombreEmpresa\":\"Gobernación Provincial de Tocopilla\"},{\"CodigoEmpresa\":\"7264\",\"NombreEmpresa\":\"Gobernación Provincial de Última Esperanza\"},{\"CodigoEmpresa\":\"7322\",\"NombreEmpresa\":\"Gobernación Provincial de Valdivia\"},{\"CodigoEmpresa\":\"7352\",\"NombreEmpresa\":\"Gobernación Provincial de Valparaíso\"},{\"CodigoEmpresa\":\"7140\",\"NombreEmpresa\":\"Gobernación Provincial del Bío-Bío\"},{\"CodigoEmpresa\":\"275314\",\"NombreEmpresa\":\"Gobernación Provincial del Tamarugal\"},{\"CodigoEmpresa\":\"7056\",\"NombreEmpresa\":\"Gobernación Provincial Melipilla\"},{\"CodigoEmpresa\":\"7495\",\"NombreEmpresa\":\"Gobernación Provincial San Felipe\"},{\"CodigoEmpresa\":\"7381\",\"NombreEmpresa\":\"Gobernación Provincial Tierra del Fuego\"},{\"CodigoEmpresa\":\"1163597\",\"NombreEmpresa\":\"Gobierno Provincial de Marga Marga\"},{\"CodigoEmpresa\":\"7199\",\"NombreEmpresa\":\"Gobierno Regional de Antofagasta\"},{\"CodigoEmpresa\":\"267965\",\"NombreEmpresa\":\"Gobierno Regional de Arica y Parinacota\"},{\"CodigoEmpresa\":\"7077\",\"NombreEmpresa\":\"GOBIERNO REGIONAL DE ATACAMA\"},{\"CodigoEmpresa\":\"7085\",\"NombreEmpresa\":\"Gobierno Regional de Aysén\"},{\"CodigoEmpresa\":\"6940\",\"NombreEmpresa\":\"Gobierno Regional de Coquimbo\"},{\"CodigoEmpresa\":\"7013\",\"NombreEmpresa\":\"Gobierno Regional de La Araucanía\"},{\"CodigoEmpresa\":\"7015\",\"NombreEmpresa\":\"Gobierno Regional de la Región del Bío-Bío\"},{\"CodigoEmpresa\":\"7207\",\"NombreEmpresa\":\"Gobierno Regional de Los Lagos\"},{\"CodigoEmpresa\":\"267799\",\"NombreEmpresa\":\"GOBIERNO REGIONAL DE LOS RIOS\"},{\"CodigoEmpresa\":\"7087\",\"NombreEmpresa\":\"GOBIERNO REGIONAL DE MAGALLANES Y ANTARTICA CHILEN\"},{\"CodigoEmpresa\":\"7084\",\"NombreEmpresa\":\"Gobierno Regional de Tarapacá\"},{\"CodigoEmpresa\":\"7172\",\"NombreEmpresa\":\"Gobierno Regional de Valparaíso\"},{\"CodigoEmpresa\":\"7222\",\"NombreEmpresa\":\"Gobierno Regional Metropolitano\"},{\"CodigoEmpresa\":\"7200\",\"NombreEmpresa\":\"GOBIERNO REGIONAL VI REGION DEL LI BERTADOR B O\\\\\"HIGGINS\"},{\"CodigoEmpresa\":\"7223\",\"NombreEmpresa\":\"GOBIERNO REGIONAL VII REGION\"},{\"CodigoEmpresa\":\"103933\",\"NombreEmpresa\":\"Hermanas Misioneras Franciscanas de Purulón\"},{\"CodigoEmpresa\":\"7403\",\"NombreEmpresa\":\"Hospital  Lonquimay\"},{\"CodigoEmpresa\":\"7472\",\"NombreEmpresa\":\"Hospital Andacollo\"},{\"CodigoEmpresa\":\"7398\",\"NombreEmpresa\":\"Hospital Arauco\"},{\"CodigoEmpresa\":\"7293\",\"NombreEmpresa\":\"HOSPITAL BARROS LUCO TRUDEAU\"},{\"CodigoEmpresa\":\"7393\",\"NombreEmpresa\":\"Hospital Base Osorno\"},{\"CodigoEmpresa\":\"7131\",\"NombreEmpresa\":\"Hospital Carahue\"},{\"CodigoEmpresa\":\"7494\",\"NombreEmpresa\":\"Hospital Carlos Cisternas de Calama\"},{\"CodigoEmpresa\":\"7256\",\"NombreEmpresa\":\"Hospital Cauquenes\"},{\"CodigoEmpresa\":\"7297\",\"NombreEmpresa\":\"HOSPITAL CLINICO DE MAGALLANES DR. LAUTARO NAVARRO AVARIA\"},{\"CodigoEmpresa\":\"1379869\",\"NombreEmpresa\":\"Hospital Clínico Metropolitano El Carmen Doctor Luis Valentín Ferrada\"},{\"CodigoEmpresa\":\"1375151\",\"NombreEmpresa\":\"HOSPITAL CLINICO METROPOLITANO LA FLORIDA DRA ELOISA DIAZ INSUNZA\"},{\"CodigoEmpresa\":\"7326\",\"NombreEmpresa\":\"Hospital Clínico San Borja Arriarán\"},{\"CodigoEmpresa\":\"7480\",\"NombreEmpresa\":\"Hospital Cochrane\"},{\"CodigoEmpresa\":\"7421\",\"NombreEmpresa\":\"Hospital Coinco\"},{\"CodigoEmpresa\":\"7462\",\"NombreEmpresa\":\"Hospital Collipulli\"},{\"CodigoEmpresa\":\"7330\",\"NombreEmpresa\":\"Hospital Combarbalá\"},{\"CodigoEmpresa\":\"7137\",\"NombreEmpresa\":\"HOSPITAL COMUNITARIO DE SALUD FAMILIAR DE BULNES\"},{\"CodigoEmpresa\":\"7400\",\"NombreEmpresa\":\"Hospital Contulmo\"},{\"CodigoEmpresa\":\"7340\",\"NombreEmpresa\":\"Hospital Coyhaique\"},{\"CodigoEmpresa\":\"7399\",\"NombreEmpresa\":\"Hospital Curanilahue\"},{\"CodigoEmpresa\":\"7452\",\"NombreEmpresa\":\"Hospital Curicó\"},{\"CodigoEmpresa\":\"1286160\",\"NombreEmpresa\":\"HOSPITAL DE CASTRO DR. AUGUSTO RIFFART\"},{\"CodigoEmpresa\":\"7279\",\"NombreEmpresa\":\"Hospital de Chanco\"},{\"CodigoEmpresa\":\"7413\",\"NombreEmpresa\":\"Hospital de Chañaral\"},{\"CodigoEmpresa\":\"7441\",\"NombreEmpresa\":\"Hospital de Chimbarongo\"},{\"CodigoEmpresa\":\"7277\",\"NombreEmpresa\":\"Hospital de Constitución\"},{\"CodigoEmpresa\":\"7411\",\"NombreEmpresa\":\"Hospital de Copiapó\"},{\"CodigoEmpresa\":\"7426\",\"NombreEmpresa\":\"Hospital de Corral\"},{\"CodigoEmpresa\":\"7291\",\"NombreEmpresa\":\"Hospital de Cunco\"},{\"CodigoEmpresa\":\"7455\",\"NombreEmpresa\":\"Hospital de Curacaví\"},{\"CodigoEmpresa\":\"7278\",\"NombreEmpresa\":\"Hospital de Curepto\"},{\"CodigoEmpresa\":\"7414\",\"NombreEmpresa\":\"Hospital de Huasco\"},{\"CodigoEmpresa\":\"7468\",\"NombreEmpresa\":\"Hospital de Illapel\"},{\"CodigoEmpresa\":\"7429\",\"NombreEmpresa\":\"Hospital De la Unión\"},{\"CodigoEmpresa\":\"7424\",\"NombreEmpresa\":\"Hospital de Lanco\"},{\"CodigoEmpresa\":\"7439\",\"NombreEmpresa\":\"Hospital de Litueche\"},{\"CodigoEmpresa\":\"7447\",\"NombreEmpresa\":\"Hospital de Lolol\"},{\"CodigoEmpresa\":\"7156\",\"NombreEmpresa\":\"Hospital de Loncoche\"},{\"CodigoEmpresa\":\"7425\",\"NombreEmpresa\":\"Hospital de los Lagos\"},{\"CodigoEmpresa\":\"7442\",\"NombreEmpresa\":\"Hospital de Marchigue\"},{\"CodigoEmpresa\":\"7370\",\"NombreEmpresa\":\"Hospital de Mejillones\"},{\"CodigoEmpresa\":\"7458\",\"NombreEmpresa\":\"Hospital de Melipilla\"},{\"CodigoEmpresa\":\"1238659\",\"NombreEmpresa\":\"Hospital de Misión San Juan de la Costa\"},{\"CodigoEmpresa\":\"7280\",\"NombreEmpresa\":\"Hospital de MOLINA\"},{\"CodigoEmpresa\":\"7434\",\"NombreEmpresa\":\"Hospital de Mulchén\"},{\"CodigoEmpresa\":\"7445\",\"NombreEmpresa\":\"Hospital de Nancagua\"},{\"CodigoEmpresa\":\"7045\",\"NombreEmpresa\":\"Hospital de Niños Roberto del Rio\"},{\"CodigoEmpresa\":\"7422\",\"NombreEmpresa\":\"Hospital de Paillaco\"},{\"CodigoEmpresa\":\"7459\",\"NombreEmpresa\":\"Hospital de Peñaflor\"},{\"CodigoEmpresa\":\"7444\",\"NombreEmpresa\":\"Hospital de Peumo\"},{\"CodigoEmpresa\":\"7287\",\"NombreEmpresa\":\"HOSPITAL DE PUERTO OCTAY\"},{\"CodigoEmpresa\":\"7465\",\"NombreEmpresa\":\"Hospital de Purén\"},{\"CodigoEmpresa\":\"7327\",\"NombreEmpresa\":\"Hospital de Purranque\"},{\"CodigoEmpresa\":\"7303\",\"NombreEmpresa\":\"Hospital de Quirihue\"},{\"CodigoEmpresa\":\"7440\",\"NombreEmpresa\":\"Hospital de Rengo\"},{\"CodigoEmpresa\":\"7323\",\"NombreEmpresa\":\"Hospital de Salamanca\"},{\"CodigoEmpresa\":\"7448\",\"NombreEmpresa\":\"Hospital de San Fernando\"},{\"CodigoEmpresa\":\"7443\",\"NombreEmpresa\":\"Hospital de San Vicente de Tagua Tagua\"},{\"CodigoEmpresa\":\"7314\",\"NombreEmpresa\":\"Hospital de Santa Cruz\"},{\"CodigoEmpresa\":\"7457\",\"NombreEmpresa\":\"Hospital de Talagante\"},{\"CodigoEmpresa\":\"7391\",\"NombreEmpresa\":\"Hospital de Taltal\"},{\"CodigoEmpresa\":\"7460\",\"NombreEmpresa\":\"HOSPITAL DE URGENCIA ASISTENCIA PUBLICA DR ALEJANDRO DEL RIO\"},{\"CodigoEmpresa\":\"1238663\",\"NombreEmpresa\":\"Hospital del Perpetuo Socorro de Quilacahuin\"},{\"CodigoEmpresa\":\"7428\",\"NombreEmpresa\":\"Hospital del Salvador\"},{\"CodigoEmpresa\":\"7415\",\"NombreEmpresa\":\"Hospital Diego de Almagro\"},{\"CodigoEmpresa\":\"7046\",\"NombreEmpresa\":\"Hospital Doctor Hernán Henríquez Aravena\"},{\"CodigoEmpresa\":\"6918\",\"NombreEmpresa\":\"Hospital Doctor Luis Calvo Mackenna\"},{\"CodigoEmpresa\":\"7491\",\"NombreEmpresa\":\"Hospital Dr Victor Hugo  Möll de Cabildo\"},{\"CodigoEmpresa\":\"7289\",\"NombreEmpresa\":\"Hospital Dr. Abraham Godoy Peña\"},{\"CodigoEmpresa\":\"7310\",\"NombreEmpresa\":\"Hospital Dr. Augusto Essmann Burgos\"},{\"CodigoEmpresa\":\"7383\",\"NombreEmpresa\":\"Hospital Dr. Felix Bulnes Cerda\"},{\"CodigoEmpresa\":\"7324\",\"NombreEmpresa\":\"Hospital Dr. GGB\"},{\"CodigoEmpresa\":\"6936\",\"NombreEmpresa\":\"Hospital Dr. Gustavo Fricke\"},{\"CodigoEmpresa\":\"7386\",\"NombreEmpresa\":\"Hospital Dr. Marcos Chamorro Iglesias\"},{\"CodigoEmpresa\":\"7344\",\"NombreEmpresa\":\"Hospital Dr. Mario Sánchez Vergara de La Calera\"},{\"CodigoEmpresa\":\"7139\",\"NombreEmpresa\":\"Hospital El Carmen\"},{\"CodigoEmpresa\":\"7390\",\"NombreEmpresa\":\"Hospital El Pino\"},{\"CodigoEmpresa\":\"7475\",\"NombreEmpresa\":\"Hospital Florida\"},{\"CodigoEmpresa\":\"7290\",\"NombreEmpresa\":\"Hospital Galvarino\"},{\"CodigoEmpresa\":\"7490\",\"NombreEmpresa\":\"Hospital Geriátrico Paz de la Tarde\"},{\"CodigoEmpresa\":\"7047\",\"NombreEmpresa\":\"Hospital Gorbea\"},{\"CodigoEmpresa\":\"7042\",\"NombreEmpresa\":\"Hospital Herminda Martin\"},{\"CodigoEmpresa\":\"7255\",\"NombreEmpresa\":\"Hospital Hualañé\"},{\"CodigoEmpresa\":\"7389\",\"NombreEmpresa\":\"Hospital Huepil\"},{\"CodigoEmpresa\":\"7401\",\"NombreEmpresa\":\"Hospital Intercultural Kallvu Llanka\"},{\"CodigoEmpresa\":\"7487\",\"NombreEmpresa\":\"Hospital La Ligua\"},{\"CodigoEmpresa\":\"7312\",\"NombreEmpresa\":\"Hospital La Serena\"},{\"CodigoEmpresa\":\"7464\",\"NombreEmpresa\":\"Hospital Laja\"},{\"CodigoEmpresa\":\"7419\",\"NombreEmpresa\":\"Hospital Las Higueras\"},{\"CodigoEmpresa\":\"7402\",\"NombreEmpresa\":\"Hospital Lebu\"},{\"CodigoEmpresa\":\"7258\",\"NombreEmpresa\":\"Hospital Linares\"},{\"CodigoEmpresa\":\"7481\",\"NombreEmpresa\":\"Hospital Lota\"},{\"CodigoEmpresa\":\"1076658\",\"NombreEmpresa\":\"HOSPITAL METROPOLITANO DE SANTIAGO\"},{\"CodigoEmpresa\":\"7388\",\"NombreEmpresa\":\"Hospital Nacimiento\"},{\"CodigoEmpresa\":\"7417\",\"NombreEmpresa\":\"Hospital Ovalle\"},{\"CodigoEmpresa\":\"7331\",\"NombreEmpresa\":\"Hospital Padre Alberto Hurtado\"},{\"CodigoEmpresa\":\"102393\",\"NombreEmpresa\":\"HOSPITAL PANGUIPULLI\"},{\"CodigoEmpresa\":\"7259\",\"NombreEmpresa\":\"Hospital Parral\"},{\"CodigoEmpresa\":\"7053\",\"NombreEmpresa\":\"Hospital Pedro Morales C.\"},{\"CodigoEmpresa\":\"7446\",\"NombreEmpresa\":\"Hospital Penco - Lirquen\"},{\"CodigoEmpresa\":\"7489\",\"NombreEmpresa\":\"Hospital Peñablanca\"},{\"CodigoEmpresa\":\"7343\",\"NombreEmpresa\":\"Hospital Petorca\"},{\"CodigoEmpresa\":\"7435\",\"NombreEmpresa\":\"Hospital Pichidegua\"},{\"CodigoEmpresa\":\"7436\",\"NombreEmpresa\":\"Hospital Pichilemu\"},{\"CodigoEmpresa\":\"7048\",\"NombreEmpresa\":\"Hospital Pitrufquén\"},{\"CodigoEmpresa\":\"7412\",\"NombreEmpresa\":\"Hospital Provincial del Huasco Monseñor Fernando Ariztia Ruiz\"},{\"CodigoEmpresa\":\"1216633\",\"NombreEmpresa\":\"HOSPITAL PSIQUIATRICO DR. PHILIPPE PINEL PUTAENDO\"},{\"CodigoEmpresa\":\"7427\",\"NombreEmpresa\":\"Hospital Psiquiátrico El Peral\"},{\"CodigoEmpresa\":\"7335\",\"NombreEmpresa\":\"Hospital Puerto Aysén\"},{\"CodigoEmpresa\":\"7476\",\"NombreEmpresa\":\"Hospital Puerto Cisnes\"},{\"CodigoEmpresa\":\"127018\",\"NombreEmpresa\":\"HOSPITAL PUERTO MONTT SERVICIO DE SALUD DEL RELONCAVI\"},{\"CodigoEmpresa\":\"7307\",\"NombreEmpresa\":\"Hospital Puerto Saavedra\"},{\"CodigoEmpresa\":\"7485\",\"NombreEmpresa\":\"Hospital Quilpué\"},{\"CodigoEmpresa\":\"7348\",\"NombreEmpresa\":\"Hospital Quintero\"},{\"CodigoEmpresa\":\"7423\",\"NombreEmpresa\":\"Hospital Río Bueno\"},{\"CodigoEmpresa\":\"7470\",\"NombreEmpresa\":\"Hospital Rio Negro\"},{\"CodigoEmpresa\":\"1215262\",\"NombreEmpresa\":\"Hospital San Antonio de Putaendo\"},{\"CodigoEmpresa\":\"7469\",\"NombreEmpresa\":\"Hospital San Carlos\"},{\"CodigoEmpresa\":\"7262\",\"NombreEmpresa\":\"Hospital San Javier\"},{\"CodigoEmpresa\":\"7406\",\"NombreEmpresa\":\"Hospital San José\"},{\"CodigoEmpresa\":\"1214332\",\"NombreEmpresa\":\"Hospital San Juan de Dios de Los Andes\"},{\"CodigoEmpresa\":\"7405\",\"NombreEmpresa\":\"Hospital San Luis de Buin\"},{\"CodigoEmpresa\":\"7345\",\"NombreEmpresa\":\"Hospital San Martín de Quillota\"},{\"CodigoEmpresa\":\"7477\",\"NombreEmpresa\":\"Hospital Sanatorio San José de Maipo\"},{\"CodigoEmpresa\":\"7404\",\"NombreEmpresa\":\"Hospital Santa Barbara\"},{\"CodigoEmpresa\":\"7449\",\"NombreEmpresa\":\"Hospital Santa Filomena de Graneros\"},{\"CodigoEmpresa\":\"7318\",\"NombreEmpresa\":\"Hospital Santa Juana\"},{\"CodigoEmpresa\":\"7130\",\"NombreEmpresa\":\"Hospital Santiago Oriente Dr. Luis Tisne Brousse\"},{\"CodigoEmpresa\":\"7486\",\"NombreEmpresa\":\"Hospital Santo Tomás de Limache\"},{\"CodigoEmpresa\":\"7261\",\"NombreEmpresa\":\"Hospital Teno\"},{\"CodigoEmpresa\":\"7274\",\"NombreEmpresa\":\"Hospital Til - Til\"},{\"CodigoEmpresa\":\"7385\",\"NombreEmpresa\":\"Hospital Tocopilla\"},{\"CodigoEmpresa\":\"7062\",\"NombreEmpresa\":\"Hospital Toltén\"},{\"CodigoEmpresa\":\"7384\",\"NombreEmpresa\":\"Hospital Traiguén\"},{\"CodigoEmpresa\":\"7288\",\"NombreEmpresa\":\"Hospital Victoria\"},{\"CodigoEmpresa\":\"7049\",\"NombreEmpresa\":\"Hospital Vilcún\"},{\"CodigoEmpresa\":\"7132\",\"NombreEmpresa\":\"Hospital Villarrica\"},{\"CodigoEmpresa\":\"7397\",\"NombreEmpresa\":\"Hospital Yumbel\"},{\"CodigoEmpresa\":\"100156\",\"NombreEmpresa\":\"I MUNICIPALIDAD DE ANGOL\"},{\"CodigoEmpresa\":\"87653\",\"NombreEmpresa\":\"I MUNICIPALIDAD DE ANTOFAGASTA\"},{\"CodigoEmpresa\":\"100049\",\"NombreEmpresa\":\"I MUNICIPALIDAD DE AYSEN\"},{\"CodigoEmpresa\":\"86917\",\"NombreEmpresa\":\"I MUNICIPALIDAD DE CALAMA\"},{\"CodigoEmpresa\":\"7241\",\"NombreEmpresa\":\"I MUNICIPALIDAD DE CERRILLOS\"},{\"CodigoEmpresa\":\"154782\",\"NombreEmpresa\":\"I MUNICIPALIDAD DE CHILE CHICO\"},{\"CodigoEmpresa\":\"84958\",\"NombreEmpresa\":\"I MUNICIPALIDAD DE CONCHALI\"},{\"CodigoEmpresa\":\"86872\",\"NombreEmpresa\":\"I MUNICIPALIDAD DE COPIAPO\"},{\"CodigoEmpresa\":\"116298\",\"NombreEmpresa\":\"I MUNICIPALIDAD DE EL QUISCO\"},{\"CodigoEmpresa\":\"116944\",\"NombreEmpresa\":\"I MUNICIPALIDAD DE EMPEDRADO\"},{\"CodigoEmpresa\":\"7496\",\"NombreEmpresa\":\"I MUNICIPALIDAD DE LA COMUNA DE EL BOSQUE\"},{\"CodigoEmpresa\":\"113255\",\"NombreEmpresa\":\"I MUNICIPALIDAD DE LA CRUZ\"},{\"CodigoEmpresa\":\"83825\",\"NombreEmpresa\":\"I MUNICIPALIDAD DE LA PINTANA\"},{\"CodigoEmpresa\":\"116296\",\"NombreEmpresa\":\"I MUNICIPALIDAD DE LAS CABRAS\"},{\"CodigoEmpresa\":\"7064\",\"NombreEmpresa\":\"I MUNICIPALIDAD DE LLANQUIHUE\"},{\"CodigoEmpresa\":\"118620\",\"NombreEmpresa\":\"I MUNICIPALIDAD DE LOS ALAMOS\"},{\"CodigoEmpresa\":\"112924\",\"NombreEmpresa\":\"I MUNICIPALIDAD DE MONTEPATRIA\"},{\"CodigoEmpresa\":\"117406\",\"NombreEmpresa\":\"I MUNICIPALIDAD DE PADRE HURTADO\"},{\"CodigoEmpresa\":\"88102\",\"NombreEmpresa\":\"I MUNICIPALIDAD DE PROVIDENCIA\"},{\"CodigoEmpresa\":\"87388\",\"NombreEmpresa\":\"I MUNICIPALIDAD DE PUENTE ALTO\"},{\"CodigoEmpresa\":\"86507\",\"NombreEmpresa\":\"I MUNICIPALIDAD DE PUERTO MONTT\"},{\"CodigoEmpresa\":\"98280\",\"NombreEmpresa\":\"I MUNICIPALIDAD DE PUTAENDO\"},{\"CodigoEmpresa\":\"88203\",\"NombreEmpresa\":\"I MUNICIPALIDAD DE QUILLOTA\"},{\"CodigoEmpresa\":\"93774\",\"NombreEmpresa\":\"I MUNICIPALIDAD DE SAN CLEMENTE\"},{\"CodigoEmpresa\":\"142855\",\"NombreEmpresa\":\"I MUNICIPALIDAD DE SAN PEDRO\"},{\"CodigoEmpresa\":\"113428\",\"NombreEmpresa\":\"I MUNICIPALIDAD DE SAN PEDRO DE ATACAMA\"},{\"CodigoEmpresa\":\"98443\",\"NombreEmpresa\":\"I MUNICIPALIDAD DE TOME\"},{\"CodigoEmpresa\":\"114395\",\"NombreEmpresa\":\"I MUNICIPALIDAD DE TUCAPEL\"},{\"CodigoEmpresa\":\"116399\",\"NombreEmpresa\":\"I MUNICIPALIDAD DE VICTORIA\"},{\"CodigoEmpresa\":\"84152\",\"NombreEmpresa\":\"I MUNICIPALIDAD VALDIVIA\"},{\"CodigoEmpresa\":\"114393\",\"NombreEmpresa\":\"I.  MUNICIPALIDAD CURACO  DE VELEZ\"},{\"CodigoEmpresa\":\"7328\",\"NombreEmpresa\":\"I. Municipalidad  de Alto del Carmen\"},{\"CodigoEmpresa\":\"121539\",\"NombreEmpresa\":\"I. Municipalidad de Calle Larga\"},{\"CodigoEmpresa\":\"113614\",\"NombreEmpresa\":\"I. MUNICIPALIDAD DE CASABLANCA\"},{\"CodigoEmpresa\":\"88254\",\"NombreEmpresa\":\"I. Municipalidad de Chillán\"},{\"CodigoEmpresa\":\"99322\",\"NombreEmpresa\":\"I. MUNICIPALIDAD DE COLINA\"},{\"CodigoEmpresa\":\"87901\",\"NombreEmpresa\":\"I. MUNICIPALIDAD DE COQUIMBO\"},{\"CodigoEmpresa\":\"100448\",\"NombreEmpresa\":\"I. Municipalidad de Coronel\"},{\"CodigoEmpresa\":\"99105\",\"NombreEmpresa\":\"I. MUNICIPALIDAD DE INDEPENDENCIA\"},{\"CodigoEmpresa\":\"114398\",\"NombreEmpresa\":\"I. Municipalidad de Licantén\"},{\"CodigoEmpresa\":\"86518\",\"NombreEmpresa\":\"I. MUNICIPALIDAD DE LO ESPEJO\"},{\"CodigoEmpresa\":\"87373\",\"NombreEmpresa\":\"I. MUNICIPALIDAD DE LO PRADO\"},{\"CodigoEmpresa\":\"101002\",\"NombreEmpresa\":\"I. Municipalidad de Los Andes\"},{\"CodigoEmpresa\":\"115166\",\"NombreEmpresa\":\"I. MUNICIPALIDAD DE PENCAHUE\"},{\"CodigoEmpresa\":\"102868\",\"NombreEmpresa\":\"I. Municipalidad de Puerto Varas\"},{\"CodigoEmpresa\":\"87633\",\"NombreEmpresa\":\"I. MUNICIPALIDAD DE QUILPUE\"},{\"CodigoEmpresa\":\"114918\",\"NombreEmpresa\":\"I. MUNICIPALIDAD DE RINCONADA\"},{\"CodigoEmpresa\":\"7367\",\"NombreEmpresa\":\"I. Municipalidad de Río Negro\"},{\"CodigoEmpresa\":\"111960\",\"NombreEmpresa\":\"I. Municipalidad de San Pablo\"},{\"CodigoEmpresa\":\"99765\",\"NombreEmpresa\":\"I. MUNICIPALIDAD DE TALAGANTE\"},{\"CodigoEmpresa\":\"84480\",\"NombreEmpresa\":\"I. MUNICIPALIDAD DE TALCA\"},{\"CodigoEmpresa\":\"115167\",\"NombreEmpresa\":\"I. MUNICIPALIDAD DE TOCOPILLA\"},{\"CodigoEmpresa\":\"86491\",\"NombreEmpresa\":\"I. MUNICIPALIDAD DE VALLENAR\"},{\"CodigoEmpresa\":\"94315\",\"NombreEmpresa\":\"I. MUNICIPALIDAD POZO ALMONTE\"},{\"CodigoEmpresa\":\"86664\",\"NombreEmpresa\":\"I.MUNICIPALIDAD DE CERRO NAVIA\"},{\"CodigoEmpresa\":\"92414\",\"NombreEmpresa\":\"I.MUNICIPALIDAD DE CHEPICA\"},{\"CodigoEmpresa\":\"113254\",\"NombreEmpresa\":\"I.Municipalidad de Coinco\"},{\"CodigoEmpresa\":\"87382\",\"NombreEmpresa\":\"I.MUNICIPALIDAD DE CONCEPCION\"},{\"CodigoEmpresa\":\"94458\",\"NombreEmpresa\":\"I.MUNICIPALIDAD DE CONCON\"},{\"CodigoEmpresa\":\"87838\",\"NombreEmpresa\":\"I.Municipalidad de Curicó\"},{\"CodigoEmpresa\":\"87824\",\"NombreEmpresa\":\"I.MUNICIPALIDAD DE ESTACION CENTRAL\"},{\"CodigoEmpresa\":\"84300\",\"NombreEmpresa\":\"I.MUNICIPALIDAD DE MACUL\"},{\"CodigoEmpresa\":\"115304\",\"NombreEmpresa\":\"I.MUNICIPALIDAD DE MARCHIGUE\"},{\"CodigoEmpresa\":\"120798\",\"NombreEmpresa\":\"I.MUNICIPALIDAD DE MARIA PINTO\"},{\"CodigoEmpresa\":\"99101\",\"NombreEmpresa\":\"I.Municipalidad de Mostazal\"},{\"CodigoEmpresa\":\"87172\",\"NombreEmpresa\":\"I.MUNICIPALIDAD DE PEÑALOLEN\"},{\"CodigoEmpresa\":\"113913\",\"NombreEmpresa\":\"I.MUNICIPALIDAD DE SAN RAFAEL\"},{\"CodigoEmpresa\":\"87399\",\"NombreEmpresa\":\"I.MUNICIPALIDAD DE VIÑA DEL MAR\"},{\"CodigoEmpresa\":\"115609\",\"NombreEmpresa\":\"IIustre Municipalidad de Malloa\"},{\"CodigoEmpresa\":\"86580\",\"NombreEmpresa\":\"IL. MUNICIPALIDAD DE PUNTA ARENAS\"},{\"CodigoEmpresa\":\"7356\",\"NombreEmpresa\":\"ILUSTRE MUNICIPALIDAD  DE SAGRADA FAMILIA\"},{\"CodigoEmpresa\":\"182336\",\"NombreEmpresa\":\"Ilustre Municipalidad Alto Bio Bio\"},{\"CodigoEmpresa\":\"7294\",\"NombreEmpresa\":\"Ilustre Municipalidad de Algarrobo\"},{\"CodigoEmpresa\":\"111124\",\"NombreEmpresa\":\"Ilustre Municipalidad de Alhue\"},{\"CodigoEmpresa\":\"119639\",\"NombreEmpresa\":\"Ilustre Municipalidad de Andacollo\"},{\"CodigoEmpresa\":\"119484\",\"NombreEmpresa\":\"ILUSTRE MUNICIPALIDAD DE ANTUCO\"},{\"CodigoEmpresa\":\"7050\",\"NombreEmpresa\":\"Ilustre Municipalidad de Arauco\"},{\"CodigoEmpresa\":\"86624\",\"NombreEmpresa\":\"ILUSTRE MUNICIPALIDAD DE ARICA\"},{\"CodigoEmpresa\":\"118069\",\"NombreEmpresa\":\"Ilustre municipalidad de Bulnes\"},{\"CodigoEmpresa\":\"115459\",\"NombreEmpresa\":\"Ilustre Municipalidad de Cabildo\"},{\"CodigoEmpresa\":\"116407\",\"NombreEmpresa\":\"Ilustre Municipalidad de Cabo de Hornos\"},{\"CodigoEmpresa\":\"120186\",\"NombreEmpresa\":\"Ilustre Municipalidad de Cabrero\"},{\"CodigoEmpresa\":\"115011\",\"NombreEmpresa\":\"Ilustre Municipalidad de Calbuco\"},{\"CodigoEmpresa\":\"7364\",\"NombreEmpresa\":\"Ilustre Municipalidad de Caldera\"},{\"CodigoEmpresa\":\"116219\",\"NombreEmpresa\":\"Ilustre Municipalidad de Calera de Tango\"},{\"CodigoEmpresa\":\"294421\",\"NombreEmpresa\":\"Ilustre Municipalidad de Camarones\"},{\"CodigoEmpresa\":\"119487\",\"NombreEmpresa\":\"Ilustre Municipalidad de Camiña\"},{\"CodigoEmpresa\":\"84473\",\"NombreEmpresa\":\"ILUSTRE MUNICIPALIDAD DE CANELA\"},{\"CodigoEmpresa\":\"119488\",\"NombreEmpresa\":\"Ilustre Municipalidad de Cañete\"},{\"CodigoEmpresa\":\"100127\",\"NombreEmpresa\":\"ILUSTRE MUNICIPALIDAD DE CASTRO\"},{\"CodigoEmpresa\":\"129737\",\"NombreEmpresa\":\"Ilustre Municipalidad de Catemu\"},{\"CodigoEmpresa\":\"7351\",\"NombreEmpresa\":\"Ilustre Municipalidad de Cauquenes\"},{\"CodigoEmpresa\":\"114392\",\"NombreEmpresa\":\"ILUSTRE MUNICIPALIDAD DE CHAITEN\"},{\"CodigoEmpresa\":\"7501\",\"NombreEmpresa\":\"Ilustre Municipalidad de Chanco\"},{\"CodigoEmpresa\":\"109196\",\"NombreEmpresa\":\"ILUSTRE MUNICIPALIDAD DE CHAÑARAL\"},{\"CodigoEmpresa\":\"7362\",\"NombreEmpresa\":\"Ilustre Municipalidad de Chillán\"},{\"CodigoEmpresa\":\"116221\",\"NombreEmpresa\":\"Ilustre Municipalidad de Chillan Viejo\"},{\"CodigoEmpresa\":\"116404\",\"NombreEmpresa\":\"Ilustre Municipalidad de Chimbarongo\"},{\"CodigoEmpresa\":\"165105\",\"NombreEmpresa\":\"Ilustre Municipalidad de Cholchol\"},{\"CodigoEmpresa\":\"115168\",\"NombreEmpresa\":\"ILUSTRE MUNICIPALIDAD DE CHONCHI\"},{\"CodigoEmpresa\":\"116747\",\"NombreEmpresa\":\"Ilustre Municipalidad de Cisnes\"},{\"CodigoEmpresa\":\"114925\",\"NombreEmpresa\":\"ILUSTRE MUNICIPALIDAD DE COBQUECURA\"},{\"CodigoEmpresa\":\"182424\",\"NombreEmpresa\":\"Ilustre Municipalidad de Cochamo\"},{\"CodigoEmpresa\":\"116942\",\"NombreEmpresa\":\"Ilustre Municipalidad de Cochrane\"},{\"CodigoEmpresa\":\"165106\",\"NombreEmpresa\":\"Ilustre Municipalidad de Codegua\"},{\"CodigoEmpresa\":\"116742\",\"NombreEmpresa\":\"Ilustre Municipalidad de Coelemu\"},{\"CodigoEmpresa\":\"7146\",\"NombreEmpresa\":\"Ilustre Municipalidad de Coihueco\"},{\"CodigoEmpresa\":\"124195\",\"NombreEmpresa\":\"Ilustre Municipalidad de Colbún\"},{\"CodigoEmpresa\":\"1053458\",\"NombreEmpresa\":\"ILUSTRE MUNICIPALIDAD DE COLCHANE\"},{\"CodigoEmpresa\":\"113853\",\"NombreEmpresa\":\"Ilustre Municipalidad de Collipulli\"},{\"CodigoEmpresa\":\"119266\",\"NombreEmpresa\":\"Ilustre Municipalidad de Coltauco\"},{\"CodigoEmpresa\":\"102316\",\"NombreEmpresa\":\"ILUSTRE MUNICIPALIDAD DE CONSTITUCION\"},{\"CodigoEmpresa\":\"141884\",\"NombreEmpresa\":\"Ilustre Municipalidad de Contulmo\"},{\"CodigoEmpresa\":\"7071\",\"NombreEmpresa\":\"Ilustre Municipalidad de Coyhaique\"},{\"CodigoEmpresa\":\"129738\",\"NombreEmpresa\":\"Ilustre Municipalidad de Cunco\"},{\"CodigoEmpresa\":\"121613\",\"NombreEmpresa\":\"Ilustre Municipalidad de Curacautín\"},{\"CodigoEmpresa\":\"125602\",\"NombreEmpresa\":\"Ilustre Municipalidad de Curacaví\"},{\"CodigoEmpresa\":\"127036\",\"NombreEmpresa\":\"Ilustre Municipalidad de Curanilahue\"},{\"CodigoEmpresa\":\"118093\",\"NombreEmpresa\":\"Ilustre Municipalidad de Curarrehue\"},{\"CodigoEmpresa\":\"133311\",\"NombreEmpresa\":\"Ilustre Municipalidad de Curepto\"},{\"CodigoEmpresa\":\"7454\",\"NombreEmpresa\":\"Ilustre Municipalidad de Diego de Almagro\"},{\"CodigoEmpresa\":\"123784\",\"NombreEmpresa\":\"Ilustre Municipalidad de El Carmen\"},{\"CodigoEmpresa\":\"116741\",\"NombreEmpresa\":\"ILUSTRE MUNICIPALIDAD DE EL MONTE\"},{\"CodigoEmpresa\":\"7066\",\"NombreEmpresa\":\"Ilustre Municipalidad de El Tabo\"},{\"CodigoEmpresa\":\"132741\",\"NombreEmpresa\":\"Ilustre Municipalidad de Ercilla\"},{\"CodigoEmpresa\":\"115285\",\"NombreEmpresa\":\"Ilustre Municipalidad de Florida\"},{\"CodigoEmpresa\":\"118089\",\"NombreEmpresa\":\"Ilustre Municipalidad de Freire\"},{\"CodigoEmpresa\":\"135567\",\"NombreEmpresa\":\"Ilustre Municipalidad de Freirina\"},{\"CodigoEmpresa\":\"119651\",\"NombreEmpresa\":\"Ilustre Municipalidad de Fresia\"},{\"CodigoEmpresa\":\"84478\",\"NombreEmpresa\":\"ILUSTRE MUNICIPALIDAD DE FRUTILLAR\"},{\"CodigoEmpresa\":\"118068\",\"NombreEmpresa\":\"Ilustre Municipalidad de Futaleufu\"},{\"CodigoEmpresa\":\"106880\",\"NombreEmpresa\":\"Ilustre Municipalidad de Futrono\"},{\"CodigoEmpresa\":\"124203\",\"NombreEmpresa\":\"Ilustre Municipalidad de Galvarino\"},{\"CodigoEmpresa\":\"118859\",\"NombreEmpresa\":\"Ilustre Municipalidad de General Lagos\"},{\"CodigoEmpresa\":\"148507\",\"NombreEmpresa\":\"Ilustre Municipalidad de Graneros\"},{\"CodigoEmpresa\":\"165107\",\"NombreEmpresa\":\"Ilustre Municipalidad de Guaitecas\"},{\"CodigoEmpresa\":\"116733\",\"NombreEmpresa\":\"Ilustre Municipalidad de Hijuelas\"},{\"CodigoEmpresa\":\"106170\",\"NombreEmpresa\":\"ILUSTRE MUNICIPALIDAD DE HUALAIHUE\"},{\"CodigoEmpresa\":\"118855\",\"NombreEmpresa\":\"Ilustre Municipalidad de Hualañe\"},{\"CodigoEmpresa\":\"123786\",\"NombreEmpresa\":\"Ilustre Municipalidad de Hualpen\"},{\"CodigoEmpresa\":\"140867\",\"NombreEmpresa\":\"Ilustre Municipalidad de Hualqui\"},{\"CodigoEmpresa\":\"116946\",\"NombreEmpresa\":\"ILUSTRE MUNICIPALIDAD DE HUARA\"},{\"CodigoEmpresa\":\"116406\",\"NombreEmpresa\":\"Ilustre Municipalidad de Huasco\"},{\"CodigoEmpresa\":\"115164\",\"NombreEmpresa\":\"ILUSTRE MUNICIPALIDAD DE ILLAPEL\"},{\"CodigoEmpresa\":\"87175\",\"NombreEmpresa\":\"ILUSTRE MUNICIPALIDAD DE IQUIQUE\"},{\"CodigoEmpresa\":\"119852\",\"NombreEmpresa\":\"Ilustre Municipalidad de Isla de Pascua\"},{\"CodigoEmpresa\":\"108932\",\"NombreEmpresa\":\"ILUSTRE MUNICIPALIDAD DE JUAN FERNANDEZ\"},{\"CodigoEmpresa\":\"115185\",\"NombreEmpresa\":\"Ilustre Municipalidad de La Calera\"},{\"CodigoEmpresa\":\"100488\",\"NombreEmpresa\":\"Ilustre Municipalidad de La Cisterna\"},{\"CodigoEmpresa\":\"165285\",\"NombreEmpresa\":\"Ilustre Municipalidad de La Estrella\"},{\"CodigoEmpresa\":\"112097\",\"NombreEmpresa\":\"ILUSTRE MUNICIPALIDAD DE LA GRANJA\"},{\"CodigoEmpresa\":\"116410\",\"NombreEmpresa\":\"Ilustre Municipalidad de La Higuera\"},{\"CodigoEmpresa\":\"100648\",\"NombreEmpresa\":\"ILUSTRE MUNICIPALIDAD DE LA LIGUA\"},{\"CodigoEmpresa\":\"7366\",\"NombreEmpresa\":\"Ilustre Municipalidad de La Reina\"},{\"CodigoEmpresa\":\"87976\",\"NombreEmpresa\":\"ILUSTRE MUNICIPALIDAD DE LA SERENA\"},{\"CodigoEmpresa\":\"114725\",\"NombreEmpresa\":\"Ilustre Municipalidad de La Unión\"},{\"CodigoEmpresa\":\"113735\",\"NombreEmpresa\":\"ILUSTRE MUNICIPALIDAD DE LAGO RANCO\"},{\"CodigoEmpresa\":\"123529\",\"NombreEmpresa\":\"Ilustre Municipalidad de Lago Verde\"},{\"CodigoEmpresa\":\"119999\",\"NombreEmpresa\":\"Ilustre Municipalidad de Laguna Blanca\"},{\"CodigoEmpresa\":\"116405\",\"NombreEmpresa\":\"Ilustre Municipalidad de Laja\"},{\"CodigoEmpresa\":\"118067\",\"NombreEmpresa\":\"Ilustre Municipalidad de Lampa\"},{\"CodigoEmpresa\":\"106876\",\"NombreEmpresa\":\"Ilustre Municipalidad de Lanco\"},{\"CodigoEmpresa\":\"124577\",\"NombreEmpresa\":\"Ilustre Municipalidad de Lautaro\"},{\"CodigoEmpresa\":\"118096\",\"NombreEmpresa\":\"Ilustre Municipalidad de Lebu\"},{\"CodigoEmpresa\":\"7492\",\"NombreEmpresa\":\"Ilustre Municipalidad de Limache\"},{\"CodigoEmpresa\":\"86545\",\"NombreEmpresa\":\"ILUSTRE MUNICIPALIDAD DE LINARES\"},{\"CodigoEmpresa\":\"7365\",\"NombreEmpresa\":\"Ilustre Municipalidad de Litueche\"},{\"CodigoEmpresa\":\"118072\",\"NombreEmpresa\":\"Ilustre Municipalidad de Llay Llay\"},{\"CodigoEmpresa\":\"113258\",\"NombreEmpresa\":\"ILUSTRE MUNICIPALIDAD DE LOLOL\"},{\"CodigoEmpresa\":\"113851\",\"NombreEmpresa\":\"Ilustre Municipalidad de Loncoche\"},{\"CodigoEmpresa\":\"120788\",\"NombreEmpresa\":\"Ilustre Municipalidad de Longavi\"},{\"CodigoEmpresa\":\"119994\",\"NombreEmpresa\":\"Ilustre Municipalidad de Lonquimay\"},{\"CodigoEmpresa\":\"7159\",\"NombreEmpresa\":\"Ilustre Municipalidad de los Lagos\"},{\"CodigoEmpresa\":\"7304\",\"NombreEmpresa\":\"Ilustre Municipalidad de Los Muermos\"},{\"CodigoEmpresa\":\"116408\",\"NombreEmpresa\":\"Ilustre Municipalidad de Los Sauces\"},{\"CodigoEmpresa\":\"116401\",\"NombreEmpresa\":\"Ilustre Municipalidad de Los Vilos\"},{\"CodigoEmpresa\":\"138211\",\"NombreEmpresa\":\"Ilustre Municipalidad de Lumaco\"},{\"CodigoEmpresa\":\"113852\",\"NombreEmpresa\":\"ILUSTRE MUNICIPALIDAD DE MACHALI\"},{\"CodigoEmpresa\":\"115464\",\"NombreEmpresa\":\"Ilustre Municipalidad de Máfil\"},{\"CodigoEmpresa\":\"93619\",\"NombreEmpresa\":\"ILUSTRE MUNICIPALIDAD DE MAIPU\"},{\"CodigoEmpresa\":\"113738\",\"NombreEmpresa\":\"ILUSTRE MUNICIPALIDAD DE MARIA ELENA\"},{\"CodigoEmpresa\":\"120001\",\"NombreEmpresa\":\"Ilustre Municipalidad de Mariquina\"},{\"CodigoEmpresa\":\"118070\",\"NombreEmpresa\":\"Ilustre Municipalidad de Maule\"},{\"CodigoEmpresa\":\"120791\",\"NombreEmpresa\":\"ILUSTRE MUNICIPALIDAD DE MAULLIN\"},{\"CodigoEmpresa\":\"117581\",\"NombreEmpresa\":\"Ilustre Municipalidad de Mejillones\"},{\"CodigoEmpresa\":\"121617\",\"NombreEmpresa\":\"Ilustre Municipalidad de Melipeuco\"},{\"CodigoEmpresa\":\"98901\",\"NombreEmpresa\":\"ILUSTRE MUNICIPALIDAD DE MELIPILLA\"},{\"CodigoEmpresa\":\"84961\",\"NombreEmpresa\":\"ILUSTRE MUNICIPALIDAD DE MOLINA \"},{\"CodigoEmpresa\":\"115311\",\"NombreEmpresa\":\"Ilustre Municipalidad de Mulchen\"},{\"CodigoEmpresa\":\"135561\",\"NombreEmpresa\":\"Ilustre Municipalidad de Nacimiento\"},{\"CodigoEmpresa\":\"116750\",\"NombreEmpresa\":\"Ilustre Municipalidad de Nancagua\"},{\"CodigoEmpresa\":\"98448\",\"NombreEmpresa\":\"ILUSTRE MUNICIPALIDAD DE NATALES\"},{\"CodigoEmpresa\":\"118625\",\"NombreEmpresa\":\"Ilustre Municipalidad de Navidad\"},{\"CodigoEmpresa\":\"142508\",\"NombreEmpresa\":\"Ilustre Municipalidad de Negrete\"},{\"CodigoEmpresa\":\"7051\",\"NombreEmpresa\":\"Ilustre Municipalidad de Ninhue\"},{\"CodigoEmpresa\":\"115468\",\"NombreEmpresa\":\"Ilustre Municipalidad de Nogales\"},{\"CodigoEmpresa\":\"134356\",\"NombreEmpresa\":\"Ilustre Municipalidad de Ñiquen\"},{\"CodigoEmpresa\":\"86764\",\"NombreEmpresa\":\"ILUSTRE MUNICIPALIDAD DE ÑUÑOA\"},{\"CodigoEmpresa\":\"115463\",\"NombreEmpresa\":\"Ilustre Municipalidad de O\\'Higgins\"},{\"CodigoEmpresa\":\"119273\",\"NombreEmpresa\":\"Ilustre Municipalidad de Olivar\"},{\"CodigoEmpresa\":\"119996\",\"NombreEmpresa\":\"Ilustre Municipalidad de Ollagüe\"},{\"CodigoEmpresa\":\"114724\",\"NombreEmpresa\":\"Ilustre Municipalidad de Olmue\"},{\"CodigoEmpresa\":\"84959\",\"NombreEmpresa\":\"ILUSTRE MUNICIPALIDAD DE OSORNO\"},{\"CodigoEmpresa\":\"118075\",\"NombreEmpresa\":\"Ilustre Municipalidad de Paihuano\"},{\"CodigoEmpresa\":\"116744\",\"NombreEmpresa\":\"Ilustre Municipalidad de Paillaco\"},{\"CodigoEmpresa\":\"100728\",\"NombreEmpresa\":\"ILUSTRE MUNICIPALIDAD DE PAINE\"},{\"CodigoEmpresa\":\"110393\",\"NombreEmpresa\":\"Ilustre Municipalidad de Palena\"},{\"CodigoEmpresa\":\"123526\",\"NombreEmpresa\":\"Ilustre Municipalidad de Palmilla\"},{\"CodigoEmpresa\":\"115284\",\"NombreEmpresa\":\"Ilustre Municipalidad de Panguipulli\"},{\"CodigoEmpresa\":\"115302\",\"NombreEmpresa\":\"Ilustre Municipalidad de Papudo\"},{\"CodigoEmpresa\":\"118971\",\"NombreEmpresa\":\"Ilustre Municipalidad de Paredones\"},{\"CodigoEmpresa\":\"94459\",\"NombreEmpresa\":\"ILUSTRE MUNICIPALIDAD DE PARRAL\"},{\"CodigoEmpresa\":\"116729\",\"NombreEmpresa\":\"Ilustre Municipalidad de Pelarco\"},{\"CodigoEmpresa\":\"113978\",\"NombreEmpresa\":\"Ilustre Municipalidad de Pelluhue\"},{\"CodigoEmpresa\":\"117587\",\"NombreEmpresa\":\"Ilustre Municipalidad de Pemuco\"},{\"CodigoEmpresa\":\"142575\",\"NombreEmpresa\":\"Ilustre Municipalidad de Penco\"},{\"CodigoEmpresa\":\"118619\",\"NombreEmpresa\":\"Ilustre Municipalidad de Peralillo\"},{\"CodigoEmpresa\":\"133899\",\"NombreEmpresa\":\"Ilustre Municipalidad de Perquenco\"},{\"CodigoEmpresa\":\"116223\",\"NombreEmpresa\":\"Ilustre Municipalidad de Petorca\"},{\"CodigoEmpresa\":\"118861\",\"NombreEmpresa\":\"Ilustre Municipalidad de Peumo\"},{\"CodigoEmpresa\":\"118077\",\"NombreEmpresa\":\"Ilustre Municipalidad de Pica\"},{\"CodigoEmpresa\":\"118621\",\"NombreEmpresa\":\"Ilustre Municipalidad de Pichidegua\"},{\"CodigoEmpresa\":\"117179\",\"NombreEmpresa\":\"Ilustre Municipalidad de Pichilemu\"},{\"CodigoEmpresa\":\"118071\",\"NombreEmpresa\":\"Ilustre Municipalidad de Pinto\"},{\"CodigoEmpresa\":\"100072\",\"NombreEmpresa\":\"ILUSTRE MUNICIPALIDAD DE PIRQUE\"},{\"CodigoEmpresa\":\"116411\",\"NombreEmpresa\":\"Ilustre Municipalidad de Pitrufquen\"},{\"CodigoEmpresa\":\"118087\",\"NombreEmpresa\":\"Ilustre Municipalidad de Placilla\"},{\"CodigoEmpresa\":\"115798\",\"NombreEmpresa\":\"Ilustre Municipalidad de Porvenir\"},{\"CodigoEmpresa\":\"117585\",\"NombreEmpresa\":\"Ilustre Municipalidad de Primavera\"},{\"CodigoEmpresa\":\"119270\",\"NombreEmpresa\":\"Ilustre Municipalidad de Puchuncavi\"},{\"CodigoEmpresa\":\"86943\",\"NombreEmpresa\":\"ILUSTRE MUNICIPALIDAD DE PUCON\"},{\"CodigoEmpresa\":\"104899\",\"NombreEmpresa\":\"Ilustre Municipalidad de Puerto Octay\"},{\"CodigoEmpresa\":\"115313\",\"NombreEmpresa\":\"Ilustre Municipalidad de Puerto Saavedra\"},{\"CodigoEmpresa\":\"116402\",\"NombreEmpresa\":\"Ilustre Municipalidad de Pumanque\"},{\"CodigoEmpresa\":\"117588\",\"NombreEmpresa\":\"Ilustre Municipalidad de Punitaqui\"},{\"CodigoEmpresa\":\"116403\",\"NombreEmpresa\":\"Ilustre Municipalidad de Puqueldón\"},{\"CodigoEmpresa\":\"114916\",\"NombreEmpresa\":\"ILUSTRE MUNICIPALIDAD DE PURRANQUE\"},{\"CodigoEmpresa\":\"119479\",\"NombreEmpresa\":\"ILUSTRE MUNICIPALIDAD DE PUTRE\"},{\"CodigoEmpresa\":\"105334\",\"NombreEmpresa\":\"ILUSTRE MUNICIPALIDAD DE PUYEHUE\"},{\"CodigoEmpresa\":\"112919\",\"NombreEmpresa\":\"Ilustre Municipalidad de Queilen\"},{\"CodigoEmpresa\":\"110102\",\"NombreEmpresa\":\"Ilustre Municipalidad De Quellón\"},{\"CodigoEmpresa\":\"125066\",\"NombreEmpresa\":\"Ilustre Municipalidad de Quemchi\"},{\"CodigoEmpresa\":\"116940\",\"NombreEmpresa\":\"Ilustre Municipalidad de Quilaco\"},{\"CodigoEmpresa\":\"88313\",\"NombreEmpresa\":\"Ilustre Municipalidad de Quilicura\"},{\"CodigoEmpresa\":\"115979\",\"NombreEmpresa\":\"Ilustre Municipalidad de Quilleco\"},{\"CodigoEmpresa\":\"135562\",\"NombreEmpresa\":\"ILUSTRE MUNICIPALIDAD DE QUILLON\"},{\"CodigoEmpresa\":\"116731\",\"NombreEmpresa\":\"Ilustre Municipalidad de Quinchao\"},{\"CodigoEmpresa\":\"115010\",\"NombreEmpresa\":\"Ilustre Municipalidad de Quinta de Tilcoco\"},{\"CodigoEmpresa\":\"88075\",\"NombreEmpresa\":\"ILUSTRE MUNICIPALIDAD DE QUINTA NORMAL\"},{\"CodigoEmpresa\":\"138454\",\"NombreEmpresa\":\"Ilustre Municipalidad de Quintero\"},{\"CodigoEmpresa\":\"124198\",\"NombreEmpresa\":\"Ilustre Municipalidad de Quirihue\"},{\"CodigoEmpresa\":\"87167\",\"NombreEmpresa\":\"ILUSTRE MUNICIPALIDAD DE RANCAGUA\"},{\"CodigoEmpresa\":\"7418\",\"NombreEmpresa\":\"Ilustre Municipalidad de Ranquil\"},{\"CodigoEmpresa\":\"117589\",\"NombreEmpresa\":\"Ilustre Municipalidad de Rauco\"},{\"CodigoEmpresa\":\"7325\",\"NombreEmpresa\":\"Ilustre Municipalidad de Recoleta\"},{\"CodigoEmpresa\":\"118073\",\"NombreEmpresa\":\"Ilustre Municipalidad de Renaico\"},{\"CodigoEmpresa\":\"87185\",\"NombreEmpresa\":\"ILUSTRE MUNICIPALIDAD DE RENCA\"},{\"CodigoEmpresa\":\"100555\",\"NombreEmpresa\":\"ILUSTRE MUNICIPALIDAD DE RENGO\"},{\"CodigoEmpresa\":\"116215\",\"NombreEmpresa\":\"Ilustre Municipalidad de Requínoa\"},{\"CodigoEmpresa\":\"113252\",\"NombreEmpresa\":\"ILUSTRE MUNICIPALIDAD DE RETIRO\"},{\"CodigoEmpresa\":\"117580\",\"NombreEmpresa\":\"Ilustre Municipalidad de Rio Bueno\"},{\"CodigoEmpresa\":\"89591\",\"NombreEmpresa\":\"ILUSTRE MUNICIPALIDAD DE RIO CLARO\"},{\"CodigoEmpresa\":\"115301\",\"NombreEmpresa\":\"ILUSTRE MUNICIPALIDAD DE RIO VERDE\"},{\"CodigoEmpresa\":\"141881\",\"NombreEmpresa\":\"Ilustre Municipalidad de Romeral\"},{\"CodigoEmpresa\":\"116295\",\"NombreEmpresa\":\"Ilustre Municipalidad de Salamanca\"},{\"CodigoEmpresa\":\"86548\",\"NombreEmpresa\":\"ILUSTRE MUNICIPALIDAD DE SAN BERNARDO\"},{\"CodigoEmpresa\":\"116226\",\"NombreEmpresa\":\"Ilustre Municipalidad de San Esteban\"},{\"CodigoEmpresa\":\"128889\",\"NombreEmpresa\":\"ILUSTRE MUNICIPALIDAD DE SAN FABIAN\"},{\"CodigoEmpresa\":\"100158\",\"NombreEmpresa\":\"ILUSTRE MUNICIPALIDAD DE SAN FELIPE\"},{\"CodigoEmpresa\":\"7482\",\"NombreEmpresa\":\"Ilustre Municipalidad de San Fernando\"},{\"CodigoEmpresa\":\"115795\",\"NombreEmpresa\":\"Ilustre Municipalidad de San Gregorio\"},{\"CodigoEmpresa\":\"116409\",\"NombreEmpresa\":\"Ilustre Municipalidad de San Ignacio\"},{\"CodigoEmpresa\":\"86407\",\"NombreEmpresa\":\"ILUSTRE MUNICIPALIDAD DE SAN JAVIER\"},{\"CodigoEmpresa\":\"7135\",\"NombreEmpresa\":\"Ilustre Municipalidad de San Joaquin\"},{\"CodigoEmpresa\":\"118085\",\"NombreEmpresa\":\"Ilustre Municipalidad de San Juan de la Costa\"},{\"CodigoEmpresa\":\"7498\",\"NombreEmpresa\":\"Ilustre Municipalidad de San Miguel\"},{\"CodigoEmpresa\":\"7158\",\"NombreEmpresa\":\"Ilustre Municipalidad de San Nicolás\"},{\"CodigoEmpresa\":\"136421\",\"NombreEmpresa\":\"Ilustre Municipalidad de San Rosendo\"},{\"CodigoEmpresa\":\"135559\",\"NombreEmpresa\":\"Ilustre Municipalidad de San Vicente de Tagua Tagua\"},{\"CodigoEmpresa\":\"118860\",\"NombreEmpresa\":\"Ilustre Municipalidad de Santa Barbara\"},{\"CodigoEmpresa\":\"117584\",\"NombreEmpresa\":\"Ilustre Municipalidad de Santa Cruz\"},{\"CodigoEmpresa\":\"118623\",\"NombreEmpresa\":\"Ilustre Municipalidad de Santa Juana\"},{\"CodigoEmpresa\":\"117210\",\"NombreEmpresa\":\"Ilustre Municipalidad de Santa María\"},{\"CodigoEmpresa\":\"113981\",\"NombreEmpresa\":\"Ilustre Municipalidad de Santo Domingo\"},{\"CodigoEmpresa\":\"117579\",\"NombreEmpresa\":\"Ilustre Municipalidad de Sierra Gorda\"},{\"CodigoEmpresa\":\"118079\",\"NombreEmpresa\":\"Ilustre Municipalidad de Taltal\"},{\"CodigoEmpresa\":\"116299\",\"NombreEmpresa\":\"Ilustre Municipalidad de Teno\"},{\"CodigoEmpresa\":\"7360\",\"NombreEmpresa\":\"Ilustre Municipalidad de Tierra Amarilla\"},{\"CodigoEmpresa\":\"116218\",\"NombreEmpresa\":\"Ilustre Municipalidad de Til Til\"},{\"CodigoEmpresa\":\"224045\",\"NombreEmpresa\":\"Ilustre Municipalidad de Timaukel\"},{\"CodigoEmpresa\":\"117582\",\"NombreEmpresa\":\"Ilustre Municipalidad de Tolten\"},{\"CodigoEmpresa\":\"7301\",\"NombreEmpresa\":\"Ilustre Municipalidad de Tortel\"},{\"CodigoEmpresa\":\"145365\",\"NombreEmpresa\":\"Ilustre Municipalidad de Trehuaco\"},{\"CodigoEmpresa\":\"87402\",\"NombreEmpresa\":\"ILUSTRE MUNICIPALIDAD DE VALPARAISO\"},{\"CodigoEmpresa\":\"114914\",\"NombreEmpresa\":\"Ilustre Municipalidad de Vichuquén\"},{\"CodigoEmpresa\":\"115303\",\"NombreEmpresa\":\"Ilustre Municipalidad de Vicuña\"},{\"CodigoEmpresa\":\"115009\",\"NombreEmpresa\":\"Ilustre Municipalidad de Vilcún\"},{\"CodigoEmpresa\":\"7363\",\"NombreEmpresa\":\"Ilustre Municipalidad de Villa Alegre\"},{\"CodigoEmpresa\":\"7233\",\"NombreEmpresa\":\"Ilustre Municipalidad de Villa Alemana\"},{\"CodigoEmpresa\":\"118084\",\"NombreEmpresa\":\"Ilustre Municipalidad de Villarrica\"},{\"CodigoEmpresa\":\"116738\",\"NombreEmpresa\":\"Ilustre Municipalidad de Yerbas Buenas\"},{\"CodigoEmpresa\":\"120004\",\"NombreEmpresa\":\"Ilustre Municipalidad de Yumbel\"},{\"CodigoEmpresa\":\"115294\",\"NombreEmpresa\":\"Ilustre Municipalidad de Yungay\"},{\"CodigoEmpresa\":\"132199\",\"NombreEmpresa\":\"Ilustre Municipalidad de Zapallar\"},{\"CodigoEmpresa\":\"117181\",\"NombreEmpresa\":\"Ilustre Municipalidad Isla de Maipo\"},{\"CodigoEmpresa\":\"115280\",\"NombreEmpresa\":\"ILUSTRE MUNICIPALIDAD TEODORO SCHMIDT\"},{\"CodigoEmpresa\":\"106000\",\"NombreEmpresa\":\"Ilustre Municipalidad Torres del Payne\"},{\"CodigoEmpresa\":\"114924\",\"NombreEmpresa\":\"IMUNICIPALIDAD DE NUEVA IMPERIAL\"},{\"CodigoEmpresa\":\"7004\",\"NombreEmpresa\":\"Instituto Antártico Chileno\"},{\"CodigoEmpresa\":\"6937\",\"NombreEmpresa\":\"Instituto de Desarrollo Agropecuario - INDAP\"},{\"CodigoEmpresa\":\"7070\",\"NombreEmpresa\":\"Instituto de Fomento Pesquero - IFOP\"},{\"CodigoEmpresa\":\"7394\",\"NombreEmpresa\":\"Instituto de Investigaciones y Control del Ejércit\"},{\"CodigoEmpresa\":\"7474\",\"NombreEmpresa\":\"Instituto de Neurocirugía\"},{\"CodigoEmpresa\":\"1090469\",\"NombreEmpresa\":\"INSTITUTO DE PREVISION SOCIAL\"},{\"CodigoEmpresa\":\"7177\",\"NombreEmpresa\":\"INSTITUTO DE SALUD PUBLICA DE CHILE\"},{\"CodigoEmpresa\":\"6953\",\"NombreEmpresa\":\"Instituto de Seguridad Laboral - ISL\"},{\"CodigoEmpresa\":\"7497\",\"NombreEmpresa\":\"Instituto Forestal\"},{\"CodigoEmpresa\":\"7432\",\"NombreEmpresa\":\"Instituto Nac. de Rehabilitación Pedro Aguirre C.\"},{\"CodigoEmpresa\":\"7216\",\"NombreEmpresa\":\"INSTITUTO NACIONAL DE DEPORTES DE CHILE\"},{\"CodigoEmpresa\":\"6931\",\"NombreEmpresa\":\"Instituto Nacional de Estadísticas - INE\"},{\"CodigoEmpresa\":\"7430\",\"NombreEmpresa\":\"Instituto Nacional de Geriatría\"},{\"CodigoEmpresa\":\"7176\",\"NombreEmpresa\":\"Instituto Nacional de Hidráulicas - INH\"},{\"CodigoEmpresa\":\"7197\",\"NombreEmpresa\":\"Instituto Nacional de la Juventud - MIDEPLAN\"},{\"CodigoEmpresa\":\"1042394\",\"NombreEmpresa\":\"INSTITUTO NACIONAL DE PROPIEDAD INDUSTRIAL\"},{\"CodigoEmpresa\":\"7276\",\"NombreEmpresa\":\"Instituto Nacional del Cancer\"},{\"CodigoEmpresa\":\"7298\",\"NombreEmpresa\":\"Instituto Nacional del Torax\"},{\"CodigoEmpresa\":\"7044\",\"NombreEmpresa\":\"INSTITUTO PSIQUIATRICO DR JOSE HORWITZ BARAK\"},{\"CodigoEmpresa\":\"7456\",\"NombreEmpresa\":\"Instituto Traumatológico\"},{\"CodigoEmpresa\":\"7204\",\"NombreEmpresa\":\"INTENDENCIA II REGION ANTOFAGASTA\"},{\"CodigoEmpresa\":\"7115\",\"NombreEmpresa\":\"Intendencia III Región, Atacama\"},{\"CodigoEmpresa\":\"7236\",\"NombreEmpresa\":\"Intendencia IV Región, Coquimbo\"},{\"CodigoEmpresa\":\"7220\",\"NombreEmpresa\":\"Intendencia IX Región, de la Araucanía\"},{\"CodigoEmpresa\":\"7195\",\"NombreEmpresa\":\"Intendencia Región Metropolitana\"},{\"CodigoEmpresa\":\"270727\",\"NombreEmpresa\":\"Intendencia Regional de Arica y Parinacota\"},{\"CodigoEmpresa\":\"270726\",\"NombreEmpresa\":\"Intendencia Regional de Los Ríos\"},{\"CodigoEmpresa\":\"7234\",\"NombreEmpresa\":\"INTENDENCIA REGIONAL I REGION DE TARAPAC\"},{\"CodigoEmpresa\":\"7196\",\"NombreEmpresa\":\"Intendencia V Región, Valparaíso\"},{\"CodigoEmpresa\":\"7201\",\"NombreEmpresa\":\"Intendencia VI Región, Lib. Bdo. O´Higgins\"},{\"CodigoEmpresa\":\"7225\",\"NombreEmpresa\":\"Intendencia VII Región, del Maule\"},{\"CodigoEmpresa\":\"7226\",\"NombreEmpresa\":\"Intendencia VIII Región, del Bío-Bío\"},{\"CodigoEmpresa\":\"7215\",\"NombreEmpresa\":\"Intendencia X Región, de Los Lagos\"},{\"CodigoEmpresa\":\"7229\",\"NombreEmpresa\":\"Intendencia XI Región, Aysén\"},{\"CodigoEmpresa\":\"7214\",\"NombreEmpresa\":\"Intendencia XII Región de Magallanes y Antártica Chilena\"},{\"CodigoEmpresa\":\"7002\",\"NombreEmpresa\":\"JUNAEB\"},{\"CodigoEmpresa\":\"7014\",\"NombreEmpresa\":\"Junta de Aeronáutica Civil\"},{\"CodigoEmpresa\":\"1079772\",\"NombreEmpresa\":\"JUNTA NACIONAL DE CUERPOS DE BOMBEROS DE CHILE\"},{\"CodigoEmpresa\":\"6928\",\"NombreEmpresa\":\"JUNTA NACIONAL DE JARDINES         INFANTILES\"},{\"CodigoEmpresa\":\"1065029\",\"NombreEmpresa\":\"LICEO EL ROSARIO\"},{\"CodigoEmpresa\":\"7074\",\"NombreEmpresa\":\"METRO S.A.\"},{\"CodigoEmpresa\":\"6941\",\"NombreEmpresa\":\"Ministerio de Bienes Nacionales.\"},{\"CodigoEmpresa\":\"7247\",\"NombreEmpresa\":\"MINISTERIO DE OBRAS PUBLICAS DIREC CION GRAL DE OO PP DCYF\"},{\"CodigoEmpresa\":\"7249\",\"NombreEmpresa\":\"Ministerio de Obras Publicas Dirección Gral. de OOPP\"},{\"CodigoEmpresa\":\"6944\",\"NombreEmpresa\":\"Ministerio del Interior\"},{\"CodigoEmpresa\":\"224060\",\"NombreEmpresa\":\"MINISTERIO PUBLICO\"},{\"CodigoEmpresa\":\"7194\",\"NombreEmpresa\":\"Ministerio Secretaría General de Gobierno\"},{\"CodigoEmpresa\":\"6949\",\"NombreEmpresa\":\"MINISTERIO SECRETARIA GENERAL DE LA PRESIDENCIA DE LA REPUBLICA\"},{\"CodigoEmpresa\":\"7248\",\"NombreEmpresa\":\"MOP - Dirección de Vialidad\"},{\"CodigoEmpresa\":\"7353\",\"NombreEmpresa\":\"MOP Dirección General de Concesiones\"},{\"CodigoEmpresa\":\"114923\",\"NombreEmpresa\":\"Municipalidad de Alto Hospicio\"},{\"CodigoEmpresa\":\"98452\",\"NombreEmpresa\":\"Municipalidad de Ancud\"},{\"CodigoEmpresa\":\"100090\",\"NombreEmpresa\":\"MUNICIPALIDAD DE BUIN\"},{\"CodigoEmpresa\":\"115186\",\"NombreEmpresa\":\"Municipalidad de Carahue\"},{\"CodigoEmpresa\":\"99569\",\"NombreEmpresa\":\"MUNICIPALIDAD DE CARTAGENA\"},{\"CodigoEmpresa\":\"100523\",\"NombreEmpresa\":\"MUNICIPALIDAD DE CHIGUAYANTE\"},{\"CodigoEmpresa\":\"115297\",\"NombreEmpresa\":\"Municipalidad de Combarbala\"},{\"CodigoEmpresa\":\"119089\",\"NombreEmpresa\":\"Municipalidad de Corral\"},{\"CodigoEmpresa\":\"115165\",\"NombreEmpresa\":\"MUNICIPALIDAD DE DALCAHUE\"},{\"CodigoEmpresa\":\"123788\",\"NombreEmpresa\":\"MUNICIPALIDAD DE DOÑIHUE\"},{\"CodigoEmpresa\":\"117586\",\"NombreEmpresa\":\"Municipalidad de Gorbea\"},{\"CodigoEmpresa\":\"100739\",\"NombreEmpresa\":\"Municipalidad de Huechuraba\"},{\"CodigoEmpresa\":\"86766\",\"NombreEmpresa\":\"MUNICIPALIDAD DE LA FLORIDA\"},{\"CodigoEmpresa\":\"86571\",\"NombreEmpresa\":\"MUNICIPALIDAD DE LAS CONDES\"},{\"CodigoEmpresa\":\"100155\",\"NombreEmpresa\":\"Municipalidad de lo barnechea\"},{\"CodigoEmpresa\":\"87187\",\"NombreEmpresa\":\"Municipalidad de Los Angeles\"},{\"CodigoEmpresa\":\"113259\",\"NombreEmpresa\":\"MUNICIPALIDAD DE LOTA\"},{\"CodigoEmpresa\":\"99860\",\"NombreEmpresa\":\"MUNICIPALIDAD DE OVALLE\"},{\"CodigoEmpresa\":\"90886\",\"NombreEmpresa\":\"MUNICIPALIDAD DE PADRE LAS CASAS\"},{\"CodigoEmpresa\":\"113618\",\"NombreEmpresa\":\"Municipalidad de Panquehue\"},{\"CodigoEmpresa\":\"87104\",\"NombreEmpresa\":\"MUNICIPALIDAD DE PEDRO AGUIRRE CERDA\"},{\"CodigoEmpresa\":\"100137\",\"NombreEmpresa\":\"MUNICIPALIDAD DE PEÑAFLOR\"},{\"CodigoEmpresa\":\"115299\",\"NombreEmpresa\":\"Municipalidad de Portezuelo\"},{\"CodigoEmpresa\":\"84149\",\"NombreEmpresa\":\"MUNICIPALIDAD DE PUDAHUEL\"},{\"CodigoEmpresa\":\"116945\",\"NombreEmpresa\":\"Municipalidad de Purén \\\\\\\\ DEPTO.DE SALUD\"},{\"CodigoEmpresa\":\"114075\",\"NombreEmpresa\":\"Municipalidad de Rio Hurtado\"},{\"CodigoEmpresa\":\"120002\",\"NombreEmpresa\":\"Municipalidad de Río Ibáñez\"},{\"CodigoEmpresa\":\"100318\",\"NombreEmpresa\":\"Municipalidad de San Antonio\"},{\"CodigoEmpresa\":\"100107\",\"NombreEmpresa\":\"MUNICIPALIDAD DE SAN CARLOS\"},{\"CodigoEmpresa\":\"115457\",\"NombreEmpresa\":\"Municipalidad de San José de Maipo\"},{\"CodigoEmpresa\":\"100704\",\"NombreEmpresa\":\"MUNICIPALIDAD DE SAN PEDRO DE LA PAZ\"},{\"CodigoEmpresa\":\"7355\",\"NombreEmpresa\":\"Municipalidad de San Ramon\"},{\"CodigoEmpresa\":\"86568\",\"NombreEmpresa\":\"MUNICIPALIDAD DE SANTIAGO\"},{\"CodigoEmpresa\":\"86586\",\"NombreEmpresa\":\"MUNICIPALIDAD DE TALCAHUANO\"},{\"CodigoEmpresa\":\"7321\",\"NombreEmpresa\":\"Municipalidad de Temuco\"},{\"CodigoEmpresa\":\"183037\",\"NombreEmpresa\":\"Municipalidad de Tirúa\"},{\"CodigoEmpresa\":\"115163\",\"NombreEmpresa\":\"MUNICIPALIDAD DE TRAIGUEN\"},{\"CodigoEmpresa\":\"98462\",\"NombreEmpresa\":\"MUNICIPALIDAD DE VITACURA\"},{\"CodigoEmpresa\":\"7005\",\"NombreEmpresa\":\"Oficina de Estudios y Politicas Agrarias\"},{\"CodigoEmpresa\":\"7180\",\"NombreEmpresa\":\"Oficina Nacional de Emergencia\"},{\"CodigoEmpresa\":\"6935\",\"NombreEmpresa\":\"Parque Metropolitano de Santiago\"},{\"CodigoEmpresa\":\"7143\",\"NombreEmpresa\":\"Poder Judicial - Academia Judicial\"},{\"CodigoEmpresa\":\"111880\",\"NombreEmpresa\":\"POLICIA DE INVESTIGACIONES DE CHILE\"},{\"CodigoEmpresa\":\"6967\",\"NombreEmpresa\":\"Polla Chilena de Beneficencia S.A.\"},{\"CodigoEmpresa\":\"7238\",\"NombreEmpresa\":\"Presidencia de la República\"},{\"CodigoEmpresa\":\"7478\",\"NombreEmpresa\":\"S. S. Aysén - Dirección de Atención Primaria\"},{\"CodigoEmpresa\":\"7096\",\"NombreEmpresa\":\"SAG CONCEPCION\"},{\"CodigoEmpresa\":\"7184\",\"NombreEmpresa\":\"SENADIS\"},{\"CodigoEmpresa\":\"174692\",\"NombreEmpresa\":\"Senado de la República de Chile\"},{\"CodigoEmpresa\":\"6919\",\"NombreEmpresa\":\"SERVICIO AGRICOLA Y GANADERO\"},{\"CodigoEmpresa\":\"6950\",\"NombreEmpresa\":\"Servicio de Cooperación Técnica - SERCOTEC\"},{\"CodigoEmpresa\":\"7218\",\"NombreEmpresa\":\"Servicio de Evaluación Ambiental (SEA)\"},{\"CodigoEmpresa\":\"7113\",\"NombreEmpresa\":\"SERVICIO DE IMPUESTOS INTERNOS DIRECCION\"},{\"CodigoEmpresa\":\"6960\",\"NombreEmpresa\":\"Servicio de Registro Civil e Identificación\"},{\"CodigoEmpresa\":\"7205\",\"NombreEmpresa\":\"Servicio de Salud  Concepción\"},{\"CodigoEmpresa\":\"7431\",\"NombreEmpresa\":\"SERVICIO DE SALUD ACONCAGUA\"},{\"CodigoEmpresa\":\"7185\",\"NombreEmpresa\":\"Servicio de Salud Antofagasta\"},{\"CodigoEmpresa\":\"7451\",\"NombreEmpresa\":\"SERVICIO DE SALUD ANTOFAGASTA HOSPITAL L\"},{\"CodigoEmpresa\":\"7302\",\"NombreEmpresa\":\"Servicio de Salud Araucanía Norte\"},{\"CodigoEmpresa\":\"7306\",\"NombreEmpresa\":\"SERVICIO DE SALUD ARAUCANIA NORTE HOSPITAL DE ANGOL\"},{\"CodigoEmpresa\":\"7102\",\"NombreEmpresa\":\"Servicio de Salud Araucanía Sur\"},{\"CodigoEmpresa\":\"7060\",\"NombreEmpresa\":\"SERVICIO DE SALUD ARAUCANIA SUR HOSPITAL DE NUEVA IMPERIAL\"},{\"CodigoEmpresa\":\"6976\",\"NombreEmpresa\":\"SERVICIO DE SALUD ARAUCO\"},{\"CodigoEmpresa\":\"1667479\",\"NombreEmpresa\":\"SERVICIO DE SALUD ARICA HOSP DR JUAN NOE CREVANI\"},{\"CodigoEmpresa\":\"7409\",\"NombreEmpresa\":\"Servicio de Salud Atacama\"},{\"CodigoEmpresa\":\"7206\",\"NombreEmpresa\":\"SERVICIO DE SALUD AYSEN\"},{\"CodigoEmpresa\":\"7308\",\"NombreEmpresa\":\"Servicio de Salud Bío Bío\"},{\"CodigoEmpresa\":\"16223\",\"NombreEmpresa\":\"Servicio de Salud Chiloé\"},{\"CodigoEmpresa\":\"7052\",\"NombreEmpresa\":\"Servicio de Salud Coquimbo\"},{\"CodigoEmpresa\":\"7416\",\"NombreEmpresa\":\"SERVICIO DE SALUD COQUIMBO HOSPITAL DE COQUIMBO\"},{\"CodigoEmpresa\":\"7471\",\"NombreEmpresa\":\"SERVICIO DE SALUD COQUIMBO HOSPITAL DE LOS VILOS\"},{\"CodigoEmpresa\":\"7329\",\"NombreEmpresa\":\"SERVICIO DE SALUD COQUIMBO HOSPITAL VICUNA\"},{\"CodigoEmpresa\":\"6926\",\"NombreEmpresa\":\"SERVICIO DE SALUD DE ARICA\"},{\"CodigoEmpresa\":\"7374\",\"NombreEmpresa\":\"SERVICIO DE SALUD DEL LIBERTADOR B O\\'HIGGINS HOSPITAL REG RANCAGUA\"},{\"CodigoEmpresa\":\"7141\",\"NombreEmpresa\":\"Servicio de Salud del Maule\"},{\"CodigoEmpresa\":\"7257\",\"NombreEmpresa\":\"SERVICIO DE SALUD DEL MAULE HOSPITAL DE LICANTEN\"},{\"CodigoEmpresa\":\"7260\",\"NombreEmpresa\":\"SERVICIO DE SALUD DEL MAULE HOSPITAL DE TALCA\"},{\"CodigoEmpresa\":\"7453\",\"NombreEmpresa\":\"SERVICIO DE SALUD IQUIQUE\"},{\"CodigoEmpresa\":\"7382\",\"NombreEmpresa\":\"Servicio de Salud Magallanes\"},{\"CodigoEmpresa\":\"7088\",\"NombreEmpresa\":\"Servicio de Salud Metropolitano Central\"},{\"CodigoEmpresa\":\"7188\",\"NombreEmpresa\":\"Servicio de Salud Metropolitano del Ambiente\"},{\"CodigoEmpresa\":\"6963\",\"NombreEmpresa\":\"Servicio de Salud Metropolitano Norte\"},{\"CodigoEmpresa\":\"7029\",\"NombreEmpresa\":\"Servicio de Salud Metropolitano Occidente\"},{\"CodigoEmpresa\":\"7006\",\"NombreEmpresa\":\"SERVICIO DE SALUD METROPOLITANO SUR\"},{\"CodigoEmpresa\":\"7203\",\"NombreEmpresa\":\"Servicio de Salud Metropolitano Sur Oriente\"},{\"CodigoEmpresa\":\"6932\",\"NombreEmpresa\":\"SERVICIO DE SALUD NUBLE\"},{\"CodigoEmpresa\":\"7285\",\"NombreEmpresa\":\"Servicio de Salud Ñuble - Hospital de Coelemu\"},{\"CodigoEmpresa\":\"7316\",\"NombreEmpresa\":\"SERVICIO DE SALUD OCCIDENTE HOSPITAL SAN JUAN DE DIOS\"},{\"CodigoEmpresa\":\"7054\",\"NombreEmpresa\":\"Servicio de Salud Ohiggins\"},{\"CodigoEmpresa\":\"7296\",\"NombreEmpresa\":\"SERVICIO DE SALUD OSORNO\"},{\"CodigoEmpresa\":\"7305\",\"NombreEmpresa\":\"SERVICIO DE SALUD SUR HOSPITAL EXEQUIEL\"},{\"CodigoEmpresa\":\"7315\",\"NombreEmpresa\":\"SERVICIO DE SALUD TALCAHUANO HOSPITAL DE\"},{\"CodigoEmpresa\":\"7106\",\"NombreEmpresa\":\"SERVICIO DE SALUD VALDIVIA\"},{\"CodigoEmpresa\":\"7410\",\"NombreEmpresa\":\"SERVICIO DE SALUD VALDIVIA HOSPITAL BASE\"},{\"CodigoEmpresa\":\"7239\",\"NombreEmpresa\":\"Servicio de Salud Valparaíso San Antonio\"},{\"CodigoEmpresa\":\"7153\",\"NombreEmpresa\":\"Servicio de Salud Viña del Mar - Quillota\"},{\"CodigoEmpresa\":\"6965\",\"NombreEmpresa\":\"SERVICIO DE VIVIENDA Y URBANIZACION AREA METROPOLITANA\"},{\"CodigoEmpresa\":\"225773\",\"NombreEmpresa\":\"SERVICIO ELECTORAL\"},{\"CodigoEmpresa\":\"1723291\",\"NombreEmpresa\":\"SERVICIO LOCAL DE EDUCACION PÚBLICA DE ATACAMA\"},{\"CodigoEmpresa\":\"7179\",\"NombreEmpresa\":\"Servicio Médico Legal\"},{\"CodigoEmpresa\":\"7479\",\"NombreEmpresa\":\"SERVICIO NAC DE SALUD HOSPITAL TRAUMATOLOGICO\"},{\"CodigoEmpresa\":\"6952\",\"NombreEmpresa\":\"Servicio Nacional de Aduanas\"},{\"CodigoEmpresa\":\"6962\",\"NombreEmpresa\":\"Servicio Nacional de Capacitación y Empleo\"},{\"CodigoEmpresa\":\"7210\",\"NombreEmpresa\":\"Servicio Nacional de Geología y Minería\"},{\"CodigoEmpresa\":\"6948\",\"NombreEmpresa\":\"Servicio Nacional de la Mujer\"},{\"CodigoEmpresa\":\"7017\",\"NombreEmpresa\":\"Servicio Nacional de Menores\"},{\"CodigoEmpresa\":\"7008\",\"NombreEmpresa\":\"SERVICIO NACIONAL DE PESCA\"},{\"CodigoEmpresa\":\"7033\",\"NombreEmpresa\":\"Servicio Nacional de Pesca VI Región\"},{\"CodigoEmpresa\":\"1468521\",\"NombreEmpresa\":\"SERVICIO NACIONAL DE SALUD HOSPITAL CARLOS VAN BUREN\"},{\"CodigoEmpresa\":\"116754\",\"NombreEmpresa\":\"SERVICIO NACIONAL DE SALUD HOSPITAL DE C\"},{\"CodigoEmpresa\":\"7332\",\"NombreEmpresa\":\"SERVICIO NACIONAL DE SALUD HOSPITAL DE CORONEL\"},{\"CodigoEmpresa\":\"7190\",\"NombreEmpresa\":\"SERVICIO NACIONAL DE TURISMO\"},{\"CodigoEmpresa\":\"7032\",\"NombreEmpresa\":\"SERVICIO NACIONAL DEL ADULTO MAYOR\"},{\"CodigoEmpresa\":\"7230\",\"NombreEmpresa\":\"Servicio Nacional del Consumidor - SERNAC\"},{\"CodigoEmpresa\":\"7011\",\"NombreEmpresa\":\"SERVICIO NACIONAL DEL PATRIMONIO CULTURAL\"},{\"CodigoEmpresa\":\"278907\",\"NombreEmpresa\":\"Servicio Regional de la Vivienda y Urbanización Arica y Parinacota\"},{\"CodigoEmpresa\":\"7433\",\"NombreEmpresa\":\"SERVICIO SALUD ARAUCANIA NORTE HOSPITAL CURACAUTIN\"},{\"CodigoEmpresa\":\"7104\",\"NombreEmpresa\":\"SERVICIO SALUD DEL RELONCAVI\"},{\"CodigoEmpresa\":\"6923\",\"NombreEmpresa\":\"SERVIU I Región\"},{\"CodigoEmpresa\":\"6974\",\"NombreEmpresa\":\"SERVIU II Región\"},{\"CodigoEmpresa\":\"6972\",\"NombreEmpresa\":\"SERVIU IV Región\"},{\"CodigoEmpresa\":\"6980\",\"NombreEmpresa\":\"SERVIU IX Region\"},{\"CodigoEmpresa\":\"6975\",\"NombreEmpresa\":\"SERVIU REGION DE ATACAMA\"},{\"CodigoEmpresa\":\"6979\",\"NombreEmpresa\":\"SERVIU REGION DEL BIO BIO\"},{\"CodigoEmpresa\":\"6968\",\"NombreEmpresa\":\"SERVIU V Región\"},{\"CodigoEmpresa\":\"6977\",\"NombreEmpresa\":\"SERVIU VI Región\"},{\"CodigoEmpresa\":\"6978\",\"NombreEmpresa\":\"SERVIU VII Región\"},{\"CodigoEmpresa\":\"6981\",\"NombreEmpresa\":\"SERVIU X Región\"},{\"CodigoEmpresa\":\"6982\",\"NombreEmpresa\":\"SERVIU XI Región\"},{\"CodigoEmpresa\":\"6964\",\"NombreEmpresa\":\"SERVIU XII Región y Antartica Chilena\"},{\"CodigoEmpresa\":\"7333\",\"NombreEmpresa\":\"Subdirección del Ambiente Servicio de Salud Thno.\"},{\"CodigoEmpresa\":\"7065\",\"NombreEmpresa\":\"Subsecretaría de Aviación\"},{\"CodigoEmpresa\":\"7036\",\"NombreEmpresa\":\"Subsecretaría de Carabineros\"},{\"CodigoEmpresa\":\"1689493\",\"NombreEmpresa\":\"SUBSECRETARIA DE CIENCIA, TECNOLOGIA, CONOCIMIENTO E INNOVACION\"},{\"CodigoEmpresa\":\"7081\",\"NombreEmpresa\":\"Subsecretaría de Desarrollo Regional\"},{\"CodigoEmpresa\":\"7078\",\"NombreEmpresa\":\"SubSecretaria de Economía y Empresas de Menor Tamaño\"},{\"CodigoEmpresa\":\"1155673\",\"NombreEmpresa\":\"Subsecretaría de Energía\"},{\"CodigoEmpresa\":\"6943\",\"NombreEmpresa\":\"Subsecretaría de Hacienda\"},{\"CodigoEmpresa\":\"7217\",\"NombreEmpresa\":\"Subsecretaría de Investigaciones\"},{\"CodigoEmpresa\":\"7080\",\"NombreEmpresa\":\"Subsecretaría de Justicia\"},{\"CodigoEmpresa\":\"7359\",\"NombreEmpresa\":\"SUBSECRETARÍA DE LAS CULTURAS Y LAS ARTES\"},{\"CodigoEmpresa\":\"7221\",\"NombreEmpresa\":\"Subsecretaría de Marina\"},{\"CodigoEmpresa\":\"7018\",\"NombreEmpresa\":\"Subsecretaría de Minería\"},{\"CodigoEmpresa\":\"7211\",\"NombreEmpresa\":\"Subsecretaría de Pesca y Acuicultura\"},{\"CodigoEmpresa\":\"7191\",\"NombreEmpresa\":\"Subsecretaría de Previsión Social\"},{\"CodigoEmpresa\":\"7227\",\"NombreEmpresa\":\"Subsecretaría de R.R.E.E.\"},{\"CodigoEmpresa\":\"1674041\",\"NombreEmpresa\":\"Subsecretaría de Relaciones Económicas Internacionales\"},{\"CodigoEmpresa\":\"7079\",\"NombreEmpresa\":\"Subsecretaría de Salud Pública\"},{\"CodigoEmpresa\":\"6947\",\"NombreEmpresa\":\"Subsecretaría de Servicios Sociales\"},{\"CodigoEmpresa\":\"6934\",\"NombreEmpresa\":\"Subsecretaría de Telecomunicaciones\"},{\"CodigoEmpresa\":\"7007\",\"NombreEmpresa\":\"Subsecretaría de Transportes\"},{\"CodigoEmpresa\":\"1198788\",\"NombreEmpresa\":\"Subsecretaría del Medio Ambiente\"},{\"CodigoEmpresa\":\"7189\",\"NombreEmpresa\":\"SUBSECRETARIA DEL MINISTERIO DE AGRICULT\"},{\"CodigoEmpresa\":\"6958\",\"NombreEmpresa\":\"SUBSECRETARIA DEL MINISTERIO DE EDUCACION PUBLICA\"},{\"CodigoEmpresa\":\"6951\",\"NombreEmpresa\":\"SUBSECRETARIA DEL MINISTERIO DE LA VIVIENDA Y URBANISMO\"},{\"CodigoEmpresa\":\"6939\",\"NombreEmpresa\":\"Subsecretaria del Trabajo\"},{\"CodigoEmpresa\":\"128260\",\"NombreEmpresa\":\"SUPERINTENDENCIA DE CASINOS DE JUEGO\"},{\"CodigoEmpresa\":\"7232\",\"NombreEmpresa\":\"Superintendencia de Electricidad y Combustibles\"},{\"CodigoEmpresa\":\"7181\",\"NombreEmpresa\":\"Superintendencia de Insolvencia y Reemprendimiento\"},{\"CodigoEmpresa\":\"93096\",\"NombreEmpresa\":\"Superintendencia de Pensiones\"},{\"CodigoEmpresa\":\"6930\",\"NombreEmpresa\":\"Superintendencia de Salud\"},{\"CodigoEmpresa\":\"7114\",\"NombreEmpresa\":\"Superintendencia de Seguridad Social\"},{\"CodigoEmpresa\":\"7192\",\"NombreEmpresa\":\"Superintendencia de Servicios Sanitarios\"},{\"CodigoEmpresa\":\"6956\",\"NombreEmpresa\":\"Tesorería General de la República\"},{\"CodigoEmpresa\":\"1083414\",\"NombreEmpresa\":\"UNIDAD ADMINISTRADORA DE LOS TRIBUNALES TRIBUTARIOS Y ADUANEROS\"},{\"CodigoEmpresa\":\"85017\",\"NombreEmpresa\":\"Unidad de Analisis Financiero\"},{\"CodigoEmpresa\":\"7254\",\"NombreEmpresa\":\"UNIVERSIDAD ARTURO PRAT SEDE IQUIQUE\"},{\"CodigoEmpresa\":\"130585\",\"NombreEmpresa\":\"Universidad de Antofagasta\"},{\"CodigoEmpresa\":\"103916\",\"NombreEmpresa\":\"universidad de atacama\"},{\"CodigoEmpresa\":\"7251\",\"NombreEmpresa\":\"Universidad de Chile\"},{\"CodigoEmpresa\":\"277559\",\"NombreEmpresa\":\"Universidad de la Frontera\"},{\"CodigoEmpresa\":\"7319\",\"NombreEmpresa\":\"Universidad de La Serena\"},{\"CodigoEmpresa\":\"266724\",\"NombreEmpresa\":\"Universidad de Los Lagos\"},{\"CodigoEmpresa\":\"257227\",\"NombreEmpresa\":\"Universidad de Magallanes\"},{\"CodigoEmpresa\":\"130972\",\"NombreEmpresa\":\"UNIVERSIDAD DE PLAYA ANCHA DE CIENCIAS DE LA EDUC.\"},{\"CodigoEmpresa\":\"212299\",\"NombreEmpresa\":\"Universidad de Santiago de Chile\"},{\"CodigoEmpresa\":\"7147\",\"NombreEmpresa\":\"Universidad de Talca\"},{\"CodigoEmpresa\":\"204439\",\"NombreEmpresa\":\"Universidad de Tarapacá\"},{\"CodigoEmpresa\":\"96996\",\"NombreEmpresa\":\"Universidad de Valparaíso\"},{\"CodigoEmpresa\":\"99805\",\"NombreEmpresa\":\"Universidad del Bío-Bío\"},{\"CodigoEmpresa\":\"164268\",\"NombreEmpresa\":\"UNIVERSIDAD METROPOLITANA DE CIENCIAS DE LA EDUCAC\"},{\"CodigoEmpresa\":\"126109\",\"NombreEmpresa\":\"UNIVERSIDAD TECNOLOGICA METROPOLITANA\"},{\"CodigoEmpresa\":\"7438\",\"NombreEmpresa\":\"Zona Franca de Iquique\"}]}'"
            ]
          },
          "metadata": {
            "tags": []
          },
          "execution_count": 6
        }
      ]
    },
    {
      "cell_type": "code",
      "metadata": {
        "id": "nK-Vps3R0mj8"
      },
      "source": [
        "respuestajson2 = json.loads(respuesta.text)"
      ],
      "execution_count": 7,
      "outputs": []
    },
    {
      "cell_type": "code",
      "metadata": {
        "id": "VdN6j1ys0m1d",
        "outputId": "1d375d4e-cb9c-4865-c451-ce78d43c2263",
        "colab": {
          "base_uri": "https://localhost:8080/",
          "height": 53
        }
      },
      "source": [
        "print(respuestajson2)"
      ],
      "execution_count": 8,
      "outputs": [
        {
          "output_type": "stream",
          "text": [
            "{'Cantidad': 863, 'FechaCreacion': '2020-10-21T07:58:20.987', 'listaEmpresas': [{'CodigoEmpresa': '1034640', 'NombreEmpresa': ' CORPORACION MUNICIPAL DE PEÑALOLEN PARA EL DESARROLLO SOCIAL '}, {'CodigoEmpresa': '7311', 'NombreEmpresa': ' Hospital de enfermedades InfecciDr. Lucio Córdova'}, {'CodigoEmpresa': '7086', 'NombreEmpresa': 'AGENCIA CHILENA DE COOPERACION INTERNACIONAL PARA EL DESARROLLO'}, {'CodigoEmpresa': '1224636', 'NombreEmpresa': 'Agencia Chilena de Eficiencia Energética'}, {'CodigoEmpresa': '7193', 'NombreEmpresa': 'Agencia de Promoción de la Inversión Extranjera'}, {'CodigoEmpresa': '7212', 'NombreEmpresa': 'Agencia Nacional de Inteligencia'}, {'CodigoEmpresa': '111875', 'NombreEmpresa': 'ARMADA DE CHILE'}, {'CodigoEmpresa': '6959', 'NombreEmpresa': 'Banco del Estado de Chile'}, {'CodigoEmpresa': '7265', 'NombreEmpresa': 'Biblioteca del Congreso Nacional'}, {'CodigoEmpresa': '7038', 'NombreEmpresa': 'Bienestar del Registro Civil'}, {'CodigoEmpresa': '7313', 'NombreEmpresa': 'C.D.T. Doctora Eloisa Díaz'}, {'CodigoEmpresa': '156657', 'NombreEmpresa': 'Cámara de Diputados de Chile'}, {'CodigoEmpresa': '7175', 'NombreEmpresa': 'CAPREDENA'}, {'CodigoEmpresa': '7198', 'NombreEmpresa': 'Casa de Moneda de Chile'}, {'CodigoEmpresa': '6957', 'NombreEmpresa': 'Central de Abastecimiento S.N.S.S. -  CENABAST'}, {'CodigoEmpresa': '1339711', 'NombreEmpresa': 'CENTRO ASISTENCIAL NORTE DE ANTOFAGASTA'}, {'CodigoEmpresa': '1741046', 'NombreEmpresa': 'CENTRO DE FORMACION TECNICA DE LA REGION DE ATACAMA'}, {'CodigoEmpresa': '1700248', 'NombreEmpresa': 'CENTRO DE FORMACIÓN TÉCNICA ESTATAL DE MAGALLANES Y ANTARTICA CHILENA'}, {'CodigoEmpresa': '1741019', 'NombreEmpresa': 'Centro de Formación Técnica Estatal Región de Arica y Parinacota'}, {'CodigoEmpresa': '7380', 'NombreEmpresa': 'Centro de Información de Recursos Naturales'}, {'CodigoEmpresa': '7317', 'NombreEmpresa': 'Centro de Referencia de Salud de Maipú'}, {'CodigoEmpresa': '7473', 'NombreEmpresa': 'Centro de Salud Dr. Víctor M. Fernández'}, {'CodigoEmpresa': '7461', 'NombreEmpresa': 'Centro Diagnóstico Terapéutico Los Angeles'}, {'CodigoEmpresa': '7373', 'NombreEmpresa': 'Centro Referencia Salud Doctor Salvador Allende G.'}, {'CodigoEmpresa': '118627', 'NombreEmpresa': 'Cesfam Dr. Alejandro Gutierrez'}, {'CodigoEmpresa': '111870', 'NombreEmpresa': 'COMANDO DE APOYO A LA FUERZA'}, {'CodigoEmpresa': '192032', 'NombreEmpresa': 'Comisión Administradora del Sistema de Créditos para Estudios Superiores'}, {'CodigoEmpresa': '7219', 'NombreEmpresa': 'Comisión Chilena de Energía Nuclear'}, {'CodigoEmpresa': '7075', 'NombreEmpresa': 'Comisión Chilena del Cobre - COCHILCO'}, {'CodigoEmpresa': '262897', 'NombreEmpresa': 'Comisión Nacional de Acreditación - CNA'}, {'CodigoEmpresa': '6938', 'NombreEmpresa': 'Comisión Nacional de Energía'}, {'CodigoEmpresa': '7213', 'NombreEmpresa': 'Comisión Nacional de Investigación Científica y Tecnológicas - CONICYT'}, {'CodigoEmpresa': '7186', 'NombreEmpresa': 'Comisión Nacional de Riego'}, {'CodigoEmpresa': '7016', 'NombreEmpresa': 'COMISION PARA EL MERCADO FINANCIERO'}, {'CodigoEmpresa': '7043', 'NombreEmpresa': 'Comité de Seguros del Agro'}, {'CodigoEmpresa': '7057', 'NombreEmpresa': 'Comité SEP'}, {'CodigoEmpresa': '7320', 'NombreEmpresa': 'Complejo Asistencial Dr. Sotero del Rio'}, {'CodigoEmpresa': '7375', 'NombreEmpresa': 'Complejo Asistencial Dr. Victor Ríos Ruíz'}, {'CodigoEmpresa': '7103', 'NombreEmpresa': 'Complejo Penitenciario de Valparaiso'}, {'CodigoEmpresa': '1090137', 'NombreEmpresa': 'CONGREGACIÓN HIJAS DE SANTA MARIA DE LA PROVIDENCIA'}, {'CodigoEmpresa': '6933', 'NombreEmpresa': 'Consejo de Defensa del Estado'}, {'CodigoEmpresa': '7224', 'NombreEmpresa': 'Consejo de Rectores de las Universidades Chilenas'}, {'CodigoEmpresa': '1692048', 'NombreEmpresa': 'CONSEJO FISCAL AUTONOMO'}, {'CodigoEmpresa': '7082', 'NombreEmpresa': 'Consejo Nacional de Educación'}, {'CodigoEmpresa': '1060064', 'NombreEmpresa': 'Consejo para la Transparencia'}, {'CodigoEmpresa': '118630', 'NombreEmpresa': 'Consultorio General Urbano Victor Domingo Silva'}, {'CodigoEmpresa': '7144', 'NombreEmpresa': 'Consultorio Gral. Urbano Violeta Parra'}, {'CodigoEmpresa': '7133', 'NombreEmpresa': 'Consultorio Miraflores'}, {'CodigoEmpresa': '7231', 'NombreEmpresa': 'Contraloría General de la República'}, {'CodigoEmpresa': '7354', 'NombreEmpresa': 'Corp. de Asistencia Judicial Región del Bío-Bío'}, {'CodigoEmpresa': '7058', 'NombreEmpresa': 'Corp. Municipal de Desarrollo Social Cerro Navia'}, {'CodigoEmpresa': '7342', 'NombreEmpresa': 'Corporacion Administrativa del Poder Judicial'}, {'CodigoEmpresa': '7235', 'NombreEmpresa': 'Corporación de Asistencia Judicial de la V Región'}, {'CodigoEmpresa': '272303', 'NombreEmpresa': 'Corporación de Asistencia Judicial de las Regiones de Tarapacá y Antofagasta'}, {'CodigoEmpresa': '7152', 'NombreEmpresa': 'Corporación de Asistencia Judicial RM'}, {'CodigoEmpresa': '1085182', 'NombreEmpresa': 'Corporación de Ecuación, Salud y Menores de Puerto Natales'}, {'CodigoEmpresa': '6942', 'NombreEmpresa': 'CORPORACION DE FOMENTO DE LA PRODUCCION'}, {'CodigoEmpresa': '1088974', 'NombreEmpresa': 'Corporación Municipal de Castro'}, {'CodigoEmpresa': '1035946', 'NombreEmpresa': 'Corporacion Municipal de Educacion'}, {'CodigoEmpresa': '1033466', 'NombreEmpresa': 'CORPORACIÓN MUNICIPAL DE EDUCACIÓN Y SALUD'}, {'CodigoEmpresa': '7105', 'NombreEmpresa': 'Corporación Municipal de la Florida'}, {'CodigoEmpresa': '7483', 'NombreEmpresa': 'Corporación Municipal de Panguipulli'}, {'CodigoEmpresa': '7183', 'NombreEmpresa': 'Corporación Nacional de Desarrollo Indígena - CONADI'}, {'CodigoEmpresa': '6924', 'NombreEmpresa': 'Corporación Nacional Forestal - CONAF'}, {'CodigoEmpresa': '7136', 'NombreEmpresa': 'CRS de Peñalolen Cordillera Oriente'}, {'CodigoEmpresa': '7129', 'NombreEmpresa': 'Defensa Civil de Chile'}, {'CodigoEmpresa': '7034', 'NombreEmpresa': 'DEFENSORIA PENAL PUBLICA'}, {'CodigoEmpresa': '7299', 'NombreEmpresa': 'Departamento de Salud Parral'}, {'CodigoEmpresa': '7228', 'NombreEmpresa': 'Dirección Administrativa - Min. Defensa'}, {'CodigoEmpresa': '7466', 'NombreEmpresa': 'Dirección Atención Primaria, Serv.Salud M.Central'}, {'CodigoEmpresa': '7243', 'NombreEmpresa': 'Dirección de Aeropuertos - MOPTT'}, {'CodigoEmpresa': '7245', 'NombreEmpresa': 'Dirección de Arquitectura - MOP'}, {'CodigoEmpresa': '6945', 'NombreEmpresa': 'Dirección de Compras y Contratación Pública'}, {'CodigoEmpresa': '7068', 'NombreEmpresa': 'Dirección de Contabilidad y Finanzas MOP'}, {'CodigoEmpresa': '7244', 'NombreEmpresa': 'Dirección de Fiscalía - MOPTT'}, {'CodigoEmpresa': '113812', 'NombreEmpresa': 'DIRECCION DE LOGISTICA DE CARABINEROS'}, {'CodigoEmpresa': '7242', 'NombreEmpresa': 'Dirección de Obras Hidráulicas - MOPTT'}, {'CodigoEmpresa': '7246', 'NombreEmpresa': 'Dirección de Obras Portuarias - MOPTT'}, {'CodigoEmpresa': '7067', 'NombreEmpresa': 'Dirección de Planeamiento - MOPTT'}, {'CodigoEmpresa': '7012', 'NombreEmpresa': 'Dirección de Presupuestos'}, {'CodigoEmpresa': '6927', 'NombreEmpresa': 'Dirección de Previsión de Carabineros de Chile'}, {'CodigoEmpresa': '7010', 'NombreEmpresa': 'Dirección de Relaciones Económicas'}, {'CodigoEmpresa': '118628', 'NombreEmpresa': 'Dirección de Salud Rural'}, {'CodigoEmpresa': '7000', 'NombreEmpresa': 'Dirección del Trabajo'}, {'CodigoEmpresa': '7202', 'NombreEmpresa': 'Dirección General de Aeronáutica Civil'}, {'CodigoEmpresa': '7209', 'NombreEmpresa': 'Dirección General de Crédito Prendario - DICREP'}, {'CodigoEmpresa': '6925', 'NombreEmpresa': 'DIRECCION GENERAL DE GENDARMERIA DE CHIL'}, {'CodigoEmpresa': '7127', 'NombreEmpresa': 'Dirección General de Movilización Nacional - DGMN'}, {'CodigoEmpresa': '7250', 'NombreEmpresa': 'Dirección General de Obras Publicas - MOP'}, {'CodigoEmpresa': '1674056', 'NombreEmpresa': 'Dirección General de Promoción de Exportaciones'}, {'CodigoEmpresa': '7187', 'NombreEmpresa': 'Dirección Nacional de Fronteras y Límites del Estado'}, {'CodigoEmpresa': '7371', 'NombreEmpresa': 'Dirección Nacional del Servicio Civil'}, {'CodigoEmpresa': '7295', 'NombreEmpresa': 'DIRECCION SERVICIO DE SALUD TALCAHUANO'}, {'CodigoEmpresa': '7272', 'NombreEmpresa': 'DIRECCION SERVICIO SALUD METROPOLITANO O'}, {'CodigoEmpresa': '7208', 'NombreEmpresa': 'Empresa de Abastecimiento de Zonas Aisladas- EMAZA'}, {'CodigoEmpresa': '7467', 'NombreEmpresa': 'Empresa de Servicios Sanitarios de Atacama'}, {'CodigoEmpresa': '7128', 'NombreEmpresa': 'Empresa de Servicios Sanitarios de la Araucania'}, {'CodigoEmpresa': '7358', 'NombreEmpresa': 'Empresa de Servicios Sanitarios de Magallanes S.A.'}, {'CodigoEmpresa': '7138', 'NombreEmpresa': 'Empresa de Servicios Sanitarios de Tarapacá S.A.'}, {'CodigoEmpresa': '6961', 'NombreEmpresa': 'Empresa Nacional de Minería'}, {'CodigoEmpresa': '7149', 'NombreEmpresa': 'Empresa Nacional del Petróleo'}, {'CodigoEmpresa': '1069779', 'NombreEmpresa': 'EMPRESA PORTUARIA ANTOFAGASTA'}, {'CodigoEmpresa': '1085179', 'NombreEmpresa': 'Empresa Portuaria Arica'}, {'CodigoEmpresa': '7493', 'NombreEmpresa': 'Empresa Portuaria Iquique'}, {'CodigoEmpresa': '7463', 'NombreEmpresa': 'Empresa Portuaria Puerto Montt'}, {'CodigoEmpresa': '1076044', 'NombreEmpresa': 'EMPRESA PORTUARIA SAN ANTONIO'}, {'CodigoEmpresa': '1061586', 'NombreEmpresa': 'EMPRESA PORTUARIA VALPARAISO'}, {'CodigoEmpresa': '7266', 'NombreEmpresa': 'Estado Mayor Conjunto'}, {'CodigoEmpresa': '7076', 'NombreEmpresa': 'FISCALIA NACIONAL ECONOMICA'}, {'CodigoEmpresa': '7182', 'NombreEmpresa': 'FONDO DE SOLIDARIDAD E INVERSION SOCIAL'}, {'CodigoEmpresa': '220665', 'NombreEmpresa': 'FONDO HOSPITAL DE LA DIRECCION DE PREVISION DE CARABINEROS DE CHILE'}, {'CodigoEmpresa': '6954', 'NombreEmpresa': 'Fondo Nacional de Salud - FONASA'}, {'CodigoEmpresa': '6946', 'NombreEmpresa': 'Fuerza Aérea de Chile'}, {'CodigoEmpresa': '1090451', 'NombreEmpresa': 'FUND NACIONAL DE ORQUESTAS JUVENILES E INFANTILES DE CHILE'}, {'CodigoEmpresa': '1736867', 'NombreEmpresa': 'Fundación para la Innovación Agraria'}, {'CodigoEmpresa': '7286', 'NombreEmpresa': 'Gobernación  Provincial de Choapa'}, {'CodigoEmpresa': '7379', 'NombreEmpresa': 'Gobernación de Cachapoal'}, {'CodigoEmpresa': '7134', 'NombreEmpresa': 'Gobernación Provincia Capitan Prat'}, {'CodigoEmpresa': '7284', 'NombreEmpresa': 'Gobernación Provincia Cordillera'}, {'CodigoEmpresa': '7271', 'NombreEmpresa': 'GOBERNACION PROVINCIA DE CHACABUCO'}, {'CodigoEmpresa': '7347', 'NombreEmpresa': 'Gobernación Provincia de Elqui'}, {'CodigoEmpresa': '7148', 'NombreEmpresa': 'Gobernación Provincial Antártica'}, {'CodigoEmpresa': '7151', 'NombreEmpresa': 'Gobernación Provincial Antofagasta'}, {'CodigoEmpresa': '7387', 'NombreEmpresa': 'Gobernación Provincial Cardenal Caro'}, {'CodigoEmpresa': '7281', 'NombreEmpresa': 'Gobernación Provincial Cauquenes'}, {'CodigoEmpresa': '7499', 'NombreEmpresa': 'Gobernación Provincial Chiloe'}, {'CodigoEmpresa': '7450', 'NombreEmpresa': 'Gobernación Provincial de Arauco'}, {'CodigoEmpresa': '7357', 'NombreEmpresa': 'Gobernación Provincial de Arica'}, {'CodigoEmpresa': '7059', 'NombreEmpresa': 'Gobernación Provincial de Aysén'}, {'CodigoEmpresa': '7061', 'NombreEmpresa': 'GOBERNACION PROVINCIAL DE CAUTIN'}, {'CodigoEmpresa': '7155', 'NombreEmpresa': 'Gobernación Provincial de Chañaral'}, {'CodigoEmpresa': '7376', 'NombreEmpresa': 'Gobernación Provincial de Colchagua'}, {'CodigoEmpresa': '7300', 'NombreEmpresa': 'Gobernación Provincial de Concepción'}, {'CodigoEmpresa': '7145', 'NombreEmpresa': 'Gobernación Provincial de Copiapó'}, {'CodigoEmpresa': '7292', 'NombreEmpresa': 'Gobernación Provincial de Coyhaique'}, {'CodigoEmpresa': '7263', 'NombreEmpresa': 'Gobernación Provincial de Curicó'}, {'CodigoEmpresa': '7237', 'NombreEmpresa': 'GOBERNACION PROVINCIAL DE EL LOA'}, {'CodigoEmpresa': '7309', 'NombreEmpresa': 'GOBERNACION PROVINCIAL DE GRAL CARRERA'}, {'CodigoEmpresa': '7150', 'NombreEmpresa': 'Gobernación Provincial de Huasco'}, {'CodigoEmpresa': '7349', 'NombreEmpresa': 'Gobernación Provincial de Iquique'}, {'CodigoEmpresa': '135959', 'NombreEmpresa': 'Gobernación Provincial de Isla de Pascua'}, {'CodigoEmpresa': '7037', 'NombreEmpresa': 'Gobernación Provincial de Limarí'}, {'CodigoEmpresa': '7282', 'NombreEmpresa': 'Gobernación Provincial de Linares'}, {'CodigoEmpresa': '7267', 'NombreEmpresa': 'Gobernación Provincial de Llanquihue'}, {'CodigoEmpresa': '7009', 'NombreEmpresa': 'Gobernación Provincial de Los Andes'}, {'CodigoEmpresa': '7484', 'NombreEmpresa': 'Gobernación Provincial de Magallanes'}, {'CodigoEmpresa': '7253', 'NombreEmpresa': 'Gobernación Provincial de Maipo'}, {'CodigoEmpresa': '7275', 'NombreEmpresa': 'Gobernación Provincial de Malleco'}, {'CodigoEmpresa': '7142', 'NombreEmpresa': 'Gobernación Provincial de Ñuble'}, {'CodigoEmpresa': '7283', 'NombreEmpresa': 'GOBERNACION PROVINCIAL DE OSORNO'}, {'CodigoEmpresa': '7252', 'NombreEmpresa': 'Gobernación Provincial de Palena'}, {'CodigoEmpresa': '7350', 'NombreEmpresa': 'GOBERNACION PROVINCIAL DE PARINACOTA'}, {'CodigoEmpresa': '7420', 'NombreEmpresa': 'Gobernación Provincial de Petorca'}, {'CodigoEmpresa': '7346', 'NombreEmpresa': 'GOBERNACION PROVINCIAL DE QUILLOTA'}, {'CodigoEmpresa': '269793', 'NombreEmpresa': 'Gobernación Provincial de Ranco'}, {'CodigoEmpresa': '111119', 'NombreEmpresa': 'Gobernación Provincial de San Antonio'}, {'CodigoEmpresa': '7055', 'NombreEmpresa': 'Gobernación Provincial de Talagante'}, {'CodigoEmpresa': '7269', 'NombreEmpresa': 'Gobernación Provincial de Talca'}, {'CodigoEmpresa': '7063', 'NombreEmpresa': 'Gobernación Provincial de Tocopilla'}, {'CodigoEmpresa': '7264', 'NombreEmpresa': 'Gobernación Provincial de Última Esperanza'}, {'CodigoEmpresa': '7322', 'NombreEmpresa': 'Gobernación Provincial de Valdivia'}, {'CodigoEmpresa': '7352', 'NombreEmpresa': 'Gobernación Provincial de Valparaíso'}, {'CodigoEmpresa': '7140', 'NombreEmpresa': 'Gobernación Provincial del Bío-Bío'}, {'CodigoEmpresa': '275314', 'NombreEmpresa': 'Gobernación Provincial del Tamarugal'}, {'CodigoEmpresa': '7056', 'NombreEmpresa': 'Gobernación Provincial Melipilla'}, {'CodigoEmpresa': '7495', 'NombreEmpresa': 'Gobernación Provincial San Felipe'}, {'CodigoEmpresa': '7381', 'NombreEmpresa': 'Gobernación Provincial Tierra del Fuego'}, {'CodigoEmpresa': '1163597', 'NombreEmpresa': 'Gobierno Provincial de Marga Marga'}, {'CodigoEmpresa': '7199', 'NombreEmpresa': 'Gobierno Regional de Antofagasta'}, {'CodigoEmpresa': '267965', 'NombreEmpresa': 'Gobierno Regional de Arica y Parinacota'}, {'CodigoEmpresa': '7077', 'NombreEmpresa': 'GOBIERNO REGIONAL DE ATACAMA'}, {'CodigoEmpresa': '7085', 'NombreEmpresa': 'Gobierno Regional de Aysén'}, {'CodigoEmpresa': '6940', 'NombreEmpresa': 'Gobierno Regional de Coquimbo'}, {'CodigoEmpresa': '7013', 'NombreEmpresa': 'Gobierno Regional de La Araucanía'}, {'CodigoEmpresa': '7015', 'NombreEmpresa': 'Gobierno Regional de la Región del Bío-Bío'}, {'CodigoEmpresa': '7207', 'NombreEmpresa': 'Gobierno Regional de Los Lagos'}, {'CodigoEmpresa': '267799', 'NombreEmpresa': 'GOBIERNO REGIONAL DE LOS RIOS'}, {'CodigoEmpresa': '7087', 'NombreEmpresa': 'GOBIERNO REGIONAL DE MAGALLANES Y ANTARTICA CHILEN'}, {'CodigoEmpresa': '7084', 'NombreEmpresa': 'Gobierno Regional de Tarapacá'}, {'CodigoEmpresa': '7172', 'NombreEmpresa': 'Gobierno Regional de Valparaíso'}, {'CodigoEmpresa': '7222', 'NombreEmpresa': 'Gobierno Regional Metropolitano'}, {'CodigoEmpresa': '7200', 'NombreEmpresa': 'GOBIERNO REGIONAL VI REGION DEL LI BERTADOR B O\"HIGGINS'}, {'CodigoEmpresa': '7223', 'NombreEmpresa': 'GOBIERNO REGIONAL VII REGION'}, {'CodigoEmpresa': '103933', 'NombreEmpresa': 'Hermanas Misioneras Franciscanas de Purulón'}, {'CodigoEmpresa': '7403', 'NombreEmpresa': 'Hospital  Lonquimay'}, {'CodigoEmpresa': '7472', 'NombreEmpresa': 'Hospital Andacollo'}, {'CodigoEmpresa': '7398', 'NombreEmpresa': 'Hospital Arauco'}, {'CodigoEmpresa': '7293', 'NombreEmpresa': 'HOSPITAL BARROS LUCO TRUDEAU'}, {'CodigoEmpresa': '7393', 'NombreEmpresa': 'Hospital Base Osorno'}, {'CodigoEmpresa': '7131', 'NombreEmpresa': 'Hospital Carahue'}, {'CodigoEmpresa': '7494', 'NombreEmpresa': 'Hospital Carlos Cisternas de Calama'}, {'CodigoEmpresa': '7256', 'NombreEmpresa': 'Hospital Cauquenes'}, {'CodigoEmpresa': '7297', 'NombreEmpresa': 'HOSPITAL CLINICO DE MAGALLANES DR. LAUTARO NAVARRO AVARIA'}, {'CodigoEmpresa': '1379869', 'NombreEmpresa': 'Hospital Clínico Metropolitano El Carmen Doctor Luis Valentín Ferrada'}, {'CodigoEmpresa': '1375151', 'NombreEmpresa': 'HOSPITAL CLINICO METROPOLITANO LA FLORIDA DRA ELOISA DIAZ INSUNZA'}, {'CodigoEmpresa': '7326', 'NombreEmpresa': 'Hospital Clínico San Borja Arriarán'}, {'CodigoEmpresa': '7480', 'NombreEmpresa': 'Hospital Cochrane'}, {'CodigoEmpresa': '7421', 'NombreEmpresa': 'Hospital Coinco'}, {'CodigoEmpresa': '7462', 'NombreEmpresa': 'Hospital Collipulli'}, {'CodigoEmpresa': '7330', 'NombreEmpresa': 'Hospital Combarbalá'}, {'CodigoEmpresa': '7137', 'NombreEmpresa': 'HOSPITAL COMUNITARIO DE SALUD FAMILIAR DE BULNES'}, {'CodigoEmpresa': '7400', 'NombreEmpresa': 'Hospital Contulmo'}, {'CodigoEmpresa': '7340', 'NombreEmpresa': 'Hospital Coyhaique'}, {'CodigoEmpresa': '7399', 'NombreEmpresa': 'Hospital Curanilahue'}, {'CodigoEmpresa': '7452', 'NombreEmpresa': 'Hospital Curicó'}, {'CodigoEmpresa': '1286160', 'NombreEmpresa': 'HOSPITAL DE CASTRO DR. AUGUSTO RIFFART'}, {'CodigoEmpresa': '7279', 'NombreEmpresa': 'Hospital de Chanco'}, {'CodigoEmpresa': '7413', 'NombreEmpresa': 'Hospital de Chañaral'}, {'CodigoEmpresa': '7441', 'NombreEmpresa': 'Hospital de Chimbarongo'}, {'CodigoEmpresa': '7277', 'NombreEmpresa': 'Hospital de Constitución'}, {'CodigoEmpresa': '7411', 'NombreEmpresa': 'Hospital de Copiapó'}, {'CodigoEmpresa': '7426', 'NombreEmpresa': 'Hospital de Corral'}, {'CodigoEmpresa': '7291', 'NombreEmpresa': 'Hospital de Cunco'}, {'CodigoEmpresa': '7455', 'NombreEmpresa': 'Hospital de Curacaví'}, {'CodigoEmpresa': '7278', 'NombreEmpresa': 'Hospital de Curepto'}, {'CodigoEmpresa': '7414', 'NombreEmpresa': 'Hospital de Huasco'}, {'CodigoEmpresa': '7468', 'NombreEmpresa': 'Hospital de Illapel'}, {'CodigoEmpresa': '7429', 'NombreEmpresa': 'Hospital De la Unión'}, {'CodigoEmpresa': '7424', 'NombreEmpresa': 'Hospital de Lanco'}, {'CodigoEmpresa': '7439', 'NombreEmpresa': 'Hospital de Litueche'}, {'CodigoEmpresa': '7447', 'NombreEmpresa': 'Hospital de Lolol'}, {'CodigoEmpresa': '7156', 'NombreEmpresa': 'Hospital de Loncoche'}, {'CodigoEmpresa': '7425', 'NombreEmpresa': 'Hospital de los Lagos'}, {'CodigoEmpresa': '7442', 'NombreEmpresa': 'Hospital de Marchigue'}, {'CodigoEmpresa': '7370', 'NombreEmpresa': 'Hospital de Mejillones'}, {'CodigoEmpresa': '7458', 'NombreEmpresa': 'Hospital de Melipilla'}, {'CodigoEmpresa': '1238659', 'NombreEmpresa': 'Hospital de Misión San Juan de la Costa'}, {'CodigoEmpresa': '7280', 'NombreEmpresa': 'Hospital de MOLINA'}, {'CodigoEmpresa': '7434', 'NombreEmpresa': 'Hospital de Mulchén'}, {'CodigoEmpresa': '7445', 'NombreEmpresa': 'Hospital de Nancagua'}, {'CodigoEmpresa': '7045', 'NombreEmpresa': 'Hospital de Niños Roberto del Rio'}, {'CodigoEmpresa': '7422', 'NombreEmpresa': 'Hospital de Paillaco'}, {'CodigoEmpresa': '7459', 'NombreEmpresa': 'Hospital de Peñaflor'}, {'CodigoEmpresa': '7444', 'NombreEmpresa': 'Hospital de Peumo'}, {'CodigoEmpresa': '7287', 'NombreEmpresa': 'HOSPITAL DE PUERTO OCTAY'}, {'CodigoEmpresa': '7465', 'NombreEmpresa': 'Hospital de Purén'}, {'CodigoEmpresa': '7327', 'NombreEmpresa': 'Hospital de Purranque'}, {'CodigoEmpresa': '7303', 'NombreEmpresa': 'Hospital de Quirihue'}, {'CodigoEmpresa': '7440', 'NombreEmpresa': 'Hospital de Rengo'}, {'CodigoEmpresa': '7323', 'NombreEmpresa': 'Hospital de Salamanca'}, {'CodigoEmpresa': '7448', 'NombreEmpresa': 'Hospital de San Fernando'}, {'CodigoEmpresa': '7443', 'NombreEmpresa': 'Hospital de San Vicente de Tagua Tagua'}, {'CodigoEmpresa': '7314', 'NombreEmpresa': 'Hospital de Santa Cruz'}, {'CodigoEmpresa': '7457', 'NombreEmpresa': 'Hospital de Talagante'}, {'CodigoEmpresa': '7391', 'NombreEmpresa': 'Hospital de Taltal'}, {'CodigoEmpresa': '7460', 'NombreEmpresa': 'HOSPITAL DE URGENCIA ASISTENCIA PUBLICA DR ALEJANDRO DEL RIO'}, {'CodigoEmpresa': '1238663', 'NombreEmpresa': 'Hospital del Perpetuo Socorro de Quilacahuin'}, {'CodigoEmpresa': '7428', 'NombreEmpresa': 'Hospital del Salvador'}, {'CodigoEmpresa': '7415', 'NombreEmpresa': 'Hospital Diego de Almagro'}, {'CodigoEmpresa': '7046', 'NombreEmpresa': 'Hospital Doctor Hernán Henríquez Aravena'}, {'CodigoEmpresa': '6918', 'NombreEmpresa': 'Hospital Doctor Luis Calvo Mackenna'}, {'CodigoEmpresa': '7491', 'NombreEmpresa': 'Hospital Dr Victor Hugo  Möll de Cabildo'}, {'CodigoEmpresa': '7289', 'NombreEmpresa': 'Hospital Dr. Abraham Godoy Peña'}, {'CodigoEmpresa': '7310', 'NombreEmpresa': 'Hospital Dr. Augusto Essmann Burgos'}, {'CodigoEmpresa': '7383', 'NombreEmpresa': 'Hospital Dr. Felix Bulnes Cerda'}, {'CodigoEmpresa': '7324', 'NombreEmpresa': 'Hospital Dr. GGB'}, {'CodigoEmpresa': '6936', 'NombreEmpresa': 'Hospital Dr. Gustavo Fricke'}, {'CodigoEmpresa': '7386', 'NombreEmpresa': 'Hospital Dr. Marcos Chamorro Iglesias'}, {'CodigoEmpresa': '7344', 'NombreEmpresa': 'Hospital Dr. Mario Sánchez Vergara de La Calera'}, {'CodigoEmpresa': '7139', 'NombreEmpresa': 'Hospital El Carmen'}, {'CodigoEmpresa': '7390', 'NombreEmpresa': 'Hospital El Pino'}, {'CodigoEmpresa': '7475', 'NombreEmpresa': 'Hospital Florida'}, {'CodigoEmpresa': '7290', 'NombreEmpresa': 'Hospital Galvarino'}, {'CodigoEmpresa': '7490', 'NombreEmpresa': 'Hospital Geriátrico Paz de la Tarde'}, {'CodigoEmpresa': '7047', 'NombreEmpresa': 'Hospital Gorbea'}, {'CodigoEmpresa': '7042', 'NombreEmpresa': 'Hospital Herminda Martin'}, {'CodigoEmpresa': '7255', 'NombreEmpresa': 'Hospital Hualañé'}, {'CodigoEmpresa': '7389', 'NombreEmpresa': 'Hospital Huepil'}, {'CodigoEmpresa': '7401', 'NombreEmpresa': 'Hospital Intercultural Kallvu Llanka'}, {'CodigoEmpresa': '7487', 'NombreEmpresa': 'Hospital La Ligua'}, {'CodigoEmpresa': '7312', 'NombreEmpresa': 'Hospital La Serena'}, {'CodigoEmpresa': '7464', 'NombreEmpresa': 'Hospital Laja'}, {'CodigoEmpresa': '7419', 'NombreEmpresa': 'Hospital Las Higueras'}, {'CodigoEmpresa': '7402', 'NombreEmpresa': 'Hospital Lebu'}, {'CodigoEmpresa': '7258', 'NombreEmpresa': 'Hospital Linares'}, {'CodigoEmpresa': '7481', 'NombreEmpresa': 'Hospital Lota'}, {'CodigoEmpresa': '1076658', 'NombreEmpresa': 'HOSPITAL METROPOLITANO DE SANTIAGO'}, {'CodigoEmpresa': '7388', 'NombreEmpresa': 'Hospital Nacimiento'}, {'CodigoEmpresa': '7417', 'NombreEmpresa': 'Hospital Ovalle'}, {'CodigoEmpresa': '7331', 'NombreEmpresa': 'Hospital Padre Alberto Hurtado'}, {'CodigoEmpresa': '102393', 'NombreEmpresa': 'HOSPITAL PANGUIPULLI'}, {'CodigoEmpresa': '7259', 'NombreEmpresa': 'Hospital Parral'}, {'CodigoEmpresa': '7053', 'NombreEmpresa': 'Hospital Pedro Morales C.'}, {'CodigoEmpresa': '7446', 'NombreEmpresa': 'Hospital Penco - Lirquen'}, {'CodigoEmpresa': '7489', 'NombreEmpresa': 'Hospital Peñablanca'}, {'CodigoEmpresa': '7343', 'NombreEmpresa': 'Hospital Petorca'}, {'CodigoEmpresa': '7435', 'NombreEmpresa': 'Hospital Pichidegua'}, {'CodigoEmpresa': '7436', 'NombreEmpresa': 'Hospital Pichilemu'}, {'CodigoEmpresa': '7048', 'NombreEmpresa': 'Hospital Pitrufquén'}, {'CodigoEmpresa': '7412', 'NombreEmpresa': 'Hospital Provincial del Huasco Monseñor Fernando Ariztia Ruiz'}, {'CodigoEmpresa': '1216633', 'NombreEmpresa': 'HOSPITAL PSIQUIATRICO DR. PHILIPPE PINEL PUTAENDO'}, {'CodigoEmpresa': '7427', 'NombreEmpresa': 'Hospital Psiquiátrico El Peral'}, {'CodigoEmpresa': '7335', 'NombreEmpresa': 'Hospital Puerto Aysén'}, {'CodigoEmpresa': '7476', 'NombreEmpresa': 'Hospital Puerto Cisnes'}, {'CodigoEmpresa': '127018', 'NombreEmpresa': 'HOSPITAL PUERTO MONTT SERVICIO DE SALUD DEL RELONCAVI'}, {'CodigoEmpresa': '7307', 'NombreEmpresa': 'Hospital Puerto Saavedra'}, {'CodigoEmpresa': '7485', 'NombreEmpresa': 'Hospital Quilpué'}, {'CodigoEmpresa': '7348', 'NombreEmpresa': 'Hospital Quintero'}, {'CodigoEmpresa': '7423', 'NombreEmpresa': 'Hospital Río Bueno'}, {'CodigoEmpresa': '7470', 'NombreEmpresa': 'Hospital Rio Negro'}, {'CodigoEmpresa': '1215262', 'NombreEmpresa': 'Hospital San Antonio de Putaendo'}, {'CodigoEmpresa': '7469', 'NombreEmpresa': 'Hospital San Carlos'}, {'CodigoEmpresa': '7262', 'NombreEmpresa': 'Hospital San Javier'}, {'CodigoEmpresa': '7406', 'NombreEmpresa': 'Hospital San José'}, {'CodigoEmpresa': '1214332', 'NombreEmpresa': 'Hospital San Juan de Dios de Los Andes'}, {'CodigoEmpresa': '7405', 'NombreEmpresa': 'Hospital San Luis de Buin'}, {'CodigoEmpresa': '7345', 'NombreEmpresa': 'Hospital San Martín de Quillota'}, {'CodigoEmpresa': '7477', 'NombreEmpresa': 'Hospital Sanatorio San José de Maipo'}, {'CodigoEmpresa': '7404', 'NombreEmpresa': 'Hospital Santa Barbara'}, {'CodigoEmpresa': '7449', 'NombreEmpresa': 'Hospital Santa Filomena de Graneros'}, {'CodigoEmpresa': '7318', 'NombreEmpresa': 'Hospital Santa Juana'}, {'CodigoEmpresa': '7130', 'NombreEmpresa': 'Hospital Santiago Oriente Dr. Luis Tisne Brousse'}, {'CodigoEmpresa': '7486', 'NombreEmpresa': 'Hospital Santo Tomás de Limache'}, {'CodigoEmpresa': '7261', 'NombreEmpresa': 'Hospital Teno'}, {'CodigoEmpresa': '7274', 'NombreEmpresa': 'Hospital Til - Til'}, {'CodigoEmpresa': '7385', 'NombreEmpresa': 'Hospital Tocopilla'}, {'CodigoEmpresa': '7062', 'NombreEmpresa': 'Hospital Toltén'}, {'CodigoEmpresa': '7384', 'NombreEmpresa': 'Hospital Traiguén'}, {'CodigoEmpresa': '7288', 'NombreEmpresa': 'Hospital Victoria'}, {'CodigoEmpresa': '7049', 'NombreEmpresa': 'Hospital Vilcún'}, {'CodigoEmpresa': '7132', 'NombreEmpresa': 'Hospital Villarrica'}, {'CodigoEmpresa': '7397', 'NombreEmpresa': 'Hospital Yumbel'}, {'CodigoEmpresa': '100156', 'NombreEmpresa': 'I MUNICIPALIDAD DE ANGOL'}, {'CodigoEmpresa': '87653', 'NombreEmpresa': 'I MUNICIPALIDAD DE ANTOFAGASTA'}, {'CodigoEmpresa': '100049', 'NombreEmpresa': 'I MUNICIPALIDAD DE AYSEN'}, {'CodigoEmpresa': '86917', 'NombreEmpresa': 'I MUNICIPALIDAD DE CALAMA'}, {'CodigoEmpresa': '7241', 'NombreEmpresa': 'I MUNICIPALIDAD DE CERRILLOS'}, {'CodigoEmpresa': '154782', 'NombreEmpresa': 'I MUNICIPALIDAD DE CHILE CHICO'}, {'CodigoEmpresa': '84958', 'NombreEmpresa': 'I MUNICIPALIDAD DE CONCHALI'}, {'CodigoEmpresa': '86872', 'NombreEmpresa': 'I MUNICIPALIDAD DE COPIAPO'}, {'CodigoEmpresa': '116298', 'NombreEmpresa': 'I MUNICIPALIDAD DE EL QUISCO'}, {'CodigoEmpresa': '116944', 'NombreEmpresa': 'I MUNICIPALIDAD DE EMPEDRADO'}, {'CodigoEmpresa': '7496', 'NombreEmpresa': 'I MUNICIPALIDAD DE LA COMUNA DE EL BOSQUE'}, {'CodigoEmpresa': '113255', 'NombreEmpresa': 'I MUNICIPALIDAD DE LA CRUZ'}, {'CodigoEmpresa': '83825', 'NombreEmpresa': 'I MUNICIPALIDAD DE LA PINTANA'}, {'CodigoEmpresa': '116296', 'NombreEmpresa': 'I MUNICIPALIDAD DE LAS CABRAS'}, {'CodigoEmpresa': '7064', 'NombreEmpresa': 'I MUNICIPALIDAD DE LLANQUIHUE'}, {'CodigoEmpresa': '118620', 'NombreEmpresa': 'I MUNICIPALIDAD DE LOS ALAMOS'}, {'CodigoEmpresa': '112924', 'NombreEmpresa': 'I MUNICIPALIDAD DE MONTEPATRIA'}, {'CodigoEmpresa': '117406', 'NombreEmpresa': 'I MUNICIPALIDAD DE PADRE HURTADO'}, {'CodigoEmpresa': '88102', 'NombreEmpresa': 'I MUNICIPALIDAD DE PROVIDENCIA'}, {'CodigoEmpresa': '87388', 'NombreEmpresa': 'I MUNICIPALIDAD DE PUENTE ALTO'}, {'CodigoEmpresa': '86507', 'NombreEmpresa': 'I MUNICIPALIDAD DE PUERTO MONTT'}, {'CodigoEmpresa': '98280', 'NombreEmpresa': 'I MUNICIPALIDAD DE PUTAENDO'}, {'CodigoEmpresa': '88203', 'NombreEmpresa': 'I MUNICIPALIDAD DE QUILLOTA'}, {'CodigoEmpresa': '93774', 'NombreEmpresa': 'I MUNICIPALIDAD DE SAN CLEMENTE'}, {'CodigoEmpresa': '142855', 'NombreEmpresa': 'I MUNICIPALIDAD DE SAN PEDRO'}, {'CodigoEmpresa': '113428', 'NombreEmpresa': 'I MUNICIPALIDAD DE SAN PEDRO DE ATACAMA'}, {'CodigoEmpresa': '98443', 'NombreEmpresa': 'I MUNICIPALIDAD DE TOME'}, {'CodigoEmpresa': '114395', 'NombreEmpresa': 'I MUNICIPALIDAD DE TUCAPEL'}, {'CodigoEmpresa': '116399', 'NombreEmpresa': 'I MUNICIPALIDAD DE VICTORIA'}, {'CodigoEmpresa': '84152', 'NombreEmpresa': 'I MUNICIPALIDAD VALDIVIA'}, {'CodigoEmpresa': '114393', 'NombreEmpresa': 'I.  MUNICIPALIDAD CURACO  DE VELEZ'}, {'CodigoEmpresa': '7328', 'NombreEmpresa': 'I. Municipalidad  de Alto del Carmen'}, {'CodigoEmpresa': '121539', 'NombreEmpresa': 'I. Municipalidad de Calle Larga'}, {'CodigoEmpresa': '113614', 'NombreEmpresa': 'I. MUNICIPALIDAD DE CASABLANCA'}, {'CodigoEmpresa': '88254', 'NombreEmpresa': 'I. Municipalidad de Chillán'}, {'CodigoEmpresa': '99322', 'NombreEmpresa': 'I. MUNICIPALIDAD DE COLINA'}, {'CodigoEmpresa': '87901', 'NombreEmpresa': 'I. MUNICIPALIDAD DE COQUIMBO'}, {'CodigoEmpresa': '100448', 'NombreEmpresa': 'I. Municipalidad de Coronel'}, {'CodigoEmpresa': '99105', 'NombreEmpresa': 'I. MUNICIPALIDAD DE INDEPENDENCIA'}, {'CodigoEmpresa': '114398', 'NombreEmpresa': 'I. Municipalidad de Licantén'}, {'CodigoEmpresa': '86518', 'NombreEmpresa': 'I. MUNICIPALIDAD DE LO ESPEJO'}, {'CodigoEmpresa': '87373', 'NombreEmpresa': 'I. MUNICIPALIDAD DE LO PRADO'}, {'CodigoEmpresa': '101002', 'NombreEmpresa': 'I. Municipalidad de Los Andes'}, {'CodigoEmpresa': '115166', 'NombreEmpresa': 'I. MUNICIPALIDAD DE PENCAHUE'}, {'CodigoEmpresa': '102868', 'NombreEmpresa': 'I. Municipalidad de Puerto Varas'}, {'CodigoEmpresa': '87633', 'NombreEmpresa': 'I. MUNICIPALIDAD DE QUILPUE'}, {'CodigoEmpresa': '114918', 'NombreEmpresa': 'I. MUNICIPALIDAD DE RINCONADA'}, {'CodigoEmpresa': '7367', 'NombreEmpresa': 'I. Municipalidad de Río Negro'}, {'CodigoEmpresa': '111960', 'NombreEmpresa': 'I. Municipalidad de San Pablo'}, {'CodigoEmpresa': '99765', 'NombreEmpresa': 'I. MUNICIPALIDAD DE TALAGANTE'}, {'CodigoEmpresa': '84480', 'NombreEmpresa': 'I. MUNICIPALIDAD DE TALCA'}, {'CodigoEmpresa': '115167', 'NombreEmpresa': 'I. MUNICIPALIDAD DE TOCOPILLA'}, {'CodigoEmpresa': '86491', 'NombreEmpresa': 'I. MUNICIPALIDAD DE VALLENAR'}, {'CodigoEmpresa': '94315', 'NombreEmpresa': 'I. MUNICIPALIDAD POZO ALMONTE'}, {'CodigoEmpresa': '86664', 'NombreEmpresa': 'I.MUNICIPALIDAD DE CERRO NAVIA'}, {'CodigoEmpresa': '92414', 'NombreEmpresa': 'I.MUNICIPALIDAD DE CHEPICA'}, {'CodigoEmpresa': '113254', 'NombreEmpresa': 'I.Municipalidad de Coinco'}, {'CodigoEmpresa': '87382', 'NombreEmpresa': 'I.MUNICIPALIDAD DE CONCEPCION'}, {'CodigoEmpresa': '94458', 'NombreEmpresa': 'I.MUNICIPALIDAD DE CONCON'}, {'CodigoEmpresa': '87838', 'NombreEmpresa': 'I.Municipalidad de Curicó'}, {'CodigoEmpresa': '87824', 'NombreEmpresa': 'I.MUNICIPALIDAD DE ESTACION CENTRAL'}, {'CodigoEmpresa': '84300', 'NombreEmpresa': 'I.MUNICIPALIDAD DE MACUL'}, {'CodigoEmpresa': '115304', 'NombreEmpresa': 'I.MUNICIPALIDAD DE MARCHIGUE'}, {'CodigoEmpresa': '120798', 'NombreEmpresa': 'I.MUNICIPALIDAD DE MARIA PINTO'}, {'CodigoEmpresa': '99101', 'NombreEmpresa': 'I.Municipalidad de Mostazal'}, {'CodigoEmpresa': '87172', 'NombreEmpresa': 'I.MUNICIPALIDAD DE PEÑALOLEN'}, {'CodigoEmpresa': '113913', 'NombreEmpresa': 'I.MUNICIPALIDAD DE SAN RAFAEL'}, {'CodigoEmpresa': '87399', 'NombreEmpresa': 'I.MUNICIPALIDAD DE VIÑA DEL MAR'}, {'CodigoEmpresa': '115609', 'NombreEmpresa': 'IIustre Municipalidad de Malloa'}, {'CodigoEmpresa': '86580', 'NombreEmpresa': 'IL. MUNICIPALIDAD DE PUNTA ARENAS'}, {'CodigoEmpresa': '7356', 'NombreEmpresa': 'ILUSTRE MUNICIPALIDAD  DE SAGRADA FAMILIA'}, {'CodigoEmpresa': '182336', 'NombreEmpresa': 'Ilustre Municipalidad Alto Bio Bio'}, {'CodigoEmpresa': '7294', 'NombreEmpresa': 'Ilustre Municipalidad de Algarrobo'}, {'CodigoEmpresa': '111124', 'NombreEmpresa': 'Ilustre Municipalidad de Alhue'}, {'CodigoEmpresa': '119639', 'NombreEmpresa': 'Ilustre Municipalidad de Andacollo'}, {'CodigoEmpresa': '119484', 'NombreEmpresa': 'ILUSTRE MUNICIPALIDAD DE ANTUCO'}, {'CodigoEmpresa': '7050', 'NombreEmpresa': 'Ilustre Municipalidad de Arauco'}, {'CodigoEmpresa': '86624', 'NombreEmpresa': 'ILUSTRE MUNICIPALIDAD DE ARICA'}, {'CodigoEmpresa': '118069', 'NombreEmpresa': 'Ilustre municipalidad de Bulnes'}, {'CodigoEmpresa': '115459', 'NombreEmpresa': 'Ilustre Municipalidad de Cabildo'}, {'CodigoEmpresa': '116407', 'NombreEmpresa': 'Ilustre Municipalidad de Cabo de Hornos'}, {'CodigoEmpresa': '120186', 'NombreEmpresa': 'Ilustre Municipalidad de Cabrero'}, {'CodigoEmpresa': '115011', 'NombreEmpresa': 'Ilustre Municipalidad de Calbuco'}, {'CodigoEmpresa': '7364', 'NombreEmpresa': 'Ilustre Municipalidad de Caldera'}, {'CodigoEmpresa': '116219', 'NombreEmpresa': 'Ilustre Municipalidad de Calera de Tango'}, {'CodigoEmpresa': '294421', 'NombreEmpresa': 'Ilustre Municipalidad de Camarones'}, {'CodigoEmpresa': '119487', 'NombreEmpresa': 'Ilustre Municipalidad de Camiña'}, {'CodigoEmpresa': '84473', 'NombreEmpresa': 'ILUSTRE MUNICIPALIDAD DE CANELA'}, {'CodigoEmpresa': '119488', 'NombreEmpresa': 'Ilustre Municipalidad de Cañete'}, {'CodigoEmpresa': '100127', 'NombreEmpresa': 'ILUSTRE MUNICIPALIDAD DE CASTRO'}, {'CodigoEmpresa': '129737', 'NombreEmpresa': 'Ilustre Municipalidad de Catemu'}, {'CodigoEmpresa': '7351', 'NombreEmpresa': 'Ilustre Municipalidad de Cauquenes'}, {'CodigoEmpresa': '114392', 'NombreEmpresa': 'ILUSTRE MUNICIPALIDAD DE CHAITEN'}, {'CodigoEmpresa': '7501', 'NombreEmpresa': 'Ilustre Municipalidad de Chanco'}, {'CodigoEmpresa': '109196', 'NombreEmpresa': 'ILUSTRE MUNICIPALIDAD DE CHAÑARAL'}, {'CodigoEmpresa': '7362', 'NombreEmpresa': 'Ilustre Municipalidad de Chillán'}, {'CodigoEmpresa': '116221', 'NombreEmpresa': 'Ilustre Municipalidad de Chillan Viejo'}, {'CodigoEmpresa': '116404', 'NombreEmpresa': 'Ilustre Municipalidad de Chimbarongo'}, {'CodigoEmpresa': '165105', 'NombreEmpresa': 'Ilustre Municipalidad de Cholchol'}, {'CodigoEmpresa': '115168', 'NombreEmpresa': 'ILUSTRE MUNICIPALIDAD DE CHONCHI'}, {'CodigoEmpresa': '116747', 'NombreEmpresa': 'Ilustre Municipalidad de Cisnes'}, {'CodigoEmpresa': '114925', 'NombreEmpresa': 'ILUSTRE MUNICIPALIDAD DE COBQUECURA'}, {'CodigoEmpresa': '182424', 'NombreEmpresa': 'Ilustre Municipalidad de Cochamo'}, {'CodigoEmpresa': '116942', 'NombreEmpresa': 'Ilustre Municipalidad de Cochrane'}, {'CodigoEmpresa': '165106', 'NombreEmpresa': 'Ilustre Municipalidad de Codegua'}, {'CodigoEmpresa': '116742', 'NombreEmpresa': 'Ilustre Municipalidad de Coelemu'}, {'CodigoEmpresa': '7146', 'NombreEmpresa': 'Ilustre Municipalidad de Coihueco'}, {'CodigoEmpresa': '124195', 'NombreEmpresa': 'Ilustre Municipalidad de Colbún'}, {'CodigoEmpresa': '1053458', 'NombreEmpresa': 'ILUSTRE MUNICIPALIDAD DE COLCHANE'}, {'CodigoEmpresa': '113853', 'NombreEmpresa': 'Ilustre Municipalidad de Collipulli'}, {'CodigoEmpresa': '119266', 'NombreEmpresa': 'Ilustre Municipalidad de Coltauco'}, {'CodigoEmpresa': '102316', 'NombreEmpresa': 'ILUSTRE MUNICIPALIDAD DE CONSTITUCION'}, {'CodigoEmpresa': '141884', 'NombreEmpresa': 'Ilustre Municipalidad de Contulmo'}, {'CodigoEmpresa': '7071', 'NombreEmpresa': 'Ilustre Municipalidad de Coyhaique'}, {'CodigoEmpresa': '129738', 'NombreEmpresa': 'Ilustre Municipalidad de Cunco'}, {'CodigoEmpresa': '121613', 'NombreEmpresa': 'Ilustre Municipalidad de Curacautín'}, {'CodigoEmpresa': '125602', 'NombreEmpresa': 'Ilustre Municipalidad de Curacaví'}, {'CodigoEmpresa': '127036', 'NombreEmpresa': 'Ilustre Municipalidad de Curanilahue'}, {'CodigoEmpresa': '118093', 'NombreEmpresa': 'Ilustre Municipalidad de Curarrehue'}, {'CodigoEmpresa': '133311', 'NombreEmpresa': 'Ilustre Municipalidad de Curepto'}, {'CodigoEmpresa': '7454', 'NombreEmpresa': 'Ilustre Municipalidad de Diego de Almagro'}, {'CodigoEmpresa': '123784', 'NombreEmpresa': 'Ilustre Municipalidad de El Carmen'}, {'CodigoEmpresa': '116741', 'NombreEmpresa': 'ILUSTRE MUNICIPALIDAD DE EL MONTE'}, {'CodigoEmpresa': '7066', 'NombreEmpresa': 'Ilustre Municipalidad de El Tabo'}, {'CodigoEmpresa': '132741', 'NombreEmpresa': 'Ilustre Municipalidad de Ercilla'}, {'CodigoEmpresa': '115285', 'NombreEmpresa': 'Ilustre Municipalidad de Florida'}, {'CodigoEmpresa': '118089', 'NombreEmpresa': 'Ilustre Municipalidad de Freire'}, {'CodigoEmpresa': '135567', 'NombreEmpresa': 'Ilustre Municipalidad de Freirina'}, {'CodigoEmpresa': '119651', 'NombreEmpresa': 'Ilustre Municipalidad de Fresia'}, {'CodigoEmpresa': '84478', 'NombreEmpresa': 'ILUSTRE MUNICIPALIDAD DE FRUTILLAR'}, {'CodigoEmpresa': '118068', 'NombreEmpresa': 'Ilustre Municipalidad de Futaleufu'}, {'CodigoEmpresa': '106880', 'NombreEmpresa': 'Ilustre Municipalidad de Futrono'}, {'CodigoEmpresa': '124203', 'NombreEmpresa': 'Ilustre Municipalidad de Galvarino'}, {'CodigoEmpresa': '118859', 'NombreEmpresa': 'Ilustre Municipalidad de General Lagos'}, {'CodigoEmpresa': '148507', 'NombreEmpresa': 'Ilustre Municipalidad de Graneros'}, {'CodigoEmpresa': '165107', 'NombreEmpresa': 'Ilustre Municipalidad de Guaitecas'}, {'CodigoEmpresa': '116733', 'NombreEmpresa': 'Ilustre Municipalidad de Hijuelas'}, {'CodigoEmpresa': '106170', 'NombreEmpresa': 'ILUSTRE MUNICIPALIDAD DE HUALAIHUE'}, {'CodigoEmpresa': '118855', 'NombreEmpresa': 'Ilustre Municipalidad de Hualañe'}, {'CodigoEmpresa': '123786', 'NombreEmpresa': 'Ilustre Municipalidad de Hualpen'}, {'CodigoEmpresa': '140867', 'NombreEmpresa': 'Ilustre Municipalidad de Hualqui'}, {'CodigoEmpresa': '116946', 'NombreEmpresa': 'ILUSTRE MUNICIPALIDAD DE HUARA'}, {'CodigoEmpresa': '116406', 'NombreEmpresa': 'Ilustre Municipalidad de Huasco'}, {'CodigoEmpresa': '115164', 'NombreEmpresa': 'ILUSTRE MUNICIPALIDAD DE ILLAPEL'}, {'CodigoEmpresa': '87175', 'NombreEmpresa': 'ILUSTRE MUNICIPALIDAD DE IQUIQUE'}, {'CodigoEmpresa': '119852', 'NombreEmpresa': 'Ilustre Municipalidad de Isla de Pascua'}, {'CodigoEmpresa': '108932', 'NombreEmpresa': 'ILUSTRE MUNICIPALIDAD DE JUAN FERNANDEZ'}, {'CodigoEmpresa': '115185', 'NombreEmpresa': 'Ilustre Municipalidad de La Calera'}, {'CodigoEmpresa': '100488', 'NombreEmpresa': 'Ilustre Municipalidad de La Cisterna'}, {'CodigoEmpresa': '165285', 'NombreEmpresa': 'Ilustre Municipalidad de La Estrella'}, {'CodigoEmpresa': '112097', 'NombreEmpresa': 'ILUSTRE MUNICIPALIDAD DE LA GRANJA'}, {'CodigoEmpresa': '116410', 'NombreEmpresa': 'Ilustre Municipalidad de La Higuera'}, {'CodigoEmpresa': '100648', 'NombreEmpresa': 'ILUSTRE MUNICIPALIDAD DE LA LIGUA'}, {'CodigoEmpresa': '7366', 'NombreEmpresa': 'Ilustre Municipalidad de La Reina'}, {'CodigoEmpresa': '87976', 'NombreEmpresa': 'ILUSTRE MUNICIPALIDAD DE LA SERENA'}, {'CodigoEmpresa': '114725', 'NombreEmpresa': 'Ilustre Municipalidad de La Unión'}, {'CodigoEmpresa': '113735', 'NombreEmpresa': 'ILUSTRE MUNICIPALIDAD DE LAGO RANCO'}, {'CodigoEmpresa': '123529', 'NombreEmpresa': 'Ilustre Municipalidad de Lago Verde'}, {'CodigoEmpresa': '119999', 'NombreEmpresa': 'Ilustre Municipalidad de Laguna Blanca'}, {'CodigoEmpresa': '116405', 'NombreEmpresa': 'Ilustre Municipalidad de Laja'}, {'CodigoEmpresa': '118067', 'NombreEmpresa': 'Ilustre Municipalidad de Lampa'}, {'CodigoEmpresa': '106876', 'NombreEmpresa': 'Ilustre Municipalidad de Lanco'}, {'CodigoEmpresa': '124577', 'NombreEmpresa': 'Ilustre Municipalidad de Lautaro'}, {'CodigoEmpresa': '118096', 'NombreEmpresa': 'Ilustre Municipalidad de Lebu'}, {'CodigoEmpresa': '7492', 'NombreEmpresa': 'Ilustre Municipalidad de Limache'}, {'CodigoEmpresa': '86545', 'NombreEmpresa': 'ILUSTRE MUNICIPALIDAD DE LINARES'}, {'CodigoEmpresa': '7365', 'NombreEmpresa': 'Ilustre Municipalidad de Litueche'}, {'CodigoEmpresa': '118072', 'NombreEmpresa': 'Ilustre Municipalidad de Llay Llay'}, {'CodigoEmpresa': '113258', 'NombreEmpresa': 'ILUSTRE MUNICIPALIDAD DE LOLOL'}, {'CodigoEmpresa': '113851', 'NombreEmpresa': 'Ilustre Municipalidad de Loncoche'}, {'CodigoEmpresa': '120788', 'NombreEmpresa': 'Ilustre Municipalidad de Longavi'}, {'CodigoEmpresa': '119994', 'NombreEmpresa': 'Ilustre Municipalidad de Lonquimay'}, {'CodigoEmpresa': '7159', 'NombreEmpresa': 'Ilustre Municipalidad de los Lagos'}, {'CodigoEmpresa': '7304', 'NombreEmpresa': 'Ilustre Municipalidad de Los Muermos'}, {'CodigoEmpresa': '116408', 'NombreEmpresa': 'Ilustre Municipalidad de Los Sauces'}, {'CodigoEmpresa': '116401', 'NombreEmpresa': 'Ilustre Municipalidad de Los Vilos'}, {'CodigoEmpresa': '138211', 'NombreEmpresa': 'Ilustre Municipalidad de Lumaco'}, {'CodigoEmpresa': '113852', 'NombreEmpresa': 'ILUSTRE MUNICIPALIDAD DE MACHALI'}, {'CodigoEmpresa': '115464', 'NombreEmpresa': 'Ilustre Municipalidad de Máfil'}, {'CodigoEmpresa': '93619', 'NombreEmpresa': 'ILUSTRE MUNICIPALIDAD DE MAIPU'}, {'CodigoEmpresa': '113738', 'NombreEmpresa': 'ILUSTRE MUNICIPALIDAD DE MARIA ELENA'}, {'CodigoEmpresa': '120001', 'NombreEmpresa': 'Ilustre Municipalidad de Mariquina'}, {'CodigoEmpresa': '118070', 'NombreEmpresa': 'Ilustre Municipalidad de Maule'}, {'CodigoEmpresa': '120791', 'NombreEmpresa': 'ILUSTRE MUNICIPALIDAD DE MAULLIN'}, {'CodigoEmpresa': '117581', 'NombreEmpresa': 'Ilustre Municipalidad de Mejillones'}, {'CodigoEmpresa': '121617', 'NombreEmpresa': 'Ilustre Municipalidad de Melipeuco'}, {'CodigoEmpresa': '98901', 'NombreEmpresa': 'ILUSTRE MUNICIPALIDAD DE MELIPILLA'}, {'CodigoEmpresa': '84961', 'NombreEmpresa': 'ILUSTRE MUNICIPALIDAD DE MOLINA '}, {'CodigoEmpresa': '115311', 'NombreEmpresa': 'Ilustre Municipalidad de Mulchen'}, {'CodigoEmpresa': '135561', 'NombreEmpresa': 'Ilustre Municipalidad de Nacimiento'}, {'CodigoEmpresa': '116750', 'NombreEmpresa': 'Ilustre Municipalidad de Nancagua'}, {'CodigoEmpresa': '98448', 'NombreEmpresa': 'ILUSTRE MUNICIPALIDAD DE NATALES'}, {'CodigoEmpresa': '118625', 'NombreEmpresa': 'Ilustre Municipalidad de Navidad'}, {'CodigoEmpresa': '142508', 'NombreEmpresa': 'Ilustre Municipalidad de Negrete'}, {'CodigoEmpresa': '7051', 'NombreEmpresa': 'Ilustre Municipalidad de Ninhue'}, {'CodigoEmpresa': '115468', 'NombreEmpresa': 'Ilustre Municipalidad de Nogales'}, {'CodigoEmpresa': '134356', 'NombreEmpresa': 'Ilustre Municipalidad de Ñiquen'}, {'CodigoEmpresa': '86764', 'NombreEmpresa': 'ILUSTRE MUNICIPALIDAD DE ÑUÑOA'}, {'CodigoEmpresa': '115463', 'NombreEmpresa': \"Ilustre Municipalidad de O'Higgins\"}, {'CodigoEmpresa': '119273', 'NombreEmpresa': 'Ilustre Municipalidad de Olivar'}, {'CodigoEmpresa': '119996', 'NombreEmpresa': 'Ilustre Municipalidad de Ollagüe'}, {'CodigoEmpresa': '114724', 'NombreEmpresa': 'Ilustre Municipalidad de Olmue'}, {'CodigoEmpresa': '84959', 'NombreEmpresa': 'ILUSTRE MUNICIPALIDAD DE OSORNO'}, {'CodigoEmpresa': '118075', 'NombreEmpresa': 'Ilustre Municipalidad de Paihuano'}, {'CodigoEmpresa': '116744', 'NombreEmpresa': 'Ilustre Municipalidad de Paillaco'}, {'CodigoEmpresa': '100728', 'NombreEmpresa': 'ILUSTRE MUNICIPALIDAD DE PAINE'}, {'CodigoEmpresa': '110393', 'NombreEmpresa': 'Ilustre Municipalidad de Palena'}, {'CodigoEmpresa': '123526', 'NombreEmpresa': 'Ilustre Municipalidad de Palmilla'}, {'CodigoEmpresa': '115284', 'NombreEmpresa': 'Ilustre Municipalidad de Panguipulli'}, {'CodigoEmpresa': '115302', 'NombreEmpresa': 'Ilustre Municipalidad de Papudo'}, {'CodigoEmpresa': '118971', 'NombreEmpresa': 'Ilustre Municipalidad de Paredones'}, {'CodigoEmpresa': '94459', 'NombreEmpresa': 'ILUSTRE MUNICIPALIDAD DE PARRAL'}, {'CodigoEmpresa': '116729', 'NombreEmpresa': 'Ilustre Municipalidad de Pelarco'}, {'CodigoEmpresa': '113978', 'NombreEmpresa': 'Ilustre Municipalidad de Pelluhue'}, {'CodigoEmpresa': '117587', 'NombreEmpresa': 'Ilustre Municipalidad de Pemuco'}, {'CodigoEmpresa': '142575', 'NombreEmpresa': 'Ilustre Municipalidad de Penco'}, {'CodigoEmpresa': '118619', 'NombreEmpresa': 'Ilustre Municipalidad de Peralillo'}, {'CodigoEmpresa': '133899', 'NombreEmpresa': 'Ilustre Municipalidad de Perquenco'}, {'CodigoEmpresa': '116223', 'NombreEmpresa': 'Ilustre Municipalidad de Petorca'}, {'CodigoEmpresa': '118861', 'NombreEmpresa': 'Ilustre Municipalidad de Peumo'}, {'CodigoEmpresa': '118077', 'NombreEmpresa': 'Ilustre Municipalidad de Pica'}, {'CodigoEmpresa': '118621', 'NombreEmpresa': 'Ilustre Municipalidad de Pichidegua'}, {'CodigoEmpresa': '117179', 'NombreEmpresa': 'Ilustre Municipalidad de Pichilemu'}, {'CodigoEmpresa': '118071', 'NombreEmpresa': 'Ilustre Municipalidad de Pinto'}, {'CodigoEmpresa': '100072', 'NombreEmpresa': 'ILUSTRE MUNICIPALIDAD DE PIRQUE'}, {'CodigoEmpresa': '116411', 'NombreEmpresa': 'Ilustre Municipalidad de Pitrufquen'}, {'CodigoEmpresa': '118087', 'NombreEmpresa': 'Ilustre Municipalidad de Placilla'}, {'CodigoEmpresa': '115798', 'NombreEmpresa': 'Ilustre Municipalidad de Porvenir'}, {'CodigoEmpresa': '117585', 'NombreEmpresa': 'Ilustre Municipalidad de Primavera'}, {'CodigoEmpresa': '119270', 'NombreEmpresa': 'Ilustre Municipalidad de Puchuncavi'}, {'CodigoEmpresa': '86943', 'NombreEmpresa': 'ILUSTRE MUNICIPALIDAD DE PUCON'}, {'CodigoEmpresa': '104899', 'NombreEmpresa': 'Ilustre Municipalidad de Puerto Octay'}, {'CodigoEmpresa': '115313', 'NombreEmpresa': 'Ilustre Municipalidad de Puerto Saavedra'}, {'CodigoEmpresa': '116402', 'NombreEmpresa': 'Ilustre Municipalidad de Pumanque'}, {'CodigoEmpresa': '117588', 'NombreEmpresa': 'Ilustre Municipalidad de Punitaqui'}, {'CodigoEmpresa': '116403', 'NombreEmpresa': 'Ilustre Municipalidad de Puqueldón'}, {'CodigoEmpresa': '114916', 'NombreEmpresa': 'ILUSTRE MUNICIPALIDAD DE PURRANQUE'}, {'CodigoEmpresa': '119479', 'NombreEmpresa': 'ILUSTRE MUNICIPALIDAD DE PUTRE'}, {'CodigoEmpresa': '105334', 'NombreEmpresa': 'ILUSTRE MUNICIPALIDAD DE PUYEHUE'}, {'CodigoEmpresa': '112919', 'NombreEmpresa': 'Ilustre Municipalidad de Queilen'}, {'CodigoEmpresa': '110102', 'NombreEmpresa': 'Ilustre Municipalidad De Quellón'}, {'CodigoEmpresa': '125066', 'NombreEmpresa': 'Ilustre Municipalidad de Quemchi'}, {'CodigoEmpresa': '116940', 'NombreEmpresa': 'Ilustre Municipalidad de Quilaco'}, {'CodigoEmpresa': '88313', 'NombreEmpresa': 'Ilustre Municipalidad de Quilicura'}, {'CodigoEmpresa': '115979', 'NombreEmpresa': 'Ilustre Municipalidad de Quilleco'}, {'CodigoEmpresa': '135562', 'NombreEmpresa': 'ILUSTRE MUNICIPALIDAD DE QUILLON'}, {'CodigoEmpresa': '116731', 'NombreEmpresa': 'Ilustre Municipalidad de Quinchao'}, {'CodigoEmpresa': '115010', 'NombreEmpresa': 'Ilustre Municipalidad de Quinta de Tilcoco'}, {'CodigoEmpresa': '88075', 'NombreEmpresa': 'ILUSTRE MUNICIPALIDAD DE QUINTA NORMAL'}, {'CodigoEmpresa': '138454', 'NombreEmpresa': 'Ilustre Municipalidad de Quintero'}, {'CodigoEmpresa': '124198', 'NombreEmpresa': 'Ilustre Municipalidad de Quirihue'}, {'CodigoEmpresa': '87167', 'NombreEmpresa': 'ILUSTRE MUNICIPALIDAD DE RANCAGUA'}, {'CodigoEmpresa': '7418', 'NombreEmpresa': 'Ilustre Municipalidad de Ranquil'}, {'CodigoEmpresa': '117589', 'NombreEmpresa': 'Ilustre Municipalidad de Rauco'}, {'CodigoEmpresa': '7325', 'NombreEmpresa': 'Ilustre Municipalidad de Recoleta'}, {'CodigoEmpresa': '118073', 'NombreEmpresa': 'Ilustre Municipalidad de Renaico'}, {'CodigoEmpresa': '87185', 'NombreEmpresa': 'ILUSTRE MUNICIPALIDAD DE RENCA'}, {'CodigoEmpresa': '100555', 'NombreEmpresa': 'ILUSTRE MUNICIPALIDAD DE RENGO'}, {'CodigoEmpresa': '116215', 'NombreEmpresa': 'Ilustre Municipalidad de Requínoa'}, {'CodigoEmpresa': '113252', 'NombreEmpresa': 'ILUSTRE MUNICIPALIDAD DE RETIRO'}, {'CodigoEmpresa': '117580', 'NombreEmpresa': 'Ilustre Municipalidad de Rio Bueno'}, {'CodigoEmpresa': '89591', 'NombreEmpresa': 'ILUSTRE MUNICIPALIDAD DE RIO CLARO'}, {'CodigoEmpresa': '115301', 'NombreEmpresa': 'ILUSTRE MUNICIPALIDAD DE RIO VERDE'}, {'CodigoEmpresa': '141881', 'NombreEmpresa': 'Ilustre Municipalidad de Romeral'}, {'CodigoEmpresa': '116295', 'NombreEmpresa': 'Ilustre Municipalidad de Salamanca'}, {'CodigoEmpresa': '86548', 'NombreEmpresa': 'ILUSTRE MUNICIPALIDAD DE SAN BERNARDO'}, {'CodigoEmpresa': '116226', 'NombreEmpresa': 'Ilustre Municipalidad de San Esteban'}, {'CodigoEmpresa': '128889', 'NombreEmpresa': 'ILUSTRE MUNICIPALIDAD DE SAN FABIAN'}, {'CodigoEmpresa': '100158', 'NombreEmpresa': 'ILUSTRE MUNICIPALIDAD DE SAN FELIPE'}, {'CodigoEmpresa': '7482', 'NombreEmpresa': 'Ilustre Municipalidad de San Fernando'}, {'CodigoEmpresa': '115795', 'NombreEmpresa': 'Ilustre Municipalidad de San Gregorio'}, {'CodigoEmpresa': '116409', 'NombreEmpresa': 'Ilustre Municipalidad de San Ignacio'}, {'CodigoEmpresa': '86407', 'NombreEmpresa': 'ILUSTRE MUNICIPALIDAD DE SAN JAVIER'}, {'CodigoEmpresa': '7135', 'NombreEmpresa': 'Ilustre Municipalidad de San Joaquin'}, {'CodigoEmpresa': '118085', 'NombreEmpresa': 'Ilustre Municipalidad de San Juan de la Costa'}, {'CodigoEmpresa': '7498', 'NombreEmpresa': 'Ilustre Municipalidad de San Miguel'}, {'CodigoEmpresa': '7158', 'NombreEmpresa': 'Ilustre Municipalidad de San Nicolás'}, {'CodigoEmpresa': '136421', 'NombreEmpresa': 'Ilustre Municipalidad de San Rosendo'}, {'CodigoEmpresa': '135559', 'NombreEmpresa': 'Ilustre Municipalidad de San Vicente de Tagua Tagua'}, {'CodigoEmpresa': '118860', 'NombreEmpresa': 'Ilustre Municipalidad de Santa Barbara'}, {'CodigoEmpresa': '117584', 'NombreEmpresa': 'Ilustre Municipalidad de Santa Cruz'}, {'CodigoEmpresa': '118623', 'NombreEmpresa': 'Ilustre Municipalidad de Santa Juana'}, {'CodigoEmpresa': '117210', 'NombreEmpresa': 'Ilustre Municipalidad de Santa María'}, {'CodigoEmpresa': '113981', 'NombreEmpresa': 'Ilustre Municipalidad de Santo Domingo'}, {'CodigoEmpresa': '117579', 'NombreEmpresa': 'Ilustre Municipalidad de Sierra Gorda'}, {'CodigoEmpresa': '118079', 'NombreEmpresa': 'Ilustre Municipalidad de Taltal'}, {'CodigoEmpresa': '116299', 'NombreEmpresa': 'Ilustre Municipalidad de Teno'}, {'CodigoEmpresa': '7360', 'NombreEmpresa': 'Ilustre Municipalidad de Tierra Amarilla'}, {'CodigoEmpresa': '116218', 'NombreEmpresa': 'Ilustre Municipalidad de Til Til'}, {'CodigoEmpresa': '224045', 'NombreEmpresa': 'Ilustre Municipalidad de Timaukel'}, {'CodigoEmpresa': '117582', 'NombreEmpresa': 'Ilustre Municipalidad de Tolten'}, {'CodigoEmpresa': '7301', 'NombreEmpresa': 'Ilustre Municipalidad de Tortel'}, {'CodigoEmpresa': '145365', 'NombreEmpresa': 'Ilustre Municipalidad de Trehuaco'}, {'CodigoEmpresa': '87402', 'NombreEmpresa': 'ILUSTRE MUNICIPALIDAD DE VALPARAISO'}, {'CodigoEmpresa': '114914', 'NombreEmpresa': 'Ilustre Municipalidad de Vichuquén'}, {'CodigoEmpresa': '115303', 'NombreEmpresa': 'Ilustre Municipalidad de Vicuña'}, {'CodigoEmpresa': '115009', 'NombreEmpresa': 'Ilustre Municipalidad de Vilcún'}, {'CodigoEmpresa': '7363', 'NombreEmpresa': 'Ilustre Municipalidad de Villa Alegre'}, {'CodigoEmpresa': '7233', 'NombreEmpresa': 'Ilustre Municipalidad de Villa Alemana'}, {'CodigoEmpresa': '118084', 'NombreEmpresa': 'Ilustre Municipalidad de Villarrica'}, {'CodigoEmpresa': '116738', 'NombreEmpresa': 'Ilustre Municipalidad de Yerbas Buenas'}, {'CodigoEmpresa': '120004', 'NombreEmpresa': 'Ilustre Municipalidad de Yumbel'}, {'CodigoEmpresa': '115294', 'NombreEmpresa': 'Ilustre Municipalidad de Yungay'}, {'CodigoEmpresa': '132199', 'NombreEmpresa': 'Ilustre Municipalidad de Zapallar'}, {'CodigoEmpresa': '117181', 'NombreEmpresa': 'Ilustre Municipalidad Isla de Maipo'}, {'CodigoEmpresa': '115280', 'NombreEmpresa': 'ILUSTRE MUNICIPALIDAD TEODORO SCHMIDT'}, {'CodigoEmpresa': '106000', 'NombreEmpresa': 'Ilustre Municipalidad Torres del Payne'}, {'CodigoEmpresa': '114924', 'NombreEmpresa': 'IMUNICIPALIDAD DE NUEVA IMPERIAL'}, {'CodigoEmpresa': '7004', 'NombreEmpresa': 'Instituto Antártico Chileno'}, {'CodigoEmpresa': '6937', 'NombreEmpresa': 'Instituto de Desarrollo Agropecuario - INDAP'}, {'CodigoEmpresa': '7070', 'NombreEmpresa': 'Instituto de Fomento Pesquero - IFOP'}, {'CodigoEmpresa': '7394', 'NombreEmpresa': 'Instituto de Investigaciones y Control del Ejércit'}, {'CodigoEmpresa': '7474', 'NombreEmpresa': 'Instituto de Neurocirugía'}, {'CodigoEmpresa': '1090469', 'NombreEmpresa': 'INSTITUTO DE PREVISION SOCIAL'}, {'CodigoEmpresa': '7177', 'NombreEmpresa': 'INSTITUTO DE SALUD PUBLICA DE CHILE'}, {'CodigoEmpresa': '6953', 'NombreEmpresa': 'Instituto de Seguridad Laboral - ISL'}, {'CodigoEmpresa': '7497', 'NombreEmpresa': 'Instituto Forestal'}, {'CodigoEmpresa': '7432', 'NombreEmpresa': 'Instituto Nac. de Rehabilitación Pedro Aguirre C.'}, {'CodigoEmpresa': '7216', 'NombreEmpresa': 'INSTITUTO NACIONAL DE DEPORTES DE CHILE'}, {'CodigoEmpresa': '6931', 'NombreEmpresa': 'Instituto Nacional de Estadísticas - INE'}, {'CodigoEmpresa': '7430', 'NombreEmpresa': 'Instituto Nacional de Geriatría'}, {'CodigoEmpresa': '7176', 'NombreEmpresa': 'Instituto Nacional de Hidráulicas - INH'}, {'CodigoEmpresa': '7197', 'NombreEmpresa': 'Instituto Nacional de la Juventud - MIDEPLAN'}, {'CodigoEmpresa': '1042394', 'NombreEmpresa': 'INSTITUTO NACIONAL DE PROPIEDAD INDUSTRIAL'}, {'CodigoEmpresa': '7276', 'NombreEmpresa': 'Instituto Nacional del Cancer'}, {'CodigoEmpresa': '7298', 'NombreEmpresa': 'Instituto Nacional del Torax'}, {'CodigoEmpresa': '7044', 'NombreEmpresa': 'INSTITUTO PSIQUIATRICO DR JOSE HORWITZ BARAK'}, {'CodigoEmpresa': '7456', 'NombreEmpresa': 'Instituto Traumatológico'}, {'CodigoEmpresa': '7204', 'NombreEmpresa': 'INTENDENCIA II REGION ANTOFAGASTA'}, {'CodigoEmpresa': '7115', 'NombreEmpresa': 'Intendencia III Región, Atacama'}, {'CodigoEmpresa': '7236', 'NombreEmpresa': 'Intendencia IV Región, Coquimbo'}, {'CodigoEmpresa': '7220', 'NombreEmpresa': 'Intendencia IX Región, de la Araucanía'}, {'CodigoEmpresa': '7195', 'NombreEmpresa': 'Intendencia Región Metropolitana'}, {'CodigoEmpresa': '270727', 'NombreEmpresa': 'Intendencia Regional de Arica y Parinacota'}, {'CodigoEmpresa': '270726', 'NombreEmpresa': 'Intendencia Regional de Los Ríos'}, {'CodigoEmpresa': '7234', 'NombreEmpresa': 'INTENDENCIA REGIONAL I REGION DE TARAPAC'}, {'CodigoEmpresa': '7196', 'NombreEmpresa': 'Intendencia V Región, Valparaíso'}, {'CodigoEmpresa': '7201', 'NombreEmpresa': 'Intendencia VI Región, Lib. Bdo. O´Higgins'}, {'CodigoEmpresa': '7225', 'NombreEmpresa': 'Intendencia VII Región, del Maule'}, {'CodigoEmpresa': '7226', 'NombreEmpresa': 'Intendencia VIII Región, del Bío-Bío'}, {'CodigoEmpresa': '7215', 'NombreEmpresa': 'Intendencia X Región, de Los Lagos'}, {'CodigoEmpresa': '7229', 'NombreEmpresa': 'Intendencia XI Región, Aysén'}, {'CodigoEmpresa': '7214', 'NombreEmpresa': 'Intendencia XII Región de Magallanes y Antártica Chilena'}, {'CodigoEmpresa': '7002', 'NombreEmpresa': 'JUNAEB'}, {'CodigoEmpresa': '7014', 'NombreEmpresa': 'Junta de Aeronáutica Civil'}, {'CodigoEmpresa': '1079772', 'NombreEmpresa': 'JUNTA NACIONAL DE CUERPOS DE BOMBEROS DE CHILE'}, {'CodigoEmpresa': '6928', 'NombreEmpresa': 'JUNTA NACIONAL DE JARDINES         INFANTILES'}, {'CodigoEmpresa': '1065029', 'NombreEmpresa': 'LICEO EL ROSARIO'}, {'CodigoEmpresa': '7074', 'NombreEmpresa': 'METRO S.A.'}, {'CodigoEmpresa': '6941', 'NombreEmpresa': 'Ministerio de Bienes Nacionales.'}, {'CodigoEmpresa': '7247', 'NombreEmpresa': 'MINISTERIO DE OBRAS PUBLICAS DIREC CION GRAL DE OO PP DCYF'}, {'CodigoEmpresa': '7249', 'NombreEmpresa': 'Ministerio de Obras Publicas Dirección Gral. de OOPP'}, {'CodigoEmpresa': '6944', 'NombreEmpresa': 'Ministerio del Interior'}, {'CodigoEmpresa': '224060', 'NombreEmpresa': 'MINISTERIO PUBLICO'}, {'CodigoEmpresa': '7194', 'NombreEmpresa': 'Ministerio Secretaría General de Gobierno'}, {'CodigoEmpresa': '6949', 'NombreEmpresa': 'MINISTERIO SECRETARIA GENERAL DE LA PRESIDENCIA DE LA REPUBLICA'}, {'CodigoEmpresa': '7248', 'NombreEmpresa': 'MOP - Dirección de Vialidad'}, {'CodigoEmpresa': '7353', 'NombreEmpresa': 'MOP Dirección General de Concesiones'}, {'CodigoEmpresa': '114923', 'NombreEmpresa': 'Municipalidad de Alto Hospicio'}, {'CodigoEmpresa': '98452', 'NombreEmpresa': 'Municipalidad de Ancud'}, {'CodigoEmpresa': '100090', 'NombreEmpresa': 'MUNICIPALIDAD DE BUIN'}, {'CodigoEmpresa': '115186', 'NombreEmpresa': 'Municipalidad de Carahue'}, {'CodigoEmpresa': '99569', 'NombreEmpresa': 'MUNICIPALIDAD DE CARTAGENA'}, {'CodigoEmpresa': '100523', 'NombreEmpresa': 'MUNICIPALIDAD DE CHIGUAYANTE'}, {'CodigoEmpresa': '115297', 'NombreEmpresa': 'Municipalidad de Combarbala'}, {'CodigoEmpresa': '119089', 'NombreEmpresa': 'Municipalidad de Corral'}, {'CodigoEmpresa': '115165', 'NombreEmpresa': 'MUNICIPALIDAD DE DALCAHUE'}, {'CodigoEmpresa': '123788', 'NombreEmpresa': 'MUNICIPALIDAD DE DOÑIHUE'}, {'CodigoEmpresa': '117586', 'NombreEmpresa': 'Municipalidad de Gorbea'}, {'CodigoEmpresa': '100739', 'NombreEmpresa': 'Municipalidad de Huechuraba'}, {'CodigoEmpresa': '86766', 'NombreEmpresa': 'MUNICIPALIDAD DE LA FLORIDA'}, {'CodigoEmpresa': '86571', 'NombreEmpresa': 'MUNICIPALIDAD DE LAS CONDES'}, {'CodigoEmpresa': '100155', 'NombreEmpresa': 'Municipalidad de lo barnechea'}, {'CodigoEmpresa': '87187', 'NombreEmpresa': 'Municipalidad de Los Angeles'}, {'CodigoEmpresa': '113259', 'NombreEmpresa': 'MUNICIPALIDAD DE LOTA'}, {'CodigoEmpresa': '99860', 'NombreEmpresa': 'MUNICIPALIDAD DE OVALLE'}, {'CodigoEmpresa': '90886', 'NombreEmpresa': 'MUNICIPALIDAD DE PADRE LAS CASAS'}, {'CodigoEmpresa': '113618', 'NombreEmpresa': 'Municipalidad de Panquehue'}, {'CodigoEmpresa': '87104', 'NombreEmpresa': 'MUNICIPALIDAD DE PEDRO AGUIRRE CERDA'}, {'CodigoEmpresa': '100137', 'NombreEmpresa': 'MUNICIPALIDAD DE PEÑAFLOR'}, {'CodigoEmpresa': '115299', 'NombreEmpresa': 'Municipalidad de Portezuelo'}, {'CodigoEmpresa': '84149', 'NombreEmpresa': 'MUNICIPALIDAD DE PUDAHUEL'}, {'CodigoEmpresa': '116945', 'NombreEmpresa': 'Municipalidad de Purén \\\\ DEPTO.DE SALUD'}, {'CodigoEmpresa': '114075', 'NombreEmpresa': 'Municipalidad de Rio Hurtado'}, {'CodigoEmpresa': '120002', 'NombreEmpresa': 'Municipalidad de Río Ibáñez'}, {'CodigoEmpresa': '100318', 'NombreEmpresa': 'Municipalidad de San Antonio'}, {'CodigoEmpresa': '100107', 'NombreEmpresa': 'MUNICIPALIDAD DE SAN CARLOS'}, {'CodigoEmpresa': '115457', 'NombreEmpresa': 'Municipalidad de San José de Maipo'}, {'CodigoEmpresa': '100704', 'NombreEmpresa': 'MUNICIPALIDAD DE SAN PEDRO DE LA PAZ'}, {'CodigoEmpresa': '7355', 'NombreEmpresa': 'Municipalidad de San Ramon'}, {'CodigoEmpresa': '86568', 'NombreEmpresa': 'MUNICIPALIDAD DE SANTIAGO'}, {'CodigoEmpresa': '86586', 'NombreEmpresa': 'MUNICIPALIDAD DE TALCAHUANO'}, {'CodigoEmpresa': '7321', 'NombreEmpresa': 'Municipalidad de Temuco'}, {'CodigoEmpresa': '183037', 'NombreEmpresa': 'Municipalidad de Tirúa'}, {'CodigoEmpresa': '115163', 'NombreEmpresa': 'MUNICIPALIDAD DE TRAIGUEN'}, {'CodigoEmpresa': '98462', 'NombreEmpresa': 'MUNICIPALIDAD DE VITACURA'}, {'CodigoEmpresa': '7005', 'NombreEmpresa': 'Oficina de Estudios y Politicas Agrarias'}, {'CodigoEmpresa': '7180', 'NombreEmpresa': 'Oficina Nacional de Emergencia'}, {'CodigoEmpresa': '6935', 'NombreEmpresa': 'Parque Metropolitano de Santiago'}, {'CodigoEmpresa': '7143', 'NombreEmpresa': 'Poder Judicial - Academia Judicial'}, {'CodigoEmpresa': '111880', 'NombreEmpresa': 'POLICIA DE INVESTIGACIONES DE CHILE'}, {'CodigoEmpresa': '6967', 'NombreEmpresa': 'Polla Chilena de Beneficencia S.A.'}, {'CodigoEmpresa': '7238', 'NombreEmpresa': 'Presidencia de la República'}, {'CodigoEmpresa': '7478', 'NombreEmpresa': 'S. S. Aysén - Dirección de Atención Primaria'}, {'CodigoEmpresa': '7096', 'NombreEmpresa': 'SAG CONCEPCION'}, {'CodigoEmpresa': '7184', 'NombreEmpresa': 'SENADIS'}, {'CodigoEmpresa': '174692', 'NombreEmpresa': 'Senado de la República de Chile'}, {'CodigoEmpresa': '6919', 'NombreEmpresa': 'SERVICIO AGRICOLA Y GANADERO'}, {'CodigoEmpresa': '6950', 'NombreEmpresa': 'Servicio de Cooperación Técnica - SERCOTEC'}, {'CodigoEmpresa': '7218', 'NombreEmpresa': 'Servicio de Evaluación Ambiental (SEA)'}, {'CodigoEmpresa': '7113', 'NombreEmpresa': 'SERVICIO DE IMPUESTOS INTERNOS DIRECCION'}, {'CodigoEmpresa': '6960', 'NombreEmpresa': 'Servicio de Registro Civil e Identificación'}, {'CodigoEmpresa': '7205', 'NombreEmpresa': 'Servicio de Salud  Concepción'}, {'CodigoEmpresa': '7431', 'NombreEmpresa': 'SERVICIO DE SALUD ACONCAGUA'}, {'CodigoEmpresa': '7185', 'NombreEmpresa': 'Servicio de Salud Antofagasta'}, {'CodigoEmpresa': '7451', 'NombreEmpresa': 'SERVICIO DE SALUD ANTOFAGASTA HOSPITAL L'}, {'CodigoEmpresa': '7302', 'NombreEmpresa': 'Servicio de Salud Araucanía Norte'}, {'CodigoEmpresa': '7306', 'NombreEmpresa': 'SERVICIO DE SALUD ARAUCANIA NORTE HOSPITAL DE ANGOL'}, {'CodigoEmpresa': '7102', 'NombreEmpresa': 'Servicio de Salud Araucanía Sur'}, {'CodigoEmpresa': '7060', 'NombreEmpresa': 'SERVICIO DE SALUD ARAUCANIA SUR HOSPITAL DE NUEVA IMPERIAL'}, {'CodigoEmpresa': '6976', 'NombreEmpresa': 'SERVICIO DE SALUD ARAUCO'}, {'CodigoEmpresa': '1667479', 'NombreEmpresa': 'SERVICIO DE SALUD ARICA HOSP DR JUAN NOE CREVANI'}, {'CodigoEmpresa': '7409', 'NombreEmpresa': 'Servicio de Salud Atacama'}, {'CodigoEmpresa': '7206', 'NombreEmpresa': 'SERVICIO DE SALUD AYSEN'}, {'CodigoEmpresa': '7308', 'NombreEmpresa': 'Servicio de Salud Bío Bío'}, {'CodigoEmpresa': '16223', 'NombreEmpresa': 'Servicio de Salud Chiloé'}, {'CodigoEmpresa': '7052', 'NombreEmpresa': 'Servicio de Salud Coquimbo'}, {'CodigoEmpresa': '7416', 'NombreEmpresa': 'SERVICIO DE SALUD COQUIMBO HOSPITAL DE COQUIMBO'}, {'CodigoEmpresa': '7471', 'NombreEmpresa': 'SERVICIO DE SALUD COQUIMBO HOSPITAL DE LOS VILOS'}, {'CodigoEmpresa': '7329', 'NombreEmpresa': 'SERVICIO DE SALUD COQUIMBO HOSPITAL VICUNA'}, {'CodigoEmpresa': '6926', 'NombreEmpresa': 'SERVICIO DE SALUD DE ARICA'}, {'CodigoEmpresa': '7374', 'NombreEmpresa': \"SERVICIO DE SALUD DEL LIBERTADOR B O'HIGGINS HOSPITAL REG RANCAGUA\"}, {'CodigoEmpresa': '7141', 'NombreEmpresa': 'Servicio de Salud del Maule'}, {'CodigoEmpresa': '7257', 'NombreEmpresa': 'SERVICIO DE SALUD DEL MAULE HOSPITAL DE LICANTEN'}, {'CodigoEmpresa': '7260', 'NombreEmpresa': 'SERVICIO DE SALUD DEL MAULE HOSPITAL DE TALCA'}, {'CodigoEmpresa': '7453', 'NombreEmpresa': 'SERVICIO DE SALUD IQUIQUE'}, {'CodigoEmpresa': '7382', 'NombreEmpresa': 'Servicio de Salud Magallanes'}, {'CodigoEmpresa': '7088', 'NombreEmpresa': 'Servicio de Salud Metropolitano Central'}, {'CodigoEmpresa': '7188', 'NombreEmpresa': 'Servicio de Salud Metropolitano del Ambiente'}, {'CodigoEmpresa': '6963', 'NombreEmpresa': 'Servicio de Salud Metropolitano Norte'}, {'CodigoEmpresa': '7029', 'NombreEmpresa': 'Servicio de Salud Metropolitano Occidente'}, {'CodigoEmpresa': '7006', 'NombreEmpresa': 'SERVICIO DE SALUD METROPOLITANO SUR'}, {'CodigoEmpresa': '7203', 'NombreEmpresa': 'Servicio de Salud Metropolitano Sur Oriente'}, {'CodigoEmpresa': '6932', 'NombreEmpresa': 'SERVICIO DE SALUD NUBLE'}, {'CodigoEmpresa': '7285', 'NombreEmpresa': 'Servicio de Salud Ñuble - Hospital de Coelemu'}, {'CodigoEmpresa': '7316', 'NombreEmpresa': 'SERVICIO DE SALUD OCCIDENTE HOSPITAL SAN JUAN DE DIOS'}, {'CodigoEmpresa': '7054', 'NombreEmpresa': 'Servicio de Salud Ohiggins'}, {'CodigoEmpresa': '7296', 'NombreEmpresa': 'SERVICIO DE SALUD OSORNO'}, {'CodigoEmpresa': '7305', 'NombreEmpresa': 'SERVICIO DE SALUD SUR HOSPITAL EXEQUIEL'}, {'CodigoEmpresa': '7315', 'NombreEmpresa': 'SERVICIO DE SALUD TALCAHUANO HOSPITAL DE'}, {'CodigoEmpresa': '7106', 'NombreEmpresa': 'SERVICIO DE SALUD VALDIVIA'}, {'CodigoEmpresa': '7410', 'NombreEmpresa': 'SERVICIO DE SALUD VALDIVIA HOSPITAL BASE'}, {'CodigoEmpresa': '7239', 'NombreEmpresa': 'Servicio de Salud Valparaíso San Antonio'}, {'CodigoEmpresa': '7153', 'NombreEmpresa': 'Servicio de Salud Viña del Mar - Quillota'}, {'CodigoEmpresa': '6965', 'NombreEmpresa': 'SERVICIO DE VIVIENDA Y URBANIZACION AREA METROPOLITANA'}, {'CodigoEmpresa': '225773', 'NombreEmpresa': 'SERVICIO ELECTORAL'}, {'CodigoEmpresa': '1723291', 'NombreEmpresa': 'SERVICIO LOCAL DE EDUCACION PÚBLICA DE ATACAMA'}, {'CodigoEmpresa': '7179', 'NombreEmpresa': 'Servicio Médico Legal'}, {'CodigoEmpresa': '7479', 'NombreEmpresa': 'SERVICIO NAC DE SALUD HOSPITAL TRAUMATOLOGICO'}, {'CodigoEmpresa': '6952', 'NombreEmpresa': 'Servicio Nacional de Aduanas'}, {'CodigoEmpresa': '6962', 'NombreEmpresa': 'Servicio Nacional de Capacitación y Empleo'}, {'CodigoEmpresa': '7210', 'NombreEmpresa': 'Servicio Nacional de Geología y Minería'}, {'CodigoEmpresa': '6948', 'NombreEmpresa': 'Servicio Nacional de la Mujer'}, {'CodigoEmpresa': '7017', 'NombreEmpresa': 'Servicio Nacional de Menores'}, {'CodigoEmpresa': '7008', 'NombreEmpresa': 'SERVICIO NACIONAL DE PESCA'}, {'CodigoEmpresa': '7033', 'NombreEmpresa': 'Servicio Nacional de Pesca VI Región'}, {'CodigoEmpresa': '1468521', 'NombreEmpresa': 'SERVICIO NACIONAL DE SALUD HOSPITAL CARLOS VAN BUREN'}, {'CodigoEmpresa': '116754', 'NombreEmpresa': 'SERVICIO NACIONAL DE SALUD HOSPITAL DE C'}, {'CodigoEmpresa': '7332', 'NombreEmpresa': 'SERVICIO NACIONAL DE SALUD HOSPITAL DE CORONEL'}, {'CodigoEmpresa': '7190', 'NombreEmpresa': 'SERVICIO NACIONAL DE TURISMO'}, {'CodigoEmpresa': '7032', 'NombreEmpresa': 'SERVICIO NACIONAL DEL ADULTO MAYOR'}, {'CodigoEmpresa': '7230', 'NombreEmpresa': 'Servicio Nacional del Consumidor - SERNAC'}, {'CodigoEmpresa': '7011', 'NombreEmpresa': 'SERVICIO NACIONAL DEL PATRIMONIO CULTURAL'}, {'CodigoEmpresa': '278907', 'NombreEmpresa': 'Servicio Regional de la Vivienda y Urbanización Arica y Parinacota'}, {'CodigoEmpresa': '7433', 'NombreEmpresa': 'SERVICIO SALUD ARAUCANIA NORTE HOSPITAL CURACAUTIN'}, {'CodigoEmpresa': '7104', 'NombreEmpresa': 'SERVICIO SALUD DEL RELONCAVI'}, {'CodigoEmpresa': '6923', 'NombreEmpresa': 'SERVIU I Región'}, {'CodigoEmpresa': '6974', 'NombreEmpresa': 'SERVIU II Región'}, {'CodigoEmpresa': '6972', 'NombreEmpresa': 'SERVIU IV Región'}, {'CodigoEmpresa': '6980', 'NombreEmpresa': 'SERVIU IX Region'}, {'CodigoEmpresa': '6975', 'NombreEmpresa': 'SERVIU REGION DE ATACAMA'}, {'CodigoEmpresa': '6979', 'NombreEmpresa': 'SERVIU REGION DEL BIO BIO'}, {'CodigoEmpresa': '6968', 'NombreEmpresa': 'SERVIU V Región'}, {'CodigoEmpresa': '6977', 'NombreEmpresa': 'SERVIU VI Región'}, {'CodigoEmpresa': '6978', 'NombreEmpresa': 'SERVIU VII Región'}, {'CodigoEmpresa': '6981', 'NombreEmpresa': 'SERVIU X Región'}, {'CodigoEmpresa': '6982', 'NombreEmpresa': 'SERVIU XI Región'}, {'CodigoEmpresa': '6964', 'NombreEmpresa': 'SERVIU XII Región y Antartica Chilena'}, {'CodigoEmpresa': '7333', 'NombreEmpresa': 'Subdirección del Ambiente Servicio de Salud Thno.'}, {'CodigoEmpresa': '7065', 'NombreEmpresa': 'Subsecretaría de Aviación'}, {'CodigoEmpresa': '7036', 'NombreEmpresa': 'Subsecretaría de Carabineros'}, {'CodigoEmpresa': '1689493', 'NombreEmpresa': 'SUBSECRETARIA DE CIENCIA, TECNOLOGIA, CONOCIMIENTO E INNOVACION'}, {'CodigoEmpresa': '7081', 'NombreEmpresa': 'Subsecretaría de Desarrollo Regional'}, {'CodigoEmpresa': '7078', 'NombreEmpresa': 'SubSecretaria de Economía y Empresas de Menor Tamaño'}, {'CodigoEmpresa': '1155673', 'NombreEmpresa': 'Subsecretaría de Energía'}, {'CodigoEmpresa': '6943', 'NombreEmpresa': 'Subsecretaría de Hacienda'}, {'CodigoEmpresa': '7217', 'NombreEmpresa': 'Subsecretaría de Investigaciones'}, {'CodigoEmpresa': '7080', 'NombreEmpresa': 'Subsecretaría de Justicia'}, {'CodigoEmpresa': '7359', 'NombreEmpresa': 'SUBSECRETARÍA DE LAS CULTURAS Y LAS ARTES'}, {'CodigoEmpresa': '7221', 'NombreEmpresa': 'Subsecretaría de Marina'}, {'CodigoEmpresa': '7018', 'NombreEmpresa': 'Subsecretaría de Minería'}, {'CodigoEmpresa': '7211', 'NombreEmpresa': 'Subsecretaría de Pesca y Acuicultura'}, {'CodigoEmpresa': '7191', 'NombreEmpresa': 'Subsecretaría de Previsión Social'}, {'CodigoEmpresa': '7227', 'NombreEmpresa': 'Subsecretaría de R.R.E.E.'}, {'CodigoEmpresa': '1674041', 'NombreEmpresa': 'Subsecretaría de Relaciones Económicas Internacionales'}, {'CodigoEmpresa': '7079', 'NombreEmpresa': 'Subsecretaría de Salud Pública'}, {'CodigoEmpresa': '6947', 'NombreEmpresa': 'Subsecretaría de Servicios Sociales'}, {'CodigoEmpresa': '6934', 'NombreEmpresa': 'Subsecretaría de Telecomunicaciones'}, {'CodigoEmpresa': '7007', 'NombreEmpresa': 'Subsecretaría de Transportes'}, {'CodigoEmpresa': '1198788', 'NombreEmpresa': 'Subsecretaría del Medio Ambiente'}, {'CodigoEmpresa': '7189', 'NombreEmpresa': 'SUBSECRETARIA DEL MINISTERIO DE AGRICULT'}, {'CodigoEmpresa': '6958', 'NombreEmpresa': 'SUBSECRETARIA DEL MINISTERIO DE EDUCACION PUBLICA'}, {'CodigoEmpresa': '6951', 'NombreEmpresa': 'SUBSECRETARIA DEL MINISTERIO DE LA VIVIENDA Y URBANISMO'}, {'CodigoEmpresa': '6939', 'NombreEmpresa': 'Subsecretaria del Trabajo'}, {'CodigoEmpresa': '128260', 'NombreEmpresa': 'SUPERINTENDENCIA DE CASINOS DE JUEGO'}, {'CodigoEmpresa': '7232', 'NombreEmpresa': 'Superintendencia de Electricidad y Combustibles'}, {'CodigoEmpresa': '7181', 'NombreEmpresa': 'Superintendencia de Insolvencia y Reemprendimiento'}, {'CodigoEmpresa': '93096', 'NombreEmpresa': 'Superintendencia de Pensiones'}, {'CodigoEmpresa': '6930', 'NombreEmpresa': 'Superintendencia de Salud'}, {'CodigoEmpresa': '7114', 'NombreEmpresa': 'Superintendencia de Seguridad Social'}, {'CodigoEmpresa': '7192', 'NombreEmpresa': 'Superintendencia de Servicios Sanitarios'}, {'CodigoEmpresa': '6956', 'NombreEmpresa': 'Tesorería General de la República'}, {'CodigoEmpresa': '1083414', 'NombreEmpresa': 'UNIDAD ADMINISTRADORA DE LOS TRIBUNALES TRIBUTARIOS Y ADUANEROS'}, {'CodigoEmpresa': '85017', 'NombreEmpresa': 'Unidad de Analisis Financiero'}, {'CodigoEmpresa': '7254', 'NombreEmpresa': 'UNIVERSIDAD ARTURO PRAT SEDE IQUIQUE'}, {'CodigoEmpresa': '130585', 'NombreEmpresa': 'Universidad de Antofagasta'}, {'CodigoEmpresa': '103916', 'NombreEmpresa': 'universidad de atacama'}, {'CodigoEmpresa': '7251', 'NombreEmpresa': 'Universidad de Chile'}, {'CodigoEmpresa': '277559', 'NombreEmpresa': 'Universidad de la Frontera'}, {'CodigoEmpresa': '7319', 'NombreEmpresa': 'Universidad de La Serena'}, {'CodigoEmpresa': '266724', 'NombreEmpresa': 'Universidad de Los Lagos'}, {'CodigoEmpresa': '257227', 'NombreEmpresa': 'Universidad de Magallanes'}, {'CodigoEmpresa': '130972', 'NombreEmpresa': 'UNIVERSIDAD DE PLAYA ANCHA DE CIENCIAS DE LA EDUC.'}, {'CodigoEmpresa': '212299', 'NombreEmpresa': 'Universidad de Santiago de Chile'}, {'CodigoEmpresa': '7147', 'NombreEmpresa': 'Universidad de Talca'}, {'CodigoEmpresa': '204439', 'NombreEmpresa': 'Universidad de Tarapacá'}, {'CodigoEmpresa': '96996', 'NombreEmpresa': 'Universidad de Valparaíso'}, {'CodigoEmpresa': '99805', 'NombreEmpresa': 'Universidad del Bío-Bío'}, {'CodigoEmpresa': '164268', 'NombreEmpresa': 'UNIVERSIDAD METROPOLITANA DE CIENCIAS DE LA EDUCAC'}, {'CodigoEmpresa': '126109', 'NombreEmpresa': 'UNIVERSIDAD TECNOLOGICA METROPOLITANA'}, {'CodigoEmpresa': '7438', 'NombreEmpresa': 'Zona Franca de Iquique'}]}\n"
          ],
          "name": "stdout"
        }
      ]
    },
    {
      "cell_type": "code",
      "metadata": {
        "id": "NlXr2lHE0mWg",
        "outputId": "16315716-e011-41de-dcde-c53b0a7fe7fd",
        "colab": {
          "base_uri": "https://localhost:8080/",
          "height": 161
        }
      },
      "source": [
        "licitaciones = respuestajson2[\"Listado\"]"
      ],
      "execution_count": 180,
      "outputs": [
        {
          "output_type": "error",
          "ename": "KeyError",
          "evalue": "ignored",
          "traceback": [
            "\u001b[0;31m---------------------------------------------------------------------------\u001b[0m",
            "\u001b[0;31mKeyError\u001b[0m                                  Traceback (most recent call last)",
            "\u001b[0;32m<ipython-input-180-9b2575dcad0d>\u001b[0m in \u001b[0;36m<module>\u001b[0;34m()\u001b[0m\n\u001b[0;32m----> 1\u001b[0;31m \u001b[0mlicitaciones\u001b[0m \u001b[0;34m=\u001b[0m \u001b[0mrespuestajson2\u001b[0m\u001b[0;34m[\u001b[0m\u001b[0;34m\"Listado\"\u001b[0m\u001b[0;34m]\u001b[0m\u001b[0;34m\u001b[0m\u001b[0;34m\u001b[0m\u001b[0m\n\u001b[0m",
            "\u001b[0;31mKeyError\u001b[0m: 'Listado'"
          ]
        }
      ]
    },
    {
      "cell_type": "markdown",
      "metadata": {
        "id": "eM-x2OBWzspn"
      },
      "source": [
        "## **Ejercicio - Código de un Proveedor indicando el rut**"
      ]
    },
    {
      "cell_type": "markdown",
      "metadata": {
        "id": "t0K5qf_w7Let"
      },
      "source": [
        "### **Formato base con estructura de importacion**\n",
        "\n"
      ]
    },
    {
      "cell_type": "code",
      "metadata": {
        "id": "PmdwJRHC7Qkq"
      },
      "source": [
        "# ticket mercado publico de on iñaki abaroa schilling= 81D9D50E-E3EA-41F5-A456-0AD2B42E6D80\n",
        "\n",
        "#import json\n",
        "#import requests\n",
        "#import pandas as pd\n",
        "\n",
        "#url1 = \"http://api.mercadopublico.cl/servicios/v1/publico/licitaciones.json?fecha=21102020&ticket=166E1F2D-5FD5-4063-BA75-CFA20CE6798B\"\n",
        "\n",
        "#respuesta1=requests.request(\"GET\", url1)\n",
        "#print(respuesta1)\n",
        "\n",
        "#----------------------------------------------------------------------------------------------------------------------\n",
        "\n",
        "#print(respuesta1.headers)\n",
        "\n",
        "#----------------------------------------------------------------------------------------------------------------------\n",
        "\n",
        "#respuesta1.text\n",
        "\n",
        "#----------------------------------------------------------------------------------------------------------------------\n",
        "\n",
        "#respuestajson = json.loads(respuesta1.text)\n",
        "\n",
        "#----------------------------------------------------------------------------------------------------------------------\n",
        "\n",
        "#type(respuestajson)\n",
        "\n",
        "#----------------------------------------------------------------------------------------------------------------------\n",
        "\n",
        "#print(respuestajson)\n",
        "\n",
        "#----------------------------------------------------------------------------------------------------------------------\n",
        "\n",
        "#licitaciones = respuestajson[\"Listado\"]\n",
        "\n",
        "#----------------------------------------------------------------------------------------------------------------------\n",
        "\n",
        "#licitaciones\n",
        "\n",
        "#----------------------------------------------------------------------------------------------------------------------\n",
        "\n",
        "#df_licitaciones_todos = pd.DataFrame(licitaciones, columns=['CodigoExterno','Nombre','CodigoEstado','FechaCierre'])\n",
        "\n",
        "#----------------------------------------------------------------------------------------------------------------------\n",
        "\n",
        "#df_licitaciones_todos\n",
        "\n",
        "#----------------------------------------------------------------------------------------------------------------------\n",
        "\n",
        "#cantidad = df_licitaciones_todos[\"Nombre\"].value_counts()\n",
        "\n",
        "#----------------------------------------------------------------------------------------------------------------------\n",
        "\n",
        "#print(cantidad.count())\n",
        "\n",
        "#----------------------------------------------------------------------------------------------------------------------\n",
        "\n",
        "#df_licitaciones_todos.shape\n",
        "\n",
        "#----------------------------------------------------------------------------------------------------------------------\n",
        "\n",
        "#df_licitaciones_todos.head(1)\n",
        "\n",
        "#----------------------------------------------------------------------------------------------------------------------"
      ],
      "execution_count": null,
      "outputs": []
    },
    {
      "cell_type": "markdown",
      "metadata": {
        "id": "5wjrcDatysyl"
      },
      "source": [
        "# **Pruebas**"
      ]
    },
    {
      "cell_type": "markdown",
      "metadata": {
        "id": "fog486USRp9I"
      },
      "source": [
        "### **Tipos de formato solicitud**"
      ]
    },
    {
      "cell_type": "code",
      "metadata": {
        "id": "zZFj8_kAkO6N",
        "outputId": "cd8748be-de31-4910-9152-a55ef77333a5",
        "colab": {
          "base_uri": "https://localhost:8080/",
          "height": 33
        }
      },
      "source": [
        "#Formato JSON:\n",
        "\n",
        "url1 = \"http://api.mercadopublico.cl/servicios/v1/publico/licitaciones.json?fecha=20102020&ticket=166E1F2D-5FD5-4063-BA75-CFA20CE6798B\"\n",
        "\n",
        "respuesta1=requests.request(\"GET\", url1)\n",
        "print(respuesta1)"
      ],
      "execution_count": null,
      "outputs": [
        {
          "output_type": "stream",
          "text": [
            "<Response [200]>\n"
          ],
          "name": "stdout"
        }
      ]
    },
    {
      "cell_type": "code",
      "metadata": {
        "id": "9CxVe7JbNcvg",
        "outputId": "f75988de-e692-41db-ffed-73cc009d1bc3",
        "colab": {
          "base_uri": "https://localhost:8080/",
          "height": 33
        }
      },
      "source": [
        "#Formato JSONP:\n",
        "\n",
        "url2 = \"http://api.mercadopublico.cl/servicios/v1/publico/licitaciones.jsonp?fecha=20102020&callback=respuesta&ticket=81D9D50E-E3EA-41F5-A456-0AD2B42E6D80\"\n",
        "\n",
        "respuesta2=requests.request(\"GET\", url2)\n",
        "print(respuesta1)"
      ],
      "execution_count": null,
      "outputs": [
        {
          "output_type": "stream",
          "text": [
            "<Response [200]>\n"
          ],
          "name": "stdout"
        }
      ]
    },
    {
      "cell_type": "code",
      "metadata": {
        "id": "S3IpiFuIOc5N",
        "outputId": "859d97f4-b752-46e1-c645-d6b5d7930855",
        "colab": {
          "base_uri": "https://localhost:8080/",
          "height": 53
        }
      },
      "source": [
        "print(respuesta2.headers)"
      ],
      "execution_count": null,
      "outputs": [
        {
          "output_type": "stream",
          "text": [
            "{'Cache-Control': 'no-cache', 'Pragma': 'no-cache', 'Content-Type': 'application/json; charset=utf-8', 'Expires': '-1', 'Server': 'Microsoft-IIS/7.5', 'X-AspNet-Version': '4.0.30319', 'X-Powered-By': 'ASP.NET', 'Set-Cookie': 'dtCookie=1$2B9D7D4D4A05A3414B0E08CFE4FA4CA2; Path=/; Domain=.mercadopublico.cl', 'Date': 'Tue, 20 Oct 2020 18:07:34 GMT', 'Content-Length': '115740'}\n"
          ],
          "name": "stdout"
        }
      ]
    },
    {
      "cell_type": "code",
      "metadata": {
        "id": "lEgY55aDNe1d",
        "outputId": "551c2bf3-a109-4e44-bc1c-c57b96e3134e",
        "colab": {
          "base_uri": "https://localhost:8080/",
          "height": 33
        }
      },
      "source": [
        "#Formato XML:\n",
        "\n",
        "url3 = \"http://api.mercadopublico.cl/servicios/v1/publico/licitaciones.xml?fecha=20102020&ticket=81D9D50E-E3EA-41F5-A456-0AD2B42E6D80\"\n",
        "\n",
        "respuesta3=requests.request(\"GET\", url3)\n",
        "print(respuesta1)"
      ],
      "execution_count": null,
      "outputs": [
        {
          "output_type": "stream",
          "text": [
            "<Response [200]>\n"
          ],
          "name": "stdout"
        }
      ]
    },
    {
      "cell_type": "markdown",
      "metadata": {
        "id": "y_TvMRDm1z4U"
      },
      "source": [
        "### **Solicitud en formato JSON**"
      ]
    },
    {
      "cell_type": "code",
      "metadata": {
        "id": "PF5W9jTp2DTc",
        "outputId": "78215be3-3e67-4809-f08e-2d76fa5c307d",
        "colab": {
          "base_uri": "https://localhost:8080/",
          "height": 33
        }
      },
      "source": [
        "#Formato JSON:\n",
        "\n",
        "import json\n",
        "import requests\n",
        "import pandas as pd\n",
        "\n",
        "url1 = \"http://api.mercadopublico.cl/servicios/v1/publico/licitaciones.json?fecha=21102020&ticket=166E1F2D-5FD5-4063-BA75-CFA20CE6798B\"\n",
        "\n",
        "respuesta1=requests.request(\"GET\", url1)\n",
        "print(respuesta1)"
      ],
      "execution_count": 15,
      "outputs": [
        {
          "output_type": "stream",
          "text": [
            "<Response [200]>\n"
          ],
          "name": "stdout"
        }
      ]
    },
    {
      "cell_type": "code",
      "metadata": {
        "id": "O7-CEXeIOiZ7",
        "outputId": "e9d7367d-f522-4376-e546-22fff2a33703",
        "colab": {
          "base_uri": "https://localhost:8080/",
          "height": 53
        }
      },
      "source": [
        "print(respuesta1.headers)"
      ],
      "execution_count": 16,
      "outputs": [
        {
          "output_type": "stream",
          "text": [
            "{'Cache-Control': 'no-cache', 'Pragma': 'no-cache', 'Content-Type': 'application/json; charset=utf-8', 'Expires': '-1', 'Server': 'Microsoft-IIS/7.5', 'X-AspNet-Version': '4.0.30319', 'X-Powered-By': 'ASP.NET', 'Set-Cookie': 'dtCookie=3$84D9E7DE344B43D9FEF340DD07C89FF2; Path=/; Domain=.mercadopublico.cl', 'Date': 'Wed, 21 Oct 2020 11:11:13 GMT', 'Content-Length': '1168'}\n"
          ],
          "name": "stdout"
        }
      ]
    },
    {
      "cell_type": "code",
      "metadata": {
        "id": "sJq1mtgNRp8_",
        "outputId": "9dfc4a14-cdec-43c3-ef1f-b8d9c2c425c1",
        "colab": {
          "base_uri": "https://localhost:8080/",
          "height": 118
        }
      },
      "source": [
        "respuesta1.text"
      ],
      "execution_count": 19,
      "outputs": [
        {
          "output_type": "execute_result",
          "data": {
            "application/vnd.google.colaboratory.intrinsic+json": {
              "type": "string"
            },
            "text/plain": [
              "'{\"Cantidad\":8,\"FechaCreacion\":\"2020-10-21T08:11:14.337\",\"Version\":\"v1\",\"Listado\":[{\"CodigoExterno\":\"1079155-1-LE20\",\"Nombre\":\"PRUEBA\",\"CodigoEstado\":8,\"FechaCierre\":\"2020-10-20T23:19:34.663\"},{\"CodigoExterno\":\"1464-80-LE20\",\"Nombre\":\"Reactivos de Laboratorio\",\"CodigoEstado\":8,\"FechaCierre\":\"2020-10-15T11:00:00\"},{\"CodigoExterno\":\"2277-24-LE20\",\"Nombre\":\"Clasificación de riesgo fianciero M. Pudahuel\",\"CodigoEstado\":15,\"FechaCierre\":\"2020-10-21T07:45:39.887\"},{\"CodigoExterno\":\"643-12-LE20\",\"Nombre\":\"SERVICIO GUARDIAS DE SEGURIDAD CAMPING PELANCURA\",\"CodigoEstado\":8,\"FechaCierre\":\"2020-10-05T15:01:00\"},{\"CodigoExterno\":\"643-13-LE20\",\"Nombre\":\"SERVICIO GUARDIAS DE SEGURIDAD VALPARAÍSO\",\"CodigoEstado\":8,\"FechaCierre\":\"2020-10-05T15:01:00\"},{\"CodigoExterno\":\"1896-29-O120\",\"Nombre\":\"Conservación Ptes. Quildaco Mui y Curamin, Hualaih\",\"CodigoEstado\":6,\"FechaCierre\":\"2020-10-21T08:00:00\"},{\"CodigoExterno\":\"2658-178-L120\",\"Nombre\":\"CONTRATACION DE SERVICIO\",\"CodigoEstado\":5,\"FechaCierre\":\"2020-10-28T14:13:00\"},{\"CodigoExterno\":\"3371-21-LE20\",\"Nombre\":\"FDOS PPTO - SERVICIO DE TRANSPORTE PARA PLEBISCITO\",\"CodigoEstado\":8,\"FechaCierre\":\"2020-10-19T15:00:00\"}]}'"
            ]
          },
          "metadata": {
            "tags": []
          },
          "execution_count": 19
        }
      ]
    },
    {
      "cell_type": "code",
      "metadata": {
        "id": "lCgaVmrxRp9K"
      },
      "source": [
        "respuestajson = json.loads(respuesta1.text)"
      ],
      "execution_count": 20,
      "outputs": []
    },
    {
      "cell_type": "code",
      "metadata": {
        "id": "tfivpeFARp9U",
        "outputId": "065596a3-0ab4-4352-dbae-eec0989455c3",
        "colab": {
          "base_uri": "https://localhost:8080/",
          "height": 33
        }
      },
      "source": [
        "type(respuestajson)"
      ],
      "execution_count": 22,
      "outputs": [
        {
          "output_type": "execute_result",
          "data": {
            "text/plain": [
              "dict"
            ]
          },
          "metadata": {
            "tags": []
          },
          "execution_count": 22
        }
      ]
    },
    {
      "cell_type": "code",
      "metadata": {
        "id": "bnFSEdHRRp9n",
        "outputId": "a39071de-98cc-4059-c758-bb473baa127b",
        "colab": {
          "base_uri": "https://localhost:8080/",
          "height": 53
        }
      },
      "source": [
        "print(respuestajson)"
      ],
      "execution_count": 23,
      "outputs": [
        {
          "output_type": "stream",
          "text": [
            "{'Cantidad': 8, 'FechaCreacion': '2020-10-21T08:11:14.337', 'Version': 'v1', 'Listado': [{'CodigoExterno': '1079155-1-LE20', 'Nombre': 'PRUEBA', 'CodigoEstado': 8, 'FechaCierre': '2020-10-20T23:19:34.663'}, {'CodigoExterno': '1464-80-LE20', 'Nombre': 'Reactivos de Laboratorio', 'CodigoEstado': 8, 'FechaCierre': '2020-10-15T11:00:00'}, {'CodigoExterno': '2277-24-LE20', 'Nombre': 'Clasificación de riesgo fianciero M. Pudahuel', 'CodigoEstado': 15, 'FechaCierre': '2020-10-21T07:45:39.887'}, {'CodigoExterno': '643-12-LE20', 'Nombre': 'SERVICIO GUARDIAS DE SEGURIDAD CAMPING PELANCURA', 'CodigoEstado': 8, 'FechaCierre': '2020-10-05T15:01:00'}, {'CodigoExterno': '643-13-LE20', 'Nombre': 'SERVICIO GUARDIAS DE SEGURIDAD VALPARAÍSO', 'CodigoEstado': 8, 'FechaCierre': '2020-10-05T15:01:00'}, {'CodigoExterno': '1896-29-O120', 'Nombre': 'Conservación Ptes. Quildaco Mui y Curamin, Hualaih', 'CodigoEstado': 6, 'FechaCierre': '2020-10-21T08:00:00'}, {'CodigoExterno': '2658-178-L120', 'Nombre': 'CONTRATACION DE SERVICIO', 'CodigoEstado': 5, 'FechaCierre': '2020-10-28T14:13:00'}, {'CodigoExterno': '3371-21-LE20', 'Nombre': 'FDOS PPTO - SERVICIO DE TRANSPORTE PARA PLEBISCITO', 'CodigoEstado': 8, 'FechaCierre': '2020-10-19T15:00:00'}]}\n"
          ],
          "name": "stdout"
        }
      ]
    },
    {
      "cell_type": "code",
      "metadata": {
        "id": "IBVmAcnXRp90"
      },
      "source": [
        "licitaciones = respuestajson[\"Listado\"]"
      ],
      "execution_count": 25,
      "outputs": []
    },
    {
      "cell_type": "code",
      "metadata": {
        "id": "MuufTC54Rp98",
        "outputId": "ccdaf396-9152-4fef-b8f6-445c245b0656",
        "colab": {
          "base_uri": "https://localhost:8080/",
          "height": 537
        }
      },
      "source": [
        "licitaciones"
      ],
      "execution_count": 28,
      "outputs": [
        {
          "output_type": "execute_result",
          "data": {
            "text/plain": [
              "[{'CodigoEstado': 8,\n",
              "  'CodigoExterno': '1079155-1-LE20',\n",
              "  'FechaCierre': '2020-10-20T23:19:34.663',\n",
              "  'Nombre': 'PRUEBA'},\n",
              " {'CodigoEstado': 8,\n",
              "  'CodigoExterno': '1464-80-LE20',\n",
              "  'FechaCierre': '2020-10-15T11:00:00',\n",
              "  'Nombre': 'Reactivos de Laboratorio'},\n",
              " {'CodigoEstado': 15,\n",
              "  'CodigoExterno': '2277-24-LE20',\n",
              "  'FechaCierre': '2020-10-21T07:45:39.887',\n",
              "  'Nombre': 'Clasificación de riesgo fianciero M. Pudahuel'},\n",
              " {'CodigoEstado': 8,\n",
              "  'CodigoExterno': '643-12-LE20',\n",
              "  'FechaCierre': '2020-10-05T15:01:00',\n",
              "  'Nombre': 'SERVICIO GUARDIAS DE SEGURIDAD CAMPING PELANCURA'},\n",
              " {'CodigoEstado': 8,\n",
              "  'CodigoExterno': '643-13-LE20',\n",
              "  'FechaCierre': '2020-10-05T15:01:00',\n",
              "  'Nombre': 'SERVICIO GUARDIAS DE SEGURIDAD VALPARAÍSO'},\n",
              " {'CodigoEstado': 6,\n",
              "  'CodigoExterno': '1896-29-O120',\n",
              "  'FechaCierre': '2020-10-21T08:00:00',\n",
              "  'Nombre': 'Conservación Ptes. Quildaco Mui y Curamin, Hualaih'},\n",
              " {'CodigoEstado': 5,\n",
              "  'CodigoExterno': '2658-178-L120',\n",
              "  'FechaCierre': '2020-10-28T14:13:00',\n",
              "  'Nombre': 'CONTRATACION DE SERVICIO'},\n",
              " {'CodigoEstado': 8,\n",
              "  'CodigoExterno': '3371-21-LE20',\n",
              "  'FechaCierre': '2020-10-19T15:00:00',\n",
              "  'Nombre': 'FDOS PPTO - SERVICIO DE TRANSPORTE PARA PLEBISCITO'}]"
            ]
          },
          "metadata": {
            "tags": []
          },
          "execution_count": 28
        }
      ]
    },
    {
      "cell_type": "code",
      "metadata": {
        "id": "j9LAgPVORp-F"
      },
      "source": [
        "import pandas as pd"
      ],
      "execution_count": 29,
      "outputs": []
    },
    {
      "cell_type": "code",
      "metadata": {
        "id": "25XNiGPqRp-g"
      },
      "source": [
        "df_licitaciones_todos = pd.DataFrame(licitaciones, columns=['CodigoExterno','Nombre','CodigoEstado','FechaCierre'])"
      ],
      "execution_count": 30,
      "outputs": []
    },
    {
      "cell_type": "code",
      "metadata": {
        "scrolled": true,
        "id": "HiSzQpNxRp-o",
        "outputId": "3444bff7-d25f-49a9-b265-0f8135262633",
        "colab": {
          "base_uri": "https://localhost:8080/",
          "height": 277
        }
      },
      "source": [
        "df_licitaciones_todos"
      ],
      "execution_count": 31,
      "outputs": [
        {
          "output_type": "execute_result",
          "data": {
            "text/html": [
              "<div>\n",
              "<style scoped>\n",
              "    .dataframe tbody tr th:only-of-type {\n",
              "        vertical-align: middle;\n",
              "    }\n",
              "\n",
              "    .dataframe tbody tr th {\n",
              "        vertical-align: top;\n",
              "    }\n",
              "\n",
              "    .dataframe thead th {\n",
              "        text-align: right;\n",
              "    }\n",
              "</style>\n",
              "<table border=\"1\" class=\"dataframe\">\n",
              "  <thead>\n",
              "    <tr style=\"text-align: right;\">\n",
              "      <th></th>\n",
              "      <th>CodigoExterno</th>\n",
              "      <th>Nombre</th>\n",
              "      <th>CodigoEstado</th>\n",
              "      <th>FechaCierre</th>\n",
              "    </tr>\n",
              "  </thead>\n",
              "  <tbody>\n",
              "    <tr>\n",
              "      <th>0</th>\n",
              "      <td>1079155-1-LE20</td>\n",
              "      <td>PRUEBA</td>\n",
              "      <td>8</td>\n",
              "      <td>2020-10-20T23:19:34.663</td>\n",
              "    </tr>\n",
              "    <tr>\n",
              "      <th>1</th>\n",
              "      <td>1464-80-LE20</td>\n",
              "      <td>Reactivos de Laboratorio</td>\n",
              "      <td>8</td>\n",
              "      <td>2020-10-15T11:00:00</td>\n",
              "    </tr>\n",
              "    <tr>\n",
              "      <th>2</th>\n",
              "      <td>2277-24-LE20</td>\n",
              "      <td>Clasificación de riesgo fianciero M. Pudahuel</td>\n",
              "      <td>15</td>\n",
              "      <td>2020-10-21T07:45:39.887</td>\n",
              "    </tr>\n",
              "    <tr>\n",
              "      <th>3</th>\n",
              "      <td>643-12-LE20</td>\n",
              "      <td>SERVICIO GUARDIAS DE SEGURIDAD CAMPING PELANCURA</td>\n",
              "      <td>8</td>\n",
              "      <td>2020-10-05T15:01:00</td>\n",
              "    </tr>\n",
              "    <tr>\n",
              "      <th>4</th>\n",
              "      <td>643-13-LE20</td>\n",
              "      <td>SERVICIO GUARDIAS DE SEGURIDAD VALPARAÍSO</td>\n",
              "      <td>8</td>\n",
              "      <td>2020-10-05T15:01:00</td>\n",
              "    </tr>\n",
              "    <tr>\n",
              "      <th>5</th>\n",
              "      <td>1896-29-O120</td>\n",
              "      <td>Conservación Ptes. Quildaco Mui y Curamin, Hua...</td>\n",
              "      <td>6</td>\n",
              "      <td>2020-10-21T08:00:00</td>\n",
              "    </tr>\n",
              "    <tr>\n",
              "      <th>6</th>\n",
              "      <td>2658-178-L120</td>\n",
              "      <td>CONTRATACION DE SERVICIO</td>\n",
              "      <td>5</td>\n",
              "      <td>2020-10-28T14:13:00</td>\n",
              "    </tr>\n",
              "    <tr>\n",
              "      <th>7</th>\n",
              "      <td>3371-21-LE20</td>\n",
              "      <td>FDOS PPTO - SERVICIO DE TRANSPORTE PARA PLEBIS...</td>\n",
              "      <td>8</td>\n",
              "      <td>2020-10-19T15:00:00</td>\n",
              "    </tr>\n",
              "  </tbody>\n",
              "</table>\n",
              "</div>"
            ],
            "text/plain": [
              "    CodigoExterno  ...              FechaCierre\n",
              "0  1079155-1-LE20  ...  2020-10-20T23:19:34.663\n",
              "1    1464-80-LE20  ...      2020-10-15T11:00:00\n",
              "2    2277-24-LE20  ...  2020-10-21T07:45:39.887\n",
              "3     643-12-LE20  ...      2020-10-05T15:01:00\n",
              "4     643-13-LE20  ...      2020-10-05T15:01:00\n",
              "5    1896-29-O120  ...      2020-10-21T08:00:00\n",
              "6   2658-178-L120  ...      2020-10-28T14:13:00\n",
              "7    3371-21-LE20  ...      2020-10-19T15:00:00\n",
              "\n",
              "[8 rows x 4 columns]"
            ]
          },
          "metadata": {
            "tags": []
          },
          "execution_count": 31
        }
      ]
    },
    {
      "cell_type": "code",
      "metadata": {
        "id": "c4G6SjhoRp-v"
      },
      "source": [
        "cantidad = df_licitaciones_todos[\"Nombre\"].value_counts()"
      ],
      "execution_count": 32,
      "outputs": []
    },
    {
      "cell_type": "code",
      "metadata": {
        "id": "EIrDVCFBRp-1",
        "outputId": "14c605d4-8009-4eba-f0e7-9ea55622100d",
        "colab": {
          "base_uri": "https://localhost:8080/",
          "height": 33
        }
      },
      "source": [
        "print(cantidad.count())"
      ],
      "execution_count": 33,
      "outputs": [
        {
          "output_type": "stream",
          "text": [
            "8\n"
          ],
          "name": "stdout"
        }
      ]
    },
    {
      "cell_type": "code",
      "metadata": {
        "id": "cABRVVpJRp--",
        "outputId": "0397676e-e500-459d-97df-f12bf8f5dabb",
        "colab": {
          "base_uri": "https://localhost:8080/",
          "height": 33
        }
      },
      "source": [
        "df_licitaciones_todos.shape"
      ],
      "execution_count": 34,
      "outputs": [
        {
          "output_type": "execute_result",
          "data": {
            "text/plain": [
              "(8, 4)"
            ]
          },
          "metadata": {
            "tags": []
          },
          "execution_count": 34
        }
      ]
    },
    {
      "cell_type": "code",
      "metadata": {
        "id": "V8PTiKLzRUxS",
        "outputId": "1004fb40-11f4-4330-d140-297443fcb8f1",
        "colab": {
          "base_uri": "https://localhost:8080/",
          "height": 76
        }
      },
      "source": [
        "df_licitaciones_todos.head(1)"
      ],
      "execution_count": 35,
      "outputs": [
        {
          "output_type": "execute_result",
          "data": {
            "text/html": [
              "<div>\n",
              "<style scoped>\n",
              "    .dataframe tbody tr th:only-of-type {\n",
              "        vertical-align: middle;\n",
              "    }\n",
              "\n",
              "    .dataframe tbody tr th {\n",
              "        vertical-align: top;\n",
              "    }\n",
              "\n",
              "    .dataframe thead th {\n",
              "        text-align: right;\n",
              "    }\n",
              "</style>\n",
              "<table border=\"1\" class=\"dataframe\">\n",
              "  <thead>\n",
              "    <tr style=\"text-align: right;\">\n",
              "      <th></th>\n",
              "      <th>CodigoExterno</th>\n",
              "      <th>Nombre</th>\n",
              "      <th>CodigoEstado</th>\n",
              "      <th>FechaCierre</th>\n",
              "    </tr>\n",
              "  </thead>\n",
              "  <tbody>\n",
              "    <tr>\n",
              "      <th>0</th>\n",
              "      <td>1079155-1-LE20</td>\n",
              "      <td>PRUEBA</td>\n",
              "      <td>8</td>\n",
              "      <td>2020-10-20T23:19:34.663</td>\n",
              "    </tr>\n",
              "  </tbody>\n",
              "</table>\n",
              "</div>"
            ],
            "text/plain": [
              "    CodigoExterno  Nombre  CodigoEstado              FechaCierre\n",
              "0  1079155-1-LE20  PRUEBA             8  2020-10-20T23:19:34.663"
            ]
          },
          "metadata": {
            "tags": []
          },
          "execution_count": 35
        }
      ]
    },
    {
      "cell_type": "markdown",
      "metadata": {
        "id": "u2gpVD6rR0Tn"
      },
      "source": [
        "### **Prueba Por {código} de licitación:**"
      ]
    },
    {
      "cell_type": "code",
      "metadata": {
        "id": "ULloKLgBR4LV",
        "outputId": "e56cb6a3-cbc7-40db-a8a4-b28db20c32ff",
        "colab": {
          "base_uri": "https://localhost:8080/",
          "height": 33
        }
      },
      "source": [
        "# Ejemplo de {codigo} = 1509-5-L114\n",
        "\n",
        "import json\n",
        "import requests\n",
        "import pandas as pd\n",
        "\n",
        "url1 = \"http://api.mercadopublico.cl/servicios/v1/publico/licitaciones.json?codigo=1509-5-L114&ticket=81D9D50E-E3EA-41F5-A456-0AD2B42E6D80\"\n",
        "\n",
        "respuesta1=requests.request(\"GET\", url1)\n",
        "print(respuesta1)"
      ],
      "execution_count": 66,
      "outputs": [
        {
          "output_type": "stream",
          "text": [
            "<Response [200]>\n"
          ],
          "name": "stdout"
        }
      ]
    },
    {
      "cell_type": "code",
      "metadata": {
        "id": "UJd7Mv5b93l7",
        "outputId": "5481e348-3f11-4040-fa39-3e25326b4a61",
        "colab": {
          "base_uri": "https://localhost:8080/",
          "height": 53
        }
      },
      "source": [
        "print(respuesta1.headers)"
      ],
      "execution_count": 67,
      "outputs": [
        {
          "output_type": "stream",
          "text": [
            "{'Cache-Control': 'no-cache', 'Pragma': 'no-cache', 'Content-Type': 'application/json; charset=utf-8', 'Expires': '-1', 'Server': 'Microsoft-IIS/7.5', 'X-AspNet-Version': '4.0.30319', 'X-Powered-By': 'ASP.NET', 'Set-Cookie': 'dtCookie=1$E4A9677C5E862CFE09E0C42AB79D3C6A; Path=/; Domain=.mercadopublico.cl', 'Date': 'Wed, 21 Oct 2020 12:42:32 GMT', 'Content-Length': '5539'}\n"
          ],
          "name": "stdout"
        }
      ]
    },
    {
      "cell_type": "code",
      "metadata": {
        "id": "j-YYjqtd94iZ",
        "outputId": "00e1248c-03bc-482b-f355-2b110211f96a",
        "colab": {
          "base_uri": "https://localhost:8080/",
          "height": 135
        }
      },
      "source": [
        "respuesta1.text"
      ],
      "execution_count": 68,
      "outputs": [
        {
          "output_type": "execute_result",
          "data": {
            "application/vnd.google.colaboratory.intrinsic+json": {
              "type": "string"
            },
            "text/plain": [
              "'{\"Cantidad\":1,\"FechaCreacion\":\"2020-10-21T09:42:32.767\",\"Version\":\"v1\",\"Listado\":[{\"CodigoExterno\":\"1509-5-L114\",\"Nombre\":\"Insumos Medicos y Medicamentos \",\"CodigoEstado\":8,\"Descripcion\":\"se requiere la compra de insumos y medicamentos para la unidad de urgencia y unidad de Hospitalizados del establecimiento de salud.\",\"FechaCierre\":null,\"Estado\":\"Adjudicada\",\"Comprador\":{\"CodigoOrganismo\":\"7274\",\"NombreOrganismo\":\"Hospital Til - Til\",\"RutUnidad\":\"61.608.006-7\",\"CodigoUnidad\":\"2505\",\"NombreUnidad\":\"Hospital Til - Til\",\"DireccionUnidad\":\"Daniel Moya  100\",\"ComunaUnidad\":\"Til Til\",\"RegionUnidad\":\"Región Metropolitana de Santiago\",\"RutUsuario\":\"15.610.153-2\",\"CodigoUsuario\":\"590344\",\"NombreUsuario\":\"Joycie   Valle Chacon\",\"CargoUsuario\":\"Contabilidad\"},\"DiasCierreLicitacion\":\"0\",\"Informada\":0,\"CodigoTipo\":1,\"Tipo\":\"L1\",\"TipoConvocatoria\":\"1\",\"Moneda\":\"CLP\",\"Etapas\":1,\"EstadoEtapas\":\"1\",\"TomaRazon\":\"0\",\"EstadoPublicidadOfertas\":1,\"JustificacionPublicidad\":\"\",\"Contrato\":\"0\",\"Obras\":\"0\",\"CantidadReclamos\":100,\"Fechas\":{\"FechaCreacion\":\"2014-01-20T09:52:56.653\",\"FechaCierre\":\"2014-01-27T15:54:00\",\"FechaInicio\":\"2014-01-20T15:54:00\",\"FechaFinal\":\"2014-01-23T15:54:00\",\"FechaPubRespuestas\":\"2014-01-24T15:54:00\",\"FechaActoAperturaTecnica\":\"2014-01-27T15:55:00\",\"FechaActoAperturaEconomica\":\"2014-01-27T15:55:00\",\"FechaPublicacion\":\"2014-01-20T10:00:17.173\",\"FechaAdjudicacion\":\"2014-02-02T15:42:13.133\",\"FechaEstimadaAdjudicacion\":\"2014-01-31T15:55:00\",\"FechaSoporteFisico\":null,\"FechaTiempoEvaluacion\":null,\"FechaEstimadaFirma\":null,\"FechasUsuario\":null,\"FechaVisitaTerreno\":null,\"FechaEntregaAntecedentes\":null},\"UnidadTiempoEvaluacion\":1,\"DireccionVisita\":\"\",\"DireccionEntrega\":\"\",\"Estimacion\":2,\"FuenteFinanciamiento\":\"\",\"VisibilidadMonto\":0,\"MontoEstimado\":null,\"Tiempo\":null,\"UnidadTiempo\":\"1\",\"Modalidad\":1,\"TipoPago\":\"2\",\"NombreResponsablePago\":\"Veronica Ortega Naranjo\",\"EmailResponsablePago\":\"veronica.ortega@redsalud.gov.cl\",\"NombreResponsableContrato\":\"Joyce Valle Chacon\",\"EmailResponsableContrato\":\"joyce.valle@redsalud.gov.cl\",\"FonoResponsableContrato\":\"56-02-25751735-\",\"ProhibicionContratacion\":\"\",\"SubContratacion\":\"0\",\"UnidadTiempoDuracionContrato\":1,\"TiempoDuracionContrato\":\"0\",\"TipoDuracionContrato\":\" \",\"JustificacionMontoEstimado\":\"\",\"ObservacionContract\":null,\"ExtensionPlazo\":0,\"EsBaseTipo\":0,\"UnidadTiempoContratoLicitacion\":\"1\",\"ValorTiempoRenovacion\":\"0\",\"PeriodoTiempoRenovacion\":\" \",\"EsRenovable\":0,\"Adjudicacion\":{\"Tipo\":5,\"Fecha\":\"2014-01-31T00:00:00\",\"Numero\":\"7\",\"NumeroOferentes\":25,\"UrlActa\":\"http://www.mercadopublico.cl/Procurement/Modules/RFB/StepsProcessAward/PreviewAwardAct.aspx?qs=WD6yac0APV/oCD6hcXhCEEpAbBYHIS+0oTpg3KVZbDk=\"},\"Items\":{\"Cantidad\":6,\"Listado\":[{\"Correlativo\":1,\"CodigoProducto\":42271718,\"CodigoCategoria\":\"42271700\",\"Categoria\":\"Equipamiento y suministros médicos / Productos de resucitación, anestesia y respiratorios / Sistemas y dispositivos de terapia de entrega de oxígeno\",\"NombreProducto\":\"Accesorios para productos de administración de oxigenoterapia o sus suministros\",\"Descripcion\":\"EQUIPO DE OXIGENOTERAPIA MANOMETRO PARA OXIGENO RANGO 0-4000 LT POR PULGADAS 2, CON HUMIDIFICADOR Y FLUJOMETRO DE 0 A 15 LT POR MINUTO\",\"UnidadMedida\":\"Unidad\",\"Cantidad\":10.0,\"Adjudicacion\":null},{\"Correlativo\":2,\"CodigoProducto\":42271718,\"CodigoCategoria\":\"42271700\",\"Categoria\":\"Equipamiento y suministros médicos / Productos de resucitación, anestesia y respiratorios / Sistemas y dispositivos de terapia de entrega de oxígeno\",\"NombreProducto\":\"Accesorios para productos de administración de oxigenoterapia o sus suministros\",\"Descripcion\":\"SONDA P/ OXIGENO ADULTO ( NARICERA).\",\"UnidadMedida\":\"Unidad\",\"Cantidad\":100.0,\"Adjudicacion\":{\"RutProveedor\":\"76.012.551-2\",\"NombreProveedor\":\"IMPORTADORA MEGA MARKET LIMITADA\",\"Cantidad\":100.0,\"MontoUnitario\":200.0}},{\"Correlativo\":3,\"CodigoProducto\":42311528,\"CodigoCategoria\":\"42311500\",\"Categoria\":\"Equipamiento y suministros médicos / Productos para el cuidado de heridas / Vendas, vendajes y productos relacionados\",\"NombreProducto\":\"Sistemas de vendajes mojados\",\"Descripcion\":\"VENDA ENYESADA 12 CM ANCHO.\",\"UnidadMedida\":\"Unidad\",\"Cantidad\":20.0,\"Adjudicacion\":{\"RutProveedor\":\"76.830.090-9\",\"NombreProveedor\":\"FARMACEUTICA CARIBEAN LTDA\",\"Cantidad\":20.0,\"MontoUnitario\":1434.0}},{\"Correlativo\":4,\"CodigoProducto\":51121603,\"CodigoCategoria\":\"51121600\",\"Categoria\":\"Medicamentos y productos farmacéuticos / Medicamentos cardiovasculares / Medicamentos antiangina\",\"NombreProducto\":\"Nitroglicerina\",\"Descripcion\":\"NITROGLICERINA SUBLINGUAL 0.6 MG COMPRIMIDO RANURADO BLISTER\",\"UnidadMedida\":\"Unidad\",\"Cantidad\":400.0,\"Adjudicacion\":null},{\"Correlativo\":5,\"CodigoProducto\":51131603,\"CodigoCategoria\":\"51131600\",\"Categoria\":\"Medicamentos y productos farmacéuticos / Medicamentos hematólicos / Anticoagulantes\",\"NombreProducto\":\"Heparina sódica\",\"Descripcion\":\"HEPARINA SODICA FAM 25.000 U.I/5ML.\",\"UnidadMedida\":\"Unidad\",\"Cantidad\":50.0,\"Adjudicacion\":{\"RutProveedor\":\"99.541.890-8\",\"NombreProveedor\":\"INVERSIONES PMG S A\",\"Cantidad\":50.0,\"MontoUnitario\":1650.0}},{\"Correlativo\":6,\"CodigoProducto\":51131613,\"CodigoCategoria\":\"51131600\",\"Categoria\":\"Medicamentos y productos farmacéuticos / Medicamentos hematólicos / Anticoagulantes\",\"NombreProducto\":\"Dicumarol\",\"Descripcion\":\"ACENOCUMAROL CM 4 MG COMPRIMIDO BLISTER RANURADO\",\"UnidadMedida\":\"Unidad\",\"Cantidad\":30.0,\"Adjudicacion\":{\"RutProveedor\":\"78.307.040-5\",\"NombreProveedor\":\"FARMACEUTICA SANTIAGO LIMITADA\",\"Cantidad\":30.0,\"MontoUnitario\":400.0}}]}}]}'"
            ]
          },
          "metadata": {
            "tags": []
          },
          "execution_count": 68
        }
      ]
    },
    {
      "cell_type": "code",
      "metadata": {
        "id": "8kpyDILE94Vv"
      },
      "source": [
        "respuestajson = json.loads(respuesta1.text)"
      ],
      "execution_count": 87,
      "outputs": []
    },
    {
      "cell_type": "code",
      "metadata": {
        "id": "dWV1Yt2B-MYQ",
        "outputId": "7ac1198b-65b1-4aec-e7da-edcaf9253067",
        "colab": {
          "base_uri": "https://localhost:8080/",
          "height": 53
        }
      },
      "source": [
        "print(respuestajson)"
      ],
      "execution_count": 71,
      "outputs": [
        {
          "output_type": "stream",
          "text": [
            "{'Cantidad': 1, 'FechaCreacion': '2020-10-21T09:42:32.767', 'Version': 'v1', 'Listado': [{'CodigoExterno': '1509-5-L114', 'Nombre': 'Insumos Medicos y Medicamentos ', 'CodigoEstado': 8, 'Descripcion': 'se requiere la compra de insumos y medicamentos para la unidad de urgencia y unidad de Hospitalizados del establecimiento de salud.', 'FechaCierre': None, 'Estado': 'Adjudicada', 'Comprador': {'CodigoOrganismo': '7274', 'NombreOrganismo': 'Hospital Til - Til', 'RutUnidad': '61.608.006-7', 'CodigoUnidad': '2505', 'NombreUnidad': 'Hospital Til - Til', 'DireccionUnidad': 'Daniel Moya  100', 'ComunaUnidad': 'Til Til', 'RegionUnidad': 'Región Metropolitana de Santiago', 'RutUsuario': '15.610.153-2', 'CodigoUsuario': '590344', 'NombreUsuario': 'Joycie   Valle Chacon', 'CargoUsuario': 'Contabilidad'}, 'DiasCierreLicitacion': '0', 'Informada': 0, 'CodigoTipo': 1, 'Tipo': 'L1', 'TipoConvocatoria': '1', 'Moneda': 'CLP', 'Etapas': 1, 'EstadoEtapas': '1', 'TomaRazon': '0', 'EstadoPublicidadOfertas': 1, 'JustificacionPublicidad': '', 'Contrato': '0', 'Obras': '0', 'CantidadReclamos': 100, 'Fechas': {'FechaCreacion': '2014-01-20T09:52:56.653', 'FechaCierre': '2014-01-27T15:54:00', 'FechaInicio': '2014-01-20T15:54:00', 'FechaFinal': '2014-01-23T15:54:00', 'FechaPubRespuestas': '2014-01-24T15:54:00', 'FechaActoAperturaTecnica': '2014-01-27T15:55:00', 'FechaActoAperturaEconomica': '2014-01-27T15:55:00', 'FechaPublicacion': '2014-01-20T10:00:17.173', 'FechaAdjudicacion': '2014-02-02T15:42:13.133', 'FechaEstimadaAdjudicacion': '2014-01-31T15:55:00', 'FechaSoporteFisico': None, 'FechaTiempoEvaluacion': None, 'FechaEstimadaFirma': None, 'FechasUsuario': None, 'FechaVisitaTerreno': None, 'FechaEntregaAntecedentes': None}, 'UnidadTiempoEvaluacion': 1, 'DireccionVisita': '', 'DireccionEntrega': '', 'Estimacion': 2, 'FuenteFinanciamiento': '', 'VisibilidadMonto': 0, 'MontoEstimado': None, 'Tiempo': None, 'UnidadTiempo': '1', 'Modalidad': 1, 'TipoPago': '2', 'NombreResponsablePago': 'Veronica Ortega Naranjo', 'EmailResponsablePago': 'veronica.ortega@redsalud.gov.cl', 'NombreResponsableContrato': 'Joyce Valle Chacon', 'EmailResponsableContrato': 'joyce.valle@redsalud.gov.cl', 'FonoResponsableContrato': '56-02-25751735-', 'ProhibicionContratacion': '', 'SubContratacion': '0', 'UnidadTiempoDuracionContrato': 1, 'TiempoDuracionContrato': '0', 'TipoDuracionContrato': ' ', 'JustificacionMontoEstimado': '', 'ObservacionContract': None, 'ExtensionPlazo': 0, 'EsBaseTipo': 0, 'UnidadTiempoContratoLicitacion': '1', 'ValorTiempoRenovacion': '0', 'PeriodoTiempoRenovacion': ' ', 'EsRenovable': 0, 'Adjudicacion': {'Tipo': 5, 'Fecha': '2014-01-31T00:00:00', 'Numero': '7', 'NumeroOferentes': 25, 'UrlActa': 'http://www.mercadopublico.cl/Procurement/Modules/RFB/StepsProcessAward/PreviewAwardAct.aspx?qs=WD6yac0APV/oCD6hcXhCEEpAbBYHIS+0oTpg3KVZbDk='}, 'Items': {'Cantidad': 6, 'Listado': [{'Correlativo': 1, 'CodigoProducto': 42271718, 'CodigoCategoria': '42271700', 'Categoria': 'Equipamiento y suministros médicos / Productos de resucitación, anestesia y respiratorios / Sistemas y dispositivos de terapia de entrega de oxígeno', 'NombreProducto': 'Accesorios para productos de administración de oxigenoterapia o sus suministros', 'Descripcion': 'EQUIPO DE OXIGENOTERAPIA MANOMETRO PARA OXIGENO RANGO 0-4000 LT POR PULGADAS 2, CON HUMIDIFICADOR Y FLUJOMETRO DE 0 A 15 LT POR MINUTO', 'UnidadMedida': 'Unidad', 'Cantidad': 10.0, 'Adjudicacion': None}, {'Correlativo': 2, 'CodigoProducto': 42271718, 'CodigoCategoria': '42271700', 'Categoria': 'Equipamiento y suministros médicos / Productos de resucitación, anestesia y respiratorios / Sistemas y dispositivos de terapia de entrega de oxígeno', 'NombreProducto': 'Accesorios para productos de administración de oxigenoterapia o sus suministros', 'Descripcion': 'SONDA P/ OXIGENO ADULTO ( NARICERA).', 'UnidadMedida': 'Unidad', 'Cantidad': 100.0, 'Adjudicacion': {'RutProveedor': '76.012.551-2', 'NombreProveedor': 'IMPORTADORA MEGA MARKET LIMITADA', 'Cantidad': 100.0, 'MontoUnitario': 200.0}}, {'Correlativo': 3, 'CodigoProducto': 42311528, 'CodigoCategoria': '42311500', 'Categoria': 'Equipamiento y suministros médicos / Productos para el cuidado de heridas / Vendas, vendajes y productos relacionados', 'NombreProducto': 'Sistemas de vendajes mojados', 'Descripcion': 'VENDA ENYESADA 12 CM ANCHO.', 'UnidadMedida': 'Unidad', 'Cantidad': 20.0, 'Adjudicacion': {'RutProveedor': '76.830.090-9', 'NombreProveedor': 'FARMACEUTICA CARIBEAN LTDA', 'Cantidad': 20.0, 'MontoUnitario': 1434.0}}, {'Correlativo': 4, 'CodigoProducto': 51121603, 'CodigoCategoria': '51121600', 'Categoria': 'Medicamentos y productos farmacéuticos / Medicamentos cardiovasculares / Medicamentos antiangina', 'NombreProducto': 'Nitroglicerina', 'Descripcion': 'NITROGLICERINA SUBLINGUAL 0.6 MG COMPRIMIDO RANURADO BLISTER', 'UnidadMedida': 'Unidad', 'Cantidad': 400.0, 'Adjudicacion': None}, {'Correlativo': 5, 'CodigoProducto': 51131603, 'CodigoCategoria': '51131600', 'Categoria': 'Medicamentos y productos farmacéuticos / Medicamentos hematólicos / Anticoagulantes', 'NombreProducto': 'Heparina sódica', 'Descripcion': 'HEPARINA SODICA FAM 25.000 U.I/5ML.', 'UnidadMedida': 'Unidad', 'Cantidad': 50.0, 'Adjudicacion': {'RutProveedor': '99.541.890-8', 'NombreProveedor': 'INVERSIONES PMG S A', 'Cantidad': 50.0, 'MontoUnitario': 1650.0}}, {'Correlativo': 6, 'CodigoProducto': 51131613, 'CodigoCategoria': '51131600', 'Categoria': 'Medicamentos y productos farmacéuticos / Medicamentos hematólicos / Anticoagulantes', 'NombreProducto': 'Dicumarol', 'Descripcion': 'ACENOCUMAROL CM 4 MG COMPRIMIDO BLISTER RANURADO', 'UnidadMedida': 'Unidad', 'Cantidad': 30.0, 'Adjudicacion': {'RutProveedor': '78.307.040-5', 'NombreProveedor': 'FARMACEUTICA SANTIAGO LIMITADA', 'Cantidad': 30.0, 'MontoUnitario': 400.0}}]}}]}\n"
          ],
          "name": "stdout"
        }
      ]
    },
    {
      "cell_type": "code",
      "metadata": {
        "id": "ueoQh2SqAfnu",
        "outputId": "8e3bbec4-76b1-4c1f-b8fd-4f29e32ce719",
        "colab": {
          "base_uri": "https://localhost:8080/",
          "height": 33
        }
      },
      "source": [
        "pd.read_json"
      ],
      "execution_count": 73,
      "outputs": [
        {
          "output_type": "execute_result",
          "data": {
            "text/plain": [
              "<function pandas.io.json._json.read_json>"
            ]
          },
          "metadata": {
            "tags": []
          },
          "execution_count": 73
        }
      ]
    },
    {
      "cell_type": "code",
      "metadata": {
        "id": "F7epA8IE-MNO"
      },
      "source": [
        "licitaciones = respuestajson[\"Listado\"]"
      ],
      "execution_count": 85,
      "outputs": []
    },
    {
      "cell_type": "code",
      "metadata": {
        "id": "m3J8uSBj-cq8"
      },
      "source": [
        "licitaciones"
      ],
      "execution_count": null,
      "outputs": []
    },
    {
      "cell_type": "code",
      "metadata": {
        "id": "W8w4w-jR-4g_",
        "outputId": "d0bce685-5b33-4206-bb64-da0cf60d223f",
        "colab": {
          "base_uri": "https://localhost:8080/",
          "height": 161
        }
      },
      "source": [
        "df_licitaciones_todos"
      ],
      "execution_count": 77,
      "outputs": [
        {
          "output_type": "execute_result",
          "data": {
            "text/html": [
              "<div>\n",
              "<style scoped>\n",
              "    .dataframe tbody tr th:only-of-type {\n",
              "        vertical-align: middle;\n",
              "    }\n",
              "\n",
              "    .dataframe tbody tr th {\n",
              "        vertical-align: top;\n",
              "    }\n",
              "\n",
              "    .dataframe thead th {\n",
              "        text-align: right;\n",
              "    }\n",
              "</style>\n",
              "<table border=\"1\" class=\"dataframe\">\n",
              "  <thead>\n",
              "    <tr style=\"text-align: right;\">\n",
              "      <th></th>\n",
              "      <th>CodigoExterno</th>\n",
              "      <th>Nombre</th>\n",
              "      <th>CodigoEstado</th>\n",
              "      <th>Descripcion</th>\n",
              "      <th>FechaCierre</th>\n",
              "      <th>Estado</th>\n",
              "      <th>Comprador</th>\n",
              "      <th>DiasCierreLicitacion</th>\n",
              "      <th>Informada</th>\n",
              "      <th>CodigoTipo</th>\n",
              "      <th>Tipo</th>\n",
              "      <th>TipoConvocatoria</th>\n",
              "      <th>Moneda</th>\n",
              "      <th>Etapas</th>\n",
              "      <th>EstadoEtapas</th>\n",
              "      <th>TomaRazon</th>\n",
              "      <th>EstadoPublicidadOfertas</th>\n",
              "      <th>JustificacionPublicidad</th>\n",
              "      <th>Contrato</th>\n",
              "      <th>Obras</th>\n",
              "      <th>CantidadReclamos</th>\n",
              "      <th>Fechas</th>\n",
              "      <th>UnidadTiempoEvaluacion</th>\n",
              "      <th>DireccionVisita</th>\n",
              "      <th>DireccionEntrega</th>\n",
              "      <th>Estimacion</th>\n",
              "      <th>FuenteFinanciamiento</th>\n",
              "      <th>VisibilidadMonto</th>\n",
              "      <th>MontoEstimado</th>\n",
              "      <th>Tiempo</th>\n",
              "      <th>UnidadTiempo</th>\n",
              "      <th>Modalidad</th>\n",
              "      <th>TipoPago</th>\n",
              "      <th>NombreResponsablePago</th>\n",
              "      <th>EmailResponsablePago</th>\n",
              "      <th>NombreResponsableContrato</th>\n",
              "      <th>EmailResponsableContrato</th>\n",
              "      <th>FonoResponsableContrato</th>\n",
              "      <th>ProhibicionContratacion</th>\n",
              "      <th>SubContratacion</th>\n",
              "      <th>UnidadTiempoDuracionContrato</th>\n",
              "      <th>TiempoDuracionContrato</th>\n",
              "      <th>TipoDuracionContrato</th>\n",
              "      <th>JustificacionMontoEstimado</th>\n",
              "      <th>ObservacionContract</th>\n",
              "      <th>ExtensionPlazo</th>\n",
              "      <th>EsBaseTipo</th>\n",
              "      <th>UnidadTiempoContratoLicitacion</th>\n",
              "      <th>ValorTiempoRenovacion</th>\n",
              "      <th>PeriodoTiempoRenovacion</th>\n",
              "      <th>EsRenovable</th>\n",
              "      <th>Adjudicacion</th>\n",
              "      <th>Items</th>\n",
              "    </tr>\n",
              "  </thead>\n",
              "  <tbody>\n",
              "    <tr>\n",
              "      <th>0</th>\n",
              "      <td>1509-5-L114</td>\n",
              "      <td>Insumos Medicos y Medicamentos</td>\n",
              "      <td>8</td>\n",
              "      <td>se requiere la compra de insumos y medicamento...</td>\n",
              "      <td>None</td>\n",
              "      <td>Adjudicada</td>\n",
              "      <td>{'CodigoOrganismo': '7274', 'NombreOrganismo':...</td>\n",
              "      <td>0</td>\n",
              "      <td>0</td>\n",
              "      <td>1</td>\n",
              "      <td>L1</td>\n",
              "      <td>1</td>\n",
              "      <td>CLP</td>\n",
              "      <td>1</td>\n",
              "      <td>1</td>\n",
              "      <td>0</td>\n",
              "      <td>1</td>\n",
              "      <td></td>\n",
              "      <td>0</td>\n",
              "      <td>0</td>\n",
              "      <td>100</td>\n",
              "      <td>{'FechaCreacion': '2014-01-20T09:52:56.653', '...</td>\n",
              "      <td>1</td>\n",
              "      <td></td>\n",
              "      <td></td>\n",
              "      <td>2</td>\n",
              "      <td></td>\n",
              "      <td>0</td>\n",
              "      <td>None</td>\n",
              "      <td>None</td>\n",
              "      <td>1</td>\n",
              "      <td>1</td>\n",
              "      <td>2</td>\n",
              "      <td>Veronica Ortega Naranjo</td>\n",
              "      <td>veronica.ortega@redsalud.gov.cl</td>\n",
              "      <td>Joyce Valle Chacon</td>\n",
              "      <td>joyce.valle@redsalud.gov.cl</td>\n",
              "      <td>56-02-25751735-</td>\n",
              "      <td></td>\n",
              "      <td>0</td>\n",
              "      <td>1</td>\n",
              "      <td>0</td>\n",
              "      <td></td>\n",
              "      <td></td>\n",
              "      <td>None</td>\n",
              "      <td>0</td>\n",
              "      <td>0</td>\n",
              "      <td>1</td>\n",
              "      <td>0</td>\n",
              "      <td></td>\n",
              "      <td>0</td>\n",
              "      <td>{'Tipo': 5, 'Fecha': '2014-01-31T00:00:00', 'N...</td>\n",
              "      <td>{'Cantidad': 6, 'Listado': [{'Correlativo': 1,...</td>\n",
              "    </tr>\n",
              "  </tbody>\n",
              "</table>\n",
              "</div>"
            ],
            "text/plain": [
              "  CodigoExterno  ...                                              Items\n",
              "0   1509-5-L114  ...  {'Cantidad': 6, 'Listado': [{'Correlativo': 1,...\n",
              "\n",
              "[1 rows x 53 columns]"
            ]
          },
          "metadata": {
            "tags": []
          },
          "execution_count": 77
        }
      ]
    },
    {
      "cell_type": "code",
      "metadata": {
        "id": "FZ77nfufDTl2"
      },
      "source": [
        "cantidad = df_licitaciones_todos[\"Nombre\"].value_counts()"
      ],
      "execution_count": 134,
      "outputs": []
    },
    {
      "cell_type": "code",
      "metadata": {
        "id": "Lae4SbyCDVZW",
        "outputId": "8f6ccd7b-dc9f-4345-e8b7-9129294c9bc4",
        "colab": {
          "base_uri": "https://localhost:8080/",
          "height": 33
        }
      },
      "source": [
        "print(cantidad.count())"
      ],
      "execution_count": 79,
      "outputs": [
        {
          "output_type": "stream",
          "text": [
            "1\n"
          ],
          "name": "stdout"
        }
      ]
    },
    {
      "cell_type": "code",
      "metadata": {
        "id": "ksUdbibnDbO-",
        "outputId": "f1323790-37ef-4d76-b4c3-f0948eaf262a",
        "colab": {
          "base_uri": "https://localhost:8080/",
          "height": 33
        }
      },
      "source": [
        "df_licitaciones_todos.shape"
      ],
      "execution_count": 56,
      "outputs": [
        {
          "output_type": "execute_result",
          "data": {
            "text/plain": [
              "(1, 53)"
            ]
          },
          "metadata": {
            "tags": []
          },
          "execution_count": 56
        }
      ]
    },
    {
      "cell_type": "markdown",
      "metadata": {
        "id": "qCL5-QSECzaB"
      },
      "source": [
        "### **Código de un Proveedor**"
      ]
    },
    {
      "cell_type": "markdown",
      "metadata": {
        "id": "Hp4dZIgcKSov"
      },
      "source": [
        "### **Códigos de un Organismos Públicos**"
      ]
    },
    {
      "cell_type": "code",
      "metadata": {
        "id": "tfAwyH65Kp3a",
        "outputId": "50417644-c7bf-49c2-b1b3-34c0a132d751",
        "colab": {
          "base_uri": "https://localhost:8080/",
          "height": 33
        }
      },
      "source": [
        "# ticket mercado publico de on iñaki abaroa schilling= 81D9D50E-E3EA-41F5-A456-0AD2B42E6D80\n",
        "\n",
        "import json\n",
        "import requests\n",
        "import pandas as pd\n",
        "\n",
        "url2 = \"http://api.mercadopublico.cl/servicios/v1/Publico/Empresas/BuscarComprador?ticket=81D9D50E-E3EA-41F5-A456-0AD2B42E6D80\"\n",
        "\n",
        "respuesta2=requests.request(\"GET\", url2)\n",
        "print(respuesta2)"
      ],
      "execution_count": 122,
      "outputs": [
        {
          "output_type": "stream",
          "text": [
            "<Response [200]>\n"
          ],
          "name": "stdout"
        }
      ]
    },
    {
      "cell_type": "code",
      "metadata": {
        "id": "Q16hpLcsLUMT",
        "outputId": "9ab75cb9-d6c9-4912-eff9-ea97718b3b00",
        "colab": {
          "base_uri": "https://localhost:8080/",
          "height": 53
        }
      },
      "source": [
        "print(respuesta2.headers)"
      ],
      "execution_count": 123,
      "outputs": [
        {
          "output_type": "stream",
          "text": [
            "{'Cache-Control': 'no-cache', 'Pragma': 'no-cache', 'Content-Type': 'application/json; charset=utf-8', 'Expires': '-1', 'Server': 'Microsoft-IIS/7.5', 'X-AspNet-Version': '4.0.30319', 'X-Powered-By': 'ASP.NET', 'Set-Cookie': 'dtCookie=2$8776CCD38E016FBEEE70A5C1CD5E0B38; Path=/; Domain=.mercadopublico.cl', 'Date': 'Wed, 21 Oct 2020 12:59:18 GMT', 'Content-Length': '66920'}\n"
          ],
          "name": "stdout"
        }
      ]
    },
    {
      "cell_type": "code",
      "metadata": {
        "id": "i0KsDSl_LUDz",
        "outputId": "f01a9af5-b2a5-4ff2-8065-66045662ac4d",
        "colab": {
          "base_uri": "https://localhost:8080/",
          "height": 135
        }
      },
      "source": [
        "respuesta2.text"
      ],
      "execution_count": 124,
      "outputs": [
        {
          "output_type": "execute_result",
          "data": {
            "application/vnd.google.colaboratory.intrinsic+json": {
              "type": "string"
            },
            "text/plain": [
              "'{\"Cantidad\":863,\"FechaCreacion\":\"2020-10-21T09:59:19.193\",\"listaEmpresas\":[{\"CodigoEmpresa\":\"1034640\",\"NombreEmpresa\":\" CORPORACION MUNICIPAL DE PEÑALOLEN PARA EL DESARROLLO SOCIAL \"},{\"CodigoEmpresa\":\"7311\",\"NombreEmpresa\":\" Hospital de enfermedades InfecciDr. Lucio Córdova\"},{\"CodigoEmpresa\":\"7086\",\"NombreEmpresa\":\"AGENCIA CHILENA DE COOPERACION INTERNACIONAL PARA EL DESARROLLO\"},{\"CodigoEmpresa\":\"1224636\",\"NombreEmpresa\":\"Agencia Chilena de Eficiencia Energética\"},{\"CodigoEmpresa\":\"7193\",\"NombreEmpresa\":\"Agencia de Promoción de la Inversión Extranjera\"},{\"CodigoEmpresa\":\"7212\",\"NombreEmpresa\":\"Agencia Nacional de Inteligencia\"},{\"CodigoEmpresa\":\"111875\",\"NombreEmpresa\":\"ARMADA DE CHILE\"},{\"CodigoEmpresa\":\"6959\",\"NombreEmpresa\":\"Banco del Estado de Chile\"},{\"CodigoEmpresa\":\"7265\",\"NombreEmpresa\":\"Biblioteca del Congreso Nacional\"},{\"CodigoEmpresa\":\"7038\",\"NombreEmpresa\":\"Bienestar del Registro Civil\"},{\"CodigoEmpresa\":\"7313\",\"NombreEmpresa\":\"C.D.T. Doctora Eloisa Díaz\"},{\"CodigoEmpresa\":\"156657\",\"NombreEmpresa\":\"Cámara de Diputados de Chile\"},{\"CodigoEmpresa\":\"7175\",\"NombreEmpresa\":\"CAPREDENA\"},{\"CodigoEmpresa\":\"7198\",\"NombreEmpresa\":\"Casa de Moneda de Chile\"},{\"CodigoEmpresa\":\"6957\",\"NombreEmpresa\":\"Central de Abastecimiento S.N.S.S. -  CENABAST\"},{\"CodigoEmpresa\":\"1339711\",\"NombreEmpresa\":\"CENTRO ASISTENCIAL NORTE DE ANTOFAGASTA\"},{\"CodigoEmpresa\":\"1741046\",\"NombreEmpresa\":\"CENTRO DE FORMACION TECNICA DE LA REGION DE ATACAMA\"},{\"CodigoEmpresa\":\"1700248\",\"NombreEmpresa\":\"CENTRO DE FORMACIÓN TÉCNICA ESTATAL DE MAGALLANES Y ANTARTICA CHILENA\"},{\"CodigoEmpresa\":\"1741019\",\"NombreEmpresa\":\"Centro de Formación Técnica Estatal Región de Arica y Parinacota\"},{\"CodigoEmpresa\":\"7380\",\"NombreEmpresa\":\"Centro de Información de Recursos Naturales\"},{\"CodigoEmpresa\":\"7317\",\"NombreEmpresa\":\"Centro de Referencia de Salud de Maipú\"},{\"CodigoEmpresa\":\"7473\",\"NombreEmpresa\":\"Centro de Salud Dr. Víctor M. Fernández\"},{\"CodigoEmpresa\":\"7461\",\"NombreEmpresa\":\"Centro Diagnóstico Terapéutico Los Angeles\"},{\"CodigoEmpresa\":\"7373\",\"NombreEmpresa\":\"Centro Referencia Salud Doctor Salvador Allende G.\"},{\"CodigoEmpresa\":\"118627\",\"NombreEmpresa\":\"Cesfam Dr. Alejandro Gutierrez\"},{\"CodigoEmpresa\":\"111870\",\"NombreEmpresa\":\"COMANDO DE APOYO A LA FUERZA\"},{\"CodigoEmpresa\":\"192032\",\"NombreEmpresa\":\"Comisión Administradora del Sistema de Créditos para Estudios Superiores\"},{\"CodigoEmpresa\":\"7219\",\"NombreEmpresa\":\"Comisión Chilena de Energía Nuclear\"},{\"CodigoEmpresa\":\"7075\",\"NombreEmpresa\":\"Comisión Chilena del Cobre - COCHILCO\"},{\"CodigoEmpresa\":\"262897\",\"NombreEmpresa\":\"Comisión Nacional de Acreditación - CNA\"},{\"CodigoEmpresa\":\"6938\",\"NombreEmpresa\":\"Comisión Nacional de Energía\"},{\"CodigoEmpresa\":\"7213\",\"NombreEmpresa\":\"Comisión Nacional de Investigación Científica y Tecnológicas - CONICYT\"},{\"CodigoEmpresa\":\"7186\",\"NombreEmpresa\":\"Comisión Nacional de Riego\"},{\"CodigoEmpresa\":\"7016\",\"NombreEmpresa\":\"COMISION PARA EL MERCADO FINANCIERO\"},{\"CodigoEmpresa\":\"7043\",\"NombreEmpresa\":\"Comité de Seguros del Agro\"},{\"CodigoEmpresa\":\"7057\",\"NombreEmpresa\":\"Comité SEP\"},{\"CodigoEmpresa\":\"7320\",\"NombreEmpresa\":\"Complejo Asistencial Dr. Sotero del Rio\"},{\"CodigoEmpresa\":\"7375\",\"NombreEmpresa\":\"Complejo Asistencial Dr. Victor Ríos Ruíz\"},{\"CodigoEmpresa\":\"7103\",\"NombreEmpresa\":\"Complejo Penitenciario de Valparaiso\"},{\"CodigoEmpresa\":\"1090137\",\"NombreEmpresa\":\"CONGREGACIÓN HIJAS DE SANTA MARIA DE LA PROVIDENCIA\"},{\"CodigoEmpresa\":\"6933\",\"NombreEmpresa\":\"Consejo de Defensa del Estado\"},{\"CodigoEmpresa\":\"7224\",\"NombreEmpresa\":\"Consejo de Rectores de las Universidades Chilenas\"},{\"CodigoEmpresa\":\"1692048\",\"NombreEmpresa\":\"CONSEJO FISCAL AUTONOMO\"},{\"CodigoEmpresa\":\"7082\",\"NombreEmpresa\":\"Consejo Nacional de Educación\"},{\"CodigoEmpresa\":\"1060064\",\"NombreEmpresa\":\"Consejo para la Transparencia\"},{\"CodigoEmpresa\":\"118630\",\"NombreEmpresa\":\"Consultorio General Urbano Victor Domingo Silva\"},{\"CodigoEmpresa\":\"7144\",\"NombreEmpresa\":\"Consultorio Gral. Urbano Violeta Parra\"},{\"CodigoEmpresa\":\"7133\",\"NombreEmpresa\":\"Consultorio Miraflores\"},{\"CodigoEmpresa\":\"7231\",\"NombreEmpresa\":\"Contraloría General de la República\"},{\"CodigoEmpresa\":\"7354\",\"NombreEmpresa\":\"Corp. de Asistencia Judicial Región del Bío-Bío\"},{\"CodigoEmpresa\":\"7058\",\"NombreEmpresa\":\"Corp. Municipal de Desarrollo Social Cerro Navia\"},{\"CodigoEmpresa\":\"7342\",\"NombreEmpresa\":\"Corporacion Administrativa del Poder Judicial\"},{\"CodigoEmpresa\":\"7235\",\"NombreEmpresa\":\"Corporación de Asistencia Judicial de la V Región\"},{\"CodigoEmpresa\":\"272303\",\"NombreEmpresa\":\"Corporación de Asistencia Judicial de las Regiones de Tarapacá y Antofagasta\"},{\"CodigoEmpresa\":\"7152\",\"NombreEmpresa\":\"Corporación de Asistencia Judicial RM\"},{\"CodigoEmpresa\":\"1085182\",\"NombreEmpresa\":\"Corporación de Ecuación, Salud y Menores de Puerto Natales\"},{\"CodigoEmpresa\":\"6942\",\"NombreEmpresa\":\"CORPORACION DE FOMENTO DE LA PRODUCCION\"},{\"CodigoEmpresa\":\"1088974\",\"NombreEmpresa\":\"Corporación Municipal de Castro\"},{\"CodigoEmpresa\":\"1035946\",\"NombreEmpresa\":\"Corporacion Municipal de Educacion\"},{\"CodigoEmpresa\":\"1033466\",\"NombreEmpresa\":\"CORPORACIÓN MUNICIPAL DE EDUCACIÓN Y SALUD\"},{\"CodigoEmpresa\":\"7105\",\"NombreEmpresa\":\"Corporación Municipal de la Florida\"},{\"CodigoEmpresa\":\"7483\",\"NombreEmpresa\":\"Corporación Municipal de Panguipulli\"},{\"CodigoEmpresa\":\"7183\",\"NombreEmpresa\":\"Corporación Nacional de Desarrollo Indígena - CONADI\"},{\"CodigoEmpresa\":\"6924\",\"NombreEmpresa\":\"Corporación Nacional Forestal - CONAF\"},{\"CodigoEmpresa\":\"7136\",\"NombreEmpresa\":\"CRS de Peñalolen Cordillera Oriente\"},{\"CodigoEmpresa\":\"7129\",\"NombreEmpresa\":\"Defensa Civil de Chile\"},{\"CodigoEmpresa\":\"7034\",\"NombreEmpresa\":\"DEFENSORIA PENAL PUBLICA\"},{\"CodigoEmpresa\":\"7299\",\"NombreEmpresa\":\"Departamento de Salud Parral\"},{\"CodigoEmpresa\":\"7228\",\"NombreEmpresa\":\"Dirección Administrativa - Min. Defensa\"},{\"CodigoEmpresa\":\"7466\",\"NombreEmpresa\":\"Dirección Atención Primaria, Serv.Salud M.Central\"},{\"CodigoEmpresa\":\"7243\",\"NombreEmpresa\":\"Dirección de Aeropuertos - MOPTT\"},{\"CodigoEmpresa\":\"7245\",\"NombreEmpresa\":\"Dirección de Arquitectura - MOP\"},{\"CodigoEmpresa\":\"6945\",\"NombreEmpresa\":\"Dirección de Compras y Contratación Pública\"},{\"CodigoEmpresa\":\"7068\",\"NombreEmpresa\":\"Dirección de Contabilidad y Finanzas MOP\"},{\"CodigoEmpresa\":\"7244\",\"NombreEmpresa\":\"Dirección de Fiscalía - MOPTT\"},{\"CodigoEmpresa\":\"113812\",\"NombreEmpresa\":\"DIRECCION DE LOGISTICA DE CARABINEROS\"},{\"CodigoEmpresa\":\"7242\",\"NombreEmpresa\":\"Dirección de Obras Hidráulicas - MOPTT\"},{\"CodigoEmpresa\":\"7246\",\"NombreEmpresa\":\"Dirección de Obras Portuarias - MOPTT\"},{\"CodigoEmpresa\":\"7067\",\"NombreEmpresa\":\"Dirección de Planeamiento - MOPTT\"},{\"CodigoEmpresa\":\"7012\",\"NombreEmpresa\":\"Dirección de Presupuestos\"},{\"CodigoEmpresa\":\"6927\",\"NombreEmpresa\":\"Dirección de Previsión de Carabineros de Chile\"},{\"CodigoEmpresa\":\"7010\",\"NombreEmpresa\":\"Dirección de Relaciones Económicas\"},{\"CodigoEmpresa\":\"118628\",\"NombreEmpresa\":\"Dirección de Salud Rural\"},{\"CodigoEmpresa\":\"7000\",\"NombreEmpresa\":\"Dirección del Trabajo\"},{\"CodigoEmpresa\":\"7202\",\"NombreEmpresa\":\"Dirección General de Aeronáutica Civil\"},{\"CodigoEmpresa\":\"7209\",\"NombreEmpresa\":\"Dirección General de Crédito Prendario - DICREP\"},{\"CodigoEmpresa\":\"6925\",\"NombreEmpresa\":\"DIRECCION GENERAL DE GENDARMERIA DE CHIL\"},{\"CodigoEmpresa\":\"7127\",\"NombreEmpresa\":\"Dirección General de Movilización Nacional - DGMN\"},{\"CodigoEmpresa\":\"7250\",\"NombreEmpresa\":\"Dirección General de Obras Publicas - MOP\"},{\"CodigoEmpresa\":\"1674056\",\"NombreEmpresa\":\"Dirección General de Promoción de Exportaciones\"},{\"CodigoEmpresa\":\"7187\",\"NombreEmpresa\":\"Dirección Nacional de Fronteras y Límites del Estado\"},{\"CodigoEmpresa\":\"7371\",\"NombreEmpresa\":\"Dirección Nacional del Servicio Civil\"},{\"CodigoEmpresa\":\"7295\",\"NombreEmpresa\":\"DIRECCION SERVICIO DE SALUD TALCAHUANO\"},{\"CodigoEmpresa\":\"7272\",\"NombreEmpresa\":\"DIRECCION SERVICIO SALUD METROPOLITANO O\"},{\"CodigoEmpresa\":\"7208\",\"NombreEmpresa\":\"Empresa de Abastecimiento de Zonas Aisladas- EMAZA\"},{\"CodigoEmpresa\":\"7467\",\"NombreEmpresa\":\"Empresa de Servicios Sanitarios de Atacama\"},{\"CodigoEmpresa\":\"7128\",\"NombreEmpresa\":\"Empresa de Servicios Sanitarios de la Araucania\"},{\"CodigoEmpresa\":\"7358\",\"NombreEmpresa\":\"Empresa de Servicios Sanitarios de Magallanes S.A.\"},{\"CodigoEmpresa\":\"7138\",\"NombreEmpresa\":\"Empresa de Servicios Sanitarios de Tarapacá S.A.\"},{\"CodigoEmpresa\":\"6961\",\"NombreEmpresa\":\"Empresa Nacional de Minería\"},{\"CodigoEmpresa\":\"7149\",\"NombreEmpresa\":\"Empresa Nacional del Petróleo\"},{\"CodigoEmpresa\":\"1069779\",\"NombreEmpresa\":\"EMPRESA PORTUARIA ANTOFAGASTA\"},{\"CodigoEmpresa\":\"1085179\",\"NombreEmpresa\":\"Empresa Portuaria Arica\"},{\"CodigoEmpresa\":\"7493\",\"NombreEmpresa\":\"Empresa Portuaria Iquique\"},{\"CodigoEmpresa\":\"7463\",\"NombreEmpresa\":\"Empresa Portuaria Puerto Montt\"},{\"CodigoEmpresa\":\"1076044\",\"NombreEmpresa\":\"EMPRESA PORTUARIA SAN ANTONIO\"},{\"CodigoEmpresa\":\"1061586\",\"NombreEmpresa\":\"EMPRESA PORTUARIA VALPARAISO\"},{\"CodigoEmpresa\":\"7266\",\"NombreEmpresa\":\"Estado Mayor Conjunto\"},{\"CodigoEmpresa\":\"7076\",\"NombreEmpresa\":\"FISCALIA NACIONAL ECONOMICA\"},{\"CodigoEmpresa\":\"7182\",\"NombreEmpresa\":\"FONDO DE SOLIDARIDAD E INVERSION SOCIAL\"},{\"CodigoEmpresa\":\"220665\",\"NombreEmpresa\":\"FONDO HOSPITAL DE LA DIRECCION DE PREVISION DE CARABINEROS DE CHILE\"},{\"CodigoEmpresa\":\"6954\",\"NombreEmpresa\":\"Fondo Nacional de Salud - FONASA\"},{\"CodigoEmpresa\":\"6946\",\"NombreEmpresa\":\"Fuerza Aérea de Chile\"},{\"CodigoEmpresa\":\"1090451\",\"NombreEmpresa\":\"FUND NACIONAL DE ORQUESTAS JUVENILES E INFANTILES DE CHILE\"},{\"CodigoEmpresa\":\"1736867\",\"NombreEmpresa\":\"Fundación para la Innovación Agraria\"},{\"CodigoEmpresa\":\"7286\",\"NombreEmpresa\":\"Gobernación  Provincial de Choapa\"},{\"CodigoEmpresa\":\"7379\",\"NombreEmpresa\":\"Gobernación de Cachapoal\"},{\"CodigoEmpresa\":\"7134\",\"NombreEmpresa\":\"Gobernación Provincia Capitan Prat\"},{\"CodigoEmpresa\":\"7284\",\"NombreEmpresa\":\"Gobernación Provincia Cordillera\"},{\"CodigoEmpresa\":\"7271\",\"NombreEmpresa\":\"GOBERNACION PROVINCIA DE CHACABUCO\"},{\"CodigoEmpresa\":\"7347\",\"NombreEmpresa\":\"Gobernación Provincia de Elqui\"},{\"CodigoEmpresa\":\"7148\",\"NombreEmpresa\":\"Gobernación Provincial Antártica\"},{\"CodigoEmpresa\":\"7151\",\"NombreEmpresa\":\"Gobernación Provincial Antofagasta\"},{\"CodigoEmpresa\":\"7387\",\"NombreEmpresa\":\"Gobernación Provincial Cardenal Caro\"},{\"CodigoEmpresa\":\"7281\",\"NombreEmpresa\":\"Gobernación Provincial Cauquenes\"},{\"CodigoEmpresa\":\"7499\",\"NombreEmpresa\":\"Gobernación Provincial Chiloe\"},{\"CodigoEmpresa\":\"7450\",\"NombreEmpresa\":\"Gobernación Provincial de Arauco\"},{\"CodigoEmpresa\":\"7357\",\"NombreEmpresa\":\"Gobernación Provincial de Arica\"},{\"CodigoEmpresa\":\"7059\",\"NombreEmpresa\":\"Gobernación Provincial de Aysén\"},{\"CodigoEmpresa\":\"7061\",\"NombreEmpresa\":\"GOBERNACION PROVINCIAL DE CAUTIN\"},{\"CodigoEmpresa\":\"7155\",\"NombreEmpresa\":\"Gobernación Provincial de Chañaral\"},{\"CodigoEmpresa\":\"7376\",\"NombreEmpresa\":\"Gobernación Provincial de Colchagua\"},{\"CodigoEmpresa\":\"7300\",\"NombreEmpresa\":\"Gobernación Provincial de Concepción\"},{\"CodigoEmpresa\":\"7145\",\"NombreEmpresa\":\"Gobernación Provincial de Copiapó\"},{\"CodigoEmpresa\":\"7292\",\"NombreEmpresa\":\"Gobernación Provincial de Coyhaique\"},{\"CodigoEmpresa\":\"7263\",\"NombreEmpresa\":\"Gobernación Provincial de Curicó\"},{\"CodigoEmpresa\":\"7237\",\"NombreEmpresa\":\"GOBERNACION PROVINCIAL DE EL LOA\"},{\"CodigoEmpresa\":\"7309\",\"NombreEmpresa\":\"GOBERNACION PROVINCIAL DE GRAL CARRERA\"},{\"CodigoEmpresa\":\"7150\",\"NombreEmpresa\":\"Gobernación Provincial de Huasco\"},{\"CodigoEmpresa\":\"7349\",\"NombreEmpresa\":\"Gobernación Provincial de Iquique\"},{\"CodigoEmpresa\":\"135959\",\"NombreEmpresa\":\"Gobernación Provincial de Isla de Pascua\"},{\"CodigoEmpresa\":\"7037\",\"NombreEmpresa\":\"Gobernación Provincial de Limarí\"},{\"CodigoEmpresa\":\"7282\",\"NombreEmpresa\":\"Gobernación Provincial de Linares\"},{\"CodigoEmpresa\":\"7267\",\"NombreEmpresa\":\"Gobernación Provincial de Llanquihue\"},{\"CodigoEmpresa\":\"7009\",\"NombreEmpresa\":\"Gobernación Provincial de Los Andes\"},{\"CodigoEmpresa\":\"7484\",\"NombreEmpresa\":\"Gobernación Provincial de Magallanes\"},{\"CodigoEmpresa\":\"7253\",\"NombreEmpresa\":\"Gobernación Provincial de Maipo\"},{\"CodigoEmpresa\":\"7275\",\"NombreEmpresa\":\"Gobernación Provincial de Malleco\"},{\"CodigoEmpresa\":\"7142\",\"NombreEmpresa\":\"Gobernación Provincial de Ñuble\"},{\"CodigoEmpresa\":\"7283\",\"NombreEmpresa\":\"GOBERNACION PROVINCIAL DE OSORNO\"},{\"CodigoEmpresa\":\"7252\",\"NombreEmpresa\":\"Gobernación Provincial de Palena\"},{\"CodigoEmpresa\":\"7350\",\"NombreEmpresa\":\"GOBERNACION PROVINCIAL DE PARINACOTA\"},{\"CodigoEmpresa\":\"7420\",\"NombreEmpresa\":\"Gobernación Provincial de Petorca\"},{\"CodigoEmpresa\":\"7346\",\"NombreEmpresa\":\"GOBERNACION PROVINCIAL DE QUILLOTA\"},{\"CodigoEmpresa\":\"269793\",\"NombreEmpresa\":\"Gobernación Provincial de Ranco\"},{\"CodigoEmpresa\":\"111119\",\"NombreEmpresa\":\"Gobernación Provincial de San Antonio\"},{\"CodigoEmpresa\":\"7055\",\"NombreEmpresa\":\"Gobernación Provincial de Talagante\"},{\"CodigoEmpresa\":\"7269\",\"NombreEmpresa\":\"Gobernación Provincial de Talca\"},{\"CodigoEmpresa\":\"7063\",\"NombreEmpresa\":\"Gobernación Provincial de Tocopilla\"},{\"CodigoEmpresa\":\"7264\",\"NombreEmpresa\":\"Gobernación Provincial de Última Esperanza\"},{\"CodigoEmpresa\":\"7322\",\"NombreEmpresa\":\"Gobernación Provincial de Valdivia\"},{\"CodigoEmpresa\":\"7352\",\"NombreEmpresa\":\"Gobernación Provincial de Valparaíso\"},{\"CodigoEmpresa\":\"7140\",\"NombreEmpresa\":\"Gobernación Provincial del Bío-Bío\"},{\"CodigoEmpresa\":\"275314\",\"NombreEmpresa\":\"Gobernación Provincial del Tamarugal\"},{\"CodigoEmpresa\":\"7056\",\"NombreEmpresa\":\"Gobernación Provincial Melipilla\"},{\"CodigoEmpresa\":\"7495\",\"NombreEmpresa\":\"Gobernación Provincial San Felipe\"},{\"CodigoEmpresa\":\"7381\",\"NombreEmpresa\":\"Gobernación Provincial Tierra del Fuego\"},{\"CodigoEmpresa\":\"1163597\",\"NombreEmpresa\":\"Gobierno Provincial de Marga Marga\"},{\"CodigoEmpresa\":\"7199\",\"NombreEmpresa\":\"Gobierno Regional de Antofagasta\"},{\"CodigoEmpresa\":\"267965\",\"NombreEmpresa\":\"Gobierno Regional de Arica y Parinacota\"},{\"CodigoEmpresa\":\"7077\",\"NombreEmpresa\":\"GOBIERNO REGIONAL DE ATACAMA\"},{\"CodigoEmpresa\":\"7085\",\"NombreEmpresa\":\"Gobierno Regional de Aysén\"},{\"CodigoEmpresa\":\"6940\",\"NombreEmpresa\":\"Gobierno Regional de Coquimbo\"},{\"CodigoEmpresa\":\"7013\",\"NombreEmpresa\":\"Gobierno Regional de La Araucanía\"},{\"CodigoEmpresa\":\"7015\",\"NombreEmpresa\":\"Gobierno Regional de la Región del Bío-Bío\"},{\"CodigoEmpresa\":\"7207\",\"NombreEmpresa\":\"Gobierno Regional de Los Lagos\"},{\"CodigoEmpresa\":\"267799\",\"NombreEmpresa\":\"GOBIERNO REGIONAL DE LOS RIOS\"},{\"CodigoEmpresa\":\"7087\",\"NombreEmpresa\":\"GOBIERNO REGIONAL DE MAGALLANES Y ANTARTICA CHILEN\"},{\"CodigoEmpresa\":\"7084\",\"NombreEmpresa\":\"Gobierno Regional de Tarapacá\"},{\"CodigoEmpresa\":\"7172\",\"NombreEmpresa\":\"Gobierno Regional de Valparaíso\"},{\"CodigoEmpresa\":\"7222\",\"NombreEmpresa\":\"Gobierno Regional Metropolitano\"},{\"CodigoEmpresa\":\"7200\",\"NombreEmpresa\":\"GOBIERNO REGIONAL VI REGION DEL LI BERTADOR B O\\\\\"HIGGINS\"},{\"CodigoEmpresa\":\"7223\",\"NombreEmpresa\":\"GOBIERNO REGIONAL VII REGION\"},{\"CodigoEmpresa\":\"103933\",\"NombreEmpresa\":\"Hermanas Misioneras Franciscanas de Purulón\"},{\"CodigoEmpresa\":\"7403\",\"NombreEmpresa\":\"Hospital  Lonquimay\"},{\"CodigoEmpresa\":\"7472\",\"NombreEmpresa\":\"Hospital Andacollo\"},{\"CodigoEmpresa\":\"7398\",\"NombreEmpresa\":\"Hospital Arauco\"},{\"CodigoEmpresa\":\"7293\",\"NombreEmpresa\":\"HOSPITAL BARROS LUCO TRUDEAU\"},{\"CodigoEmpresa\":\"7393\",\"NombreEmpresa\":\"Hospital Base Osorno\"},{\"CodigoEmpresa\":\"7131\",\"NombreEmpresa\":\"Hospital Carahue\"},{\"CodigoEmpresa\":\"7494\",\"NombreEmpresa\":\"Hospital Carlos Cisternas de Calama\"},{\"CodigoEmpresa\":\"7256\",\"NombreEmpresa\":\"Hospital Cauquenes\"},{\"CodigoEmpresa\":\"7297\",\"NombreEmpresa\":\"HOSPITAL CLINICO DE MAGALLANES DR. LAUTARO NAVARRO AVARIA\"},{\"CodigoEmpresa\":\"1379869\",\"NombreEmpresa\":\"Hospital Clínico Metropolitano El Carmen Doctor Luis Valentín Ferrada\"},{\"CodigoEmpresa\":\"1375151\",\"NombreEmpresa\":\"HOSPITAL CLINICO METROPOLITANO LA FLORIDA DRA ELOISA DIAZ INSUNZA\"},{\"CodigoEmpresa\":\"7326\",\"NombreEmpresa\":\"Hospital Clínico San Borja Arriarán\"},{\"CodigoEmpresa\":\"7480\",\"NombreEmpresa\":\"Hospital Cochrane\"},{\"CodigoEmpresa\":\"7421\",\"NombreEmpresa\":\"Hospital Coinco\"},{\"CodigoEmpresa\":\"7462\",\"NombreEmpresa\":\"Hospital Collipulli\"},{\"CodigoEmpresa\":\"7330\",\"NombreEmpresa\":\"Hospital Combarbalá\"},{\"CodigoEmpresa\":\"7137\",\"NombreEmpresa\":\"HOSPITAL COMUNITARIO DE SALUD FAMILIAR DE BULNES\"},{\"CodigoEmpresa\":\"7400\",\"NombreEmpresa\":\"Hospital Contulmo\"},{\"CodigoEmpresa\":\"7340\",\"NombreEmpresa\":\"Hospital Coyhaique\"},{\"CodigoEmpresa\":\"7399\",\"NombreEmpresa\":\"Hospital Curanilahue\"},{\"CodigoEmpresa\":\"7452\",\"NombreEmpresa\":\"Hospital Curicó\"},{\"CodigoEmpresa\":\"1286160\",\"NombreEmpresa\":\"HOSPITAL DE CASTRO DR. AUGUSTO RIFFART\"},{\"CodigoEmpresa\":\"7279\",\"NombreEmpresa\":\"Hospital de Chanco\"},{\"CodigoEmpresa\":\"7413\",\"NombreEmpresa\":\"Hospital de Chañaral\"},{\"CodigoEmpresa\":\"7441\",\"NombreEmpresa\":\"Hospital de Chimbarongo\"},{\"CodigoEmpresa\":\"7277\",\"NombreEmpresa\":\"Hospital de Constitución\"},{\"CodigoEmpresa\":\"7411\",\"NombreEmpresa\":\"Hospital de Copiapó\"},{\"CodigoEmpresa\":\"7426\",\"NombreEmpresa\":\"Hospital de Corral\"},{\"CodigoEmpresa\":\"7291\",\"NombreEmpresa\":\"Hospital de Cunco\"},{\"CodigoEmpresa\":\"7455\",\"NombreEmpresa\":\"Hospital de Curacaví\"},{\"CodigoEmpresa\":\"7278\",\"NombreEmpresa\":\"Hospital de Curepto\"},{\"CodigoEmpresa\":\"7414\",\"NombreEmpresa\":\"Hospital de Huasco\"},{\"CodigoEmpresa\":\"7468\",\"NombreEmpresa\":\"Hospital de Illapel\"},{\"CodigoEmpresa\":\"7429\",\"NombreEmpresa\":\"Hospital De la Unión\"},{\"CodigoEmpresa\":\"7424\",\"NombreEmpresa\":\"Hospital de Lanco\"},{\"CodigoEmpresa\":\"7439\",\"NombreEmpresa\":\"Hospital de Litueche\"},{\"CodigoEmpresa\":\"7447\",\"NombreEmpresa\":\"Hospital de Lolol\"},{\"CodigoEmpresa\":\"7156\",\"NombreEmpresa\":\"Hospital de Loncoche\"},{\"CodigoEmpresa\":\"7425\",\"NombreEmpresa\":\"Hospital de los Lagos\"},{\"CodigoEmpresa\":\"7442\",\"NombreEmpresa\":\"Hospital de Marchigue\"},{\"CodigoEmpresa\":\"7370\",\"NombreEmpresa\":\"Hospital de Mejillones\"},{\"CodigoEmpresa\":\"7458\",\"NombreEmpresa\":\"Hospital de Melipilla\"},{\"CodigoEmpresa\":\"1238659\",\"NombreEmpresa\":\"Hospital de Misión San Juan de la Costa\"},{\"CodigoEmpresa\":\"7280\",\"NombreEmpresa\":\"Hospital de MOLINA\"},{\"CodigoEmpresa\":\"7434\",\"NombreEmpresa\":\"Hospital de Mulchén\"},{\"CodigoEmpresa\":\"7445\",\"NombreEmpresa\":\"Hospital de Nancagua\"},{\"CodigoEmpresa\":\"7045\",\"NombreEmpresa\":\"Hospital de Niños Roberto del Rio\"},{\"CodigoEmpresa\":\"7422\",\"NombreEmpresa\":\"Hospital de Paillaco\"},{\"CodigoEmpresa\":\"7459\",\"NombreEmpresa\":\"Hospital de Peñaflor\"},{\"CodigoEmpresa\":\"7444\",\"NombreEmpresa\":\"Hospital de Peumo\"},{\"CodigoEmpresa\":\"7287\",\"NombreEmpresa\":\"HOSPITAL DE PUERTO OCTAY\"},{\"CodigoEmpresa\":\"7465\",\"NombreEmpresa\":\"Hospital de Purén\"},{\"CodigoEmpresa\":\"7327\",\"NombreEmpresa\":\"Hospital de Purranque\"},{\"CodigoEmpresa\":\"7440\",\"NombreEmpresa\":\"Hospital de Rengo\"},{\"CodigoEmpresa\":\"7323\",\"NombreEmpresa\":\"Hospital de Salamanca\"},{\"CodigoEmpresa\":\"7448\",\"NombreEmpresa\":\"Hospital de San Fernando\"},{\"CodigoEmpresa\":\"7443\",\"NombreEmpresa\":\"Hospital de San Vicente de Tagua Tagua\"},{\"CodigoEmpresa\":\"7314\",\"NombreEmpresa\":\"Hospital de Santa Cruz\"},{\"CodigoEmpresa\":\"7457\",\"NombreEmpresa\":\"Hospital de Talagante\"},{\"CodigoEmpresa\":\"7391\",\"NombreEmpresa\":\"Hospital de Taltal\"},{\"CodigoEmpresa\":\"7460\",\"NombreEmpresa\":\"HOSPITAL DE URGENCIA ASISTENCIA PUBLICA DR ALEJANDRO DEL RIO\"},{\"CodigoEmpresa\":\"1238663\",\"NombreEmpresa\":\"Hospital del Perpetuo Socorro de Quilacahuin\"},{\"CodigoEmpresa\":\"7428\",\"NombreEmpresa\":\"Hospital del Salvador\"},{\"CodigoEmpresa\":\"7415\",\"NombreEmpresa\":\"Hospital Diego de Almagro\"},{\"CodigoEmpresa\":\"7046\",\"NombreEmpresa\":\"Hospital Doctor Hernán Henríquez Aravena\"},{\"CodigoEmpresa\":\"6918\",\"NombreEmpresa\":\"Hospital Doctor Luis Calvo Mackenna\"},{\"CodigoEmpresa\":\"7491\",\"NombreEmpresa\":\"Hospital Dr Victor Hugo  Möll de Cabildo\"},{\"CodigoEmpresa\":\"7289\",\"NombreEmpresa\":\"Hospital Dr. Abraham Godoy Peña\"},{\"CodigoEmpresa\":\"7310\",\"NombreEmpresa\":\"Hospital Dr. Augusto Essmann Burgos\"},{\"CodigoEmpresa\":\"7383\",\"NombreEmpresa\":\"Hospital Dr. Felix Bulnes Cerda\"},{\"CodigoEmpresa\":\"7324\",\"NombreEmpresa\":\"Hospital Dr. GGB\"},{\"CodigoEmpresa\":\"6936\",\"NombreEmpresa\":\"Hospital Dr. Gustavo Fricke\"},{\"CodigoEmpresa\":\"7386\",\"NombreEmpresa\":\"Hospital Dr. Marcos Chamorro Iglesias\"},{\"CodigoEmpresa\":\"7344\",\"NombreEmpresa\":\"Hospital Dr. Mario Sánchez Vergara de La Calera\"},{\"CodigoEmpresa\":\"7139\",\"NombreEmpresa\":\"Hospital El Carmen\"},{\"CodigoEmpresa\":\"7390\",\"NombreEmpresa\":\"Hospital El Pino\"},{\"CodigoEmpresa\":\"7475\",\"NombreEmpresa\":\"Hospital Florida\"},{\"CodigoEmpresa\":\"7290\",\"NombreEmpresa\":\"Hospital Galvarino\"},{\"CodigoEmpresa\":\"7490\",\"NombreEmpresa\":\"Hospital Geriátrico Paz de la Tarde\"},{\"CodigoEmpresa\":\"7047\",\"NombreEmpresa\":\"Hospital Gorbea\"},{\"CodigoEmpresa\":\"7042\",\"NombreEmpresa\":\"Hospital Herminda Martin\"},{\"CodigoEmpresa\":\"7255\",\"NombreEmpresa\":\"Hospital Hualañé\"},{\"CodigoEmpresa\":\"7389\",\"NombreEmpresa\":\"Hospital Huepil\"},{\"CodigoEmpresa\":\"7401\",\"NombreEmpresa\":\"Hospital Intercultural Kallvu Llanka\"},{\"CodigoEmpresa\":\"7487\",\"NombreEmpresa\":\"Hospital La Ligua\"},{\"CodigoEmpresa\":\"7312\",\"NombreEmpresa\":\"Hospital La Serena\"},{\"CodigoEmpresa\":\"7464\",\"NombreEmpresa\":\"Hospital Laja\"},{\"CodigoEmpresa\":\"7419\",\"NombreEmpresa\":\"Hospital Las Higueras\"},{\"CodigoEmpresa\":\"7402\",\"NombreEmpresa\":\"Hospital Lebu\"},{\"CodigoEmpresa\":\"7258\",\"NombreEmpresa\":\"Hospital Linares\"},{\"CodigoEmpresa\":\"7481\",\"NombreEmpresa\":\"Hospital Lota\"},{\"CodigoEmpresa\":\"1076658\",\"NombreEmpresa\":\"HOSPITAL METROPOLITANO DE SANTIAGO\"},{\"CodigoEmpresa\":\"7388\",\"NombreEmpresa\":\"Hospital Nacimiento\"},{\"CodigoEmpresa\":\"7417\",\"NombreEmpresa\":\"Hospital Ovalle\"},{\"CodigoEmpresa\":\"7331\",\"NombreEmpresa\":\"Hospital Padre Alberto Hurtado\"},{\"CodigoEmpresa\":\"102393\",\"NombreEmpresa\":\"HOSPITAL PANGUIPULLI\"},{\"CodigoEmpresa\":\"7259\",\"NombreEmpresa\":\"Hospital Parral\"},{\"CodigoEmpresa\":\"7053\",\"NombreEmpresa\":\"Hospital Pedro Morales C.\"},{\"CodigoEmpresa\":\"7446\",\"NombreEmpresa\":\"Hospital Penco - Lirquen\"},{\"CodigoEmpresa\":\"7489\",\"NombreEmpresa\":\"Hospital Peñablanca\"},{\"CodigoEmpresa\":\"7343\",\"NombreEmpresa\":\"Hospital Petorca\"},{\"CodigoEmpresa\":\"7435\",\"NombreEmpresa\":\"Hospital Pichidegua\"},{\"CodigoEmpresa\":\"7436\",\"NombreEmpresa\":\"Hospital Pichilemu\"},{\"CodigoEmpresa\":\"7048\",\"NombreEmpresa\":\"Hospital Pitrufquén\"},{\"CodigoEmpresa\":\"7412\",\"NombreEmpresa\":\"Hospital Provincial del Huasco Monseñor Fernando Ariztia Ruiz\"},{\"CodigoEmpresa\":\"1216633\",\"NombreEmpresa\":\"HOSPITAL PSIQUIATRICO DR. PHILIPPE PINEL PUTAENDO\"},{\"CodigoEmpresa\":\"7427\",\"NombreEmpresa\":\"Hospital Psiquiátrico El Peral\"},{\"CodigoEmpresa\":\"7335\",\"NombreEmpresa\":\"Hospital Puerto Aysén\"},{\"CodigoEmpresa\":\"7476\",\"NombreEmpresa\":\"Hospital Puerto Cisnes\"},{\"CodigoEmpresa\":\"127018\",\"NombreEmpresa\":\"HOSPITAL PUERTO MONTT SERVICIO DE SALUD DEL RELONCAVI\"},{\"CodigoEmpresa\":\"7307\",\"NombreEmpresa\":\"Hospital Puerto Saavedra\"},{\"CodigoEmpresa\":\"7485\",\"NombreEmpresa\":\"Hospital Quilpué\"},{\"CodigoEmpresa\":\"7348\",\"NombreEmpresa\":\"Hospital Quintero\"},{\"CodigoEmpresa\":\"7423\",\"NombreEmpresa\":\"Hospital Río Bueno\"},{\"CodigoEmpresa\":\"7470\",\"NombreEmpresa\":\"Hospital Rio Negro\"},{\"CodigoEmpresa\":\"1215262\",\"NombreEmpresa\":\"Hospital San Antonio de Putaendo\"},{\"CodigoEmpresa\":\"7469\",\"NombreEmpresa\":\"Hospital San Carlos\"},{\"CodigoEmpresa\":\"7262\",\"NombreEmpresa\":\"Hospital San Javier\"},{\"CodigoEmpresa\":\"7406\",\"NombreEmpresa\":\"Hospital San José\"},{\"CodigoEmpresa\":\"1214332\",\"NombreEmpresa\":\"Hospital San Juan de Dios de Los Andes\"},{\"CodigoEmpresa\":\"7405\",\"NombreEmpresa\":\"Hospital San Luis de Buin\"},{\"CodigoEmpresa\":\"7345\",\"NombreEmpresa\":\"Hospital San Martín de Quillota\"},{\"CodigoEmpresa\":\"7477\",\"NombreEmpresa\":\"Hospital Sanatorio San José de Maipo\"},{\"CodigoEmpresa\":\"7404\",\"NombreEmpresa\":\"Hospital Santa Barbara\"},{\"CodigoEmpresa\":\"7449\",\"NombreEmpresa\":\"Hospital Santa Filomena de Graneros\"},{\"CodigoEmpresa\":\"7318\",\"NombreEmpresa\":\"Hospital Santa Juana\"},{\"CodigoEmpresa\":\"7130\",\"NombreEmpresa\":\"Hospital Santiago Oriente Dr. Luis Tisne Brousse\"},{\"CodigoEmpresa\":\"7486\",\"NombreEmpresa\":\"Hospital Santo Tomás de Limache\"},{\"CodigoEmpresa\":\"7261\",\"NombreEmpresa\":\"Hospital Teno\"},{\"CodigoEmpresa\":\"7274\",\"NombreEmpresa\":\"Hospital Til - Til\"},{\"CodigoEmpresa\":\"7385\",\"NombreEmpresa\":\"Hospital Tocopilla\"},{\"CodigoEmpresa\":\"7062\",\"NombreEmpresa\":\"Hospital Toltén\"},{\"CodigoEmpresa\":\"7384\",\"NombreEmpresa\":\"Hospital Traiguén\"},{\"CodigoEmpresa\":\"7288\",\"NombreEmpresa\":\"Hospital Victoria\"},{\"CodigoEmpresa\":\"7049\",\"NombreEmpresa\":\"Hospital Vilcún\"},{\"CodigoEmpresa\":\"7132\",\"NombreEmpresa\":\"Hospital Villarrica\"},{\"CodigoEmpresa\":\"7397\",\"NombreEmpresa\":\"Hospital Yumbel\"},{\"CodigoEmpresa\":\"100156\",\"NombreEmpresa\":\"I MUNICIPALIDAD DE ANGOL\"},{\"CodigoEmpresa\":\"87653\",\"NombreEmpresa\":\"I MUNICIPALIDAD DE ANTOFAGASTA\"},{\"CodigoEmpresa\":\"100049\",\"NombreEmpresa\":\"I MUNICIPALIDAD DE AYSEN\"},{\"CodigoEmpresa\":\"86917\",\"NombreEmpresa\":\"I MUNICIPALIDAD DE CALAMA\"},{\"CodigoEmpresa\":\"7241\",\"NombreEmpresa\":\"I MUNICIPALIDAD DE CERRILLOS\"},{\"CodigoEmpresa\":\"154782\",\"NombreEmpresa\":\"I MUNICIPALIDAD DE CHILE CHICO\"},{\"CodigoEmpresa\":\"84958\",\"NombreEmpresa\":\"I MUNICIPALIDAD DE CONCHALI\"},{\"CodigoEmpresa\":\"86872\",\"NombreEmpresa\":\"I MUNICIPALIDAD DE COPIAPO\"},{\"CodigoEmpresa\":\"116298\",\"NombreEmpresa\":\"I MUNICIPALIDAD DE EL QUISCO\"},{\"CodigoEmpresa\":\"116944\",\"NombreEmpresa\":\"I MUNICIPALIDAD DE EMPEDRADO\"},{\"CodigoEmpresa\":\"7496\",\"NombreEmpresa\":\"I MUNICIPALIDAD DE LA COMUNA DE EL BOSQUE\"},{\"CodigoEmpresa\":\"113255\",\"NombreEmpresa\":\"I MUNICIPALIDAD DE LA CRUZ\"},{\"CodigoEmpresa\":\"83825\",\"NombreEmpresa\":\"I MUNICIPALIDAD DE LA PINTANA\"},{\"CodigoEmpresa\":\"116296\",\"NombreEmpresa\":\"I MUNICIPALIDAD DE LAS CABRAS\"},{\"CodigoEmpresa\":\"7064\",\"NombreEmpresa\":\"I MUNICIPALIDAD DE LLANQUIHUE\"},{\"CodigoEmpresa\":\"118620\",\"NombreEmpresa\":\"I MUNICIPALIDAD DE LOS ALAMOS\"},{\"CodigoEmpresa\":\"112924\",\"NombreEmpresa\":\"I MUNICIPALIDAD DE MONTEPATRIA\"},{\"CodigoEmpresa\":\"117406\",\"NombreEmpresa\":\"I MUNICIPALIDAD DE PADRE HURTADO\"},{\"CodigoEmpresa\":\"88102\",\"NombreEmpresa\":\"I MUNICIPALIDAD DE PROVIDENCIA\"},{\"CodigoEmpresa\":\"87388\",\"NombreEmpresa\":\"I MUNICIPALIDAD DE PUENTE ALTO\"},{\"CodigoEmpresa\":\"86507\",\"NombreEmpresa\":\"I MUNICIPALIDAD DE PUERTO MONTT\"},{\"CodigoEmpresa\":\"98280\",\"NombreEmpresa\":\"I MUNICIPALIDAD DE PUTAENDO\"},{\"CodigoEmpresa\":\"88203\",\"NombreEmpresa\":\"I MUNICIPALIDAD DE QUILLOTA\"},{\"CodigoEmpresa\":\"93774\",\"NombreEmpresa\":\"I MUNICIPALIDAD DE SAN CLEMENTE\"},{\"CodigoEmpresa\":\"142855\",\"NombreEmpresa\":\"I MUNICIPALIDAD DE SAN PEDRO\"},{\"CodigoEmpresa\":\"113428\",\"NombreEmpresa\":\"I MUNICIPALIDAD DE SAN PEDRO DE ATACAMA\"},{\"CodigoEmpresa\":\"98443\",\"NombreEmpresa\":\"I MUNICIPALIDAD DE TOME\"},{\"CodigoEmpresa\":\"114395\",\"NombreEmpresa\":\"I MUNICIPALIDAD DE TUCAPEL\"},{\"CodigoEmpresa\":\"116399\",\"NombreEmpresa\":\"I MUNICIPALIDAD DE VICTORIA\"},{\"CodigoEmpresa\":\"84152\",\"NombreEmpresa\":\"I MUNICIPALIDAD VALDIVIA\"},{\"CodigoEmpresa\":\"114393\",\"NombreEmpresa\":\"I.  MUNICIPALIDAD CURACO  DE VELEZ\"},{\"CodigoEmpresa\":\"7328\",\"NombreEmpresa\":\"I. Municipalidad  de Alto del Carmen\"},{\"CodigoEmpresa\":\"121539\",\"NombreEmpresa\":\"I. Municipalidad de Calle Larga\"},{\"CodigoEmpresa\":\"113614\",\"NombreEmpresa\":\"I. MUNICIPALIDAD DE CASABLANCA\"},{\"CodigoEmpresa\":\"88254\",\"NombreEmpresa\":\"I. Municipalidad de Chillán\"},{\"CodigoEmpresa\":\"99322\",\"NombreEmpresa\":\"I. MUNICIPALIDAD DE COLINA\"},{\"CodigoEmpresa\":\"87901\",\"NombreEmpresa\":\"I. MUNICIPALIDAD DE COQUIMBO\"},{\"CodigoEmpresa\":\"100448\",\"NombreEmpresa\":\"I. Municipalidad de Coronel\"},{\"CodigoEmpresa\":\"99105\",\"NombreEmpresa\":\"I. MUNICIPALIDAD DE INDEPENDENCIA\"},{\"CodigoEmpresa\":\"114398\",\"NombreEmpresa\":\"I. Municipalidad de Licantén\"},{\"CodigoEmpresa\":\"86518\",\"NombreEmpresa\":\"I. MUNICIPALIDAD DE LO ESPEJO\"},{\"CodigoEmpresa\":\"87373\",\"NombreEmpresa\":\"I. MUNICIPALIDAD DE LO PRADO\"},{\"CodigoEmpresa\":\"101002\",\"NombreEmpresa\":\"I. Municipalidad de Los Andes\"},{\"CodigoEmpresa\":\"115166\",\"NombreEmpresa\":\"I. MUNICIPALIDAD DE PENCAHUE\"},{\"CodigoEmpresa\":\"102868\",\"NombreEmpresa\":\"I. Municipalidad de Puerto Varas\"},{\"CodigoEmpresa\":\"87633\",\"NombreEmpresa\":\"I. MUNICIPALIDAD DE QUILPUE\"},{\"CodigoEmpresa\":\"114918\",\"NombreEmpresa\":\"I. MUNICIPALIDAD DE RINCONADA\"},{\"CodigoEmpresa\":\"7367\",\"NombreEmpresa\":\"I. Municipalidad de Río Negro\"},{\"CodigoEmpresa\":\"111960\",\"NombreEmpresa\":\"I. Municipalidad de San Pablo\"},{\"CodigoEmpresa\":\"99765\",\"NombreEmpresa\":\"I. MUNICIPALIDAD DE TALAGANTE\"},{\"CodigoEmpresa\":\"84480\",\"NombreEmpresa\":\"I. MUNICIPALIDAD DE TALCA\"},{\"CodigoEmpresa\":\"115167\",\"NombreEmpresa\":\"I. MUNICIPALIDAD DE TOCOPILLA\"},{\"CodigoEmpresa\":\"86491\",\"NombreEmpresa\":\"I. MUNICIPALIDAD DE VALLENAR\"},{\"CodigoEmpresa\":\"94315\",\"NombreEmpresa\":\"I. MUNICIPALIDAD POZO ALMONTE\"},{\"CodigoEmpresa\":\"86664\",\"NombreEmpresa\":\"I.MUNICIPALIDAD DE CERRO NAVIA\"},{\"CodigoEmpresa\":\"92414\",\"NombreEmpresa\":\"I.MUNICIPALIDAD DE CHEPICA\"},{\"CodigoEmpresa\":\"113254\",\"NombreEmpresa\":\"I.Municipalidad de Coinco\"},{\"CodigoEmpresa\":\"87382\",\"NombreEmpresa\":\"I.MUNICIPALIDAD DE CONCEPCION\"},{\"CodigoEmpresa\":\"94458\",\"NombreEmpresa\":\"I.MUNICIPALIDAD DE CONCON\"},{\"CodigoEmpresa\":\"87838\",\"NombreEmpresa\":\"I.Municipalidad de Curicó\"},{\"CodigoEmpresa\":\"87824\",\"NombreEmpresa\":\"I.MUNICIPALIDAD DE ESTACION CENTRAL\"},{\"CodigoEmpresa\":\"84300\",\"NombreEmpresa\":\"I.MUNICIPALIDAD DE MACUL\"},{\"CodigoEmpresa\":\"115304\",\"NombreEmpresa\":\"I.MUNICIPALIDAD DE MARCHIGUE\"},{\"CodigoEmpresa\":\"120798\",\"NombreEmpresa\":\"I.MUNICIPALIDAD DE MARIA PINTO\"},{\"CodigoEmpresa\":\"99101\",\"NombreEmpresa\":\"I.Municipalidad de Mostazal\"},{\"CodigoEmpresa\":\"87172\",\"NombreEmpresa\":\"I.MUNICIPALIDAD DE PEÑALOLEN\"},{\"CodigoEmpresa\":\"113913\",\"NombreEmpresa\":\"I.MUNICIPALIDAD DE SAN RAFAEL\"},{\"CodigoEmpresa\":\"87399\",\"NombreEmpresa\":\"I.MUNICIPALIDAD DE VIÑA DEL MAR\"},{\"CodigoEmpresa\":\"115609\",\"NombreEmpresa\":\"IIustre Municipalidad de Malloa\"},{\"CodigoEmpresa\":\"86580\",\"NombreEmpresa\":\"IL. MUNICIPALIDAD DE PUNTA ARENAS\"},{\"CodigoEmpresa\":\"7356\",\"NombreEmpresa\":\"ILUSTRE MUNICIPALIDAD  DE SAGRADA FAMILIA\"},{\"CodigoEmpresa\":\"182336\",\"NombreEmpresa\":\"Ilustre Municipalidad Alto Bio Bio\"},{\"CodigoEmpresa\":\"7294\",\"NombreEmpresa\":\"Ilustre Municipalidad de Algarrobo\"},{\"CodigoEmpresa\":\"111124\",\"NombreEmpresa\":\"Ilustre Municipalidad de Alhue\"},{\"CodigoEmpresa\":\"119639\",\"NombreEmpresa\":\"Ilustre Municipalidad de Andacollo\"},{\"CodigoEmpresa\":\"119484\",\"NombreEmpresa\":\"ILUSTRE MUNICIPALIDAD DE ANTUCO\"},{\"CodigoEmpresa\":\"7050\",\"NombreEmpresa\":\"Ilustre Municipalidad de Arauco\"},{\"CodigoEmpresa\":\"86624\",\"NombreEmpresa\":\"ILUSTRE MUNICIPALIDAD DE ARICA\"},{\"CodigoEmpresa\":\"118069\",\"NombreEmpresa\":\"Ilustre municipalidad de Bulnes\"},{\"CodigoEmpresa\":\"115459\",\"NombreEmpresa\":\"Ilustre Municipalidad de Cabildo\"},{\"CodigoEmpresa\":\"116407\",\"NombreEmpresa\":\"Ilustre Municipalidad de Cabo de Hornos\"},{\"CodigoEmpresa\":\"120186\",\"NombreEmpresa\":\"Ilustre Municipalidad de Cabrero\"},{\"CodigoEmpresa\":\"115011\",\"NombreEmpresa\":\"Ilustre Municipalidad de Calbuco\"},{\"CodigoEmpresa\":\"7364\",\"NombreEmpresa\":\"Ilustre Municipalidad de Caldera\"},{\"CodigoEmpresa\":\"116219\",\"NombreEmpresa\":\"Ilustre Municipalidad de Calera de Tango\"},{\"CodigoEmpresa\":\"294421\",\"NombreEmpresa\":\"Ilustre Municipalidad de Camarones\"},{\"CodigoEmpresa\":\"119487\",\"NombreEmpresa\":\"Ilustre Municipalidad de Camiña\"},{\"CodigoEmpresa\":\"84473\",\"NombreEmpresa\":\"ILUSTRE MUNICIPALIDAD DE CANELA\"},{\"CodigoEmpresa\":\"119488\",\"NombreEmpresa\":\"Ilustre Municipalidad de Cañete\"},{\"CodigoEmpresa\":\"100127\",\"NombreEmpresa\":\"ILUSTRE MUNICIPALIDAD DE CASTRO\"},{\"CodigoEmpresa\":\"129737\",\"NombreEmpresa\":\"Ilustre Municipalidad de Catemu\"},{\"CodigoEmpresa\":\"7351\",\"NombreEmpresa\":\"Ilustre Municipalidad de Cauquenes\"},{\"CodigoEmpresa\":\"114392\",\"NombreEmpresa\":\"ILUSTRE MUNICIPALIDAD DE CHAITEN\"},{\"CodigoEmpresa\":\"7501\",\"NombreEmpresa\":\"Ilustre Municipalidad de Chanco\"},{\"CodigoEmpresa\":\"109196\",\"NombreEmpresa\":\"ILUSTRE MUNICIPALIDAD DE CHAÑARAL\"},{\"CodigoEmpresa\":\"7362\",\"NombreEmpresa\":\"Ilustre Municipalidad de Chillán\"},{\"CodigoEmpresa\":\"116221\",\"NombreEmpresa\":\"Ilustre Municipalidad de Chillan Viejo\"},{\"CodigoEmpresa\":\"116404\",\"NombreEmpresa\":\"Ilustre Municipalidad de Chimbarongo\"},{\"CodigoEmpresa\":\"165105\",\"NombreEmpresa\":\"Ilustre Municipalidad de Cholchol\"},{\"CodigoEmpresa\":\"115168\",\"NombreEmpresa\":\"ILUSTRE MUNICIPALIDAD DE CHONCHI\"},{\"CodigoEmpresa\":\"116747\",\"NombreEmpresa\":\"Ilustre Municipalidad de Cisnes\"},{\"CodigoEmpresa\":\"114925\",\"NombreEmpresa\":\"ILUSTRE MUNICIPALIDAD DE COBQUECURA\"},{\"CodigoEmpresa\":\"182424\",\"NombreEmpresa\":\"Ilustre Municipalidad de Cochamo\"},{\"CodigoEmpresa\":\"116942\",\"NombreEmpresa\":\"Ilustre Municipalidad de Cochrane\"},{\"CodigoEmpresa\":\"165106\",\"NombreEmpresa\":\"Ilustre Municipalidad de Codegua\"},{\"CodigoEmpresa\":\"116742\",\"NombreEmpresa\":\"Ilustre Municipalidad de Coelemu\"},{\"CodigoEmpresa\":\"7146\",\"NombreEmpresa\":\"Ilustre Municipalidad de Coihueco\"},{\"CodigoEmpresa\":\"124195\",\"NombreEmpresa\":\"Ilustre Municipalidad de Colbún\"},{\"CodigoEmpresa\":\"1053458\",\"NombreEmpresa\":\"ILUSTRE MUNICIPALIDAD DE COLCHANE\"},{\"CodigoEmpresa\":\"113853\",\"NombreEmpresa\":\"Ilustre Municipalidad de Collipulli\"},{\"CodigoEmpresa\":\"119266\",\"NombreEmpresa\":\"Ilustre Municipalidad de Coltauco\"},{\"CodigoEmpresa\":\"102316\",\"NombreEmpresa\":\"ILUSTRE MUNICIPALIDAD DE CONSTITUCION\"},{\"CodigoEmpresa\":\"141884\",\"NombreEmpresa\":\"Ilustre Municipalidad de Contulmo\"},{\"CodigoEmpresa\":\"7071\",\"NombreEmpresa\":\"Ilustre Municipalidad de Coyhaique\"},{\"CodigoEmpresa\":\"129738\",\"NombreEmpresa\":\"Ilustre Municipalidad de Cunco\"},{\"CodigoEmpresa\":\"121613\",\"NombreEmpresa\":\"Ilustre Municipalidad de Curacautín\"},{\"CodigoEmpresa\":\"125602\",\"NombreEmpresa\":\"Ilustre Municipalidad de Curacaví\"},{\"CodigoEmpresa\":\"127036\",\"NombreEmpresa\":\"Ilustre Municipalidad de Curanilahue\"},{\"CodigoEmpresa\":\"118093\",\"NombreEmpresa\":\"Ilustre Municipalidad de Curarrehue\"},{\"CodigoEmpresa\":\"133311\",\"NombreEmpresa\":\"Ilustre Municipalidad de Curepto\"},{\"CodigoEmpresa\":\"7454\",\"NombreEmpresa\":\"Ilustre Municipalidad de Diego de Almagro\"},{\"CodigoEmpresa\":\"123784\",\"NombreEmpresa\":\"Ilustre Municipalidad de El Carmen\"},{\"CodigoEmpresa\":\"116741\",\"NombreEmpresa\":\"ILUSTRE MUNICIPALIDAD DE EL MONTE\"},{\"CodigoEmpresa\":\"7066\",\"NombreEmpresa\":\"Ilustre Municipalidad de El Tabo\"},{\"CodigoEmpresa\":\"132741\",\"NombreEmpresa\":\"Ilustre Municipalidad de Ercilla\"},{\"CodigoEmpresa\":\"115285\",\"NombreEmpresa\":\"Ilustre Municipalidad de Florida\"},{\"CodigoEmpresa\":\"118089\",\"NombreEmpresa\":\"Ilustre Municipalidad de Freire\"},{\"CodigoEmpresa\":\"135567\",\"NombreEmpresa\":\"Ilustre Municipalidad de Freirina\"},{\"CodigoEmpresa\":\"119651\",\"NombreEmpresa\":\"Ilustre Municipalidad de Fresia\"},{\"CodigoEmpresa\":\"84478\",\"NombreEmpresa\":\"ILUSTRE MUNICIPALIDAD DE FRUTILLAR\"},{\"CodigoEmpresa\":\"118068\",\"NombreEmpresa\":\"Ilustre Municipalidad de Futaleufu\"},{\"CodigoEmpresa\":\"106880\",\"NombreEmpresa\":\"Ilustre Municipalidad de Futrono\"},{\"CodigoEmpresa\":\"124203\",\"NombreEmpresa\":\"Ilustre Municipalidad de Galvarino\"},{\"CodigoEmpresa\":\"118859\",\"NombreEmpresa\":\"Ilustre Municipalidad de General Lagos\"},{\"CodigoEmpresa\":\"148507\",\"NombreEmpresa\":\"Ilustre Municipalidad de Graneros\"},{\"CodigoEmpresa\":\"165107\",\"NombreEmpresa\":\"Ilustre Municipalidad de Guaitecas\"},{\"CodigoEmpresa\":\"116733\",\"NombreEmpresa\":\"Ilustre Municipalidad de Hijuelas\"},{\"CodigoEmpresa\":\"106170\",\"NombreEmpresa\":\"ILUSTRE MUNICIPALIDAD DE HUALAIHUE\"},{\"CodigoEmpresa\":\"118855\",\"NombreEmpresa\":\"Ilustre Municipalidad de Hualañe\"},{\"CodigoEmpresa\":\"123786\",\"NombreEmpresa\":\"Ilustre Municipalidad de Hualpen\"},{\"CodigoEmpresa\":\"140867\",\"NombreEmpresa\":\"Ilustre Municipalidad de Hualqui\"},{\"CodigoEmpresa\":\"116946\",\"NombreEmpresa\":\"ILUSTRE MUNICIPALIDAD DE HUARA\"},{\"CodigoEmpresa\":\"116406\",\"NombreEmpresa\":\"Ilustre Municipalidad de Huasco\"},{\"CodigoEmpresa\":\"115164\",\"NombreEmpresa\":\"ILUSTRE MUNICIPALIDAD DE ILLAPEL\"},{\"CodigoEmpresa\":\"87175\",\"NombreEmpresa\":\"ILUSTRE MUNICIPALIDAD DE IQUIQUE\"},{\"CodigoEmpresa\":\"119852\",\"NombreEmpresa\":\"Ilustre Municipalidad de Isla de Pascua\"},{\"CodigoEmpresa\":\"108932\",\"NombreEmpresa\":\"ILUSTRE MUNICIPALIDAD DE JUAN FERNANDEZ\"},{\"CodigoEmpresa\":\"115185\",\"NombreEmpresa\":\"Ilustre Municipalidad de La Calera\"},{\"CodigoEmpresa\":\"100488\",\"NombreEmpresa\":\"Ilustre Municipalidad de La Cisterna\"},{\"CodigoEmpresa\":\"165285\",\"NombreEmpresa\":\"Ilustre Municipalidad de La Estrella\"},{\"CodigoEmpresa\":\"112097\",\"NombreEmpresa\":\"ILUSTRE MUNICIPALIDAD DE LA GRANJA\"},{\"CodigoEmpresa\":\"116410\",\"NombreEmpresa\":\"Ilustre Municipalidad de La Higuera\"},{\"CodigoEmpresa\":\"100648\",\"NombreEmpresa\":\"ILUSTRE MUNICIPALIDAD DE LA LIGUA\"},{\"CodigoEmpresa\":\"7366\",\"NombreEmpresa\":\"Ilustre Municipalidad de La Reina\"},{\"CodigoEmpresa\":\"87976\",\"NombreEmpresa\":\"ILUSTRE MUNICIPALIDAD DE LA SERENA\"},{\"CodigoEmpresa\":\"114725\",\"NombreEmpresa\":\"Ilustre Municipalidad de La Unión\"},{\"CodigoEmpresa\":\"113735\",\"NombreEmpresa\":\"ILUSTRE MUNICIPALIDAD DE LAGO RANCO\"},{\"CodigoEmpresa\":\"123529\",\"NombreEmpresa\":\"Ilustre Municipalidad de Lago Verde\"},{\"CodigoEmpresa\":\"119999\",\"NombreEmpresa\":\"Ilustre Municipalidad de Laguna Blanca\"},{\"CodigoEmpresa\":\"116405\",\"NombreEmpresa\":\"Ilustre Municipalidad de Laja\"},{\"CodigoEmpresa\":\"118067\",\"NombreEmpresa\":\"Ilustre Municipalidad de Lampa\"},{\"CodigoEmpresa\":\"106876\",\"NombreEmpresa\":\"Ilustre Municipalidad de Lanco\"},{\"CodigoEmpresa\":\"124577\",\"NombreEmpresa\":\"Ilustre Municipalidad de Lautaro\"},{\"CodigoEmpresa\":\"118096\",\"NombreEmpresa\":\"Ilustre Municipalidad de Lebu\"},{\"CodigoEmpresa\":\"7492\",\"NombreEmpresa\":\"Ilustre Municipalidad de Limache\"},{\"CodigoEmpresa\":\"86545\",\"NombreEmpresa\":\"ILUSTRE MUNICIPALIDAD DE LINARES\"},{\"CodigoEmpresa\":\"7365\",\"NombreEmpresa\":\"Ilustre Municipalidad de Litueche\"},{\"CodigoEmpresa\":\"118072\",\"NombreEmpresa\":\"Ilustre Municipalidad de Llay Llay\"},{\"CodigoEmpresa\":\"113258\",\"NombreEmpresa\":\"ILUSTRE MUNICIPALIDAD DE LOLOL\"},{\"CodigoEmpresa\":\"113851\",\"NombreEmpresa\":\"Ilustre Municipalidad de Loncoche\"},{\"CodigoEmpresa\":\"120788\",\"NombreEmpresa\":\"Ilustre Municipalidad de Longavi\"},{\"CodigoEmpresa\":\"119994\",\"NombreEmpresa\":\"Ilustre Municipalidad de Lonquimay\"},{\"CodigoEmpresa\":\"7159\",\"NombreEmpresa\":\"Ilustre Municipalidad de los Lagos\"},{\"CodigoEmpresa\":\"7304\",\"NombreEmpresa\":\"Ilustre Municipalidad de Los Muermos\"},{\"CodigoEmpresa\":\"116408\",\"NombreEmpresa\":\"Ilustre Municipalidad de Los Sauces\"},{\"CodigoEmpresa\":\"116401\",\"NombreEmpresa\":\"Ilustre Municipalidad de Los Vilos\"},{\"CodigoEmpresa\":\"138211\",\"NombreEmpresa\":\"Ilustre Municipalidad de Lumaco\"},{\"CodigoEmpresa\":\"113852\",\"NombreEmpresa\":\"ILUSTRE MUNICIPALIDAD DE MACHALI\"},{\"CodigoEmpresa\":\"115464\",\"NombreEmpresa\":\"Ilustre Municipalidad de Máfil\"},{\"CodigoEmpresa\":\"93619\",\"NombreEmpresa\":\"ILUSTRE MUNICIPALIDAD DE MAIPU\"},{\"CodigoEmpresa\":\"113738\",\"NombreEmpresa\":\"ILUSTRE MUNICIPALIDAD DE MARIA ELENA\"},{\"CodigoEmpresa\":\"120001\",\"NombreEmpresa\":\"Ilustre Municipalidad de Mariquina\"},{\"CodigoEmpresa\":\"118070\",\"NombreEmpresa\":\"Ilustre Municipalidad de Maule\"},{\"CodigoEmpresa\":\"120791\",\"NombreEmpresa\":\"ILUSTRE MUNICIPALIDAD DE MAULLIN\"},{\"CodigoEmpresa\":\"117581\",\"NombreEmpresa\":\"Ilustre Municipalidad de Mejillones\"},{\"CodigoEmpresa\":\"121617\",\"NombreEmpresa\":\"Ilustre Municipalidad de Melipeuco\"},{\"CodigoEmpresa\":\"98901\",\"NombreEmpresa\":\"ILUSTRE MUNICIPALIDAD DE MELIPILLA\"},{\"CodigoEmpresa\":\"84961\",\"NombreEmpresa\":\"ILUSTRE MUNICIPALIDAD DE MOLINA \"},{\"CodigoEmpresa\":\"115311\",\"NombreEmpresa\":\"Ilustre Municipalidad de Mulchen\"},{\"CodigoEmpresa\":\"135561\",\"NombreEmpresa\":\"Ilustre Municipalidad de Nacimiento\"},{\"CodigoEmpresa\":\"116750\",\"NombreEmpresa\":\"Ilustre Municipalidad de Nancagua\"},{\"CodigoEmpresa\":\"98448\",\"NombreEmpresa\":\"ILUSTRE MUNICIPALIDAD DE NATALES\"},{\"CodigoEmpresa\":\"118625\",\"NombreEmpresa\":\"Ilustre Municipalidad de Navidad\"},{\"CodigoEmpresa\":\"142508\",\"NombreEmpresa\":\"Ilustre Municipalidad de Negrete\"},{\"CodigoEmpresa\":\"7051\",\"NombreEmpresa\":\"Ilustre Municipalidad de Ninhue\"},{\"CodigoEmpresa\":\"115468\",\"NombreEmpresa\":\"Ilustre Municipalidad de Nogales\"},{\"CodigoEmpresa\":\"134356\",\"NombreEmpresa\":\"Ilustre Municipalidad de Ñiquen\"},{\"CodigoEmpresa\":\"86764\",\"NombreEmpresa\":\"ILUSTRE MUNICIPALIDAD DE ÑUÑOA\"},{\"CodigoEmpresa\":\"115463\",\"NombreEmpresa\":\"Ilustre Municipalidad de O\\'Higgins\"},{\"CodigoEmpresa\":\"119273\",\"NombreEmpresa\":\"Ilustre Municipalidad de Olivar\"},{\"CodigoEmpresa\":\"119996\",\"NombreEmpresa\":\"Ilustre Municipalidad de Ollagüe\"},{\"CodigoEmpresa\":\"114724\",\"NombreEmpresa\":\"Ilustre Municipalidad de Olmue\"},{\"CodigoEmpresa\":\"84959\",\"NombreEmpresa\":\"ILUSTRE MUNICIPALIDAD DE OSORNO\"},{\"CodigoEmpresa\":\"118075\",\"NombreEmpresa\":\"Ilustre Municipalidad de Paihuano\"},{\"CodigoEmpresa\":\"116744\",\"NombreEmpresa\":\"Ilustre Municipalidad de Paillaco\"},{\"CodigoEmpresa\":\"100728\",\"NombreEmpresa\":\"ILUSTRE MUNICIPALIDAD DE PAINE\"},{\"CodigoEmpresa\":\"110393\",\"NombreEmpresa\":\"Ilustre Municipalidad de Palena\"},{\"CodigoEmpresa\":\"123526\",\"NombreEmpresa\":\"Ilustre Municipalidad de Palmilla\"},{\"CodigoEmpresa\":\"115284\",\"NombreEmpresa\":\"Ilustre Municipalidad de Panguipulli\"},{\"CodigoEmpresa\":\"115302\",\"NombreEmpresa\":\"Ilustre Municipalidad de Papudo\"},{\"CodigoEmpresa\":\"118971\",\"NombreEmpresa\":\"Ilustre Municipalidad de Paredones\"},{\"CodigoEmpresa\":\"94459\",\"NombreEmpresa\":\"ILUSTRE MUNICIPALIDAD DE PARRAL\"},{\"CodigoEmpresa\":\"116729\",\"NombreEmpresa\":\"Ilustre Municipalidad de Pelarco\"},{\"CodigoEmpresa\":\"113978\",\"NombreEmpresa\":\"Ilustre Municipalidad de Pelluhue\"},{\"CodigoEmpresa\":\"117587\",\"NombreEmpresa\":\"Ilustre Municipalidad de Pemuco\"},{\"CodigoEmpresa\":\"142575\",\"NombreEmpresa\":\"Ilustre Municipalidad de Penco\"},{\"CodigoEmpresa\":\"118619\",\"NombreEmpresa\":\"Ilustre Municipalidad de Peralillo\"},{\"CodigoEmpresa\":\"133899\",\"NombreEmpresa\":\"Ilustre Municipalidad de Perquenco\"},{\"CodigoEmpresa\":\"116223\",\"NombreEmpresa\":\"Ilustre Municipalidad de Petorca\"},{\"CodigoEmpresa\":\"118861\",\"NombreEmpresa\":\"Ilustre Municipalidad de Peumo\"},{\"CodigoEmpresa\":\"118077\",\"NombreEmpresa\":\"Ilustre Municipalidad de Pica\"},{\"CodigoEmpresa\":\"118621\",\"NombreEmpresa\":\"Ilustre Municipalidad de Pichidegua\"},{\"CodigoEmpresa\":\"117179\",\"NombreEmpresa\":\"Ilustre Municipalidad de Pichilemu\"},{\"CodigoEmpresa\":\"118071\",\"NombreEmpresa\":\"Ilustre Municipalidad de Pinto\"},{\"CodigoEmpresa\":\"100072\",\"NombreEmpresa\":\"ILUSTRE MUNICIPALIDAD DE PIRQUE\"},{\"CodigoEmpresa\":\"116411\",\"NombreEmpresa\":\"Ilustre Municipalidad de Pitrufquen\"},{\"CodigoEmpresa\":\"118087\",\"NombreEmpresa\":\"Ilustre Municipalidad de Placilla\"},{\"CodigoEmpresa\":\"115798\",\"NombreEmpresa\":\"Ilustre Municipalidad de Porvenir\"},{\"CodigoEmpresa\":\"117585\",\"NombreEmpresa\":\"Ilustre Municipalidad de Primavera\"},{\"CodigoEmpresa\":\"119270\",\"NombreEmpresa\":\"Ilustre Municipalidad de Puchuncavi\"},{\"CodigoEmpresa\":\"86943\",\"NombreEmpresa\":\"ILUSTRE MUNICIPALIDAD DE PUCON\"},{\"CodigoEmpresa\":\"104899\",\"NombreEmpresa\":\"Ilustre Municipalidad de Puerto Octay\"},{\"CodigoEmpresa\":\"115313\",\"NombreEmpresa\":\"Ilustre Municipalidad de Puerto Saavedra\"},{\"CodigoEmpresa\":\"116402\",\"NombreEmpresa\":\"Ilustre Municipalidad de Pumanque\"},{\"CodigoEmpresa\":\"117588\",\"NombreEmpresa\":\"Ilustre Municipalidad de Punitaqui\"},{\"CodigoEmpresa\":\"116403\",\"NombreEmpresa\":\"Ilustre Municipalidad de Puqueldón\"},{\"CodigoEmpresa\":\"114916\",\"NombreEmpresa\":\"ILUSTRE MUNICIPALIDAD DE PURRANQUE\"},{\"CodigoEmpresa\":\"119479\",\"NombreEmpresa\":\"ILUSTRE MUNICIPALIDAD DE PUTRE\"},{\"CodigoEmpresa\":\"105334\",\"NombreEmpresa\":\"ILUSTRE MUNICIPALIDAD DE PUYEHUE\"},{\"CodigoEmpresa\":\"112919\",\"NombreEmpresa\":\"Ilustre Municipalidad de Queilen\"},{\"CodigoEmpresa\":\"110102\",\"NombreEmpresa\":\"Ilustre Municipalidad De Quellón\"},{\"CodigoEmpresa\":\"125066\",\"NombreEmpresa\":\"Ilustre Municipalidad de Quemchi\"},{\"CodigoEmpresa\":\"116940\",\"NombreEmpresa\":\"Ilustre Municipalidad de Quilaco\"},{\"CodigoEmpresa\":\"88313\",\"NombreEmpresa\":\"Ilustre Municipalidad de Quilicura\"},{\"CodigoEmpresa\":\"115979\",\"NombreEmpresa\":\"Ilustre Municipalidad de Quilleco\"},{\"CodigoEmpresa\":\"135562\",\"NombreEmpresa\":\"ILUSTRE MUNICIPALIDAD DE QUILLON\"},{\"CodigoEmpresa\":\"116731\",\"NombreEmpresa\":\"Ilustre Municipalidad de Quinchao\"},{\"CodigoEmpresa\":\"115010\",\"NombreEmpresa\":\"Ilustre Municipalidad de Quinta de Tilcoco\"},{\"CodigoEmpresa\":\"88075\",\"NombreEmpresa\":\"ILUSTRE MUNICIPALIDAD DE QUINTA NORMAL\"},{\"CodigoEmpresa\":\"138454\",\"NombreEmpresa\":\"Ilustre Municipalidad de Quintero\"},{\"CodigoEmpresa\":\"124198\",\"NombreEmpresa\":\"Ilustre Municipalidad de Quirihue\"},{\"CodigoEmpresa\":\"87167\",\"NombreEmpresa\":\"ILUSTRE MUNICIPALIDAD DE RANCAGUA\"},{\"CodigoEmpresa\":\"7418\",\"NombreEmpresa\":\"Ilustre Municipalidad de Ranquil\"},{\"CodigoEmpresa\":\"117589\",\"NombreEmpresa\":\"Ilustre Municipalidad de Rauco\"},{\"CodigoEmpresa\":\"7325\",\"NombreEmpresa\":\"Ilustre Municipalidad de Recoleta\"},{\"CodigoEmpresa\":\"118073\",\"NombreEmpresa\":\"Ilustre Municipalidad de Renaico\"},{\"CodigoEmpresa\":\"87185\",\"NombreEmpresa\":\"ILUSTRE MUNICIPALIDAD DE RENCA\"},{\"CodigoEmpresa\":\"100555\",\"NombreEmpresa\":\"ILUSTRE MUNICIPALIDAD DE RENGO\"},{\"CodigoEmpresa\":\"116215\",\"NombreEmpresa\":\"Ilustre Municipalidad de Requínoa\"},{\"CodigoEmpresa\":\"113252\",\"NombreEmpresa\":\"ILUSTRE MUNICIPALIDAD DE RETIRO\"},{\"CodigoEmpresa\":\"117580\",\"NombreEmpresa\":\"Ilustre Municipalidad de Rio Bueno\"},{\"CodigoEmpresa\":\"89591\",\"NombreEmpresa\":\"ILUSTRE MUNICIPALIDAD DE RIO CLARO\"},{\"CodigoEmpresa\":\"115301\",\"NombreEmpresa\":\"ILUSTRE MUNICIPALIDAD DE RIO VERDE\"},{\"CodigoEmpresa\":\"141881\",\"NombreEmpresa\":\"Ilustre Municipalidad de Romeral\"},{\"CodigoEmpresa\":\"116295\",\"NombreEmpresa\":\"Ilustre Municipalidad de Salamanca\"},{\"CodigoEmpresa\":\"86548\",\"NombreEmpresa\":\"ILUSTRE MUNICIPALIDAD DE SAN BERNARDO\"},{\"CodigoEmpresa\":\"116226\",\"NombreEmpresa\":\"Ilustre Municipalidad de San Esteban\"},{\"CodigoEmpresa\":\"128889\",\"NombreEmpresa\":\"ILUSTRE MUNICIPALIDAD DE SAN FABIAN\"},{\"CodigoEmpresa\":\"100158\",\"NombreEmpresa\":\"ILUSTRE MUNICIPALIDAD DE SAN FELIPE\"},{\"CodigoEmpresa\":\"7482\",\"NombreEmpresa\":\"Ilustre Municipalidad de San Fernando\"},{\"CodigoEmpresa\":\"115795\",\"NombreEmpresa\":\"Ilustre Municipalidad de San Gregorio\"},{\"CodigoEmpresa\":\"116409\",\"NombreEmpresa\":\"Ilustre Municipalidad de San Ignacio\"},{\"CodigoEmpresa\":\"86407\",\"NombreEmpresa\":\"ILUSTRE MUNICIPALIDAD DE SAN JAVIER\"},{\"CodigoEmpresa\":\"7135\",\"NombreEmpresa\":\"Ilustre Municipalidad de San Joaquin\"},{\"CodigoEmpresa\":\"118085\",\"NombreEmpresa\":\"Ilustre Municipalidad de San Juan de la Costa\"},{\"CodigoEmpresa\":\"7498\",\"NombreEmpresa\":\"Ilustre Municipalidad de San Miguel\"},{\"CodigoEmpresa\":\"7158\",\"NombreEmpresa\":\"Ilustre Municipalidad de San Nicolás\"},{\"CodigoEmpresa\":\"136421\",\"NombreEmpresa\":\"Ilustre Municipalidad de San Rosendo\"},{\"CodigoEmpresa\":\"135559\",\"NombreEmpresa\":\"Ilustre Municipalidad de San Vicente de Tagua Tagua\"},{\"CodigoEmpresa\":\"118860\",\"NombreEmpresa\":\"Ilustre Municipalidad de Santa Barbara\"},{\"CodigoEmpresa\":\"117584\",\"NombreEmpresa\":\"Ilustre Municipalidad de Santa Cruz\"},{\"CodigoEmpresa\":\"118623\",\"NombreEmpresa\":\"Ilustre Municipalidad de Santa Juana\"},{\"CodigoEmpresa\":\"117210\",\"NombreEmpresa\":\"Ilustre Municipalidad de Santa María\"},{\"CodigoEmpresa\":\"113981\",\"NombreEmpresa\":\"Ilustre Municipalidad de Santo Domingo\"},{\"CodigoEmpresa\":\"117579\",\"NombreEmpresa\":\"Ilustre Municipalidad de Sierra Gorda\"},{\"CodigoEmpresa\":\"118079\",\"NombreEmpresa\":\"Ilustre Municipalidad de Taltal\"},{\"CodigoEmpresa\":\"116299\",\"NombreEmpresa\":\"Ilustre Municipalidad de Teno\"},{\"CodigoEmpresa\":\"7360\",\"NombreEmpresa\":\"Ilustre Municipalidad de Tierra Amarilla\"},{\"CodigoEmpresa\":\"116218\",\"NombreEmpresa\":\"Ilustre Municipalidad de Til Til\"},{\"CodigoEmpresa\":\"224045\",\"NombreEmpresa\":\"Ilustre Municipalidad de Timaukel\"},{\"CodigoEmpresa\":\"117582\",\"NombreEmpresa\":\"Ilustre Municipalidad de Tolten\"},{\"CodigoEmpresa\":\"7301\",\"NombreEmpresa\":\"Ilustre Municipalidad de Tortel\"},{\"CodigoEmpresa\":\"145365\",\"NombreEmpresa\":\"Ilustre Municipalidad de Trehuaco\"},{\"CodigoEmpresa\":\"87402\",\"NombreEmpresa\":\"ILUSTRE MUNICIPALIDAD DE VALPARAISO\"},{\"CodigoEmpresa\":\"114914\",\"NombreEmpresa\":\"Ilustre Municipalidad de Vichuquén\"},{\"CodigoEmpresa\":\"115303\",\"NombreEmpresa\":\"Ilustre Municipalidad de Vicuña\"},{\"CodigoEmpresa\":\"115009\",\"NombreEmpresa\":\"Ilustre Municipalidad de Vilcún\"},{\"CodigoEmpresa\":\"7363\",\"NombreEmpresa\":\"Ilustre Municipalidad de Villa Alegre\"},{\"CodigoEmpresa\":\"7233\",\"NombreEmpresa\":\"Ilustre Municipalidad de Villa Alemana\"},{\"CodigoEmpresa\":\"118084\",\"NombreEmpresa\":\"Ilustre Municipalidad de Villarrica\"},{\"CodigoEmpresa\":\"116738\",\"NombreEmpresa\":\"Ilustre Municipalidad de Yerbas Buenas\"},{\"CodigoEmpresa\":\"120004\",\"NombreEmpresa\":\"Ilustre Municipalidad de Yumbel\"},{\"CodigoEmpresa\":\"115294\",\"NombreEmpresa\":\"Ilustre Municipalidad de Yungay\"},{\"CodigoEmpresa\":\"132199\",\"NombreEmpresa\":\"Ilustre Municipalidad de Zapallar\"},{\"CodigoEmpresa\":\"117181\",\"NombreEmpresa\":\"Ilustre Municipalidad Isla de Maipo\"},{\"CodigoEmpresa\":\"115280\",\"NombreEmpresa\":\"ILUSTRE MUNICIPALIDAD TEODORO SCHMIDT\"},{\"CodigoEmpresa\":\"106000\",\"NombreEmpresa\":\"Ilustre Municipalidad Torres del Payne\"},{\"CodigoEmpresa\":\"114924\",\"NombreEmpresa\":\"IMUNICIPALIDAD DE NUEVA IMPERIAL\"},{\"CodigoEmpresa\":\"7004\",\"NombreEmpresa\":\"Instituto Antártico Chileno\"},{\"CodigoEmpresa\":\"6937\",\"NombreEmpresa\":\"Instituto de Desarrollo Agropecuario - INDAP\"},{\"CodigoEmpresa\":\"7070\",\"NombreEmpresa\":\"Instituto de Fomento Pesquero - IFOP\"},{\"CodigoEmpresa\":\"7394\",\"NombreEmpresa\":\"Instituto de Investigaciones y Control del Ejércit\"},{\"CodigoEmpresa\":\"7474\",\"NombreEmpresa\":\"Instituto de Neurocirugía\"},{\"CodigoEmpresa\":\"1090469\",\"NombreEmpresa\":\"INSTITUTO DE PREVISION SOCIAL\"},{\"CodigoEmpresa\":\"7177\",\"NombreEmpresa\":\"INSTITUTO DE SALUD PUBLICA DE CHILE\"},{\"CodigoEmpresa\":\"6953\",\"NombreEmpresa\":\"Instituto de Seguridad Laboral - ISL\"},{\"CodigoEmpresa\":\"7497\",\"NombreEmpresa\":\"Instituto Forestal\"},{\"CodigoEmpresa\":\"7432\",\"NombreEmpresa\":\"Instituto Nac. de Rehabilitación Pedro Aguirre C.\"},{\"CodigoEmpresa\":\"7216\",\"NombreEmpresa\":\"INSTITUTO NACIONAL DE DEPORTES DE CHILE\"},{\"CodigoEmpresa\":\"6931\",\"NombreEmpresa\":\"Instituto Nacional de Estadísticas - INE\"},{\"CodigoEmpresa\":\"7430\",\"NombreEmpresa\":\"Instituto Nacional de Geriatría\"},{\"CodigoEmpresa\":\"7176\",\"NombreEmpresa\":\"Instituto Nacional de Hidráulicas - INH\"},{\"CodigoEmpresa\":\"7197\",\"NombreEmpresa\":\"Instituto Nacional de la Juventud - MIDEPLAN\"},{\"CodigoEmpresa\":\"1042394\",\"NombreEmpresa\":\"INSTITUTO NACIONAL DE PROPIEDAD INDUSTRIAL\"},{\"CodigoEmpresa\":\"7276\",\"NombreEmpresa\":\"Instituto Nacional del Cancer\"},{\"CodigoEmpresa\":\"7298\",\"NombreEmpresa\":\"Instituto Nacional del Torax\"},{\"CodigoEmpresa\":\"7044\",\"NombreEmpresa\":\"INSTITUTO PSIQUIATRICO DR JOSE HORWITZ BARAK\"},{\"CodigoEmpresa\":\"7456\",\"NombreEmpresa\":\"Instituto Traumatológico\"},{\"CodigoEmpresa\":\"7204\",\"NombreEmpresa\":\"INTENDENCIA II REGION ANTOFAGASTA\"},{\"CodigoEmpresa\":\"7115\",\"NombreEmpresa\":\"Intendencia III Región, Atacama\"},{\"CodigoEmpresa\":\"7236\",\"NombreEmpresa\":\"Intendencia IV Región, Coquimbo\"},{\"CodigoEmpresa\":\"7220\",\"NombreEmpresa\":\"Intendencia IX Región, de la Araucanía\"},{\"CodigoEmpresa\":\"7195\",\"NombreEmpresa\":\"Intendencia Región Metropolitana\"},{\"CodigoEmpresa\":\"270727\",\"NombreEmpresa\":\"Intendencia Regional de Arica y Parinacota\"},{\"CodigoEmpresa\":\"270726\",\"NombreEmpresa\":\"Intendencia Regional de Los Ríos\"},{\"CodigoEmpresa\":\"7234\",\"NombreEmpresa\":\"INTENDENCIA REGIONAL I REGION DE TARAPAC\"},{\"CodigoEmpresa\":\"7196\",\"NombreEmpresa\":\"Intendencia V Región, Valparaíso\"},{\"CodigoEmpresa\":\"7201\",\"NombreEmpresa\":\"Intendencia VI Región, Lib. Bdo. O´Higgins\"},{\"CodigoEmpresa\":\"7225\",\"NombreEmpresa\":\"Intendencia VII Región, del Maule\"},{\"CodigoEmpresa\":\"7226\",\"NombreEmpresa\":\"Intendencia VIII Región, del Bío-Bío\"},{\"CodigoEmpresa\":\"7215\",\"NombreEmpresa\":\"Intendencia X Región, de Los Lagos\"},{\"CodigoEmpresa\":\"7229\",\"NombreEmpresa\":\"Intendencia XI Región, Aysén\"},{\"CodigoEmpresa\":\"7214\",\"NombreEmpresa\":\"Intendencia XII Región de Magallanes y Antártica Chilena\"},{\"CodigoEmpresa\":\"7002\",\"NombreEmpresa\":\"JUNAEB\"},{\"CodigoEmpresa\":\"7014\",\"NombreEmpresa\":\"Junta de Aeronáutica Civil\"},{\"CodigoEmpresa\":\"1079772\",\"NombreEmpresa\":\"JUNTA NACIONAL DE CUERPOS DE BOMBEROS DE CHILE\"},{\"CodigoEmpresa\":\"6928\",\"NombreEmpresa\":\"JUNTA NACIONAL DE JARDINES         INFANTILES\"},{\"CodigoEmpresa\":\"1065029\",\"NombreEmpresa\":\"LICEO EL ROSARIO\"},{\"CodigoEmpresa\":\"7074\",\"NombreEmpresa\":\"METRO S.A.\"},{\"CodigoEmpresa\":\"6941\",\"NombreEmpresa\":\"Ministerio de Bienes Nacionales.\"},{\"CodigoEmpresa\":\"7247\",\"NombreEmpresa\":\"MINISTERIO DE OBRAS PUBLICAS DIREC CION GRAL DE OO PP DCYF\"},{\"CodigoEmpresa\":\"7249\",\"NombreEmpresa\":\"Ministerio de Obras Publicas Dirección Gral. de OOPP\"},{\"CodigoEmpresa\":\"6944\",\"NombreEmpresa\":\"Ministerio del Interior\"},{\"CodigoEmpresa\":\"224060\",\"NombreEmpresa\":\"MINISTERIO PUBLICO\"},{\"CodigoEmpresa\":\"7194\",\"NombreEmpresa\":\"Ministerio Secretaría General de Gobierno\"},{\"CodigoEmpresa\":\"6949\",\"NombreEmpresa\":\"MINISTERIO SECRETARIA GENERAL DE LA PRESIDENCIA DE LA REPUBLICA\"},{\"CodigoEmpresa\":\"7248\",\"NombreEmpresa\":\"MOP - Dirección de Vialidad\"},{\"CodigoEmpresa\":\"7353\",\"NombreEmpresa\":\"MOP Dirección General de Concesiones\"},{\"CodigoEmpresa\":\"114923\",\"NombreEmpresa\":\"Municipalidad de Alto Hospicio\"},{\"CodigoEmpresa\":\"98452\",\"NombreEmpresa\":\"Municipalidad de Ancud\"},{\"CodigoEmpresa\":\"100090\",\"NombreEmpresa\":\"MUNICIPALIDAD DE BUIN\"},{\"CodigoEmpresa\":\"115186\",\"NombreEmpresa\":\"Municipalidad de Carahue\"},{\"CodigoEmpresa\":\"99569\",\"NombreEmpresa\":\"MUNICIPALIDAD DE CARTAGENA\"},{\"CodigoEmpresa\":\"100523\",\"NombreEmpresa\":\"MUNICIPALIDAD DE CHIGUAYANTE\"},{\"CodigoEmpresa\":\"115297\",\"NombreEmpresa\":\"Municipalidad de Combarbala\"},{\"CodigoEmpresa\":\"119089\",\"NombreEmpresa\":\"Municipalidad de Corral\"},{\"CodigoEmpresa\":\"115165\",\"NombreEmpresa\":\"MUNICIPALIDAD DE DALCAHUE\"},{\"CodigoEmpresa\":\"123788\",\"NombreEmpresa\":\"MUNICIPALIDAD DE DOÑIHUE\"},{\"CodigoEmpresa\":\"117586\",\"NombreEmpresa\":\"Municipalidad de Gorbea\"},{\"CodigoEmpresa\":\"100739\",\"NombreEmpresa\":\"Municipalidad de Huechuraba\"},{\"CodigoEmpresa\":\"86766\",\"NombreEmpresa\":\"MUNICIPALIDAD DE LA FLORIDA\"},{\"CodigoEmpresa\":\"86571\",\"NombreEmpresa\":\"MUNICIPALIDAD DE LAS CONDES\"},{\"CodigoEmpresa\":\"100155\",\"NombreEmpresa\":\"Municipalidad de lo barnechea\"},{\"CodigoEmpresa\":\"87187\",\"NombreEmpresa\":\"Municipalidad de Los Angeles\"},{\"CodigoEmpresa\":\"113259\",\"NombreEmpresa\":\"MUNICIPALIDAD DE LOTA\"},{\"CodigoEmpresa\":\"99860\",\"NombreEmpresa\":\"MUNICIPALIDAD DE OVALLE\"},{\"CodigoEmpresa\":\"90886\",\"NombreEmpresa\":\"MUNICIPALIDAD DE PADRE LAS CASAS\"},{\"CodigoEmpresa\":\"113618\",\"NombreEmpresa\":\"Municipalidad de Panquehue\"},{\"CodigoEmpresa\":\"87104\",\"NombreEmpresa\":\"MUNICIPALIDAD DE PEDRO AGUIRRE CERDA\"},{\"CodigoEmpresa\":\"100137\",\"NombreEmpresa\":\"MUNICIPALIDAD DE PEÑAFLOR\"},{\"CodigoEmpresa\":\"115299\",\"NombreEmpresa\":\"Municipalidad de Portezuelo\"},{\"CodigoEmpresa\":\"84149\",\"NombreEmpresa\":\"MUNICIPALIDAD DE PUDAHUEL\"},{\"CodigoEmpresa\":\"116945\",\"NombreEmpresa\":\"Municipalidad de Purén \\\\\\\\ DEPTO.DE SALUD\"},{\"CodigoEmpresa\":\"114075\",\"NombreEmpresa\":\"Municipalidad de Rio Hurtado\"},{\"CodigoEmpresa\":\"120002\",\"NombreEmpresa\":\"Municipalidad de Río Ibáñez\"},{\"CodigoEmpresa\":\"100318\",\"NombreEmpresa\":\"Municipalidad de San Antonio\"},{\"CodigoEmpresa\":\"100107\",\"NombreEmpresa\":\"MUNICIPALIDAD DE SAN CARLOS\"},{\"CodigoEmpresa\":\"115457\",\"NombreEmpresa\":\"Municipalidad de San José de Maipo\"},{\"CodigoEmpresa\":\"100704\",\"NombreEmpresa\":\"MUNICIPALIDAD DE SAN PEDRO DE LA PAZ\"},{\"CodigoEmpresa\":\"7355\",\"NombreEmpresa\":\"Municipalidad de San Ramon\"},{\"CodigoEmpresa\":\"86568\",\"NombreEmpresa\":\"MUNICIPALIDAD DE SANTIAGO\"},{\"CodigoEmpresa\":\"86586\",\"NombreEmpresa\":\"MUNICIPALIDAD DE TALCAHUANO\"},{\"CodigoEmpresa\":\"7321\",\"NombreEmpresa\":\"Municipalidad de Temuco\"},{\"CodigoEmpresa\":\"183037\",\"NombreEmpresa\":\"Municipalidad de Tirúa\"},{\"CodigoEmpresa\":\"115163\",\"NombreEmpresa\":\"MUNICIPALIDAD DE TRAIGUEN\"},{\"CodigoEmpresa\":\"98462\",\"NombreEmpresa\":\"MUNICIPALIDAD DE VITACURA\"},{\"CodigoEmpresa\":\"7005\",\"NombreEmpresa\":\"Oficina de Estudios y Politicas Agrarias\"},{\"CodigoEmpresa\":\"7180\",\"NombreEmpresa\":\"Oficina Nacional de Emergencia\"},{\"CodigoEmpresa\":\"6935\",\"NombreEmpresa\":\"Parque Metropolitano de Santiago\"},{\"CodigoEmpresa\":\"7143\",\"NombreEmpresa\":\"Poder Judicial - Academia Judicial\"},{\"CodigoEmpresa\":\"111880\",\"NombreEmpresa\":\"POLICIA DE INVESTIGACIONES DE CHILE\"},{\"CodigoEmpresa\":\"6967\",\"NombreEmpresa\":\"Polla Chilena de Beneficencia S.A.\"},{\"CodigoEmpresa\":\"7238\",\"NombreEmpresa\":\"Presidencia de la República\"},{\"CodigoEmpresa\":\"7478\",\"NombreEmpresa\":\"S. S. Aysén - Dirección de Atención Primaria\"},{\"CodigoEmpresa\":\"7096\",\"NombreEmpresa\":\"SAG CONCEPCION\"},{\"CodigoEmpresa\":\"7184\",\"NombreEmpresa\":\"SENADIS\"},{\"CodigoEmpresa\":\"174692\",\"NombreEmpresa\":\"Senado de la República de Chile\"},{\"CodigoEmpresa\":\"6919\",\"NombreEmpresa\":\"SERVICIO AGRICOLA Y GANADERO\"},{\"CodigoEmpresa\":\"6950\",\"NombreEmpresa\":\"Servicio de Cooperación Técnica - SERCOTEC\"},{\"CodigoEmpresa\":\"7218\",\"NombreEmpresa\":\"Servicio de Evaluación Ambiental (SEA)\"},{\"CodigoEmpresa\":\"7113\",\"NombreEmpresa\":\"SERVICIO DE IMPUESTOS INTERNOS DIRECCION\"},{\"CodigoEmpresa\":\"6960\",\"NombreEmpresa\":\"Servicio de Registro Civil e Identificación\"},{\"CodigoEmpresa\":\"7205\",\"NombreEmpresa\":\"Servicio de Salud  Concepción\"},{\"CodigoEmpresa\":\"7431\",\"NombreEmpresa\":\"SERVICIO DE SALUD ACONCAGUA\"},{\"CodigoEmpresa\":\"7185\",\"NombreEmpresa\":\"Servicio de Salud Antofagasta\"},{\"CodigoEmpresa\":\"7451\",\"NombreEmpresa\":\"SERVICIO DE SALUD ANTOFAGASTA HOSPITAL L\"},{\"CodigoEmpresa\":\"7302\",\"NombreEmpresa\":\"Servicio de Salud Araucanía Norte\"},{\"CodigoEmpresa\":\"7306\",\"NombreEmpresa\":\"SERVICIO DE SALUD ARAUCANIA NORTE HOSPITAL DE ANGOL\"},{\"CodigoEmpresa\":\"7102\",\"NombreEmpresa\":\"Servicio de Salud Araucanía Sur\"},{\"CodigoEmpresa\":\"7060\",\"NombreEmpresa\":\"SERVICIO DE SALUD ARAUCANIA SUR HOSPITAL DE NUEVA IMPERIAL\"},{\"CodigoEmpresa\":\"6976\",\"NombreEmpresa\":\"SERVICIO DE SALUD ARAUCO\"},{\"CodigoEmpresa\":\"1667479\",\"NombreEmpresa\":\"SERVICIO DE SALUD ARICA HOSP DR JUAN NOE CREVANI\"},{\"CodigoEmpresa\":\"7409\",\"NombreEmpresa\":\"Servicio de Salud Atacama\"},{\"CodigoEmpresa\":\"7206\",\"NombreEmpresa\":\"SERVICIO DE SALUD AYSEN\"},{\"CodigoEmpresa\":\"7308\",\"NombreEmpresa\":\"Servicio de Salud Bío Bío\"},{\"CodigoEmpresa\":\"16223\",\"NombreEmpresa\":\"Servicio de Salud Chiloé\"},{\"CodigoEmpresa\":\"7052\",\"NombreEmpresa\":\"Servicio de Salud Coquimbo\"},{\"CodigoEmpresa\":\"7416\",\"NombreEmpresa\":\"SERVICIO DE SALUD COQUIMBO HOSPITAL DE COQUIMBO\"},{\"CodigoEmpresa\":\"7471\",\"NombreEmpresa\":\"SERVICIO DE SALUD COQUIMBO HOSPITAL DE LOS VILOS\"},{\"CodigoEmpresa\":\"7329\",\"NombreEmpresa\":\"SERVICIO DE SALUD COQUIMBO HOSPITAL VICUNA\"},{\"CodigoEmpresa\":\"6926\",\"NombreEmpresa\":\"SERVICIO DE SALUD DE ARICA\"},{\"CodigoEmpresa\":\"7374\",\"NombreEmpresa\":\"SERVICIO DE SALUD DEL LIBERTADOR B O\\'HIGGINS HOSPITAL REG RANCAGUA\"},{\"CodigoEmpresa\":\"7141\",\"NombreEmpresa\":\"Servicio de Salud del Maule\"},{\"CodigoEmpresa\":\"7257\",\"NombreEmpresa\":\"SERVICIO DE SALUD DEL MAULE HOSPITAL DE LICANTEN\"},{\"CodigoEmpresa\":\"7260\",\"NombreEmpresa\":\"SERVICIO DE SALUD DEL MAULE HOSPITAL DE TALCA\"},{\"CodigoEmpresa\":\"7453\",\"NombreEmpresa\":\"SERVICIO DE SALUD IQUIQUE\"},{\"CodigoEmpresa\":\"7382\",\"NombreEmpresa\":\"Servicio de Salud Magallanes\"},{\"CodigoEmpresa\":\"7088\",\"NombreEmpresa\":\"Servicio de Salud Metropolitano Central\"},{\"CodigoEmpresa\":\"7188\",\"NombreEmpresa\":\"Servicio de Salud Metropolitano del Ambiente\"},{\"CodigoEmpresa\":\"6963\",\"NombreEmpresa\":\"Servicio de Salud Metropolitano Norte\"},{\"CodigoEmpresa\":\"7029\",\"NombreEmpresa\":\"Servicio de Salud Metropolitano Occidente\"},{\"CodigoEmpresa\":\"7006\",\"NombreEmpresa\":\"SERVICIO DE SALUD METROPOLITANO SUR\"},{\"CodigoEmpresa\":\"7203\",\"NombreEmpresa\":\"Servicio de Salud Metropolitano Sur Oriente\"},{\"CodigoEmpresa\":\"6932\",\"NombreEmpresa\":\"SERVICIO DE SALUD NUBLE\"},{\"CodigoEmpresa\":\"7303\",\"NombreEmpresa\":\"SERVICIO DE SALUD NUBLE HOSPITAL DE QUIRIHUE\"},{\"CodigoEmpresa\":\"7285\",\"NombreEmpresa\":\"Servicio de Salud Ñuble - Hospital de Coelemu\"},{\"CodigoEmpresa\":\"7316\",\"NombreEmpresa\":\"SERVICIO DE SALUD OCCIDENTE HOSPITAL SAN JUAN DE DIOS\"},{\"CodigoEmpresa\":\"7054\",\"NombreEmpresa\":\"Servicio de Salud Ohiggins\"},{\"CodigoEmpresa\":\"7296\",\"NombreEmpresa\":\"SERVICIO DE SALUD OSORNO\"},{\"CodigoEmpresa\":\"7305\",\"NombreEmpresa\":\"SERVICIO DE SALUD SUR HOSPITAL EXEQUIEL\"},{\"CodigoEmpresa\":\"7315\",\"NombreEmpresa\":\"SERVICIO DE SALUD TALCAHUANO HOSPITAL DE\"},{\"CodigoEmpresa\":\"7106\",\"NombreEmpresa\":\"SERVICIO DE SALUD VALDIVIA\"},{\"CodigoEmpresa\":\"7410\",\"NombreEmpresa\":\"SERVICIO DE SALUD VALDIVIA HOSPITAL BASE\"},{\"CodigoEmpresa\":\"7239\",\"NombreEmpresa\":\"SERVICIO DE SALUD VALPARAISO SAN ANTONIO\"},{\"CodigoEmpresa\":\"7153\",\"NombreEmpresa\":\"Servicio de Salud Viña del Mar - Quillota\"},{\"CodigoEmpresa\":\"6965\",\"NombreEmpresa\":\"SERVICIO DE VIVIENDA Y URBANIZACION AREA METROPOLITANA\"},{\"CodigoEmpresa\":\"225773\",\"NombreEmpresa\":\"SERVICIO ELECTORAL\"},{\"CodigoEmpresa\":\"1723291\",\"NombreEmpresa\":\"SERVICIO LOCAL DE EDUCACION PÚBLICA DE ATACAMA\"},{\"CodigoEmpresa\":\"7179\",\"NombreEmpresa\":\"Servicio Médico Legal\"},{\"CodigoEmpresa\":\"7479\",\"NombreEmpresa\":\"SERVICIO NAC DE SALUD HOSPITAL TRAUMATOLOGICO\"},{\"CodigoEmpresa\":\"6952\",\"NombreEmpresa\":\"Servicio Nacional de Aduanas\"},{\"CodigoEmpresa\":\"6962\",\"NombreEmpresa\":\"Servicio Nacional de Capacitación y Empleo\"},{\"CodigoEmpresa\":\"7210\",\"NombreEmpresa\":\"Servicio Nacional de Geología y Minería\"},{\"CodigoEmpresa\":\"6948\",\"NombreEmpresa\":\"Servicio Nacional de la Mujer\"},{\"CodigoEmpresa\":\"7017\",\"NombreEmpresa\":\"Servicio Nacional de Menores\"},{\"CodigoEmpresa\":\"7008\",\"NombreEmpresa\":\"SERVICIO NACIONAL DE PESCA\"},{\"CodigoEmpresa\":\"7033\",\"NombreEmpresa\":\"Servicio Nacional de Pesca VI Región\"},{\"CodigoEmpresa\":\"1468521\",\"NombreEmpresa\":\"SERVICIO NACIONAL DE SALUD HOSPITAL CARLOS VAN BUREN\"},{\"CodigoEmpresa\":\"116754\",\"NombreEmpresa\":\"SERVICIO NACIONAL DE SALUD HOSPITAL DE C\"},{\"CodigoEmpresa\":\"7332\",\"NombreEmpresa\":\"SERVICIO NACIONAL DE SALUD HOSPITAL DE CORONEL\"},{\"CodigoEmpresa\":\"7190\",\"NombreEmpresa\":\"SERVICIO NACIONAL DE TURISMO\"},{\"CodigoEmpresa\":\"7032\",\"NombreEmpresa\":\"SERVICIO NACIONAL DEL ADULTO MAYOR\"},{\"CodigoEmpresa\":\"7230\",\"NombreEmpresa\":\"Servicio Nacional del Consumidor - SERNAC\"},{\"CodigoEmpresa\":\"7011\",\"NombreEmpresa\":\"SERVICIO NACIONAL DEL PATRIMONIO CULTURAL\"},{\"CodigoEmpresa\":\"278907\",\"NombreEmpresa\":\"Servicio Regional de la Vivienda y Urbanización Arica y Parinacota\"},{\"CodigoEmpresa\":\"7433\",\"NombreEmpresa\":\"SERVICIO SALUD ARAUCANIA NORTE HOSPITAL CURACAUTIN\"},{\"CodigoEmpresa\":\"7104\",\"NombreEmpresa\":\"SERVICIO SALUD DEL RELONCAVI\"},{\"CodigoEmpresa\":\"6923\",\"NombreEmpresa\":\"SERVIU I Región\"},{\"CodigoEmpresa\":\"6974\",\"NombreEmpresa\":\"SERVIU II Región\"},{\"CodigoEmpresa\":\"6972\",\"NombreEmpresa\":\"SERVIU IV Región\"},{\"CodigoEmpresa\":\"6980\",\"NombreEmpresa\":\"SERVIU IX Region\"},{\"CodigoEmpresa\":\"6975\",\"NombreEmpresa\":\"SERVIU REGION DE ATACAMA\"},{\"CodigoEmpresa\":\"6979\",\"NombreEmpresa\":\"SERVIU REGION DEL BIO BIO\"},{\"CodigoEmpresa\":\"6968\",\"NombreEmpresa\":\"SERVIU V Región\"},{\"CodigoEmpresa\":\"6977\",\"NombreEmpresa\":\"SERVIU VI Región\"},{\"CodigoEmpresa\":\"6978\",\"NombreEmpresa\":\"SERVIU VII Región\"},{\"CodigoEmpresa\":\"6981\",\"NombreEmpresa\":\"SERVIU X Región\"},{\"CodigoEmpresa\":\"6982\",\"NombreEmpresa\":\"SERVIU XI Región\"},{\"CodigoEmpresa\":\"6964\",\"NombreEmpresa\":\"SERVIU XII Región y Antartica Chilena\"},{\"CodigoEmpresa\":\"7333\",\"NombreEmpresa\":\"Subdirección del Ambiente Servicio de Salud Thno.\"},{\"CodigoEmpresa\":\"7065\",\"NombreEmpresa\":\"Subsecretaría de Aviación\"},{\"CodigoEmpresa\":\"7036\",\"NombreEmpresa\":\"Subsecretaría de Carabineros\"},{\"CodigoEmpresa\":\"1689493\",\"NombreEmpresa\":\"SUBSECRETARIA DE CIENCIA, TECNOLOGIA, CONOCIMIENTO E INNOVACION\"},{\"CodigoEmpresa\":\"7081\",\"NombreEmpresa\":\"Subsecretaría de Desarrollo Regional\"},{\"CodigoEmpresa\":\"7078\",\"NombreEmpresa\":\"SubSecretaria de Economía y Empresas de Menor Tamaño\"},{\"CodigoEmpresa\":\"1155673\",\"NombreEmpresa\":\"Subsecretaría de Energía\"},{\"CodigoEmpresa\":\"6943\",\"NombreEmpresa\":\"Subsecretaría de Hacienda\"},{\"CodigoEmpresa\":\"7217\",\"NombreEmpresa\":\"Subsecretaría de Investigaciones\"},{\"CodigoEmpresa\":\"7080\",\"NombreEmpresa\":\"Subsecretaría de Justicia\"},{\"CodigoEmpresa\":\"7359\",\"NombreEmpresa\":\"SUBSECRETARÍA DE LAS CULTURAS Y LAS ARTES\"},{\"CodigoEmpresa\":\"7221\",\"NombreEmpresa\":\"Subsecretaría de Marina\"},{\"CodigoEmpresa\":\"7018\",\"NombreEmpresa\":\"Subsecretaría de Minería\"},{\"CodigoEmpresa\":\"7211\",\"NombreEmpresa\":\"Subsecretaría de Pesca y Acuicultura\"},{\"CodigoEmpresa\":\"7191\",\"NombreEmpresa\":\"Subsecretaría de Previsión Social\"},{\"CodigoEmpresa\":\"7227\",\"NombreEmpresa\":\"Subsecretaría de R.R.E.E.\"},{\"CodigoEmpresa\":\"1674041\",\"NombreEmpresa\":\"Subsecretaría de Relaciones Económicas Internacionales\"},{\"CodigoEmpresa\":\"7079\",\"NombreEmpresa\":\"Subsecretaría de Salud Pública\"},{\"CodigoEmpresa\":\"6947\",\"NombreEmpresa\":\"Subsecretaría de Servicios Sociales\"},{\"CodigoEmpresa\":\"6934\",\"NombreEmpresa\":\"Subsecretaría de Telecomunicaciones\"},{\"CodigoEmpresa\":\"7007\",\"NombreEmpresa\":\"Subsecretaría de Transportes\"},{\"CodigoEmpresa\":\"1198788\",\"NombreEmpresa\":\"Subsecretaría del Medio Ambiente\"},{\"CodigoEmpresa\":\"7189\",\"NombreEmpresa\":\"SUBSECRETARIA DEL MINISTERIO DE AGRICULT\"},{\"CodigoEmpresa\":\"6958\",\"NombreEmpresa\":\"SUBSECRETARIA DEL MINISTERIO DE EDUCACION PUBLICA\"},{\"CodigoEmpresa\":\"6951\",\"NombreEmpresa\":\"SUBSECRETARIA DEL MINISTERIO DE LA VIVIENDA Y URBANISMO\"},{\"CodigoEmpresa\":\"6939\",\"NombreEmpresa\":\"Subsecretaria del Trabajo\"},{\"CodigoEmpresa\":\"128260\",\"NombreEmpresa\":\"SUPERINTENDENCIA DE CASINOS DE JUEGO\"},{\"CodigoEmpresa\":\"7232\",\"NombreEmpresa\":\"Superintendencia de Electricidad y Combustibles\"},{\"CodigoEmpresa\":\"7181\",\"NombreEmpresa\":\"Superintendencia de Insolvencia y Reemprendimiento\"},{\"CodigoEmpresa\":\"93096\",\"NombreEmpresa\":\"Superintendencia de Pensiones\"},{\"CodigoEmpresa\":\"6930\",\"NombreEmpresa\":\"Superintendencia de Salud\"},{\"CodigoEmpresa\":\"7114\",\"NombreEmpresa\":\"Superintendencia de Seguridad Social\"},{\"CodigoEmpresa\":\"7192\",\"NombreEmpresa\":\"Superintendencia de Servicios Sanitarios\"},{\"CodigoEmpresa\":\"6956\",\"NombreEmpresa\":\"Tesorería General de la República\"},{\"CodigoEmpresa\":\"1083414\",\"NombreEmpresa\":\"UNIDAD ADMINISTRADORA DE LOS TRIBUNALES TRIBUTARIOS Y ADUANEROS\"},{\"CodigoEmpresa\":\"85017\",\"NombreEmpresa\":\"Unidad de Analisis Financiero\"},{\"CodigoEmpresa\":\"7254\",\"NombreEmpresa\":\"UNIVERSIDAD ARTURO PRAT SEDE IQUIQUE\"},{\"CodigoEmpresa\":\"130585\",\"NombreEmpresa\":\"Universidad de Antofagasta\"},{\"CodigoEmpresa\":\"103916\",\"NombreEmpresa\":\"universidad de atacama\"},{\"CodigoEmpresa\":\"7251\",\"NombreEmpresa\":\"Universidad de Chile\"},{\"CodigoEmpresa\":\"277559\",\"NombreEmpresa\":\"Universidad de la Frontera\"},{\"CodigoEmpresa\":\"7319\",\"NombreEmpresa\":\"Universidad de La Serena\"},{\"CodigoEmpresa\":\"266724\",\"NombreEmpresa\":\"Universidad de Los Lagos\"},{\"CodigoEmpresa\":\"257227\",\"NombreEmpresa\":\"Universidad de Magallanes\"},{\"CodigoEmpresa\":\"130972\",\"NombreEmpresa\":\"UNIVERSIDAD DE PLAYA ANCHA DE CIENCIAS DE LA EDUC.\"},{\"CodigoEmpresa\":\"212299\",\"NombreEmpresa\":\"Universidad de Santiago de Chile\"},{\"CodigoEmpresa\":\"7147\",\"NombreEmpresa\":\"Universidad de Talca\"},{\"CodigoEmpresa\":\"204439\",\"NombreEmpresa\":\"Universidad de Tarapacá\"},{\"CodigoEmpresa\":\"96996\",\"NombreEmpresa\":\"Universidad de Valparaíso\"},{\"CodigoEmpresa\":\"99805\",\"NombreEmpresa\":\"Universidad del Bío-Bío\"},{\"CodigoEmpresa\":\"164268\",\"NombreEmpresa\":\"UNIVERSIDAD METROPOLITANA DE CIENCIAS DE LA EDUCAC\"},{\"CodigoEmpresa\":\"126109\",\"NombreEmpresa\":\"UNIVERSIDAD TECNOLOGICA METROPOLITANA\"},{\"CodigoEmpresa\":\"7438\",\"NombreEmpresa\":\"Zona Franca de Iquique\"}]}'"
            ]
          },
          "metadata": {
            "tags": []
          },
          "execution_count": 124
        }
      ]
    },
    {
      "cell_type": "code",
      "metadata": {
        "id": "gFPa16fTLeQL"
      },
      "source": [
        "respuestajson2 = json.loads(respuesta2.text)"
      ],
      "execution_count": 125,
      "outputs": []
    },
    {
      "cell_type": "code",
      "metadata": {
        "id": "EcegP0D2Letg",
        "outputId": "1233daf5-0c19-4f06-a2d9-0a57411b5a82",
        "colab": {
          "base_uri": "https://localhost:8080/",
          "height": 53
        }
      },
      "source": [
        "print(respuestajson2)"
      ],
      "execution_count": 126,
      "outputs": [
        {
          "output_type": "stream",
          "text": [
            "{'Cantidad': 863, 'FechaCreacion': '2020-10-21T09:59:19.193', 'listaEmpresas': [{'CodigoEmpresa': '1034640', 'NombreEmpresa': ' CORPORACION MUNICIPAL DE PEÑALOLEN PARA EL DESARROLLO SOCIAL '}, {'CodigoEmpresa': '7311', 'NombreEmpresa': ' Hospital de enfermedades InfecciDr. Lucio Córdova'}, {'CodigoEmpresa': '7086', 'NombreEmpresa': 'AGENCIA CHILENA DE COOPERACION INTERNACIONAL PARA EL DESARROLLO'}, {'CodigoEmpresa': '1224636', 'NombreEmpresa': 'Agencia Chilena de Eficiencia Energética'}, {'CodigoEmpresa': '7193', 'NombreEmpresa': 'Agencia de Promoción de la Inversión Extranjera'}, {'CodigoEmpresa': '7212', 'NombreEmpresa': 'Agencia Nacional de Inteligencia'}, {'CodigoEmpresa': '111875', 'NombreEmpresa': 'ARMADA DE CHILE'}, {'CodigoEmpresa': '6959', 'NombreEmpresa': 'Banco del Estado de Chile'}, {'CodigoEmpresa': '7265', 'NombreEmpresa': 'Biblioteca del Congreso Nacional'}, {'CodigoEmpresa': '7038', 'NombreEmpresa': 'Bienestar del Registro Civil'}, {'CodigoEmpresa': '7313', 'NombreEmpresa': 'C.D.T. Doctora Eloisa Díaz'}, {'CodigoEmpresa': '156657', 'NombreEmpresa': 'Cámara de Diputados de Chile'}, {'CodigoEmpresa': '7175', 'NombreEmpresa': 'CAPREDENA'}, {'CodigoEmpresa': '7198', 'NombreEmpresa': 'Casa de Moneda de Chile'}, {'CodigoEmpresa': '6957', 'NombreEmpresa': 'Central de Abastecimiento S.N.S.S. -  CENABAST'}, {'CodigoEmpresa': '1339711', 'NombreEmpresa': 'CENTRO ASISTENCIAL NORTE DE ANTOFAGASTA'}, {'CodigoEmpresa': '1741046', 'NombreEmpresa': 'CENTRO DE FORMACION TECNICA DE LA REGION DE ATACAMA'}, {'CodigoEmpresa': '1700248', 'NombreEmpresa': 'CENTRO DE FORMACIÓN TÉCNICA ESTATAL DE MAGALLANES Y ANTARTICA CHILENA'}, {'CodigoEmpresa': '1741019', 'NombreEmpresa': 'Centro de Formación Técnica Estatal Región de Arica y Parinacota'}, {'CodigoEmpresa': '7380', 'NombreEmpresa': 'Centro de Información de Recursos Naturales'}, {'CodigoEmpresa': '7317', 'NombreEmpresa': 'Centro de Referencia de Salud de Maipú'}, {'CodigoEmpresa': '7473', 'NombreEmpresa': 'Centro de Salud Dr. Víctor M. Fernández'}, {'CodigoEmpresa': '7461', 'NombreEmpresa': 'Centro Diagnóstico Terapéutico Los Angeles'}, {'CodigoEmpresa': '7373', 'NombreEmpresa': 'Centro Referencia Salud Doctor Salvador Allende G.'}, {'CodigoEmpresa': '118627', 'NombreEmpresa': 'Cesfam Dr. Alejandro Gutierrez'}, {'CodigoEmpresa': '111870', 'NombreEmpresa': 'COMANDO DE APOYO A LA FUERZA'}, {'CodigoEmpresa': '192032', 'NombreEmpresa': 'Comisión Administradora del Sistema de Créditos para Estudios Superiores'}, {'CodigoEmpresa': '7219', 'NombreEmpresa': 'Comisión Chilena de Energía Nuclear'}, {'CodigoEmpresa': '7075', 'NombreEmpresa': 'Comisión Chilena del Cobre - COCHILCO'}, {'CodigoEmpresa': '262897', 'NombreEmpresa': 'Comisión Nacional de Acreditación - CNA'}, {'CodigoEmpresa': '6938', 'NombreEmpresa': 'Comisión Nacional de Energía'}, {'CodigoEmpresa': '7213', 'NombreEmpresa': 'Comisión Nacional de Investigación Científica y Tecnológicas - CONICYT'}, {'CodigoEmpresa': '7186', 'NombreEmpresa': 'Comisión Nacional de Riego'}, {'CodigoEmpresa': '7016', 'NombreEmpresa': 'COMISION PARA EL MERCADO FINANCIERO'}, {'CodigoEmpresa': '7043', 'NombreEmpresa': 'Comité de Seguros del Agro'}, {'CodigoEmpresa': '7057', 'NombreEmpresa': 'Comité SEP'}, {'CodigoEmpresa': '7320', 'NombreEmpresa': 'Complejo Asistencial Dr. Sotero del Rio'}, {'CodigoEmpresa': '7375', 'NombreEmpresa': 'Complejo Asistencial Dr. Victor Ríos Ruíz'}, {'CodigoEmpresa': '7103', 'NombreEmpresa': 'Complejo Penitenciario de Valparaiso'}, {'CodigoEmpresa': '1090137', 'NombreEmpresa': 'CONGREGACIÓN HIJAS DE SANTA MARIA DE LA PROVIDENCIA'}, {'CodigoEmpresa': '6933', 'NombreEmpresa': 'Consejo de Defensa del Estado'}, {'CodigoEmpresa': '7224', 'NombreEmpresa': 'Consejo de Rectores de las Universidades Chilenas'}, {'CodigoEmpresa': '1692048', 'NombreEmpresa': 'CONSEJO FISCAL AUTONOMO'}, {'CodigoEmpresa': '7082', 'NombreEmpresa': 'Consejo Nacional de Educación'}, {'CodigoEmpresa': '1060064', 'NombreEmpresa': 'Consejo para la Transparencia'}, {'CodigoEmpresa': '118630', 'NombreEmpresa': 'Consultorio General Urbano Victor Domingo Silva'}, {'CodigoEmpresa': '7144', 'NombreEmpresa': 'Consultorio Gral. Urbano Violeta Parra'}, {'CodigoEmpresa': '7133', 'NombreEmpresa': 'Consultorio Miraflores'}, {'CodigoEmpresa': '7231', 'NombreEmpresa': 'Contraloría General de la República'}, {'CodigoEmpresa': '7354', 'NombreEmpresa': 'Corp. de Asistencia Judicial Región del Bío-Bío'}, {'CodigoEmpresa': '7058', 'NombreEmpresa': 'Corp. Municipal de Desarrollo Social Cerro Navia'}, {'CodigoEmpresa': '7342', 'NombreEmpresa': 'Corporacion Administrativa del Poder Judicial'}, {'CodigoEmpresa': '7235', 'NombreEmpresa': 'Corporación de Asistencia Judicial de la V Región'}, {'CodigoEmpresa': '272303', 'NombreEmpresa': 'Corporación de Asistencia Judicial de las Regiones de Tarapacá y Antofagasta'}, {'CodigoEmpresa': '7152', 'NombreEmpresa': 'Corporación de Asistencia Judicial RM'}, {'CodigoEmpresa': '1085182', 'NombreEmpresa': 'Corporación de Ecuación, Salud y Menores de Puerto Natales'}, {'CodigoEmpresa': '6942', 'NombreEmpresa': 'CORPORACION DE FOMENTO DE LA PRODUCCION'}, {'CodigoEmpresa': '1088974', 'NombreEmpresa': 'Corporación Municipal de Castro'}, {'CodigoEmpresa': '1035946', 'NombreEmpresa': 'Corporacion Municipal de Educacion'}, {'CodigoEmpresa': '1033466', 'NombreEmpresa': 'CORPORACIÓN MUNICIPAL DE EDUCACIÓN Y SALUD'}, {'CodigoEmpresa': '7105', 'NombreEmpresa': 'Corporación Municipal de la Florida'}, {'CodigoEmpresa': '7483', 'NombreEmpresa': 'Corporación Municipal de Panguipulli'}, {'CodigoEmpresa': '7183', 'NombreEmpresa': 'Corporación Nacional de Desarrollo Indígena - CONADI'}, {'CodigoEmpresa': '6924', 'NombreEmpresa': 'Corporación Nacional Forestal - CONAF'}, {'CodigoEmpresa': '7136', 'NombreEmpresa': 'CRS de Peñalolen Cordillera Oriente'}, {'CodigoEmpresa': '7129', 'NombreEmpresa': 'Defensa Civil de Chile'}, {'CodigoEmpresa': '7034', 'NombreEmpresa': 'DEFENSORIA PENAL PUBLICA'}, {'CodigoEmpresa': '7299', 'NombreEmpresa': 'Departamento de Salud Parral'}, {'CodigoEmpresa': '7228', 'NombreEmpresa': 'Dirección Administrativa - Min. Defensa'}, {'CodigoEmpresa': '7466', 'NombreEmpresa': 'Dirección Atención Primaria, Serv.Salud M.Central'}, {'CodigoEmpresa': '7243', 'NombreEmpresa': 'Dirección de Aeropuertos - MOPTT'}, {'CodigoEmpresa': '7245', 'NombreEmpresa': 'Dirección de Arquitectura - MOP'}, {'CodigoEmpresa': '6945', 'NombreEmpresa': 'Dirección de Compras y Contratación Pública'}, {'CodigoEmpresa': '7068', 'NombreEmpresa': 'Dirección de Contabilidad y Finanzas MOP'}, {'CodigoEmpresa': '7244', 'NombreEmpresa': 'Dirección de Fiscalía - MOPTT'}, {'CodigoEmpresa': '113812', 'NombreEmpresa': 'DIRECCION DE LOGISTICA DE CARABINEROS'}, {'CodigoEmpresa': '7242', 'NombreEmpresa': 'Dirección de Obras Hidráulicas - MOPTT'}, {'CodigoEmpresa': '7246', 'NombreEmpresa': 'Dirección de Obras Portuarias - MOPTT'}, {'CodigoEmpresa': '7067', 'NombreEmpresa': 'Dirección de Planeamiento - MOPTT'}, {'CodigoEmpresa': '7012', 'NombreEmpresa': 'Dirección de Presupuestos'}, {'CodigoEmpresa': '6927', 'NombreEmpresa': 'Dirección de Previsión de Carabineros de Chile'}, {'CodigoEmpresa': '7010', 'NombreEmpresa': 'Dirección de Relaciones Económicas'}, {'CodigoEmpresa': '118628', 'NombreEmpresa': 'Dirección de Salud Rural'}, {'CodigoEmpresa': '7000', 'NombreEmpresa': 'Dirección del Trabajo'}, {'CodigoEmpresa': '7202', 'NombreEmpresa': 'Dirección General de Aeronáutica Civil'}, {'CodigoEmpresa': '7209', 'NombreEmpresa': 'Dirección General de Crédito Prendario - DICREP'}, {'CodigoEmpresa': '6925', 'NombreEmpresa': 'DIRECCION GENERAL DE GENDARMERIA DE CHIL'}, {'CodigoEmpresa': '7127', 'NombreEmpresa': 'Dirección General de Movilización Nacional - DGMN'}, {'CodigoEmpresa': '7250', 'NombreEmpresa': 'Dirección General de Obras Publicas - MOP'}, {'CodigoEmpresa': '1674056', 'NombreEmpresa': 'Dirección General de Promoción de Exportaciones'}, {'CodigoEmpresa': '7187', 'NombreEmpresa': 'Dirección Nacional de Fronteras y Límites del Estado'}, {'CodigoEmpresa': '7371', 'NombreEmpresa': 'Dirección Nacional del Servicio Civil'}, {'CodigoEmpresa': '7295', 'NombreEmpresa': 'DIRECCION SERVICIO DE SALUD TALCAHUANO'}, {'CodigoEmpresa': '7272', 'NombreEmpresa': 'DIRECCION SERVICIO SALUD METROPOLITANO O'}, {'CodigoEmpresa': '7208', 'NombreEmpresa': 'Empresa de Abastecimiento de Zonas Aisladas- EMAZA'}, {'CodigoEmpresa': '7467', 'NombreEmpresa': 'Empresa de Servicios Sanitarios de Atacama'}, {'CodigoEmpresa': '7128', 'NombreEmpresa': 'Empresa de Servicios Sanitarios de la Araucania'}, {'CodigoEmpresa': '7358', 'NombreEmpresa': 'Empresa de Servicios Sanitarios de Magallanes S.A.'}, {'CodigoEmpresa': '7138', 'NombreEmpresa': 'Empresa de Servicios Sanitarios de Tarapacá S.A.'}, {'CodigoEmpresa': '6961', 'NombreEmpresa': 'Empresa Nacional de Minería'}, {'CodigoEmpresa': '7149', 'NombreEmpresa': 'Empresa Nacional del Petróleo'}, {'CodigoEmpresa': '1069779', 'NombreEmpresa': 'EMPRESA PORTUARIA ANTOFAGASTA'}, {'CodigoEmpresa': '1085179', 'NombreEmpresa': 'Empresa Portuaria Arica'}, {'CodigoEmpresa': '7493', 'NombreEmpresa': 'Empresa Portuaria Iquique'}, {'CodigoEmpresa': '7463', 'NombreEmpresa': 'Empresa Portuaria Puerto Montt'}, {'CodigoEmpresa': '1076044', 'NombreEmpresa': 'EMPRESA PORTUARIA SAN ANTONIO'}, {'CodigoEmpresa': '1061586', 'NombreEmpresa': 'EMPRESA PORTUARIA VALPARAISO'}, {'CodigoEmpresa': '7266', 'NombreEmpresa': 'Estado Mayor Conjunto'}, {'CodigoEmpresa': '7076', 'NombreEmpresa': 'FISCALIA NACIONAL ECONOMICA'}, {'CodigoEmpresa': '7182', 'NombreEmpresa': 'FONDO DE SOLIDARIDAD E INVERSION SOCIAL'}, {'CodigoEmpresa': '220665', 'NombreEmpresa': 'FONDO HOSPITAL DE LA DIRECCION DE PREVISION DE CARABINEROS DE CHILE'}, {'CodigoEmpresa': '6954', 'NombreEmpresa': 'Fondo Nacional de Salud - FONASA'}, {'CodigoEmpresa': '6946', 'NombreEmpresa': 'Fuerza Aérea de Chile'}, {'CodigoEmpresa': '1090451', 'NombreEmpresa': 'FUND NACIONAL DE ORQUESTAS JUVENILES E INFANTILES DE CHILE'}, {'CodigoEmpresa': '1736867', 'NombreEmpresa': 'Fundación para la Innovación Agraria'}, {'CodigoEmpresa': '7286', 'NombreEmpresa': 'Gobernación  Provincial de Choapa'}, {'CodigoEmpresa': '7379', 'NombreEmpresa': 'Gobernación de Cachapoal'}, {'CodigoEmpresa': '7134', 'NombreEmpresa': 'Gobernación Provincia Capitan Prat'}, {'CodigoEmpresa': '7284', 'NombreEmpresa': 'Gobernación Provincia Cordillera'}, {'CodigoEmpresa': '7271', 'NombreEmpresa': 'GOBERNACION PROVINCIA DE CHACABUCO'}, {'CodigoEmpresa': '7347', 'NombreEmpresa': 'Gobernación Provincia de Elqui'}, {'CodigoEmpresa': '7148', 'NombreEmpresa': 'Gobernación Provincial Antártica'}, {'CodigoEmpresa': '7151', 'NombreEmpresa': 'Gobernación Provincial Antofagasta'}, {'CodigoEmpresa': '7387', 'NombreEmpresa': 'Gobernación Provincial Cardenal Caro'}, {'CodigoEmpresa': '7281', 'NombreEmpresa': 'Gobernación Provincial Cauquenes'}, {'CodigoEmpresa': '7499', 'NombreEmpresa': 'Gobernación Provincial Chiloe'}, {'CodigoEmpresa': '7450', 'NombreEmpresa': 'Gobernación Provincial de Arauco'}, {'CodigoEmpresa': '7357', 'NombreEmpresa': 'Gobernación Provincial de Arica'}, {'CodigoEmpresa': '7059', 'NombreEmpresa': 'Gobernación Provincial de Aysén'}, {'CodigoEmpresa': '7061', 'NombreEmpresa': 'GOBERNACION PROVINCIAL DE CAUTIN'}, {'CodigoEmpresa': '7155', 'NombreEmpresa': 'Gobernación Provincial de Chañaral'}, {'CodigoEmpresa': '7376', 'NombreEmpresa': 'Gobernación Provincial de Colchagua'}, {'CodigoEmpresa': '7300', 'NombreEmpresa': 'Gobernación Provincial de Concepción'}, {'CodigoEmpresa': '7145', 'NombreEmpresa': 'Gobernación Provincial de Copiapó'}, {'CodigoEmpresa': '7292', 'NombreEmpresa': 'Gobernación Provincial de Coyhaique'}, {'CodigoEmpresa': '7263', 'NombreEmpresa': 'Gobernación Provincial de Curicó'}, {'CodigoEmpresa': '7237', 'NombreEmpresa': 'GOBERNACION PROVINCIAL DE EL LOA'}, {'CodigoEmpresa': '7309', 'NombreEmpresa': 'GOBERNACION PROVINCIAL DE GRAL CARRERA'}, {'CodigoEmpresa': '7150', 'NombreEmpresa': 'Gobernación Provincial de Huasco'}, {'CodigoEmpresa': '7349', 'NombreEmpresa': 'Gobernación Provincial de Iquique'}, {'CodigoEmpresa': '135959', 'NombreEmpresa': 'Gobernación Provincial de Isla de Pascua'}, {'CodigoEmpresa': '7037', 'NombreEmpresa': 'Gobernación Provincial de Limarí'}, {'CodigoEmpresa': '7282', 'NombreEmpresa': 'Gobernación Provincial de Linares'}, {'CodigoEmpresa': '7267', 'NombreEmpresa': 'Gobernación Provincial de Llanquihue'}, {'CodigoEmpresa': '7009', 'NombreEmpresa': 'Gobernación Provincial de Los Andes'}, {'CodigoEmpresa': '7484', 'NombreEmpresa': 'Gobernación Provincial de Magallanes'}, {'CodigoEmpresa': '7253', 'NombreEmpresa': 'Gobernación Provincial de Maipo'}, {'CodigoEmpresa': '7275', 'NombreEmpresa': 'Gobernación Provincial de Malleco'}, {'CodigoEmpresa': '7142', 'NombreEmpresa': 'Gobernación Provincial de Ñuble'}, {'CodigoEmpresa': '7283', 'NombreEmpresa': 'GOBERNACION PROVINCIAL DE OSORNO'}, {'CodigoEmpresa': '7252', 'NombreEmpresa': 'Gobernación Provincial de Palena'}, {'CodigoEmpresa': '7350', 'NombreEmpresa': 'GOBERNACION PROVINCIAL DE PARINACOTA'}, {'CodigoEmpresa': '7420', 'NombreEmpresa': 'Gobernación Provincial de Petorca'}, {'CodigoEmpresa': '7346', 'NombreEmpresa': 'GOBERNACION PROVINCIAL DE QUILLOTA'}, {'CodigoEmpresa': '269793', 'NombreEmpresa': 'Gobernación Provincial de Ranco'}, {'CodigoEmpresa': '111119', 'NombreEmpresa': 'Gobernación Provincial de San Antonio'}, {'CodigoEmpresa': '7055', 'NombreEmpresa': 'Gobernación Provincial de Talagante'}, {'CodigoEmpresa': '7269', 'NombreEmpresa': 'Gobernación Provincial de Talca'}, {'CodigoEmpresa': '7063', 'NombreEmpresa': 'Gobernación Provincial de Tocopilla'}, {'CodigoEmpresa': '7264', 'NombreEmpresa': 'Gobernación Provincial de Última Esperanza'}, {'CodigoEmpresa': '7322', 'NombreEmpresa': 'Gobernación Provincial de Valdivia'}, {'CodigoEmpresa': '7352', 'NombreEmpresa': 'Gobernación Provincial de Valparaíso'}, {'CodigoEmpresa': '7140', 'NombreEmpresa': 'Gobernación Provincial del Bío-Bío'}, {'CodigoEmpresa': '275314', 'NombreEmpresa': 'Gobernación Provincial del Tamarugal'}, {'CodigoEmpresa': '7056', 'NombreEmpresa': 'Gobernación Provincial Melipilla'}, {'CodigoEmpresa': '7495', 'NombreEmpresa': 'Gobernación Provincial San Felipe'}, {'CodigoEmpresa': '7381', 'NombreEmpresa': 'Gobernación Provincial Tierra del Fuego'}, {'CodigoEmpresa': '1163597', 'NombreEmpresa': 'Gobierno Provincial de Marga Marga'}, {'CodigoEmpresa': '7199', 'NombreEmpresa': 'Gobierno Regional de Antofagasta'}, {'CodigoEmpresa': '267965', 'NombreEmpresa': 'Gobierno Regional de Arica y Parinacota'}, {'CodigoEmpresa': '7077', 'NombreEmpresa': 'GOBIERNO REGIONAL DE ATACAMA'}, {'CodigoEmpresa': '7085', 'NombreEmpresa': 'Gobierno Regional de Aysén'}, {'CodigoEmpresa': '6940', 'NombreEmpresa': 'Gobierno Regional de Coquimbo'}, {'CodigoEmpresa': '7013', 'NombreEmpresa': 'Gobierno Regional de La Araucanía'}, {'CodigoEmpresa': '7015', 'NombreEmpresa': 'Gobierno Regional de la Región del Bío-Bío'}, {'CodigoEmpresa': '7207', 'NombreEmpresa': 'Gobierno Regional de Los Lagos'}, {'CodigoEmpresa': '267799', 'NombreEmpresa': 'GOBIERNO REGIONAL DE LOS RIOS'}, {'CodigoEmpresa': '7087', 'NombreEmpresa': 'GOBIERNO REGIONAL DE MAGALLANES Y ANTARTICA CHILEN'}, {'CodigoEmpresa': '7084', 'NombreEmpresa': 'Gobierno Regional de Tarapacá'}, {'CodigoEmpresa': '7172', 'NombreEmpresa': 'Gobierno Regional de Valparaíso'}, {'CodigoEmpresa': '7222', 'NombreEmpresa': 'Gobierno Regional Metropolitano'}, {'CodigoEmpresa': '7200', 'NombreEmpresa': 'GOBIERNO REGIONAL VI REGION DEL LI BERTADOR B O\"HIGGINS'}, {'CodigoEmpresa': '7223', 'NombreEmpresa': 'GOBIERNO REGIONAL VII REGION'}, {'CodigoEmpresa': '103933', 'NombreEmpresa': 'Hermanas Misioneras Franciscanas de Purulón'}, {'CodigoEmpresa': '7403', 'NombreEmpresa': 'Hospital  Lonquimay'}, {'CodigoEmpresa': '7472', 'NombreEmpresa': 'Hospital Andacollo'}, {'CodigoEmpresa': '7398', 'NombreEmpresa': 'Hospital Arauco'}, {'CodigoEmpresa': '7293', 'NombreEmpresa': 'HOSPITAL BARROS LUCO TRUDEAU'}, {'CodigoEmpresa': '7393', 'NombreEmpresa': 'Hospital Base Osorno'}, {'CodigoEmpresa': '7131', 'NombreEmpresa': 'Hospital Carahue'}, {'CodigoEmpresa': '7494', 'NombreEmpresa': 'Hospital Carlos Cisternas de Calama'}, {'CodigoEmpresa': '7256', 'NombreEmpresa': 'Hospital Cauquenes'}, {'CodigoEmpresa': '7297', 'NombreEmpresa': 'HOSPITAL CLINICO DE MAGALLANES DR. LAUTARO NAVARRO AVARIA'}, {'CodigoEmpresa': '1379869', 'NombreEmpresa': 'Hospital Clínico Metropolitano El Carmen Doctor Luis Valentín Ferrada'}, {'CodigoEmpresa': '1375151', 'NombreEmpresa': 'HOSPITAL CLINICO METROPOLITANO LA FLORIDA DRA ELOISA DIAZ INSUNZA'}, {'CodigoEmpresa': '7326', 'NombreEmpresa': 'Hospital Clínico San Borja Arriarán'}, {'CodigoEmpresa': '7480', 'NombreEmpresa': 'Hospital Cochrane'}, {'CodigoEmpresa': '7421', 'NombreEmpresa': 'Hospital Coinco'}, {'CodigoEmpresa': '7462', 'NombreEmpresa': 'Hospital Collipulli'}, {'CodigoEmpresa': '7330', 'NombreEmpresa': 'Hospital Combarbalá'}, {'CodigoEmpresa': '7137', 'NombreEmpresa': 'HOSPITAL COMUNITARIO DE SALUD FAMILIAR DE BULNES'}, {'CodigoEmpresa': '7400', 'NombreEmpresa': 'Hospital Contulmo'}, {'CodigoEmpresa': '7340', 'NombreEmpresa': 'Hospital Coyhaique'}, {'CodigoEmpresa': '7399', 'NombreEmpresa': 'Hospital Curanilahue'}, {'CodigoEmpresa': '7452', 'NombreEmpresa': 'Hospital Curicó'}, {'CodigoEmpresa': '1286160', 'NombreEmpresa': 'HOSPITAL DE CASTRO DR. AUGUSTO RIFFART'}, {'CodigoEmpresa': '7279', 'NombreEmpresa': 'Hospital de Chanco'}, {'CodigoEmpresa': '7413', 'NombreEmpresa': 'Hospital de Chañaral'}, {'CodigoEmpresa': '7441', 'NombreEmpresa': 'Hospital de Chimbarongo'}, {'CodigoEmpresa': '7277', 'NombreEmpresa': 'Hospital de Constitución'}, {'CodigoEmpresa': '7411', 'NombreEmpresa': 'Hospital de Copiapó'}, {'CodigoEmpresa': '7426', 'NombreEmpresa': 'Hospital de Corral'}, {'CodigoEmpresa': '7291', 'NombreEmpresa': 'Hospital de Cunco'}, {'CodigoEmpresa': '7455', 'NombreEmpresa': 'Hospital de Curacaví'}, {'CodigoEmpresa': '7278', 'NombreEmpresa': 'Hospital de Curepto'}, {'CodigoEmpresa': '7414', 'NombreEmpresa': 'Hospital de Huasco'}, {'CodigoEmpresa': '7468', 'NombreEmpresa': 'Hospital de Illapel'}, {'CodigoEmpresa': '7429', 'NombreEmpresa': 'Hospital De la Unión'}, {'CodigoEmpresa': '7424', 'NombreEmpresa': 'Hospital de Lanco'}, {'CodigoEmpresa': '7439', 'NombreEmpresa': 'Hospital de Litueche'}, {'CodigoEmpresa': '7447', 'NombreEmpresa': 'Hospital de Lolol'}, {'CodigoEmpresa': '7156', 'NombreEmpresa': 'Hospital de Loncoche'}, {'CodigoEmpresa': '7425', 'NombreEmpresa': 'Hospital de los Lagos'}, {'CodigoEmpresa': '7442', 'NombreEmpresa': 'Hospital de Marchigue'}, {'CodigoEmpresa': '7370', 'NombreEmpresa': 'Hospital de Mejillones'}, {'CodigoEmpresa': '7458', 'NombreEmpresa': 'Hospital de Melipilla'}, {'CodigoEmpresa': '1238659', 'NombreEmpresa': 'Hospital de Misión San Juan de la Costa'}, {'CodigoEmpresa': '7280', 'NombreEmpresa': 'Hospital de MOLINA'}, {'CodigoEmpresa': '7434', 'NombreEmpresa': 'Hospital de Mulchén'}, {'CodigoEmpresa': '7445', 'NombreEmpresa': 'Hospital de Nancagua'}, {'CodigoEmpresa': '7045', 'NombreEmpresa': 'Hospital de Niños Roberto del Rio'}, {'CodigoEmpresa': '7422', 'NombreEmpresa': 'Hospital de Paillaco'}, {'CodigoEmpresa': '7459', 'NombreEmpresa': 'Hospital de Peñaflor'}, {'CodigoEmpresa': '7444', 'NombreEmpresa': 'Hospital de Peumo'}, {'CodigoEmpresa': '7287', 'NombreEmpresa': 'HOSPITAL DE PUERTO OCTAY'}, {'CodigoEmpresa': '7465', 'NombreEmpresa': 'Hospital de Purén'}, {'CodigoEmpresa': '7327', 'NombreEmpresa': 'Hospital de Purranque'}, {'CodigoEmpresa': '7440', 'NombreEmpresa': 'Hospital de Rengo'}, {'CodigoEmpresa': '7323', 'NombreEmpresa': 'Hospital de Salamanca'}, {'CodigoEmpresa': '7448', 'NombreEmpresa': 'Hospital de San Fernando'}, {'CodigoEmpresa': '7443', 'NombreEmpresa': 'Hospital de San Vicente de Tagua Tagua'}, {'CodigoEmpresa': '7314', 'NombreEmpresa': 'Hospital de Santa Cruz'}, {'CodigoEmpresa': '7457', 'NombreEmpresa': 'Hospital de Talagante'}, {'CodigoEmpresa': '7391', 'NombreEmpresa': 'Hospital de Taltal'}, {'CodigoEmpresa': '7460', 'NombreEmpresa': 'HOSPITAL DE URGENCIA ASISTENCIA PUBLICA DR ALEJANDRO DEL RIO'}, {'CodigoEmpresa': '1238663', 'NombreEmpresa': 'Hospital del Perpetuo Socorro de Quilacahuin'}, {'CodigoEmpresa': '7428', 'NombreEmpresa': 'Hospital del Salvador'}, {'CodigoEmpresa': '7415', 'NombreEmpresa': 'Hospital Diego de Almagro'}, {'CodigoEmpresa': '7046', 'NombreEmpresa': 'Hospital Doctor Hernán Henríquez Aravena'}, {'CodigoEmpresa': '6918', 'NombreEmpresa': 'Hospital Doctor Luis Calvo Mackenna'}, {'CodigoEmpresa': '7491', 'NombreEmpresa': 'Hospital Dr Victor Hugo  Möll de Cabildo'}, {'CodigoEmpresa': '7289', 'NombreEmpresa': 'Hospital Dr. Abraham Godoy Peña'}, {'CodigoEmpresa': '7310', 'NombreEmpresa': 'Hospital Dr. Augusto Essmann Burgos'}, {'CodigoEmpresa': '7383', 'NombreEmpresa': 'Hospital Dr. Felix Bulnes Cerda'}, {'CodigoEmpresa': '7324', 'NombreEmpresa': 'Hospital Dr. GGB'}, {'CodigoEmpresa': '6936', 'NombreEmpresa': 'Hospital Dr. Gustavo Fricke'}, {'CodigoEmpresa': '7386', 'NombreEmpresa': 'Hospital Dr. Marcos Chamorro Iglesias'}, {'CodigoEmpresa': '7344', 'NombreEmpresa': 'Hospital Dr. Mario Sánchez Vergara de La Calera'}, {'CodigoEmpresa': '7139', 'NombreEmpresa': 'Hospital El Carmen'}, {'CodigoEmpresa': '7390', 'NombreEmpresa': 'Hospital El Pino'}, {'CodigoEmpresa': '7475', 'NombreEmpresa': 'Hospital Florida'}, {'CodigoEmpresa': '7290', 'NombreEmpresa': 'Hospital Galvarino'}, {'CodigoEmpresa': '7490', 'NombreEmpresa': 'Hospital Geriátrico Paz de la Tarde'}, {'CodigoEmpresa': '7047', 'NombreEmpresa': 'Hospital Gorbea'}, {'CodigoEmpresa': '7042', 'NombreEmpresa': 'Hospital Herminda Martin'}, {'CodigoEmpresa': '7255', 'NombreEmpresa': 'Hospital Hualañé'}, {'CodigoEmpresa': '7389', 'NombreEmpresa': 'Hospital Huepil'}, {'CodigoEmpresa': '7401', 'NombreEmpresa': 'Hospital Intercultural Kallvu Llanka'}, {'CodigoEmpresa': '7487', 'NombreEmpresa': 'Hospital La Ligua'}, {'CodigoEmpresa': '7312', 'NombreEmpresa': 'Hospital La Serena'}, {'CodigoEmpresa': '7464', 'NombreEmpresa': 'Hospital Laja'}, {'CodigoEmpresa': '7419', 'NombreEmpresa': 'Hospital Las Higueras'}, {'CodigoEmpresa': '7402', 'NombreEmpresa': 'Hospital Lebu'}, {'CodigoEmpresa': '7258', 'NombreEmpresa': 'Hospital Linares'}, {'CodigoEmpresa': '7481', 'NombreEmpresa': 'Hospital Lota'}, {'CodigoEmpresa': '1076658', 'NombreEmpresa': 'HOSPITAL METROPOLITANO DE SANTIAGO'}, {'CodigoEmpresa': '7388', 'NombreEmpresa': 'Hospital Nacimiento'}, {'CodigoEmpresa': '7417', 'NombreEmpresa': 'Hospital Ovalle'}, {'CodigoEmpresa': '7331', 'NombreEmpresa': 'Hospital Padre Alberto Hurtado'}, {'CodigoEmpresa': '102393', 'NombreEmpresa': 'HOSPITAL PANGUIPULLI'}, {'CodigoEmpresa': '7259', 'NombreEmpresa': 'Hospital Parral'}, {'CodigoEmpresa': '7053', 'NombreEmpresa': 'Hospital Pedro Morales C.'}, {'CodigoEmpresa': '7446', 'NombreEmpresa': 'Hospital Penco - Lirquen'}, {'CodigoEmpresa': '7489', 'NombreEmpresa': 'Hospital Peñablanca'}, {'CodigoEmpresa': '7343', 'NombreEmpresa': 'Hospital Petorca'}, {'CodigoEmpresa': '7435', 'NombreEmpresa': 'Hospital Pichidegua'}, {'CodigoEmpresa': '7436', 'NombreEmpresa': 'Hospital Pichilemu'}, {'CodigoEmpresa': '7048', 'NombreEmpresa': 'Hospital Pitrufquén'}, {'CodigoEmpresa': '7412', 'NombreEmpresa': 'Hospital Provincial del Huasco Monseñor Fernando Ariztia Ruiz'}, {'CodigoEmpresa': '1216633', 'NombreEmpresa': 'HOSPITAL PSIQUIATRICO DR. PHILIPPE PINEL PUTAENDO'}, {'CodigoEmpresa': '7427', 'NombreEmpresa': 'Hospital Psiquiátrico El Peral'}, {'CodigoEmpresa': '7335', 'NombreEmpresa': 'Hospital Puerto Aysén'}, {'CodigoEmpresa': '7476', 'NombreEmpresa': 'Hospital Puerto Cisnes'}, {'CodigoEmpresa': '127018', 'NombreEmpresa': 'HOSPITAL PUERTO MONTT SERVICIO DE SALUD DEL RELONCAVI'}, {'CodigoEmpresa': '7307', 'NombreEmpresa': 'Hospital Puerto Saavedra'}, {'CodigoEmpresa': '7485', 'NombreEmpresa': 'Hospital Quilpué'}, {'CodigoEmpresa': '7348', 'NombreEmpresa': 'Hospital Quintero'}, {'CodigoEmpresa': '7423', 'NombreEmpresa': 'Hospital Río Bueno'}, {'CodigoEmpresa': '7470', 'NombreEmpresa': 'Hospital Rio Negro'}, {'CodigoEmpresa': '1215262', 'NombreEmpresa': 'Hospital San Antonio de Putaendo'}, {'CodigoEmpresa': '7469', 'NombreEmpresa': 'Hospital San Carlos'}, {'CodigoEmpresa': '7262', 'NombreEmpresa': 'Hospital San Javier'}, {'CodigoEmpresa': '7406', 'NombreEmpresa': 'Hospital San José'}, {'CodigoEmpresa': '1214332', 'NombreEmpresa': 'Hospital San Juan de Dios de Los Andes'}, {'CodigoEmpresa': '7405', 'NombreEmpresa': 'Hospital San Luis de Buin'}, {'CodigoEmpresa': '7345', 'NombreEmpresa': 'Hospital San Martín de Quillota'}, {'CodigoEmpresa': '7477', 'NombreEmpresa': 'Hospital Sanatorio San José de Maipo'}, {'CodigoEmpresa': '7404', 'NombreEmpresa': 'Hospital Santa Barbara'}, {'CodigoEmpresa': '7449', 'NombreEmpresa': 'Hospital Santa Filomena de Graneros'}, {'CodigoEmpresa': '7318', 'NombreEmpresa': 'Hospital Santa Juana'}, {'CodigoEmpresa': '7130', 'NombreEmpresa': 'Hospital Santiago Oriente Dr. Luis Tisne Brousse'}, {'CodigoEmpresa': '7486', 'NombreEmpresa': 'Hospital Santo Tomás de Limache'}, {'CodigoEmpresa': '7261', 'NombreEmpresa': 'Hospital Teno'}, {'CodigoEmpresa': '7274', 'NombreEmpresa': 'Hospital Til - Til'}, {'CodigoEmpresa': '7385', 'NombreEmpresa': 'Hospital Tocopilla'}, {'CodigoEmpresa': '7062', 'NombreEmpresa': 'Hospital Toltén'}, {'CodigoEmpresa': '7384', 'NombreEmpresa': 'Hospital Traiguén'}, {'CodigoEmpresa': '7288', 'NombreEmpresa': 'Hospital Victoria'}, {'CodigoEmpresa': '7049', 'NombreEmpresa': 'Hospital Vilcún'}, {'CodigoEmpresa': '7132', 'NombreEmpresa': 'Hospital Villarrica'}, {'CodigoEmpresa': '7397', 'NombreEmpresa': 'Hospital Yumbel'}, {'CodigoEmpresa': '100156', 'NombreEmpresa': 'I MUNICIPALIDAD DE ANGOL'}, {'CodigoEmpresa': '87653', 'NombreEmpresa': 'I MUNICIPALIDAD DE ANTOFAGASTA'}, {'CodigoEmpresa': '100049', 'NombreEmpresa': 'I MUNICIPALIDAD DE AYSEN'}, {'CodigoEmpresa': '86917', 'NombreEmpresa': 'I MUNICIPALIDAD DE CALAMA'}, {'CodigoEmpresa': '7241', 'NombreEmpresa': 'I MUNICIPALIDAD DE CERRILLOS'}, {'CodigoEmpresa': '154782', 'NombreEmpresa': 'I MUNICIPALIDAD DE CHILE CHICO'}, {'CodigoEmpresa': '84958', 'NombreEmpresa': 'I MUNICIPALIDAD DE CONCHALI'}, {'CodigoEmpresa': '86872', 'NombreEmpresa': 'I MUNICIPALIDAD DE COPIAPO'}, {'CodigoEmpresa': '116298', 'NombreEmpresa': 'I MUNICIPALIDAD DE EL QUISCO'}, {'CodigoEmpresa': '116944', 'NombreEmpresa': 'I MUNICIPALIDAD DE EMPEDRADO'}, {'CodigoEmpresa': '7496', 'NombreEmpresa': 'I MUNICIPALIDAD DE LA COMUNA DE EL BOSQUE'}, {'CodigoEmpresa': '113255', 'NombreEmpresa': 'I MUNICIPALIDAD DE LA CRUZ'}, {'CodigoEmpresa': '83825', 'NombreEmpresa': 'I MUNICIPALIDAD DE LA PINTANA'}, {'CodigoEmpresa': '116296', 'NombreEmpresa': 'I MUNICIPALIDAD DE LAS CABRAS'}, {'CodigoEmpresa': '7064', 'NombreEmpresa': 'I MUNICIPALIDAD DE LLANQUIHUE'}, {'CodigoEmpresa': '118620', 'NombreEmpresa': 'I MUNICIPALIDAD DE LOS ALAMOS'}, {'CodigoEmpresa': '112924', 'NombreEmpresa': 'I MUNICIPALIDAD DE MONTEPATRIA'}, {'CodigoEmpresa': '117406', 'NombreEmpresa': 'I MUNICIPALIDAD DE PADRE HURTADO'}, {'CodigoEmpresa': '88102', 'NombreEmpresa': 'I MUNICIPALIDAD DE PROVIDENCIA'}, {'CodigoEmpresa': '87388', 'NombreEmpresa': 'I MUNICIPALIDAD DE PUENTE ALTO'}, {'CodigoEmpresa': '86507', 'NombreEmpresa': 'I MUNICIPALIDAD DE PUERTO MONTT'}, {'CodigoEmpresa': '98280', 'NombreEmpresa': 'I MUNICIPALIDAD DE PUTAENDO'}, {'CodigoEmpresa': '88203', 'NombreEmpresa': 'I MUNICIPALIDAD DE QUILLOTA'}, {'CodigoEmpresa': '93774', 'NombreEmpresa': 'I MUNICIPALIDAD DE SAN CLEMENTE'}, {'CodigoEmpresa': '142855', 'NombreEmpresa': 'I MUNICIPALIDAD DE SAN PEDRO'}, {'CodigoEmpresa': '113428', 'NombreEmpresa': 'I MUNICIPALIDAD DE SAN PEDRO DE ATACAMA'}, {'CodigoEmpresa': '98443', 'NombreEmpresa': 'I MUNICIPALIDAD DE TOME'}, {'CodigoEmpresa': '114395', 'NombreEmpresa': 'I MUNICIPALIDAD DE TUCAPEL'}, {'CodigoEmpresa': '116399', 'NombreEmpresa': 'I MUNICIPALIDAD DE VICTORIA'}, {'CodigoEmpresa': '84152', 'NombreEmpresa': 'I MUNICIPALIDAD VALDIVIA'}, {'CodigoEmpresa': '114393', 'NombreEmpresa': 'I.  MUNICIPALIDAD CURACO  DE VELEZ'}, {'CodigoEmpresa': '7328', 'NombreEmpresa': 'I. Municipalidad  de Alto del Carmen'}, {'CodigoEmpresa': '121539', 'NombreEmpresa': 'I. Municipalidad de Calle Larga'}, {'CodigoEmpresa': '113614', 'NombreEmpresa': 'I. MUNICIPALIDAD DE CASABLANCA'}, {'CodigoEmpresa': '88254', 'NombreEmpresa': 'I. Municipalidad de Chillán'}, {'CodigoEmpresa': '99322', 'NombreEmpresa': 'I. MUNICIPALIDAD DE COLINA'}, {'CodigoEmpresa': '87901', 'NombreEmpresa': 'I. MUNICIPALIDAD DE COQUIMBO'}, {'CodigoEmpresa': '100448', 'NombreEmpresa': 'I. Municipalidad de Coronel'}, {'CodigoEmpresa': '99105', 'NombreEmpresa': 'I. MUNICIPALIDAD DE INDEPENDENCIA'}, {'CodigoEmpresa': '114398', 'NombreEmpresa': 'I. Municipalidad de Licantén'}, {'CodigoEmpresa': '86518', 'NombreEmpresa': 'I. MUNICIPALIDAD DE LO ESPEJO'}, {'CodigoEmpresa': '87373', 'NombreEmpresa': 'I. MUNICIPALIDAD DE LO PRADO'}, {'CodigoEmpresa': '101002', 'NombreEmpresa': 'I. Municipalidad de Los Andes'}, {'CodigoEmpresa': '115166', 'NombreEmpresa': 'I. MUNICIPALIDAD DE PENCAHUE'}, {'CodigoEmpresa': '102868', 'NombreEmpresa': 'I. Municipalidad de Puerto Varas'}, {'CodigoEmpresa': '87633', 'NombreEmpresa': 'I. MUNICIPALIDAD DE QUILPUE'}, {'CodigoEmpresa': '114918', 'NombreEmpresa': 'I. MUNICIPALIDAD DE RINCONADA'}, {'CodigoEmpresa': '7367', 'NombreEmpresa': 'I. Municipalidad de Río Negro'}, {'CodigoEmpresa': '111960', 'NombreEmpresa': 'I. Municipalidad de San Pablo'}, {'CodigoEmpresa': '99765', 'NombreEmpresa': 'I. MUNICIPALIDAD DE TALAGANTE'}, {'CodigoEmpresa': '84480', 'NombreEmpresa': 'I. MUNICIPALIDAD DE TALCA'}, {'CodigoEmpresa': '115167', 'NombreEmpresa': 'I. MUNICIPALIDAD DE TOCOPILLA'}, {'CodigoEmpresa': '86491', 'NombreEmpresa': 'I. MUNICIPALIDAD DE VALLENAR'}, {'CodigoEmpresa': '94315', 'NombreEmpresa': 'I. MUNICIPALIDAD POZO ALMONTE'}, {'CodigoEmpresa': '86664', 'NombreEmpresa': 'I.MUNICIPALIDAD DE CERRO NAVIA'}, {'CodigoEmpresa': '92414', 'NombreEmpresa': 'I.MUNICIPALIDAD DE CHEPICA'}, {'CodigoEmpresa': '113254', 'NombreEmpresa': 'I.Municipalidad de Coinco'}, {'CodigoEmpresa': '87382', 'NombreEmpresa': 'I.MUNICIPALIDAD DE CONCEPCION'}, {'CodigoEmpresa': '94458', 'NombreEmpresa': 'I.MUNICIPALIDAD DE CONCON'}, {'CodigoEmpresa': '87838', 'NombreEmpresa': 'I.Municipalidad de Curicó'}, {'CodigoEmpresa': '87824', 'NombreEmpresa': 'I.MUNICIPALIDAD DE ESTACION CENTRAL'}, {'CodigoEmpresa': '84300', 'NombreEmpresa': 'I.MUNICIPALIDAD DE MACUL'}, {'CodigoEmpresa': '115304', 'NombreEmpresa': 'I.MUNICIPALIDAD DE MARCHIGUE'}, {'CodigoEmpresa': '120798', 'NombreEmpresa': 'I.MUNICIPALIDAD DE MARIA PINTO'}, {'CodigoEmpresa': '99101', 'NombreEmpresa': 'I.Municipalidad de Mostazal'}, {'CodigoEmpresa': '87172', 'NombreEmpresa': 'I.MUNICIPALIDAD DE PEÑALOLEN'}, {'CodigoEmpresa': '113913', 'NombreEmpresa': 'I.MUNICIPALIDAD DE SAN RAFAEL'}, {'CodigoEmpresa': '87399', 'NombreEmpresa': 'I.MUNICIPALIDAD DE VIÑA DEL MAR'}, {'CodigoEmpresa': '115609', 'NombreEmpresa': 'IIustre Municipalidad de Malloa'}, {'CodigoEmpresa': '86580', 'NombreEmpresa': 'IL. MUNICIPALIDAD DE PUNTA ARENAS'}, {'CodigoEmpresa': '7356', 'NombreEmpresa': 'ILUSTRE MUNICIPALIDAD  DE SAGRADA FAMILIA'}, {'CodigoEmpresa': '182336', 'NombreEmpresa': 'Ilustre Municipalidad Alto Bio Bio'}, {'CodigoEmpresa': '7294', 'NombreEmpresa': 'Ilustre Municipalidad de Algarrobo'}, {'CodigoEmpresa': '111124', 'NombreEmpresa': 'Ilustre Municipalidad de Alhue'}, {'CodigoEmpresa': '119639', 'NombreEmpresa': 'Ilustre Municipalidad de Andacollo'}, {'CodigoEmpresa': '119484', 'NombreEmpresa': 'ILUSTRE MUNICIPALIDAD DE ANTUCO'}, {'CodigoEmpresa': '7050', 'NombreEmpresa': 'Ilustre Municipalidad de Arauco'}, {'CodigoEmpresa': '86624', 'NombreEmpresa': 'ILUSTRE MUNICIPALIDAD DE ARICA'}, {'CodigoEmpresa': '118069', 'NombreEmpresa': 'Ilustre municipalidad de Bulnes'}, {'CodigoEmpresa': '115459', 'NombreEmpresa': 'Ilustre Municipalidad de Cabildo'}, {'CodigoEmpresa': '116407', 'NombreEmpresa': 'Ilustre Municipalidad de Cabo de Hornos'}, {'CodigoEmpresa': '120186', 'NombreEmpresa': 'Ilustre Municipalidad de Cabrero'}, {'CodigoEmpresa': '115011', 'NombreEmpresa': 'Ilustre Municipalidad de Calbuco'}, {'CodigoEmpresa': '7364', 'NombreEmpresa': 'Ilustre Municipalidad de Caldera'}, {'CodigoEmpresa': '116219', 'NombreEmpresa': 'Ilustre Municipalidad de Calera de Tango'}, {'CodigoEmpresa': '294421', 'NombreEmpresa': 'Ilustre Municipalidad de Camarones'}, {'CodigoEmpresa': '119487', 'NombreEmpresa': 'Ilustre Municipalidad de Camiña'}, {'CodigoEmpresa': '84473', 'NombreEmpresa': 'ILUSTRE MUNICIPALIDAD DE CANELA'}, {'CodigoEmpresa': '119488', 'NombreEmpresa': 'Ilustre Municipalidad de Cañete'}, {'CodigoEmpresa': '100127', 'NombreEmpresa': 'ILUSTRE MUNICIPALIDAD DE CASTRO'}, {'CodigoEmpresa': '129737', 'NombreEmpresa': 'Ilustre Municipalidad de Catemu'}, {'CodigoEmpresa': '7351', 'NombreEmpresa': 'Ilustre Municipalidad de Cauquenes'}, {'CodigoEmpresa': '114392', 'NombreEmpresa': 'ILUSTRE MUNICIPALIDAD DE CHAITEN'}, {'CodigoEmpresa': '7501', 'NombreEmpresa': 'Ilustre Municipalidad de Chanco'}, {'CodigoEmpresa': '109196', 'NombreEmpresa': 'ILUSTRE MUNICIPALIDAD DE CHAÑARAL'}, {'CodigoEmpresa': '7362', 'NombreEmpresa': 'Ilustre Municipalidad de Chillán'}, {'CodigoEmpresa': '116221', 'NombreEmpresa': 'Ilustre Municipalidad de Chillan Viejo'}, {'CodigoEmpresa': '116404', 'NombreEmpresa': 'Ilustre Municipalidad de Chimbarongo'}, {'CodigoEmpresa': '165105', 'NombreEmpresa': 'Ilustre Municipalidad de Cholchol'}, {'CodigoEmpresa': '115168', 'NombreEmpresa': 'ILUSTRE MUNICIPALIDAD DE CHONCHI'}, {'CodigoEmpresa': '116747', 'NombreEmpresa': 'Ilustre Municipalidad de Cisnes'}, {'CodigoEmpresa': '114925', 'NombreEmpresa': 'ILUSTRE MUNICIPALIDAD DE COBQUECURA'}, {'CodigoEmpresa': '182424', 'NombreEmpresa': 'Ilustre Municipalidad de Cochamo'}, {'CodigoEmpresa': '116942', 'NombreEmpresa': 'Ilustre Municipalidad de Cochrane'}, {'CodigoEmpresa': '165106', 'NombreEmpresa': 'Ilustre Municipalidad de Codegua'}, {'CodigoEmpresa': '116742', 'NombreEmpresa': 'Ilustre Municipalidad de Coelemu'}, {'CodigoEmpresa': '7146', 'NombreEmpresa': 'Ilustre Municipalidad de Coihueco'}, {'CodigoEmpresa': '124195', 'NombreEmpresa': 'Ilustre Municipalidad de Colbún'}, {'CodigoEmpresa': '1053458', 'NombreEmpresa': 'ILUSTRE MUNICIPALIDAD DE COLCHANE'}, {'CodigoEmpresa': '113853', 'NombreEmpresa': 'Ilustre Municipalidad de Collipulli'}, {'CodigoEmpresa': '119266', 'NombreEmpresa': 'Ilustre Municipalidad de Coltauco'}, {'CodigoEmpresa': '102316', 'NombreEmpresa': 'ILUSTRE MUNICIPALIDAD DE CONSTITUCION'}, {'CodigoEmpresa': '141884', 'NombreEmpresa': 'Ilustre Municipalidad de Contulmo'}, {'CodigoEmpresa': '7071', 'NombreEmpresa': 'Ilustre Municipalidad de Coyhaique'}, {'CodigoEmpresa': '129738', 'NombreEmpresa': 'Ilustre Municipalidad de Cunco'}, {'CodigoEmpresa': '121613', 'NombreEmpresa': 'Ilustre Municipalidad de Curacautín'}, {'CodigoEmpresa': '125602', 'NombreEmpresa': 'Ilustre Municipalidad de Curacaví'}, {'CodigoEmpresa': '127036', 'NombreEmpresa': 'Ilustre Municipalidad de Curanilahue'}, {'CodigoEmpresa': '118093', 'NombreEmpresa': 'Ilustre Municipalidad de Curarrehue'}, {'CodigoEmpresa': '133311', 'NombreEmpresa': 'Ilustre Municipalidad de Curepto'}, {'CodigoEmpresa': '7454', 'NombreEmpresa': 'Ilustre Municipalidad de Diego de Almagro'}, {'CodigoEmpresa': '123784', 'NombreEmpresa': 'Ilustre Municipalidad de El Carmen'}, {'CodigoEmpresa': '116741', 'NombreEmpresa': 'ILUSTRE MUNICIPALIDAD DE EL MONTE'}, {'CodigoEmpresa': '7066', 'NombreEmpresa': 'Ilustre Municipalidad de El Tabo'}, {'CodigoEmpresa': '132741', 'NombreEmpresa': 'Ilustre Municipalidad de Ercilla'}, {'CodigoEmpresa': '115285', 'NombreEmpresa': 'Ilustre Municipalidad de Florida'}, {'CodigoEmpresa': '118089', 'NombreEmpresa': 'Ilustre Municipalidad de Freire'}, {'CodigoEmpresa': '135567', 'NombreEmpresa': 'Ilustre Municipalidad de Freirina'}, {'CodigoEmpresa': '119651', 'NombreEmpresa': 'Ilustre Municipalidad de Fresia'}, {'CodigoEmpresa': '84478', 'NombreEmpresa': 'ILUSTRE MUNICIPALIDAD DE FRUTILLAR'}, {'CodigoEmpresa': '118068', 'NombreEmpresa': 'Ilustre Municipalidad de Futaleufu'}, {'CodigoEmpresa': '106880', 'NombreEmpresa': 'Ilustre Municipalidad de Futrono'}, {'CodigoEmpresa': '124203', 'NombreEmpresa': 'Ilustre Municipalidad de Galvarino'}, {'CodigoEmpresa': '118859', 'NombreEmpresa': 'Ilustre Municipalidad de General Lagos'}, {'CodigoEmpresa': '148507', 'NombreEmpresa': 'Ilustre Municipalidad de Graneros'}, {'CodigoEmpresa': '165107', 'NombreEmpresa': 'Ilustre Municipalidad de Guaitecas'}, {'CodigoEmpresa': '116733', 'NombreEmpresa': 'Ilustre Municipalidad de Hijuelas'}, {'CodigoEmpresa': '106170', 'NombreEmpresa': 'ILUSTRE MUNICIPALIDAD DE HUALAIHUE'}, {'CodigoEmpresa': '118855', 'NombreEmpresa': 'Ilustre Municipalidad de Hualañe'}, {'CodigoEmpresa': '123786', 'NombreEmpresa': 'Ilustre Municipalidad de Hualpen'}, {'CodigoEmpresa': '140867', 'NombreEmpresa': 'Ilustre Municipalidad de Hualqui'}, {'CodigoEmpresa': '116946', 'NombreEmpresa': 'ILUSTRE MUNICIPALIDAD DE HUARA'}, {'CodigoEmpresa': '116406', 'NombreEmpresa': 'Ilustre Municipalidad de Huasco'}, {'CodigoEmpresa': '115164', 'NombreEmpresa': 'ILUSTRE MUNICIPALIDAD DE ILLAPEL'}, {'CodigoEmpresa': '87175', 'NombreEmpresa': 'ILUSTRE MUNICIPALIDAD DE IQUIQUE'}, {'CodigoEmpresa': '119852', 'NombreEmpresa': 'Ilustre Municipalidad de Isla de Pascua'}, {'CodigoEmpresa': '108932', 'NombreEmpresa': 'ILUSTRE MUNICIPALIDAD DE JUAN FERNANDEZ'}, {'CodigoEmpresa': '115185', 'NombreEmpresa': 'Ilustre Municipalidad de La Calera'}, {'CodigoEmpresa': '100488', 'NombreEmpresa': 'Ilustre Municipalidad de La Cisterna'}, {'CodigoEmpresa': '165285', 'NombreEmpresa': 'Ilustre Municipalidad de La Estrella'}, {'CodigoEmpresa': '112097', 'NombreEmpresa': 'ILUSTRE MUNICIPALIDAD DE LA GRANJA'}, {'CodigoEmpresa': '116410', 'NombreEmpresa': 'Ilustre Municipalidad de La Higuera'}, {'CodigoEmpresa': '100648', 'NombreEmpresa': 'ILUSTRE MUNICIPALIDAD DE LA LIGUA'}, {'CodigoEmpresa': '7366', 'NombreEmpresa': 'Ilustre Municipalidad de La Reina'}, {'CodigoEmpresa': '87976', 'NombreEmpresa': 'ILUSTRE MUNICIPALIDAD DE LA SERENA'}, {'CodigoEmpresa': '114725', 'NombreEmpresa': 'Ilustre Municipalidad de La Unión'}, {'CodigoEmpresa': '113735', 'NombreEmpresa': 'ILUSTRE MUNICIPALIDAD DE LAGO RANCO'}, {'CodigoEmpresa': '123529', 'NombreEmpresa': 'Ilustre Municipalidad de Lago Verde'}, {'CodigoEmpresa': '119999', 'NombreEmpresa': 'Ilustre Municipalidad de Laguna Blanca'}, {'CodigoEmpresa': '116405', 'NombreEmpresa': 'Ilustre Municipalidad de Laja'}, {'CodigoEmpresa': '118067', 'NombreEmpresa': 'Ilustre Municipalidad de Lampa'}, {'CodigoEmpresa': '106876', 'NombreEmpresa': 'Ilustre Municipalidad de Lanco'}, {'CodigoEmpresa': '124577', 'NombreEmpresa': 'Ilustre Municipalidad de Lautaro'}, {'CodigoEmpresa': '118096', 'NombreEmpresa': 'Ilustre Municipalidad de Lebu'}, {'CodigoEmpresa': '7492', 'NombreEmpresa': 'Ilustre Municipalidad de Limache'}, {'CodigoEmpresa': '86545', 'NombreEmpresa': 'ILUSTRE MUNICIPALIDAD DE LINARES'}, {'CodigoEmpresa': '7365', 'NombreEmpresa': 'Ilustre Municipalidad de Litueche'}, {'CodigoEmpresa': '118072', 'NombreEmpresa': 'Ilustre Municipalidad de Llay Llay'}, {'CodigoEmpresa': '113258', 'NombreEmpresa': 'ILUSTRE MUNICIPALIDAD DE LOLOL'}, {'CodigoEmpresa': '113851', 'NombreEmpresa': 'Ilustre Municipalidad de Loncoche'}, {'CodigoEmpresa': '120788', 'NombreEmpresa': 'Ilustre Municipalidad de Longavi'}, {'CodigoEmpresa': '119994', 'NombreEmpresa': 'Ilustre Municipalidad de Lonquimay'}, {'CodigoEmpresa': '7159', 'NombreEmpresa': 'Ilustre Municipalidad de los Lagos'}, {'CodigoEmpresa': '7304', 'NombreEmpresa': 'Ilustre Municipalidad de Los Muermos'}, {'CodigoEmpresa': '116408', 'NombreEmpresa': 'Ilustre Municipalidad de Los Sauces'}, {'CodigoEmpresa': '116401', 'NombreEmpresa': 'Ilustre Municipalidad de Los Vilos'}, {'CodigoEmpresa': '138211', 'NombreEmpresa': 'Ilustre Municipalidad de Lumaco'}, {'CodigoEmpresa': '113852', 'NombreEmpresa': 'ILUSTRE MUNICIPALIDAD DE MACHALI'}, {'CodigoEmpresa': '115464', 'NombreEmpresa': 'Ilustre Municipalidad de Máfil'}, {'CodigoEmpresa': '93619', 'NombreEmpresa': 'ILUSTRE MUNICIPALIDAD DE MAIPU'}, {'CodigoEmpresa': '113738', 'NombreEmpresa': 'ILUSTRE MUNICIPALIDAD DE MARIA ELENA'}, {'CodigoEmpresa': '120001', 'NombreEmpresa': 'Ilustre Municipalidad de Mariquina'}, {'CodigoEmpresa': '118070', 'NombreEmpresa': 'Ilustre Municipalidad de Maule'}, {'CodigoEmpresa': '120791', 'NombreEmpresa': 'ILUSTRE MUNICIPALIDAD DE MAULLIN'}, {'CodigoEmpresa': '117581', 'NombreEmpresa': 'Ilustre Municipalidad de Mejillones'}, {'CodigoEmpresa': '121617', 'NombreEmpresa': 'Ilustre Municipalidad de Melipeuco'}, {'CodigoEmpresa': '98901', 'NombreEmpresa': 'ILUSTRE MUNICIPALIDAD DE MELIPILLA'}, {'CodigoEmpresa': '84961', 'NombreEmpresa': 'ILUSTRE MUNICIPALIDAD DE MOLINA '}, {'CodigoEmpresa': '115311', 'NombreEmpresa': 'Ilustre Municipalidad de Mulchen'}, {'CodigoEmpresa': '135561', 'NombreEmpresa': 'Ilustre Municipalidad de Nacimiento'}, {'CodigoEmpresa': '116750', 'NombreEmpresa': 'Ilustre Municipalidad de Nancagua'}, {'CodigoEmpresa': '98448', 'NombreEmpresa': 'ILUSTRE MUNICIPALIDAD DE NATALES'}, {'CodigoEmpresa': '118625', 'NombreEmpresa': 'Ilustre Municipalidad de Navidad'}, {'CodigoEmpresa': '142508', 'NombreEmpresa': 'Ilustre Municipalidad de Negrete'}, {'CodigoEmpresa': '7051', 'NombreEmpresa': 'Ilustre Municipalidad de Ninhue'}, {'CodigoEmpresa': '115468', 'NombreEmpresa': 'Ilustre Municipalidad de Nogales'}, {'CodigoEmpresa': '134356', 'NombreEmpresa': 'Ilustre Municipalidad de Ñiquen'}, {'CodigoEmpresa': '86764', 'NombreEmpresa': 'ILUSTRE MUNICIPALIDAD DE ÑUÑOA'}, {'CodigoEmpresa': '115463', 'NombreEmpresa': \"Ilustre Municipalidad de O'Higgins\"}, {'CodigoEmpresa': '119273', 'NombreEmpresa': 'Ilustre Municipalidad de Olivar'}, {'CodigoEmpresa': '119996', 'NombreEmpresa': 'Ilustre Municipalidad de Ollagüe'}, {'CodigoEmpresa': '114724', 'NombreEmpresa': 'Ilustre Municipalidad de Olmue'}, {'CodigoEmpresa': '84959', 'NombreEmpresa': 'ILUSTRE MUNICIPALIDAD DE OSORNO'}, {'CodigoEmpresa': '118075', 'NombreEmpresa': 'Ilustre Municipalidad de Paihuano'}, {'CodigoEmpresa': '116744', 'NombreEmpresa': 'Ilustre Municipalidad de Paillaco'}, {'CodigoEmpresa': '100728', 'NombreEmpresa': 'ILUSTRE MUNICIPALIDAD DE PAINE'}, {'CodigoEmpresa': '110393', 'NombreEmpresa': 'Ilustre Municipalidad de Palena'}, {'CodigoEmpresa': '123526', 'NombreEmpresa': 'Ilustre Municipalidad de Palmilla'}, {'CodigoEmpresa': '115284', 'NombreEmpresa': 'Ilustre Municipalidad de Panguipulli'}, {'CodigoEmpresa': '115302', 'NombreEmpresa': 'Ilustre Municipalidad de Papudo'}, {'CodigoEmpresa': '118971', 'NombreEmpresa': 'Ilustre Municipalidad de Paredones'}, {'CodigoEmpresa': '94459', 'NombreEmpresa': 'ILUSTRE MUNICIPALIDAD DE PARRAL'}, {'CodigoEmpresa': '116729', 'NombreEmpresa': 'Ilustre Municipalidad de Pelarco'}, {'CodigoEmpresa': '113978', 'NombreEmpresa': 'Ilustre Municipalidad de Pelluhue'}, {'CodigoEmpresa': '117587', 'NombreEmpresa': 'Ilustre Municipalidad de Pemuco'}, {'CodigoEmpresa': '142575', 'NombreEmpresa': 'Ilustre Municipalidad de Penco'}, {'CodigoEmpresa': '118619', 'NombreEmpresa': 'Ilustre Municipalidad de Peralillo'}, {'CodigoEmpresa': '133899', 'NombreEmpresa': 'Ilustre Municipalidad de Perquenco'}, {'CodigoEmpresa': '116223', 'NombreEmpresa': 'Ilustre Municipalidad de Petorca'}, {'CodigoEmpresa': '118861', 'NombreEmpresa': 'Ilustre Municipalidad de Peumo'}, {'CodigoEmpresa': '118077', 'NombreEmpresa': 'Ilustre Municipalidad de Pica'}, {'CodigoEmpresa': '118621', 'NombreEmpresa': 'Ilustre Municipalidad de Pichidegua'}, {'CodigoEmpresa': '117179', 'NombreEmpresa': 'Ilustre Municipalidad de Pichilemu'}, {'CodigoEmpresa': '118071', 'NombreEmpresa': 'Ilustre Municipalidad de Pinto'}, {'CodigoEmpresa': '100072', 'NombreEmpresa': 'ILUSTRE MUNICIPALIDAD DE PIRQUE'}, {'CodigoEmpresa': '116411', 'NombreEmpresa': 'Ilustre Municipalidad de Pitrufquen'}, {'CodigoEmpresa': '118087', 'NombreEmpresa': 'Ilustre Municipalidad de Placilla'}, {'CodigoEmpresa': '115798', 'NombreEmpresa': 'Ilustre Municipalidad de Porvenir'}, {'CodigoEmpresa': '117585', 'NombreEmpresa': 'Ilustre Municipalidad de Primavera'}, {'CodigoEmpresa': '119270', 'NombreEmpresa': 'Ilustre Municipalidad de Puchuncavi'}, {'CodigoEmpresa': '86943', 'NombreEmpresa': 'ILUSTRE MUNICIPALIDAD DE PUCON'}, {'CodigoEmpresa': '104899', 'NombreEmpresa': 'Ilustre Municipalidad de Puerto Octay'}, {'CodigoEmpresa': '115313', 'NombreEmpresa': 'Ilustre Municipalidad de Puerto Saavedra'}, {'CodigoEmpresa': '116402', 'NombreEmpresa': 'Ilustre Municipalidad de Pumanque'}, {'CodigoEmpresa': '117588', 'NombreEmpresa': 'Ilustre Municipalidad de Punitaqui'}, {'CodigoEmpresa': '116403', 'NombreEmpresa': 'Ilustre Municipalidad de Puqueldón'}, {'CodigoEmpresa': '114916', 'NombreEmpresa': 'ILUSTRE MUNICIPALIDAD DE PURRANQUE'}, {'CodigoEmpresa': '119479', 'NombreEmpresa': 'ILUSTRE MUNICIPALIDAD DE PUTRE'}, {'CodigoEmpresa': '105334', 'NombreEmpresa': 'ILUSTRE MUNICIPALIDAD DE PUYEHUE'}, {'CodigoEmpresa': '112919', 'NombreEmpresa': 'Ilustre Municipalidad de Queilen'}, {'CodigoEmpresa': '110102', 'NombreEmpresa': 'Ilustre Municipalidad De Quellón'}, {'CodigoEmpresa': '125066', 'NombreEmpresa': 'Ilustre Municipalidad de Quemchi'}, {'CodigoEmpresa': '116940', 'NombreEmpresa': 'Ilustre Municipalidad de Quilaco'}, {'CodigoEmpresa': '88313', 'NombreEmpresa': 'Ilustre Municipalidad de Quilicura'}, {'CodigoEmpresa': '115979', 'NombreEmpresa': 'Ilustre Municipalidad de Quilleco'}, {'CodigoEmpresa': '135562', 'NombreEmpresa': 'ILUSTRE MUNICIPALIDAD DE QUILLON'}, {'CodigoEmpresa': '116731', 'NombreEmpresa': 'Ilustre Municipalidad de Quinchao'}, {'CodigoEmpresa': '115010', 'NombreEmpresa': 'Ilustre Municipalidad de Quinta de Tilcoco'}, {'CodigoEmpresa': '88075', 'NombreEmpresa': 'ILUSTRE MUNICIPALIDAD DE QUINTA NORMAL'}, {'CodigoEmpresa': '138454', 'NombreEmpresa': 'Ilustre Municipalidad de Quintero'}, {'CodigoEmpresa': '124198', 'NombreEmpresa': 'Ilustre Municipalidad de Quirihue'}, {'CodigoEmpresa': '87167', 'NombreEmpresa': 'ILUSTRE MUNICIPALIDAD DE RANCAGUA'}, {'CodigoEmpresa': '7418', 'NombreEmpresa': 'Ilustre Municipalidad de Ranquil'}, {'CodigoEmpresa': '117589', 'NombreEmpresa': 'Ilustre Municipalidad de Rauco'}, {'CodigoEmpresa': '7325', 'NombreEmpresa': 'Ilustre Municipalidad de Recoleta'}, {'CodigoEmpresa': '118073', 'NombreEmpresa': 'Ilustre Municipalidad de Renaico'}, {'CodigoEmpresa': '87185', 'NombreEmpresa': 'ILUSTRE MUNICIPALIDAD DE RENCA'}, {'CodigoEmpresa': '100555', 'NombreEmpresa': 'ILUSTRE MUNICIPALIDAD DE RENGO'}, {'CodigoEmpresa': '116215', 'NombreEmpresa': 'Ilustre Municipalidad de Requínoa'}, {'CodigoEmpresa': '113252', 'NombreEmpresa': 'ILUSTRE MUNICIPALIDAD DE RETIRO'}, {'CodigoEmpresa': '117580', 'NombreEmpresa': 'Ilustre Municipalidad de Rio Bueno'}, {'CodigoEmpresa': '89591', 'NombreEmpresa': 'ILUSTRE MUNICIPALIDAD DE RIO CLARO'}, {'CodigoEmpresa': '115301', 'NombreEmpresa': 'ILUSTRE MUNICIPALIDAD DE RIO VERDE'}, {'CodigoEmpresa': '141881', 'NombreEmpresa': 'Ilustre Municipalidad de Romeral'}, {'CodigoEmpresa': '116295', 'NombreEmpresa': 'Ilustre Municipalidad de Salamanca'}, {'CodigoEmpresa': '86548', 'NombreEmpresa': 'ILUSTRE MUNICIPALIDAD DE SAN BERNARDO'}, {'CodigoEmpresa': '116226', 'NombreEmpresa': 'Ilustre Municipalidad de San Esteban'}, {'CodigoEmpresa': '128889', 'NombreEmpresa': 'ILUSTRE MUNICIPALIDAD DE SAN FABIAN'}, {'CodigoEmpresa': '100158', 'NombreEmpresa': 'ILUSTRE MUNICIPALIDAD DE SAN FELIPE'}, {'CodigoEmpresa': '7482', 'NombreEmpresa': 'Ilustre Municipalidad de San Fernando'}, {'CodigoEmpresa': '115795', 'NombreEmpresa': 'Ilustre Municipalidad de San Gregorio'}, {'CodigoEmpresa': '116409', 'NombreEmpresa': 'Ilustre Municipalidad de San Ignacio'}, {'CodigoEmpresa': '86407', 'NombreEmpresa': 'ILUSTRE MUNICIPALIDAD DE SAN JAVIER'}, {'CodigoEmpresa': '7135', 'NombreEmpresa': 'Ilustre Municipalidad de San Joaquin'}, {'CodigoEmpresa': '118085', 'NombreEmpresa': 'Ilustre Municipalidad de San Juan de la Costa'}, {'CodigoEmpresa': '7498', 'NombreEmpresa': 'Ilustre Municipalidad de San Miguel'}, {'CodigoEmpresa': '7158', 'NombreEmpresa': 'Ilustre Municipalidad de San Nicolás'}, {'CodigoEmpresa': '136421', 'NombreEmpresa': 'Ilustre Municipalidad de San Rosendo'}, {'CodigoEmpresa': '135559', 'NombreEmpresa': 'Ilustre Municipalidad de San Vicente de Tagua Tagua'}, {'CodigoEmpresa': '118860', 'NombreEmpresa': 'Ilustre Municipalidad de Santa Barbara'}, {'CodigoEmpresa': '117584', 'NombreEmpresa': 'Ilustre Municipalidad de Santa Cruz'}, {'CodigoEmpresa': '118623', 'NombreEmpresa': 'Ilustre Municipalidad de Santa Juana'}, {'CodigoEmpresa': '117210', 'NombreEmpresa': 'Ilustre Municipalidad de Santa María'}, {'CodigoEmpresa': '113981', 'NombreEmpresa': 'Ilustre Municipalidad de Santo Domingo'}, {'CodigoEmpresa': '117579', 'NombreEmpresa': 'Ilustre Municipalidad de Sierra Gorda'}, {'CodigoEmpresa': '118079', 'NombreEmpresa': 'Ilustre Municipalidad de Taltal'}, {'CodigoEmpresa': '116299', 'NombreEmpresa': 'Ilustre Municipalidad de Teno'}, {'CodigoEmpresa': '7360', 'NombreEmpresa': 'Ilustre Municipalidad de Tierra Amarilla'}, {'CodigoEmpresa': '116218', 'NombreEmpresa': 'Ilustre Municipalidad de Til Til'}, {'CodigoEmpresa': '224045', 'NombreEmpresa': 'Ilustre Municipalidad de Timaukel'}, {'CodigoEmpresa': '117582', 'NombreEmpresa': 'Ilustre Municipalidad de Tolten'}, {'CodigoEmpresa': '7301', 'NombreEmpresa': 'Ilustre Municipalidad de Tortel'}, {'CodigoEmpresa': '145365', 'NombreEmpresa': 'Ilustre Municipalidad de Trehuaco'}, {'CodigoEmpresa': '87402', 'NombreEmpresa': 'ILUSTRE MUNICIPALIDAD DE VALPARAISO'}, {'CodigoEmpresa': '114914', 'NombreEmpresa': 'Ilustre Municipalidad de Vichuquén'}, {'CodigoEmpresa': '115303', 'NombreEmpresa': 'Ilustre Municipalidad de Vicuña'}, {'CodigoEmpresa': '115009', 'NombreEmpresa': 'Ilustre Municipalidad de Vilcún'}, {'CodigoEmpresa': '7363', 'NombreEmpresa': 'Ilustre Municipalidad de Villa Alegre'}, {'CodigoEmpresa': '7233', 'NombreEmpresa': 'Ilustre Municipalidad de Villa Alemana'}, {'CodigoEmpresa': '118084', 'NombreEmpresa': 'Ilustre Municipalidad de Villarrica'}, {'CodigoEmpresa': '116738', 'NombreEmpresa': 'Ilustre Municipalidad de Yerbas Buenas'}, {'CodigoEmpresa': '120004', 'NombreEmpresa': 'Ilustre Municipalidad de Yumbel'}, {'CodigoEmpresa': '115294', 'NombreEmpresa': 'Ilustre Municipalidad de Yungay'}, {'CodigoEmpresa': '132199', 'NombreEmpresa': 'Ilustre Municipalidad de Zapallar'}, {'CodigoEmpresa': '117181', 'NombreEmpresa': 'Ilustre Municipalidad Isla de Maipo'}, {'CodigoEmpresa': '115280', 'NombreEmpresa': 'ILUSTRE MUNICIPALIDAD TEODORO SCHMIDT'}, {'CodigoEmpresa': '106000', 'NombreEmpresa': 'Ilustre Municipalidad Torres del Payne'}, {'CodigoEmpresa': '114924', 'NombreEmpresa': 'IMUNICIPALIDAD DE NUEVA IMPERIAL'}, {'CodigoEmpresa': '7004', 'NombreEmpresa': 'Instituto Antártico Chileno'}, {'CodigoEmpresa': '6937', 'NombreEmpresa': 'Instituto de Desarrollo Agropecuario - INDAP'}, {'CodigoEmpresa': '7070', 'NombreEmpresa': 'Instituto de Fomento Pesquero - IFOP'}, {'CodigoEmpresa': '7394', 'NombreEmpresa': 'Instituto de Investigaciones y Control del Ejércit'}, {'CodigoEmpresa': '7474', 'NombreEmpresa': 'Instituto de Neurocirugía'}, {'CodigoEmpresa': '1090469', 'NombreEmpresa': 'INSTITUTO DE PREVISION SOCIAL'}, {'CodigoEmpresa': '7177', 'NombreEmpresa': 'INSTITUTO DE SALUD PUBLICA DE CHILE'}, {'CodigoEmpresa': '6953', 'NombreEmpresa': 'Instituto de Seguridad Laboral - ISL'}, {'CodigoEmpresa': '7497', 'NombreEmpresa': 'Instituto Forestal'}, {'CodigoEmpresa': '7432', 'NombreEmpresa': 'Instituto Nac. de Rehabilitación Pedro Aguirre C.'}, {'CodigoEmpresa': '7216', 'NombreEmpresa': 'INSTITUTO NACIONAL DE DEPORTES DE CHILE'}, {'CodigoEmpresa': '6931', 'NombreEmpresa': 'Instituto Nacional de Estadísticas - INE'}, {'CodigoEmpresa': '7430', 'NombreEmpresa': 'Instituto Nacional de Geriatría'}, {'CodigoEmpresa': '7176', 'NombreEmpresa': 'Instituto Nacional de Hidráulicas - INH'}, {'CodigoEmpresa': '7197', 'NombreEmpresa': 'Instituto Nacional de la Juventud - MIDEPLAN'}, {'CodigoEmpresa': '1042394', 'NombreEmpresa': 'INSTITUTO NACIONAL DE PROPIEDAD INDUSTRIAL'}, {'CodigoEmpresa': '7276', 'NombreEmpresa': 'Instituto Nacional del Cancer'}, {'CodigoEmpresa': '7298', 'NombreEmpresa': 'Instituto Nacional del Torax'}, {'CodigoEmpresa': '7044', 'NombreEmpresa': 'INSTITUTO PSIQUIATRICO DR JOSE HORWITZ BARAK'}, {'CodigoEmpresa': '7456', 'NombreEmpresa': 'Instituto Traumatológico'}, {'CodigoEmpresa': '7204', 'NombreEmpresa': 'INTENDENCIA II REGION ANTOFAGASTA'}, {'CodigoEmpresa': '7115', 'NombreEmpresa': 'Intendencia III Región, Atacama'}, {'CodigoEmpresa': '7236', 'NombreEmpresa': 'Intendencia IV Región, Coquimbo'}, {'CodigoEmpresa': '7220', 'NombreEmpresa': 'Intendencia IX Región, de la Araucanía'}, {'CodigoEmpresa': '7195', 'NombreEmpresa': 'Intendencia Región Metropolitana'}, {'CodigoEmpresa': '270727', 'NombreEmpresa': 'Intendencia Regional de Arica y Parinacota'}, {'CodigoEmpresa': '270726', 'NombreEmpresa': 'Intendencia Regional de Los Ríos'}, {'CodigoEmpresa': '7234', 'NombreEmpresa': 'INTENDENCIA REGIONAL I REGION DE TARAPAC'}, {'CodigoEmpresa': '7196', 'NombreEmpresa': 'Intendencia V Región, Valparaíso'}, {'CodigoEmpresa': '7201', 'NombreEmpresa': 'Intendencia VI Región, Lib. Bdo. O´Higgins'}, {'CodigoEmpresa': '7225', 'NombreEmpresa': 'Intendencia VII Región, del Maule'}, {'CodigoEmpresa': '7226', 'NombreEmpresa': 'Intendencia VIII Región, del Bío-Bío'}, {'CodigoEmpresa': '7215', 'NombreEmpresa': 'Intendencia X Región, de Los Lagos'}, {'CodigoEmpresa': '7229', 'NombreEmpresa': 'Intendencia XI Región, Aysén'}, {'CodigoEmpresa': '7214', 'NombreEmpresa': 'Intendencia XII Región de Magallanes y Antártica Chilena'}, {'CodigoEmpresa': '7002', 'NombreEmpresa': 'JUNAEB'}, {'CodigoEmpresa': '7014', 'NombreEmpresa': 'Junta de Aeronáutica Civil'}, {'CodigoEmpresa': '1079772', 'NombreEmpresa': 'JUNTA NACIONAL DE CUERPOS DE BOMBEROS DE CHILE'}, {'CodigoEmpresa': '6928', 'NombreEmpresa': 'JUNTA NACIONAL DE JARDINES         INFANTILES'}, {'CodigoEmpresa': '1065029', 'NombreEmpresa': 'LICEO EL ROSARIO'}, {'CodigoEmpresa': '7074', 'NombreEmpresa': 'METRO S.A.'}, {'CodigoEmpresa': '6941', 'NombreEmpresa': 'Ministerio de Bienes Nacionales.'}, {'CodigoEmpresa': '7247', 'NombreEmpresa': 'MINISTERIO DE OBRAS PUBLICAS DIREC CION GRAL DE OO PP DCYF'}, {'CodigoEmpresa': '7249', 'NombreEmpresa': 'Ministerio de Obras Publicas Dirección Gral. de OOPP'}, {'CodigoEmpresa': '6944', 'NombreEmpresa': 'Ministerio del Interior'}, {'CodigoEmpresa': '224060', 'NombreEmpresa': 'MINISTERIO PUBLICO'}, {'CodigoEmpresa': '7194', 'NombreEmpresa': 'Ministerio Secretaría General de Gobierno'}, {'CodigoEmpresa': '6949', 'NombreEmpresa': 'MINISTERIO SECRETARIA GENERAL DE LA PRESIDENCIA DE LA REPUBLICA'}, {'CodigoEmpresa': '7248', 'NombreEmpresa': 'MOP - Dirección de Vialidad'}, {'CodigoEmpresa': '7353', 'NombreEmpresa': 'MOP Dirección General de Concesiones'}, {'CodigoEmpresa': '114923', 'NombreEmpresa': 'Municipalidad de Alto Hospicio'}, {'CodigoEmpresa': '98452', 'NombreEmpresa': 'Municipalidad de Ancud'}, {'CodigoEmpresa': '100090', 'NombreEmpresa': 'MUNICIPALIDAD DE BUIN'}, {'CodigoEmpresa': '115186', 'NombreEmpresa': 'Municipalidad de Carahue'}, {'CodigoEmpresa': '99569', 'NombreEmpresa': 'MUNICIPALIDAD DE CARTAGENA'}, {'CodigoEmpresa': '100523', 'NombreEmpresa': 'MUNICIPALIDAD DE CHIGUAYANTE'}, {'CodigoEmpresa': '115297', 'NombreEmpresa': 'Municipalidad de Combarbala'}, {'CodigoEmpresa': '119089', 'NombreEmpresa': 'Municipalidad de Corral'}, {'CodigoEmpresa': '115165', 'NombreEmpresa': 'MUNICIPALIDAD DE DALCAHUE'}, {'CodigoEmpresa': '123788', 'NombreEmpresa': 'MUNICIPALIDAD DE DOÑIHUE'}, {'CodigoEmpresa': '117586', 'NombreEmpresa': 'Municipalidad de Gorbea'}, {'CodigoEmpresa': '100739', 'NombreEmpresa': 'Municipalidad de Huechuraba'}, {'CodigoEmpresa': '86766', 'NombreEmpresa': 'MUNICIPALIDAD DE LA FLORIDA'}, {'CodigoEmpresa': '86571', 'NombreEmpresa': 'MUNICIPALIDAD DE LAS CONDES'}, {'CodigoEmpresa': '100155', 'NombreEmpresa': 'Municipalidad de lo barnechea'}, {'CodigoEmpresa': '87187', 'NombreEmpresa': 'Municipalidad de Los Angeles'}, {'CodigoEmpresa': '113259', 'NombreEmpresa': 'MUNICIPALIDAD DE LOTA'}, {'CodigoEmpresa': '99860', 'NombreEmpresa': 'MUNICIPALIDAD DE OVALLE'}, {'CodigoEmpresa': '90886', 'NombreEmpresa': 'MUNICIPALIDAD DE PADRE LAS CASAS'}, {'CodigoEmpresa': '113618', 'NombreEmpresa': 'Municipalidad de Panquehue'}, {'CodigoEmpresa': '87104', 'NombreEmpresa': 'MUNICIPALIDAD DE PEDRO AGUIRRE CERDA'}, {'CodigoEmpresa': '100137', 'NombreEmpresa': 'MUNICIPALIDAD DE PEÑAFLOR'}, {'CodigoEmpresa': '115299', 'NombreEmpresa': 'Municipalidad de Portezuelo'}, {'CodigoEmpresa': '84149', 'NombreEmpresa': 'MUNICIPALIDAD DE PUDAHUEL'}, {'CodigoEmpresa': '116945', 'NombreEmpresa': 'Municipalidad de Purén \\\\ DEPTO.DE SALUD'}, {'CodigoEmpresa': '114075', 'NombreEmpresa': 'Municipalidad de Rio Hurtado'}, {'CodigoEmpresa': '120002', 'NombreEmpresa': 'Municipalidad de Río Ibáñez'}, {'CodigoEmpresa': '100318', 'NombreEmpresa': 'Municipalidad de San Antonio'}, {'CodigoEmpresa': '100107', 'NombreEmpresa': 'MUNICIPALIDAD DE SAN CARLOS'}, {'CodigoEmpresa': '115457', 'NombreEmpresa': 'Municipalidad de San José de Maipo'}, {'CodigoEmpresa': '100704', 'NombreEmpresa': 'MUNICIPALIDAD DE SAN PEDRO DE LA PAZ'}, {'CodigoEmpresa': '7355', 'NombreEmpresa': 'Municipalidad de San Ramon'}, {'CodigoEmpresa': '86568', 'NombreEmpresa': 'MUNICIPALIDAD DE SANTIAGO'}, {'CodigoEmpresa': '86586', 'NombreEmpresa': 'MUNICIPALIDAD DE TALCAHUANO'}, {'CodigoEmpresa': '7321', 'NombreEmpresa': 'Municipalidad de Temuco'}, {'CodigoEmpresa': '183037', 'NombreEmpresa': 'Municipalidad de Tirúa'}, {'CodigoEmpresa': '115163', 'NombreEmpresa': 'MUNICIPALIDAD DE TRAIGUEN'}, {'CodigoEmpresa': '98462', 'NombreEmpresa': 'MUNICIPALIDAD DE VITACURA'}, {'CodigoEmpresa': '7005', 'NombreEmpresa': 'Oficina de Estudios y Politicas Agrarias'}, {'CodigoEmpresa': '7180', 'NombreEmpresa': 'Oficina Nacional de Emergencia'}, {'CodigoEmpresa': '6935', 'NombreEmpresa': 'Parque Metropolitano de Santiago'}, {'CodigoEmpresa': '7143', 'NombreEmpresa': 'Poder Judicial - Academia Judicial'}, {'CodigoEmpresa': '111880', 'NombreEmpresa': 'POLICIA DE INVESTIGACIONES DE CHILE'}, {'CodigoEmpresa': '6967', 'NombreEmpresa': 'Polla Chilena de Beneficencia S.A.'}, {'CodigoEmpresa': '7238', 'NombreEmpresa': 'Presidencia de la República'}, {'CodigoEmpresa': '7478', 'NombreEmpresa': 'S. S. Aysén - Dirección de Atención Primaria'}, {'CodigoEmpresa': '7096', 'NombreEmpresa': 'SAG CONCEPCION'}, {'CodigoEmpresa': '7184', 'NombreEmpresa': 'SENADIS'}, {'CodigoEmpresa': '174692', 'NombreEmpresa': 'Senado de la República de Chile'}, {'CodigoEmpresa': '6919', 'NombreEmpresa': 'SERVICIO AGRICOLA Y GANADERO'}, {'CodigoEmpresa': '6950', 'NombreEmpresa': 'Servicio de Cooperación Técnica - SERCOTEC'}, {'CodigoEmpresa': '7218', 'NombreEmpresa': 'Servicio de Evaluación Ambiental (SEA)'}, {'CodigoEmpresa': '7113', 'NombreEmpresa': 'SERVICIO DE IMPUESTOS INTERNOS DIRECCION'}, {'CodigoEmpresa': '6960', 'NombreEmpresa': 'Servicio de Registro Civil e Identificación'}, {'CodigoEmpresa': '7205', 'NombreEmpresa': 'Servicio de Salud  Concepción'}, {'CodigoEmpresa': '7431', 'NombreEmpresa': 'SERVICIO DE SALUD ACONCAGUA'}, {'CodigoEmpresa': '7185', 'NombreEmpresa': 'Servicio de Salud Antofagasta'}, {'CodigoEmpresa': '7451', 'NombreEmpresa': 'SERVICIO DE SALUD ANTOFAGASTA HOSPITAL L'}, {'CodigoEmpresa': '7302', 'NombreEmpresa': 'Servicio de Salud Araucanía Norte'}, {'CodigoEmpresa': '7306', 'NombreEmpresa': 'SERVICIO DE SALUD ARAUCANIA NORTE HOSPITAL DE ANGOL'}, {'CodigoEmpresa': '7102', 'NombreEmpresa': 'Servicio de Salud Araucanía Sur'}, {'CodigoEmpresa': '7060', 'NombreEmpresa': 'SERVICIO DE SALUD ARAUCANIA SUR HOSPITAL DE NUEVA IMPERIAL'}, {'CodigoEmpresa': '6976', 'NombreEmpresa': 'SERVICIO DE SALUD ARAUCO'}, {'CodigoEmpresa': '1667479', 'NombreEmpresa': 'SERVICIO DE SALUD ARICA HOSP DR JUAN NOE CREVANI'}, {'CodigoEmpresa': '7409', 'NombreEmpresa': 'Servicio de Salud Atacama'}, {'CodigoEmpresa': '7206', 'NombreEmpresa': 'SERVICIO DE SALUD AYSEN'}, {'CodigoEmpresa': '7308', 'NombreEmpresa': 'Servicio de Salud Bío Bío'}, {'CodigoEmpresa': '16223', 'NombreEmpresa': 'Servicio de Salud Chiloé'}, {'CodigoEmpresa': '7052', 'NombreEmpresa': 'Servicio de Salud Coquimbo'}, {'CodigoEmpresa': '7416', 'NombreEmpresa': 'SERVICIO DE SALUD COQUIMBO HOSPITAL DE COQUIMBO'}, {'CodigoEmpresa': '7471', 'NombreEmpresa': 'SERVICIO DE SALUD COQUIMBO HOSPITAL DE LOS VILOS'}, {'CodigoEmpresa': '7329', 'NombreEmpresa': 'SERVICIO DE SALUD COQUIMBO HOSPITAL VICUNA'}, {'CodigoEmpresa': '6926', 'NombreEmpresa': 'SERVICIO DE SALUD DE ARICA'}, {'CodigoEmpresa': '7374', 'NombreEmpresa': \"SERVICIO DE SALUD DEL LIBERTADOR B O'HIGGINS HOSPITAL REG RANCAGUA\"}, {'CodigoEmpresa': '7141', 'NombreEmpresa': 'Servicio de Salud del Maule'}, {'CodigoEmpresa': '7257', 'NombreEmpresa': 'SERVICIO DE SALUD DEL MAULE HOSPITAL DE LICANTEN'}, {'CodigoEmpresa': '7260', 'NombreEmpresa': 'SERVICIO DE SALUD DEL MAULE HOSPITAL DE TALCA'}, {'CodigoEmpresa': '7453', 'NombreEmpresa': 'SERVICIO DE SALUD IQUIQUE'}, {'CodigoEmpresa': '7382', 'NombreEmpresa': 'Servicio de Salud Magallanes'}, {'CodigoEmpresa': '7088', 'NombreEmpresa': 'Servicio de Salud Metropolitano Central'}, {'CodigoEmpresa': '7188', 'NombreEmpresa': 'Servicio de Salud Metropolitano del Ambiente'}, {'CodigoEmpresa': '6963', 'NombreEmpresa': 'Servicio de Salud Metropolitano Norte'}, {'CodigoEmpresa': '7029', 'NombreEmpresa': 'Servicio de Salud Metropolitano Occidente'}, {'CodigoEmpresa': '7006', 'NombreEmpresa': 'SERVICIO DE SALUD METROPOLITANO SUR'}, {'CodigoEmpresa': '7203', 'NombreEmpresa': 'Servicio de Salud Metropolitano Sur Oriente'}, {'CodigoEmpresa': '6932', 'NombreEmpresa': 'SERVICIO DE SALUD NUBLE'}, {'CodigoEmpresa': '7303', 'NombreEmpresa': 'SERVICIO DE SALUD NUBLE HOSPITAL DE QUIRIHUE'}, {'CodigoEmpresa': '7285', 'NombreEmpresa': 'Servicio de Salud Ñuble - Hospital de Coelemu'}, {'CodigoEmpresa': '7316', 'NombreEmpresa': 'SERVICIO DE SALUD OCCIDENTE HOSPITAL SAN JUAN DE DIOS'}, {'CodigoEmpresa': '7054', 'NombreEmpresa': 'Servicio de Salud Ohiggins'}, {'CodigoEmpresa': '7296', 'NombreEmpresa': 'SERVICIO DE SALUD OSORNO'}, {'CodigoEmpresa': '7305', 'NombreEmpresa': 'SERVICIO DE SALUD SUR HOSPITAL EXEQUIEL'}, {'CodigoEmpresa': '7315', 'NombreEmpresa': 'SERVICIO DE SALUD TALCAHUANO HOSPITAL DE'}, {'CodigoEmpresa': '7106', 'NombreEmpresa': 'SERVICIO DE SALUD VALDIVIA'}, {'CodigoEmpresa': '7410', 'NombreEmpresa': 'SERVICIO DE SALUD VALDIVIA HOSPITAL BASE'}, {'CodigoEmpresa': '7239', 'NombreEmpresa': 'SERVICIO DE SALUD VALPARAISO SAN ANTONIO'}, {'CodigoEmpresa': '7153', 'NombreEmpresa': 'Servicio de Salud Viña del Mar - Quillota'}, {'CodigoEmpresa': '6965', 'NombreEmpresa': 'SERVICIO DE VIVIENDA Y URBANIZACION AREA METROPOLITANA'}, {'CodigoEmpresa': '225773', 'NombreEmpresa': 'SERVICIO ELECTORAL'}, {'CodigoEmpresa': '1723291', 'NombreEmpresa': 'SERVICIO LOCAL DE EDUCACION PÚBLICA DE ATACAMA'}, {'CodigoEmpresa': '7179', 'NombreEmpresa': 'Servicio Médico Legal'}, {'CodigoEmpresa': '7479', 'NombreEmpresa': 'SERVICIO NAC DE SALUD HOSPITAL TRAUMATOLOGICO'}, {'CodigoEmpresa': '6952', 'NombreEmpresa': 'Servicio Nacional de Aduanas'}, {'CodigoEmpresa': '6962', 'NombreEmpresa': 'Servicio Nacional de Capacitación y Empleo'}, {'CodigoEmpresa': '7210', 'NombreEmpresa': 'Servicio Nacional de Geología y Minería'}, {'CodigoEmpresa': '6948', 'NombreEmpresa': 'Servicio Nacional de la Mujer'}, {'CodigoEmpresa': '7017', 'NombreEmpresa': 'Servicio Nacional de Menores'}, {'CodigoEmpresa': '7008', 'NombreEmpresa': 'SERVICIO NACIONAL DE PESCA'}, {'CodigoEmpresa': '7033', 'NombreEmpresa': 'Servicio Nacional de Pesca VI Región'}, {'CodigoEmpresa': '1468521', 'NombreEmpresa': 'SERVICIO NACIONAL DE SALUD HOSPITAL CARLOS VAN BUREN'}, {'CodigoEmpresa': '116754', 'NombreEmpresa': 'SERVICIO NACIONAL DE SALUD HOSPITAL DE C'}, {'CodigoEmpresa': '7332', 'NombreEmpresa': 'SERVICIO NACIONAL DE SALUD HOSPITAL DE CORONEL'}, {'CodigoEmpresa': '7190', 'NombreEmpresa': 'SERVICIO NACIONAL DE TURISMO'}, {'CodigoEmpresa': '7032', 'NombreEmpresa': 'SERVICIO NACIONAL DEL ADULTO MAYOR'}, {'CodigoEmpresa': '7230', 'NombreEmpresa': 'Servicio Nacional del Consumidor - SERNAC'}, {'CodigoEmpresa': '7011', 'NombreEmpresa': 'SERVICIO NACIONAL DEL PATRIMONIO CULTURAL'}, {'CodigoEmpresa': '278907', 'NombreEmpresa': 'Servicio Regional de la Vivienda y Urbanización Arica y Parinacota'}, {'CodigoEmpresa': '7433', 'NombreEmpresa': 'SERVICIO SALUD ARAUCANIA NORTE HOSPITAL CURACAUTIN'}, {'CodigoEmpresa': '7104', 'NombreEmpresa': 'SERVICIO SALUD DEL RELONCAVI'}, {'CodigoEmpresa': '6923', 'NombreEmpresa': 'SERVIU I Región'}, {'CodigoEmpresa': '6974', 'NombreEmpresa': 'SERVIU II Región'}, {'CodigoEmpresa': '6972', 'NombreEmpresa': 'SERVIU IV Región'}, {'CodigoEmpresa': '6980', 'NombreEmpresa': 'SERVIU IX Region'}, {'CodigoEmpresa': '6975', 'NombreEmpresa': 'SERVIU REGION DE ATACAMA'}, {'CodigoEmpresa': '6979', 'NombreEmpresa': 'SERVIU REGION DEL BIO BIO'}, {'CodigoEmpresa': '6968', 'NombreEmpresa': 'SERVIU V Región'}, {'CodigoEmpresa': '6977', 'NombreEmpresa': 'SERVIU VI Región'}, {'CodigoEmpresa': '6978', 'NombreEmpresa': 'SERVIU VII Región'}, {'CodigoEmpresa': '6981', 'NombreEmpresa': 'SERVIU X Región'}, {'CodigoEmpresa': '6982', 'NombreEmpresa': 'SERVIU XI Región'}, {'CodigoEmpresa': '6964', 'NombreEmpresa': 'SERVIU XII Región y Antartica Chilena'}, {'CodigoEmpresa': '7333', 'NombreEmpresa': 'Subdirección del Ambiente Servicio de Salud Thno.'}, {'CodigoEmpresa': '7065', 'NombreEmpresa': 'Subsecretaría de Aviación'}, {'CodigoEmpresa': '7036', 'NombreEmpresa': 'Subsecretaría de Carabineros'}, {'CodigoEmpresa': '1689493', 'NombreEmpresa': 'SUBSECRETARIA DE CIENCIA, TECNOLOGIA, CONOCIMIENTO E INNOVACION'}, {'CodigoEmpresa': '7081', 'NombreEmpresa': 'Subsecretaría de Desarrollo Regional'}, {'CodigoEmpresa': '7078', 'NombreEmpresa': 'SubSecretaria de Economía y Empresas de Menor Tamaño'}, {'CodigoEmpresa': '1155673', 'NombreEmpresa': 'Subsecretaría de Energía'}, {'CodigoEmpresa': '6943', 'NombreEmpresa': 'Subsecretaría de Hacienda'}, {'CodigoEmpresa': '7217', 'NombreEmpresa': 'Subsecretaría de Investigaciones'}, {'CodigoEmpresa': '7080', 'NombreEmpresa': 'Subsecretaría de Justicia'}, {'CodigoEmpresa': '7359', 'NombreEmpresa': 'SUBSECRETARÍA DE LAS CULTURAS Y LAS ARTES'}, {'CodigoEmpresa': '7221', 'NombreEmpresa': 'Subsecretaría de Marina'}, {'CodigoEmpresa': '7018', 'NombreEmpresa': 'Subsecretaría de Minería'}, {'CodigoEmpresa': '7211', 'NombreEmpresa': 'Subsecretaría de Pesca y Acuicultura'}, {'CodigoEmpresa': '7191', 'NombreEmpresa': 'Subsecretaría de Previsión Social'}, {'CodigoEmpresa': '7227', 'NombreEmpresa': 'Subsecretaría de R.R.E.E.'}, {'CodigoEmpresa': '1674041', 'NombreEmpresa': 'Subsecretaría de Relaciones Económicas Internacionales'}, {'CodigoEmpresa': '7079', 'NombreEmpresa': 'Subsecretaría de Salud Pública'}, {'CodigoEmpresa': '6947', 'NombreEmpresa': 'Subsecretaría de Servicios Sociales'}, {'CodigoEmpresa': '6934', 'NombreEmpresa': 'Subsecretaría de Telecomunicaciones'}, {'CodigoEmpresa': '7007', 'NombreEmpresa': 'Subsecretaría de Transportes'}, {'CodigoEmpresa': '1198788', 'NombreEmpresa': 'Subsecretaría del Medio Ambiente'}, {'CodigoEmpresa': '7189', 'NombreEmpresa': 'SUBSECRETARIA DEL MINISTERIO DE AGRICULT'}, {'CodigoEmpresa': '6958', 'NombreEmpresa': 'SUBSECRETARIA DEL MINISTERIO DE EDUCACION PUBLICA'}, {'CodigoEmpresa': '6951', 'NombreEmpresa': 'SUBSECRETARIA DEL MINISTERIO DE LA VIVIENDA Y URBANISMO'}, {'CodigoEmpresa': '6939', 'NombreEmpresa': 'Subsecretaria del Trabajo'}, {'CodigoEmpresa': '128260', 'NombreEmpresa': 'SUPERINTENDENCIA DE CASINOS DE JUEGO'}, {'CodigoEmpresa': '7232', 'NombreEmpresa': 'Superintendencia de Electricidad y Combustibles'}, {'CodigoEmpresa': '7181', 'NombreEmpresa': 'Superintendencia de Insolvencia y Reemprendimiento'}, {'CodigoEmpresa': '93096', 'NombreEmpresa': 'Superintendencia de Pensiones'}, {'CodigoEmpresa': '6930', 'NombreEmpresa': 'Superintendencia de Salud'}, {'CodigoEmpresa': '7114', 'NombreEmpresa': 'Superintendencia de Seguridad Social'}, {'CodigoEmpresa': '7192', 'NombreEmpresa': 'Superintendencia de Servicios Sanitarios'}, {'CodigoEmpresa': '6956', 'NombreEmpresa': 'Tesorería General de la República'}, {'CodigoEmpresa': '1083414', 'NombreEmpresa': 'UNIDAD ADMINISTRADORA DE LOS TRIBUNALES TRIBUTARIOS Y ADUANEROS'}, {'CodigoEmpresa': '85017', 'NombreEmpresa': 'Unidad de Analisis Financiero'}, {'CodigoEmpresa': '7254', 'NombreEmpresa': 'UNIVERSIDAD ARTURO PRAT SEDE IQUIQUE'}, {'CodigoEmpresa': '130585', 'NombreEmpresa': 'Universidad de Antofagasta'}, {'CodigoEmpresa': '103916', 'NombreEmpresa': 'universidad de atacama'}, {'CodigoEmpresa': '7251', 'NombreEmpresa': 'Universidad de Chile'}, {'CodigoEmpresa': '277559', 'NombreEmpresa': 'Universidad de la Frontera'}, {'CodigoEmpresa': '7319', 'NombreEmpresa': 'Universidad de La Serena'}, {'CodigoEmpresa': '266724', 'NombreEmpresa': 'Universidad de Los Lagos'}, {'CodigoEmpresa': '257227', 'NombreEmpresa': 'Universidad de Magallanes'}, {'CodigoEmpresa': '130972', 'NombreEmpresa': 'UNIVERSIDAD DE PLAYA ANCHA DE CIENCIAS DE LA EDUC.'}, {'CodigoEmpresa': '212299', 'NombreEmpresa': 'Universidad de Santiago de Chile'}, {'CodigoEmpresa': '7147', 'NombreEmpresa': 'Universidad de Talca'}, {'CodigoEmpresa': '204439', 'NombreEmpresa': 'Universidad de Tarapacá'}, {'CodigoEmpresa': '96996', 'NombreEmpresa': 'Universidad de Valparaíso'}, {'CodigoEmpresa': '99805', 'NombreEmpresa': 'Universidad del Bío-Bío'}, {'CodigoEmpresa': '164268', 'NombreEmpresa': 'UNIVERSIDAD METROPOLITANA DE CIENCIAS DE LA EDUCAC'}, {'CodigoEmpresa': '126109', 'NombreEmpresa': 'UNIVERSIDAD TECNOLOGICA METROPOLITANA'}, {'CodigoEmpresa': '7438', 'NombreEmpresa': 'Zona Franca de Iquique'}]}\n"
          ],
          "name": "stdout"
        }
      ]
    },
    {
      "cell_type": "code",
      "metadata": {
        "id": "wvAtOkF-MYNL",
        "outputId": "4a8e3530-f96c-4fba-8fd8-700694532db6",
        "colab": {
          "base_uri": "https://localhost:8080/",
          "height": 33
        }
      },
      "source": [
        "pd.read_json"
      ],
      "execution_count": 127,
      "outputs": [
        {
          "output_type": "execute_result",
          "data": {
            "text/plain": [
              "<function pandas.io.json._json.read_json>"
            ]
          },
          "metadata": {
            "tags": []
          },
          "execution_count": 127
        }
      ]
    },
    {
      "cell_type": "code",
      "metadata": {
        "id": "aFii6wnMLfDy"
      },
      "source": [
        "empresas = respuestajson2[\"listaEmpresas\"]"
      ],
      "execution_count": 140,
      "outputs": []
    },
    {
      "cell_type": "code",
      "metadata": {
        "id": "nuyOgvKVOh0Y"
      },
      "source": [
        "empresas"
      ],
      "execution_count": null,
      "outputs": []
    },
    {
      "cell_type": "code",
      "metadata": {
        "id": "xLN6QyvTRwc7"
      },
      "source": [
        "df_empresas_todas = pd.DataFrame(empresas, columns=[\"CodigoEmpresa\",\"NombreEmpresa\"])"
      ],
      "execution_count": 145,
      "outputs": []
    },
    {
      "cell_type": "code",
      "metadata": {
        "id": "mtTU-9x3RRbV",
        "outputId": "9ffa140f-b109-4647-d10f-9346e9954d34",
        "colab": {
          "base_uri": "https://localhost:8080/",
          "height": 391
        }
      },
      "source": [
        "df_empresas_todas"
      ],
      "execution_count": 146,
      "outputs": [
        {
          "output_type": "execute_result",
          "data": {
            "text/html": [
              "<div>\n",
              "<style scoped>\n",
              "    .dataframe tbody tr th:only-of-type {\n",
              "        vertical-align: middle;\n",
              "    }\n",
              "\n",
              "    .dataframe tbody tr th {\n",
              "        vertical-align: top;\n",
              "    }\n",
              "\n",
              "    .dataframe thead th {\n",
              "        text-align: right;\n",
              "    }\n",
              "</style>\n",
              "<table border=\"1\" class=\"dataframe\">\n",
              "  <thead>\n",
              "    <tr style=\"text-align: right;\">\n",
              "      <th></th>\n",
              "      <th>CodigoEmpresa</th>\n",
              "      <th>NombreEmpresa</th>\n",
              "    </tr>\n",
              "  </thead>\n",
              "  <tbody>\n",
              "    <tr>\n",
              "      <th>0</th>\n",
              "      <td>1034640</td>\n",
              "      <td>CORPORACION MUNICIPAL DE PEÑALOLEN PARA EL DE...</td>\n",
              "    </tr>\n",
              "    <tr>\n",
              "      <th>1</th>\n",
              "      <td>7311</td>\n",
              "      <td>Hospital de enfermedades InfecciDr. Lucio Cór...</td>\n",
              "    </tr>\n",
              "    <tr>\n",
              "      <th>2</th>\n",
              "      <td>7086</td>\n",
              "      <td>AGENCIA CHILENA DE COOPERACION INTERNACIONAL P...</td>\n",
              "    </tr>\n",
              "    <tr>\n",
              "      <th>3</th>\n",
              "      <td>1224636</td>\n",
              "      <td>Agencia Chilena de Eficiencia Energética</td>\n",
              "    </tr>\n",
              "    <tr>\n",
              "      <th>4</th>\n",
              "      <td>7193</td>\n",
              "      <td>Agencia de Promoción de la Inversión Extranjera</td>\n",
              "    </tr>\n",
              "    <tr>\n",
              "      <th>...</th>\n",
              "      <td>...</td>\n",
              "      <td>...</td>\n",
              "    </tr>\n",
              "    <tr>\n",
              "      <th>858</th>\n",
              "      <td>96996</td>\n",
              "      <td>Universidad de Valparaíso</td>\n",
              "    </tr>\n",
              "    <tr>\n",
              "      <th>859</th>\n",
              "      <td>99805</td>\n",
              "      <td>Universidad del Bío-Bío</td>\n",
              "    </tr>\n",
              "    <tr>\n",
              "      <th>860</th>\n",
              "      <td>164268</td>\n",
              "      <td>UNIVERSIDAD METROPOLITANA DE CIENCIAS DE LA ED...</td>\n",
              "    </tr>\n",
              "    <tr>\n",
              "      <th>861</th>\n",
              "      <td>126109</td>\n",
              "      <td>UNIVERSIDAD TECNOLOGICA METROPOLITANA</td>\n",
              "    </tr>\n",
              "    <tr>\n",
              "      <th>862</th>\n",
              "      <td>7438</td>\n",
              "      <td>Zona Franca de Iquique</td>\n",
              "    </tr>\n",
              "  </tbody>\n",
              "</table>\n",
              "<p>863 rows × 2 columns</p>\n",
              "</div>"
            ],
            "text/plain": [
              "    CodigoEmpresa                                      NombreEmpresa\n",
              "0         1034640   CORPORACION MUNICIPAL DE PEÑALOLEN PARA EL DE...\n",
              "1            7311   Hospital de enfermedades InfecciDr. Lucio Cór...\n",
              "2            7086  AGENCIA CHILENA DE COOPERACION INTERNACIONAL P...\n",
              "3         1224636           Agencia Chilena de Eficiencia Energética\n",
              "4            7193    Agencia de Promoción de la Inversión Extranjera\n",
              "..            ...                                                ...\n",
              "858         96996                          Universidad de Valparaíso\n",
              "859         99805                            Universidad del Bío-Bío\n",
              "860        164268  UNIVERSIDAD METROPOLITANA DE CIENCIAS DE LA ED...\n",
              "861        126109              UNIVERSIDAD TECNOLOGICA METROPOLITANA\n",
              "862          7438                             Zona Franca de Iquique\n",
              "\n",
              "[863 rows x 2 columns]"
            ]
          },
          "metadata": {
            "tags": []
          },
          "execution_count": 146
        }
      ]
    },
    {
      "cell_type": "code",
      "metadata": {
        "id": "GqkI3mbqZyGm"
      },
      "source": [
        "#import pandas as pd\n",
        "\n",
        "#ruta= \"C:\\\\Users\\\\jon abaroa\\\\Desktop\\\\iberica\\\\codigo\\\\organizaciones.xlsx\"\n",
        "\n",
        "#df = pd.read_excel(ruta)\n",
        "\n",
        "#df.to_excel(ruta)"
      ],
      "execution_count": null,
      "outputs": []
    },
    {
      "cell_type": "markdown",
      "metadata": {
        "id": "Jp1qplhrKjBS"
      },
      "source": [
        "**Prueba de union entre dataframe y excel valentina**"
      ]
    },
    {
      "cell_type": "code",
      "metadata": {
        "id": "2Xa_zRYFdbR7",
        "outputId": "e009d3d5-8ce0-4a34-a030-5711e150d656",
        "colab": {
          "base_uri": "https://localhost:8080/",
          "height": 33
        }
      },
      "source": [
        "import pandas as pd\n",
        "\n",
        "xlsx = pd.ExcelFile(\"organizaciones.xlsx\")\n",
        "print(xlsx.sheet_names)"
      ],
      "execution_count": 150,
      "outputs": [
        {
          "output_type": "stream",
          "text": [
            "['Instituciones']\n"
          ],
          "name": "stdout"
        }
      ]
    },
    {
      "cell_type": "code",
      "metadata": {
        "id": "9_WOs81CdiUM",
        "outputId": "ea9f29d8-3ff2-4bc1-d3cd-f25b12e0acb3",
        "colab": {
          "base_uri": "https://localhost:8080/",
          "height": 245
        }
      },
      "source": [
        "df=xlsx.parse(\"Instituciones\")\n",
        "print(df)"
      ],
      "execution_count": 172,
      "outputs": [
        {
          "output_type": "stream",
          "text": [
            "                                             Organismo\n",
            "0     Hospital de enfermedades InfecciDr. Lucio Cór...\n",
            "1    CENTRO DE ESPECIALIDAD DE ATENCIÓN PREHOSPITAL...\n",
            "2               Centro de Referencia de Salud de Maipú\n",
            "3    Centro de Referencia de Salud Hospital Provinc...\n",
            "4                    Centro de Salud Cordillera Andina\n",
            "..                                                 ...\n",
            "119  SERVICIO DE SALUD OCCIDENTE HOSPITAL SAN JUAN ...\n",
            "120                           SERVICIO DE SALUD OSORNO\n",
            "121                         Servicio de Salud Valdivia\n",
            "122           Servicio de Salud Valparaíso San Antonio\n",
            "123          Servicio de Salud Viña del Mar - Quillota\n",
            "\n",
            "[124 rows x 1 columns]\n"
          ],
          "name": "stdout"
        }
      ]
    },
    {
      "cell_type": "code",
      "metadata": {
        "id": "wUOgACfAgf77",
        "outputId": "4c349779-1575-46ff-de7c-f1020527e89d",
        "colab": {
          "base_uri": "https://localhost:8080/",
          "height": 33
        }
      },
      "source": [
        "df.columns"
      ],
      "execution_count": 173,
      "outputs": [
        {
          "output_type": "execute_result",
          "data": {
            "text/plain": [
              "Index(['Organismo'], dtype='object')"
            ]
          },
          "metadata": {
            "tags": []
          },
          "execution_count": 173
        }
      ]
    },
    {
      "cell_type": "code",
      "metadata": {
        "id": "4Xkry7-bgmdz"
      },
      "source": [
        "df.columns = [\"NombreEmpresa\"]"
      ],
      "execution_count": 174,
      "outputs": []
    },
    {
      "cell_type": "markdown",
      "metadata": {
        "id": "gJfgugciKjOD"
      },
      "source": [
        "**Outer Merge**"
      ]
    },
    {
      "cell_type": "code",
      "metadata": {
        "id": "UWIUYLRWtqU7",
        "outputId": "d2071fd1-a690-4891-c37a-3ded4c365d42",
        "colab": {
          "base_uri": "https://localhost:8080/",
          "height": 245
        }
      },
      "source": [
        "import pandas as pd\n",
        "\n",
        "store_a_b_outer = pd.merge(df, df_empresas_todas, how='outer')\n",
        "\n",
        "print(store_a_b_outer)"
      ],
      "execution_count": 183,
      "outputs": [
        {
          "output_type": "stream",
          "text": [
            "                                         NombreEmpresa CodigoEmpresa\n",
            "0     Hospital de enfermedades InfecciDr. Lucio Cór...          7311\n",
            "1    CENTRO DE ESPECIALIDAD DE ATENCIÓN PREHOSPITAL...           NaN\n",
            "2               Centro de Referencia de Salud de Maipú          7317\n",
            "3    Centro de Referencia de Salud Hospital Provinc...           NaN\n",
            "4                    Centro de Salud Cordillera Andina           NaN\n",
            "..                                                 ...           ...\n",
            "888                          Universidad de Valparaíso         96996\n",
            "889                            Universidad del Bío-Bío         99805\n",
            "890  UNIVERSIDAD METROPOLITANA DE CIENCIAS DE LA ED...        164268\n",
            "891              UNIVERSIDAD TECNOLOGICA METROPOLITANA        126109\n",
            "892                             Zona Franca de Iquique          7438\n",
            "\n",
            "[893 rows x 2 columns]\n"
          ],
          "name": "stdout"
        }
      ]
    },
    {
      "cell_type": "code",
      "metadata": {
        "id": "6j4MuzpehEFH",
        "outputId": "aadd1c6b-efd5-4dda-c529-d3202aa3412e",
        "colab": {
          "base_uri": "https://localhost:8080/",
          "height": 33
        }
      },
      "source": [
        "df.columns"
      ],
      "execution_count": 175,
      "outputs": [
        {
          "output_type": "execute_result",
          "data": {
            "text/plain": [
              "Index(['NombreEmpresa'], dtype='object')"
            ]
          },
          "metadata": {
            "tags": []
          },
          "execution_count": 175
        }
      ]
    },
    {
      "cell_type": "code",
      "metadata": {
        "id": "3NMmGgrMfDpt"
      },
      "source": [
        "comparativo = pd.merge(df, df_empresas_todas)"
      ],
      "execution_count": 176,
      "outputs": []
    },
    {
      "cell_type": "code",
      "metadata": {
        "id": "iMEL-_7KhHho",
        "outputId": "1882a2a0-0637-4a37-f34d-c66267401a2b",
        "colab": {
          "base_uri": "https://localhost:8080/",
          "height": 76
        }
      },
      "source": [
        "comparativo.head(1)"
      ],
      "execution_count": 177,
      "outputs": [
        {
          "output_type": "execute_result",
          "data": {
            "text/html": [
              "<div>\n",
              "<style scoped>\n",
              "    .dataframe tbody tr th:only-of-type {\n",
              "        vertical-align: middle;\n",
              "    }\n",
              "\n",
              "    .dataframe tbody tr th {\n",
              "        vertical-align: top;\n",
              "    }\n",
              "\n",
              "    .dataframe thead th {\n",
              "        text-align: right;\n",
              "    }\n",
              "</style>\n",
              "<table border=\"1\" class=\"dataframe\">\n",
              "  <thead>\n",
              "    <tr style=\"text-align: right;\">\n",
              "      <th></th>\n",
              "      <th>NombreEmpresa</th>\n",
              "      <th>CodigoEmpresa</th>\n",
              "    </tr>\n",
              "  </thead>\n",
              "  <tbody>\n",
              "    <tr>\n",
              "      <th>0</th>\n",
              "      <td>Hospital de enfermedades InfecciDr. Lucio Cór...</td>\n",
              "      <td>7311</td>\n",
              "    </tr>\n",
              "  </tbody>\n",
              "</table>\n",
              "</div>"
            ],
            "text/plain": [
              "                                       NombreEmpresa CodigoEmpresa\n",
              "0   Hospital de enfermedades InfecciDr. Lucio Cór...          7311"
            ]
          },
          "metadata": {
            "tags": []
          },
          "execution_count": 177
        }
      ]
    },
    {
      "cell_type": "code",
      "metadata": {
        "id": "cRx1yHCqhM1_",
        "outputId": "01076581-3e22-44f7-fe65-f4fcac337c7c",
        "colab": {
          "base_uri": "https://localhost:8080/",
          "height": 391
        }
      },
      "source": [
        "comparativo"
      ],
      "execution_count": 178,
      "outputs": [
        {
          "output_type": "execute_result",
          "data": {
            "text/html": [
              "<div>\n",
              "<style scoped>\n",
              "    .dataframe tbody tr th:only-of-type {\n",
              "        vertical-align: middle;\n",
              "    }\n",
              "\n",
              "    .dataframe tbody tr th {\n",
              "        vertical-align: top;\n",
              "    }\n",
              "\n",
              "    .dataframe thead th {\n",
              "        text-align: right;\n",
              "    }\n",
              "</style>\n",
              "<table border=\"1\" class=\"dataframe\">\n",
              "  <thead>\n",
              "    <tr style=\"text-align: right;\">\n",
              "      <th></th>\n",
              "      <th>NombreEmpresa</th>\n",
              "      <th>CodigoEmpresa</th>\n",
              "    </tr>\n",
              "  </thead>\n",
              "  <tbody>\n",
              "    <tr>\n",
              "      <th>0</th>\n",
              "      <td>Hospital de enfermedades InfecciDr. Lucio Cór...</td>\n",
              "      <td>7311</td>\n",
              "    </tr>\n",
              "    <tr>\n",
              "      <th>1</th>\n",
              "      <td>Centro de Referencia de Salud de Maipú</td>\n",
              "      <td>7317</td>\n",
              "    </tr>\n",
              "    <tr>\n",
              "      <th>2</th>\n",
              "      <td>Complejo Asistencial Dr. Sotero del Rio</td>\n",
              "      <td>7320</td>\n",
              "    </tr>\n",
              "    <tr>\n",
              "      <th>3</th>\n",
              "      <td>Complejo Asistencial Dr. Victor Ríos Ruíz</td>\n",
              "      <td>7375</td>\n",
              "    </tr>\n",
              "    <tr>\n",
              "      <th>4</th>\n",
              "      <td>Consultorio Miraflores</td>\n",
              "      <td>7133</td>\n",
              "    </tr>\n",
              "    <tr>\n",
              "      <th>...</th>\n",
              "      <td>...</td>\n",
              "      <td>...</td>\n",
              "    </tr>\n",
              "    <tr>\n",
              "      <th>89</th>\n",
              "      <td>SERVICIO DE SALUD METROPOLITANO SUR</td>\n",
              "      <td>7006</td>\n",
              "    </tr>\n",
              "    <tr>\n",
              "      <th>90</th>\n",
              "      <td>Servicio de Salud Metropolitano Sur Oriente</td>\n",
              "      <td>7203</td>\n",
              "    </tr>\n",
              "    <tr>\n",
              "      <th>91</th>\n",
              "      <td>SERVICIO DE SALUD OCCIDENTE HOSPITAL SAN JUAN ...</td>\n",
              "      <td>7316</td>\n",
              "    </tr>\n",
              "    <tr>\n",
              "      <th>92</th>\n",
              "      <td>SERVICIO DE SALUD OSORNO</td>\n",
              "      <td>7296</td>\n",
              "    </tr>\n",
              "    <tr>\n",
              "      <th>93</th>\n",
              "      <td>Servicio de Salud Viña del Mar - Quillota</td>\n",
              "      <td>7153</td>\n",
              "    </tr>\n",
              "  </tbody>\n",
              "</table>\n",
              "<p>94 rows × 2 columns</p>\n",
              "</div>"
            ],
            "text/plain": [
              "                                        NombreEmpresa CodigoEmpresa\n",
              "0    Hospital de enfermedades InfecciDr. Lucio Cór...          7311\n",
              "1              Centro de Referencia de Salud de Maipú          7317\n",
              "2             Complejo Asistencial Dr. Sotero del Rio          7320\n",
              "3           Complejo Asistencial Dr. Victor Ríos Ruíz          7375\n",
              "4                              Consultorio Miraflores          7133\n",
              "..                                                ...           ...\n",
              "89                SERVICIO DE SALUD METROPOLITANO SUR          7006\n",
              "90        Servicio de Salud Metropolitano Sur Oriente          7203\n",
              "91  SERVICIO DE SALUD OCCIDENTE HOSPITAL SAN JUAN ...          7316\n",
              "92                           SERVICIO DE SALUD OSORNO          7296\n",
              "93          Servicio de Salud Viña del Mar - Quillota          7153\n",
              "\n",
              "[94 rows x 2 columns]"
            ]
          },
          "metadata": {
            "tags": []
          },
          "execution_count": 178
        }
      ]
    },
    {
      "cell_type": "code",
      "metadata": {
        "id": "YK2LI02tfyz9"
      },
      "source": [
        "comparativo.head(1)"
      ],
      "execution_count": null,
      "outputs": []
    },
    {
      "cell_type": "code",
      "metadata": {
        "id": "6BKRXv4Qht52",
        "outputId": "da36af28-c15d-4f35-e691-ce7846a11e85",
        "colab": {
          "base_uri": "https://localhost:8080/",
          "height": 245
        }
      },
      "source": [
        "merged_df = pd.merge(df,df_empresas_todas)\n",
        "\n",
        "print(merged_df)"
      ],
      "execution_count": 171,
      "outputs": [
        {
          "output_type": "stream",
          "text": [
            "                                        NombreEmpresa CodigoEmpresa\n",
            "0    Hospital de enfermedades InfecciDr. Lucio Cór...          7311\n",
            "1              Centro de Referencia de Salud de Maipú          7317\n",
            "2             Complejo Asistencial Dr. Sotero del Rio          7320\n",
            "3           Complejo Asistencial Dr. Victor Ríos Ruíz          7375\n",
            "4                              Consultorio Miraflores          7133\n",
            "..                                                ...           ...\n",
            "89                SERVICIO DE SALUD METROPOLITANO SUR          7006\n",
            "90        Servicio de Salud Metropolitano Sur Oriente          7203\n",
            "91  SERVICIO DE SALUD OCCIDENTE HOSPITAL SAN JUAN ...          7316\n",
            "92                           SERVICIO DE SALUD OSORNO          7296\n",
            "93          Servicio de Salud Viña del Mar - Quillota          7153\n",
            "\n",
            "[94 rows x 2 columns]\n"
          ],
          "name": "stdout"
        }
      ]
    },
    {
      "cell_type": "code",
      "metadata": {
        "id": "oN3olLKkleUS",
        "outputId": "8efd599f-a5ec-4306-9b5f-adee120fe564",
        "colab": {
          "base_uri": "https://localhost:8080/",
          "height": 128
        }
      },
      "source": [
        "# EXPOERTAR UN ARCHIVO\n",
        "merged_df.to_excel (C:\\\\Users\\\\jon abaroa\\\\Desktop\\\\iberica\\\\codigo)"
      ],
      "execution_count": 182,
      "outputs": [
        {
          "output_type": "error",
          "ename": "SyntaxError",
          "evalue": "ignored",
          "traceback": [
            "\u001b[0;36m  File \u001b[0;32m\"<ipython-input-182-e109e21f1b75>\"\u001b[0;36m, line \u001b[0;32m2\u001b[0m\n\u001b[0;31m    merged_df.to_excel (C:\\\\Users\\\\jon abaroa\\\\Desktop\\\\iberica\\\\codigo)\u001b[0m\n\u001b[0m                         ^\u001b[0m\n\u001b[0;31mSyntaxError\u001b[0m\u001b[0;31m:\u001b[0m invalid syntax\n"
          ]
        }
      ]
    },
    {
      "cell_type": "code",
      "metadata": {
        "id": "Yt2HO8haiSOM",
        "outputId": "e85838ba-7a4e-49d7-d190-cfe52818511e",
        "colab": {
          "base_uri": "https://localhost:8080/",
          "height": 245
        }
      },
      "source": [
        "store_a_b_outer = pd.merge(df_empresas_todas,df, how='outer')\n",
        "\n",
        "print(store_a_b_outer)"
      ],
      "execution_count": 166,
      "outputs": [
        {
          "output_type": "stream",
          "text": [
            "    CodigoEmpresa                                      NombreEmpresa\n",
            "0         1034640   CORPORACION MUNICIPAL DE PEÑALOLEN PARA EL DE...\n",
            "1            7311   Hospital de enfermedades InfecciDr. Lucio Cór...\n",
            "2            7086  AGENCIA CHILENA DE COOPERACION INTERNACIONAL P...\n",
            "3         1224636           Agencia Chilena de Eficiencia Energética\n",
            "4            7193    Agencia de Promoción de la Inversión Extranjera\n",
            "..            ...                                                ...\n",
            "888           NaN                    Servicio de Salud del Reloncaví\n",
            "889           NaN            Servicio de Salud Metropolitano Oriente\n",
            "890           NaN                            Servicio de Salud Nuble\n",
            "891           NaN                         Servicio de Salud Valdivia\n",
            "892           NaN           Servicio de Salud Valparaíso San Antonio\n",
            "\n",
            "[893 rows x 2 columns]\n"
          ],
          "name": "stdout"
        }
      ]
    },
    {
      "cell_type": "code",
      "metadata": {
        "id": "o7jKnR4vizx-",
        "outputId": "8e6f568d-2bbf-4086-96eb-63142cdbee2b",
        "colab": {
          "base_uri": "https://localhost:8080/",
          "height": 82
        }
      },
      "source": [
        "store_a_b_outer.isna().value_counts()"
      ],
      "execution_count": 170,
      "outputs": [
        {
          "output_type": "execute_result",
          "data": {
            "text/plain": [
              "CodigoEmpresa  NombreEmpresa\n",
              "False          False            863\n",
              "True           False             30\n",
              "dtype: int64"
            ]
          },
          "metadata": {
            "tags": []
          },
          "execution_count": 170
        }
      ]
    },
    {
      "cell_type": "markdown",
      "metadata": {
        "id": "KCGXlTHQKiyr"
      },
      "source": [
        ""
      ]
    }
  ]
}