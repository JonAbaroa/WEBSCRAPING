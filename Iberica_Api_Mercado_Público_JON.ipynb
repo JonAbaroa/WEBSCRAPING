{
  "nbformat": 4,
  "nbformat_minor": 0,
  "metadata": {
    "kernelspec": {
      "display_name": "Python 3",
      "language": "python",
      "name": "python3"
    },
    "language_info": {
      "codemirror_mode": {
        "name": "ipython",
        "version": 3
      },
      "file_extension": ".py",
      "mimetype": "text/x-python",
      "name": "python",
      "nbconvert_exporter": "python",
      "pygments_lexer": "ipython3",
      "version": "3.6.4"
    },
    "colab": {
      "name": "Iberica_Api_Mercado_Público_JON.ipynb",
      "provenance": [],
      "collapsed_sections": [
        "Lm06702GSRep",
        "l2rrhkm6SWyW",
        "gCE00ORHrNVN",
        "t0K5qf_w7Let",
        "fog486USRp9I",
        "y_TvMRDm1z4U",
        "u2gpVD6rR0Tn"
      ],
      "toc_visible": true,
      "include_colab_link": true
    }
  },
  "cells": [
    {
      "cell_type": "markdown",
      "metadata": {
        "id": "view-in-github",
        "colab_type": "text"
      },
      "source": [
        "<a href=\"https://colab.research.google.com/github/JonAbaroa/WEBSCRAPING/blob/main/Iberica_Api_Mercado_P%C3%BAblico_JON.ipynb\" target=\"_parent\"><img src=\"https://colab.research.google.com/assets/colab-badge.svg\" alt=\"Open In Colab\"/></a>"
      ]
    },
    {
      "cell_type": "markdown",
      "metadata": {
        "id": "gxv5kngCSiE2"
      },
      "source": [
        "Estimado jon iñaki abaroa schilling:\n",
        "Con fecha 25-09-2020, se envia Ticket:\n",
        "\n",
        "166E1F2D-5FD5-4063-BA75-CFA20CE6798B"
      ]
    },
    {
      "cell_type": "markdown",
      "metadata": {
        "id": "Lm06702GSRep"
      },
      "source": [
        "## **Resumen API-Tipos de Consultas**\n"
      ]
    },
    {
      "cell_type": "markdown",
      "metadata": {
        "id": "l2rrhkm6SWyW"
      },
      "source": [
        "**Servicio Web**\n",
        "\n",
        "Los archivos de los recursos a los que se accede a través de api.mercadopublico.cl, utilizan las siguientes estructuras:\n",
        "\n",
        "Formato JSON:\n",
        "http://api.mercadopublico.cl/servicios/v1/publico/licitaciones.json?fecha=02022014&ticket=F8537A18-6766-4DEF-9E59-426B4FEE2844\n",
        "\n",
        "Formato JSONP:\n",
        "http://api.mercadopublico.cl/servicios/v1/publico/licitaciones.jsonp?fecha=02022014&callback=respuesta&ticket=F8537A18-6766-4DEF-9E59-426B4FEE2844\n",
        "\n",
        "Formato XML:\n",
        "http://api.mercadopublico.cl/servicios/v1/publico/licitaciones.xml?fecha=02022014&ticket=F8537A18-6766-4DEF-9E59-426B4FEE2844\n",
        "\n",
        "\n",
        "Notas sobre la información solicitada\n",
        "Los estados de las licitaciones consultadas serán mostrados por código, descritos de la siguiente forma:\n",
        "\n",
        "Publicada = \"5\"\n",
        "Cerrada = \"6\"\n",
        "Desierta = \"7\"\n",
        "Adjudicada = \"8\"\n",
        "Revocada = \"18\"\n",
        "Suspendida = \"19\""
      ]
    },
    {
      "cell_type": "markdown",
      "metadata": {
        "id": "BjY6n7RBqhyj"
      },
      "source": [
        "**Por {código} de licitación:**\n",
        "\n",
        "Ejemplo de {codigo} = 1509-5-L114\n",
        "\n",
        "http://api.mercadopublico.cl/servicios/v1/publico/licitaciones.json?codigo=1509-5-L114&ticket=F8537A18-6766-4DEF-9E59-426B4FEE2844"
      ]
    },
    {
      "cell_type": "markdown",
      "metadata": {
        "id": "X5ILrprjqhJr"
      },
      "source": [
        "**Por todos los estados del día actual:**\n",
        "\n",
        "http://api.mercadopublico.cl/servicios/v1/publico/licitaciones.json?ticket=F8537A18-6766-4DEF-9E59-426B4FEE2844"
      ]
    },
    {
      "cell_type": "markdown",
      "metadata": {
        "id": "lqYFw5Jz2ZoK"
      },
      "source": [
        "**Por todos los estados de una {fecha} en particular:**\n",
        "\n",
        "Ejemplo de {fecha} = 02022014\n",
        "\n",
        "http://api.mercadopublico.cl/servicios/v1/publico/licitaciones.json?fecha=02022014&ticket=F8537A18-6766-4DEF-9E59-426B4FEE2844\n",
        "\n",
        "\n",
        "Por estado \"activas\" :\n",
        "\n",
        "La opción estados \"activas\", muestra todas las licitaciones publicadas al día de realizada la consulta.\n",
        "\n",
        "http://api.mercadopublico.cl/servicios/v1/publico/licitaciones.json?estado={estado}&ticket=F8537A18-6766-4DEF-9E59-426B4FEE2844\n",
        "\n",
        "http://api.mercadopublico.cl/servicios/v1/publico/licitaciones.json?estado=activas&ticket=F8537A18-6766-4DEF-9E59-426B4FEE2844"
      ]
    },
    {
      "cell_type": "markdown",
      "metadata": {
        "id": "dOpJh1702Z9z"
      },
      "source": [
        "**Por {estado} del día actual::**\n",
        "\n",
        "{estados} de las licitaciones:\n",
        "\n",
        "Publicada Cerrada Desierta Adjudicada Revocada Suspendida Todos (muestra todos los estados posibles antes señalados)\n",
        "\n",
        "http://api.mercadopublico.cl/servicios/v1/publico/licitaciones.json?fecha=02022014&estado={estado}&ticket=F8537A18-6766-4DEF-9E59-426B4FEE2844\n",
        "\n",
        "http://api.mercadopublico.cl/servicios/v1/publico/licitaciones.json?fecha=02022014&estado=adjudicada&ticket=F8537A18-6766-4DEF-9E59-426B4FEE2844"
      ]
    },
    {
      "cell_type": "markdown",
      "metadata": {
        "id": "5_5iZOJa2ZzT"
      },
      "source": [
        "**Por {código} de Organismo Público:**\n",
        "\n",
        "Ejemplo de {CódigoOrganismo} = 694\n",
        "\n",
        "http://api.mercadopublico.cl/servicios/v1/publico/licitaciones.json?fecha={fecha}&CodigoOrganismo={CódigoOrganismo}&ticket=F8537A18-6766-4DEF-9E59-426B4FEE2844\n",
        "\n",
        "http://api.mercadopublico.cl/servicios/v1/publico/licitaciones.json?fecha=02022014&CodigoOrganismo=6945&ticket=F8537A18-6766-4DEF-9E59-426B4FEE2844"
      ]
    },
    {
      "cell_type": "markdown",
      "metadata": {
        "id": "kXb-MmUF2Zdh"
      },
      "source": [
        "**Por {código} de Proveedor:**\n",
        "\n",
        "Ejemplo de {CódigoProveedor} = 17793\n",
        "\n",
        "http://api.mercadopublico.cl/servicios/v1/publico/licitaciones.json?fecha=02022014&CodigoProveedor={CódigoProveedor}&ticket=F8537A18-6766-4DEF-9E59-426B4FEE2844\n",
        "\n",
        "http://api.mercadopublico.cl/servicios/v1/publico/licitaciones.json?fecha=02022014&CodigoProveedor=17793&ticket=F8537A18-6766-4DEF-9E59-426B4FEE2844\n",
        "\n",
        "Los resultados de las búsquedas son realizadas en base a las Licitaciones Publicadas en el día. Los resultados entregados son con información básica de las Licitaciones.\n",
        "\n",
        "En el caso de la búsqueda por código no importa la fecha, siempre obtendrá la Licitación solicitada. El resultado entregado por la búsqueda es información detallada de la Licitación.\n",
        "\n",
        "El formato de la fecha es ddmmaaaa, ejemplo: 12062014, obtendrá las Licitaciones del día 12 del mes de junio del año 2014."
      ]
    },
    {
      "cell_type": "markdown",
      "metadata": {
        "id": "6qHJWEwmYqqQ"
      },
      "source": [
        "**Códigos de Organismos Públicos y Proveedores**"
      ]
    },
    {
      "cell_type": "markdown",
      "metadata": {
        "id": "QrFRb9XGYtbf"
      },
      "source": [
        "Para obtener el código de un Proveedor debe consumir el siguiente método indicando el rut de la empresa a buscar (debe incluir puntos, guion y digito verificador):\n",
        "\n",
        "http://api.mercadopublico.cl/servicios/v1/Publico/Empresas/BuscarProveedor?rutempresaproveedor=70.017.820-k&ticket=F8537A18-6766-4DEF-9E59-426B4FEE2844\n",
        "\n",
        "Donde:\n",
        "Código Empresa: Código de la empresa Proveedor. Ejemplo de {CodigoEmpresa} = 17793\n",
        "Nombre Empresa: Nombre de la empresa Proveedor. Ejemplo de {NombreEmpresa} = \"Cámara de Comercio de Santiago A.G. (CCS)\".\n",
        "\n",
        "Para obtener el código de un Organismo Público debe consumir el siguiente método, el cual devuelve un listado de todos los Orgranismos Públicos de la plataforma Mercado Publico:\n",
        "\n",
        "http://api.mercadopublico.cl/servicios/v1/Publico/Empresas/BuscarComprador?ticket=F8537A18-6766-4DEF-9E59-426B4FEE2844\n",
        "\n",
        "Donde:\n",
        "Código Empresa: Código del organismo público. Ejemplo de {CodigoEmpresa} = 6945\n",
        "Nombre Empresa: Nombre del organismo público. Ejemplo de {NombreEmpresa} = \"Dirección de Compras y Contratación Pública\"."
      ]
    },
    {
      "cell_type": "markdown",
      "metadata": {
        "id": "gCE00ORHrNVN"
      },
      "source": [
        "## **Ejercicio - todos los Orgranismos Públicos**"
      ]
    },
    {
      "cell_type": "code",
      "metadata": {
        "id": "icZENaU_Y3f-"
      },
      "source": [
        "# ticket mercado publico de on iñaki abaroa schilling= 81D9D50E-E3EA-41F5-A456-0AD2B42E6D80"
      ],
      "execution_count": null,
      "outputs": []
    },
    {
      "cell_type": "markdown",
      "metadata": {
        "id": "dlGErLQCzf3S"
      },
      "source": [
        "**Listado de todos los Orgranismos Públicos de la plataforma Mercado Publicoimport requests**"
      ]
    },
    {
      "cell_type": "code",
      "metadata": {
        "id": "7VPfZflLztBg",
        "outputId": "667e5165-a40e-4bd8-b2b0-0b9dc46303d8",
        "colab": {
          "base_uri": "https://localhost:8080/",
          "height": 33
        }
      },
      "source": [
        "import requests\n",
        "\n",
        "url = \"http://api.mercadopublico.cl/servicios/v1/Publico/Empresas/BuscarComprador?ticket=F8537A18-6766-4DEF-9E59-426B4FEE2844\"\n",
        "\n",
        "respuesta=requests.request(\"GET\", url)\n",
        "print(respuesta)"
      ],
      "execution_count": 3,
      "outputs": [
        {
          "output_type": "stream",
          "text": [
            "<Response [200]>\n"
          ],
          "name": "stdout"
        }
      ]
    },
    {
      "cell_type": "code",
      "metadata": {
        "id": "VNZ5ZjEr0Bks",
        "outputId": "5cb1028b-2ec3-424c-c6c0-0efb128ae761",
        "colab": {
          "base_uri": "https://localhost:8080/",
          "height": 53
        }
      },
      "source": [
        "print(respuesta.headers)"
      ],
      "execution_count": 5,
      "outputs": [
        {
          "output_type": "stream",
          "text": [
            "{'Cache-Control': 'no-cache', 'Pragma': 'no-cache', 'Content-Type': 'application/json; charset=utf-8', 'Expires': '-1', 'Server': 'Microsoft-IIS/7.5', 'X-AspNet-Version': '4.0.30319', 'X-Powered-By': 'ASP.NET', 'Set-Cookie': 'dtCookie=1$C716CF4132C69F70E1A122B9BF52E1B3; Path=/; Domain=.mercadopublico.cl', 'Date': 'Wed, 21 Oct 2020 10:58:20 GMT', 'Content-Length': '66897'}\n"
          ],
          "name": "stdout"
        }
      ]
    },
    {
      "cell_type": "code",
      "metadata": {
        "id": "3VL1_f6u0Vcx",
        "outputId": "d613c7e5-3bd0-4b97-bc85-31e493900c83",
        "colab": {
          "base_uri": "https://localhost:8080/",
          "height": 135
        }
      },
      "source": [
        "respuesta.text"
      ],
      "execution_count": 6,
      "outputs": [
        {
          "output_type": "execute_result",
          "data": {
            "application/vnd.google.colaboratory.intrinsic+json": {
              "type": "string"
            },
            "text/plain": [
              "'{\"Cantidad\":863,\"FechaCreacion\":\"2020-10-21T07:58:20.987\",\"listaEmpresas\":[{\"CodigoEmpresa\":\"1034640\",\"NombreEmpresa\":\" CORPORACION MUNICIPAL DE PEÑALOLEN PARA EL DESARROLLO SOCIAL \"},{\"CodigoEmpresa\":\"7311\",\"NombreEmpresa\":\" Hospital de enfermedades InfecciDr. Lucio Córdova\"},{\"CodigoEmpresa\":\"7086\",\"NombreEmpresa\":\"AGENCIA CHILENA DE COOPERACION INTERNACIONAL PARA EL DESARROLLO\"},{\"CodigoEmpresa\":\"1224636\",\"NombreEmpresa\":\"Agencia Chilena de Eficiencia Energética\"},{\"CodigoEmpresa\":\"7193\",\"NombreEmpresa\":\"Agencia de Promoción de la Inversión Extranjera\"},{\"CodigoEmpresa\":\"7212\",\"NombreEmpresa\":\"Agencia Nacional de Inteligencia\"},{\"CodigoEmpresa\":\"111875\",\"NombreEmpresa\":\"ARMADA DE CHILE\"},{\"CodigoEmpresa\":\"6959\",\"NombreEmpresa\":\"Banco del Estado de Chile\"},{\"CodigoEmpresa\":\"7265\",\"NombreEmpresa\":\"Biblioteca del Congreso Nacional\"},{\"CodigoEmpresa\":\"7038\",\"NombreEmpresa\":\"Bienestar del Registro Civil\"},{\"CodigoEmpresa\":\"7313\",\"NombreEmpresa\":\"C.D.T. Doctora Eloisa Díaz\"},{\"CodigoEmpresa\":\"156657\",\"NombreEmpresa\":\"Cámara de Diputados de Chile\"},{\"CodigoEmpresa\":\"7175\",\"NombreEmpresa\":\"CAPREDENA\"},{\"CodigoEmpresa\":\"7198\",\"NombreEmpresa\":\"Casa de Moneda de Chile\"},{\"CodigoEmpresa\":\"6957\",\"NombreEmpresa\":\"Central de Abastecimiento S.N.S.S. -  CENABAST\"},{\"CodigoEmpresa\":\"1339711\",\"NombreEmpresa\":\"CENTRO ASISTENCIAL NORTE DE ANTOFAGASTA\"},{\"CodigoEmpresa\":\"1741046\",\"NombreEmpresa\":\"CENTRO DE FORMACION TECNICA DE LA REGION DE ATACAMA\"},{\"CodigoEmpresa\":\"1700248\",\"NombreEmpresa\":\"CENTRO DE FORMACIÓN TÉCNICA ESTATAL DE MAGALLANES Y ANTARTICA CHILENA\"},{\"CodigoEmpresa\":\"1741019\",\"NombreEmpresa\":\"Centro de Formación Técnica Estatal Región de Arica y Parinacota\"},{\"CodigoEmpresa\":\"7380\",\"NombreEmpresa\":\"Centro de Información de Recursos Naturales\"},{\"CodigoEmpresa\":\"7317\",\"NombreEmpresa\":\"Centro de Referencia de Salud de Maipú\"},{\"CodigoEmpresa\":\"7473\",\"NombreEmpresa\":\"Centro de Salud Dr. Víctor M. Fernández\"},{\"CodigoEmpresa\":\"7461\",\"NombreEmpresa\":\"Centro Diagnóstico Terapéutico Los Angeles\"},{\"CodigoEmpresa\":\"7373\",\"NombreEmpresa\":\"Centro Referencia Salud Doctor Salvador Allende G.\"},{\"CodigoEmpresa\":\"118627\",\"NombreEmpresa\":\"Cesfam Dr. Alejandro Gutierrez\"},{\"CodigoEmpresa\":\"111870\",\"NombreEmpresa\":\"COMANDO DE APOYO A LA FUERZA\"},{\"CodigoEmpresa\":\"192032\",\"NombreEmpresa\":\"Comisión Administradora del Sistema de Créditos para Estudios Superiores\"},{\"CodigoEmpresa\":\"7219\",\"NombreEmpresa\":\"Comisión Chilena de Energía Nuclear\"},{\"CodigoEmpresa\":\"7075\",\"NombreEmpresa\":\"Comisión Chilena del Cobre - COCHILCO\"},{\"CodigoEmpresa\":\"262897\",\"NombreEmpresa\":\"Comisión Nacional de Acreditación - CNA\"},{\"CodigoEmpresa\":\"6938\",\"NombreEmpresa\":\"Comisión Nacional de Energía\"},{\"CodigoEmpresa\":\"7213\",\"NombreEmpresa\":\"Comisión Nacional de Investigación Científica y Tecnológicas - CONICYT\"},{\"CodigoEmpresa\":\"7186\",\"NombreEmpresa\":\"Comisión Nacional de Riego\"},{\"CodigoEmpresa\":\"7016\",\"NombreEmpresa\":\"COMISION PARA EL MERCADO FINANCIERO\"},{\"CodigoEmpresa\":\"7043\",\"NombreEmpresa\":\"Comité de Seguros del Agro\"},{\"CodigoEmpresa\":\"7057\",\"NombreEmpresa\":\"Comité SEP\"},{\"CodigoEmpresa\":\"7320\",\"NombreEmpresa\":\"Complejo Asistencial Dr. Sotero del Rio\"},{\"CodigoEmpresa\":\"7375\",\"NombreEmpresa\":\"Complejo Asistencial Dr. Victor Ríos Ruíz\"},{\"CodigoEmpresa\":\"7103\",\"NombreEmpresa\":\"Complejo Penitenciario de Valparaiso\"},{\"CodigoEmpresa\":\"1090137\",\"NombreEmpresa\":\"CONGREGACIÓN HIJAS DE SANTA MARIA DE LA PROVIDENCIA\"},{\"CodigoEmpresa\":\"6933\",\"NombreEmpresa\":\"Consejo de Defensa del Estado\"},{\"CodigoEmpresa\":\"7224\",\"NombreEmpresa\":\"Consejo de Rectores de las Universidades Chilenas\"},{\"CodigoEmpresa\":\"1692048\",\"NombreEmpresa\":\"CONSEJO FISCAL AUTONOMO\"},{\"CodigoEmpresa\":\"7082\",\"NombreEmpresa\":\"Consejo Nacional de Educación\"},{\"CodigoEmpresa\":\"1060064\",\"NombreEmpresa\":\"Consejo para la Transparencia\"},{\"CodigoEmpresa\":\"118630\",\"NombreEmpresa\":\"Consultorio General Urbano Victor Domingo Silva\"},{\"CodigoEmpresa\":\"7144\",\"NombreEmpresa\":\"Consultorio Gral. Urbano Violeta Parra\"},{\"CodigoEmpresa\":\"7133\",\"NombreEmpresa\":\"Consultorio Miraflores\"},{\"CodigoEmpresa\":\"7231\",\"NombreEmpresa\":\"Contraloría General de la República\"},{\"CodigoEmpresa\":\"7354\",\"NombreEmpresa\":\"Corp. de Asistencia Judicial Región del Bío-Bío\"},{\"CodigoEmpresa\":\"7058\",\"NombreEmpresa\":\"Corp. Municipal de Desarrollo Social Cerro Navia\"},{\"CodigoEmpresa\":\"7342\",\"NombreEmpresa\":\"Corporacion Administrativa del Poder Judicial\"},{\"CodigoEmpresa\":\"7235\",\"NombreEmpresa\":\"Corporación de Asistencia Judicial de la V Región\"},{\"CodigoEmpresa\":\"272303\",\"NombreEmpresa\":\"Corporación de Asistencia Judicial de las Regiones de Tarapacá y Antofagasta\"},{\"CodigoEmpresa\":\"7152\",\"NombreEmpresa\":\"Corporación de Asistencia Judicial RM\"},{\"CodigoEmpresa\":\"1085182\",\"NombreEmpresa\":\"Corporación de Ecuación, Salud y Menores de Puerto Natales\"},{\"CodigoEmpresa\":\"6942\",\"NombreEmpresa\":\"CORPORACION DE FOMENTO DE LA PRODUCCION\"},{\"CodigoEmpresa\":\"1088974\",\"NombreEmpresa\":\"Corporación Municipal de Castro\"},{\"CodigoEmpresa\":\"1035946\",\"NombreEmpresa\":\"Corporacion Municipal de Educacion\"},{\"CodigoEmpresa\":\"1033466\",\"NombreEmpresa\":\"CORPORACIÓN MUNICIPAL DE EDUCACIÓN Y SALUD\"},{\"CodigoEmpresa\":\"7105\",\"NombreEmpresa\":\"Corporación Municipal de la Florida\"},{\"CodigoEmpresa\":\"7483\",\"NombreEmpresa\":\"Corporación Municipal de Panguipulli\"},{\"CodigoEmpresa\":\"7183\",\"NombreEmpresa\":\"Corporación Nacional de Desarrollo Indígena - CONADI\"},{\"CodigoEmpresa\":\"6924\",\"NombreEmpresa\":\"Corporación Nacional Forestal - CONAF\"},{\"CodigoEmpresa\":\"7136\",\"NombreEmpresa\":\"CRS de Peñalolen Cordillera Oriente\"},{\"CodigoEmpresa\":\"7129\",\"NombreEmpresa\":\"Defensa Civil de Chile\"},{\"CodigoEmpresa\":\"7034\",\"NombreEmpresa\":\"DEFENSORIA PENAL PUBLICA\"},{\"CodigoEmpresa\":\"7299\",\"NombreEmpresa\":\"Departamento de Salud Parral\"},{\"CodigoEmpresa\":\"7228\",\"NombreEmpresa\":\"Dirección Administrativa - Min. Defensa\"},{\"CodigoEmpresa\":\"7466\",\"NombreEmpresa\":\"Dirección Atención Primaria, Serv.Salud M.Central\"},{\"CodigoEmpresa\":\"7243\",\"NombreEmpresa\":\"Dirección de Aeropuertos - MOPTT\"},{\"CodigoEmpresa\":\"7245\",\"NombreEmpresa\":\"Dirección de Arquitectura - MOP\"},{\"CodigoEmpresa\":\"6945\",\"NombreEmpresa\":\"Dirección de Compras y Contratación Pública\"},{\"CodigoEmpresa\":\"7068\",\"NombreEmpresa\":\"Dirección de Contabilidad y Finanzas MOP\"},{\"CodigoEmpresa\":\"7244\",\"NombreEmpresa\":\"Dirección de Fiscalía - MOPTT\"},{\"CodigoEmpresa\":\"113812\",\"NombreEmpresa\":\"DIRECCION DE LOGISTICA DE CARABINEROS\"},{\"CodigoEmpresa\":\"7242\",\"NombreEmpresa\":\"Dirección de Obras Hidráulicas - MOPTT\"},{\"CodigoEmpresa\":\"7246\",\"NombreEmpresa\":\"Dirección de Obras Portuarias - MOPTT\"},{\"CodigoEmpresa\":\"7067\",\"NombreEmpresa\":\"Dirección de Planeamiento - MOPTT\"},{\"CodigoEmpresa\":\"7012\",\"NombreEmpresa\":\"Dirección de Presupuestos\"},{\"CodigoEmpresa\":\"6927\",\"NombreEmpresa\":\"Dirección de Previsión de Carabineros de Chile\"},{\"CodigoEmpresa\":\"7010\",\"NombreEmpresa\":\"Dirección de Relaciones Económicas\"},{\"CodigoEmpresa\":\"118628\",\"NombreEmpresa\":\"Dirección de Salud Rural\"},{\"CodigoEmpresa\":\"7000\",\"NombreEmpresa\":\"Dirección del Trabajo\"},{\"CodigoEmpresa\":\"7202\",\"NombreEmpresa\":\"Dirección General de Aeronáutica Civil\"},{\"CodigoEmpresa\":\"7209\",\"NombreEmpresa\":\"Dirección General de Crédito Prendario - DICREP\"},{\"CodigoEmpresa\":\"6925\",\"NombreEmpresa\":\"DIRECCION GENERAL DE GENDARMERIA DE CHIL\"},{\"CodigoEmpresa\":\"7127\",\"NombreEmpresa\":\"Dirección General de Movilización Nacional - DGMN\"},{\"CodigoEmpresa\":\"7250\",\"NombreEmpresa\":\"Dirección General de Obras Publicas - MOP\"},{\"CodigoEmpresa\":\"1674056\",\"NombreEmpresa\":\"Dirección General de Promoción de Exportaciones\"},{\"CodigoEmpresa\":\"7187\",\"NombreEmpresa\":\"Dirección Nacional de Fronteras y Límites del Estado\"},{\"CodigoEmpresa\":\"7371\",\"NombreEmpresa\":\"Dirección Nacional del Servicio Civil\"},{\"CodigoEmpresa\":\"7295\",\"NombreEmpresa\":\"DIRECCION SERVICIO DE SALUD TALCAHUANO\"},{\"CodigoEmpresa\":\"7272\",\"NombreEmpresa\":\"DIRECCION SERVICIO SALUD METROPOLITANO O\"},{\"CodigoEmpresa\":\"7208\",\"NombreEmpresa\":\"Empresa de Abastecimiento de Zonas Aisladas- EMAZA\"},{\"CodigoEmpresa\":\"7467\",\"NombreEmpresa\":\"Empresa de Servicios Sanitarios de Atacama\"},{\"CodigoEmpresa\":\"7128\",\"NombreEmpresa\":\"Empresa de Servicios Sanitarios de la Araucania\"},{\"CodigoEmpresa\":\"7358\",\"NombreEmpresa\":\"Empresa de Servicios Sanitarios de Magallanes S.A.\"},{\"CodigoEmpresa\":\"7138\",\"NombreEmpresa\":\"Empresa de Servicios Sanitarios de Tarapacá S.A.\"},{\"CodigoEmpresa\":\"6961\",\"NombreEmpresa\":\"Empresa Nacional de Minería\"},{\"CodigoEmpresa\":\"7149\",\"NombreEmpresa\":\"Empresa Nacional del Petróleo\"},{\"CodigoEmpresa\":\"1069779\",\"NombreEmpresa\":\"EMPRESA PORTUARIA ANTOFAGASTA\"},{\"CodigoEmpresa\":\"1085179\",\"NombreEmpresa\":\"Empresa Portuaria Arica\"},{\"CodigoEmpresa\":\"7493\",\"NombreEmpresa\":\"Empresa Portuaria Iquique\"},{\"CodigoEmpresa\":\"7463\",\"NombreEmpresa\":\"Empresa Portuaria Puerto Montt\"},{\"CodigoEmpresa\":\"1076044\",\"NombreEmpresa\":\"EMPRESA PORTUARIA SAN ANTONIO\"},{\"CodigoEmpresa\":\"1061586\",\"NombreEmpresa\":\"EMPRESA PORTUARIA VALPARAISO\"},{\"CodigoEmpresa\":\"7266\",\"NombreEmpresa\":\"Estado Mayor Conjunto\"},{\"CodigoEmpresa\":\"7076\",\"NombreEmpresa\":\"FISCALIA NACIONAL ECONOMICA\"},{\"CodigoEmpresa\":\"7182\",\"NombreEmpresa\":\"FONDO DE SOLIDARIDAD E INVERSION SOCIAL\"},{\"CodigoEmpresa\":\"220665\",\"NombreEmpresa\":\"FONDO HOSPITAL DE LA DIRECCION DE PREVISION DE CARABINEROS DE CHILE\"},{\"CodigoEmpresa\":\"6954\",\"NombreEmpresa\":\"Fondo Nacional de Salud - FONASA\"},{\"CodigoEmpresa\":\"6946\",\"NombreEmpresa\":\"Fuerza Aérea de Chile\"},{\"CodigoEmpresa\":\"1090451\",\"NombreEmpresa\":\"FUND NACIONAL DE ORQUESTAS JUVENILES E INFANTILES DE CHILE\"},{\"CodigoEmpresa\":\"1736867\",\"NombreEmpresa\":\"Fundación para la Innovación Agraria\"},{\"CodigoEmpresa\":\"7286\",\"NombreEmpresa\":\"Gobernación  Provincial de Choapa\"},{\"CodigoEmpresa\":\"7379\",\"NombreEmpresa\":\"Gobernación de Cachapoal\"},{\"CodigoEmpresa\":\"7134\",\"NombreEmpresa\":\"Gobernación Provincia Capitan Prat\"},{\"CodigoEmpresa\":\"7284\",\"NombreEmpresa\":\"Gobernación Provincia Cordillera\"},{\"CodigoEmpresa\":\"7271\",\"NombreEmpresa\":\"GOBERNACION PROVINCIA DE CHACABUCO\"},{\"CodigoEmpresa\":\"7347\",\"NombreEmpresa\":\"Gobernación Provincia de Elqui\"},{\"CodigoEmpresa\":\"7148\",\"NombreEmpresa\":\"Gobernación Provincial Antártica\"},{\"CodigoEmpresa\":\"7151\",\"NombreEmpresa\":\"Gobernación Provincial Antofagasta\"},{\"CodigoEmpresa\":\"7387\",\"NombreEmpresa\":\"Gobernación Provincial Cardenal Caro\"},{\"CodigoEmpresa\":\"7281\",\"NombreEmpresa\":\"Gobernación Provincial Cauquenes\"},{\"CodigoEmpresa\":\"7499\",\"NombreEmpresa\":\"Gobernación Provincial Chiloe\"},{\"CodigoEmpresa\":\"7450\",\"NombreEmpresa\":\"Gobernación Provincial de Arauco\"},{\"CodigoEmpresa\":\"7357\",\"NombreEmpresa\":\"Gobernación Provincial de Arica\"},{\"CodigoEmpresa\":\"7059\",\"NombreEmpresa\":\"Gobernación Provincial de Aysén\"},{\"CodigoEmpresa\":\"7061\",\"NombreEmpresa\":\"GOBERNACION PROVINCIAL DE CAUTIN\"},{\"CodigoEmpresa\":\"7155\",\"NombreEmpresa\":\"Gobernación Provincial de Chañaral\"},{\"CodigoEmpresa\":\"7376\",\"NombreEmpresa\":\"Gobernación Provincial de Colchagua\"},{\"CodigoEmpresa\":\"7300\",\"NombreEmpresa\":\"Gobernación Provincial de Concepción\"},{\"CodigoEmpresa\":\"7145\",\"NombreEmpresa\":\"Gobernación Provincial de Copiapó\"},{\"CodigoEmpresa\":\"7292\",\"NombreEmpresa\":\"Gobernación Provincial de Coyhaique\"},{\"CodigoEmpresa\":\"7263\",\"NombreEmpresa\":\"Gobernación Provincial de Curicó\"},{\"CodigoEmpresa\":\"7237\",\"NombreEmpresa\":\"GOBERNACION PROVINCIAL DE EL LOA\"},{\"CodigoEmpresa\":\"7309\",\"NombreEmpresa\":\"GOBERNACION PROVINCIAL DE GRAL CARRERA\"},{\"CodigoEmpresa\":\"7150\",\"NombreEmpresa\":\"Gobernación Provincial de Huasco\"},{\"CodigoEmpresa\":\"7349\",\"NombreEmpresa\":\"Gobernación Provincial de Iquique\"},{\"CodigoEmpresa\":\"135959\",\"NombreEmpresa\":\"Gobernación Provincial de Isla de Pascua\"},{\"CodigoEmpresa\":\"7037\",\"NombreEmpresa\":\"Gobernación Provincial de Limarí\"},{\"CodigoEmpresa\":\"7282\",\"NombreEmpresa\":\"Gobernación Provincial de Linares\"},{\"CodigoEmpresa\":\"7267\",\"NombreEmpresa\":\"Gobernación Provincial de Llanquihue\"},{\"CodigoEmpresa\":\"7009\",\"NombreEmpresa\":\"Gobernación Provincial de Los Andes\"},{\"CodigoEmpresa\":\"7484\",\"NombreEmpresa\":\"Gobernación Provincial de Magallanes\"},{\"CodigoEmpresa\":\"7253\",\"NombreEmpresa\":\"Gobernación Provincial de Maipo\"},{\"CodigoEmpresa\":\"7275\",\"NombreEmpresa\":\"Gobernación Provincial de Malleco\"},{\"CodigoEmpresa\":\"7142\",\"NombreEmpresa\":\"Gobernación Provincial de Ñuble\"},{\"CodigoEmpresa\":\"7283\",\"NombreEmpresa\":\"GOBERNACION PROVINCIAL DE OSORNO\"},{\"CodigoEmpresa\":\"7252\",\"NombreEmpresa\":\"Gobernación Provincial de Palena\"},{\"CodigoEmpresa\":\"7350\",\"NombreEmpresa\":\"GOBERNACION PROVINCIAL DE PARINACOTA\"},{\"CodigoEmpresa\":\"7420\",\"NombreEmpresa\":\"Gobernación Provincial de Petorca\"},{\"CodigoEmpresa\":\"7346\",\"NombreEmpresa\":\"GOBERNACION PROVINCIAL DE QUILLOTA\"},{\"CodigoEmpresa\":\"269793\",\"NombreEmpresa\":\"Gobernación Provincial de Ranco\"},{\"CodigoEmpresa\":\"111119\",\"NombreEmpresa\":\"Gobernación Provincial de San Antonio\"},{\"CodigoEmpresa\":\"7055\",\"NombreEmpresa\":\"Gobernación Provincial de Talagante\"},{\"CodigoEmpresa\":\"7269\",\"NombreEmpresa\":\"Gobernación Provincial de Talca\"},{\"CodigoEmpresa\":\"7063\",\"NombreEmpresa\":\"Gobernación Provincial de Tocopilla\"},{\"CodigoEmpresa\":\"7264\",\"NombreEmpresa\":\"Gobernación Provincial de Última Esperanza\"},{\"CodigoEmpresa\":\"7322\",\"NombreEmpresa\":\"Gobernación Provincial de Valdivia\"},{\"CodigoEmpresa\":\"7352\",\"NombreEmpresa\":\"Gobernación Provincial de Valparaíso\"},{\"CodigoEmpresa\":\"7140\",\"NombreEmpresa\":\"Gobernación Provincial del Bío-Bío\"},{\"CodigoEmpresa\":\"275314\",\"NombreEmpresa\":\"Gobernación Provincial del Tamarugal\"},{\"CodigoEmpresa\":\"7056\",\"NombreEmpresa\":\"Gobernación Provincial Melipilla\"},{\"CodigoEmpresa\":\"7495\",\"NombreEmpresa\":\"Gobernación Provincial San Felipe\"},{\"CodigoEmpresa\":\"7381\",\"NombreEmpresa\":\"Gobernación Provincial Tierra del Fuego\"},{\"CodigoEmpresa\":\"1163597\",\"NombreEmpresa\":\"Gobierno Provincial de Marga Marga\"},{\"CodigoEmpresa\":\"7199\",\"NombreEmpresa\":\"Gobierno Regional de Antofagasta\"},{\"CodigoEmpresa\":\"267965\",\"NombreEmpresa\":\"Gobierno Regional de Arica y Parinacota\"},{\"CodigoEmpresa\":\"7077\",\"NombreEmpresa\":\"GOBIERNO REGIONAL DE ATACAMA\"},{\"CodigoEmpresa\":\"7085\",\"NombreEmpresa\":\"Gobierno Regional de Aysén\"},{\"CodigoEmpresa\":\"6940\",\"NombreEmpresa\":\"Gobierno Regional de Coquimbo\"},{\"CodigoEmpresa\":\"7013\",\"NombreEmpresa\":\"Gobierno Regional de La Araucanía\"},{\"CodigoEmpresa\":\"7015\",\"NombreEmpresa\":\"Gobierno Regional de la Región del Bío-Bío\"},{\"CodigoEmpresa\":\"7207\",\"NombreEmpresa\":\"Gobierno Regional de Los Lagos\"},{\"CodigoEmpresa\":\"267799\",\"NombreEmpresa\":\"GOBIERNO REGIONAL DE LOS RIOS\"},{\"CodigoEmpresa\":\"7087\",\"NombreEmpresa\":\"GOBIERNO REGIONAL DE MAGALLANES Y ANTARTICA CHILEN\"},{\"CodigoEmpresa\":\"7084\",\"NombreEmpresa\":\"Gobierno Regional de Tarapacá\"},{\"CodigoEmpresa\":\"7172\",\"NombreEmpresa\":\"Gobierno Regional de Valparaíso\"},{\"CodigoEmpresa\":\"7222\",\"NombreEmpresa\":\"Gobierno Regional Metropolitano\"},{\"CodigoEmpresa\":\"7200\",\"NombreEmpresa\":\"GOBIERNO REGIONAL VI REGION DEL LI BERTADOR B O\\\\\"HIGGINS\"},{\"CodigoEmpresa\":\"7223\",\"NombreEmpresa\":\"GOBIERNO REGIONAL VII REGION\"},{\"CodigoEmpresa\":\"103933\",\"NombreEmpresa\":\"Hermanas Misioneras Franciscanas de Purulón\"},{\"CodigoEmpresa\":\"7403\",\"NombreEmpresa\":\"Hospital  Lonquimay\"},{\"CodigoEmpresa\":\"7472\",\"NombreEmpresa\":\"Hospital Andacollo\"},{\"CodigoEmpresa\":\"7398\",\"NombreEmpresa\":\"Hospital Arauco\"},{\"CodigoEmpresa\":\"7293\",\"NombreEmpresa\":\"HOSPITAL BARROS LUCO TRUDEAU\"},{\"CodigoEmpresa\":\"7393\",\"NombreEmpresa\":\"Hospital Base Osorno\"},{\"CodigoEmpresa\":\"7131\",\"NombreEmpresa\":\"Hospital Carahue\"},{\"CodigoEmpresa\":\"7494\",\"NombreEmpresa\":\"Hospital Carlos Cisternas de Calama\"},{\"CodigoEmpresa\":\"7256\",\"NombreEmpresa\":\"Hospital Cauquenes\"},{\"CodigoEmpresa\":\"7297\",\"NombreEmpresa\":\"HOSPITAL CLINICO DE MAGALLANES DR. LAUTARO NAVARRO AVARIA\"},{\"CodigoEmpresa\":\"1379869\",\"NombreEmpresa\":\"Hospital Clínico Metropolitano El Carmen Doctor Luis Valentín Ferrada\"},{\"CodigoEmpresa\":\"1375151\",\"NombreEmpresa\":\"HOSPITAL CLINICO METROPOLITANO LA FLORIDA DRA ELOISA DIAZ INSUNZA\"},{\"CodigoEmpresa\":\"7326\",\"NombreEmpresa\":\"Hospital Clínico San Borja Arriarán\"},{\"CodigoEmpresa\":\"7480\",\"NombreEmpresa\":\"Hospital Cochrane\"},{\"CodigoEmpresa\":\"7421\",\"NombreEmpresa\":\"Hospital Coinco\"},{\"CodigoEmpresa\":\"7462\",\"NombreEmpresa\":\"Hospital Collipulli\"},{\"CodigoEmpresa\":\"7330\",\"NombreEmpresa\":\"Hospital Combarbalá\"},{\"CodigoEmpresa\":\"7137\",\"NombreEmpresa\":\"HOSPITAL COMUNITARIO DE SALUD FAMILIAR DE BULNES\"},{\"CodigoEmpresa\":\"7400\",\"NombreEmpresa\":\"Hospital Contulmo\"},{\"CodigoEmpresa\":\"7340\",\"NombreEmpresa\":\"Hospital Coyhaique\"},{\"CodigoEmpresa\":\"7399\",\"NombreEmpresa\":\"Hospital Curanilahue\"},{\"CodigoEmpresa\":\"7452\",\"NombreEmpresa\":\"Hospital Curicó\"},{\"CodigoEmpresa\":\"1286160\",\"NombreEmpresa\":\"HOSPITAL DE CASTRO DR. AUGUSTO RIFFART\"},{\"CodigoEmpresa\":\"7279\",\"NombreEmpresa\":\"Hospital de Chanco\"},{\"CodigoEmpresa\":\"7413\",\"NombreEmpresa\":\"Hospital de Chañaral\"},{\"CodigoEmpresa\":\"7441\",\"NombreEmpresa\":\"Hospital de Chimbarongo\"},{\"CodigoEmpresa\":\"7277\",\"NombreEmpresa\":\"Hospital de Constitución\"},{\"CodigoEmpresa\":\"7411\",\"NombreEmpresa\":\"Hospital de Copiapó\"},{\"CodigoEmpresa\":\"7426\",\"NombreEmpresa\":\"Hospital de Corral\"},{\"CodigoEmpresa\":\"7291\",\"NombreEmpresa\":\"Hospital de Cunco\"},{\"CodigoEmpresa\":\"7455\",\"NombreEmpresa\":\"Hospital de Curacaví\"},{\"CodigoEmpresa\":\"7278\",\"NombreEmpresa\":\"Hospital de Curepto\"},{\"CodigoEmpresa\":\"7414\",\"NombreEmpresa\":\"Hospital de Huasco\"},{\"CodigoEmpresa\":\"7468\",\"NombreEmpresa\":\"Hospital de Illapel\"},{\"CodigoEmpresa\":\"7429\",\"NombreEmpresa\":\"Hospital De la Unión\"},{\"CodigoEmpresa\":\"7424\",\"NombreEmpresa\":\"Hospital de Lanco\"},{\"CodigoEmpresa\":\"7439\",\"NombreEmpresa\":\"Hospital de Litueche\"},{\"CodigoEmpresa\":\"7447\",\"NombreEmpresa\":\"Hospital de Lolol\"},{\"CodigoEmpresa\":\"7156\",\"NombreEmpresa\":\"Hospital de Loncoche\"},{\"CodigoEmpresa\":\"7425\",\"NombreEmpresa\":\"Hospital de los Lagos\"},{\"CodigoEmpresa\":\"7442\",\"NombreEmpresa\":\"Hospital de Marchigue\"},{\"CodigoEmpresa\":\"7370\",\"NombreEmpresa\":\"Hospital de Mejillones\"},{\"CodigoEmpresa\":\"7458\",\"NombreEmpresa\":\"Hospital de Melipilla\"},{\"CodigoEmpresa\":\"1238659\",\"NombreEmpresa\":\"Hospital de Misión San Juan de la Costa\"},{\"CodigoEmpresa\":\"7280\",\"NombreEmpresa\":\"Hospital de MOLINA\"},{\"CodigoEmpresa\":\"7434\",\"NombreEmpresa\":\"Hospital de Mulchén\"},{\"CodigoEmpresa\":\"7445\",\"NombreEmpresa\":\"Hospital de Nancagua\"},{\"CodigoEmpresa\":\"7045\",\"NombreEmpresa\":\"Hospital de Niños Roberto del Rio\"},{\"CodigoEmpresa\":\"7422\",\"NombreEmpresa\":\"Hospital de Paillaco\"},{\"CodigoEmpresa\":\"7459\",\"NombreEmpresa\":\"Hospital de Peñaflor\"},{\"CodigoEmpresa\":\"7444\",\"NombreEmpresa\":\"Hospital de Peumo\"},{\"CodigoEmpresa\":\"7287\",\"NombreEmpresa\":\"HOSPITAL DE PUERTO OCTAY\"},{\"CodigoEmpresa\":\"7465\",\"NombreEmpresa\":\"Hospital de Purén\"},{\"CodigoEmpresa\":\"7327\",\"NombreEmpresa\":\"Hospital de Purranque\"},{\"CodigoEmpresa\":\"7303\",\"NombreEmpresa\":\"Hospital de Quirihue\"},{\"CodigoEmpresa\":\"7440\",\"NombreEmpresa\":\"Hospital de Rengo\"},{\"CodigoEmpresa\":\"7323\",\"NombreEmpresa\":\"Hospital de Salamanca\"},{\"CodigoEmpresa\":\"7448\",\"NombreEmpresa\":\"Hospital de San Fernando\"},{\"CodigoEmpresa\":\"7443\",\"NombreEmpresa\":\"Hospital de San Vicente de Tagua Tagua\"},{\"CodigoEmpresa\":\"7314\",\"NombreEmpresa\":\"Hospital de Santa Cruz\"},{\"CodigoEmpresa\":\"7457\",\"NombreEmpresa\":\"Hospital de Talagante\"},{\"CodigoEmpresa\":\"7391\",\"NombreEmpresa\":\"Hospital de Taltal\"},{\"CodigoEmpresa\":\"7460\",\"NombreEmpresa\":\"HOSPITAL DE URGENCIA ASISTENCIA PUBLICA DR ALEJANDRO DEL RIO\"},{\"CodigoEmpresa\":\"1238663\",\"NombreEmpresa\":\"Hospital del Perpetuo Socorro de Quilacahuin\"},{\"CodigoEmpresa\":\"7428\",\"NombreEmpresa\":\"Hospital del Salvador\"},{\"CodigoEmpresa\":\"7415\",\"NombreEmpresa\":\"Hospital Diego de Almagro\"},{\"CodigoEmpresa\":\"7046\",\"NombreEmpresa\":\"Hospital Doctor Hernán Henríquez Aravena\"},{\"CodigoEmpresa\":\"6918\",\"NombreEmpresa\":\"Hospital Doctor Luis Calvo Mackenna\"},{\"CodigoEmpresa\":\"7491\",\"NombreEmpresa\":\"Hospital Dr Victor Hugo  Möll de Cabildo\"},{\"CodigoEmpresa\":\"7289\",\"NombreEmpresa\":\"Hospital Dr. Abraham Godoy Peña\"},{\"CodigoEmpresa\":\"7310\",\"NombreEmpresa\":\"Hospital Dr. Augusto Essmann Burgos\"},{\"CodigoEmpresa\":\"7383\",\"NombreEmpresa\":\"Hospital Dr. Felix Bulnes Cerda\"},{\"CodigoEmpresa\":\"7324\",\"NombreEmpresa\":\"Hospital Dr. GGB\"},{\"CodigoEmpresa\":\"6936\",\"NombreEmpresa\":\"Hospital Dr. Gustavo Fricke\"},{\"CodigoEmpresa\":\"7386\",\"NombreEmpresa\":\"Hospital Dr. Marcos Chamorro Iglesias\"},{\"CodigoEmpresa\":\"7344\",\"NombreEmpresa\":\"Hospital Dr. Mario Sánchez Vergara de La Calera\"},{\"CodigoEmpresa\":\"7139\",\"NombreEmpresa\":\"Hospital El Carmen\"},{\"CodigoEmpresa\":\"7390\",\"NombreEmpresa\":\"Hospital El Pino\"},{\"CodigoEmpresa\":\"7475\",\"NombreEmpresa\":\"Hospital Florida\"},{\"CodigoEmpresa\":\"7290\",\"NombreEmpresa\":\"Hospital Galvarino\"},{\"CodigoEmpresa\":\"7490\",\"NombreEmpresa\":\"Hospital Geriátrico Paz de la Tarde\"},{\"CodigoEmpresa\":\"7047\",\"NombreEmpresa\":\"Hospital Gorbea\"},{\"CodigoEmpresa\":\"7042\",\"NombreEmpresa\":\"Hospital Herminda Martin\"},{\"CodigoEmpresa\":\"7255\",\"NombreEmpresa\":\"Hospital Hualañé\"},{\"CodigoEmpresa\":\"7389\",\"NombreEmpresa\":\"Hospital Huepil\"},{\"CodigoEmpresa\":\"7401\",\"NombreEmpresa\":\"Hospital Intercultural Kallvu Llanka\"},{\"CodigoEmpresa\":\"7487\",\"NombreEmpresa\":\"Hospital La Ligua\"},{\"CodigoEmpresa\":\"7312\",\"NombreEmpresa\":\"Hospital La Serena\"},{\"CodigoEmpresa\":\"7464\",\"NombreEmpresa\":\"Hospital Laja\"},{\"CodigoEmpresa\":\"7419\",\"NombreEmpresa\":\"Hospital Las Higueras\"},{\"CodigoEmpresa\":\"7402\",\"NombreEmpresa\":\"Hospital Lebu\"},{\"CodigoEmpresa\":\"7258\",\"NombreEmpresa\":\"Hospital Linares\"},{\"CodigoEmpresa\":\"7481\",\"NombreEmpresa\":\"Hospital Lota\"},{\"CodigoEmpresa\":\"1076658\",\"NombreEmpresa\":\"HOSPITAL METROPOLITANO DE SANTIAGO\"},{\"CodigoEmpresa\":\"7388\",\"NombreEmpresa\":\"Hospital Nacimiento\"},{\"CodigoEmpresa\":\"7417\",\"NombreEmpresa\":\"Hospital Ovalle\"},{\"CodigoEmpresa\":\"7331\",\"NombreEmpresa\":\"Hospital Padre Alberto Hurtado\"},{\"CodigoEmpresa\":\"102393\",\"NombreEmpresa\":\"HOSPITAL PANGUIPULLI\"},{\"CodigoEmpresa\":\"7259\",\"NombreEmpresa\":\"Hospital Parral\"},{\"CodigoEmpresa\":\"7053\",\"NombreEmpresa\":\"Hospital Pedro Morales C.\"},{\"CodigoEmpresa\":\"7446\",\"NombreEmpresa\":\"Hospital Penco - Lirquen\"},{\"CodigoEmpresa\":\"7489\",\"NombreEmpresa\":\"Hospital Peñablanca\"},{\"CodigoEmpresa\":\"7343\",\"NombreEmpresa\":\"Hospital Petorca\"},{\"CodigoEmpresa\":\"7435\",\"NombreEmpresa\":\"Hospital Pichidegua\"},{\"CodigoEmpresa\":\"7436\",\"NombreEmpresa\":\"Hospital Pichilemu\"},{\"CodigoEmpresa\":\"7048\",\"NombreEmpresa\":\"Hospital Pitrufquén\"},{\"CodigoEmpresa\":\"7412\",\"NombreEmpresa\":\"Hospital Provincial del Huasco Monseñor Fernando Ariztia Ruiz\"},{\"CodigoEmpresa\":\"1216633\",\"NombreEmpresa\":\"HOSPITAL PSIQUIATRICO DR. PHILIPPE PINEL PUTAENDO\"},{\"CodigoEmpresa\":\"7427\",\"NombreEmpresa\":\"Hospital Psiquiátrico El Peral\"},{\"CodigoEmpresa\":\"7335\",\"NombreEmpresa\":\"Hospital Puerto Aysén\"},{\"CodigoEmpresa\":\"7476\",\"NombreEmpresa\":\"Hospital Puerto Cisnes\"},{\"CodigoEmpresa\":\"127018\",\"NombreEmpresa\":\"HOSPITAL PUERTO MONTT SERVICIO DE SALUD DEL RELONCAVI\"},{\"CodigoEmpresa\":\"7307\",\"NombreEmpresa\":\"Hospital Puerto Saavedra\"},{\"CodigoEmpresa\":\"7485\",\"NombreEmpresa\":\"Hospital Quilpué\"},{\"CodigoEmpresa\":\"7348\",\"NombreEmpresa\":\"Hospital Quintero\"},{\"CodigoEmpresa\":\"7423\",\"NombreEmpresa\":\"Hospital Río Bueno\"},{\"CodigoEmpresa\":\"7470\",\"NombreEmpresa\":\"Hospital Rio Negro\"},{\"CodigoEmpresa\":\"1215262\",\"NombreEmpresa\":\"Hospital San Antonio de Putaendo\"},{\"CodigoEmpresa\":\"7469\",\"NombreEmpresa\":\"Hospital San Carlos\"},{\"CodigoEmpresa\":\"7262\",\"NombreEmpresa\":\"Hospital San Javier\"},{\"CodigoEmpresa\":\"7406\",\"NombreEmpresa\":\"Hospital San José\"},{\"CodigoEmpresa\":\"1214332\",\"NombreEmpresa\":\"Hospital San Juan de Dios de Los Andes\"},{\"CodigoEmpresa\":\"7405\",\"NombreEmpresa\":\"Hospital San Luis de Buin\"},{\"CodigoEmpresa\":\"7345\",\"NombreEmpresa\":\"Hospital San Martín de Quillota\"},{\"CodigoEmpresa\":\"7477\",\"NombreEmpresa\":\"Hospital Sanatorio San José de Maipo\"},{\"CodigoEmpresa\":\"7404\",\"NombreEmpresa\":\"Hospital Santa Barbara\"},{\"CodigoEmpresa\":\"7449\",\"NombreEmpresa\":\"Hospital Santa Filomena de Graneros\"},{\"CodigoEmpresa\":\"7318\",\"NombreEmpresa\":\"Hospital Santa Juana\"},{\"CodigoEmpresa\":\"7130\",\"NombreEmpresa\":\"Hospital Santiago Oriente Dr. Luis Tisne Brousse\"},{\"CodigoEmpresa\":\"7486\",\"NombreEmpresa\":\"Hospital Santo Tomás de Limache\"},{\"CodigoEmpresa\":\"7261\",\"NombreEmpresa\":\"Hospital Teno\"},{\"CodigoEmpresa\":\"7274\",\"NombreEmpresa\":\"Hospital Til - Til\"},{\"CodigoEmpresa\":\"7385\",\"NombreEmpresa\":\"Hospital Tocopilla\"},{\"CodigoEmpresa\":\"7062\",\"NombreEmpresa\":\"Hospital Toltén\"},{\"CodigoEmpresa\":\"7384\",\"NombreEmpresa\":\"Hospital Traiguén\"},{\"CodigoEmpresa\":\"7288\",\"NombreEmpresa\":\"Hospital Victoria\"},{\"CodigoEmpresa\":\"7049\",\"NombreEmpresa\":\"Hospital Vilcún\"},{\"CodigoEmpresa\":\"7132\",\"NombreEmpresa\":\"Hospital Villarrica\"},{\"CodigoEmpresa\":\"7397\",\"NombreEmpresa\":\"Hospital Yumbel\"},{\"CodigoEmpresa\":\"100156\",\"NombreEmpresa\":\"I MUNICIPALIDAD DE ANGOL\"},{\"CodigoEmpresa\":\"87653\",\"NombreEmpresa\":\"I MUNICIPALIDAD DE ANTOFAGASTA\"},{\"CodigoEmpresa\":\"100049\",\"NombreEmpresa\":\"I MUNICIPALIDAD DE AYSEN\"},{\"CodigoEmpresa\":\"86917\",\"NombreEmpresa\":\"I MUNICIPALIDAD DE CALAMA\"},{\"CodigoEmpresa\":\"7241\",\"NombreEmpresa\":\"I MUNICIPALIDAD DE CERRILLOS\"},{\"CodigoEmpresa\":\"154782\",\"NombreEmpresa\":\"I MUNICIPALIDAD DE CHILE CHICO\"},{\"CodigoEmpresa\":\"84958\",\"NombreEmpresa\":\"I MUNICIPALIDAD DE CONCHALI\"},{\"CodigoEmpresa\":\"86872\",\"NombreEmpresa\":\"I MUNICIPALIDAD DE COPIAPO\"},{\"CodigoEmpresa\":\"116298\",\"NombreEmpresa\":\"I MUNICIPALIDAD DE EL QUISCO\"},{\"CodigoEmpresa\":\"116944\",\"NombreEmpresa\":\"I MUNICIPALIDAD DE EMPEDRADO\"},{\"CodigoEmpresa\":\"7496\",\"NombreEmpresa\":\"I MUNICIPALIDAD DE LA COMUNA DE EL BOSQUE\"},{\"CodigoEmpresa\":\"113255\",\"NombreEmpresa\":\"I MUNICIPALIDAD DE LA CRUZ\"},{\"CodigoEmpresa\":\"83825\",\"NombreEmpresa\":\"I MUNICIPALIDAD DE LA PINTANA\"},{\"CodigoEmpresa\":\"116296\",\"NombreEmpresa\":\"I MUNICIPALIDAD DE LAS CABRAS\"},{\"CodigoEmpresa\":\"7064\",\"NombreEmpresa\":\"I MUNICIPALIDAD DE LLANQUIHUE\"},{\"CodigoEmpresa\":\"118620\",\"NombreEmpresa\":\"I MUNICIPALIDAD DE LOS ALAMOS\"},{\"CodigoEmpresa\":\"112924\",\"NombreEmpresa\":\"I MUNICIPALIDAD DE MONTEPATRIA\"},{\"CodigoEmpresa\":\"117406\",\"NombreEmpresa\":\"I MUNICIPALIDAD DE PADRE HURTADO\"},{\"CodigoEmpresa\":\"88102\",\"NombreEmpresa\":\"I MUNICIPALIDAD DE PROVIDENCIA\"},{\"CodigoEmpresa\":\"87388\",\"NombreEmpresa\":\"I MUNICIPALIDAD DE PUENTE ALTO\"},{\"CodigoEmpresa\":\"86507\",\"NombreEmpresa\":\"I MUNICIPALIDAD DE PUERTO MONTT\"},{\"CodigoEmpresa\":\"98280\",\"NombreEmpresa\":\"I MUNICIPALIDAD DE PUTAENDO\"},{\"CodigoEmpresa\":\"88203\",\"NombreEmpresa\":\"I MUNICIPALIDAD DE QUILLOTA\"},{\"CodigoEmpresa\":\"93774\",\"NombreEmpresa\":\"I MUNICIPALIDAD DE SAN CLEMENTE\"},{\"CodigoEmpresa\":\"142855\",\"NombreEmpresa\":\"I MUNICIPALIDAD DE SAN PEDRO\"},{\"CodigoEmpresa\":\"113428\",\"NombreEmpresa\":\"I MUNICIPALIDAD DE SAN PEDRO DE ATACAMA\"},{\"CodigoEmpresa\":\"98443\",\"NombreEmpresa\":\"I MUNICIPALIDAD DE TOME\"},{\"CodigoEmpresa\":\"114395\",\"NombreEmpresa\":\"I MUNICIPALIDAD DE TUCAPEL\"},{\"CodigoEmpresa\":\"116399\",\"NombreEmpresa\":\"I MUNICIPALIDAD DE VICTORIA\"},{\"CodigoEmpresa\":\"84152\",\"NombreEmpresa\":\"I MUNICIPALIDAD VALDIVIA\"},{\"CodigoEmpresa\":\"114393\",\"NombreEmpresa\":\"I.  MUNICIPALIDAD CURACO  DE VELEZ\"},{\"CodigoEmpresa\":\"7328\",\"NombreEmpresa\":\"I. Municipalidad  de Alto del Carmen\"},{\"CodigoEmpresa\":\"121539\",\"NombreEmpresa\":\"I. Municipalidad de Calle Larga\"},{\"CodigoEmpresa\":\"113614\",\"NombreEmpresa\":\"I. MUNICIPALIDAD DE CASABLANCA\"},{\"CodigoEmpresa\":\"88254\",\"NombreEmpresa\":\"I. Municipalidad de Chillán\"},{\"CodigoEmpresa\":\"99322\",\"NombreEmpresa\":\"I. MUNICIPALIDAD DE COLINA\"},{\"CodigoEmpresa\":\"87901\",\"NombreEmpresa\":\"I. MUNICIPALIDAD DE COQUIMBO\"},{\"CodigoEmpresa\":\"100448\",\"NombreEmpresa\":\"I. Municipalidad de Coronel\"},{\"CodigoEmpresa\":\"99105\",\"NombreEmpresa\":\"I. MUNICIPALIDAD DE INDEPENDENCIA\"},{\"CodigoEmpresa\":\"114398\",\"NombreEmpresa\":\"I. Municipalidad de Licantén\"},{\"CodigoEmpresa\":\"86518\",\"NombreEmpresa\":\"I. MUNICIPALIDAD DE LO ESPEJO\"},{\"CodigoEmpresa\":\"87373\",\"NombreEmpresa\":\"I. MUNICIPALIDAD DE LO PRADO\"},{\"CodigoEmpresa\":\"101002\",\"NombreEmpresa\":\"I. Municipalidad de Los Andes\"},{\"CodigoEmpresa\":\"115166\",\"NombreEmpresa\":\"I. MUNICIPALIDAD DE PENCAHUE\"},{\"CodigoEmpresa\":\"102868\",\"NombreEmpresa\":\"I. Municipalidad de Puerto Varas\"},{\"CodigoEmpresa\":\"87633\",\"NombreEmpresa\":\"I. MUNICIPALIDAD DE QUILPUE\"},{\"CodigoEmpresa\":\"114918\",\"NombreEmpresa\":\"I. MUNICIPALIDAD DE RINCONADA\"},{\"CodigoEmpresa\":\"7367\",\"NombreEmpresa\":\"I. Municipalidad de Río Negro\"},{\"CodigoEmpresa\":\"111960\",\"NombreEmpresa\":\"I. Municipalidad de San Pablo\"},{\"CodigoEmpresa\":\"99765\",\"NombreEmpresa\":\"I. MUNICIPALIDAD DE TALAGANTE\"},{\"CodigoEmpresa\":\"84480\",\"NombreEmpresa\":\"I. MUNICIPALIDAD DE TALCA\"},{\"CodigoEmpresa\":\"115167\",\"NombreEmpresa\":\"I. MUNICIPALIDAD DE TOCOPILLA\"},{\"CodigoEmpresa\":\"86491\",\"NombreEmpresa\":\"I. MUNICIPALIDAD DE VALLENAR\"},{\"CodigoEmpresa\":\"94315\",\"NombreEmpresa\":\"I. MUNICIPALIDAD POZO ALMONTE\"},{\"CodigoEmpresa\":\"86664\",\"NombreEmpresa\":\"I.MUNICIPALIDAD DE CERRO NAVIA\"},{\"CodigoEmpresa\":\"92414\",\"NombreEmpresa\":\"I.MUNICIPALIDAD DE CHEPICA\"},{\"CodigoEmpresa\":\"113254\",\"NombreEmpresa\":\"I.Municipalidad de Coinco\"},{\"CodigoEmpresa\":\"87382\",\"NombreEmpresa\":\"I.MUNICIPALIDAD DE CONCEPCION\"},{\"CodigoEmpresa\":\"94458\",\"NombreEmpresa\":\"I.MUNICIPALIDAD DE CONCON\"},{\"CodigoEmpresa\":\"87838\",\"NombreEmpresa\":\"I.Municipalidad de Curicó\"},{\"CodigoEmpresa\":\"87824\",\"NombreEmpresa\":\"I.MUNICIPALIDAD DE ESTACION CENTRAL\"},{\"CodigoEmpresa\":\"84300\",\"NombreEmpresa\":\"I.MUNICIPALIDAD DE MACUL\"},{\"CodigoEmpresa\":\"115304\",\"NombreEmpresa\":\"I.MUNICIPALIDAD DE MARCHIGUE\"},{\"CodigoEmpresa\":\"120798\",\"NombreEmpresa\":\"I.MUNICIPALIDAD DE MARIA PINTO\"},{\"CodigoEmpresa\":\"99101\",\"NombreEmpresa\":\"I.Municipalidad de Mostazal\"},{\"CodigoEmpresa\":\"87172\",\"NombreEmpresa\":\"I.MUNICIPALIDAD DE PEÑALOLEN\"},{\"CodigoEmpresa\":\"113913\",\"NombreEmpresa\":\"I.MUNICIPALIDAD DE SAN RAFAEL\"},{\"CodigoEmpresa\":\"87399\",\"NombreEmpresa\":\"I.MUNICIPALIDAD DE VIÑA DEL MAR\"},{\"CodigoEmpresa\":\"115609\",\"NombreEmpresa\":\"IIustre Municipalidad de Malloa\"},{\"CodigoEmpresa\":\"86580\",\"NombreEmpresa\":\"IL. MUNICIPALIDAD DE PUNTA ARENAS\"},{\"CodigoEmpresa\":\"7356\",\"NombreEmpresa\":\"ILUSTRE MUNICIPALIDAD  DE SAGRADA FAMILIA\"},{\"CodigoEmpresa\":\"182336\",\"NombreEmpresa\":\"Ilustre Municipalidad Alto Bio Bio\"},{\"CodigoEmpresa\":\"7294\",\"NombreEmpresa\":\"Ilustre Municipalidad de Algarrobo\"},{\"CodigoEmpresa\":\"111124\",\"NombreEmpresa\":\"Ilustre Municipalidad de Alhue\"},{\"CodigoEmpresa\":\"119639\",\"NombreEmpresa\":\"Ilustre Municipalidad de Andacollo\"},{\"CodigoEmpresa\":\"119484\",\"NombreEmpresa\":\"ILUSTRE MUNICIPALIDAD DE ANTUCO\"},{\"CodigoEmpresa\":\"7050\",\"NombreEmpresa\":\"Ilustre Municipalidad de Arauco\"},{\"CodigoEmpresa\":\"86624\",\"NombreEmpresa\":\"ILUSTRE MUNICIPALIDAD DE ARICA\"},{\"CodigoEmpresa\":\"118069\",\"NombreEmpresa\":\"Ilustre municipalidad de Bulnes\"},{\"CodigoEmpresa\":\"115459\",\"NombreEmpresa\":\"Ilustre Municipalidad de Cabildo\"},{\"CodigoEmpresa\":\"116407\",\"NombreEmpresa\":\"Ilustre Municipalidad de Cabo de Hornos\"},{\"CodigoEmpresa\":\"120186\",\"NombreEmpresa\":\"Ilustre Municipalidad de Cabrero\"},{\"CodigoEmpresa\":\"115011\",\"NombreEmpresa\":\"Ilustre Municipalidad de Calbuco\"},{\"CodigoEmpresa\":\"7364\",\"NombreEmpresa\":\"Ilustre Municipalidad de Caldera\"},{\"CodigoEmpresa\":\"116219\",\"NombreEmpresa\":\"Ilustre Municipalidad de Calera de Tango\"},{\"CodigoEmpresa\":\"294421\",\"NombreEmpresa\":\"Ilustre Municipalidad de Camarones\"},{\"CodigoEmpresa\":\"119487\",\"NombreEmpresa\":\"Ilustre Municipalidad de Camiña\"},{\"CodigoEmpresa\":\"84473\",\"NombreEmpresa\":\"ILUSTRE MUNICIPALIDAD DE CANELA\"},{\"CodigoEmpresa\":\"119488\",\"NombreEmpresa\":\"Ilustre Municipalidad de Cañete\"},{\"CodigoEmpresa\":\"100127\",\"NombreEmpresa\":\"ILUSTRE MUNICIPALIDAD DE CASTRO\"},{\"CodigoEmpresa\":\"129737\",\"NombreEmpresa\":\"Ilustre Municipalidad de Catemu\"},{\"CodigoEmpresa\":\"7351\",\"NombreEmpresa\":\"Ilustre Municipalidad de Cauquenes\"},{\"CodigoEmpresa\":\"114392\",\"NombreEmpresa\":\"ILUSTRE MUNICIPALIDAD DE CHAITEN\"},{\"CodigoEmpresa\":\"7501\",\"NombreEmpresa\":\"Ilustre Municipalidad de Chanco\"},{\"CodigoEmpresa\":\"109196\",\"NombreEmpresa\":\"ILUSTRE MUNICIPALIDAD DE CHAÑARAL\"},{\"CodigoEmpresa\":\"7362\",\"NombreEmpresa\":\"Ilustre Municipalidad de Chillán\"},{\"CodigoEmpresa\":\"116221\",\"NombreEmpresa\":\"Ilustre Municipalidad de Chillan Viejo\"},{\"CodigoEmpresa\":\"116404\",\"NombreEmpresa\":\"Ilustre Municipalidad de Chimbarongo\"},{\"CodigoEmpresa\":\"165105\",\"NombreEmpresa\":\"Ilustre Municipalidad de Cholchol\"},{\"CodigoEmpresa\":\"115168\",\"NombreEmpresa\":\"ILUSTRE MUNICIPALIDAD DE CHONCHI\"},{\"CodigoEmpresa\":\"116747\",\"NombreEmpresa\":\"Ilustre Municipalidad de Cisnes\"},{\"CodigoEmpresa\":\"114925\",\"NombreEmpresa\":\"ILUSTRE MUNICIPALIDAD DE COBQUECURA\"},{\"CodigoEmpresa\":\"182424\",\"NombreEmpresa\":\"Ilustre Municipalidad de Cochamo\"},{\"CodigoEmpresa\":\"116942\",\"NombreEmpresa\":\"Ilustre Municipalidad de Cochrane\"},{\"CodigoEmpresa\":\"165106\",\"NombreEmpresa\":\"Ilustre Municipalidad de Codegua\"},{\"CodigoEmpresa\":\"116742\",\"NombreEmpresa\":\"Ilustre Municipalidad de Coelemu\"},{\"CodigoEmpresa\":\"7146\",\"NombreEmpresa\":\"Ilustre Municipalidad de Coihueco\"},{\"CodigoEmpresa\":\"124195\",\"NombreEmpresa\":\"Ilustre Municipalidad de Colbún\"},{\"CodigoEmpresa\":\"1053458\",\"NombreEmpresa\":\"ILUSTRE MUNICIPALIDAD DE COLCHANE\"},{\"CodigoEmpresa\":\"113853\",\"NombreEmpresa\":\"Ilustre Municipalidad de Collipulli\"},{\"CodigoEmpresa\":\"119266\",\"NombreEmpresa\":\"Ilustre Municipalidad de Coltauco\"},{\"CodigoEmpresa\":\"102316\",\"NombreEmpresa\":\"ILUSTRE MUNICIPALIDAD DE CONSTITUCION\"},{\"CodigoEmpresa\":\"141884\",\"NombreEmpresa\":\"Ilustre Municipalidad de Contulmo\"},{\"CodigoEmpresa\":\"7071\",\"NombreEmpresa\":\"Ilustre Municipalidad de Coyhaique\"},{\"CodigoEmpresa\":\"129738\",\"NombreEmpresa\":\"Ilustre Municipalidad de Cunco\"},{\"CodigoEmpresa\":\"121613\",\"NombreEmpresa\":\"Ilustre Municipalidad de Curacautín\"},{\"CodigoEmpresa\":\"125602\",\"NombreEmpresa\":\"Ilustre Municipalidad de Curacaví\"},{\"CodigoEmpresa\":\"127036\",\"NombreEmpresa\":\"Ilustre Municipalidad de Curanilahue\"},{\"CodigoEmpresa\":\"118093\",\"NombreEmpresa\":\"Ilustre Municipalidad de Curarrehue\"},{\"CodigoEmpresa\":\"133311\",\"NombreEmpresa\":\"Ilustre Municipalidad de Curepto\"},{\"CodigoEmpresa\":\"7454\",\"NombreEmpresa\":\"Ilustre Municipalidad de Diego de Almagro\"},{\"CodigoEmpresa\":\"123784\",\"NombreEmpresa\":\"Ilustre Municipalidad de El Carmen\"},{\"CodigoEmpresa\":\"116741\",\"NombreEmpresa\":\"ILUSTRE MUNICIPALIDAD DE EL MONTE\"},{\"CodigoEmpresa\":\"7066\",\"NombreEmpresa\":\"Ilustre Municipalidad de El Tabo\"},{\"CodigoEmpresa\":\"132741\",\"NombreEmpresa\":\"Ilustre Municipalidad de Ercilla\"},{\"CodigoEmpresa\":\"115285\",\"NombreEmpresa\":\"Ilustre Municipalidad de Florida\"},{\"CodigoEmpresa\":\"118089\",\"NombreEmpresa\":\"Ilustre Municipalidad de Freire\"},{\"CodigoEmpresa\":\"135567\",\"NombreEmpresa\":\"Ilustre Municipalidad de Freirina\"},{\"CodigoEmpresa\":\"119651\",\"NombreEmpresa\":\"Ilustre Municipalidad de Fresia\"},{\"CodigoEmpresa\":\"84478\",\"NombreEmpresa\":\"ILUSTRE MUNICIPALIDAD DE FRUTILLAR\"},{\"CodigoEmpresa\":\"118068\",\"NombreEmpresa\":\"Ilustre Municipalidad de Futaleufu\"},{\"CodigoEmpresa\":\"106880\",\"NombreEmpresa\":\"Ilustre Municipalidad de Futrono\"},{\"CodigoEmpresa\":\"124203\",\"NombreEmpresa\":\"Ilustre Municipalidad de Galvarino\"},{\"CodigoEmpresa\":\"118859\",\"NombreEmpresa\":\"Ilustre Municipalidad de General Lagos\"},{\"CodigoEmpresa\":\"148507\",\"NombreEmpresa\":\"Ilustre Municipalidad de Graneros\"},{\"CodigoEmpresa\":\"165107\",\"NombreEmpresa\":\"Ilustre Municipalidad de Guaitecas\"},{\"CodigoEmpresa\":\"116733\",\"NombreEmpresa\":\"Ilustre Municipalidad de Hijuelas\"},{\"CodigoEmpresa\":\"106170\",\"NombreEmpresa\":\"ILUSTRE MUNICIPALIDAD DE HUALAIHUE\"},{\"CodigoEmpresa\":\"118855\",\"NombreEmpresa\":\"Ilustre Municipalidad de Hualañe\"},{\"CodigoEmpresa\":\"123786\",\"NombreEmpresa\":\"Ilustre Municipalidad de Hualpen\"},{\"CodigoEmpresa\":\"140867\",\"NombreEmpresa\":\"Ilustre Municipalidad de Hualqui\"},{\"CodigoEmpresa\":\"116946\",\"NombreEmpresa\":\"ILUSTRE MUNICIPALIDAD DE HUARA\"},{\"CodigoEmpresa\":\"116406\",\"NombreEmpresa\":\"Ilustre Municipalidad de Huasco\"},{\"CodigoEmpresa\":\"115164\",\"NombreEmpresa\":\"ILUSTRE MUNICIPALIDAD DE ILLAPEL\"},{\"CodigoEmpresa\":\"87175\",\"NombreEmpresa\":\"ILUSTRE MUNICIPALIDAD DE IQUIQUE\"},{\"CodigoEmpresa\":\"119852\",\"NombreEmpresa\":\"Ilustre Municipalidad de Isla de Pascua\"},{\"CodigoEmpresa\":\"108932\",\"NombreEmpresa\":\"ILUSTRE MUNICIPALIDAD DE JUAN FERNANDEZ\"},{\"CodigoEmpresa\":\"115185\",\"NombreEmpresa\":\"Ilustre Municipalidad de La Calera\"},{\"CodigoEmpresa\":\"100488\",\"NombreEmpresa\":\"Ilustre Municipalidad de La Cisterna\"},{\"CodigoEmpresa\":\"165285\",\"NombreEmpresa\":\"Ilustre Municipalidad de La Estrella\"},{\"CodigoEmpresa\":\"112097\",\"NombreEmpresa\":\"ILUSTRE MUNICIPALIDAD DE LA GRANJA\"},{\"CodigoEmpresa\":\"116410\",\"NombreEmpresa\":\"Ilustre Municipalidad de La Higuera\"},{\"CodigoEmpresa\":\"100648\",\"NombreEmpresa\":\"ILUSTRE MUNICIPALIDAD DE LA LIGUA\"},{\"CodigoEmpresa\":\"7366\",\"NombreEmpresa\":\"Ilustre Municipalidad de La Reina\"},{\"CodigoEmpresa\":\"87976\",\"NombreEmpresa\":\"ILUSTRE MUNICIPALIDAD DE LA SERENA\"},{\"CodigoEmpresa\":\"114725\",\"NombreEmpresa\":\"Ilustre Municipalidad de La Unión\"},{\"CodigoEmpresa\":\"113735\",\"NombreEmpresa\":\"ILUSTRE MUNICIPALIDAD DE LAGO RANCO\"},{\"CodigoEmpresa\":\"123529\",\"NombreEmpresa\":\"Ilustre Municipalidad de Lago Verde\"},{\"CodigoEmpresa\":\"119999\",\"NombreEmpresa\":\"Ilustre Municipalidad de Laguna Blanca\"},{\"CodigoEmpresa\":\"116405\",\"NombreEmpresa\":\"Ilustre Municipalidad de Laja\"},{\"CodigoEmpresa\":\"118067\",\"NombreEmpresa\":\"Ilustre Municipalidad de Lampa\"},{\"CodigoEmpresa\":\"106876\",\"NombreEmpresa\":\"Ilustre Municipalidad de Lanco\"},{\"CodigoEmpresa\":\"124577\",\"NombreEmpresa\":\"Ilustre Municipalidad de Lautaro\"},{\"CodigoEmpresa\":\"118096\",\"NombreEmpresa\":\"Ilustre Municipalidad de Lebu\"},{\"CodigoEmpresa\":\"7492\",\"NombreEmpresa\":\"Ilustre Municipalidad de Limache\"},{\"CodigoEmpresa\":\"86545\",\"NombreEmpresa\":\"ILUSTRE MUNICIPALIDAD DE LINARES\"},{\"CodigoEmpresa\":\"7365\",\"NombreEmpresa\":\"Ilustre Municipalidad de Litueche\"},{\"CodigoEmpresa\":\"118072\",\"NombreEmpresa\":\"Ilustre Municipalidad de Llay Llay\"},{\"CodigoEmpresa\":\"113258\",\"NombreEmpresa\":\"ILUSTRE MUNICIPALIDAD DE LOLOL\"},{\"CodigoEmpresa\":\"113851\",\"NombreEmpresa\":\"Ilustre Municipalidad de Loncoche\"},{\"CodigoEmpresa\":\"120788\",\"NombreEmpresa\":\"Ilustre Municipalidad de Longavi\"},{\"CodigoEmpresa\":\"119994\",\"NombreEmpresa\":\"Ilustre Municipalidad de Lonquimay\"},{\"CodigoEmpresa\":\"7159\",\"NombreEmpresa\":\"Ilustre Municipalidad de los Lagos\"},{\"CodigoEmpresa\":\"7304\",\"NombreEmpresa\":\"Ilustre Municipalidad de Los Muermos\"},{\"CodigoEmpresa\":\"116408\",\"NombreEmpresa\":\"Ilustre Municipalidad de Los Sauces\"},{\"CodigoEmpresa\":\"116401\",\"NombreEmpresa\":\"Ilustre Municipalidad de Los Vilos\"},{\"CodigoEmpresa\":\"138211\",\"NombreEmpresa\":\"Ilustre Municipalidad de Lumaco\"},{\"CodigoEmpresa\":\"113852\",\"NombreEmpresa\":\"ILUSTRE MUNICIPALIDAD DE MACHALI\"},{\"CodigoEmpresa\":\"115464\",\"NombreEmpresa\":\"Ilustre Municipalidad de Máfil\"},{\"CodigoEmpresa\":\"93619\",\"NombreEmpresa\":\"ILUSTRE MUNICIPALIDAD DE MAIPU\"},{\"CodigoEmpresa\":\"113738\",\"NombreEmpresa\":\"ILUSTRE MUNICIPALIDAD DE MARIA ELENA\"},{\"CodigoEmpresa\":\"120001\",\"NombreEmpresa\":\"Ilustre Municipalidad de Mariquina\"},{\"CodigoEmpresa\":\"118070\",\"NombreEmpresa\":\"Ilustre Municipalidad de Maule\"},{\"CodigoEmpresa\":\"120791\",\"NombreEmpresa\":\"ILUSTRE MUNICIPALIDAD DE MAULLIN\"},{\"CodigoEmpresa\":\"117581\",\"NombreEmpresa\":\"Ilustre Municipalidad de Mejillones\"},{\"CodigoEmpresa\":\"121617\",\"NombreEmpresa\":\"Ilustre Municipalidad de Melipeuco\"},{\"CodigoEmpresa\":\"98901\",\"NombreEmpresa\":\"ILUSTRE MUNICIPALIDAD DE MELIPILLA\"},{\"CodigoEmpresa\":\"84961\",\"NombreEmpresa\":\"ILUSTRE MUNICIPALIDAD DE MOLINA \"},{\"CodigoEmpresa\":\"115311\",\"NombreEmpresa\":\"Ilustre Municipalidad de Mulchen\"},{\"CodigoEmpresa\":\"135561\",\"NombreEmpresa\":\"Ilustre Municipalidad de Nacimiento\"},{\"CodigoEmpresa\":\"116750\",\"NombreEmpresa\":\"Ilustre Municipalidad de Nancagua\"},{\"CodigoEmpresa\":\"98448\",\"NombreEmpresa\":\"ILUSTRE MUNICIPALIDAD DE NATALES\"},{\"CodigoEmpresa\":\"118625\",\"NombreEmpresa\":\"Ilustre Municipalidad de Navidad\"},{\"CodigoEmpresa\":\"142508\",\"NombreEmpresa\":\"Ilustre Municipalidad de Negrete\"},{\"CodigoEmpresa\":\"7051\",\"NombreEmpresa\":\"Ilustre Municipalidad de Ninhue\"},{\"CodigoEmpresa\":\"115468\",\"NombreEmpresa\":\"Ilustre Municipalidad de Nogales\"},{\"CodigoEmpresa\":\"134356\",\"NombreEmpresa\":\"Ilustre Municipalidad de Ñiquen\"},{\"CodigoEmpresa\":\"86764\",\"NombreEmpresa\":\"ILUSTRE MUNICIPALIDAD DE ÑUÑOA\"},{\"CodigoEmpresa\":\"115463\",\"NombreEmpresa\":\"Ilustre Municipalidad de O\\'Higgins\"},{\"CodigoEmpresa\":\"119273\",\"NombreEmpresa\":\"Ilustre Municipalidad de Olivar\"},{\"CodigoEmpresa\":\"119996\",\"NombreEmpresa\":\"Ilustre Municipalidad de Ollagüe\"},{\"CodigoEmpresa\":\"114724\",\"NombreEmpresa\":\"Ilustre Municipalidad de Olmue\"},{\"CodigoEmpresa\":\"84959\",\"NombreEmpresa\":\"ILUSTRE MUNICIPALIDAD DE OSORNO\"},{\"CodigoEmpresa\":\"118075\",\"NombreEmpresa\":\"Ilustre Municipalidad de Paihuano\"},{\"CodigoEmpresa\":\"116744\",\"NombreEmpresa\":\"Ilustre Municipalidad de Paillaco\"},{\"CodigoEmpresa\":\"100728\",\"NombreEmpresa\":\"ILUSTRE MUNICIPALIDAD DE PAINE\"},{\"CodigoEmpresa\":\"110393\",\"NombreEmpresa\":\"Ilustre Municipalidad de Palena\"},{\"CodigoEmpresa\":\"123526\",\"NombreEmpresa\":\"Ilustre Municipalidad de Palmilla\"},{\"CodigoEmpresa\":\"115284\",\"NombreEmpresa\":\"Ilustre Municipalidad de Panguipulli\"},{\"CodigoEmpresa\":\"115302\",\"NombreEmpresa\":\"Ilustre Municipalidad de Papudo\"},{\"CodigoEmpresa\":\"118971\",\"NombreEmpresa\":\"Ilustre Municipalidad de Paredones\"},{\"CodigoEmpresa\":\"94459\",\"NombreEmpresa\":\"ILUSTRE MUNICIPALIDAD DE PARRAL\"},{\"CodigoEmpresa\":\"116729\",\"NombreEmpresa\":\"Ilustre Municipalidad de Pelarco\"},{\"CodigoEmpresa\":\"113978\",\"NombreEmpresa\":\"Ilustre Municipalidad de Pelluhue\"},{\"CodigoEmpresa\":\"117587\",\"NombreEmpresa\":\"Ilustre Municipalidad de Pemuco\"},{\"CodigoEmpresa\":\"142575\",\"NombreEmpresa\":\"Ilustre Municipalidad de Penco\"},{\"CodigoEmpresa\":\"118619\",\"NombreEmpresa\":\"Ilustre Municipalidad de Peralillo\"},{\"CodigoEmpresa\":\"133899\",\"NombreEmpresa\":\"Ilustre Municipalidad de Perquenco\"},{\"CodigoEmpresa\":\"116223\",\"NombreEmpresa\":\"Ilustre Municipalidad de Petorca\"},{\"CodigoEmpresa\":\"118861\",\"NombreEmpresa\":\"Ilustre Municipalidad de Peumo\"},{\"CodigoEmpresa\":\"118077\",\"NombreEmpresa\":\"Ilustre Municipalidad de Pica\"},{\"CodigoEmpresa\":\"118621\",\"NombreEmpresa\":\"Ilustre Municipalidad de Pichidegua\"},{\"CodigoEmpresa\":\"117179\",\"NombreEmpresa\":\"Ilustre Municipalidad de Pichilemu\"},{\"CodigoEmpresa\":\"118071\",\"NombreEmpresa\":\"Ilustre Municipalidad de Pinto\"},{\"CodigoEmpresa\":\"100072\",\"NombreEmpresa\":\"ILUSTRE MUNICIPALIDAD DE PIRQUE\"},{\"CodigoEmpresa\":\"116411\",\"NombreEmpresa\":\"Ilustre Municipalidad de Pitrufquen\"},{\"CodigoEmpresa\":\"118087\",\"NombreEmpresa\":\"Ilustre Municipalidad de Placilla\"},{\"CodigoEmpresa\":\"115798\",\"NombreEmpresa\":\"Ilustre Municipalidad de Porvenir\"},{\"CodigoEmpresa\":\"117585\",\"NombreEmpresa\":\"Ilustre Municipalidad de Primavera\"},{\"CodigoEmpresa\":\"119270\",\"NombreEmpresa\":\"Ilustre Municipalidad de Puchuncavi\"},{\"CodigoEmpresa\":\"86943\",\"NombreEmpresa\":\"ILUSTRE MUNICIPALIDAD DE PUCON\"},{\"CodigoEmpresa\":\"104899\",\"NombreEmpresa\":\"Ilustre Municipalidad de Puerto Octay\"},{\"CodigoEmpresa\":\"115313\",\"NombreEmpresa\":\"Ilustre Municipalidad de Puerto Saavedra\"},{\"CodigoEmpresa\":\"116402\",\"NombreEmpresa\":\"Ilustre Municipalidad de Pumanque\"},{\"CodigoEmpresa\":\"117588\",\"NombreEmpresa\":\"Ilustre Municipalidad de Punitaqui\"},{\"CodigoEmpresa\":\"116403\",\"NombreEmpresa\":\"Ilustre Municipalidad de Puqueldón\"},{\"CodigoEmpresa\":\"114916\",\"NombreEmpresa\":\"ILUSTRE MUNICIPALIDAD DE PURRANQUE\"},{\"CodigoEmpresa\":\"119479\",\"NombreEmpresa\":\"ILUSTRE MUNICIPALIDAD DE PUTRE\"},{\"CodigoEmpresa\":\"105334\",\"NombreEmpresa\":\"ILUSTRE MUNICIPALIDAD DE PUYEHUE\"},{\"CodigoEmpresa\":\"112919\",\"NombreEmpresa\":\"Ilustre Municipalidad de Queilen\"},{\"CodigoEmpresa\":\"110102\",\"NombreEmpresa\":\"Ilustre Municipalidad De Quellón\"},{\"CodigoEmpresa\":\"125066\",\"NombreEmpresa\":\"Ilustre Municipalidad de Quemchi\"},{\"CodigoEmpresa\":\"116940\",\"NombreEmpresa\":\"Ilustre Municipalidad de Quilaco\"},{\"CodigoEmpresa\":\"88313\",\"NombreEmpresa\":\"Ilustre Municipalidad de Quilicura\"},{\"CodigoEmpresa\":\"115979\",\"NombreEmpresa\":\"Ilustre Municipalidad de Quilleco\"},{\"CodigoEmpresa\":\"135562\",\"NombreEmpresa\":\"ILUSTRE MUNICIPALIDAD DE QUILLON\"},{\"CodigoEmpresa\":\"116731\",\"NombreEmpresa\":\"Ilustre Municipalidad de Quinchao\"},{\"CodigoEmpresa\":\"115010\",\"NombreEmpresa\":\"Ilustre Municipalidad de Quinta de Tilcoco\"},{\"CodigoEmpresa\":\"88075\",\"NombreEmpresa\":\"ILUSTRE MUNICIPALIDAD DE QUINTA NORMAL\"},{\"CodigoEmpresa\":\"138454\",\"NombreEmpresa\":\"Ilustre Municipalidad de Quintero\"},{\"CodigoEmpresa\":\"124198\",\"NombreEmpresa\":\"Ilustre Municipalidad de Quirihue\"},{\"CodigoEmpresa\":\"87167\",\"NombreEmpresa\":\"ILUSTRE MUNICIPALIDAD DE RANCAGUA\"},{\"CodigoEmpresa\":\"7418\",\"NombreEmpresa\":\"Ilustre Municipalidad de Ranquil\"},{\"CodigoEmpresa\":\"117589\",\"NombreEmpresa\":\"Ilustre Municipalidad de Rauco\"},{\"CodigoEmpresa\":\"7325\",\"NombreEmpresa\":\"Ilustre Municipalidad de Recoleta\"},{\"CodigoEmpresa\":\"118073\",\"NombreEmpresa\":\"Ilustre Municipalidad de Renaico\"},{\"CodigoEmpresa\":\"87185\",\"NombreEmpresa\":\"ILUSTRE MUNICIPALIDAD DE RENCA\"},{\"CodigoEmpresa\":\"100555\",\"NombreEmpresa\":\"ILUSTRE MUNICIPALIDAD DE RENGO\"},{\"CodigoEmpresa\":\"116215\",\"NombreEmpresa\":\"Ilustre Municipalidad de Requínoa\"},{\"CodigoEmpresa\":\"113252\",\"NombreEmpresa\":\"ILUSTRE MUNICIPALIDAD DE RETIRO\"},{\"CodigoEmpresa\":\"117580\",\"NombreEmpresa\":\"Ilustre Municipalidad de Rio Bueno\"},{\"CodigoEmpresa\":\"89591\",\"NombreEmpresa\":\"ILUSTRE MUNICIPALIDAD DE RIO CLARO\"},{\"CodigoEmpresa\":\"115301\",\"NombreEmpresa\":\"ILUSTRE MUNICIPALIDAD DE RIO VERDE\"},{\"CodigoEmpresa\":\"141881\",\"NombreEmpresa\":\"Ilustre Municipalidad de Romeral\"},{\"CodigoEmpresa\":\"116295\",\"NombreEmpresa\":\"Ilustre Municipalidad de Salamanca\"},{\"CodigoEmpresa\":\"86548\",\"NombreEmpresa\":\"ILUSTRE MUNICIPALIDAD DE SAN BERNARDO\"},{\"CodigoEmpresa\":\"116226\",\"NombreEmpresa\":\"Ilustre Municipalidad de San Esteban\"},{\"CodigoEmpresa\":\"128889\",\"NombreEmpresa\":\"ILUSTRE MUNICIPALIDAD DE SAN FABIAN\"},{\"CodigoEmpresa\":\"100158\",\"NombreEmpresa\":\"ILUSTRE MUNICIPALIDAD DE SAN FELIPE\"},{\"CodigoEmpresa\":\"7482\",\"NombreEmpresa\":\"Ilustre Municipalidad de San Fernando\"},{\"CodigoEmpresa\":\"115795\",\"NombreEmpresa\":\"Ilustre Municipalidad de San Gregorio\"},{\"CodigoEmpresa\":\"116409\",\"NombreEmpresa\":\"Ilustre Municipalidad de San Ignacio\"},{\"CodigoEmpresa\":\"86407\",\"NombreEmpresa\":\"ILUSTRE MUNICIPALIDAD DE SAN JAVIER\"},{\"CodigoEmpresa\":\"7135\",\"NombreEmpresa\":\"Ilustre Municipalidad de San Joaquin\"},{\"CodigoEmpresa\":\"118085\",\"NombreEmpresa\":\"Ilustre Municipalidad de San Juan de la Costa\"},{\"CodigoEmpresa\":\"7498\",\"NombreEmpresa\":\"Ilustre Municipalidad de San Miguel\"},{\"CodigoEmpresa\":\"7158\",\"NombreEmpresa\":\"Ilustre Municipalidad de San Nicolás\"},{\"CodigoEmpresa\":\"136421\",\"NombreEmpresa\":\"Ilustre Municipalidad de San Rosendo\"},{\"CodigoEmpresa\":\"135559\",\"NombreEmpresa\":\"Ilustre Municipalidad de San Vicente de Tagua Tagua\"},{\"CodigoEmpresa\":\"118860\",\"NombreEmpresa\":\"Ilustre Municipalidad de Santa Barbara\"},{\"CodigoEmpresa\":\"117584\",\"NombreEmpresa\":\"Ilustre Municipalidad de Santa Cruz\"},{\"CodigoEmpresa\":\"118623\",\"NombreEmpresa\":\"Ilustre Municipalidad de Santa Juana\"},{\"CodigoEmpresa\":\"117210\",\"NombreEmpresa\":\"Ilustre Municipalidad de Santa María\"},{\"CodigoEmpresa\":\"113981\",\"NombreEmpresa\":\"Ilustre Municipalidad de Santo Domingo\"},{\"CodigoEmpresa\":\"117579\",\"NombreEmpresa\":\"Ilustre Municipalidad de Sierra Gorda\"},{\"CodigoEmpresa\":\"118079\",\"NombreEmpresa\":\"Ilustre Municipalidad de Taltal\"},{\"CodigoEmpresa\":\"116299\",\"NombreEmpresa\":\"Ilustre Municipalidad de Teno\"},{\"CodigoEmpresa\":\"7360\",\"NombreEmpresa\":\"Ilustre Municipalidad de Tierra Amarilla\"},{\"CodigoEmpresa\":\"116218\",\"NombreEmpresa\":\"Ilustre Municipalidad de Til Til\"},{\"CodigoEmpresa\":\"224045\",\"NombreEmpresa\":\"Ilustre Municipalidad de Timaukel\"},{\"CodigoEmpresa\":\"117582\",\"NombreEmpresa\":\"Ilustre Municipalidad de Tolten\"},{\"CodigoEmpresa\":\"7301\",\"NombreEmpresa\":\"Ilustre Municipalidad de Tortel\"},{\"CodigoEmpresa\":\"145365\",\"NombreEmpresa\":\"Ilustre Municipalidad de Trehuaco\"},{\"CodigoEmpresa\":\"87402\",\"NombreEmpresa\":\"ILUSTRE MUNICIPALIDAD DE VALPARAISO\"},{\"CodigoEmpresa\":\"114914\",\"NombreEmpresa\":\"Ilustre Municipalidad de Vichuquén\"},{\"CodigoEmpresa\":\"115303\",\"NombreEmpresa\":\"Ilustre Municipalidad de Vicuña\"},{\"CodigoEmpresa\":\"115009\",\"NombreEmpresa\":\"Ilustre Municipalidad de Vilcún\"},{\"CodigoEmpresa\":\"7363\",\"NombreEmpresa\":\"Ilustre Municipalidad de Villa Alegre\"},{\"CodigoEmpresa\":\"7233\",\"NombreEmpresa\":\"Ilustre Municipalidad de Villa Alemana\"},{\"CodigoEmpresa\":\"118084\",\"NombreEmpresa\":\"Ilustre Municipalidad de Villarrica\"},{\"CodigoEmpresa\":\"116738\",\"NombreEmpresa\":\"Ilustre Municipalidad de Yerbas Buenas\"},{\"CodigoEmpresa\":\"120004\",\"NombreEmpresa\":\"Ilustre Municipalidad de Yumbel\"},{\"CodigoEmpresa\":\"115294\",\"NombreEmpresa\":\"Ilustre Municipalidad de Yungay\"},{\"CodigoEmpresa\":\"132199\",\"NombreEmpresa\":\"Ilustre Municipalidad de Zapallar\"},{\"CodigoEmpresa\":\"117181\",\"NombreEmpresa\":\"Ilustre Municipalidad Isla de Maipo\"},{\"CodigoEmpresa\":\"115280\",\"NombreEmpresa\":\"ILUSTRE MUNICIPALIDAD TEODORO SCHMIDT\"},{\"CodigoEmpresa\":\"106000\",\"NombreEmpresa\":\"Ilustre Municipalidad Torres del Payne\"},{\"CodigoEmpresa\":\"114924\",\"NombreEmpresa\":\"IMUNICIPALIDAD DE NUEVA IMPERIAL\"},{\"CodigoEmpresa\":\"7004\",\"NombreEmpresa\":\"Instituto Antártico Chileno\"},{\"CodigoEmpresa\":\"6937\",\"NombreEmpresa\":\"Instituto de Desarrollo Agropecuario - INDAP\"},{\"CodigoEmpresa\":\"7070\",\"NombreEmpresa\":\"Instituto de Fomento Pesquero - IFOP\"},{\"CodigoEmpresa\":\"7394\",\"NombreEmpresa\":\"Instituto de Investigaciones y Control del Ejércit\"},{\"CodigoEmpresa\":\"7474\",\"NombreEmpresa\":\"Instituto de Neurocirugía\"},{\"CodigoEmpresa\":\"1090469\",\"NombreEmpresa\":\"INSTITUTO DE PREVISION SOCIAL\"},{\"CodigoEmpresa\":\"7177\",\"NombreEmpresa\":\"INSTITUTO DE SALUD PUBLICA DE CHILE\"},{\"CodigoEmpresa\":\"6953\",\"NombreEmpresa\":\"Instituto de Seguridad Laboral - ISL\"},{\"CodigoEmpresa\":\"7497\",\"NombreEmpresa\":\"Instituto Forestal\"},{\"CodigoEmpresa\":\"7432\",\"NombreEmpresa\":\"Instituto Nac. de Rehabilitación Pedro Aguirre C.\"},{\"CodigoEmpresa\":\"7216\",\"NombreEmpresa\":\"INSTITUTO NACIONAL DE DEPORTES DE CHILE\"},{\"CodigoEmpresa\":\"6931\",\"NombreEmpresa\":\"Instituto Nacional de Estadísticas - INE\"},{\"CodigoEmpresa\":\"7430\",\"NombreEmpresa\":\"Instituto Nacional de Geriatría\"},{\"CodigoEmpresa\":\"7176\",\"NombreEmpresa\":\"Instituto Nacional de Hidráulicas - INH\"},{\"CodigoEmpresa\":\"7197\",\"NombreEmpresa\":\"Instituto Nacional de la Juventud - MIDEPLAN\"},{\"CodigoEmpresa\":\"1042394\",\"NombreEmpresa\":\"INSTITUTO NACIONAL DE PROPIEDAD INDUSTRIAL\"},{\"CodigoEmpresa\":\"7276\",\"NombreEmpresa\":\"Instituto Nacional del Cancer\"},{\"CodigoEmpresa\":\"7298\",\"NombreEmpresa\":\"Instituto Nacional del Torax\"},{\"CodigoEmpresa\":\"7044\",\"NombreEmpresa\":\"INSTITUTO PSIQUIATRICO DR JOSE HORWITZ BARAK\"},{\"CodigoEmpresa\":\"7456\",\"NombreEmpresa\":\"Instituto Traumatológico\"},{\"CodigoEmpresa\":\"7204\",\"NombreEmpresa\":\"INTENDENCIA II REGION ANTOFAGASTA\"},{\"CodigoEmpresa\":\"7115\",\"NombreEmpresa\":\"Intendencia III Región, Atacama\"},{\"CodigoEmpresa\":\"7236\",\"NombreEmpresa\":\"Intendencia IV Región, Coquimbo\"},{\"CodigoEmpresa\":\"7220\",\"NombreEmpresa\":\"Intendencia IX Región, de la Araucanía\"},{\"CodigoEmpresa\":\"7195\",\"NombreEmpresa\":\"Intendencia Región Metropolitana\"},{\"CodigoEmpresa\":\"270727\",\"NombreEmpresa\":\"Intendencia Regional de Arica y Parinacota\"},{\"CodigoEmpresa\":\"270726\",\"NombreEmpresa\":\"Intendencia Regional de Los Ríos\"},{\"CodigoEmpresa\":\"7234\",\"NombreEmpresa\":\"INTENDENCIA REGIONAL I REGION DE TARAPAC\"},{\"CodigoEmpresa\":\"7196\",\"NombreEmpresa\":\"Intendencia V Región, Valparaíso\"},{\"CodigoEmpresa\":\"7201\",\"NombreEmpresa\":\"Intendencia VI Región, Lib. Bdo. O´Higgins\"},{\"CodigoEmpresa\":\"7225\",\"NombreEmpresa\":\"Intendencia VII Región, del Maule\"},{\"CodigoEmpresa\":\"7226\",\"NombreEmpresa\":\"Intendencia VIII Región, del Bío-Bío\"},{\"CodigoEmpresa\":\"7215\",\"NombreEmpresa\":\"Intendencia X Región, de Los Lagos\"},{\"CodigoEmpresa\":\"7229\",\"NombreEmpresa\":\"Intendencia XI Región, Aysén\"},{\"CodigoEmpresa\":\"7214\",\"NombreEmpresa\":\"Intendencia XII Región de Magallanes y Antártica Chilena\"},{\"CodigoEmpresa\":\"7002\",\"NombreEmpresa\":\"JUNAEB\"},{\"CodigoEmpresa\":\"7014\",\"NombreEmpresa\":\"Junta de Aeronáutica Civil\"},{\"CodigoEmpresa\":\"1079772\",\"NombreEmpresa\":\"JUNTA NACIONAL DE CUERPOS DE BOMBEROS DE CHILE\"},{\"CodigoEmpresa\":\"6928\",\"NombreEmpresa\":\"JUNTA NACIONAL DE JARDINES         INFANTILES\"},{\"CodigoEmpresa\":\"1065029\",\"NombreEmpresa\":\"LICEO EL ROSARIO\"},{\"CodigoEmpresa\":\"7074\",\"NombreEmpresa\":\"METRO S.A.\"},{\"CodigoEmpresa\":\"6941\",\"NombreEmpresa\":\"Ministerio de Bienes Nacionales.\"},{\"CodigoEmpresa\":\"7247\",\"NombreEmpresa\":\"MINISTERIO DE OBRAS PUBLICAS DIREC CION GRAL DE OO PP DCYF\"},{\"CodigoEmpresa\":\"7249\",\"NombreEmpresa\":\"Ministerio de Obras Publicas Dirección Gral. de OOPP\"},{\"CodigoEmpresa\":\"6944\",\"NombreEmpresa\":\"Ministerio del Interior\"},{\"CodigoEmpresa\":\"224060\",\"NombreEmpresa\":\"MINISTERIO PUBLICO\"},{\"CodigoEmpresa\":\"7194\",\"NombreEmpresa\":\"Ministerio Secretaría General de Gobierno\"},{\"CodigoEmpresa\":\"6949\",\"NombreEmpresa\":\"MINISTERIO SECRETARIA GENERAL DE LA PRESIDENCIA DE LA REPUBLICA\"},{\"CodigoEmpresa\":\"7248\",\"NombreEmpresa\":\"MOP - Dirección de Vialidad\"},{\"CodigoEmpresa\":\"7353\",\"NombreEmpresa\":\"MOP Dirección General de Concesiones\"},{\"CodigoEmpresa\":\"114923\",\"NombreEmpresa\":\"Municipalidad de Alto Hospicio\"},{\"CodigoEmpresa\":\"98452\",\"NombreEmpresa\":\"Municipalidad de Ancud\"},{\"CodigoEmpresa\":\"100090\",\"NombreEmpresa\":\"MUNICIPALIDAD DE BUIN\"},{\"CodigoEmpresa\":\"115186\",\"NombreEmpresa\":\"Municipalidad de Carahue\"},{\"CodigoEmpresa\":\"99569\",\"NombreEmpresa\":\"MUNICIPALIDAD DE CARTAGENA\"},{\"CodigoEmpresa\":\"100523\",\"NombreEmpresa\":\"MUNICIPALIDAD DE CHIGUAYANTE\"},{\"CodigoEmpresa\":\"115297\",\"NombreEmpresa\":\"Municipalidad de Combarbala\"},{\"CodigoEmpresa\":\"119089\",\"NombreEmpresa\":\"Municipalidad de Corral\"},{\"CodigoEmpresa\":\"115165\",\"NombreEmpresa\":\"MUNICIPALIDAD DE DALCAHUE\"},{\"CodigoEmpresa\":\"123788\",\"NombreEmpresa\":\"MUNICIPALIDAD DE DOÑIHUE\"},{\"CodigoEmpresa\":\"117586\",\"NombreEmpresa\":\"Municipalidad de Gorbea\"},{\"CodigoEmpresa\":\"100739\",\"NombreEmpresa\":\"Municipalidad de Huechuraba\"},{\"CodigoEmpresa\":\"86766\",\"NombreEmpresa\":\"MUNICIPALIDAD DE LA FLORIDA\"},{\"CodigoEmpresa\":\"86571\",\"NombreEmpresa\":\"MUNICIPALIDAD DE LAS CONDES\"},{\"CodigoEmpresa\":\"100155\",\"NombreEmpresa\":\"Municipalidad de lo barnechea\"},{\"CodigoEmpresa\":\"87187\",\"NombreEmpresa\":\"Municipalidad de Los Angeles\"},{\"CodigoEmpresa\":\"113259\",\"NombreEmpresa\":\"MUNICIPALIDAD DE LOTA\"},{\"CodigoEmpresa\":\"99860\",\"NombreEmpresa\":\"MUNICIPALIDAD DE OVALLE\"},{\"CodigoEmpresa\":\"90886\",\"NombreEmpresa\":\"MUNICIPALIDAD DE PADRE LAS CASAS\"},{\"CodigoEmpresa\":\"113618\",\"NombreEmpresa\":\"Municipalidad de Panquehue\"},{\"CodigoEmpresa\":\"87104\",\"NombreEmpresa\":\"MUNICIPALIDAD DE PEDRO AGUIRRE CERDA\"},{\"CodigoEmpresa\":\"100137\",\"NombreEmpresa\":\"MUNICIPALIDAD DE PEÑAFLOR\"},{\"CodigoEmpresa\":\"115299\",\"NombreEmpresa\":\"Municipalidad de Portezuelo\"},{\"CodigoEmpresa\":\"84149\",\"NombreEmpresa\":\"MUNICIPALIDAD DE PUDAHUEL\"},{\"CodigoEmpresa\":\"116945\",\"NombreEmpresa\":\"Municipalidad de Purén \\\\\\\\ DEPTO.DE SALUD\"},{\"CodigoEmpresa\":\"114075\",\"NombreEmpresa\":\"Municipalidad de Rio Hurtado\"},{\"CodigoEmpresa\":\"120002\",\"NombreEmpresa\":\"Municipalidad de Río Ibáñez\"},{\"CodigoEmpresa\":\"100318\",\"NombreEmpresa\":\"Municipalidad de San Antonio\"},{\"CodigoEmpresa\":\"100107\",\"NombreEmpresa\":\"MUNICIPALIDAD DE SAN CARLOS\"},{\"CodigoEmpresa\":\"115457\",\"NombreEmpresa\":\"Municipalidad de San José de Maipo\"},{\"CodigoEmpresa\":\"100704\",\"NombreEmpresa\":\"MUNICIPALIDAD DE SAN PEDRO DE LA PAZ\"},{\"CodigoEmpresa\":\"7355\",\"NombreEmpresa\":\"Municipalidad de San Ramon\"},{\"CodigoEmpresa\":\"86568\",\"NombreEmpresa\":\"MUNICIPALIDAD DE SANTIAGO\"},{\"CodigoEmpresa\":\"86586\",\"NombreEmpresa\":\"MUNICIPALIDAD DE TALCAHUANO\"},{\"CodigoEmpresa\":\"7321\",\"NombreEmpresa\":\"Municipalidad de Temuco\"},{\"CodigoEmpresa\":\"183037\",\"NombreEmpresa\":\"Municipalidad de Tirúa\"},{\"CodigoEmpresa\":\"115163\",\"NombreEmpresa\":\"MUNICIPALIDAD DE TRAIGUEN\"},{\"CodigoEmpresa\":\"98462\",\"NombreEmpresa\":\"MUNICIPALIDAD DE VITACURA\"},{\"CodigoEmpresa\":\"7005\",\"NombreEmpresa\":\"Oficina de Estudios y Politicas Agrarias\"},{\"CodigoEmpresa\":\"7180\",\"NombreEmpresa\":\"Oficina Nacional de Emergencia\"},{\"CodigoEmpresa\":\"6935\",\"NombreEmpresa\":\"Parque Metropolitano de Santiago\"},{\"CodigoEmpresa\":\"7143\",\"NombreEmpresa\":\"Poder Judicial - Academia Judicial\"},{\"CodigoEmpresa\":\"111880\",\"NombreEmpresa\":\"POLICIA DE INVESTIGACIONES DE CHILE\"},{\"CodigoEmpresa\":\"6967\",\"NombreEmpresa\":\"Polla Chilena de Beneficencia S.A.\"},{\"CodigoEmpresa\":\"7238\",\"NombreEmpresa\":\"Presidencia de la República\"},{\"CodigoEmpresa\":\"7478\",\"NombreEmpresa\":\"S. S. Aysén - Dirección de Atención Primaria\"},{\"CodigoEmpresa\":\"7096\",\"NombreEmpresa\":\"SAG CONCEPCION\"},{\"CodigoEmpresa\":\"7184\",\"NombreEmpresa\":\"SENADIS\"},{\"CodigoEmpresa\":\"174692\",\"NombreEmpresa\":\"Senado de la República de Chile\"},{\"CodigoEmpresa\":\"6919\",\"NombreEmpresa\":\"SERVICIO AGRICOLA Y GANADERO\"},{\"CodigoEmpresa\":\"6950\",\"NombreEmpresa\":\"Servicio de Cooperación Técnica - SERCOTEC\"},{\"CodigoEmpresa\":\"7218\",\"NombreEmpresa\":\"Servicio de Evaluación Ambiental (SEA)\"},{\"CodigoEmpresa\":\"7113\",\"NombreEmpresa\":\"SERVICIO DE IMPUESTOS INTERNOS DIRECCION\"},{\"CodigoEmpresa\":\"6960\",\"NombreEmpresa\":\"Servicio de Registro Civil e Identificación\"},{\"CodigoEmpresa\":\"7205\",\"NombreEmpresa\":\"Servicio de Salud  Concepción\"},{\"CodigoEmpresa\":\"7431\",\"NombreEmpresa\":\"SERVICIO DE SALUD ACONCAGUA\"},{\"CodigoEmpresa\":\"7185\",\"NombreEmpresa\":\"Servicio de Salud Antofagasta\"},{\"CodigoEmpresa\":\"7451\",\"NombreEmpresa\":\"SERVICIO DE SALUD ANTOFAGASTA HOSPITAL L\"},{\"CodigoEmpresa\":\"7302\",\"NombreEmpresa\":\"Servicio de Salud Araucanía Norte\"},{\"CodigoEmpresa\":\"7306\",\"NombreEmpresa\":\"SERVICIO DE SALUD ARAUCANIA NORTE HOSPITAL DE ANGOL\"},{\"CodigoEmpresa\":\"7102\",\"NombreEmpresa\":\"Servicio de Salud Araucanía Sur\"},{\"CodigoEmpresa\":\"7060\",\"NombreEmpresa\":\"SERVICIO DE SALUD ARAUCANIA SUR HOSPITAL DE NUEVA IMPERIAL\"},{\"CodigoEmpresa\":\"6976\",\"NombreEmpresa\":\"SERVICIO DE SALUD ARAUCO\"},{\"CodigoEmpresa\":\"1667479\",\"NombreEmpresa\":\"SERVICIO DE SALUD ARICA HOSP DR JUAN NOE CREVANI\"},{\"CodigoEmpresa\":\"7409\",\"NombreEmpresa\":\"Servicio de Salud Atacama\"},{\"CodigoEmpresa\":\"7206\",\"NombreEmpresa\":\"SERVICIO DE SALUD AYSEN\"},{\"CodigoEmpresa\":\"7308\",\"NombreEmpresa\":\"Servicio de Salud Bío Bío\"},{\"CodigoEmpresa\":\"16223\",\"NombreEmpresa\":\"Servicio de Salud Chiloé\"},{\"CodigoEmpresa\":\"7052\",\"NombreEmpresa\":\"Servicio de Salud Coquimbo\"},{\"CodigoEmpresa\":\"7416\",\"NombreEmpresa\":\"SERVICIO DE SALUD COQUIMBO HOSPITAL DE COQUIMBO\"},{\"CodigoEmpresa\":\"7471\",\"NombreEmpresa\":\"SERVICIO DE SALUD COQUIMBO HOSPITAL DE LOS VILOS\"},{\"CodigoEmpresa\":\"7329\",\"NombreEmpresa\":\"SERVICIO DE SALUD COQUIMBO HOSPITAL VICUNA\"},{\"CodigoEmpresa\":\"6926\",\"NombreEmpresa\":\"SERVICIO DE SALUD DE ARICA\"},{\"CodigoEmpresa\":\"7374\",\"NombreEmpresa\":\"SERVICIO DE SALUD DEL LIBERTADOR B O\\'HIGGINS HOSPITAL REG RANCAGUA\"},{\"CodigoEmpresa\":\"7141\",\"NombreEmpresa\":\"Servicio de Salud del Maule\"},{\"CodigoEmpresa\":\"7257\",\"NombreEmpresa\":\"SERVICIO DE SALUD DEL MAULE HOSPITAL DE LICANTEN\"},{\"CodigoEmpresa\":\"7260\",\"NombreEmpresa\":\"SERVICIO DE SALUD DEL MAULE HOSPITAL DE TALCA\"},{\"CodigoEmpresa\":\"7453\",\"NombreEmpresa\":\"SERVICIO DE SALUD IQUIQUE\"},{\"CodigoEmpresa\":\"7382\",\"NombreEmpresa\":\"Servicio de Salud Magallanes\"},{\"CodigoEmpresa\":\"7088\",\"NombreEmpresa\":\"Servicio de Salud Metropolitano Central\"},{\"CodigoEmpresa\":\"7188\",\"NombreEmpresa\":\"Servicio de Salud Metropolitano del Ambiente\"},{\"CodigoEmpresa\":\"6963\",\"NombreEmpresa\":\"Servicio de Salud Metropolitano Norte\"},{\"CodigoEmpresa\":\"7029\",\"NombreEmpresa\":\"Servicio de Salud Metropolitano Occidente\"},{\"CodigoEmpresa\":\"7006\",\"NombreEmpresa\":\"SERVICIO DE SALUD METROPOLITANO SUR\"},{\"CodigoEmpresa\":\"7203\",\"NombreEmpresa\":\"Servicio de Salud Metropolitano Sur Oriente\"},{\"CodigoEmpresa\":\"6932\",\"NombreEmpresa\":\"SERVICIO DE SALUD NUBLE\"},{\"CodigoEmpresa\":\"7285\",\"NombreEmpresa\":\"Servicio de Salud Ñuble - Hospital de Coelemu\"},{\"CodigoEmpresa\":\"7316\",\"NombreEmpresa\":\"SERVICIO DE SALUD OCCIDENTE HOSPITAL SAN JUAN DE DIOS\"},{\"CodigoEmpresa\":\"7054\",\"NombreEmpresa\":\"Servicio de Salud Ohiggins\"},{\"CodigoEmpresa\":\"7296\",\"NombreEmpresa\":\"SERVICIO DE SALUD OSORNO\"},{\"CodigoEmpresa\":\"7305\",\"NombreEmpresa\":\"SERVICIO DE SALUD SUR HOSPITAL EXEQUIEL\"},{\"CodigoEmpresa\":\"7315\",\"NombreEmpresa\":\"SERVICIO DE SALUD TALCAHUANO HOSPITAL DE\"},{\"CodigoEmpresa\":\"7106\",\"NombreEmpresa\":\"SERVICIO DE SALUD VALDIVIA\"},{\"CodigoEmpresa\":\"7410\",\"NombreEmpresa\":\"SERVICIO DE SALUD VALDIVIA HOSPITAL BASE\"},{\"CodigoEmpresa\":\"7239\",\"NombreEmpresa\":\"Servicio de Salud Valparaíso San Antonio\"},{\"CodigoEmpresa\":\"7153\",\"NombreEmpresa\":\"Servicio de Salud Viña del Mar - Quillota\"},{\"CodigoEmpresa\":\"6965\",\"NombreEmpresa\":\"SERVICIO DE VIVIENDA Y URBANIZACION AREA METROPOLITANA\"},{\"CodigoEmpresa\":\"225773\",\"NombreEmpresa\":\"SERVICIO ELECTORAL\"},{\"CodigoEmpresa\":\"1723291\",\"NombreEmpresa\":\"SERVICIO LOCAL DE EDUCACION PÚBLICA DE ATACAMA\"},{\"CodigoEmpresa\":\"7179\",\"NombreEmpresa\":\"Servicio Médico Legal\"},{\"CodigoEmpresa\":\"7479\",\"NombreEmpresa\":\"SERVICIO NAC DE SALUD HOSPITAL TRAUMATOLOGICO\"},{\"CodigoEmpresa\":\"6952\",\"NombreEmpresa\":\"Servicio Nacional de Aduanas\"},{\"CodigoEmpresa\":\"6962\",\"NombreEmpresa\":\"Servicio Nacional de Capacitación y Empleo\"},{\"CodigoEmpresa\":\"7210\",\"NombreEmpresa\":\"Servicio Nacional de Geología y Minería\"},{\"CodigoEmpresa\":\"6948\",\"NombreEmpresa\":\"Servicio Nacional de la Mujer\"},{\"CodigoEmpresa\":\"7017\",\"NombreEmpresa\":\"Servicio Nacional de Menores\"},{\"CodigoEmpresa\":\"7008\",\"NombreEmpresa\":\"SERVICIO NACIONAL DE PESCA\"},{\"CodigoEmpresa\":\"7033\",\"NombreEmpresa\":\"Servicio Nacional de Pesca VI Región\"},{\"CodigoEmpresa\":\"1468521\",\"NombreEmpresa\":\"SERVICIO NACIONAL DE SALUD HOSPITAL CARLOS VAN BUREN\"},{\"CodigoEmpresa\":\"116754\",\"NombreEmpresa\":\"SERVICIO NACIONAL DE SALUD HOSPITAL DE C\"},{\"CodigoEmpresa\":\"7332\",\"NombreEmpresa\":\"SERVICIO NACIONAL DE SALUD HOSPITAL DE CORONEL\"},{\"CodigoEmpresa\":\"7190\",\"NombreEmpresa\":\"SERVICIO NACIONAL DE TURISMO\"},{\"CodigoEmpresa\":\"7032\",\"NombreEmpresa\":\"SERVICIO NACIONAL DEL ADULTO MAYOR\"},{\"CodigoEmpresa\":\"7230\",\"NombreEmpresa\":\"Servicio Nacional del Consumidor - SERNAC\"},{\"CodigoEmpresa\":\"7011\",\"NombreEmpresa\":\"SERVICIO NACIONAL DEL PATRIMONIO CULTURAL\"},{\"CodigoEmpresa\":\"278907\",\"NombreEmpresa\":\"Servicio Regional de la Vivienda y Urbanización Arica y Parinacota\"},{\"CodigoEmpresa\":\"7433\",\"NombreEmpresa\":\"SERVICIO SALUD ARAUCANIA NORTE HOSPITAL CURACAUTIN\"},{\"CodigoEmpresa\":\"7104\",\"NombreEmpresa\":\"SERVICIO SALUD DEL RELONCAVI\"},{\"CodigoEmpresa\":\"6923\",\"NombreEmpresa\":\"SERVIU I Región\"},{\"CodigoEmpresa\":\"6974\",\"NombreEmpresa\":\"SERVIU II Región\"},{\"CodigoEmpresa\":\"6972\",\"NombreEmpresa\":\"SERVIU IV Región\"},{\"CodigoEmpresa\":\"6980\",\"NombreEmpresa\":\"SERVIU IX Region\"},{\"CodigoEmpresa\":\"6975\",\"NombreEmpresa\":\"SERVIU REGION DE ATACAMA\"},{\"CodigoEmpresa\":\"6979\",\"NombreEmpresa\":\"SERVIU REGION DEL BIO BIO\"},{\"CodigoEmpresa\":\"6968\",\"NombreEmpresa\":\"SERVIU V Región\"},{\"CodigoEmpresa\":\"6977\",\"NombreEmpresa\":\"SERVIU VI Región\"},{\"CodigoEmpresa\":\"6978\",\"NombreEmpresa\":\"SERVIU VII Región\"},{\"CodigoEmpresa\":\"6981\",\"NombreEmpresa\":\"SERVIU X Región\"},{\"CodigoEmpresa\":\"6982\",\"NombreEmpresa\":\"SERVIU XI Región\"},{\"CodigoEmpresa\":\"6964\",\"NombreEmpresa\":\"SERVIU XII Región y Antartica Chilena\"},{\"CodigoEmpresa\":\"7333\",\"NombreEmpresa\":\"Subdirección del Ambiente Servicio de Salud Thno.\"},{\"CodigoEmpresa\":\"7065\",\"NombreEmpresa\":\"Subsecretaría de Aviación\"},{\"CodigoEmpresa\":\"7036\",\"NombreEmpresa\":\"Subsecretaría de Carabineros\"},{\"CodigoEmpresa\":\"1689493\",\"NombreEmpresa\":\"SUBSECRETARIA DE CIENCIA, TECNOLOGIA, CONOCIMIENTO E INNOVACION\"},{\"CodigoEmpresa\":\"7081\",\"NombreEmpresa\":\"Subsecretaría de Desarrollo Regional\"},{\"CodigoEmpresa\":\"7078\",\"NombreEmpresa\":\"SubSecretaria de Economía y Empresas de Menor Tamaño\"},{\"CodigoEmpresa\":\"1155673\",\"NombreEmpresa\":\"Subsecretaría de Energía\"},{\"CodigoEmpresa\":\"6943\",\"NombreEmpresa\":\"Subsecretaría de Hacienda\"},{\"CodigoEmpresa\":\"7217\",\"NombreEmpresa\":\"Subsecretaría de Investigaciones\"},{\"CodigoEmpresa\":\"7080\",\"NombreEmpresa\":\"Subsecretaría de Justicia\"},{\"CodigoEmpresa\":\"7359\",\"NombreEmpresa\":\"SUBSECRETARÍA DE LAS CULTURAS Y LAS ARTES\"},{\"CodigoEmpresa\":\"7221\",\"NombreEmpresa\":\"Subsecretaría de Marina\"},{\"CodigoEmpresa\":\"7018\",\"NombreEmpresa\":\"Subsecretaría de Minería\"},{\"CodigoEmpresa\":\"7211\",\"NombreEmpresa\":\"Subsecretaría de Pesca y Acuicultura\"},{\"CodigoEmpresa\":\"7191\",\"NombreEmpresa\":\"Subsecretaría de Previsión Social\"},{\"CodigoEmpresa\":\"7227\",\"NombreEmpresa\":\"Subsecretaría de R.R.E.E.\"},{\"CodigoEmpresa\":\"1674041\",\"NombreEmpresa\":\"Subsecretaría de Relaciones Económicas Internacionales\"},{\"CodigoEmpresa\":\"7079\",\"NombreEmpresa\":\"Subsecretaría de Salud Pública\"},{\"CodigoEmpresa\":\"6947\",\"NombreEmpresa\":\"Subsecretaría de Servicios Sociales\"},{\"CodigoEmpresa\":\"6934\",\"NombreEmpresa\":\"Subsecretaría de Telecomunicaciones\"},{\"CodigoEmpresa\":\"7007\",\"NombreEmpresa\":\"Subsecretaría de Transportes\"},{\"CodigoEmpresa\":\"1198788\",\"NombreEmpresa\":\"Subsecretaría del Medio Ambiente\"},{\"CodigoEmpresa\":\"7189\",\"NombreEmpresa\":\"SUBSECRETARIA DEL MINISTERIO DE AGRICULT\"},{\"CodigoEmpresa\":\"6958\",\"NombreEmpresa\":\"SUBSECRETARIA DEL MINISTERIO DE EDUCACION PUBLICA\"},{\"CodigoEmpresa\":\"6951\",\"NombreEmpresa\":\"SUBSECRETARIA DEL MINISTERIO DE LA VIVIENDA Y URBANISMO\"},{\"CodigoEmpresa\":\"6939\",\"NombreEmpresa\":\"Subsecretaria del Trabajo\"},{\"CodigoEmpresa\":\"128260\",\"NombreEmpresa\":\"SUPERINTENDENCIA DE CASINOS DE JUEGO\"},{\"CodigoEmpresa\":\"7232\",\"NombreEmpresa\":\"Superintendencia de Electricidad y Combustibles\"},{\"CodigoEmpresa\":\"7181\",\"NombreEmpresa\":\"Superintendencia de Insolvencia y Reemprendimiento\"},{\"CodigoEmpresa\":\"93096\",\"NombreEmpresa\":\"Superintendencia de Pensiones\"},{\"CodigoEmpresa\":\"6930\",\"NombreEmpresa\":\"Superintendencia de Salud\"},{\"CodigoEmpresa\":\"7114\",\"NombreEmpresa\":\"Superintendencia de Seguridad Social\"},{\"CodigoEmpresa\":\"7192\",\"NombreEmpresa\":\"Superintendencia de Servicios Sanitarios\"},{\"CodigoEmpresa\":\"6956\",\"NombreEmpresa\":\"Tesorería General de la República\"},{\"CodigoEmpresa\":\"1083414\",\"NombreEmpresa\":\"UNIDAD ADMINISTRADORA DE LOS TRIBUNALES TRIBUTARIOS Y ADUANEROS\"},{\"CodigoEmpresa\":\"85017\",\"NombreEmpresa\":\"Unidad de Analisis Financiero\"},{\"CodigoEmpresa\":\"7254\",\"NombreEmpresa\":\"UNIVERSIDAD ARTURO PRAT SEDE IQUIQUE\"},{\"CodigoEmpresa\":\"130585\",\"NombreEmpresa\":\"Universidad de Antofagasta\"},{\"CodigoEmpresa\":\"103916\",\"NombreEmpresa\":\"universidad de atacama\"},{\"CodigoEmpresa\":\"7251\",\"NombreEmpresa\":\"Universidad de Chile\"},{\"CodigoEmpresa\":\"277559\",\"NombreEmpresa\":\"Universidad de la Frontera\"},{\"CodigoEmpresa\":\"7319\",\"NombreEmpresa\":\"Universidad de La Serena\"},{\"CodigoEmpresa\":\"266724\",\"NombreEmpresa\":\"Universidad de Los Lagos\"},{\"CodigoEmpresa\":\"257227\",\"NombreEmpresa\":\"Universidad de Magallanes\"},{\"CodigoEmpresa\":\"130972\",\"NombreEmpresa\":\"UNIVERSIDAD DE PLAYA ANCHA DE CIENCIAS DE LA EDUC.\"},{\"CodigoEmpresa\":\"212299\",\"NombreEmpresa\":\"Universidad de Santiago de Chile\"},{\"CodigoEmpresa\":\"7147\",\"NombreEmpresa\":\"Universidad de Talca\"},{\"CodigoEmpresa\":\"204439\",\"NombreEmpresa\":\"Universidad de Tarapacá\"},{\"CodigoEmpresa\":\"96996\",\"NombreEmpresa\":\"Universidad de Valparaíso\"},{\"CodigoEmpresa\":\"99805\",\"NombreEmpresa\":\"Universidad del Bío-Bío\"},{\"CodigoEmpresa\":\"164268\",\"NombreEmpresa\":\"UNIVERSIDAD METROPOLITANA DE CIENCIAS DE LA EDUCAC\"},{\"CodigoEmpresa\":\"126109\",\"NombreEmpresa\":\"UNIVERSIDAD TECNOLOGICA METROPOLITANA\"},{\"CodigoEmpresa\":\"7438\",\"NombreEmpresa\":\"Zona Franca de Iquique\"}]}'"
            ]
          },
          "metadata": {
            "tags": []
          },
          "execution_count": 6
        }
      ]
    },
    {
      "cell_type": "code",
      "metadata": {
        "id": "nK-Vps3R0mj8"
      },
      "source": [
        "respuestajson2 = json.loads(respuesta.text)"
      ],
      "execution_count": 7,
      "outputs": []
    },
    {
      "cell_type": "code",
      "metadata": {
        "id": "VdN6j1ys0m1d",
        "outputId": "1d375d4e-cb9c-4865-c451-ce78d43c2263",
        "colab": {
          "base_uri": "https://localhost:8080/",
          "height": 53
        }
      },
      "source": [
        "print(respuestajson2)"
      ],
      "execution_count": 8,
      "outputs": [
        {
          "output_type": "stream",
          "text": [
            "{'Cantidad': 863, 'FechaCreacion': '2020-10-21T07:58:20.987', 'listaEmpresas': [{'CodigoEmpresa': '1034640', 'NombreEmpresa': ' CORPORACION MUNICIPAL DE PEÑALOLEN PARA EL DESARROLLO SOCIAL '}, {'CodigoEmpresa': '7311', 'NombreEmpresa': ' Hospital de enfermedades InfecciDr. Lucio Córdova'}, {'CodigoEmpresa': '7086', 'NombreEmpresa': 'AGENCIA CHILENA DE COOPERACION INTERNACIONAL PARA EL DESARROLLO'}, {'CodigoEmpresa': '1224636', 'NombreEmpresa': 'Agencia Chilena de Eficiencia Energética'}, {'CodigoEmpresa': '7193', 'NombreEmpresa': 'Agencia de Promoción de la Inversión Extranjera'}, {'CodigoEmpresa': '7212', 'NombreEmpresa': 'Agencia Nacional de Inteligencia'}, {'CodigoEmpresa': '111875', 'NombreEmpresa': 'ARMADA DE CHILE'}, {'CodigoEmpresa': '6959', 'NombreEmpresa': 'Banco del Estado de Chile'}, {'CodigoEmpresa': '7265', 'NombreEmpresa': 'Biblioteca del Congreso Nacional'}, {'CodigoEmpresa': '7038', 'NombreEmpresa': 'Bienestar del Registro Civil'}, {'CodigoEmpresa': '7313', 'NombreEmpresa': 'C.D.T. Doctora Eloisa Díaz'}, {'CodigoEmpresa': '156657', 'NombreEmpresa': 'Cámara de Diputados de Chile'}, {'CodigoEmpresa': '7175', 'NombreEmpresa': 'CAPREDENA'}, {'CodigoEmpresa': '7198', 'NombreEmpresa': 'Casa de Moneda de Chile'}, {'CodigoEmpresa': '6957', 'NombreEmpresa': 'Central de Abastecimiento S.N.S.S. -  CENABAST'}, {'CodigoEmpresa': '1339711', 'NombreEmpresa': 'CENTRO ASISTENCIAL NORTE DE ANTOFAGASTA'}, {'CodigoEmpresa': '1741046', 'NombreEmpresa': 'CENTRO DE FORMACION TECNICA DE LA REGION DE ATACAMA'}, {'CodigoEmpresa': '1700248', 'NombreEmpresa': 'CENTRO DE FORMACIÓN TÉCNICA ESTATAL DE MAGALLANES Y ANTARTICA CHILENA'}, {'CodigoEmpresa': '1741019', 'NombreEmpresa': 'Centro de Formación Técnica Estatal Región de Arica y Parinacota'}, {'CodigoEmpresa': '7380', 'NombreEmpresa': 'Centro de Información de Recursos Naturales'}, {'CodigoEmpresa': '7317', 'NombreEmpresa': 'Centro de Referencia de Salud de Maipú'}, {'CodigoEmpresa': '7473', 'NombreEmpresa': 'Centro de Salud Dr. Víctor M. Fernández'}, {'CodigoEmpresa': '7461', 'NombreEmpresa': 'Centro Diagnóstico Terapéutico Los Angeles'}, {'CodigoEmpresa': '7373', 'NombreEmpresa': 'Centro Referencia Salud Doctor Salvador Allende G.'}, {'CodigoEmpresa': '118627', 'NombreEmpresa': 'Cesfam Dr. Alejandro Gutierrez'}, {'CodigoEmpresa': '111870', 'NombreEmpresa': 'COMANDO DE APOYO A LA FUERZA'}, {'CodigoEmpresa': '192032', 'NombreEmpresa': 'Comisión Administradora del Sistema de Créditos para Estudios Superiores'}, {'CodigoEmpresa': '7219', 'NombreEmpresa': 'Comisión Chilena de Energía Nuclear'}, {'CodigoEmpresa': '7075', 'NombreEmpresa': 'Comisión Chilena del Cobre - COCHILCO'}, {'CodigoEmpresa': '262897', 'NombreEmpresa': 'Comisión Nacional de Acreditación - CNA'}, {'CodigoEmpresa': '6938', 'NombreEmpresa': 'Comisión Nacional de Energía'}, {'CodigoEmpresa': '7213', 'NombreEmpresa': 'Comisión Nacional de Investigación Científica y Tecnológicas - CONICYT'}, {'CodigoEmpresa': '7186', 'NombreEmpresa': 'Comisión Nacional de Riego'}, {'CodigoEmpresa': '7016', 'NombreEmpresa': 'COMISION PARA EL MERCADO FINANCIERO'}, {'CodigoEmpresa': '7043', 'NombreEmpresa': 'Comité de Seguros del Agro'}, {'CodigoEmpresa': '7057', 'NombreEmpresa': 'Comité SEP'}, {'CodigoEmpresa': '7320', 'NombreEmpresa': 'Complejo Asistencial Dr. Sotero del Rio'}, {'CodigoEmpresa': '7375', 'NombreEmpresa': 'Complejo Asistencial Dr. Victor Ríos Ruíz'}, {'CodigoEmpresa': '7103', 'NombreEmpresa': 'Complejo Penitenciario de Valparaiso'}, {'CodigoEmpresa': '1090137', 'NombreEmpresa': 'CONGREGACIÓN HIJAS DE SANTA MARIA DE LA PROVIDENCIA'}, {'CodigoEmpresa': '6933', 'NombreEmpresa': 'Consejo de Defensa del Estado'}, {'CodigoEmpresa': '7224', 'NombreEmpresa': 'Consejo de Rectores de las Universidades Chilenas'}, {'CodigoEmpresa': '1692048', 'NombreEmpresa': 'CONSEJO FISCAL AUTONOMO'}, {'CodigoEmpresa': '7082', 'NombreEmpresa': 'Consejo Nacional de Educación'}, {'CodigoEmpresa': '1060064', 'NombreEmpresa': 'Consejo para la Transparencia'}, {'CodigoEmpresa': '118630', 'NombreEmpresa': 'Consultorio General Urbano Victor Domingo Silva'}, {'CodigoEmpresa': '7144', 'NombreEmpresa': 'Consultorio Gral. Urbano Violeta Parra'}, {'CodigoEmpresa': '7133', 'NombreEmpresa': 'Consultorio Miraflores'}, {'CodigoEmpresa': '7231', 'NombreEmpresa': 'Contraloría General de la República'}, {'CodigoEmpresa': '7354', 'NombreEmpresa': 'Corp. de Asistencia Judicial Región del Bío-Bío'}, {'CodigoEmpresa': '7058', 'NombreEmpresa': 'Corp. Municipal de Desarrollo Social Cerro Navia'}, {'CodigoEmpresa': '7342', 'NombreEmpresa': 'Corporacion Administrativa del Poder Judicial'}, {'CodigoEmpresa': '7235', 'NombreEmpresa': 'Corporación de Asistencia Judicial de la V Región'}, {'CodigoEmpresa': '272303', 'NombreEmpresa': 'Corporación de Asistencia Judicial de las Regiones de Tarapacá y Antofagasta'}, {'CodigoEmpresa': '7152', 'NombreEmpresa': 'Corporación de Asistencia Judicial RM'}, {'CodigoEmpresa': '1085182', 'NombreEmpresa': 'Corporación de Ecuación, Salud y Menores de Puerto Natales'}, {'CodigoEmpresa': '6942', 'NombreEmpresa': 'CORPORACION DE FOMENTO DE LA PRODUCCION'}, {'CodigoEmpresa': '1088974', 'NombreEmpresa': 'Corporación Municipal de Castro'}, {'CodigoEmpresa': '1035946', 'NombreEmpresa': 'Corporacion Municipal de Educacion'}, {'CodigoEmpresa': '1033466', 'NombreEmpresa': 'CORPORACIÓN MUNICIPAL DE EDUCACIÓN Y SALUD'}, {'CodigoEmpresa': '7105', 'NombreEmpresa': 'Corporación Municipal de la Florida'}, {'CodigoEmpresa': '7483', 'NombreEmpresa': 'Corporación Municipal de Panguipulli'}, {'CodigoEmpresa': '7183', 'NombreEmpresa': 'Corporación Nacional de Desarrollo Indígena - CONADI'}, {'CodigoEmpresa': '6924', 'NombreEmpresa': 'Corporación Nacional Forestal - CONAF'}, {'CodigoEmpresa': '7136', 'NombreEmpresa': 'CRS de Peñalolen Cordillera Oriente'}, {'CodigoEmpresa': '7129', 'NombreEmpresa': 'Defensa Civil de Chile'}, {'CodigoEmpresa': '7034', 'NombreEmpresa': 'DEFENSORIA PENAL PUBLICA'}, {'CodigoEmpresa': '7299', 'NombreEmpresa': 'Departamento de Salud Parral'}, {'CodigoEmpresa': '7228', 'NombreEmpresa': 'Dirección Administrativa - Min. Defensa'}, {'CodigoEmpresa': '7466', 'NombreEmpresa': 'Dirección Atención Primaria, Serv.Salud M.Central'}, {'CodigoEmpresa': '7243', 'NombreEmpresa': 'Dirección de Aeropuertos - MOPTT'}, {'CodigoEmpresa': '7245', 'NombreEmpresa': 'Dirección de Arquitectura - MOP'}, {'CodigoEmpresa': '6945', 'NombreEmpresa': 'Dirección de Compras y Contratación Pública'}, {'CodigoEmpresa': '7068', 'NombreEmpresa': 'Dirección de Contabilidad y Finanzas MOP'}, {'CodigoEmpresa': '7244', 'NombreEmpresa': 'Dirección de Fiscalía - MOPTT'}, {'CodigoEmpresa': '113812', 'NombreEmpresa': 'DIRECCION DE LOGISTICA DE CARABINEROS'}, {'CodigoEmpresa': '7242', 'NombreEmpresa': 'Dirección de Obras Hidráulicas - MOPTT'}, {'CodigoEmpresa': '7246', 'NombreEmpresa': 'Dirección de Obras Portuarias - MOPTT'}, {'CodigoEmpresa': '7067', 'NombreEmpresa': 'Dirección de Planeamiento - MOPTT'}, {'CodigoEmpresa': '7012', 'NombreEmpresa': 'Dirección de Presupuestos'}, {'CodigoEmpresa': '6927', 'NombreEmpresa': 'Dirección de Previsión de Carabineros de Chile'}, {'CodigoEmpresa': '7010', 'NombreEmpresa': 'Dirección de Relaciones Económicas'}, {'CodigoEmpresa': '118628', 'NombreEmpresa': 'Dirección de Salud Rural'}, {'CodigoEmpresa': '7000', 'NombreEmpresa': 'Dirección del Trabajo'}, {'CodigoEmpresa': '7202', 'NombreEmpresa': 'Dirección General de Aeronáutica Civil'}, {'CodigoEmpresa': '7209', 'NombreEmpresa': 'Dirección General de Crédito Prendario - DICREP'}, {'CodigoEmpresa': '6925', 'NombreEmpresa': 'DIRECCION GENERAL DE GENDARMERIA DE CHIL'}, {'CodigoEmpresa': '7127', 'NombreEmpresa': 'Dirección General de Movilización Nacional - DGMN'}, {'CodigoEmpresa': '7250', 'NombreEmpresa': 'Dirección General de Obras Publicas - MOP'}, {'CodigoEmpresa': '1674056', 'NombreEmpresa': 'Dirección General de Promoción de Exportaciones'}, {'CodigoEmpresa': '7187', 'NombreEmpresa': 'Dirección Nacional de Fronteras y Límites del Estado'}, {'CodigoEmpresa': '7371', 'NombreEmpresa': 'Dirección Nacional del Servicio Civil'}, {'CodigoEmpresa': '7295', 'NombreEmpresa': 'DIRECCION SERVICIO DE SALUD TALCAHUANO'}, {'CodigoEmpresa': '7272', 'NombreEmpresa': 'DIRECCION SERVICIO SALUD METROPOLITANO O'}, {'CodigoEmpresa': '7208', 'NombreEmpresa': 'Empresa de Abastecimiento de Zonas Aisladas- EMAZA'}, {'CodigoEmpresa': '7467', 'NombreEmpresa': 'Empresa de Servicios Sanitarios de Atacama'}, {'CodigoEmpresa': '7128', 'NombreEmpresa': 'Empresa de Servicios Sanitarios de la Araucania'}, {'CodigoEmpresa': '7358', 'NombreEmpresa': 'Empresa de Servicios Sanitarios de Magallanes S.A.'}, {'CodigoEmpresa': '7138', 'NombreEmpresa': 'Empresa de Servicios Sanitarios de Tarapacá S.A.'}, {'CodigoEmpresa': '6961', 'NombreEmpresa': 'Empresa Nacional de Minería'}, {'CodigoEmpresa': '7149', 'NombreEmpresa': 'Empresa Nacional del Petróleo'}, {'CodigoEmpresa': '1069779', 'NombreEmpresa': 'EMPRESA PORTUARIA ANTOFAGASTA'}, {'CodigoEmpresa': '1085179', 'NombreEmpresa': 'Empresa Portuaria Arica'}, {'CodigoEmpresa': '7493', 'NombreEmpresa': 'Empresa Portuaria Iquique'}, {'CodigoEmpresa': '7463', 'NombreEmpresa': 'Empresa Portuaria Puerto Montt'}, {'CodigoEmpresa': '1076044', 'NombreEmpresa': 'EMPRESA PORTUARIA SAN ANTONIO'}, {'CodigoEmpresa': '1061586', 'NombreEmpresa': 'EMPRESA PORTUARIA VALPARAISO'}, {'CodigoEmpresa': '7266', 'NombreEmpresa': 'Estado Mayor Conjunto'}, {'CodigoEmpresa': '7076', 'NombreEmpresa': 'FISCALIA NACIONAL ECONOMICA'}, {'CodigoEmpresa': '7182', 'NombreEmpresa': 'FONDO DE SOLIDARIDAD E INVERSION SOCIAL'}, {'CodigoEmpresa': '220665', 'NombreEmpresa': 'FONDO HOSPITAL DE LA DIRECCION DE PREVISION DE CARABINEROS DE CHILE'}, {'CodigoEmpresa': '6954', 'NombreEmpresa': 'Fondo Nacional de Salud - FONASA'}, {'CodigoEmpresa': '6946', 'NombreEmpresa': 'Fuerza Aérea de Chile'}, {'CodigoEmpresa': '1090451', 'NombreEmpresa': 'FUND NACIONAL DE ORQUESTAS JUVENILES E INFANTILES DE CHILE'}, {'CodigoEmpresa': '1736867', 'NombreEmpresa': 'Fundación para la Innovación Agraria'}, {'CodigoEmpresa': '7286', 'NombreEmpresa': 'Gobernación  Provincial de Choapa'}, {'CodigoEmpresa': '7379', 'NombreEmpresa': 'Gobernación de Cachapoal'}, {'CodigoEmpresa': '7134', 'NombreEmpresa': 'Gobernación Provincia Capitan Prat'}, {'CodigoEmpresa': '7284', 'NombreEmpresa': 'Gobernación Provincia Cordillera'}, {'CodigoEmpresa': '7271', 'NombreEmpresa': 'GOBERNACION PROVINCIA DE CHACABUCO'}, {'CodigoEmpresa': '7347', 'NombreEmpresa': 'Gobernación Provincia de Elqui'}, {'CodigoEmpresa': '7148', 'NombreEmpresa': 'Gobernación Provincial Antártica'}, {'CodigoEmpresa': '7151', 'NombreEmpresa': 'Gobernación Provincial Antofagasta'}, {'CodigoEmpresa': '7387', 'NombreEmpresa': 'Gobernación Provincial Cardenal Caro'}, {'CodigoEmpresa': '7281', 'NombreEmpresa': 'Gobernación Provincial Cauquenes'}, {'CodigoEmpresa': '7499', 'NombreEmpresa': 'Gobernación Provincial Chiloe'}, {'CodigoEmpresa': '7450', 'NombreEmpresa': 'Gobernación Provincial de Arauco'}, {'CodigoEmpresa': '7357', 'NombreEmpresa': 'Gobernación Provincial de Arica'}, {'CodigoEmpresa': '7059', 'NombreEmpresa': 'Gobernación Provincial de Aysén'}, {'CodigoEmpresa': '7061', 'NombreEmpresa': 'GOBERNACION PROVINCIAL DE CAUTIN'}, {'CodigoEmpresa': '7155', 'NombreEmpresa': 'Gobernación Provincial de Chañaral'}, {'CodigoEmpresa': '7376', 'NombreEmpresa': 'Gobernación Provincial de Colchagua'}, {'CodigoEmpresa': '7300', 'NombreEmpresa': 'Gobernación Provincial de Concepción'}, {'CodigoEmpresa': '7145', 'NombreEmpresa': 'Gobernación Provincial de Copiapó'}, {'CodigoEmpresa': '7292', 'NombreEmpresa': 'Gobernación Provincial de Coyhaique'}, {'CodigoEmpresa': '7263', 'NombreEmpresa': 'Gobernación Provincial de Curicó'}, {'CodigoEmpresa': '7237', 'NombreEmpresa': 'GOBERNACION PROVINCIAL DE EL LOA'}, {'CodigoEmpresa': '7309', 'NombreEmpresa': 'GOBERNACION PROVINCIAL DE GRAL CARRERA'}, {'CodigoEmpresa': '7150', 'NombreEmpresa': 'Gobernación Provincial de Huasco'}, {'CodigoEmpresa': '7349', 'NombreEmpresa': 'Gobernación Provincial de Iquique'}, {'CodigoEmpresa': '135959', 'NombreEmpresa': 'Gobernación Provincial de Isla de Pascua'}, {'CodigoEmpresa': '7037', 'NombreEmpresa': 'Gobernación Provincial de Limarí'}, {'CodigoEmpresa': '7282', 'NombreEmpresa': 'Gobernación Provincial de Linares'}, {'CodigoEmpresa': '7267', 'NombreEmpresa': 'Gobernación Provincial de Llanquihue'}, {'CodigoEmpresa': '7009', 'NombreEmpresa': 'Gobernación Provincial de Los Andes'}, {'CodigoEmpresa': '7484', 'NombreEmpresa': 'Gobernación Provincial de Magallanes'}, {'CodigoEmpresa': '7253', 'NombreEmpresa': 'Gobernación Provincial de Maipo'}, {'CodigoEmpresa': '7275', 'NombreEmpresa': 'Gobernación Provincial de Malleco'}, {'CodigoEmpresa': '7142', 'NombreEmpresa': 'Gobernación Provincial de Ñuble'}, {'CodigoEmpresa': '7283', 'NombreEmpresa': 'GOBERNACION PROVINCIAL DE OSORNO'}, {'CodigoEmpresa': '7252', 'NombreEmpresa': 'Gobernación Provincial de Palena'}, {'CodigoEmpresa': '7350', 'NombreEmpresa': 'GOBERNACION PROVINCIAL DE PARINACOTA'}, {'CodigoEmpresa': '7420', 'NombreEmpresa': 'Gobernación Provincial de Petorca'}, {'CodigoEmpresa': '7346', 'NombreEmpresa': 'GOBERNACION PROVINCIAL DE QUILLOTA'}, {'CodigoEmpresa': '269793', 'NombreEmpresa': 'Gobernación Provincial de Ranco'}, {'CodigoEmpresa': '111119', 'NombreEmpresa': 'Gobernación Provincial de San Antonio'}, {'CodigoEmpresa': '7055', 'NombreEmpresa': 'Gobernación Provincial de Talagante'}, {'CodigoEmpresa': '7269', 'NombreEmpresa': 'Gobernación Provincial de Talca'}, {'CodigoEmpresa': '7063', 'NombreEmpresa': 'Gobernación Provincial de Tocopilla'}, {'CodigoEmpresa': '7264', 'NombreEmpresa': 'Gobernación Provincial de Última Esperanza'}, {'CodigoEmpresa': '7322', 'NombreEmpresa': 'Gobernación Provincial de Valdivia'}, {'CodigoEmpresa': '7352', 'NombreEmpresa': 'Gobernación Provincial de Valparaíso'}, {'CodigoEmpresa': '7140', 'NombreEmpresa': 'Gobernación Provincial del Bío-Bío'}, {'CodigoEmpresa': '275314', 'NombreEmpresa': 'Gobernación Provincial del Tamarugal'}, {'CodigoEmpresa': '7056', 'NombreEmpresa': 'Gobernación Provincial Melipilla'}, {'CodigoEmpresa': '7495', 'NombreEmpresa': 'Gobernación Provincial San Felipe'}, {'CodigoEmpresa': '7381', 'NombreEmpresa': 'Gobernación Provincial Tierra del Fuego'}, {'CodigoEmpresa': '1163597', 'NombreEmpresa': 'Gobierno Provincial de Marga Marga'}, {'CodigoEmpresa': '7199', 'NombreEmpresa': 'Gobierno Regional de Antofagasta'}, {'CodigoEmpresa': '267965', 'NombreEmpresa': 'Gobierno Regional de Arica y Parinacota'}, {'CodigoEmpresa': '7077', 'NombreEmpresa': 'GOBIERNO REGIONAL DE ATACAMA'}, {'CodigoEmpresa': '7085', 'NombreEmpresa': 'Gobierno Regional de Aysén'}, {'CodigoEmpresa': '6940', 'NombreEmpresa': 'Gobierno Regional de Coquimbo'}, {'CodigoEmpresa': '7013', 'NombreEmpresa': 'Gobierno Regional de La Araucanía'}, {'CodigoEmpresa': '7015', 'NombreEmpresa': 'Gobierno Regional de la Región del Bío-Bío'}, {'CodigoEmpresa': '7207', 'NombreEmpresa': 'Gobierno Regional de Los Lagos'}, {'CodigoEmpresa': '267799', 'NombreEmpresa': 'GOBIERNO REGIONAL DE LOS RIOS'}, {'CodigoEmpresa': '7087', 'NombreEmpresa': 'GOBIERNO REGIONAL DE MAGALLANES Y ANTARTICA CHILEN'}, {'CodigoEmpresa': '7084', 'NombreEmpresa': 'Gobierno Regional de Tarapacá'}, {'CodigoEmpresa': '7172', 'NombreEmpresa': 'Gobierno Regional de Valparaíso'}, {'CodigoEmpresa': '7222', 'NombreEmpresa': 'Gobierno Regional Metropolitano'}, {'CodigoEmpresa': '7200', 'NombreEmpresa': 'GOBIERNO REGIONAL VI REGION DEL LI BERTADOR B O\"HIGGINS'}, {'CodigoEmpresa': '7223', 'NombreEmpresa': 'GOBIERNO REGIONAL VII REGION'}, {'CodigoEmpresa': '103933', 'NombreEmpresa': 'Hermanas Misioneras Franciscanas de Purulón'}, {'CodigoEmpresa': '7403', 'NombreEmpresa': 'Hospital  Lonquimay'}, {'CodigoEmpresa': '7472', 'NombreEmpresa': 'Hospital Andacollo'}, {'CodigoEmpresa': '7398', 'NombreEmpresa': 'Hospital Arauco'}, {'CodigoEmpresa': '7293', 'NombreEmpresa': 'HOSPITAL BARROS LUCO TRUDEAU'}, {'CodigoEmpresa': '7393', 'NombreEmpresa': 'Hospital Base Osorno'}, {'CodigoEmpresa': '7131', 'NombreEmpresa': 'Hospital Carahue'}, {'CodigoEmpresa': '7494', 'NombreEmpresa': 'Hospital Carlos Cisternas de Calama'}, {'CodigoEmpresa': '7256', 'NombreEmpresa': 'Hospital Cauquenes'}, {'CodigoEmpresa': '7297', 'NombreEmpresa': 'HOSPITAL CLINICO DE MAGALLANES DR. LAUTARO NAVARRO AVARIA'}, {'CodigoEmpresa': '1379869', 'NombreEmpresa': 'Hospital Clínico Metropolitano El Carmen Doctor Luis Valentín Ferrada'}, {'CodigoEmpresa': '1375151', 'NombreEmpresa': 'HOSPITAL CLINICO METROPOLITANO LA FLORIDA DRA ELOISA DIAZ INSUNZA'}, {'CodigoEmpresa': '7326', 'NombreEmpresa': 'Hospital Clínico San Borja Arriarán'}, {'CodigoEmpresa': '7480', 'NombreEmpresa': 'Hospital Cochrane'}, {'CodigoEmpresa': '7421', 'NombreEmpresa': 'Hospital Coinco'}, {'CodigoEmpresa': '7462', 'NombreEmpresa': 'Hospital Collipulli'}, {'CodigoEmpresa': '7330', 'NombreEmpresa': 'Hospital Combarbalá'}, {'CodigoEmpresa': '7137', 'NombreEmpresa': 'HOSPITAL COMUNITARIO DE SALUD FAMILIAR DE BULNES'}, {'CodigoEmpresa': '7400', 'NombreEmpresa': 'Hospital Contulmo'}, {'CodigoEmpresa': '7340', 'NombreEmpresa': 'Hospital Coyhaique'}, {'CodigoEmpresa': '7399', 'NombreEmpresa': 'Hospital Curanilahue'}, {'CodigoEmpresa': '7452', 'NombreEmpresa': 'Hospital Curicó'}, {'CodigoEmpresa': '1286160', 'NombreEmpresa': 'HOSPITAL DE CASTRO DR. AUGUSTO RIFFART'}, {'CodigoEmpresa': '7279', 'NombreEmpresa': 'Hospital de Chanco'}, {'CodigoEmpresa': '7413', 'NombreEmpresa': 'Hospital de Chañaral'}, {'CodigoEmpresa': '7441', 'NombreEmpresa': 'Hospital de Chimbarongo'}, {'CodigoEmpresa': '7277', 'NombreEmpresa': 'Hospital de Constitución'}, {'CodigoEmpresa': '7411', 'NombreEmpresa': 'Hospital de Copiapó'}, {'CodigoEmpresa': '7426', 'NombreEmpresa': 'Hospital de Corral'}, {'CodigoEmpresa': '7291', 'NombreEmpresa': 'Hospital de Cunco'}, {'CodigoEmpresa': '7455', 'NombreEmpresa': 'Hospital de Curacaví'}, {'CodigoEmpresa': '7278', 'NombreEmpresa': 'Hospital de Curepto'}, {'CodigoEmpresa': '7414', 'NombreEmpresa': 'Hospital de Huasco'}, {'CodigoEmpresa': '7468', 'NombreEmpresa': 'Hospital de Illapel'}, {'CodigoEmpresa': '7429', 'NombreEmpresa': 'Hospital De la Unión'}, {'CodigoEmpresa': '7424', 'NombreEmpresa': 'Hospital de Lanco'}, {'CodigoEmpresa': '7439', 'NombreEmpresa': 'Hospital de Litueche'}, {'CodigoEmpresa': '7447', 'NombreEmpresa': 'Hospital de Lolol'}, {'CodigoEmpresa': '7156', 'NombreEmpresa': 'Hospital de Loncoche'}, {'CodigoEmpresa': '7425', 'NombreEmpresa': 'Hospital de los Lagos'}, {'CodigoEmpresa': '7442', 'NombreEmpresa': 'Hospital de Marchigue'}, {'CodigoEmpresa': '7370', 'NombreEmpresa': 'Hospital de Mejillones'}, {'CodigoEmpresa': '7458', 'NombreEmpresa': 'Hospital de Melipilla'}, {'CodigoEmpresa': '1238659', 'NombreEmpresa': 'Hospital de Misión San Juan de la Costa'}, {'CodigoEmpresa': '7280', 'NombreEmpresa': 'Hospital de MOLINA'}, {'CodigoEmpresa': '7434', 'NombreEmpresa': 'Hospital de Mulchén'}, {'CodigoEmpresa': '7445', 'NombreEmpresa': 'Hospital de Nancagua'}, {'CodigoEmpresa': '7045', 'NombreEmpresa': 'Hospital de Niños Roberto del Rio'}, {'CodigoEmpresa': '7422', 'NombreEmpresa': 'Hospital de Paillaco'}, {'CodigoEmpresa': '7459', 'NombreEmpresa': 'Hospital de Peñaflor'}, {'CodigoEmpresa': '7444', 'NombreEmpresa': 'Hospital de Peumo'}, {'CodigoEmpresa': '7287', 'NombreEmpresa': 'HOSPITAL DE PUERTO OCTAY'}, {'CodigoEmpresa': '7465', 'NombreEmpresa': 'Hospital de Purén'}, {'CodigoEmpresa': '7327', 'NombreEmpresa': 'Hospital de Purranque'}, {'CodigoEmpresa': '7303', 'NombreEmpresa': 'Hospital de Quirihue'}, {'CodigoEmpresa': '7440', 'NombreEmpresa': 'Hospital de Rengo'}, {'CodigoEmpresa': '7323', 'NombreEmpresa': 'Hospital de Salamanca'}, {'CodigoEmpresa': '7448', 'NombreEmpresa': 'Hospital de San Fernando'}, {'CodigoEmpresa': '7443', 'NombreEmpresa': 'Hospital de San Vicente de Tagua Tagua'}, {'CodigoEmpresa': '7314', 'NombreEmpresa': 'Hospital de Santa Cruz'}, {'CodigoEmpresa': '7457', 'NombreEmpresa': 'Hospital de Talagante'}, {'CodigoEmpresa': '7391', 'NombreEmpresa': 'Hospital de Taltal'}, {'CodigoEmpresa': '7460', 'NombreEmpresa': 'HOSPITAL DE URGENCIA ASISTENCIA PUBLICA DR ALEJANDRO DEL RIO'}, {'CodigoEmpresa': '1238663', 'NombreEmpresa': 'Hospital del Perpetuo Socorro de Quilacahuin'}, {'CodigoEmpresa': '7428', 'NombreEmpresa': 'Hospital del Salvador'}, {'CodigoEmpresa': '7415', 'NombreEmpresa': 'Hospital Diego de Almagro'}, {'CodigoEmpresa': '7046', 'NombreEmpresa': 'Hospital Doctor Hernán Henríquez Aravena'}, {'CodigoEmpresa': '6918', 'NombreEmpresa': 'Hospital Doctor Luis Calvo Mackenna'}, {'CodigoEmpresa': '7491', 'NombreEmpresa': 'Hospital Dr Victor Hugo  Möll de Cabildo'}, {'CodigoEmpresa': '7289', 'NombreEmpresa': 'Hospital Dr. Abraham Godoy Peña'}, {'CodigoEmpresa': '7310', 'NombreEmpresa': 'Hospital Dr. Augusto Essmann Burgos'}, {'CodigoEmpresa': '7383', 'NombreEmpresa': 'Hospital Dr. Felix Bulnes Cerda'}, {'CodigoEmpresa': '7324', 'NombreEmpresa': 'Hospital Dr. GGB'}, {'CodigoEmpresa': '6936', 'NombreEmpresa': 'Hospital Dr. Gustavo Fricke'}, {'CodigoEmpresa': '7386', 'NombreEmpresa': 'Hospital Dr. Marcos Chamorro Iglesias'}, {'CodigoEmpresa': '7344', 'NombreEmpresa': 'Hospital Dr. Mario Sánchez Vergara de La Calera'}, {'CodigoEmpresa': '7139', 'NombreEmpresa': 'Hospital El Carmen'}, {'CodigoEmpresa': '7390', 'NombreEmpresa': 'Hospital El Pino'}, {'CodigoEmpresa': '7475', 'NombreEmpresa': 'Hospital Florida'}, {'CodigoEmpresa': '7290', 'NombreEmpresa': 'Hospital Galvarino'}, {'CodigoEmpresa': '7490', 'NombreEmpresa': 'Hospital Geriátrico Paz de la Tarde'}, {'CodigoEmpresa': '7047', 'NombreEmpresa': 'Hospital Gorbea'}, {'CodigoEmpresa': '7042', 'NombreEmpresa': 'Hospital Herminda Martin'}, {'CodigoEmpresa': '7255', 'NombreEmpresa': 'Hospital Hualañé'}, {'CodigoEmpresa': '7389', 'NombreEmpresa': 'Hospital Huepil'}, {'CodigoEmpresa': '7401', 'NombreEmpresa': 'Hospital Intercultural Kallvu Llanka'}, {'CodigoEmpresa': '7487', 'NombreEmpresa': 'Hospital La Ligua'}, {'CodigoEmpresa': '7312', 'NombreEmpresa': 'Hospital La Serena'}, {'CodigoEmpresa': '7464', 'NombreEmpresa': 'Hospital Laja'}, {'CodigoEmpresa': '7419', 'NombreEmpresa': 'Hospital Las Higueras'}, {'CodigoEmpresa': '7402', 'NombreEmpresa': 'Hospital Lebu'}, {'CodigoEmpresa': '7258', 'NombreEmpresa': 'Hospital Linares'}, {'CodigoEmpresa': '7481', 'NombreEmpresa': 'Hospital Lota'}, {'CodigoEmpresa': '1076658', 'NombreEmpresa': 'HOSPITAL METROPOLITANO DE SANTIAGO'}, {'CodigoEmpresa': '7388', 'NombreEmpresa': 'Hospital Nacimiento'}, {'CodigoEmpresa': '7417', 'NombreEmpresa': 'Hospital Ovalle'}, {'CodigoEmpresa': '7331', 'NombreEmpresa': 'Hospital Padre Alberto Hurtado'}, {'CodigoEmpresa': '102393', 'NombreEmpresa': 'HOSPITAL PANGUIPULLI'}, {'CodigoEmpresa': '7259', 'NombreEmpresa': 'Hospital Parral'}, {'CodigoEmpresa': '7053', 'NombreEmpresa': 'Hospital Pedro Morales C.'}, {'CodigoEmpresa': '7446', 'NombreEmpresa': 'Hospital Penco - Lirquen'}, {'CodigoEmpresa': '7489', 'NombreEmpresa': 'Hospital Peñablanca'}, {'CodigoEmpresa': '7343', 'NombreEmpresa': 'Hospital Petorca'}, {'CodigoEmpresa': '7435', 'NombreEmpresa': 'Hospital Pichidegua'}, {'CodigoEmpresa': '7436', 'NombreEmpresa': 'Hospital Pichilemu'}, {'CodigoEmpresa': '7048', 'NombreEmpresa': 'Hospital Pitrufquén'}, {'CodigoEmpresa': '7412', 'NombreEmpresa': 'Hospital Provincial del Huasco Monseñor Fernando Ariztia Ruiz'}, {'CodigoEmpresa': '1216633', 'NombreEmpresa': 'HOSPITAL PSIQUIATRICO DR. PHILIPPE PINEL PUTAENDO'}, {'CodigoEmpresa': '7427', 'NombreEmpresa': 'Hospital Psiquiátrico El Peral'}, {'CodigoEmpresa': '7335', 'NombreEmpresa': 'Hospital Puerto Aysén'}, {'CodigoEmpresa': '7476', 'NombreEmpresa': 'Hospital Puerto Cisnes'}, {'CodigoEmpresa': '127018', 'NombreEmpresa': 'HOSPITAL PUERTO MONTT SERVICIO DE SALUD DEL RELONCAVI'}, {'CodigoEmpresa': '7307', 'NombreEmpresa': 'Hospital Puerto Saavedra'}, {'CodigoEmpresa': '7485', 'NombreEmpresa': 'Hospital Quilpué'}, {'CodigoEmpresa': '7348', 'NombreEmpresa': 'Hospital Quintero'}, {'CodigoEmpresa': '7423', 'NombreEmpresa': 'Hospital Río Bueno'}, {'CodigoEmpresa': '7470', 'NombreEmpresa': 'Hospital Rio Negro'}, {'CodigoEmpresa': '1215262', 'NombreEmpresa': 'Hospital San Antonio de Putaendo'}, {'CodigoEmpresa': '7469', 'NombreEmpresa': 'Hospital San Carlos'}, {'CodigoEmpresa': '7262', 'NombreEmpresa': 'Hospital San Javier'}, {'CodigoEmpresa': '7406', 'NombreEmpresa': 'Hospital San José'}, {'CodigoEmpresa': '1214332', 'NombreEmpresa': 'Hospital San Juan de Dios de Los Andes'}, {'CodigoEmpresa': '7405', 'NombreEmpresa': 'Hospital San Luis de Buin'}, {'CodigoEmpresa': '7345', 'NombreEmpresa': 'Hospital San Martín de Quillota'}, {'CodigoEmpresa': '7477', 'NombreEmpresa': 'Hospital Sanatorio San José de Maipo'}, {'CodigoEmpresa': '7404', 'NombreEmpresa': 'Hospital Santa Barbara'}, {'CodigoEmpresa': '7449', 'NombreEmpresa': 'Hospital Santa Filomena de Graneros'}, {'CodigoEmpresa': '7318', 'NombreEmpresa': 'Hospital Santa Juana'}, {'CodigoEmpresa': '7130', 'NombreEmpresa': 'Hospital Santiago Oriente Dr. Luis Tisne Brousse'}, {'CodigoEmpresa': '7486', 'NombreEmpresa': 'Hospital Santo Tomás de Limache'}, {'CodigoEmpresa': '7261', 'NombreEmpresa': 'Hospital Teno'}, {'CodigoEmpresa': '7274', 'NombreEmpresa': 'Hospital Til - Til'}, {'CodigoEmpresa': '7385', 'NombreEmpresa': 'Hospital Tocopilla'}, {'CodigoEmpresa': '7062', 'NombreEmpresa': 'Hospital Toltén'}, {'CodigoEmpresa': '7384', 'NombreEmpresa': 'Hospital Traiguén'}, {'CodigoEmpresa': '7288', 'NombreEmpresa': 'Hospital Victoria'}, {'CodigoEmpresa': '7049', 'NombreEmpresa': 'Hospital Vilcún'}, {'CodigoEmpresa': '7132', 'NombreEmpresa': 'Hospital Villarrica'}, {'CodigoEmpresa': '7397', 'NombreEmpresa': 'Hospital Yumbel'}, {'CodigoEmpresa': '100156', 'NombreEmpresa': 'I MUNICIPALIDAD DE ANGOL'}, {'CodigoEmpresa': '87653', 'NombreEmpresa': 'I MUNICIPALIDAD DE ANTOFAGASTA'}, {'CodigoEmpresa': '100049', 'NombreEmpresa': 'I MUNICIPALIDAD DE AYSEN'}, {'CodigoEmpresa': '86917', 'NombreEmpresa': 'I MUNICIPALIDAD DE CALAMA'}, {'CodigoEmpresa': '7241', 'NombreEmpresa': 'I MUNICIPALIDAD DE CERRILLOS'}, {'CodigoEmpresa': '154782', 'NombreEmpresa': 'I MUNICIPALIDAD DE CHILE CHICO'}, {'CodigoEmpresa': '84958', 'NombreEmpresa': 'I MUNICIPALIDAD DE CONCHALI'}, {'CodigoEmpresa': '86872', 'NombreEmpresa': 'I MUNICIPALIDAD DE COPIAPO'}, {'CodigoEmpresa': '116298', 'NombreEmpresa': 'I MUNICIPALIDAD DE EL QUISCO'}, {'CodigoEmpresa': '116944', 'NombreEmpresa': 'I MUNICIPALIDAD DE EMPEDRADO'}, {'CodigoEmpresa': '7496', 'NombreEmpresa': 'I MUNICIPALIDAD DE LA COMUNA DE EL BOSQUE'}, {'CodigoEmpresa': '113255', 'NombreEmpresa': 'I MUNICIPALIDAD DE LA CRUZ'}, {'CodigoEmpresa': '83825', 'NombreEmpresa': 'I MUNICIPALIDAD DE LA PINTANA'}, {'CodigoEmpresa': '116296', 'NombreEmpresa': 'I MUNICIPALIDAD DE LAS CABRAS'}, {'CodigoEmpresa': '7064', 'NombreEmpresa': 'I MUNICIPALIDAD DE LLANQUIHUE'}, {'CodigoEmpresa': '118620', 'NombreEmpresa': 'I MUNICIPALIDAD DE LOS ALAMOS'}, {'CodigoEmpresa': '112924', 'NombreEmpresa': 'I MUNICIPALIDAD DE MONTEPATRIA'}, {'CodigoEmpresa': '117406', 'NombreEmpresa': 'I MUNICIPALIDAD DE PADRE HURTADO'}, {'CodigoEmpresa': '88102', 'NombreEmpresa': 'I MUNICIPALIDAD DE PROVIDENCIA'}, {'CodigoEmpresa': '87388', 'NombreEmpresa': 'I MUNICIPALIDAD DE PUENTE ALTO'}, {'CodigoEmpresa': '86507', 'NombreEmpresa': 'I MUNICIPALIDAD DE PUERTO MONTT'}, {'CodigoEmpresa': '98280', 'NombreEmpresa': 'I MUNICIPALIDAD DE PUTAENDO'}, {'CodigoEmpresa': '88203', 'NombreEmpresa': 'I MUNICIPALIDAD DE QUILLOTA'}, {'CodigoEmpresa': '93774', 'NombreEmpresa': 'I MUNICIPALIDAD DE SAN CLEMENTE'}, {'CodigoEmpresa': '142855', 'NombreEmpresa': 'I MUNICIPALIDAD DE SAN PEDRO'}, {'CodigoEmpresa': '113428', 'NombreEmpresa': 'I MUNICIPALIDAD DE SAN PEDRO DE ATACAMA'}, {'CodigoEmpresa': '98443', 'NombreEmpresa': 'I MUNICIPALIDAD DE TOME'}, {'CodigoEmpresa': '114395', 'NombreEmpresa': 'I MUNICIPALIDAD DE TUCAPEL'}, {'CodigoEmpresa': '116399', 'NombreEmpresa': 'I MUNICIPALIDAD DE VICTORIA'}, {'CodigoEmpresa': '84152', 'NombreEmpresa': 'I MUNICIPALIDAD VALDIVIA'}, {'CodigoEmpresa': '114393', 'NombreEmpresa': 'I.  MUNICIPALIDAD CURACO  DE VELEZ'}, {'CodigoEmpresa': '7328', 'NombreEmpresa': 'I. Municipalidad  de Alto del Carmen'}, {'CodigoEmpresa': '121539', 'NombreEmpresa': 'I. Municipalidad de Calle Larga'}, {'CodigoEmpresa': '113614', 'NombreEmpresa': 'I. MUNICIPALIDAD DE CASABLANCA'}, {'CodigoEmpresa': '88254', 'NombreEmpresa': 'I. Municipalidad de Chillán'}, {'CodigoEmpresa': '99322', 'NombreEmpresa': 'I. MUNICIPALIDAD DE COLINA'}, {'CodigoEmpresa': '87901', 'NombreEmpresa': 'I. MUNICIPALIDAD DE COQUIMBO'}, {'CodigoEmpresa': '100448', 'NombreEmpresa': 'I. Municipalidad de Coronel'}, {'CodigoEmpresa': '99105', 'NombreEmpresa': 'I. MUNICIPALIDAD DE INDEPENDENCIA'}, {'CodigoEmpresa': '114398', 'NombreEmpresa': 'I. Municipalidad de Licantén'}, {'CodigoEmpresa': '86518', 'NombreEmpresa': 'I. MUNICIPALIDAD DE LO ESPEJO'}, {'CodigoEmpresa': '87373', 'NombreEmpresa': 'I. MUNICIPALIDAD DE LO PRADO'}, {'CodigoEmpresa': '101002', 'NombreEmpresa': 'I. Municipalidad de Los Andes'}, {'CodigoEmpresa': '115166', 'NombreEmpresa': 'I. MUNICIPALIDAD DE PENCAHUE'}, {'CodigoEmpresa': '102868', 'NombreEmpresa': 'I. Municipalidad de Puerto Varas'}, {'CodigoEmpresa': '87633', 'NombreEmpresa': 'I. MUNICIPALIDAD DE QUILPUE'}, {'CodigoEmpresa': '114918', 'NombreEmpresa': 'I. MUNICIPALIDAD DE RINCONADA'}, {'CodigoEmpresa': '7367', 'NombreEmpresa': 'I. Municipalidad de Río Negro'}, {'CodigoEmpresa': '111960', 'NombreEmpresa': 'I. Municipalidad de San Pablo'}, {'CodigoEmpresa': '99765', 'NombreEmpresa': 'I. MUNICIPALIDAD DE TALAGANTE'}, {'CodigoEmpresa': '84480', 'NombreEmpresa': 'I. MUNICIPALIDAD DE TALCA'}, {'CodigoEmpresa': '115167', 'NombreEmpresa': 'I. MUNICIPALIDAD DE TOCOPILLA'}, {'CodigoEmpresa': '86491', 'NombreEmpresa': 'I. MUNICIPALIDAD DE VALLENAR'}, {'CodigoEmpresa': '94315', 'NombreEmpresa': 'I. MUNICIPALIDAD POZO ALMONTE'}, {'CodigoEmpresa': '86664', 'NombreEmpresa': 'I.MUNICIPALIDAD DE CERRO NAVIA'}, {'CodigoEmpresa': '92414', 'NombreEmpresa': 'I.MUNICIPALIDAD DE CHEPICA'}, {'CodigoEmpresa': '113254', 'NombreEmpresa': 'I.Municipalidad de Coinco'}, {'CodigoEmpresa': '87382', 'NombreEmpresa': 'I.MUNICIPALIDAD DE CONCEPCION'}, {'CodigoEmpresa': '94458', 'NombreEmpresa': 'I.MUNICIPALIDAD DE CONCON'}, {'CodigoEmpresa': '87838', 'NombreEmpresa': 'I.Municipalidad de Curicó'}, {'CodigoEmpresa': '87824', 'NombreEmpresa': 'I.MUNICIPALIDAD DE ESTACION CENTRAL'}, {'CodigoEmpresa': '84300', 'NombreEmpresa': 'I.MUNICIPALIDAD DE MACUL'}, {'CodigoEmpresa': '115304', 'NombreEmpresa': 'I.MUNICIPALIDAD DE MARCHIGUE'}, {'CodigoEmpresa': '120798', 'NombreEmpresa': 'I.MUNICIPALIDAD DE MARIA PINTO'}, {'CodigoEmpresa': '99101', 'NombreEmpresa': 'I.Municipalidad de Mostazal'}, {'CodigoEmpresa': '87172', 'NombreEmpresa': 'I.MUNICIPALIDAD DE PEÑALOLEN'}, {'CodigoEmpresa': '113913', 'NombreEmpresa': 'I.MUNICIPALIDAD DE SAN RAFAEL'}, {'CodigoEmpresa': '87399', 'NombreEmpresa': 'I.MUNICIPALIDAD DE VIÑA DEL MAR'}, {'CodigoEmpresa': '115609', 'NombreEmpresa': 'IIustre Municipalidad de Malloa'}, {'CodigoEmpresa': '86580', 'NombreEmpresa': 'IL. MUNICIPALIDAD DE PUNTA ARENAS'}, {'CodigoEmpresa': '7356', 'NombreEmpresa': 'ILUSTRE MUNICIPALIDAD  DE SAGRADA FAMILIA'}, {'CodigoEmpresa': '182336', 'NombreEmpresa': 'Ilustre Municipalidad Alto Bio Bio'}, {'CodigoEmpresa': '7294', 'NombreEmpresa': 'Ilustre Municipalidad de Algarrobo'}, {'CodigoEmpresa': '111124', 'NombreEmpresa': 'Ilustre Municipalidad de Alhue'}, {'CodigoEmpresa': '119639', 'NombreEmpresa': 'Ilustre Municipalidad de Andacollo'}, {'CodigoEmpresa': '119484', 'NombreEmpresa': 'ILUSTRE MUNICIPALIDAD DE ANTUCO'}, {'CodigoEmpresa': '7050', 'NombreEmpresa': 'Ilustre Municipalidad de Arauco'}, {'CodigoEmpresa': '86624', 'NombreEmpresa': 'ILUSTRE MUNICIPALIDAD DE ARICA'}, {'CodigoEmpresa': '118069', 'NombreEmpresa': 'Ilustre municipalidad de Bulnes'}, {'CodigoEmpresa': '115459', 'NombreEmpresa': 'Ilustre Municipalidad de Cabildo'}, {'CodigoEmpresa': '116407', 'NombreEmpresa': 'Ilustre Municipalidad de Cabo de Hornos'}, {'CodigoEmpresa': '120186', 'NombreEmpresa': 'Ilustre Municipalidad de Cabrero'}, {'CodigoEmpresa': '115011', 'NombreEmpresa': 'Ilustre Municipalidad de Calbuco'}, {'CodigoEmpresa': '7364', 'NombreEmpresa': 'Ilustre Municipalidad de Caldera'}, {'CodigoEmpresa': '116219', 'NombreEmpresa': 'Ilustre Municipalidad de Calera de Tango'}, {'CodigoEmpresa': '294421', 'NombreEmpresa': 'Ilustre Municipalidad de Camarones'}, {'CodigoEmpresa': '119487', 'NombreEmpresa': 'Ilustre Municipalidad de Camiña'}, {'CodigoEmpresa': '84473', 'NombreEmpresa': 'ILUSTRE MUNICIPALIDAD DE CANELA'}, {'CodigoEmpresa': '119488', 'NombreEmpresa': 'Ilustre Municipalidad de Cañete'}, {'CodigoEmpresa': '100127', 'NombreEmpresa': 'ILUSTRE MUNICIPALIDAD DE CASTRO'}, {'CodigoEmpresa': '129737', 'NombreEmpresa': 'Ilustre Municipalidad de Catemu'}, {'CodigoEmpresa': '7351', 'NombreEmpresa': 'Ilustre Municipalidad de Cauquenes'}, {'CodigoEmpresa': '114392', 'NombreEmpresa': 'ILUSTRE MUNICIPALIDAD DE CHAITEN'}, {'CodigoEmpresa': '7501', 'NombreEmpresa': 'Ilustre Municipalidad de Chanco'}, {'CodigoEmpresa': '109196', 'NombreEmpresa': 'ILUSTRE MUNICIPALIDAD DE CHAÑARAL'}, {'CodigoEmpresa': '7362', 'NombreEmpresa': 'Ilustre Municipalidad de Chillán'}, {'CodigoEmpresa': '116221', 'NombreEmpresa': 'Ilustre Municipalidad de Chillan Viejo'}, {'CodigoEmpresa': '116404', 'NombreEmpresa': 'Ilustre Municipalidad de Chimbarongo'}, {'CodigoEmpresa': '165105', 'NombreEmpresa': 'Ilustre Municipalidad de Cholchol'}, {'CodigoEmpresa': '115168', 'NombreEmpresa': 'ILUSTRE MUNICIPALIDAD DE CHONCHI'}, {'CodigoEmpresa': '116747', 'NombreEmpresa': 'Ilustre Municipalidad de Cisnes'}, {'CodigoEmpresa': '114925', 'NombreEmpresa': 'ILUSTRE MUNICIPALIDAD DE COBQUECURA'}, {'CodigoEmpresa': '182424', 'NombreEmpresa': 'Ilustre Municipalidad de Cochamo'}, {'CodigoEmpresa': '116942', 'NombreEmpresa': 'Ilustre Municipalidad de Cochrane'}, {'CodigoEmpresa': '165106', 'NombreEmpresa': 'Ilustre Municipalidad de Codegua'}, {'CodigoEmpresa': '116742', 'NombreEmpresa': 'Ilustre Municipalidad de Coelemu'}, {'CodigoEmpresa': '7146', 'NombreEmpresa': 'Ilustre Municipalidad de Coihueco'}, {'CodigoEmpresa': '124195', 'NombreEmpresa': 'Ilustre Municipalidad de Colbún'}, {'CodigoEmpresa': '1053458', 'NombreEmpresa': 'ILUSTRE MUNICIPALIDAD DE COLCHANE'}, {'CodigoEmpresa': '113853', 'NombreEmpresa': 'Ilustre Municipalidad de Collipulli'}, {'CodigoEmpresa': '119266', 'NombreEmpresa': 'Ilustre Municipalidad de Coltauco'}, {'CodigoEmpresa': '102316', 'NombreEmpresa': 'ILUSTRE MUNICIPALIDAD DE CONSTITUCION'}, {'CodigoEmpresa': '141884', 'NombreEmpresa': 'Ilustre Municipalidad de Contulmo'}, {'CodigoEmpresa': '7071', 'NombreEmpresa': 'Ilustre Municipalidad de Coyhaique'}, {'CodigoEmpresa': '129738', 'NombreEmpresa': 'Ilustre Municipalidad de Cunco'}, {'CodigoEmpresa': '121613', 'NombreEmpresa': 'Ilustre Municipalidad de Curacautín'}, {'CodigoEmpresa': '125602', 'NombreEmpresa': 'Ilustre Municipalidad de Curacaví'}, {'CodigoEmpresa': '127036', 'NombreEmpresa': 'Ilustre Municipalidad de Curanilahue'}, {'CodigoEmpresa': '118093', 'NombreEmpresa': 'Ilustre Municipalidad de Curarrehue'}, {'CodigoEmpresa': '133311', 'NombreEmpresa': 'Ilustre Municipalidad de Curepto'}, {'CodigoEmpresa': '7454', 'NombreEmpresa': 'Ilustre Municipalidad de Diego de Almagro'}, {'CodigoEmpresa': '123784', 'NombreEmpresa': 'Ilustre Municipalidad de El Carmen'}, {'CodigoEmpresa': '116741', 'NombreEmpresa': 'ILUSTRE MUNICIPALIDAD DE EL MONTE'}, {'CodigoEmpresa': '7066', 'NombreEmpresa': 'Ilustre Municipalidad de El Tabo'}, {'CodigoEmpresa': '132741', 'NombreEmpresa': 'Ilustre Municipalidad de Ercilla'}, {'CodigoEmpresa': '115285', 'NombreEmpresa': 'Ilustre Municipalidad de Florida'}, {'CodigoEmpresa': '118089', 'NombreEmpresa': 'Ilustre Municipalidad de Freire'}, {'CodigoEmpresa': '135567', 'NombreEmpresa': 'Ilustre Municipalidad de Freirina'}, {'CodigoEmpresa': '119651', 'NombreEmpresa': 'Ilustre Municipalidad de Fresia'}, {'CodigoEmpresa': '84478', 'NombreEmpresa': 'ILUSTRE MUNICIPALIDAD DE FRUTILLAR'}, {'CodigoEmpresa': '118068', 'NombreEmpresa': 'Ilustre Municipalidad de Futaleufu'}, {'CodigoEmpresa': '106880', 'NombreEmpresa': 'Ilustre Municipalidad de Futrono'}, {'CodigoEmpresa': '124203', 'NombreEmpresa': 'Ilustre Municipalidad de Galvarino'}, {'CodigoEmpresa': '118859', 'NombreEmpresa': 'Ilustre Municipalidad de General Lagos'}, {'CodigoEmpresa': '148507', 'NombreEmpresa': 'Ilustre Municipalidad de Graneros'}, {'CodigoEmpresa': '165107', 'NombreEmpresa': 'Ilustre Municipalidad de Guaitecas'}, {'CodigoEmpresa': '116733', 'NombreEmpresa': 'Ilustre Municipalidad de Hijuelas'}, {'CodigoEmpresa': '106170', 'NombreEmpresa': 'ILUSTRE MUNICIPALIDAD DE HUALAIHUE'}, {'CodigoEmpresa': '118855', 'NombreEmpresa': 'Ilustre Municipalidad de Hualañe'}, {'CodigoEmpresa': '123786', 'NombreEmpresa': 'Ilustre Municipalidad de Hualpen'}, {'CodigoEmpresa': '140867', 'NombreEmpresa': 'Ilustre Municipalidad de Hualqui'}, {'CodigoEmpresa': '116946', 'NombreEmpresa': 'ILUSTRE MUNICIPALIDAD DE HUARA'}, {'CodigoEmpresa': '116406', 'NombreEmpresa': 'Ilustre Municipalidad de Huasco'}, {'CodigoEmpresa': '115164', 'NombreEmpresa': 'ILUSTRE MUNICIPALIDAD DE ILLAPEL'}, {'CodigoEmpresa': '87175', 'NombreEmpresa': 'ILUSTRE MUNICIPALIDAD DE IQUIQUE'}, {'CodigoEmpresa': '119852', 'NombreEmpresa': 'Ilustre Municipalidad de Isla de Pascua'}, {'CodigoEmpresa': '108932', 'NombreEmpresa': 'ILUSTRE MUNICIPALIDAD DE JUAN FERNANDEZ'}, {'CodigoEmpresa': '115185', 'NombreEmpresa': 'Ilustre Municipalidad de La Calera'}, {'CodigoEmpresa': '100488', 'NombreEmpresa': 'Ilustre Municipalidad de La Cisterna'}, {'CodigoEmpresa': '165285', 'NombreEmpresa': 'Ilustre Municipalidad de La Estrella'}, {'CodigoEmpresa': '112097', 'NombreEmpresa': 'ILUSTRE MUNICIPALIDAD DE LA GRANJA'}, {'CodigoEmpresa': '116410', 'NombreEmpresa': 'Ilustre Municipalidad de La Higuera'}, {'CodigoEmpresa': '100648', 'NombreEmpresa': 'ILUSTRE MUNICIPALIDAD DE LA LIGUA'}, {'CodigoEmpresa': '7366', 'NombreEmpresa': 'Ilustre Municipalidad de La Reina'}, {'CodigoEmpresa': '87976', 'NombreEmpresa': 'ILUSTRE MUNICIPALIDAD DE LA SERENA'}, {'CodigoEmpresa': '114725', 'NombreEmpresa': 'Ilustre Municipalidad de La Unión'}, {'CodigoEmpresa': '113735', 'NombreEmpresa': 'ILUSTRE MUNICIPALIDAD DE LAGO RANCO'}, {'CodigoEmpresa': '123529', 'NombreEmpresa': 'Ilustre Municipalidad de Lago Verde'}, {'CodigoEmpresa': '119999', 'NombreEmpresa': 'Ilustre Municipalidad de Laguna Blanca'}, {'CodigoEmpresa': '116405', 'NombreEmpresa': 'Ilustre Municipalidad de Laja'}, {'CodigoEmpresa': '118067', 'NombreEmpresa': 'Ilustre Municipalidad de Lampa'}, {'CodigoEmpresa': '106876', 'NombreEmpresa': 'Ilustre Municipalidad de Lanco'}, {'CodigoEmpresa': '124577', 'NombreEmpresa': 'Ilustre Municipalidad de Lautaro'}, {'CodigoEmpresa': '118096', 'NombreEmpresa': 'Ilustre Municipalidad de Lebu'}, {'CodigoEmpresa': '7492', 'NombreEmpresa': 'Ilustre Municipalidad de Limache'}, {'CodigoEmpresa': '86545', 'NombreEmpresa': 'ILUSTRE MUNICIPALIDAD DE LINARES'}, {'CodigoEmpresa': '7365', 'NombreEmpresa': 'Ilustre Municipalidad de Litueche'}, {'CodigoEmpresa': '118072', 'NombreEmpresa': 'Ilustre Municipalidad de Llay Llay'}, {'CodigoEmpresa': '113258', 'NombreEmpresa': 'ILUSTRE MUNICIPALIDAD DE LOLOL'}, {'CodigoEmpresa': '113851', 'NombreEmpresa': 'Ilustre Municipalidad de Loncoche'}, {'CodigoEmpresa': '120788', 'NombreEmpresa': 'Ilustre Municipalidad de Longavi'}, {'CodigoEmpresa': '119994', 'NombreEmpresa': 'Ilustre Municipalidad de Lonquimay'}, {'CodigoEmpresa': '7159', 'NombreEmpresa': 'Ilustre Municipalidad de los Lagos'}, {'CodigoEmpresa': '7304', 'NombreEmpresa': 'Ilustre Municipalidad de Los Muermos'}, {'CodigoEmpresa': '116408', 'NombreEmpresa': 'Ilustre Municipalidad de Los Sauces'}, {'CodigoEmpresa': '116401', 'NombreEmpresa': 'Ilustre Municipalidad de Los Vilos'}, {'CodigoEmpresa': '138211', 'NombreEmpresa': 'Ilustre Municipalidad de Lumaco'}, {'CodigoEmpresa': '113852', 'NombreEmpresa': 'ILUSTRE MUNICIPALIDAD DE MACHALI'}, {'CodigoEmpresa': '115464', 'NombreEmpresa': 'Ilustre Municipalidad de Máfil'}, {'CodigoEmpresa': '93619', 'NombreEmpresa': 'ILUSTRE MUNICIPALIDAD DE MAIPU'}, {'CodigoEmpresa': '113738', 'NombreEmpresa': 'ILUSTRE MUNICIPALIDAD DE MARIA ELENA'}, {'CodigoEmpresa': '120001', 'NombreEmpresa': 'Ilustre Municipalidad de Mariquina'}, {'CodigoEmpresa': '118070', 'NombreEmpresa': 'Ilustre Municipalidad de Maule'}, {'CodigoEmpresa': '120791', 'NombreEmpresa': 'ILUSTRE MUNICIPALIDAD DE MAULLIN'}, {'CodigoEmpresa': '117581', 'NombreEmpresa': 'Ilustre Municipalidad de Mejillones'}, {'CodigoEmpresa': '121617', 'NombreEmpresa': 'Ilustre Municipalidad de Melipeuco'}, {'CodigoEmpresa': '98901', 'NombreEmpresa': 'ILUSTRE MUNICIPALIDAD DE MELIPILLA'}, {'CodigoEmpresa': '84961', 'NombreEmpresa': 'ILUSTRE MUNICIPALIDAD DE MOLINA '}, {'CodigoEmpresa': '115311', 'NombreEmpresa': 'Ilustre Municipalidad de Mulchen'}, {'CodigoEmpresa': '135561', 'NombreEmpresa': 'Ilustre Municipalidad de Nacimiento'}, {'CodigoEmpresa': '116750', 'NombreEmpresa': 'Ilustre Municipalidad de Nancagua'}, {'CodigoEmpresa': '98448', 'NombreEmpresa': 'ILUSTRE MUNICIPALIDAD DE NATALES'}, {'CodigoEmpresa': '118625', 'NombreEmpresa': 'Ilustre Municipalidad de Navidad'}, {'CodigoEmpresa': '142508', 'NombreEmpresa': 'Ilustre Municipalidad de Negrete'}, {'CodigoEmpresa': '7051', 'NombreEmpresa': 'Ilustre Municipalidad de Ninhue'}, {'CodigoEmpresa': '115468', 'NombreEmpresa': 'Ilustre Municipalidad de Nogales'}, {'CodigoEmpresa': '134356', 'NombreEmpresa': 'Ilustre Municipalidad de Ñiquen'}, {'CodigoEmpresa': '86764', 'NombreEmpresa': 'ILUSTRE MUNICIPALIDAD DE ÑUÑOA'}, {'CodigoEmpresa': '115463', 'NombreEmpresa': \"Ilustre Municipalidad de O'Higgins\"}, {'CodigoEmpresa': '119273', 'NombreEmpresa': 'Ilustre Municipalidad de Olivar'}, {'CodigoEmpresa': '119996', 'NombreEmpresa': 'Ilustre Municipalidad de Ollagüe'}, {'CodigoEmpresa': '114724', 'NombreEmpresa': 'Ilustre Municipalidad de Olmue'}, {'CodigoEmpresa': '84959', 'NombreEmpresa': 'ILUSTRE MUNICIPALIDAD DE OSORNO'}, {'CodigoEmpresa': '118075', 'NombreEmpresa': 'Ilustre Municipalidad de Paihuano'}, {'CodigoEmpresa': '116744', 'NombreEmpresa': 'Ilustre Municipalidad de Paillaco'}, {'CodigoEmpresa': '100728', 'NombreEmpresa': 'ILUSTRE MUNICIPALIDAD DE PAINE'}, {'CodigoEmpresa': '110393', 'NombreEmpresa': 'Ilustre Municipalidad de Palena'}, {'CodigoEmpresa': '123526', 'NombreEmpresa': 'Ilustre Municipalidad de Palmilla'}, {'CodigoEmpresa': '115284', 'NombreEmpresa': 'Ilustre Municipalidad de Panguipulli'}, {'CodigoEmpresa': '115302', 'NombreEmpresa': 'Ilustre Municipalidad de Papudo'}, {'CodigoEmpresa': '118971', 'NombreEmpresa': 'Ilustre Municipalidad de Paredones'}, {'CodigoEmpresa': '94459', 'NombreEmpresa': 'ILUSTRE MUNICIPALIDAD DE PARRAL'}, {'CodigoEmpresa': '116729', 'NombreEmpresa': 'Ilustre Municipalidad de Pelarco'}, {'CodigoEmpresa': '113978', 'NombreEmpresa': 'Ilustre Municipalidad de Pelluhue'}, {'CodigoEmpresa': '117587', 'NombreEmpresa': 'Ilustre Municipalidad de Pemuco'}, {'CodigoEmpresa': '142575', 'NombreEmpresa': 'Ilustre Municipalidad de Penco'}, {'CodigoEmpresa': '118619', 'NombreEmpresa': 'Ilustre Municipalidad de Peralillo'}, {'CodigoEmpresa': '133899', 'NombreEmpresa': 'Ilustre Municipalidad de Perquenco'}, {'CodigoEmpresa': '116223', 'NombreEmpresa': 'Ilustre Municipalidad de Petorca'}, {'CodigoEmpresa': '118861', 'NombreEmpresa': 'Ilustre Municipalidad de Peumo'}, {'CodigoEmpresa': '118077', 'NombreEmpresa': 'Ilustre Municipalidad de Pica'}, {'CodigoEmpresa': '118621', 'NombreEmpresa': 'Ilustre Municipalidad de Pichidegua'}, {'CodigoEmpresa': '117179', 'NombreEmpresa': 'Ilustre Municipalidad de Pichilemu'}, {'CodigoEmpresa': '118071', 'NombreEmpresa': 'Ilustre Municipalidad de Pinto'}, {'CodigoEmpresa': '100072', 'NombreEmpresa': 'ILUSTRE MUNICIPALIDAD DE PIRQUE'}, {'CodigoEmpresa': '116411', 'NombreEmpresa': 'Ilustre Municipalidad de Pitrufquen'}, {'CodigoEmpresa': '118087', 'NombreEmpresa': 'Ilustre Municipalidad de Placilla'}, {'CodigoEmpresa': '115798', 'NombreEmpresa': 'Ilustre Municipalidad de Porvenir'}, {'CodigoEmpresa': '117585', 'NombreEmpresa': 'Ilustre Municipalidad de Primavera'}, {'CodigoEmpresa': '119270', 'NombreEmpresa': 'Ilustre Municipalidad de Puchuncavi'}, {'CodigoEmpresa': '86943', 'NombreEmpresa': 'ILUSTRE MUNICIPALIDAD DE PUCON'}, {'CodigoEmpresa': '104899', 'NombreEmpresa': 'Ilustre Municipalidad de Puerto Octay'}, {'CodigoEmpresa': '115313', 'NombreEmpresa': 'Ilustre Municipalidad de Puerto Saavedra'}, {'CodigoEmpresa': '116402', 'NombreEmpresa': 'Ilustre Municipalidad de Pumanque'}, {'CodigoEmpresa': '117588', 'NombreEmpresa': 'Ilustre Municipalidad de Punitaqui'}, {'CodigoEmpresa': '116403', 'NombreEmpresa': 'Ilustre Municipalidad de Puqueldón'}, {'CodigoEmpresa': '114916', 'NombreEmpresa': 'ILUSTRE MUNICIPALIDAD DE PURRANQUE'}, {'CodigoEmpresa': '119479', 'NombreEmpresa': 'ILUSTRE MUNICIPALIDAD DE PUTRE'}, {'CodigoEmpresa': '105334', 'NombreEmpresa': 'ILUSTRE MUNICIPALIDAD DE PUYEHUE'}, {'CodigoEmpresa': '112919', 'NombreEmpresa': 'Ilustre Municipalidad de Queilen'}, {'CodigoEmpresa': '110102', 'NombreEmpresa': 'Ilustre Municipalidad De Quellón'}, {'CodigoEmpresa': '125066', 'NombreEmpresa': 'Ilustre Municipalidad de Quemchi'}, {'CodigoEmpresa': '116940', 'NombreEmpresa': 'Ilustre Municipalidad de Quilaco'}, {'CodigoEmpresa': '88313', 'NombreEmpresa': 'Ilustre Municipalidad de Quilicura'}, {'CodigoEmpresa': '115979', 'NombreEmpresa': 'Ilustre Municipalidad de Quilleco'}, {'CodigoEmpresa': '135562', 'NombreEmpresa': 'ILUSTRE MUNICIPALIDAD DE QUILLON'}, {'CodigoEmpresa': '116731', 'NombreEmpresa': 'Ilustre Municipalidad de Quinchao'}, {'CodigoEmpresa': '115010', 'NombreEmpresa': 'Ilustre Municipalidad de Quinta de Tilcoco'}, {'CodigoEmpresa': '88075', 'NombreEmpresa': 'ILUSTRE MUNICIPALIDAD DE QUINTA NORMAL'}, {'CodigoEmpresa': '138454', 'NombreEmpresa': 'Ilustre Municipalidad de Quintero'}, {'CodigoEmpresa': '124198', 'NombreEmpresa': 'Ilustre Municipalidad de Quirihue'}, {'CodigoEmpresa': '87167', 'NombreEmpresa': 'ILUSTRE MUNICIPALIDAD DE RANCAGUA'}, {'CodigoEmpresa': '7418', 'NombreEmpresa': 'Ilustre Municipalidad de Ranquil'}, {'CodigoEmpresa': '117589', 'NombreEmpresa': 'Ilustre Municipalidad de Rauco'}, {'CodigoEmpresa': '7325', 'NombreEmpresa': 'Ilustre Municipalidad de Recoleta'}, {'CodigoEmpresa': '118073', 'NombreEmpresa': 'Ilustre Municipalidad de Renaico'}, {'CodigoEmpresa': '87185', 'NombreEmpresa': 'ILUSTRE MUNICIPALIDAD DE RENCA'}, {'CodigoEmpresa': '100555', 'NombreEmpresa': 'ILUSTRE MUNICIPALIDAD DE RENGO'}, {'CodigoEmpresa': '116215', 'NombreEmpresa': 'Ilustre Municipalidad de Requínoa'}, {'CodigoEmpresa': '113252', 'NombreEmpresa': 'ILUSTRE MUNICIPALIDAD DE RETIRO'}, {'CodigoEmpresa': '117580', 'NombreEmpresa': 'Ilustre Municipalidad de Rio Bueno'}, {'CodigoEmpresa': '89591', 'NombreEmpresa': 'ILUSTRE MUNICIPALIDAD DE RIO CLARO'}, {'CodigoEmpresa': '115301', 'NombreEmpresa': 'ILUSTRE MUNICIPALIDAD DE RIO VERDE'}, {'CodigoEmpresa': '141881', 'NombreEmpresa': 'Ilustre Municipalidad de Romeral'}, {'CodigoEmpresa': '116295', 'NombreEmpresa': 'Ilustre Municipalidad de Salamanca'}, {'CodigoEmpresa': '86548', 'NombreEmpresa': 'ILUSTRE MUNICIPALIDAD DE SAN BERNARDO'}, {'CodigoEmpresa': '116226', 'NombreEmpresa': 'Ilustre Municipalidad de San Esteban'}, {'CodigoEmpresa': '128889', 'NombreEmpresa': 'ILUSTRE MUNICIPALIDAD DE SAN FABIAN'}, {'CodigoEmpresa': '100158', 'NombreEmpresa': 'ILUSTRE MUNICIPALIDAD DE SAN FELIPE'}, {'CodigoEmpresa': '7482', 'NombreEmpresa': 'Ilustre Municipalidad de San Fernando'}, {'CodigoEmpresa': '115795', 'NombreEmpresa': 'Ilustre Municipalidad de San Gregorio'}, {'CodigoEmpresa': '116409', 'NombreEmpresa': 'Ilustre Municipalidad de San Ignacio'}, {'CodigoEmpresa': '86407', 'NombreEmpresa': 'ILUSTRE MUNICIPALIDAD DE SAN JAVIER'}, {'CodigoEmpresa': '7135', 'NombreEmpresa': 'Ilustre Municipalidad de San Joaquin'}, {'CodigoEmpresa': '118085', 'NombreEmpresa': 'Ilustre Municipalidad de San Juan de la Costa'}, {'CodigoEmpresa': '7498', 'NombreEmpresa': 'Ilustre Municipalidad de San Miguel'}, {'CodigoEmpresa': '7158', 'NombreEmpresa': 'Ilustre Municipalidad de San Nicolás'}, {'CodigoEmpresa': '136421', 'NombreEmpresa': 'Ilustre Municipalidad de San Rosendo'}, {'CodigoEmpresa': '135559', 'NombreEmpresa': 'Ilustre Municipalidad de San Vicente de Tagua Tagua'}, {'CodigoEmpresa': '118860', 'NombreEmpresa': 'Ilustre Municipalidad de Santa Barbara'}, {'CodigoEmpresa': '117584', 'NombreEmpresa': 'Ilustre Municipalidad de Santa Cruz'}, {'CodigoEmpresa': '118623', 'NombreEmpresa': 'Ilustre Municipalidad de Santa Juana'}, {'CodigoEmpresa': '117210', 'NombreEmpresa': 'Ilustre Municipalidad de Santa María'}, {'CodigoEmpresa': '113981', 'NombreEmpresa': 'Ilustre Municipalidad de Santo Domingo'}, {'CodigoEmpresa': '117579', 'NombreEmpresa': 'Ilustre Municipalidad de Sierra Gorda'}, {'CodigoEmpresa': '118079', 'NombreEmpresa': 'Ilustre Municipalidad de Taltal'}, {'CodigoEmpresa': '116299', 'NombreEmpresa': 'Ilustre Municipalidad de Teno'}, {'CodigoEmpresa': '7360', 'NombreEmpresa': 'Ilustre Municipalidad de Tierra Amarilla'}, {'CodigoEmpresa': '116218', 'NombreEmpresa': 'Ilustre Municipalidad de Til Til'}, {'CodigoEmpresa': '224045', 'NombreEmpresa': 'Ilustre Municipalidad de Timaukel'}, {'CodigoEmpresa': '117582', 'NombreEmpresa': 'Ilustre Municipalidad de Tolten'}, {'CodigoEmpresa': '7301', 'NombreEmpresa': 'Ilustre Municipalidad de Tortel'}, {'CodigoEmpresa': '145365', 'NombreEmpresa': 'Ilustre Municipalidad de Trehuaco'}, {'CodigoEmpresa': '87402', 'NombreEmpresa': 'ILUSTRE MUNICIPALIDAD DE VALPARAISO'}, {'CodigoEmpresa': '114914', 'NombreEmpresa': 'Ilustre Municipalidad de Vichuquén'}, {'CodigoEmpresa': '115303', 'NombreEmpresa': 'Ilustre Municipalidad de Vicuña'}, {'CodigoEmpresa': '115009', 'NombreEmpresa': 'Ilustre Municipalidad de Vilcún'}, {'CodigoEmpresa': '7363', 'NombreEmpresa': 'Ilustre Municipalidad de Villa Alegre'}, {'CodigoEmpresa': '7233', 'NombreEmpresa': 'Ilustre Municipalidad de Villa Alemana'}, {'CodigoEmpresa': '118084', 'NombreEmpresa': 'Ilustre Municipalidad de Villarrica'}, {'CodigoEmpresa': '116738', 'NombreEmpresa': 'Ilustre Municipalidad de Yerbas Buenas'}, {'CodigoEmpresa': '120004', 'NombreEmpresa': 'Ilustre Municipalidad de Yumbel'}, {'CodigoEmpresa': '115294', 'NombreEmpresa': 'Ilustre Municipalidad de Yungay'}, {'CodigoEmpresa': '132199', 'NombreEmpresa': 'Ilustre Municipalidad de Zapallar'}, {'CodigoEmpresa': '117181', 'NombreEmpresa': 'Ilustre Municipalidad Isla de Maipo'}, {'CodigoEmpresa': '115280', 'NombreEmpresa': 'ILUSTRE MUNICIPALIDAD TEODORO SCHMIDT'}, {'CodigoEmpresa': '106000', 'NombreEmpresa': 'Ilustre Municipalidad Torres del Payne'}, {'CodigoEmpresa': '114924', 'NombreEmpresa': 'IMUNICIPALIDAD DE NUEVA IMPERIAL'}, {'CodigoEmpresa': '7004', 'NombreEmpresa': 'Instituto Antártico Chileno'}, {'CodigoEmpresa': '6937', 'NombreEmpresa': 'Instituto de Desarrollo Agropecuario - INDAP'}, {'CodigoEmpresa': '7070', 'NombreEmpresa': 'Instituto de Fomento Pesquero - IFOP'}, {'CodigoEmpresa': '7394', 'NombreEmpresa': 'Instituto de Investigaciones y Control del Ejércit'}, {'CodigoEmpresa': '7474', 'NombreEmpresa': 'Instituto de Neurocirugía'}, {'CodigoEmpresa': '1090469', 'NombreEmpresa': 'INSTITUTO DE PREVISION SOCIAL'}, {'CodigoEmpresa': '7177', 'NombreEmpresa': 'INSTITUTO DE SALUD PUBLICA DE CHILE'}, {'CodigoEmpresa': '6953', 'NombreEmpresa': 'Instituto de Seguridad Laboral - ISL'}, {'CodigoEmpresa': '7497', 'NombreEmpresa': 'Instituto Forestal'}, {'CodigoEmpresa': '7432', 'NombreEmpresa': 'Instituto Nac. de Rehabilitación Pedro Aguirre C.'}, {'CodigoEmpresa': '7216', 'NombreEmpresa': 'INSTITUTO NACIONAL DE DEPORTES DE CHILE'}, {'CodigoEmpresa': '6931', 'NombreEmpresa': 'Instituto Nacional de Estadísticas - INE'}, {'CodigoEmpresa': '7430', 'NombreEmpresa': 'Instituto Nacional de Geriatría'}, {'CodigoEmpresa': '7176', 'NombreEmpresa': 'Instituto Nacional de Hidráulicas - INH'}, {'CodigoEmpresa': '7197', 'NombreEmpresa': 'Instituto Nacional de la Juventud - MIDEPLAN'}, {'CodigoEmpresa': '1042394', 'NombreEmpresa': 'INSTITUTO NACIONAL DE PROPIEDAD INDUSTRIAL'}, {'CodigoEmpresa': '7276', 'NombreEmpresa': 'Instituto Nacional del Cancer'}, {'CodigoEmpresa': '7298', 'NombreEmpresa': 'Instituto Nacional del Torax'}, {'CodigoEmpresa': '7044', 'NombreEmpresa': 'INSTITUTO PSIQUIATRICO DR JOSE HORWITZ BARAK'}, {'CodigoEmpresa': '7456', 'NombreEmpresa': 'Instituto Traumatológico'}, {'CodigoEmpresa': '7204', 'NombreEmpresa': 'INTENDENCIA II REGION ANTOFAGASTA'}, {'CodigoEmpresa': '7115', 'NombreEmpresa': 'Intendencia III Región, Atacama'}, {'CodigoEmpresa': '7236', 'NombreEmpresa': 'Intendencia IV Región, Coquimbo'}, {'CodigoEmpresa': '7220', 'NombreEmpresa': 'Intendencia IX Región, de la Araucanía'}, {'CodigoEmpresa': '7195', 'NombreEmpresa': 'Intendencia Región Metropolitana'}, {'CodigoEmpresa': '270727', 'NombreEmpresa': 'Intendencia Regional de Arica y Parinacota'}, {'CodigoEmpresa': '270726', 'NombreEmpresa': 'Intendencia Regional de Los Ríos'}, {'CodigoEmpresa': '7234', 'NombreEmpresa': 'INTENDENCIA REGIONAL I REGION DE TARAPAC'}, {'CodigoEmpresa': '7196', 'NombreEmpresa': 'Intendencia V Región, Valparaíso'}, {'CodigoEmpresa': '7201', 'NombreEmpresa': 'Intendencia VI Región, Lib. Bdo. O´Higgins'}, {'CodigoEmpresa': '7225', 'NombreEmpresa': 'Intendencia VII Región, del Maule'}, {'CodigoEmpresa': '7226', 'NombreEmpresa': 'Intendencia VIII Región, del Bío-Bío'}, {'CodigoEmpresa': '7215', 'NombreEmpresa': 'Intendencia X Región, de Los Lagos'}, {'CodigoEmpresa': '7229', 'NombreEmpresa': 'Intendencia XI Región, Aysén'}, {'CodigoEmpresa': '7214', 'NombreEmpresa': 'Intendencia XII Región de Magallanes y Antártica Chilena'}, {'CodigoEmpresa': '7002', 'NombreEmpresa': 'JUNAEB'}, {'CodigoEmpresa': '7014', 'NombreEmpresa': 'Junta de Aeronáutica Civil'}, {'CodigoEmpresa': '1079772', 'NombreEmpresa': 'JUNTA NACIONAL DE CUERPOS DE BOMBEROS DE CHILE'}, {'CodigoEmpresa': '6928', 'NombreEmpresa': 'JUNTA NACIONAL DE JARDINES         INFANTILES'}, {'CodigoEmpresa': '1065029', 'NombreEmpresa': 'LICEO EL ROSARIO'}, {'CodigoEmpresa': '7074', 'NombreEmpresa': 'METRO S.A.'}, {'CodigoEmpresa': '6941', 'NombreEmpresa': 'Ministerio de Bienes Nacionales.'}, {'CodigoEmpresa': '7247', 'NombreEmpresa': 'MINISTERIO DE OBRAS PUBLICAS DIREC CION GRAL DE OO PP DCYF'}, {'CodigoEmpresa': '7249', 'NombreEmpresa': 'Ministerio de Obras Publicas Dirección Gral. de OOPP'}, {'CodigoEmpresa': '6944', 'NombreEmpresa': 'Ministerio del Interior'}, {'CodigoEmpresa': '224060', 'NombreEmpresa': 'MINISTERIO PUBLICO'}, {'CodigoEmpresa': '7194', 'NombreEmpresa': 'Ministerio Secretaría General de Gobierno'}, {'CodigoEmpresa': '6949', 'NombreEmpresa': 'MINISTERIO SECRETARIA GENERAL DE LA PRESIDENCIA DE LA REPUBLICA'}, {'CodigoEmpresa': '7248', 'NombreEmpresa': 'MOP - Dirección de Vialidad'}, {'CodigoEmpresa': '7353', 'NombreEmpresa': 'MOP Dirección General de Concesiones'}, {'CodigoEmpresa': '114923', 'NombreEmpresa': 'Municipalidad de Alto Hospicio'}, {'CodigoEmpresa': '98452', 'NombreEmpresa': 'Municipalidad de Ancud'}, {'CodigoEmpresa': '100090', 'NombreEmpresa': 'MUNICIPALIDAD DE BUIN'}, {'CodigoEmpresa': '115186', 'NombreEmpresa': 'Municipalidad de Carahue'}, {'CodigoEmpresa': '99569', 'NombreEmpresa': 'MUNICIPALIDAD DE CARTAGENA'}, {'CodigoEmpresa': '100523', 'NombreEmpresa': 'MUNICIPALIDAD DE CHIGUAYANTE'}, {'CodigoEmpresa': '115297', 'NombreEmpresa': 'Municipalidad de Combarbala'}, {'CodigoEmpresa': '119089', 'NombreEmpresa': 'Municipalidad de Corral'}, {'CodigoEmpresa': '115165', 'NombreEmpresa': 'MUNICIPALIDAD DE DALCAHUE'}, {'CodigoEmpresa': '123788', 'NombreEmpresa': 'MUNICIPALIDAD DE DOÑIHUE'}, {'CodigoEmpresa': '117586', 'NombreEmpresa': 'Municipalidad de Gorbea'}, {'CodigoEmpresa': '100739', 'NombreEmpresa': 'Municipalidad de Huechuraba'}, {'CodigoEmpresa': '86766', 'NombreEmpresa': 'MUNICIPALIDAD DE LA FLORIDA'}, {'CodigoEmpresa': '86571', 'NombreEmpresa': 'MUNICIPALIDAD DE LAS CONDES'}, {'CodigoEmpresa': '100155', 'NombreEmpresa': 'Municipalidad de lo barnechea'}, {'CodigoEmpresa': '87187', 'NombreEmpresa': 'Municipalidad de Los Angeles'}, {'CodigoEmpresa': '113259', 'NombreEmpresa': 'MUNICIPALIDAD DE LOTA'}, {'CodigoEmpresa': '99860', 'NombreEmpresa': 'MUNICIPALIDAD DE OVALLE'}, {'CodigoEmpresa': '90886', 'NombreEmpresa': 'MUNICIPALIDAD DE PADRE LAS CASAS'}, {'CodigoEmpresa': '113618', 'NombreEmpresa': 'Municipalidad de Panquehue'}, {'CodigoEmpresa': '87104', 'NombreEmpresa': 'MUNICIPALIDAD DE PEDRO AGUIRRE CERDA'}, {'CodigoEmpresa': '100137', 'NombreEmpresa': 'MUNICIPALIDAD DE PEÑAFLOR'}, {'CodigoEmpresa': '115299', 'NombreEmpresa': 'Municipalidad de Portezuelo'}, {'CodigoEmpresa': '84149', 'NombreEmpresa': 'MUNICIPALIDAD DE PUDAHUEL'}, {'CodigoEmpresa': '116945', 'NombreEmpresa': 'Municipalidad de Purén \\\\ DEPTO.DE SALUD'}, {'CodigoEmpresa': '114075', 'NombreEmpresa': 'Municipalidad de Rio Hurtado'}, {'CodigoEmpresa': '120002', 'NombreEmpresa': 'Municipalidad de Río Ibáñez'}, {'CodigoEmpresa': '100318', 'NombreEmpresa': 'Municipalidad de San Antonio'}, {'CodigoEmpresa': '100107', 'NombreEmpresa': 'MUNICIPALIDAD DE SAN CARLOS'}, {'CodigoEmpresa': '115457', 'NombreEmpresa': 'Municipalidad de San José de Maipo'}, {'CodigoEmpresa': '100704', 'NombreEmpresa': 'MUNICIPALIDAD DE SAN PEDRO DE LA PAZ'}, {'CodigoEmpresa': '7355', 'NombreEmpresa': 'Municipalidad de San Ramon'}, {'CodigoEmpresa': '86568', 'NombreEmpresa': 'MUNICIPALIDAD DE SANTIAGO'}, {'CodigoEmpresa': '86586', 'NombreEmpresa': 'MUNICIPALIDAD DE TALCAHUANO'}, {'CodigoEmpresa': '7321', 'NombreEmpresa': 'Municipalidad de Temuco'}, {'CodigoEmpresa': '183037', 'NombreEmpresa': 'Municipalidad de Tirúa'}, {'CodigoEmpresa': '115163', 'NombreEmpresa': 'MUNICIPALIDAD DE TRAIGUEN'}, {'CodigoEmpresa': '98462', 'NombreEmpresa': 'MUNICIPALIDAD DE VITACURA'}, {'CodigoEmpresa': '7005', 'NombreEmpresa': 'Oficina de Estudios y Politicas Agrarias'}, {'CodigoEmpresa': '7180', 'NombreEmpresa': 'Oficina Nacional de Emergencia'}, {'CodigoEmpresa': '6935', 'NombreEmpresa': 'Parque Metropolitano de Santiago'}, {'CodigoEmpresa': '7143', 'NombreEmpresa': 'Poder Judicial - Academia Judicial'}, {'CodigoEmpresa': '111880', 'NombreEmpresa': 'POLICIA DE INVESTIGACIONES DE CHILE'}, {'CodigoEmpresa': '6967', 'NombreEmpresa': 'Polla Chilena de Beneficencia S.A.'}, {'CodigoEmpresa': '7238', 'NombreEmpresa': 'Presidencia de la República'}, {'CodigoEmpresa': '7478', 'NombreEmpresa': 'S. S. Aysén - Dirección de Atención Primaria'}, {'CodigoEmpresa': '7096', 'NombreEmpresa': 'SAG CONCEPCION'}, {'CodigoEmpresa': '7184', 'NombreEmpresa': 'SENADIS'}, {'CodigoEmpresa': '174692', 'NombreEmpresa': 'Senado de la República de Chile'}, {'CodigoEmpresa': '6919', 'NombreEmpresa': 'SERVICIO AGRICOLA Y GANADERO'}, {'CodigoEmpresa': '6950', 'NombreEmpresa': 'Servicio de Cooperación Técnica - SERCOTEC'}, {'CodigoEmpresa': '7218', 'NombreEmpresa': 'Servicio de Evaluación Ambiental (SEA)'}, {'CodigoEmpresa': '7113', 'NombreEmpresa': 'SERVICIO DE IMPUESTOS INTERNOS DIRECCION'}, {'CodigoEmpresa': '6960', 'NombreEmpresa': 'Servicio de Registro Civil e Identificación'}, {'CodigoEmpresa': '7205', 'NombreEmpresa': 'Servicio de Salud  Concepción'}, {'CodigoEmpresa': '7431', 'NombreEmpresa': 'SERVICIO DE SALUD ACONCAGUA'}, {'CodigoEmpresa': '7185', 'NombreEmpresa': 'Servicio de Salud Antofagasta'}, {'CodigoEmpresa': '7451', 'NombreEmpresa': 'SERVICIO DE SALUD ANTOFAGASTA HOSPITAL L'}, {'CodigoEmpresa': '7302', 'NombreEmpresa': 'Servicio de Salud Araucanía Norte'}, {'CodigoEmpresa': '7306', 'NombreEmpresa': 'SERVICIO DE SALUD ARAUCANIA NORTE HOSPITAL DE ANGOL'}, {'CodigoEmpresa': '7102', 'NombreEmpresa': 'Servicio de Salud Araucanía Sur'}, {'CodigoEmpresa': '7060', 'NombreEmpresa': 'SERVICIO DE SALUD ARAUCANIA SUR HOSPITAL DE NUEVA IMPERIAL'}, {'CodigoEmpresa': '6976', 'NombreEmpresa': 'SERVICIO DE SALUD ARAUCO'}, {'CodigoEmpresa': '1667479', 'NombreEmpresa': 'SERVICIO DE SALUD ARICA HOSP DR JUAN NOE CREVANI'}, {'CodigoEmpresa': '7409', 'NombreEmpresa': 'Servicio de Salud Atacama'}, {'CodigoEmpresa': '7206', 'NombreEmpresa': 'SERVICIO DE SALUD AYSEN'}, {'CodigoEmpresa': '7308', 'NombreEmpresa': 'Servicio de Salud Bío Bío'}, {'CodigoEmpresa': '16223', 'NombreEmpresa': 'Servicio de Salud Chiloé'}, {'CodigoEmpresa': '7052', 'NombreEmpresa': 'Servicio de Salud Coquimbo'}, {'CodigoEmpresa': '7416', 'NombreEmpresa': 'SERVICIO DE SALUD COQUIMBO HOSPITAL DE COQUIMBO'}, {'CodigoEmpresa': '7471', 'NombreEmpresa': 'SERVICIO DE SALUD COQUIMBO HOSPITAL DE LOS VILOS'}, {'CodigoEmpresa': '7329', 'NombreEmpresa': 'SERVICIO DE SALUD COQUIMBO HOSPITAL VICUNA'}, {'CodigoEmpresa': '6926', 'NombreEmpresa': 'SERVICIO DE SALUD DE ARICA'}, {'CodigoEmpresa': '7374', 'NombreEmpresa': \"SERVICIO DE SALUD DEL LIBERTADOR B O'HIGGINS HOSPITAL REG RANCAGUA\"}, {'CodigoEmpresa': '7141', 'NombreEmpresa': 'Servicio de Salud del Maule'}, {'CodigoEmpresa': '7257', 'NombreEmpresa': 'SERVICIO DE SALUD DEL MAULE HOSPITAL DE LICANTEN'}, {'CodigoEmpresa': '7260', 'NombreEmpresa': 'SERVICIO DE SALUD DEL MAULE HOSPITAL DE TALCA'}, {'CodigoEmpresa': '7453', 'NombreEmpresa': 'SERVICIO DE SALUD IQUIQUE'}, {'CodigoEmpresa': '7382', 'NombreEmpresa': 'Servicio de Salud Magallanes'}, {'CodigoEmpresa': '7088', 'NombreEmpresa': 'Servicio de Salud Metropolitano Central'}, {'CodigoEmpresa': '7188', 'NombreEmpresa': 'Servicio de Salud Metropolitano del Ambiente'}, {'CodigoEmpresa': '6963', 'NombreEmpresa': 'Servicio de Salud Metropolitano Norte'}, {'CodigoEmpresa': '7029', 'NombreEmpresa': 'Servicio de Salud Metropolitano Occidente'}, {'CodigoEmpresa': '7006', 'NombreEmpresa': 'SERVICIO DE SALUD METROPOLITANO SUR'}, {'CodigoEmpresa': '7203', 'NombreEmpresa': 'Servicio de Salud Metropolitano Sur Oriente'}, {'CodigoEmpresa': '6932', 'NombreEmpresa': 'SERVICIO DE SALUD NUBLE'}, {'CodigoEmpresa': '7285', 'NombreEmpresa': 'Servicio de Salud Ñuble - Hospital de Coelemu'}, {'CodigoEmpresa': '7316', 'NombreEmpresa': 'SERVICIO DE SALUD OCCIDENTE HOSPITAL SAN JUAN DE DIOS'}, {'CodigoEmpresa': '7054', 'NombreEmpresa': 'Servicio de Salud Ohiggins'}, {'CodigoEmpresa': '7296', 'NombreEmpresa': 'SERVICIO DE SALUD OSORNO'}, {'CodigoEmpresa': '7305', 'NombreEmpresa': 'SERVICIO DE SALUD SUR HOSPITAL EXEQUIEL'}, {'CodigoEmpresa': '7315', 'NombreEmpresa': 'SERVICIO DE SALUD TALCAHUANO HOSPITAL DE'}, {'CodigoEmpresa': '7106', 'NombreEmpresa': 'SERVICIO DE SALUD VALDIVIA'}, {'CodigoEmpresa': '7410', 'NombreEmpresa': 'SERVICIO DE SALUD VALDIVIA HOSPITAL BASE'}, {'CodigoEmpresa': '7239', 'NombreEmpresa': 'Servicio de Salud Valparaíso San Antonio'}, {'CodigoEmpresa': '7153', 'NombreEmpresa': 'Servicio de Salud Viña del Mar - Quillota'}, {'CodigoEmpresa': '6965', 'NombreEmpresa': 'SERVICIO DE VIVIENDA Y URBANIZACION AREA METROPOLITANA'}, {'CodigoEmpresa': '225773', 'NombreEmpresa': 'SERVICIO ELECTORAL'}, {'CodigoEmpresa': '1723291', 'NombreEmpresa': 'SERVICIO LOCAL DE EDUCACION PÚBLICA DE ATACAMA'}, {'CodigoEmpresa': '7179', 'NombreEmpresa': 'Servicio Médico Legal'}, {'CodigoEmpresa': '7479', 'NombreEmpresa': 'SERVICIO NAC DE SALUD HOSPITAL TRAUMATOLOGICO'}, {'CodigoEmpresa': '6952', 'NombreEmpresa': 'Servicio Nacional de Aduanas'}, {'CodigoEmpresa': '6962', 'NombreEmpresa': 'Servicio Nacional de Capacitación y Empleo'}, {'CodigoEmpresa': '7210', 'NombreEmpresa': 'Servicio Nacional de Geología y Minería'}, {'CodigoEmpresa': '6948', 'NombreEmpresa': 'Servicio Nacional de la Mujer'}, {'CodigoEmpresa': '7017', 'NombreEmpresa': 'Servicio Nacional de Menores'}, {'CodigoEmpresa': '7008', 'NombreEmpresa': 'SERVICIO NACIONAL DE PESCA'}, {'CodigoEmpresa': '7033', 'NombreEmpresa': 'Servicio Nacional de Pesca VI Región'}, {'CodigoEmpresa': '1468521', 'NombreEmpresa': 'SERVICIO NACIONAL DE SALUD HOSPITAL CARLOS VAN BUREN'}, {'CodigoEmpresa': '116754', 'NombreEmpresa': 'SERVICIO NACIONAL DE SALUD HOSPITAL DE C'}, {'CodigoEmpresa': '7332', 'NombreEmpresa': 'SERVICIO NACIONAL DE SALUD HOSPITAL DE CORONEL'}, {'CodigoEmpresa': '7190', 'NombreEmpresa': 'SERVICIO NACIONAL DE TURISMO'}, {'CodigoEmpresa': '7032', 'NombreEmpresa': 'SERVICIO NACIONAL DEL ADULTO MAYOR'}, {'CodigoEmpresa': '7230', 'NombreEmpresa': 'Servicio Nacional del Consumidor - SERNAC'}, {'CodigoEmpresa': '7011', 'NombreEmpresa': 'SERVICIO NACIONAL DEL PATRIMONIO CULTURAL'}, {'CodigoEmpresa': '278907', 'NombreEmpresa': 'Servicio Regional de la Vivienda y Urbanización Arica y Parinacota'}, {'CodigoEmpresa': '7433', 'NombreEmpresa': 'SERVICIO SALUD ARAUCANIA NORTE HOSPITAL CURACAUTIN'}, {'CodigoEmpresa': '7104', 'NombreEmpresa': 'SERVICIO SALUD DEL RELONCAVI'}, {'CodigoEmpresa': '6923', 'NombreEmpresa': 'SERVIU I Región'}, {'CodigoEmpresa': '6974', 'NombreEmpresa': 'SERVIU II Región'}, {'CodigoEmpresa': '6972', 'NombreEmpresa': 'SERVIU IV Región'}, {'CodigoEmpresa': '6980', 'NombreEmpresa': 'SERVIU IX Region'}, {'CodigoEmpresa': '6975', 'NombreEmpresa': 'SERVIU REGION DE ATACAMA'}, {'CodigoEmpresa': '6979', 'NombreEmpresa': 'SERVIU REGION DEL BIO BIO'}, {'CodigoEmpresa': '6968', 'NombreEmpresa': 'SERVIU V Región'}, {'CodigoEmpresa': '6977', 'NombreEmpresa': 'SERVIU VI Región'}, {'CodigoEmpresa': '6978', 'NombreEmpresa': 'SERVIU VII Región'}, {'CodigoEmpresa': '6981', 'NombreEmpresa': 'SERVIU X Región'}, {'CodigoEmpresa': '6982', 'NombreEmpresa': 'SERVIU XI Región'}, {'CodigoEmpresa': '6964', 'NombreEmpresa': 'SERVIU XII Región y Antartica Chilena'}, {'CodigoEmpresa': '7333', 'NombreEmpresa': 'Subdirección del Ambiente Servicio de Salud Thno.'}, {'CodigoEmpresa': '7065', 'NombreEmpresa': 'Subsecretaría de Aviación'}, {'CodigoEmpresa': '7036', 'NombreEmpresa': 'Subsecretaría de Carabineros'}, {'CodigoEmpresa': '1689493', 'NombreEmpresa': 'SUBSECRETARIA DE CIENCIA, TECNOLOGIA, CONOCIMIENTO E INNOVACION'}, {'CodigoEmpresa': '7081', 'NombreEmpresa': 'Subsecretaría de Desarrollo Regional'}, {'CodigoEmpresa': '7078', 'NombreEmpresa': 'SubSecretaria de Economía y Empresas de Menor Tamaño'}, {'CodigoEmpresa': '1155673', 'NombreEmpresa': 'Subsecretaría de Energía'}, {'CodigoEmpresa': '6943', 'NombreEmpresa': 'Subsecretaría de Hacienda'}, {'CodigoEmpresa': '7217', 'NombreEmpresa': 'Subsecretaría de Investigaciones'}, {'CodigoEmpresa': '7080', 'NombreEmpresa': 'Subsecretaría de Justicia'}, {'CodigoEmpresa': '7359', 'NombreEmpresa': 'SUBSECRETARÍA DE LAS CULTURAS Y LAS ARTES'}, {'CodigoEmpresa': '7221', 'NombreEmpresa': 'Subsecretaría de Marina'}, {'CodigoEmpresa': '7018', 'NombreEmpresa': 'Subsecretaría de Minería'}, {'CodigoEmpresa': '7211', 'NombreEmpresa': 'Subsecretaría de Pesca y Acuicultura'}, {'CodigoEmpresa': '7191', 'NombreEmpresa': 'Subsecretaría de Previsión Social'}, {'CodigoEmpresa': '7227', 'NombreEmpresa': 'Subsecretaría de R.R.E.E.'}, {'CodigoEmpresa': '1674041', 'NombreEmpresa': 'Subsecretaría de Relaciones Económicas Internacionales'}, {'CodigoEmpresa': '7079', 'NombreEmpresa': 'Subsecretaría de Salud Pública'}, {'CodigoEmpresa': '6947', 'NombreEmpresa': 'Subsecretaría de Servicios Sociales'}, {'CodigoEmpresa': '6934', 'NombreEmpresa': 'Subsecretaría de Telecomunicaciones'}, {'CodigoEmpresa': '7007', 'NombreEmpresa': 'Subsecretaría de Transportes'}, {'CodigoEmpresa': '1198788', 'NombreEmpresa': 'Subsecretaría del Medio Ambiente'}, {'CodigoEmpresa': '7189', 'NombreEmpresa': 'SUBSECRETARIA DEL MINISTERIO DE AGRICULT'}, {'CodigoEmpresa': '6958', 'NombreEmpresa': 'SUBSECRETARIA DEL MINISTERIO DE EDUCACION PUBLICA'}, {'CodigoEmpresa': '6951', 'NombreEmpresa': 'SUBSECRETARIA DEL MINISTERIO DE LA VIVIENDA Y URBANISMO'}, {'CodigoEmpresa': '6939', 'NombreEmpresa': 'Subsecretaria del Trabajo'}, {'CodigoEmpresa': '128260', 'NombreEmpresa': 'SUPERINTENDENCIA DE CASINOS DE JUEGO'}, {'CodigoEmpresa': '7232', 'NombreEmpresa': 'Superintendencia de Electricidad y Combustibles'}, {'CodigoEmpresa': '7181', 'NombreEmpresa': 'Superintendencia de Insolvencia y Reemprendimiento'}, {'CodigoEmpresa': '93096', 'NombreEmpresa': 'Superintendencia de Pensiones'}, {'CodigoEmpresa': '6930', 'NombreEmpresa': 'Superintendencia de Salud'}, {'CodigoEmpresa': '7114', 'NombreEmpresa': 'Superintendencia de Seguridad Social'}, {'CodigoEmpresa': '7192', 'NombreEmpresa': 'Superintendencia de Servicios Sanitarios'}, {'CodigoEmpresa': '6956', 'NombreEmpresa': 'Tesorería General de la República'}, {'CodigoEmpresa': '1083414', 'NombreEmpresa': 'UNIDAD ADMINISTRADORA DE LOS TRIBUNALES TRIBUTARIOS Y ADUANEROS'}, {'CodigoEmpresa': '85017', 'NombreEmpresa': 'Unidad de Analisis Financiero'}, {'CodigoEmpresa': '7254', 'NombreEmpresa': 'UNIVERSIDAD ARTURO PRAT SEDE IQUIQUE'}, {'CodigoEmpresa': '130585', 'NombreEmpresa': 'Universidad de Antofagasta'}, {'CodigoEmpresa': '103916', 'NombreEmpresa': 'universidad de atacama'}, {'CodigoEmpresa': '7251', 'NombreEmpresa': 'Universidad de Chile'}, {'CodigoEmpresa': '277559', 'NombreEmpresa': 'Universidad de la Frontera'}, {'CodigoEmpresa': '7319', 'NombreEmpresa': 'Universidad de La Serena'}, {'CodigoEmpresa': '266724', 'NombreEmpresa': 'Universidad de Los Lagos'}, {'CodigoEmpresa': '257227', 'NombreEmpresa': 'Universidad de Magallanes'}, {'CodigoEmpresa': '130972', 'NombreEmpresa': 'UNIVERSIDAD DE PLAYA ANCHA DE CIENCIAS DE LA EDUC.'}, {'CodigoEmpresa': '212299', 'NombreEmpresa': 'Universidad de Santiago de Chile'}, {'CodigoEmpresa': '7147', 'NombreEmpresa': 'Universidad de Talca'}, {'CodigoEmpresa': '204439', 'NombreEmpresa': 'Universidad de Tarapacá'}, {'CodigoEmpresa': '96996', 'NombreEmpresa': 'Universidad de Valparaíso'}, {'CodigoEmpresa': '99805', 'NombreEmpresa': 'Universidad del Bío-Bío'}, {'CodigoEmpresa': '164268', 'NombreEmpresa': 'UNIVERSIDAD METROPOLITANA DE CIENCIAS DE LA EDUCAC'}, {'CodigoEmpresa': '126109', 'NombreEmpresa': 'UNIVERSIDAD TECNOLOGICA METROPOLITANA'}, {'CodigoEmpresa': '7438', 'NombreEmpresa': 'Zona Franca de Iquique'}]}\n"
          ],
          "name": "stdout"
        }
      ]
    },
    {
      "cell_type": "code",
      "metadata": {
        "id": "NlXr2lHE0mWg",
        "outputId": "16315716-e011-41de-dcde-c53b0a7fe7fd",
        "colab": {
          "base_uri": "https://localhost:8080/",
          "height": 161
        }
      },
      "source": [
        "licitaciones = respuestajson2[\"Listado\"]"
      ],
      "execution_count": 180,
      "outputs": [
        {
          "output_type": "error",
          "ename": "KeyError",
          "evalue": "ignored",
          "traceback": [
            "\u001b[0;31m---------------------------------------------------------------------------\u001b[0m",
            "\u001b[0;31mKeyError\u001b[0m                                  Traceback (most recent call last)",
            "\u001b[0;32m<ipython-input-180-9b2575dcad0d>\u001b[0m in \u001b[0;36m<module>\u001b[0;34m()\u001b[0m\n\u001b[0;32m----> 1\u001b[0;31m \u001b[0mlicitaciones\u001b[0m \u001b[0;34m=\u001b[0m \u001b[0mrespuestajson2\u001b[0m\u001b[0;34m[\u001b[0m\u001b[0;34m\"Listado\"\u001b[0m\u001b[0;34m]\u001b[0m\u001b[0;34m\u001b[0m\u001b[0;34m\u001b[0m\u001b[0m\n\u001b[0m",
            "\u001b[0;31mKeyError\u001b[0m: 'Listado'"
          ]
        }
      ]
    },
    {
      "cell_type": "markdown",
      "metadata": {
        "id": "eM-x2OBWzspn"
      },
      "source": [
        "## **Ejercicio - Código de un Proveedor indicando el rut**"
      ]
    },
    {
      "cell_type": "markdown",
      "metadata": {
        "id": "t0K5qf_w7Let"
      },
      "source": [
        "### **Formato base con estructura de importacion**\n",
        "\n"
      ]
    },
    {
      "cell_type": "code",
      "metadata": {
        "id": "PmdwJRHC7Qkq"
      },
      "source": [
        "# ticket mercado publico de on iñaki abaroa schilling= 81D9D50E-E3EA-41F5-A456-0AD2B42E6D80\n",
        "\n",
        "#import json\n",
        "#import requests\n",
        "#import pandas as pd\n",
        "\n",
        "#url1 = \"http://api.mercadopublico.cl/servicios/v1/publico/licitaciones.json?fecha=21102020&ticket=166E1F2D-5FD5-4063-BA75-CFA20CE6798B\"\n",
        "\n",
        "#respuesta1=requests.request(\"GET\", url1)\n",
        "#print(respuesta1)\n",
        "\n",
        "#----------------------------------------------------------------------------------------------------------------------\n",
        "\n",
        "#print(respuesta1.headers)\n",
        "\n",
        "#----------------------------------------------------------------------------------------------------------------------\n",
        "\n",
        "#respuesta1.text\n",
        "\n",
        "#----------------------------------------------------------------------------------------------------------------------\n",
        "\n",
        "#respuestajson = json.loads(respuesta1.text)\n",
        "\n",
        "#----------------------------------------------------------------------------------------------------------------------\n",
        "\n",
        "#type(respuestajson)\n",
        "\n",
        "#----------------------------------------------------------------------------------------------------------------------\n",
        "\n",
        "#print(respuestajson)\n",
        "\n",
        "#----------------------------------------------------------------------------------------------------------------------\n",
        "\n",
        "#licitaciones = respuestajson[\"Listado\"]\n",
        "\n",
        "#----------------------------------------------------------------------------------------------------------------------\n",
        "\n",
        "#licitaciones\n",
        "\n",
        "#----------------------------------------------------------------------------------------------------------------------\n",
        "\n",
        "#df_licitaciones_todos = pd.DataFrame(licitaciones, columns=['CodigoExterno','Nombre','CodigoEstado','FechaCierre'])\n",
        "\n",
        "#----------------------------------------------------------------------------------------------------------------------\n",
        "\n",
        "#df_licitaciones_todos\n",
        "\n",
        "#----------------------------------------------------------------------------------------------------------------------\n",
        "\n",
        "#cantidad = df_licitaciones_todos[\"Nombre\"].value_counts()\n",
        "\n",
        "#----------------------------------------------------------------------------------------------------------------------\n",
        "\n",
        "#print(cantidad.count())\n",
        "\n",
        "#----------------------------------------------------------------------------------------------------------------------\n",
        "\n",
        "#df_licitaciones_todos.shape\n",
        "\n",
        "#----------------------------------------------------------------------------------------------------------------------\n",
        "\n",
        "#df_licitaciones_todos.head(1)\n",
        "\n",
        "#----------------------------------------------------------------------------------------------------------------------"
      ],
      "execution_count": null,
      "outputs": []
    },
    {
      "cell_type": "markdown",
      "metadata": {
        "id": "5wjrcDatysyl"
      },
      "source": [
        "# **Pruebas**"
      ]
    },
    {
      "cell_type": "markdown",
      "metadata": {
        "id": "fog486USRp9I"
      },
      "source": [
        "### **Tipos de formato solicitud**"
      ]
    },
    {
      "cell_type": "code",
      "metadata": {
        "id": "zZFj8_kAkO6N",
        "outputId": "cd8748be-de31-4910-9152-a55ef77333a5",
        "colab": {
          "base_uri": "https://localhost:8080/",
          "height": 33
        }
      },
      "source": [
        "#Formato JSON:\n",
        "\n",
        "url1 = \"http://api.mercadopublico.cl/servicios/v1/publico/licitaciones.json?fecha=20102020&ticket=166E1F2D-5FD5-4063-BA75-CFA20CE6798B\"\n",
        "\n",
        "respuesta1=requests.request(\"GET\", url1)\n",
        "print(respuesta1)"
      ],
      "execution_count": null,
      "outputs": [
        {
          "output_type": "stream",
          "text": [
            "<Response [200]>\n"
          ],
          "name": "stdout"
        }
      ]
    },
    {
      "cell_type": "code",
      "metadata": {
        "id": "9CxVe7JbNcvg",
        "outputId": "f75988de-e692-41db-ffed-73cc009d1bc3",
        "colab": {
          "base_uri": "https://localhost:8080/",
          "height": 33
        }
      },
      "source": [
        "#Formato JSONP:\n",
        "\n",
        "url2 = \"http://api.mercadopublico.cl/servicios/v1/publico/licitaciones.jsonp?fecha=20102020&callback=respuesta&ticket=81D9D50E-E3EA-41F5-A456-0AD2B42E6D80\"\n",
        "\n",
        "respuesta2=requests.request(\"GET\", url2)\n",
        "print(respuesta1)"
      ],
      "execution_count": null,
      "outputs": [
        {
          "output_type": "stream",
          "text": [
            "<Response [200]>\n"
          ],
          "name": "stdout"
        }
      ]
    },
    {
      "cell_type": "code",
      "metadata": {
        "id": "S3IpiFuIOc5N",
        "outputId": "859d97f4-b752-46e1-c645-d6b5d7930855",
        "colab": {
          "base_uri": "https://localhost:8080/",
          "height": 53
        }
      },
      "source": [
        "print(respuesta2.headers)"
      ],
      "execution_count": null,
      "outputs": [
        {
          "output_type": "stream",
          "text": [
            "{'Cache-Control': 'no-cache', 'Pragma': 'no-cache', 'Content-Type': 'application/json; charset=utf-8', 'Expires': '-1', 'Server': 'Microsoft-IIS/7.5', 'X-AspNet-Version': '4.0.30319', 'X-Powered-By': 'ASP.NET', 'Set-Cookie': 'dtCookie=1$2B9D7D4D4A05A3414B0E08CFE4FA4CA2; Path=/; Domain=.mercadopublico.cl', 'Date': 'Tue, 20 Oct 2020 18:07:34 GMT', 'Content-Length': '115740'}\n"
          ],
          "name": "stdout"
        }
      ]
    },
    {
      "cell_type": "code",
      "metadata": {
        "id": "lEgY55aDNe1d",
        "outputId": "551c2bf3-a109-4e44-bc1c-c57b96e3134e",
        "colab": {
          "base_uri": "https://localhost:8080/",
          "height": 33
        }
      },
      "source": [
        "#Formato XML:\n",
        "\n",
        "url3 = \"http://api.mercadopublico.cl/servicios/v1/publico/licitaciones.xml?fecha=20102020&ticket=81D9D50E-E3EA-41F5-A456-0AD2B42E6D80\"\n",
        "\n",
        "respuesta3=requests.request(\"GET\", url3)\n",
        "print(respuesta1)"
      ],
      "execution_count": null,
      "outputs": [
        {
          "output_type": "stream",
          "text": [
            "<Response [200]>\n"
          ],
          "name": "stdout"
        }
      ]
    },
    {
      "cell_type": "markdown",
      "metadata": {
        "id": "y_TvMRDm1z4U"
      },
      "source": [
        "### **Solicitud en formato JSON**"
      ]
    },
    {
      "cell_type": "code",
      "metadata": {
        "id": "PF5W9jTp2DTc",
        "outputId": "78215be3-3e67-4809-f08e-2d76fa5c307d",
        "colab": {
          "base_uri": "https://localhost:8080/",
          "height": 33
        }
      },
      "source": [
        "#Formato JSON:\n",
        "\n",
        "import json\n",
        "import requests\n",
        "import pandas as pd\n",
        "\n",
        "url1 = \"http://api.mercadopublico.cl/servicios/v1/publico/licitaciones.json?fecha=21102020&ticket=166E1F2D-5FD5-4063-BA75-CFA20CE6798B\"\n",
        "\n",
        "respuesta1=requests.request(\"GET\", url1)\n",
        "print(respuesta1)"
      ],
      "execution_count": 15,
      "outputs": [
        {
          "output_type": "stream",
          "text": [
            "<Response [200]>\n"
          ],
          "name": "stdout"
        }
      ]
    },
    {
      "cell_type": "code",
      "metadata": {
        "id": "O7-CEXeIOiZ7",
        "outputId": "e9d7367d-f522-4376-e546-22fff2a33703",
        "colab": {
          "base_uri": "https://localhost:8080/",
          "height": 53
        }
      },
      "source": [
        "print(respuesta1.headers)"
      ],
      "execution_count": 16,
      "outputs": [
        {
          "output_type": "stream",
          "text": [
            "{'Cache-Control': 'no-cache', 'Pragma': 'no-cache', 'Content-Type': 'application/json; charset=utf-8', 'Expires': '-1', 'Server': 'Microsoft-IIS/7.5', 'X-AspNet-Version': '4.0.30319', 'X-Powered-By': 'ASP.NET', 'Set-Cookie': 'dtCookie=3$84D9E7DE344B43D9FEF340DD07C89FF2; Path=/; Domain=.mercadopublico.cl', 'Date': 'Wed, 21 Oct 2020 11:11:13 GMT', 'Content-Length': '1168'}\n"
          ],
          "name": "stdout"
        }
      ]
    },
    {
      "cell_type": "code",
      "metadata": {
        "id": "sJq1mtgNRp8_",
        "outputId": "9dfc4a14-cdec-43c3-ef1f-b8d9c2c425c1",
        "colab": {
          "base_uri": "https://localhost:8080/",
          "height": 118
        }
      },
      "source": [
        "respuesta1.text"
      ],
      "execution_count": 19,
      "outputs": [
        {
          "output_type": "execute_result",
          "data": {
            "application/vnd.google.colaboratory.intrinsic+json": {
              "type": "string"
            },
            "text/plain": [
              "'{\"Cantidad\":8,\"FechaCreacion\":\"2020-10-21T08:11:14.337\",\"Version\":\"v1\",\"Listado\":[{\"CodigoExterno\":\"1079155-1-LE20\",\"Nombre\":\"PRUEBA\",\"CodigoEstado\":8,\"FechaCierre\":\"2020-10-20T23:19:34.663\"},{\"CodigoExterno\":\"1464-80-LE20\",\"Nombre\":\"Reactivos de Laboratorio\",\"CodigoEstado\":8,\"FechaCierre\":\"2020-10-15T11:00:00\"},{\"CodigoExterno\":\"2277-24-LE20\",\"Nombre\":\"Clasificación de riesgo fianciero M. Pudahuel\",\"CodigoEstado\":15,\"FechaCierre\":\"2020-10-21T07:45:39.887\"},{\"CodigoExterno\":\"643-12-LE20\",\"Nombre\":\"SERVICIO GUARDIAS DE SEGURIDAD CAMPING PELANCURA\",\"CodigoEstado\":8,\"FechaCierre\":\"2020-10-05T15:01:00\"},{\"CodigoExterno\":\"643-13-LE20\",\"Nombre\":\"SERVICIO GUARDIAS DE SEGURIDAD VALPARAÍSO\",\"CodigoEstado\":8,\"FechaCierre\":\"2020-10-05T15:01:00\"},{\"CodigoExterno\":\"1896-29-O120\",\"Nombre\":\"Conservación Ptes. Quildaco Mui y Curamin, Hualaih\",\"CodigoEstado\":6,\"FechaCierre\":\"2020-10-21T08:00:00\"},{\"CodigoExterno\":\"2658-178-L120\",\"Nombre\":\"CONTRATACION DE SERVICIO\",\"CodigoEstado\":5,\"FechaCierre\":\"2020-10-28T14:13:00\"},{\"CodigoExterno\":\"3371-21-LE20\",\"Nombre\":\"FDOS PPTO - SERVICIO DE TRANSPORTE PARA PLEBISCITO\",\"CodigoEstado\":8,\"FechaCierre\":\"2020-10-19T15:00:00\"}]}'"
            ]
          },
          "metadata": {
            "tags": []
          },
          "execution_count": 19
        }
      ]
    },
    {
      "cell_type": "code",
      "metadata": {
        "id": "lCgaVmrxRp9K"
      },
      "source": [
        "respuestajson = json.loads(respuesta1.text)"
      ],
      "execution_count": 20,
      "outputs": []
    },
    {
      "cell_type": "code",
      "metadata": {
        "id": "tfivpeFARp9U",
        "outputId": "065596a3-0ab4-4352-dbae-eec0989455c3",
        "colab": {
          "base_uri": "https://localhost:8080/",
          "height": 33
        }
      },
      "source": [
        "type(respuestajson)"
      ],
      "execution_count": 22,
      "outputs": [
        {
          "output_type": "execute_result",
          "data": {
            "text/plain": [
              "dict"
            ]
          },
          "metadata": {
            "tags": []
          },
          "execution_count": 22
        }
      ]
    },
    {
      "cell_type": "code",
      "metadata": {
        "id": "bnFSEdHRRp9n",
        "outputId": "a39071de-98cc-4059-c758-bb473baa127b",
        "colab": {
          "base_uri": "https://localhost:8080/",
          "height": 53
        }
      },
      "source": [
        "print(respuestajson)"
      ],
      "execution_count": 23,
      "outputs": [
        {
          "output_type": "stream",
          "text": [
            "{'Cantidad': 8, 'FechaCreacion': '2020-10-21T08:11:14.337', 'Version': 'v1', 'Listado': [{'CodigoExterno': '1079155-1-LE20', 'Nombre': 'PRUEBA', 'CodigoEstado': 8, 'FechaCierre': '2020-10-20T23:19:34.663'}, {'CodigoExterno': '1464-80-LE20', 'Nombre': 'Reactivos de Laboratorio', 'CodigoEstado': 8, 'FechaCierre': '2020-10-15T11:00:00'}, {'CodigoExterno': '2277-24-LE20', 'Nombre': 'Clasificación de riesgo fianciero M. Pudahuel', 'CodigoEstado': 15, 'FechaCierre': '2020-10-21T07:45:39.887'}, {'CodigoExterno': '643-12-LE20', 'Nombre': 'SERVICIO GUARDIAS DE SEGURIDAD CAMPING PELANCURA', 'CodigoEstado': 8, 'FechaCierre': '2020-10-05T15:01:00'}, {'CodigoExterno': '643-13-LE20', 'Nombre': 'SERVICIO GUARDIAS DE SEGURIDAD VALPARAÍSO', 'CodigoEstado': 8, 'FechaCierre': '2020-10-05T15:01:00'}, {'CodigoExterno': '1896-29-O120', 'Nombre': 'Conservación Ptes. Quildaco Mui y Curamin, Hualaih', 'CodigoEstado': 6, 'FechaCierre': '2020-10-21T08:00:00'}, {'CodigoExterno': '2658-178-L120', 'Nombre': 'CONTRATACION DE SERVICIO', 'CodigoEstado': 5, 'FechaCierre': '2020-10-28T14:13:00'}, {'CodigoExterno': '3371-21-LE20', 'Nombre': 'FDOS PPTO - SERVICIO DE TRANSPORTE PARA PLEBISCITO', 'CodigoEstado': 8, 'FechaCierre': '2020-10-19T15:00:00'}]}\n"
          ],
          "name": "stdout"
        }
      ]
    },
    {
      "cell_type": "code",
      "metadata": {
        "id": "IBVmAcnXRp90"
      },
      "source": [
        "licitaciones = respuestajson[\"Listado\"]"
      ],
      "execution_count": 25,
      "outputs": []
    },
    {
      "cell_type": "code",
      "metadata": {
        "id": "MuufTC54Rp98",
        "outputId": "ccdaf396-9152-4fef-b8f6-445c245b0656",
        "colab": {
          "base_uri": "https://localhost:8080/",
          "height": 537
        }
      },
      "source": [
        "licitaciones"
      ],
      "execution_count": 28,
      "outputs": [
        {
          "output_type": "execute_result",
          "data": {
            "text/plain": [
              "[{'CodigoEstado': 8,\n",
              "  'CodigoExterno': '1079155-1-LE20',\n",
              "  'FechaCierre': '2020-10-20T23:19:34.663',\n",
              "  'Nombre': 'PRUEBA'},\n",
              " {'CodigoEstado': 8,\n",
              "  'CodigoExterno': '1464-80-LE20',\n",
              "  'FechaCierre': '2020-10-15T11:00:00',\n",
              "  'Nombre': 'Reactivos de Laboratorio'},\n",
              " {'CodigoEstado': 15,\n",
              "  'CodigoExterno': '2277-24-LE20',\n",
              "  'FechaCierre': '2020-10-21T07:45:39.887',\n",
              "  'Nombre': 'Clasificación de riesgo fianciero M. Pudahuel'},\n",
              " {'CodigoEstado': 8,\n",
              "  'CodigoExterno': '643-12-LE20',\n",
              "  'FechaCierre': '2020-10-05T15:01:00',\n",
              "  'Nombre': 'SERVICIO GUARDIAS DE SEGURIDAD CAMPING PELANCURA'},\n",
              " {'CodigoEstado': 8,\n",
              "  'CodigoExterno': '643-13-LE20',\n",
              "  'FechaCierre': '2020-10-05T15:01:00',\n",
              "  'Nombre': 'SERVICIO GUARDIAS DE SEGURIDAD VALPARAÍSO'},\n",
              " {'CodigoEstado': 6,\n",
              "  'CodigoExterno': '1896-29-O120',\n",
              "  'FechaCierre': '2020-10-21T08:00:00',\n",
              "  'Nombre': 'Conservación Ptes. Quildaco Mui y Curamin, Hualaih'},\n",
              " {'CodigoEstado': 5,\n",
              "  'CodigoExterno': '2658-178-L120',\n",
              "  'FechaCierre': '2020-10-28T14:13:00',\n",
              "  'Nombre': 'CONTRATACION DE SERVICIO'},\n",
              " {'CodigoEstado': 8,\n",
              "  'CodigoExterno': '3371-21-LE20',\n",
              "  'FechaCierre': '2020-10-19T15:00:00',\n",
              "  'Nombre': 'FDOS PPTO - SERVICIO DE TRANSPORTE PARA PLEBISCITO'}]"
            ]
          },
          "metadata": {
            "tags": []
          },
          "execution_count": 28
        }
      ]
    },
    {
      "cell_type": "code",
      "metadata": {
        "id": "j9LAgPVORp-F"
      },
      "source": [
        "import pandas as pd"
      ],
      "execution_count": 29,
      "outputs": []
    },
    {
      "cell_type": "code",
      "metadata": {
        "id": "25XNiGPqRp-g"
      },
      "source": [
        "df_licitaciones_todos = pd.DataFrame(licitaciones, columns=['CodigoExterno','Nombre','CodigoEstado','FechaCierre'])"
      ],
      "execution_count": 30,
      "outputs": []
    },
    {
      "cell_type": "code",
      "metadata": {
        "scrolled": true,
        "id": "HiSzQpNxRp-o",
        "outputId": "3444bff7-d25f-49a9-b265-0f8135262633",
        "colab": {
          "base_uri": "https://localhost:8080/",
          "height": 277
        }
      },
      "source": [
        "df_licitaciones_todos"
      ],
      "execution_count": 31,
      "outputs": [
        {
          "output_type": "execute_result",
          "data": {
            "text/html": [
              "<div>\n",
              "<style scoped>\n",
              "    .dataframe tbody tr th:only-of-type {\n",
              "        vertical-align: middle;\n",
              "    }\n",
              "\n",
              "    .dataframe tbody tr th {\n",
              "        vertical-align: top;\n",
              "    }\n",
              "\n",
              "    .dataframe thead th {\n",
              "        text-align: right;\n",
              "    }\n",
              "</style>\n",
              "<table border=\"1\" class=\"dataframe\">\n",
              "  <thead>\n",
              "    <tr style=\"text-align: right;\">\n",
              "      <th></th>\n",
              "      <th>CodigoExterno</th>\n",
              "      <th>Nombre</th>\n",
              "      <th>CodigoEstado</th>\n",
              "      <th>FechaCierre</th>\n",
              "    </tr>\n",
              "  </thead>\n",
              "  <tbody>\n",
              "    <tr>\n",
              "      <th>0</th>\n",
              "      <td>1079155-1-LE20</td>\n",
              "      <td>PRUEBA</td>\n",
              "      <td>8</td>\n",
              "      <td>2020-10-20T23:19:34.663</td>\n",
              "    </tr>\n",
              "    <tr>\n",
              "      <th>1</th>\n",
              "      <td>1464-80-LE20</td>\n",
              "      <td>Reactivos de Laboratorio</td>\n",
              "      <td>8</td>\n",
              "      <td>2020-10-15T11:00:00</td>\n",
              "    </tr>\n",
              "    <tr>\n",
              "      <th>2</th>\n",
              "      <td>2277-24-LE20</td>\n",
              "      <td>Clasificación de riesgo fianciero M. Pudahuel</td>\n",
              "      <td>15</td>\n",
              "      <td>2020-10-21T07:45:39.887</td>\n",
              "    </tr>\n",
              "    <tr>\n",
              "      <th>3</th>\n",
              "      <td>643-12-LE20</td>\n",
              "      <td>SERVICIO GUARDIAS DE SEGURIDAD CAMPING PELANCURA</td>\n",
              "      <td>8</td>\n",
              "      <td>2020-10-05T15:01:00</td>\n",
              "    </tr>\n",
              "    <tr>\n",
              "      <th>4</th>\n",
              "      <td>643-13-LE20</td>\n",
              "      <td>SERVICIO GUARDIAS DE SEGURIDAD VALPARAÍSO</td>\n",
              "      <td>8</td>\n",
              "      <td>2020-10-05T15:01:00</td>\n",
              "    </tr>\n",
              "    <tr>\n",
              "      <th>5</th>\n",
              "      <td>1896-29-O120</td>\n",
              "      <td>Conservación Ptes. Quildaco Mui y Curamin, Hua...</td>\n",
              "      <td>6</td>\n",
              "      <td>2020-10-21T08:00:00</td>\n",
              "    </tr>\n",
              "    <tr>\n",
              "      <th>6</th>\n",
              "      <td>2658-178-L120</td>\n",
              "      <td>CONTRATACION DE SERVICIO</td>\n",
              "      <td>5</td>\n",
              "      <td>2020-10-28T14:13:00</td>\n",
              "    </tr>\n",
              "    <tr>\n",
              "      <th>7</th>\n",
              "      <td>3371-21-LE20</td>\n",
              "      <td>FDOS PPTO - SERVICIO DE TRANSPORTE PARA PLEBIS...</td>\n",
              "      <td>8</td>\n",
              "      <td>2020-10-19T15:00:00</td>\n",
              "    </tr>\n",
              "  </tbody>\n",
              "</table>\n",
              "</div>"
            ],
            "text/plain": [
              "    CodigoExterno  ...              FechaCierre\n",
              "0  1079155-1-LE20  ...  2020-10-20T23:19:34.663\n",
              "1    1464-80-LE20  ...      2020-10-15T11:00:00\n",
              "2    2277-24-LE20  ...  2020-10-21T07:45:39.887\n",
              "3     643-12-LE20  ...      2020-10-05T15:01:00\n",
              "4     643-13-LE20  ...      2020-10-05T15:01:00\n",
              "5    1896-29-O120  ...      2020-10-21T08:00:00\n",
              "6   2658-178-L120  ...      2020-10-28T14:13:00\n",
              "7    3371-21-LE20  ...      2020-10-19T15:00:00\n",
              "\n",
              "[8 rows x 4 columns]"
            ]
          },
          "metadata": {
            "tags": []
          },
          "execution_count": 31
        }
      ]
    },
    {
      "cell_type": "code",
      "metadata": {
        "id": "c4G6SjhoRp-v"
      },
      "source": [
        "cantidad = df_licitaciones_todos[\"Nombre\"].value_counts()"
      ],
      "execution_count": 32,
      "outputs": []
    },
    {
      "cell_type": "code",
      "metadata": {
        "id": "EIrDVCFBRp-1",
        "outputId": "14c605d4-8009-4eba-f0e7-9ea55622100d",
        "colab": {
          "base_uri": "https://localhost:8080/",
          "height": 33
        }
      },
      "source": [
        "print(cantidad.count())"
      ],
      "execution_count": 33,
      "outputs": [
        {
          "output_type": "stream",
          "text": [
            "8\n"
          ],
          "name": "stdout"
        }
      ]
    },
    {
      "cell_type": "code",
      "metadata": {
        "id": "cABRVVpJRp--",
        "outputId": "0397676e-e500-459d-97df-f12bf8f5dabb",
        "colab": {
          "base_uri": "https://localhost:8080/",
          "height": 33
        }
      },
      "source": [
        "df_licitaciones_todos.shape"
      ],
      "execution_count": 34,
      "outputs": [
        {
          "output_type": "execute_result",
          "data": {
            "text/plain": [
              "(8, 4)"
            ]
          },
          "metadata": {
            "tags": []
          },
          "execution_count": 34
        }
      ]
    },
    {
      "cell_type": "code",
      "metadata": {
        "id": "V8PTiKLzRUxS",
        "outputId": "1004fb40-11f4-4330-d140-297443fcb8f1",
        "colab": {
          "base_uri": "https://localhost:8080/",
          "height": 76
        }
      },
      "source": [
        "df_licitaciones_todos.head(1)"
      ],
      "execution_count": 35,
      "outputs": [
        {
          "output_type": "execute_result",
          "data": {
            "text/html": [
              "<div>\n",
              "<style scoped>\n",
              "    .dataframe tbody tr th:only-of-type {\n",
              "        vertical-align: middle;\n",
              "    }\n",
              "\n",
              "    .dataframe tbody tr th {\n",
              "        vertical-align: top;\n",
              "    }\n",
              "\n",
              "    .dataframe thead th {\n",
              "        text-align: right;\n",
              "    }\n",
              "</style>\n",
              "<table border=\"1\" class=\"dataframe\">\n",
              "  <thead>\n",
              "    <tr style=\"text-align: right;\">\n",
              "      <th></th>\n",
              "      <th>CodigoExterno</th>\n",
              "      <th>Nombre</th>\n",
              "      <th>CodigoEstado</th>\n",
              "      <th>FechaCierre</th>\n",
              "    </tr>\n",
              "  </thead>\n",
              "  <tbody>\n",
              "    <tr>\n",
              "      <th>0</th>\n",
              "      <td>1079155-1-LE20</td>\n",
              "      <td>PRUEBA</td>\n",
              "      <td>8</td>\n",
              "      <td>2020-10-20T23:19:34.663</td>\n",
              "    </tr>\n",
              "  </tbody>\n",
              "</table>\n",
              "</div>"
            ],
            "text/plain": [
              "    CodigoExterno  Nombre  CodigoEstado              FechaCierre\n",
              "0  1079155-1-LE20  PRUEBA             8  2020-10-20T23:19:34.663"
            ]
          },
          "metadata": {
            "tags": []
          },
          "execution_count": 35
        }
      ]
    },
    {
      "cell_type": "markdown",
      "metadata": {
        "id": "u2gpVD6rR0Tn"
      },
      "source": [
        "### **Prueba Por {código} de licitación:**"
      ]
    },
    {
      "cell_type": "code",
      "metadata": {
        "id": "ULloKLgBR4LV",
        "outputId": "e56cb6a3-cbc7-40db-a8a4-b28db20c32ff",
        "colab": {
          "base_uri": "https://localhost:8080/",
          "height": 33
        }
      },
      "source": [
        "# Ejemplo de {codigo} = 1509-5-L114\n",
        "\n",
        "import json\n",
        "import requests\n",
        "import pandas as pd\n",
        "\n",
        "url1 = \"http://api.mercadopublico.cl/servicios/v1/publico/licitaciones.json?codigo=1509-5-L114&ticket=81D9D50E-E3EA-41F5-A456-0AD2B42E6D80\"\n",
        "\n",
        "respuesta1=requests.request(\"GET\", url1)\n",
        "print(respuesta1)"
      ],
      "execution_count": 66,
      "outputs": [
        {
          "output_type": "stream",
          "text": [
            "<Response [200]>\n"
          ],
          "name": "stdout"
        }
      ]
    },
    {
      "cell_type": "code",
      "metadata": {
        "id": "UJd7Mv5b93l7",
        "outputId": "5481e348-3f11-4040-fa39-3e25326b4a61",
        "colab": {
          "base_uri": "https://localhost:8080/",
          "height": 53
        }
      },
      "source": [
        "print(respuesta1.headers)"
      ],
      "execution_count": 67,
      "outputs": [
        {
          "output_type": "stream",
          "text": [
            "{'Cache-Control': 'no-cache', 'Pragma': 'no-cache', 'Content-Type': 'application/json; charset=utf-8', 'Expires': '-1', 'Server': 'Microsoft-IIS/7.5', 'X-AspNet-Version': '4.0.30319', 'X-Powered-By': 'ASP.NET', 'Set-Cookie': 'dtCookie=1$E4A9677C5E862CFE09E0C42AB79D3C6A; Path=/; Domain=.mercadopublico.cl', 'Date': 'Wed, 21 Oct 2020 12:42:32 GMT', 'Content-Length': '5539'}\n"
          ],
          "name": "stdout"
        }
      ]
    },
    {
      "cell_type": "code",
      "metadata": {
        "id": "j-YYjqtd94iZ",
        "outputId": "00e1248c-03bc-482b-f355-2b110211f96a",
        "colab": {
          "base_uri": "https://localhost:8080/",
          "height": 135
        }
      },
      "source": [
        "respuesta1.text"
      ],
      "execution_count": 68,
      "outputs": [
        {
          "output_type": "execute_result",
          "data": {
            "application/vnd.google.colaboratory.intrinsic+json": {
              "type": "string"
            },
            "text/plain": [
              "'{\"Cantidad\":1,\"FechaCreacion\":\"2020-10-21T09:42:32.767\",\"Version\":\"v1\",\"Listado\":[{\"CodigoExterno\":\"1509-5-L114\",\"Nombre\":\"Insumos Medicos y Medicamentos \",\"CodigoEstado\":8,\"Descripcion\":\"se requiere la compra de insumos y medicamentos para la unidad de urgencia y unidad de Hospitalizados del establecimiento de salud.\",\"FechaCierre\":null,\"Estado\":\"Adjudicada\",\"Comprador\":{\"CodigoOrganismo\":\"7274\",\"NombreOrganismo\":\"Hospital Til - Til\",\"RutUnidad\":\"61.608.006-7\",\"CodigoUnidad\":\"2505\",\"NombreUnidad\":\"Hospital Til - Til\",\"DireccionUnidad\":\"Daniel Moya  100\",\"ComunaUnidad\":\"Til Til\",\"RegionUnidad\":\"Región Metropolitana de Santiago\",\"RutUsuario\":\"15.610.153-2\",\"CodigoUsuario\":\"590344\",\"NombreUsuario\":\"Joycie   Valle Chacon\",\"CargoUsuario\":\"Contabilidad\"},\"DiasCierreLicitacion\":\"0\",\"Informada\":0,\"CodigoTipo\":1,\"Tipo\":\"L1\",\"TipoConvocatoria\":\"1\",\"Moneda\":\"CLP\",\"Etapas\":1,\"EstadoEtapas\":\"1\",\"TomaRazon\":\"0\",\"EstadoPublicidadOfertas\":1,\"JustificacionPublicidad\":\"\",\"Contrato\":\"0\",\"Obras\":\"0\",\"CantidadReclamos\":100,\"Fechas\":{\"FechaCreacion\":\"2014-01-20T09:52:56.653\",\"FechaCierre\":\"2014-01-27T15:54:00\",\"FechaInicio\":\"2014-01-20T15:54:00\",\"FechaFinal\":\"2014-01-23T15:54:00\",\"FechaPubRespuestas\":\"2014-01-24T15:54:00\",\"FechaActoAperturaTecnica\":\"2014-01-27T15:55:00\",\"FechaActoAperturaEconomica\":\"2014-01-27T15:55:00\",\"FechaPublicacion\":\"2014-01-20T10:00:17.173\",\"FechaAdjudicacion\":\"2014-02-02T15:42:13.133\",\"FechaEstimadaAdjudicacion\":\"2014-01-31T15:55:00\",\"FechaSoporteFisico\":null,\"FechaTiempoEvaluacion\":null,\"FechaEstimadaFirma\":null,\"FechasUsuario\":null,\"FechaVisitaTerreno\":null,\"FechaEntregaAntecedentes\":null},\"UnidadTiempoEvaluacion\":1,\"DireccionVisita\":\"\",\"DireccionEntrega\":\"\",\"Estimacion\":2,\"FuenteFinanciamiento\":\"\",\"VisibilidadMonto\":0,\"MontoEstimado\":null,\"Tiempo\":null,\"UnidadTiempo\":\"1\",\"Modalidad\":1,\"TipoPago\":\"2\",\"NombreResponsablePago\":\"Veronica Ortega Naranjo\",\"EmailResponsablePago\":\"veronica.ortega@redsalud.gov.cl\",\"NombreResponsableContrato\":\"Joyce Valle Chacon\",\"EmailResponsableContrato\":\"joyce.valle@redsalud.gov.cl\",\"FonoResponsableContrato\":\"56-02-25751735-\",\"ProhibicionContratacion\":\"\",\"SubContratacion\":\"0\",\"UnidadTiempoDuracionContrato\":1,\"TiempoDuracionContrato\":\"0\",\"TipoDuracionContrato\":\" \",\"JustificacionMontoEstimado\":\"\",\"ObservacionContract\":null,\"ExtensionPlazo\":0,\"EsBaseTipo\":0,\"UnidadTiempoContratoLicitacion\":\"1\",\"ValorTiempoRenovacion\":\"0\",\"PeriodoTiempoRenovacion\":\" \",\"EsRenovable\":0,\"Adjudicacion\":{\"Tipo\":5,\"Fecha\":\"2014-01-31T00:00:00\",\"Numero\":\"7\",\"NumeroOferentes\":25,\"UrlActa\":\"http://www.mercadopublico.cl/Procurement/Modules/RFB/StepsProcessAward/PreviewAwardAct.aspx?qs=WD6yac0APV/oCD6hcXhCEEpAbBYHIS+0oTpg3KVZbDk=\"},\"Items\":{\"Cantidad\":6,\"Listado\":[{\"Correlativo\":1,\"CodigoProducto\":42271718,\"CodigoCategoria\":\"42271700\",\"Categoria\":\"Equipamiento y suministros médicos / Productos de resucitación, anestesia y respiratorios / Sistemas y dispositivos de terapia de entrega de oxígeno\",\"NombreProducto\":\"Accesorios para productos de administración de oxigenoterapia o sus suministros\",\"Descripcion\":\"EQUIPO DE OXIGENOTERAPIA MANOMETRO PARA OXIGENO RANGO 0-4000 LT POR PULGADAS 2, CON HUMIDIFICADOR Y FLUJOMETRO DE 0 A 15 LT POR MINUTO\",\"UnidadMedida\":\"Unidad\",\"Cantidad\":10.0,\"Adjudicacion\":null},{\"Correlativo\":2,\"CodigoProducto\":42271718,\"CodigoCategoria\":\"42271700\",\"Categoria\":\"Equipamiento y suministros médicos / Productos de resucitación, anestesia y respiratorios / Sistemas y dispositivos de terapia de entrega de oxígeno\",\"NombreProducto\":\"Accesorios para productos de administración de oxigenoterapia o sus suministros\",\"Descripcion\":\"SONDA P/ OXIGENO ADULTO ( NARICERA).\",\"UnidadMedida\":\"Unidad\",\"Cantidad\":100.0,\"Adjudicacion\":{\"RutProveedor\":\"76.012.551-2\",\"NombreProveedor\":\"IMPORTADORA MEGA MARKET LIMITADA\",\"Cantidad\":100.0,\"MontoUnitario\":200.0}},{\"Correlativo\":3,\"CodigoProducto\":42311528,\"CodigoCategoria\":\"42311500\",\"Categoria\":\"Equipamiento y suministros médicos / Productos para el cuidado de heridas / Vendas, vendajes y productos relacionados\",\"NombreProducto\":\"Sistemas de vendajes mojados\",\"Descripcion\":\"VENDA ENYESADA 12 CM ANCHO.\",\"UnidadMedida\":\"Unidad\",\"Cantidad\":20.0,\"Adjudicacion\":{\"RutProveedor\":\"76.830.090-9\",\"NombreProveedor\":\"FARMACEUTICA CARIBEAN LTDA\",\"Cantidad\":20.0,\"MontoUnitario\":1434.0}},{\"Correlativo\":4,\"CodigoProducto\":51121603,\"CodigoCategoria\":\"51121600\",\"Categoria\":\"Medicamentos y productos farmacéuticos / Medicamentos cardiovasculares / Medicamentos antiangina\",\"NombreProducto\":\"Nitroglicerina\",\"Descripcion\":\"NITROGLICERINA SUBLINGUAL 0.6 MG COMPRIMIDO RANURADO BLISTER\",\"UnidadMedida\":\"Unidad\",\"Cantidad\":400.0,\"Adjudicacion\":null},{\"Correlativo\":5,\"CodigoProducto\":51131603,\"CodigoCategoria\":\"51131600\",\"Categoria\":\"Medicamentos y productos farmacéuticos / Medicamentos hematólicos / Anticoagulantes\",\"NombreProducto\":\"Heparina sódica\",\"Descripcion\":\"HEPARINA SODICA FAM 25.000 U.I/5ML.\",\"UnidadMedida\":\"Unidad\",\"Cantidad\":50.0,\"Adjudicacion\":{\"RutProveedor\":\"99.541.890-8\",\"NombreProveedor\":\"INVERSIONES PMG S A\",\"Cantidad\":50.0,\"MontoUnitario\":1650.0}},{\"Correlativo\":6,\"CodigoProducto\":51131613,\"CodigoCategoria\":\"51131600\",\"Categoria\":\"Medicamentos y productos farmacéuticos / Medicamentos hematólicos / Anticoagulantes\",\"NombreProducto\":\"Dicumarol\",\"Descripcion\":\"ACENOCUMAROL CM 4 MG COMPRIMIDO BLISTER RANURADO\",\"UnidadMedida\":\"Unidad\",\"Cantidad\":30.0,\"Adjudicacion\":{\"RutProveedor\":\"78.307.040-5\",\"NombreProveedor\":\"FARMACEUTICA SANTIAGO LIMITADA\",\"Cantidad\":30.0,\"MontoUnitario\":400.0}}]}}]}'"
            ]
          },
          "metadata": {
            "tags": []
          },
          "execution_count": 68
        }
      ]
    },
    {
      "cell_type": "code",
      "metadata": {
        "id": "8kpyDILE94Vv"
      },
      "source": [
        "respuestajson = json.loads(respuesta1.text)"
      ],
      "execution_count": 87,
      "outputs": []
    },
    {
      "cell_type": "code",
      "metadata": {
        "id": "dWV1Yt2B-MYQ",
        "outputId": "7ac1198b-65b1-4aec-e7da-edcaf9253067",
        "colab": {
          "base_uri": "https://localhost:8080/",
          "height": 53
        }
      },
      "source": [
        "print(respuestajson)"
      ],
      "execution_count": 71,
      "outputs": [
        {
          "output_type": "stream",
          "text": [
            "{'Cantidad': 1, 'FechaCreacion': '2020-10-21T09:42:32.767', 'Version': 'v1', 'Listado': [{'CodigoExterno': '1509-5-L114', 'Nombre': 'Insumos Medicos y Medicamentos ', 'CodigoEstado': 8, 'Descripcion': 'se requiere la compra de insumos y medicamentos para la unidad de urgencia y unidad de Hospitalizados del establecimiento de salud.', 'FechaCierre': None, 'Estado': 'Adjudicada', 'Comprador': {'CodigoOrganismo': '7274', 'NombreOrganismo': 'Hospital Til - Til', 'RutUnidad': '61.608.006-7', 'CodigoUnidad': '2505', 'NombreUnidad': 'Hospital Til - Til', 'DireccionUnidad': 'Daniel Moya  100', 'ComunaUnidad': 'Til Til', 'RegionUnidad': 'Región Metropolitana de Santiago', 'RutUsuario': '15.610.153-2', 'CodigoUsuario': '590344', 'NombreUsuario': 'Joycie   Valle Chacon', 'CargoUsuario': 'Contabilidad'}, 'DiasCierreLicitacion': '0', 'Informada': 0, 'CodigoTipo': 1, 'Tipo': 'L1', 'TipoConvocatoria': '1', 'Moneda': 'CLP', 'Etapas': 1, 'EstadoEtapas': '1', 'TomaRazon': '0', 'EstadoPublicidadOfertas': 1, 'JustificacionPublicidad': '', 'Contrato': '0', 'Obras': '0', 'CantidadReclamos': 100, 'Fechas': {'FechaCreacion': '2014-01-20T09:52:56.653', 'FechaCierre': '2014-01-27T15:54:00', 'FechaInicio': '2014-01-20T15:54:00', 'FechaFinal': '2014-01-23T15:54:00', 'FechaPubRespuestas': '2014-01-24T15:54:00', 'FechaActoAperturaTecnica': '2014-01-27T15:55:00', 'FechaActoAperturaEconomica': '2014-01-27T15:55:00', 'FechaPublicacion': '2014-01-20T10:00:17.173', 'FechaAdjudicacion': '2014-02-02T15:42:13.133', 'FechaEstimadaAdjudicacion': '2014-01-31T15:55:00', 'FechaSoporteFisico': None, 'FechaTiempoEvaluacion': None, 'FechaEstimadaFirma': None, 'FechasUsuario': None, 'FechaVisitaTerreno': None, 'FechaEntregaAntecedentes': None}, 'UnidadTiempoEvaluacion': 1, 'DireccionVisita': '', 'DireccionEntrega': '', 'Estimacion': 2, 'FuenteFinanciamiento': '', 'VisibilidadMonto': 0, 'MontoEstimado': None, 'Tiempo': None, 'UnidadTiempo': '1', 'Modalidad': 1, 'TipoPago': '2', 'NombreResponsablePago': 'Veronica Ortega Naranjo', 'EmailResponsablePago': 'veronica.ortega@redsalud.gov.cl', 'NombreResponsableContrato': 'Joyce Valle Chacon', 'EmailResponsableContrato': 'joyce.valle@redsalud.gov.cl', 'FonoResponsableContrato': '56-02-25751735-', 'ProhibicionContratacion': '', 'SubContratacion': '0', 'UnidadTiempoDuracionContrato': 1, 'TiempoDuracionContrato': '0', 'TipoDuracionContrato': ' ', 'JustificacionMontoEstimado': '', 'ObservacionContract': None, 'ExtensionPlazo': 0, 'EsBaseTipo': 0, 'UnidadTiempoContratoLicitacion': '1', 'ValorTiempoRenovacion': '0', 'PeriodoTiempoRenovacion': ' ', 'EsRenovable': 0, 'Adjudicacion': {'Tipo': 5, 'Fecha': '2014-01-31T00:00:00', 'Numero': '7', 'NumeroOferentes': 25, 'UrlActa': 'http://www.mercadopublico.cl/Procurement/Modules/RFB/StepsProcessAward/PreviewAwardAct.aspx?qs=WD6yac0APV/oCD6hcXhCEEpAbBYHIS+0oTpg3KVZbDk='}, 'Items': {'Cantidad': 6, 'Listado': [{'Correlativo': 1, 'CodigoProducto': 42271718, 'CodigoCategoria': '42271700', 'Categoria': 'Equipamiento y suministros médicos / Productos de resucitación, anestesia y respiratorios / Sistemas y dispositivos de terapia de entrega de oxígeno', 'NombreProducto': 'Accesorios para productos de administración de oxigenoterapia o sus suministros', 'Descripcion': 'EQUIPO DE OXIGENOTERAPIA MANOMETRO PARA OXIGENO RANGO 0-4000 LT POR PULGADAS 2, CON HUMIDIFICADOR Y FLUJOMETRO DE 0 A 15 LT POR MINUTO', 'UnidadMedida': 'Unidad', 'Cantidad': 10.0, 'Adjudicacion': None}, {'Correlativo': 2, 'CodigoProducto': 42271718, 'CodigoCategoria': '42271700', 'Categoria': 'Equipamiento y suministros médicos / Productos de resucitación, anestesia y respiratorios / Sistemas y dispositivos de terapia de entrega de oxígeno', 'NombreProducto': 'Accesorios para productos de administración de oxigenoterapia o sus suministros', 'Descripcion': 'SONDA P/ OXIGENO ADULTO ( NARICERA).', 'UnidadMedida': 'Unidad', 'Cantidad': 100.0, 'Adjudicacion': {'RutProveedor': '76.012.551-2', 'NombreProveedor': 'IMPORTADORA MEGA MARKET LIMITADA', 'Cantidad': 100.0, 'MontoUnitario': 200.0}}, {'Correlativo': 3, 'CodigoProducto': 42311528, 'CodigoCategoria': '42311500', 'Categoria': 'Equipamiento y suministros médicos / Productos para el cuidado de heridas / Vendas, vendajes y productos relacionados', 'NombreProducto': 'Sistemas de vendajes mojados', 'Descripcion': 'VENDA ENYESADA 12 CM ANCHO.', 'UnidadMedida': 'Unidad', 'Cantidad': 20.0, 'Adjudicacion': {'RutProveedor': '76.830.090-9', 'NombreProveedor': 'FARMACEUTICA CARIBEAN LTDA', 'Cantidad': 20.0, 'MontoUnitario': 1434.0}}, {'Correlativo': 4, 'CodigoProducto': 51121603, 'CodigoCategoria': '51121600', 'Categoria': 'Medicamentos y productos farmacéuticos / Medicamentos cardiovasculares / Medicamentos antiangina', 'NombreProducto': 'Nitroglicerina', 'Descripcion': 'NITROGLICERINA SUBLINGUAL 0.6 MG COMPRIMIDO RANURADO BLISTER', 'UnidadMedida': 'Unidad', 'Cantidad': 400.0, 'Adjudicacion': None}, {'Correlativo': 5, 'CodigoProducto': 51131603, 'CodigoCategoria': '51131600', 'Categoria': 'Medicamentos y productos farmacéuticos / Medicamentos hematólicos / Anticoagulantes', 'NombreProducto': 'Heparina sódica', 'Descripcion': 'HEPARINA SODICA FAM 25.000 U.I/5ML.', 'UnidadMedida': 'Unidad', 'Cantidad': 50.0, 'Adjudicacion': {'RutProveedor': '99.541.890-8', 'NombreProveedor': 'INVERSIONES PMG S A', 'Cantidad': 50.0, 'MontoUnitario': 1650.0}}, {'Correlativo': 6, 'CodigoProducto': 51131613, 'CodigoCategoria': '51131600', 'Categoria': 'Medicamentos y productos farmacéuticos / Medicamentos hematólicos / Anticoagulantes', 'NombreProducto': 'Dicumarol', 'Descripcion': 'ACENOCUMAROL CM 4 MG COMPRIMIDO BLISTER RANURADO', 'UnidadMedida': 'Unidad', 'Cantidad': 30.0, 'Adjudicacion': {'RutProveedor': '78.307.040-5', 'NombreProveedor': 'FARMACEUTICA SANTIAGO LIMITADA', 'Cantidad': 30.0, 'MontoUnitario': 400.0}}]}}]}\n"
          ],
          "name": "stdout"
        }
      ]
    },
    {
      "cell_type": "code",
      "metadata": {
        "id": "ueoQh2SqAfnu",
        "outputId": "8e3bbec4-76b1-4c1f-b8fd-4f29e32ce719",
        "colab": {
          "base_uri": "https://localhost:8080/",
          "height": 33
        }
      },
      "source": [
        "pd.read_json"
      ],
      "execution_count": 73,
      "outputs": [
        {
          "output_type": "execute_result",
          "data": {
            "text/plain": [
              "<function pandas.io.json._json.read_json>"
            ]
          },
          "metadata": {
            "tags": []
          },
          "execution_count": 73
        }
      ]
    },
    {
      "cell_type": "code",
      "metadata": {
        "id": "F7epA8IE-MNO"
      },
      "source": [
        "licitaciones = respuestajson[\"Listado\"]"
      ],
      "execution_count": 85,
      "outputs": []
    },
    {
      "cell_type": "code",
      "metadata": {
        "id": "m3J8uSBj-cq8"
      },
      "source": [
        "licitaciones"
      ],
      "execution_count": null,
      "outputs": []
    },
    {
      "cell_type": "code",
      "metadata": {
        "id": "W8w4w-jR-4g_",
        "outputId": "d0bce685-5b33-4206-bb64-da0cf60d223f",
        "colab": {
          "base_uri": "https://localhost:8080/",
          "height": 161
        }
      },
      "source": [
        "df_licitaciones_todos"
      ],
      "execution_count": 77,
      "outputs": [
        {
          "output_type": "execute_result",
          "data": {
            "text/html": [
              "<div>\n",
              "<style scoped>\n",
              "    .dataframe tbody tr th:only-of-type {\n",
              "        vertical-align: middle;\n",
              "    }\n",
              "\n",
              "    .dataframe tbody tr th {\n",
              "        vertical-align: top;\n",
              "    }\n",
              "\n",
              "    .dataframe thead th {\n",
              "        text-align: right;\n",
              "    }\n",
              "</style>\n",
              "<table border=\"1\" class=\"dataframe\">\n",
              "  <thead>\n",
              "    <tr style=\"text-align: right;\">\n",
              "      <th></th>\n",
              "      <th>CodigoExterno</th>\n",
              "      <th>Nombre</th>\n",
              "      <th>CodigoEstado</th>\n",
              "      <th>Descripcion</th>\n",
              "      <th>FechaCierre</th>\n",
              "      <th>Estado</th>\n",
              "      <th>Comprador</th>\n",
              "      <th>DiasCierreLicitacion</th>\n",
              "      <th>Informada</th>\n",
              "      <th>CodigoTipo</th>\n",
              "      <th>Tipo</th>\n",
              "      <th>TipoConvocatoria</th>\n",
              "      <th>Moneda</th>\n",
              "      <th>Etapas</th>\n",
              "      <th>EstadoEtapas</th>\n",
              "      <th>TomaRazon</th>\n",
              "      <th>EstadoPublicidadOfertas</th>\n",
              "      <th>JustificacionPublicidad</th>\n",
              "      <th>Contrato</th>\n",
              "      <th>Obras</th>\n",
              "      <th>CantidadReclamos</th>\n",
              "      <th>Fechas</th>\n",
              "      <th>UnidadTiempoEvaluacion</th>\n",
              "      <th>DireccionVisita</th>\n",
              "      <th>DireccionEntrega</th>\n",
              "      <th>Estimacion</th>\n",
              "      <th>FuenteFinanciamiento</th>\n",
              "      <th>VisibilidadMonto</th>\n",
              "      <th>MontoEstimado</th>\n",
              "      <th>Tiempo</th>\n",
              "      <th>UnidadTiempo</th>\n",
              "      <th>Modalidad</th>\n",
              "      <th>TipoPago</th>\n",
              "      <th>NombreResponsablePago</th>\n",
              "      <th>EmailResponsablePago</th>\n",
              "      <th>NombreResponsableContrato</th>\n",
              "      <th>EmailResponsableContrato</th>\n",
              "      <th>FonoResponsableContrato</th>\n",
              "      <th>ProhibicionContratacion</th>\n",
              "      <th>SubContratacion</th>\n",
              "      <th>UnidadTiempoDuracionContrato</th>\n",
              "      <th>TiempoDuracionContrato</th>\n",
              "      <th>TipoDuracionContrato</th>\n",
              "      <th>JustificacionMontoEstimado</th>\n",
              "      <th>ObservacionContract</th>\n",
              "      <th>ExtensionPlazo</th>\n",
              "      <th>EsBaseTipo</th>\n",
              "      <th>UnidadTiempoContratoLicitacion</th>\n",
              "      <th>ValorTiempoRenovacion</th>\n",
              "      <th>PeriodoTiempoRenovacion</th>\n",
              "      <th>EsRenovable</th>\n",
              "      <th>Adjudicacion</th>\n",
              "      <th>Items</th>\n",
              "    </tr>\n",
              "  </thead>\n",
              "  <tbody>\n",
              "    <tr>\n",
              "      <th>0</th>\n",
              "      <td>1509-5-L114</td>\n",
              "      <td>Insumos Medicos y Medicamentos</td>\n",
              "      <td>8</td>\n",
              "      <td>se requiere la compra de insumos y medicamento...</td>\n",
              "      <td>None</td>\n",
              "      <td>Adjudicada</td>\n",
              "      <td>{'CodigoOrganismo': '7274', 'NombreOrganismo':...</td>\n",
              "      <td>0</td>\n",
              "      <td>0</td>\n",
              "      <td>1</td>\n",
              "      <td>L1</td>\n",
              "      <td>1</td>\n",
              "      <td>CLP</td>\n",
              "      <td>1</td>\n",
              "      <td>1</td>\n",
              "      <td>0</td>\n",
              "      <td>1</td>\n",
              "      <td></td>\n",
              "      <td>0</td>\n",
              "      <td>0</td>\n",
              "      <td>100</td>\n",
              "      <td>{'FechaCreacion': '2014-01-20T09:52:56.653', '...</td>\n",
              "      <td>1</td>\n",
              "      <td></td>\n",
              "      <td></td>\n",
              "      <td>2</td>\n",
              "      <td></td>\n",
              "      <td>0</td>\n",
              "      <td>None</td>\n",
              "      <td>None</td>\n",
              "      <td>1</td>\n",
              "      <td>1</td>\n",
              "      <td>2</td>\n",
              "      <td>Veronica Ortega Naranjo</td>\n",
              "      <td>veronica.ortega@redsalud.gov.cl</td>\n",
              "      <td>Joyce Valle Chacon</td>\n",
              "      <td>joyce.valle@redsalud.gov.cl</td>\n",
              "      <td>56-02-25751735-</td>\n",
              "      <td></td>\n",
              "      <td>0</td>\n",
              "      <td>1</td>\n",
              "      <td>0</td>\n",
              "      <td></td>\n",
              "      <td></td>\n",
              "      <td>None</td>\n",
              "      <td>0</td>\n",
              "      <td>0</td>\n",
              "      <td>1</td>\n",
              "      <td>0</td>\n",
              "      <td></td>\n",
              "      <td>0</td>\n",
              "      <td>{'Tipo': 5, 'Fecha': '2014-01-31T00:00:00', 'N...</td>\n",
              "      <td>{'Cantidad': 6, 'Listado': [{'Correlativo': 1,...</td>\n",
              "    </tr>\n",
              "  </tbody>\n",
              "</table>\n",
              "</div>"
            ],
            "text/plain": [
              "  CodigoExterno  ...                                              Items\n",
              "0   1509-5-L114  ...  {'Cantidad': 6, 'Listado': [{'Correlativo': 1,...\n",
              "\n",
              "[1 rows x 53 columns]"
            ]
          },
          "metadata": {
            "tags": []
          },
          "execution_count": 77
        }
      ]
    },
    {
      "cell_type": "code",
      "metadata": {
        "id": "FZ77nfufDTl2"
      },
      "source": [
        "cantidad = df_licitaciones_todos[\"Nombre\"].value_counts()"
      ],
      "execution_count": 134,
      "outputs": []
    },
    {
      "cell_type": "code",
      "metadata": {
        "id": "Lae4SbyCDVZW",
        "outputId": "8f6ccd7b-dc9f-4345-e8b7-9129294c9bc4",
        "colab": {
          "base_uri": "https://localhost:8080/",
          "height": 33
        }
      },
      "source": [
        "print(cantidad.count())"
      ],
      "execution_count": 79,
      "outputs": [
        {
          "output_type": "stream",
          "text": [
            "1\n"
          ],
          "name": "stdout"
        }
      ]
    },
    {
      "cell_type": "code",
      "metadata": {
        "id": "ksUdbibnDbO-",
        "outputId": "f1323790-37ef-4d76-b4c3-f0948eaf262a",
        "colab": {
          "base_uri": "https://localhost:8080/",
          "height": 33
        }
      },
      "source": [
        "df_licitaciones_todos.shape"
      ],
      "execution_count": 56,
      "outputs": [
        {
          "output_type": "execute_result",
          "data": {
            "text/plain": [
              "(1, 53)"
            ]
          },
          "metadata": {
            "tags": []
          },
          "execution_count": 56
        }
      ]
    },
    {
      "cell_type": "markdown",
      "metadata": {
        "id": "qCL5-QSECzaB"
      },
      "source": [
        "### **Código de un Proveedor**"
      ]
    },
    {
      "cell_type": "markdown",
      "metadata": {
        "id": "Hp4dZIgcKSov"
      },
      "source": [
        "### **Códigos de un Organismos Públicos**"
      ]
    },
    {
      "cell_type": "code",
      "metadata": {
        "id": "tfAwyH65Kp3a",
        "outputId": "50417644-c7bf-49c2-b1b3-34c0a132d751",
        "colab": {
          "base_uri": "https://localhost:8080/",
          "height": 33
        }
      },
      "source": [
        "# ticket mercado publico de on iñaki abaroa schilling= 81D9D50E-E3EA-41F5-A456-0AD2B42E6D80\n",
        "\n",
        "import json\n",
        "import requests\n",
        "import pandas as pd\n",
        "\n",
        "url2 = \"http://api.mercadopublico.cl/servicios/v1/Publico/Empresas/BuscarComprador?ticket=81D9D50E-E3EA-41F5-A456-0AD2B42E6D80\"\n",
        "\n",
        "respuesta2=requests.request(\"GET\", url2)\n",
        "print(respuesta2)"
      ],
      "execution_count": 122,
      "outputs": [
        {
          "output_type": "stream",
          "text": [
            "<Response [200]>\n"
          ],
          "name": "stdout"
        }
      ]
    },
    {
      "cell_type": "code",
      "metadata": {
        "id": "Q16hpLcsLUMT",
        "outputId": "9ab75cb9-d6c9-4912-eff9-ea97718b3b00",
        "colab": {
          "base_uri": "https://localhost:8080/",
          "height": 53
        }
      },
      "source": [
        "print(respuesta2.headers)"
      ],
      "execution_count": 123,
      "outputs": [
        {
          "output_type": "stream",
          "text": [
            "{'Cache-Control': 'no-cache', 'Pragma': 'no-cache', 'Content-Type': 'application/json; charset=utf-8', 'Expires': '-1', 'Server': 'Microsoft-IIS/7.5', 'X-AspNet-Version': '4.0.30319', 'X-Powered-By': 'ASP.NET', 'Set-Cookie': 'dtCookie=2$8776CCD38E016FBEEE70A5C1CD5E0B38; Path=/; Domain=.mercadopublico.cl', 'Date': 'Wed, 21 Oct 2020 12:59:18 GMT', 'Content-Length': '66920'}\n"
          ],
          "name": "stdout"
        }
      ]
    },
    {
      "cell_type": "code",
      "metadata": {
        "id": "i0KsDSl_LUDz",
        "outputId": "f01a9af5-b2a5-4ff2-8065-66045662ac4d",
        "colab": {
          "base_uri": "https://localhost:8080/",
          "height": 135
        }
      },
      "source": [
        "respuesta2.text"
      ],
      "execution_count": 124,
      "outputs": [
        {
          "output_type": "execute_result",
          "data": {
            "application/vnd.google.colaboratory.intrinsic+json": {
              "type": "string"
            },
            "text/plain": [
              "'{\"Cantidad\":863,\"FechaCreacion\":\"2020-10-21T09:59:19.193\",\"listaEmpresas\":[{\"CodigoEmpresa\":\"1034640\",\"NombreEmpresa\":\" CORPORACION MUNICIPAL DE PEÑALOLEN PARA EL DESARROLLO SOCIAL \"},{\"CodigoEmpresa\":\"7311\",\"NombreEmpresa\":\" Hospital de enfermedades InfecciDr. Lucio Córdova\"},{\"CodigoEmpresa\":\"7086\",\"NombreEmpresa\":\"AGENCIA CHILENA DE COOPERACION INTERNACIONAL PARA EL DESARROLLO\"},{\"CodigoEmpresa\":\"1224636\",\"NombreEmpresa\":\"Agencia Chilena de Eficiencia Energética\"},{\"CodigoEmpresa\":\"7193\",\"NombreEmpresa\":\"Agencia de Promoción de la Inversión Extranjera\"},{\"CodigoEmpresa\":\"7212\",\"NombreEmpresa\":\"Agencia Nacional de Inteligencia\"},{\"CodigoEmpresa\":\"111875\",\"NombreEmpresa\":\"ARMADA DE CHILE\"},{\"CodigoEmpresa\":\"6959\",\"NombreEmpresa\":\"Banco del Estado de Chile\"},{\"CodigoEmpresa\":\"7265\",\"NombreEmpresa\":\"Biblioteca del Congreso Nacional\"},{\"CodigoEmpresa\":\"7038\",\"NombreEmpresa\":\"Bienestar del Registro Civil\"},{\"CodigoEmpresa\":\"7313\",\"NombreEmpresa\":\"C.D.T. Doctora Eloisa Díaz\"},{\"CodigoEmpresa\":\"156657\",\"NombreEmpresa\":\"Cámara de Diputados de Chile\"},{\"CodigoEmpresa\":\"7175\",\"NombreEmpresa\":\"CAPREDENA\"},{\"CodigoEmpresa\":\"7198\",\"NombreEmpresa\":\"Casa de Moneda de Chile\"},{\"CodigoEmpresa\":\"6957\",\"NombreEmpresa\":\"Central de Abastecimiento S.N.S.S. -  CENABAST\"},{\"CodigoEmpresa\":\"1339711\",\"NombreEmpresa\":\"CENTRO ASISTENCIAL NORTE DE ANTOFAGASTA\"},{\"CodigoEmpresa\":\"1741046\",\"NombreEmpresa\":\"CENTRO DE FORMACION TECNICA DE LA REGION DE ATACAMA\"},{\"CodigoEmpresa\":\"1700248\",\"NombreEmpresa\":\"CENTRO DE FORMACIÓN TÉCNICA ESTATAL DE MAGALLANES Y ANTARTICA CHILENA\"},{\"CodigoEmpresa\":\"1741019\",\"NombreEmpresa\":\"Centro de Formación Técnica Estatal Región de Arica y Parinacota\"},{\"CodigoEmpresa\":\"7380\",\"NombreEmpresa\":\"Centro de Información de Recursos Naturales\"},{\"CodigoEmpresa\":\"7317\",\"NombreEmpresa\":\"Centro de Referencia de Salud de Maipú\"},{\"CodigoEmpresa\":\"7473\",\"NombreEmpresa\":\"Centro de Salud Dr. Víctor M. Fernández\"},{\"CodigoEmpresa\":\"7461\",\"NombreEmpresa\":\"Centro Diagnóstico Terapéutico Los Angeles\"},{\"CodigoEmpresa\":\"7373\",\"NombreEmpresa\":\"Centro Referencia Salud Doctor Salvador Allende G.\"},{\"CodigoEmpresa\":\"118627\",\"NombreEmpresa\":\"Cesfam Dr. Alejandro Gutierrez\"},{\"CodigoEmpresa\":\"111870\",\"NombreEmpresa\":\"COMANDO DE APOYO A LA FUERZA\"},{\"CodigoEmpresa\":\"192032\",\"NombreEmpresa\":\"Comisión Administradora del Sistema de Créditos para Estudios Superiores\"},{\"CodigoEmpresa\":\"7219\",\"NombreEmpresa\":\"Comisión Chilena de Energía Nuclear\"},{\"CodigoEmpresa\":\"7075\",\"NombreEmpresa\":\"Comisión Chilena del Cobre - COCHILCO\"},{\"CodigoEmpresa\":\"262897\",\"NombreEmpresa\":\"Comisión Nacional de Acreditación - CNA\"},{\"CodigoEmpresa\":\"6938\",\"NombreEmpresa\":\"Comisión Nacional de Energía\"},{\"CodigoEmpresa\":\"7213\",\"NombreEmpresa\":\"Comisión Nacional de Investigación Científica y Tecnológicas - CONICYT\"},{\"CodigoEmpresa\":\"7186\",\"NombreEmpresa\":\"Comisión Nacional de Riego\"},{\"CodigoEmpresa\":\"7016\",\"NombreEmpresa\":\"COMISION PARA EL MERCADO FINANCIERO\"},{\"CodigoEmpresa\":\"7043\",\"NombreEmpresa\":\"Comité de Seguros del Agro\"},{\"CodigoEmpresa\":\"7057\",\"NombreEmpresa\":\"Comité SEP\"},{\"CodigoEmpresa\":\"7320\",\"NombreEmpresa\":\"Complejo Asistencial Dr. Sotero del Rio\"},{\"CodigoEmpresa\":\"7375\",\"NombreEmpresa\":\"Complejo Asistencial Dr. Victor Ríos Ruíz\"},{\"CodigoEmpresa\":\"7103\",\"NombreEmpresa\":\"Complejo Penitenciario de Valparaiso\"},{\"CodigoEmpresa\":\"1090137\",\"NombreEmpresa\":\"CONGREGACIÓN HIJAS DE SANTA MARIA DE LA PROVIDENCIA\"},{\"CodigoEmpresa\":\"6933\",\"NombreEmpresa\":\"Consejo de Defensa del Estado\"},{\"CodigoEmpresa\":\"7224\",\"NombreEmpresa\":\"Consejo de Rectores de las Universidades Chilenas\"},{\"CodigoEmpresa\":\"1692048\",\"NombreEmpresa\":\"CONSEJO FISCAL AUTONOMO\"},{\"CodigoEmpresa\":\"7082\",\"NombreEmpresa\":\"Consejo Nacional de Educación\"},{\"CodigoEmpresa\":\"1060064\",\"NombreEmpresa\":\"Consejo para la Transparencia\"},{\"CodigoEmpresa\":\"118630\",\"NombreEmpresa\":\"Consultorio General Urbano Victor Domingo Silva\"},{\"CodigoEmpresa\":\"7144\",\"NombreEmpresa\":\"Consultorio Gral. Urbano Violeta Parra\"},{\"CodigoEmpresa\":\"7133\",\"NombreEmpresa\":\"Consultorio Miraflores\"},{\"CodigoEmpresa\":\"7231\",\"NombreEmpresa\":\"Contraloría General de la República\"},{\"CodigoEmpresa\":\"7354\",\"NombreEmpresa\":\"Corp. de Asistencia Judicial Región del Bío-Bío\"},{\"CodigoEmpresa\":\"7058\",\"NombreEmpresa\":\"Corp. Municipal de Desarrollo Social Cerro Navia\"},{\"CodigoEmpresa\":\"7342\",\"NombreEmpresa\":\"Corporacion Administrativa del Poder Judicial\"},{\"CodigoEmpresa\":\"7235\",\"NombreEmpresa\":\"Corporación de Asistencia Judicial de la V Región\"},{\"CodigoEmpresa\":\"272303\",\"NombreEmpresa\":\"Corporación de Asistencia Judicial de las Regiones de Tarapacá y Antofagasta\"},{\"CodigoEmpresa\":\"7152\",\"NombreEmpresa\":\"Corporación de Asistencia Judicial RM\"},{\"CodigoEmpresa\":\"1085182\",\"NombreEmpresa\":\"Corporación de Ecuación, Salud y Menores de Puerto Natales\"},{\"CodigoEmpresa\":\"6942\",\"NombreEmpresa\":\"CORPORACION DE FOMENTO DE LA PRODUCCION\"},{\"CodigoEmpresa\":\"1088974\",\"NombreEmpresa\":\"Corporación Municipal de Castro\"},{\"CodigoEmpresa\":\"1035946\",\"NombreEmpresa\":\"Corporacion Municipal de Educacion\"},{\"CodigoEmpresa\":\"1033466\",\"NombreEmpresa\":\"CORPORACIÓN MUNICIPAL DE EDUCACIÓN Y SALUD\"},{\"CodigoEmpresa\":\"7105\",\"NombreEmpresa\":\"Corporación Municipal de la Florida\"},{\"CodigoEmpresa\":\"7483\",\"NombreEmpresa\":\"Corporación Municipal de Panguipulli\"},{\"CodigoEmpresa\":\"7183\",\"NombreEmpresa\":\"Corporación Nacional de Desarrollo Indígena - CONADI\"},{\"CodigoEmpresa\":\"6924\",\"NombreEmpresa\":\"Corporación Nacional Forestal - CONAF\"},{\"CodigoEmpresa\":\"7136\",\"NombreEmpresa\":\"CRS de Peñalolen Cordillera Oriente\"},{\"CodigoEmpresa\":\"7129\",\"NombreEmpresa\":\"Defensa Civil de Chile\"},{\"CodigoEmpresa\":\"7034\",\"NombreEmpresa\":\"DEFENSORIA PENAL PUBLICA\"},{\"CodigoEmpresa\":\"7299\",\"NombreEmpresa\":\"Departamento de Salud Parral\"},{\"CodigoEmpresa\":\"7228\",\"NombreEmpresa\":\"Dirección Administrativa - Min. Defensa\"},{\"CodigoEmpresa\":\"7466\",\"NombreEmpresa\":\"Dirección Atención Primaria, Serv.Salud M.Central\"},{\"CodigoEmpresa\":\"7243\",\"NombreEmpresa\":\"Dirección de Aeropuertos - MOPTT\"},{\"CodigoEmpresa\":\"7245\",\"NombreEmpresa\":\"Dirección de Arquitectura - MOP\"},{\"CodigoEmpresa\":\"6945\",\"NombreEmpresa\":\"Dirección de Compras y Contratación Pública\"},{\"CodigoEmpresa\":\"7068\",\"NombreEmpresa\":\"Dirección de Contabilidad y Finanzas MOP\"},{\"CodigoEmpresa\":\"7244\",\"NombreEmpresa\":\"Dirección de Fiscalía - MOPTT\"},{\"CodigoEmpresa\":\"113812\",\"NombreEmpresa\":\"DIRECCION DE LOGISTICA DE CARABINEROS\"},{\"CodigoEmpresa\":\"7242\",\"NombreEmpresa\":\"Dirección de Obras Hidráulicas - MOPTT\"},{\"CodigoEmpresa\":\"7246\",\"NombreEmpresa\":\"Dirección de Obras Portuarias - MOPTT\"},{\"CodigoEmpresa\":\"7067\",\"NombreEmpresa\":\"Dirección de Planeamiento - MOPTT\"},{\"CodigoEmpresa\":\"7012\",\"NombreEmpresa\":\"Dirección de Presupuestos\"},{\"CodigoEmpresa\":\"6927\",\"NombreEmpresa\":\"Dirección de Previsión de Carabineros de Chile\"},{\"CodigoEmpresa\":\"7010\",\"NombreEmpresa\":\"Dirección de Relaciones Económicas\"},{\"CodigoEmpresa\":\"118628\",\"NombreEmpresa\":\"Dirección de Salud Rural\"},{\"CodigoEmpresa\":\"7000\",\"NombreEmpresa\":\"Dirección del Trabajo\"},{\"CodigoEmpresa\":\"7202\",\"NombreEmpresa\":\"Dirección General de Aeronáutica Civil\"},{\"CodigoEmpresa\":\"7209\",\"NombreEmpresa\":\"Dirección General de Crédito Prendario - DICREP\"},{\"CodigoEmpresa\":\"6925\",\"NombreEmpresa\":\"DIRECCION GENERAL DE GENDARMERIA DE CHIL\"},{\"CodigoEmpresa\":\"7127\",\"NombreEmpresa\":\"Dirección General de Movilización Nacional - DGMN\"},{\"CodigoEmpresa\":\"7250\",\"NombreEmpresa\":\"Dirección General de Obras Publicas - MOP\"},{\"CodigoEmpresa\":\"1674056\",\"NombreEmpresa\":\"Dirección General de Promoción de Exportaciones\"},{\"CodigoEmpresa\":\"7187\",\"NombreEmpresa\":\"Dirección Nacional de Fronteras y Límites del Estado\"},{\"CodigoEmpresa\":\"7371\",\"NombreEmpresa\":\"Dirección Nacional del Servicio Civil\"},{\"CodigoEmpresa\":\"7295\",\"NombreEmpresa\":\"DIRECCION SERVICIO DE SALUD TALCAHUANO\"},{\"CodigoEmpresa\":\"7272\",\"NombreEmpresa\":\"DIRECCION SERVICIO SALUD METROPOLITANO O\"},{\"CodigoEmpresa\":\"7208\",\"NombreEmpresa\":\"Empresa de Abastecimiento de Zonas Aisladas- EMAZA\"},{\"CodigoEmpresa\":\"7467\",\"NombreEmpresa\":\"Empresa de Servicios Sanitarios de Atacama\"},{\"CodigoEmpresa\":\"7128\",\"NombreEmpresa\":\"Empresa de Servicios Sanitarios de la Araucania\"},{\"CodigoEmpresa\":\"7358\",\"NombreEmpresa\":\"Empresa de Servicios Sanitarios de Magallanes S.A.\"},{\"CodigoEmpresa\":\"7138\",\"NombreEmpresa\":\"Empresa de Servicios Sanitarios de Tarapacá S.A.\"},{\"CodigoEmpresa\":\"6961\",\"NombreEmpresa\":\"Empresa Nacional de Minería\"},{\"CodigoEmpresa\":\"7149\",\"NombreEmpresa\":\"Empresa Nacional del Petróleo\"},{\"CodigoEmpresa\":\"1069779\",\"NombreEmpresa\":\"EMPRESA PORTUARIA ANTOFAGASTA\"},{\"CodigoEmpresa\":\"1085179\",\"NombreEmpresa\":\"Empresa Portuaria Arica\"},{\"CodigoEmpresa\":\"7493\",\"NombreEmpresa\":\"Empresa Portuaria Iquique\"},{\"CodigoEmpresa\":\"7463\",\"NombreEmpresa\":\"Empresa Portuaria Puerto Montt\"},{\"CodigoEmpresa\":\"1076044\",\"NombreEmpresa\":\"EMPRESA PORTUARIA SAN ANTONIO\"},{\"CodigoEmpresa\":\"1061586\",\"NombreEmpresa\":\"EMPRESA PORTUARIA VALPARAISO\"},{\"CodigoEmpresa\":\"7266\",\"NombreEmpresa\":\"Estado Mayor Conjunto\"},{\"CodigoEmpresa\":\"7076\",\"NombreEmpresa\":\"FISCALIA NACIONAL ECONOMICA\"},{\"CodigoEmpresa\":\"7182\",\"NombreEmpresa\":\"FONDO DE SOLIDARIDAD E INVERSION SOCIAL\"},{\"CodigoEmpresa\":\"220665\",\"NombreEmpresa\":\"FONDO HOSPITAL DE LA DIRECCION DE PREVISION DE CARABINEROS DE CHILE\"},{\"CodigoEmpresa\":\"6954\",\"NombreEmpresa\":\"Fondo Nacional de Salud - FONASA\"},{\"CodigoEmpresa\":\"6946\",\"NombreEmpresa\":\"Fuerza Aérea de Chile\"},{\"CodigoEmpresa\":\"1090451\",\"NombreEmpresa\":\"FUND NACIONAL DE ORQUESTAS JUVENILES E INFANTILES DE CHILE\"},{\"CodigoEmpresa\":\"1736867\",\"NombreEmpresa\":\"Fundación para la Innovación Agraria\"},{\"CodigoEmpresa\":\"7286\",\"NombreEmpresa\":\"Gobernación  Provincial de Choapa\"},{\"CodigoEmpresa\":\"7379\",\"NombreEmpresa\":\"Gobernación de Cachapoal\"},{\"CodigoEmpresa\":\"7134\",\"NombreEmpresa\":\"Gobernación Provincia Capitan Prat\"},{\"CodigoEmpresa\":\"7284\",\"NombreEmpresa\":\"Gobernación Provincia Cordillera\"},{\"CodigoEmpresa\":\"7271\",\"NombreEmpresa\":\"GOBERNACION PROVINCIA DE CHACABUCO\"},{\"CodigoEmpresa\":\"7347\",\"NombreEmpresa\":\"Gobernación Provincia de Elqui\"},{\"CodigoEmpresa\":\"7148\",\"NombreEmpresa\":\"Gobernación Provincial Antártica\"},{\"CodigoEmpresa\":\"7151\",\"NombreEmpresa\":\"Gobernación Provincial Antofagasta\"},{\"CodigoEmpresa\":\"7387\",\"NombreEmpresa\":\"Gobernación Provincial Cardenal Caro\"},{\"CodigoEmpresa\":\"7281\",\"NombreEmpresa\":\"Gobernación Provincial Cauquenes\"},{\"CodigoEmpresa\":\"7499\",\"NombreEmpresa\":\"Gobernación Provincial Chiloe\"},{\"CodigoEmpresa\":\"7450\",\"NombreEmpresa\":\"Gobernación Provincial de Arauco\"},{\"CodigoEmpresa\":\"7357\",\"NombreEmpresa\":\"Gobernación Provincial de Arica\"},{\"CodigoEmpresa\":\"7059\",\"NombreEmpresa\":\"Gobernación Provincial de Aysén\"},{\"CodigoEmpresa\":\"7061\",\"NombreEmpresa\":\"GOBERNACION PROVINCIAL DE CAUTIN\"},{\"CodigoEmpresa\":\"7155\",\"NombreEmpresa\":\"Gobernación Provincial de Chañaral\"},{\"CodigoEmpresa\":\"7376\",\"NombreEmpresa\":\"Gobernación Provincial de Colchagua\"},{\"CodigoEmpresa\":\"7300\",\"NombreEmpresa\":\"Gobernación Provincial de Concepción\"},{\"CodigoEmpresa\":\"7145\",\"NombreEmpresa\":\"Gobernación Provincial de Copiapó\"},{\"CodigoEmpresa\":\"7292\",\"NombreEmpresa\":\"Gobernación Provincial de Coyhaique\"},{\"CodigoEmpresa\":\"7263\",\"NombreEmpresa\":\"Gobernación Provincial de Curicó\"},{\"CodigoEmpresa\":\"7237\",\"NombreEmpresa\":\"GOBERNACION PROVINCIAL DE EL LOA\"},{\"CodigoEmpresa\":\"7309\",\"NombreEmpresa\":\"GOBERNACION PROVINCIAL DE GRAL CARRERA\"},{\"CodigoEmpresa\":\"7150\",\"NombreEmpresa\":\"Gobernación Provincial de Huasco\"},{\"CodigoEmpresa\":\"7349\",\"NombreEmpresa\":\"Gobernación Provincial de Iquique\"},{\"CodigoEmpresa\":\"135959\",\"NombreEmpresa\":\"Gobernación Provincial de Isla de Pascua\"},{\"CodigoEmpresa\":\"7037\",\"NombreEmpresa\":\"Gobernación Provincial de Limarí\"},{\"CodigoEmpresa\":\"7282\",\"NombreEmpresa\":\"Gobernación Provincial de Linares\"},{\"CodigoEmpresa\":\"7267\",\"NombreEmpresa\":\"Gobernación Provincial de Llanquihue\"},{\"CodigoEmpresa\":\"7009\",\"NombreEmpresa\":\"Gobernación Provincial de Los Andes\"},{\"CodigoEmpresa\":\"7484\",\"NombreEmpresa\":\"Gobernación Provincial de Magallanes\"},{\"CodigoEmpresa\":\"7253\",\"NombreEmpresa\":\"Gobernación Provincial de Maipo\"},{\"CodigoEmpresa\":\"7275\",\"NombreEmpresa\":\"Gobernación Provincial de Malleco\"},{\"CodigoEmpresa\":\"7142\",\"NombreEmpresa\":\"Gobernación Provincial de Ñuble\"},{\"CodigoEmpresa\":\"7283\",\"NombreEmpresa\":\"GOBERNACION PROVINCIAL DE OSORNO\"},{\"CodigoEmpresa\":\"7252\",\"NombreEmpresa\":\"Gobernación Provincial de Palena\"},{\"CodigoEmpresa\":\"7350\",\"NombreEmpresa\":\"GOBERNACION PROVINCIAL DE PARINACOTA\"},{\"CodigoEmpresa\":\"7420\",\"NombreEmpresa\":\"Gobernación Provincial de Petorca\"},{\"CodigoEmpresa\":\"7346\",\"NombreEmpresa\":\"GOBERNACION PROVINCIAL DE QUILLOTA\"},{\"CodigoEmpresa\":\"269793\",\"NombreEmpresa\":\"Gobernación Provincial de Ranco\"},{\"CodigoEmpresa\":\"111119\",\"NombreEmpresa\":\"Gobernación Provincial de San Antonio\"},{\"CodigoEmpresa\":\"7055\",\"NombreEmpresa\":\"Gobernación Provincial de Talagante\"},{\"CodigoEmpresa\":\"7269\",\"NombreEmpresa\":\"Gobernación Provincial de Talca\"},{\"CodigoEmpresa\":\"7063\",\"NombreEmpresa\":\"Gobernación Provincial de Tocopilla\"},{\"CodigoEmpresa\":\"7264\",\"NombreEmpresa\":\"Gobernación Provincial de Última Esperanza\"},{\"CodigoEmpresa\":\"7322\",\"NombreEmpresa\":\"Gobernación Provincial de Valdivia\"},{\"CodigoEmpresa\":\"7352\",\"NombreEmpresa\":\"Gobernación Provincial de Valparaíso\"},{\"CodigoEmpresa\":\"7140\",\"NombreEmpresa\":\"Gobernación Provincial del Bío-Bío\"},{\"CodigoEmpresa\":\"275314\",\"NombreEmpresa\":\"Gobernación Provincial del Tamarugal\"},{\"CodigoEmpresa\":\"7056\",\"NombreEmpresa\":\"Gobernación Provincial Melipilla\"},{\"CodigoEmpresa\":\"7495\",\"NombreEmpresa\":\"Gobernación Provincial San Felipe\"},{\"CodigoEmpresa\":\"7381\",\"NombreEmpresa\":\"Gobernación Provincial Tierra del Fuego\"},{\"CodigoEmpresa\":\"1163597\",\"NombreEmpresa\":\"Gobierno Provincial de Marga Marga\"},{\"CodigoEmpresa\":\"7199\",\"NombreEmpresa\":\"Gobierno Regional de Antofagasta\"},{\"CodigoEmpresa\":\"267965\",\"NombreEmpresa\":\"Gobierno Regional de Arica y Parinacota\"},{\"CodigoEmpresa\":\"7077\",\"NombreEmpresa\":\"GOBIERNO REGIONAL DE ATACAMA\"},{\"CodigoEmpresa\":\"7085\",\"NombreEmpresa\":\"Gobierno Regional de Aysén\"},{\"CodigoEmpresa\":\"6940\",\"NombreEmpresa\":\"Gobierno Regional de Coquimbo\"},{\"CodigoEmpresa\":\"7013\",\"NombreEmpresa\":\"Gobierno Regional de La Araucanía\"},{\"CodigoEmpresa\":\"7015\",\"NombreEmpresa\":\"Gobierno Regional de la Región del Bío-Bío\"},{\"CodigoEmpresa\":\"7207\",\"NombreEmpresa\":\"Gobierno Regional de Los Lagos\"},{\"CodigoEmpresa\":\"267799\",\"NombreEmpresa\":\"GOBIERNO REGIONAL DE LOS RIOS\"},{\"CodigoEmpresa\":\"7087\",\"NombreEmpresa\":\"GOBIERNO REGIONAL DE MAGALLANES Y ANTARTICA CHILEN\"},{\"CodigoEmpresa\":\"7084\",\"NombreEmpresa\":\"Gobierno Regional de Tarapacá\"},{\"CodigoEmpresa\":\"7172\",\"NombreEmpresa\":\"Gobierno Regional de Valparaíso\"},{\"CodigoEmpresa\":\"7222\",\"NombreEmpresa\":\"Gobierno Regional Metropolitano\"},{\"CodigoEmpresa\":\"7200\",\"NombreEmpresa\":\"GOBIERNO REGIONAL VI REGION DEL LI BERTADOR B O\\\\\"HIGGINS\"},{\"CodigoEmpresa\":\"7223\",\"NombreEmpresa\":\"GOBIERNO REGIONAL VII REGION\"},{\"CodigoEmpresa\":\"103933\",\"NombreEmpresa\":\"Hermanas Misioneras Franciscanas de Purulón\"},{\"CodigoEmpresa\":\"7403\",\"NombreEmpresa\":\"Hospital  Lonquimay\"},{\"CodigoEmpresa\":\"7472\",\"NombreEmpresa\":\"Hospital Andacollo\"},{\"CodigoEmpresa\":\"7398\",\"NombreEmpresa\":\"Hospital Arauco\"},{\"CodigoEmpresa\":\"7293\",\"NombreEmpresa\":\"HOSPITAL BARROS LUCO TRUDEAU\"},{\"CodigoEmpresa\":\"7393\",\"NombreEmpresa\":\"Hospital Base Osorno\"},{\"CodigoEmpresa\":\"7131\",\"NombreEmpresa\":\"Hospital Carahue\"},{\"CodigoEmpresa\":\"7494\",\"NombreEmpresa\":\"Hospital Carlos Cisternas de Calama\"},{\"CodigoEmpresa\":\"7256\",\"NombreEmpresa\":\"Hospital Cauquenes\"},{\"CodigoEmpresa\":\"7297\",\"NombreEmpresa\":\"HOSPITAL CLINICO DE MAGALLANES DR. LAUTARO NAVARRO AVARIA\"},{\"CodigoEmpresa\":\"1379869\",\"NombreEmpresa\":\"Hospital Clínico Metropolitano El Carmen Doctor Luis Valentín Ferrada\"},{\"CodigoEmpresa\":\"1375151\",\"NombreEmpresa\":\"HOSPITAL CLINICO METROPOLITANO LA FLORIDA DRA ELOISA DIAZ INSUNZA\"},{\"CodigoEmpresa\":\"7326\",\"NombreEmpresa\":\"Hospital Clínico San Borja Arriarán\"},{\"CodigoEmpresa\":\"7480\",\"NombreEmpresa\":\"Hospital Cochrane\"},{\"CodigoEmpresa\":\"7421\",\"NombreEmpresa\":\"Hospital Coinco\"},{\"CodigoEmpresa\":\"7462\",\"NombreEmpresa\":\"Hospital Collipulli\"},{\"CodigoEmpresa\":\"7330\",\"NombreEmpresa\":\"Hospital Combarbalá\"},{\"CodigoEmpresa\":\"7137\",\"NombreEmpresa\":\"HOSPITAL COMUNITARIO DE SALUD FAMILIAR DE BULNES\"},{\"CodigoEmpresa\":\"7400\",\"NombreEmpresa\":\"Hospital Contulmo\"},{\"CodigoEmpresa\":\"7340\",\"NombreEmpresa\":\"Hospital Coyhaique\"},{\"CodigoEmpresa\":\"7399\",\"NombreEmpresa\":\"Hospital Curanilahue\"},{\"CodigoEmpresa\":\"7452\",\"NombreEmpresa\":\"Hospital Curicó\"},{\"CodigoEmpresa\":\"1286160\",\"NombreEmpresa\":\"HOSPITAL DE CASTRO DR. AUGUSTO RIFFART\"},{\"CodigoEmpresa\":\"7279\",\"NombreEmpresa\":\"Hospital de Chanco\"},{\"CodigoEmpresa\":\"7413\",\"NombreEmpresa\":\"Hospital de Chañaral\"},{\"CodigoEmpresa\":\"7441\",\"NombreEmpresa\":\"Hospital de Chimbarongo\"},{\"CodigoEmpresa\":\"7277\",\"NombreEmpresa\":\"Hospital de Constitución\"},{\"CodigoEmpresa\":\"7411\",\"NombreEmpresa\":\"Hospital de Copiapó\"},{\"CodigoEmpresa\":\"7426\",\"NombreEmpresa\":\"Hospital de Corral\"},{\"CodigoEmpresa\":\"7291\",\"NombreEmpresa\":\"Hospital de Cunco\"},{\"CodigoEmpresa\":\"7455\",\"NombreEmpresa\":\"Hospital de Curacaví\"},{\"CodigoEmpresa\":\"7278\",\"NombreEmpresa\":\"Hospital de Curepto\"},{\"CodigoEmpresa\":\"7414\",\"NombreEmpresa\":\"Hospital de Huasco\"},{\"CodigoEmpresa\":\"7468\",\"NombreEmpresa\":\"Hospital de Illapel\"},{\"CodigoEmpresa\":\"7429\",\"NombreEmpresa\":\"Hospital De la Unión\"},{\"CodigoEmpresa\":\"7424\",\"NombreEmpresa\":\"Hospital de Lanco\"},{\"CodigoEmpresa\":\"7439\",\"NombreEmpresa\":\"Hospital de Litueche\"},{\"CodigoEmpresa\":\"7447\",\"NombreEmpresa\":\"Hospital de Lolol\"},{\"CodigoEmpresa\":\"7156\",\"NombreEmpresa\":\"Hospital de Loncoche\"},{\"CodigoEmpresa\":\"7425\",\"NombreEmpresa\":\"Hospital de los Lagos\"},{\"CodigoEmpresa\":\"7442\",\"NombreEmpresa\":\"Hospital de Marchigue\"},{\"CodigoEmpresa\":\"7370\",\"NombreEmpresa\":\"Hospital de Mejillones\"},{\"CodigoEmpresa\":\"7458\",\"NombreEmpresa\":\"Hospital de Melipilla\"},{\"CodigoEmpresa\":\"1238659\",\"NombreEmpresa\":\"Hospital de Misión San Juan de la Costa\"},{\"CodigoEmpresa\":\"7280\",\"NombreEmpresa\":\"Hospital de MOLINA\"},{\"CodigoEmpresa\":\"7434\",\"NombreEmpresa\":\"Hospital de Mulchén\"},{\"CodigoEmpresa\":\"7445\",\"NombreEmpresa\":\"Hospital de Nancagua\"},{\"CodigoEmpresa\":\"7045\",\"NombreEmpresa\":\"Hospital de Niños Roberto del Rio\"},{\"CodigoEmpresa\":\"7422\",\"NombreEmpresa\":\"Hospital de Paillaco\"},{\"CodigoEmpresa\":\"7459\",\"NombreEmpresa\":\"Hospital de Peñaflor\"},{\"CodigoEmpresa\":\"7444\",\"NombreEmpresa\":\"Hospital de Peumo\"},{\"CodigoEmpresa\":\"7287\",\"NombreEmpresa\":\"HOSPITAL DE PUERTO OCTAY\"},{\"CodigoEmpresa\":\"7465\",\"NombreEmpresa\":\"Hospital de Purén\"},{\"CodigoEmpresa\":\"7327\",\"NombreEmpresa\":\"Hospital de Purranque\"},{\"CodigoEmpresa\":\"7440\",\"NombreEmpresa\":\"Hospital de Rengo\"},{\"CodigoEmpresa\":\"7323\",\"NombreEmpresa\":\"Hospital de Salamanca\"},{\"CodigoEmpresa\":\"7448\",\"NombreEmpresa\":\"Hospital de San Fernando\"},{\"CodigoEmpresa\":\"7443\",\"NombreEmpresa\":\"Hospital de San Vicente de Tagua Tagua\"},{\"CodigoEmpresa\":\"7314\",\"NombreEmpresa\":\"Hospital de Santa Cruz\"},{\"CodigoEmpresa\":\"7457\",\"NombreEmpresa\":\"Hospital de Talagante\"},{\"CodigoEmpresa\":\"7391\",\"NombreEmpresa\":\"Hospital de Taltal\"},{\"CodigoEmpresa\":\"7460\",\"NombreEmpresa\":\"HOSPITAL DE URGENCIA ASISTENCIA PUBLICA DR ALEJANDRO DEL RIO\"},{\"CodigoEmpresa\":\"1238663\",\"NombreEmpresa\":\"Hospital del Perpetuo Socorro de Quilacahuin\"},{\"CodigoEmpresa\":\"7428\",\"NombreEmpresa\":\"Hospital del Salvador\"},{\"CodigoEmpresa\":\"7415\",\"NombreEmpresa\":\"Hospital Diego de Almagro\"},{\"CodigoEmpresa\":\"7046\",\"NombreEmpresa\":\"Hospital Doctor Hernán Henríquez Aravena\"},{\"CodigoEmpresa\":\"6918\",\"NombreEmpresa\":\"Hospital Doctor Luis Calvo Mackenna\"},{\"CodigoEmpresa\":\"7491\",\"NombreEmpresa\":\"Hospital Dr Victor Hugo  Möll de Cabildo\"},{\"CodigoEmpresa\":\"7289\",\"NombreEmpresa\":\"Hospital Dr. Abraham Godoy Peña\"},{\"CodigoEmpresa\":\"7310\",\"NombreEmpresa\":\"Hospital Dr. Augusto Essmann Burgos\"},{\"CodigoEmpresa\":\"7383\",\"NombreEmpresa\":\"Hospital Dr. Felix Bulnes Cerda\"},{\"CodigoEmpresa\":\"7324\",\"NombreEmpresa\":\"Hospital Dr. GGB\"},{\"CodigoEmpresa\":\"6936\",\"NombreEmpresa\":\"Hospital Dr. Gustavo Fricke\"},{\"CodigoEmpresa\":\"7386\",\"NombreEmpresa\":\"Hospital Dr. Marcos Chamorro Iglesias\"},{\"CodigoEmpresa\":\"7344\",\"NombreEmpresa\":\"Hospital Dr. Mario Sánchez Vergara de La Calera\"},{\"CodigoEmpresa\":\"7139\",\"NombreEmpresa\":\"Hospital El Carmen\"},{\"CodigoEmpresa\":\"7390\",\"NombreEmpresa\":\"Hospital El Pino\"},{\"CodigoEmpresa\":\"7475\",\"NombreEmpresa\":\"Hospital Florida\"},{\"CodigoEmpresa\":\"7290\",\"NombreEmpresa\":\"Hospital Galvarino\"},{\"CodigoEmpresa\":\"7490\",\"NombreEmpresa\":\"Hospital Geriátrico Paz de la Tarde\"},{\"CodigoEmpresa\":\"7047\",\"NombreEmpresa\":\"Hospital Gorbea\"},{\"CodigoEmpresa\":\"7042\",\"NombreEmpresa\":\"Hospital Herminda Martin\"},{\"CodigoEmpresa\":\"7255\",\"NombreEmpresa\":\"Hospital Hualañé\"},{\"CodigoEmpresa\":\"7389\",\"NombreEmpresa\":\"Hospital Huepil\"},{\"CodigoEmpresa\":\"7401\",\"NombreEmpresa\":\"Hospital Intercultural Kallvu Llanka\"},{\"CodigoEmpresa\":\"7487\",\"NombreEmpresa\":\"Hospital La Ligua\"},{\"CodigoEmpresa\":\"7312\",\"NombreEmpresa\":\"Hospital La Serena\"},{\"CodigoEmpresa\":\"7464\",\"NombreEmpresa\":\"Hospital Laja\"},{\"CodigoEmpresa\":\"7419\",\"NombreEmpresa\":\"Hospital Las Higueras\"},{\"CodigoEmpresa\":\"7402\",\"NombreEmpresa\":\"Hospital Lebu\"},{\"CodigoEmpresa\":\"7258\",\"NombreEmpresa\":\"Hospital Linares\"},{\"CodigoEmpresa\":\"7481\",\"NombreEmpresa\":\"Hospital Lota\"},{\"CodigoEmpresa\":\"1076658\",\"NombreEmpresa\":\"HOSPITAL METROPOLITANO DE SANTIAGO\"},{\"CodigoEmpresa\":\"7388\",\"NombreEmpresa\":\"Hospital Nacimiento\"},{\"CodigoEmpresa\":\"7417\",\"NombreEmpresa\":\"Hospital Ovalle\"},{\"CodigoEmpresa\":\"7331\",\"NombreEmpresa\":\"Hospital Padre Alberto Hurtado\"},{\"CodigoEmpresa\":\"102393\",\"NombreEmpresa\":\"HOSPITAL PANGUIPULLI\"},{\"CodigoEmpresa\":\"7259\",\"NombreEmpresa\":\"Hospital Parral\"},{\"CodigoEmpresa\":\"7053\",\"NombreEmpresa\":\"Hospital Pedro Morales C.\"},{\"CodigoEmpresa\":\"7446\",\"NombreEmpresa\":\"Hospital Penco - Lirquen\"},{\"CodigoEmpresa\":\"7489\",\"NombreEmpresa\":\"Hospital Peñablanca\"},{\"CodigoEmpresa\":\"7343\",\"NombreEmpresa\":\"Hospital Petorca\"},{\"CodigoEmpresa\":\"7435\",\"NombreEmpresa\":\"Hospital Pichidegua\"},{\"CodigoEmpresa\":\"7436\",\"NombreEmpresa\":\"Hospital Pichilemu\"},{\"CodigoEmpresa\":\"7048\",\"NombreEmpresa\":\"Hospital Pitrufquén\"},{\"CodigoEmpresa\":\"7412\",\"NombreEmpresa\":\"Hospital Provincial del Huasco Monseñor Fernando Ariztia Ruiz\"},{\"CodigoEmpresa\":\"1216633\",\"NombreEmpresa\":\"HOSPITAL PSIQUIATRICO DR. PHILIPPE PINEL PUTAENDO\"},{\"CodigoEmpresa\":\"7427\",\"NombreEmpresa\":\"Hospital Psiquiátrico El Peral\"},{\"CodigoEmpresa\":\"7335\",\"NombreEmpresa\":\"Hospital Puerto Aysén\"},{\"CodigoEmpresa\":\"7476\",\"NombreEmpresa\":\"Hospital Puerto Cisnes\"},{\"CodigoEmpresa\":\"127018\",\"NombreEmpresa\":\"HOSPITAL PUERTO MONTT SERVICIO DE SALUD DEL RELONCAVI\"},{\"CodigoEmpresa\":\"7307\",\"NombreEmpresa\":\"Hospital Puerto Saavedra\"},{\"CodigoEmpresa\":\"7485\",\"NombreEmpresa\":\"Hospital Quilpué\"},{\"CodigoEmpresa\":\"7348\",\"NombreEmpresa\":\"Hospital Quintero\"},{\"CodigoEmpresa\":\"7423\",\"NombreEmpresa\":\"Hospital Río Bueno\"},{\"CodigoEmpresa\":\"7470\",\"NombreEmpresa\":\"Hospital Rio Negro\"},{\"CodigoEmpresa\":\"1215262\",\"NombreEmpresa\":\"Hospital San Antonio de Putaendo\"},{\"CodigoEmpresa\":\"7469\",\"NombreEmpresa\":\"Hospital San Carlos\"},{\"CodigoEmpresa\":\"7262\",\"NombreEmpresa\":\"Hospital San Javier\"},{\"CodigoEmpresa\":\"7406\",\"NombreEmpresa\":\"Hospital San José\"},{\"CodigoEmpresa\":\"1214332\",\"NombreEmpresa\":\"Hospital San Juan de Dios de Los Andes\"},{\"CodigoEmpresa\":\"7405\",\"NombreEmpresa\":\"Hospital San Luis de Buin\"},{\"CodigoEmpresa\":\"7345\",\"NombreEmpresa\":\"Hospital San Martín de Quillota\"},{\"CodigoEmpresa\":\"7477\",\"NombreEmpresa\":\"Hospital Sanatorio San José de Maipo\"},{\"CodigoEmpresa\":\"7404\",\"NombreEmpresa\":\"Hospital Santa Barbara\"},{\"CodigoEmpresa\":\"7449\",\"NombreEmpresa\":\"Hospital Santa Filomena de Graneros\"},{\"CodigoEmpresa\":\"7318\",\"NombreEmpresa\":\"Hospital Santa Juana\"},{\"CodigoEmpresa\":\"7130\",\"NombreEmpresa\":\"Hospital Santiago Oriente Dr. Luis Tisne Brousse\"},{\"CodigoEmpresa\":\"7486\",\"NombreEmpresa\":\"Hospital Santo Tomás de Limache\"},{\"CodigoEmpresa\":\"7261\",\"NombreEmpresa\":\"Hospital Teno\"},{\"CodigoEmpresa\":\"7274\",\"NombreEmpresa\":\"Hospital Til - Til\"},{\"CodigoEmpresa\":\"7385\",\"NombreEmpresa\":\"Hospital Tocopilla\"},{\"CodigoEmpresa\":\"7062\",\"NombreEmpresa\":\"Hospital Toltén\"},{\"CodigoEmpresa\":\"7384\",\"NombreEmpresa\":\"Hospital Traiguén\"},{\"CodigoEmpresa\":\"7288\",\"NombreEmpresa\":\"Hospital Victoria\"},{\"CodigoEmpresa\":\"7049\",\"NombreEmpresa\":\"Hospital Vilcún\"},{\"CodigoEmpresa\":\"7132\",\"NombreEmpresa\":\"Hospital Villarrica\"},{\"CodigoEmpresa\":\"7397\",\"NombreEmpresa\":\"Hospital Yumbel\"},{\"CodigoEmpresa\":\"100156\",\"NombreEmpresa\":\"I MUNICIPALIDAD DE ANGOL\"},{\"CodigoEmpresa\":\"87653\",\"NombreEmpresa\":\"I MUNICIPALIDAD DE ANTOFAGASTA\"},{\"CodigoEmpresa\":\"100049\",\"NombreEmpresa\":\"I MUNICIPALIDAD DE AYSEN\"},{\"CodigoEmpresa\":\"86917\",\"NombreEmpresa\":\"I MUNICIPALIDAD DE CALAMA\"},{\"CodigoEmpresa\":\"7241\",\"NombreEmpresa\":\"I MUNICIPALIDAD DE CERRILLOS\"},{\"CodigoEmpresa\":\"154782\",\"NombreEmpresa\":\"I MUNICIPALIDAD DE CHILE CHICO\"},{\"CodigoEmpresa\":\"84958\",\"NombreEmpresa\":\"I MUNICIPALIDAD DE CONCHALI\"},{\"CodigoEmpresa\":\"86872\",\"NombreEmpresa\":\"I MUNICIPALIDAD DE COPIAPO\"},{\"CodigoEmpresa\":\"116298\",\"NombreEmpresa\":\"I MUNICIPALIDAD DE EL QUISCO\"},{\"CodigoEmpresa\":\"116944\",\"NombreEmpresa\":\"I MUNICIPALIDAD DE EMPEDRADO\"},{\"CodigoEmpresa\":\"7496\",\"NombreEmpresa\":\"I MUNICIPALIDAD DE LA COMUNA DE EL BOSQUE\"},{\"CodigoEmpresa\":\"113255\",\"NombreEmpresa\":\"I MUNICIPALIDAD DE LA CRUZ\"},{\"CodigoEmpresa\":\"83825\",\"NombreEmpresa\":\"I MUNICIPALIDAD DE LA PINTANA\"},{\"CodigoEmpresa\":\"116296\",\"NombreEmpresa\":\"I MUNICIPALIDAD DE LAS CABRAS\"},{\"CodigoEmpresa\":\"7064\",\"NombreEmpresa\":\"I MUNICIPALIDAD DE LLANQUIHUE\"},{\"CodigoEmpresa\":\"118620\",\"NombreEmpresa\":\"I MUNICIPALIDAD DE LOS ALAMOS\"},{\"CodigoEmpresa\":\"112924\",\"NombreEmpresa\":\"I MUNICIPALIDAD DE MONTEPATRIA\"},{\"CodigoEmpresa\":\"117406\",\"NombreEmpresa\":\"I MUNICIPALIDAD DE PADRE HURTADO\"},{\"CodigoEmpresa\":\"88102\",\"NombreEmpresa\":\"I MUNICIPALIDAD DE PROVIDENCIA\"},{\"CodigoEmpresa\":\"87388\",\"NombreEmpresa\":\"I MUNICIPALIDAD DE PUENTE ALTO\"},{\"CodigoEmpresa\":\"86507\",\"NombreEmpresa\":\"I MUNICIPALIDAD DE PUERTO MONTT\"},{\"CodigoEmpresa\":\"98280\",\"NombreEmpresa\":\"I MUNICIPALIDAD DE PUTAENDO\"},{\"CodigoEmpresa\":\"88203\",\"NombreEmpresa\":\"I MUNICIPALIDAD DE QUILLOTA\"},{\"CodigoEmpresa\":\"93774\",\"NombreEmpresa\":\"I MUNICIPALIDAD DE SAN CLEMENTE\"},{\"CodigoEmpresa\":\"142855\",\"NombreEmpresa\":\"I MUNICIPALIDAD DE SAN PEDRO\"},{\"CodigoEmpresa\":\"113428\",\"NombreEmpresa\":\"I MUNICIPALIDAD DE SAN PEDRO DE ATACAMA\"},{\"CodigoEmpresa\":\"98443\",\"NombreEmpresa\":\"I MUNICIPALIDAD DE TOME\"},{\"CodigoEmpresa\":\"114395\",\"NombreEmpresa\":\"I MUNICIPALIDAD DE TUCAPEL\"},{\"CodigoEmpresa\":\"116399\",\"NombreEmpresa\":\"I MUNICIPALIDAD DE VICTORIA\"},{\"CodigoEmpresa\":\"84152\",\"NombreEmpresa\":\"I MUNICIPALIDAD VALDIVIA\"},{\"CodigoEmpresa\":\"114393\",\"NombreEmpresa\":\"I.  MUNICIPALIDAD CURACO  DE VELEZ\"},{\"CodigoEmpresa\":\"7328\",\"NombreEmpresa\":\"I. Municipalidad  de Alto del Carmen\"},{\"CodigoEmpresa\":\"121539\",\"NombreEmpresa\":\"I. Municipalidad de Calle Larga\"},{\"CodigoEmpresa\":\"113614\",\"NombreEmpresa\":\"I. MUNICIPALIDAD DE CASABLANCA\"},{\"CodigoEmpresa\":\"88254\",\"NombreEmpresa\":\"I. Municipalidad de Chillán\"},{\"CodigoEmpresa\":\"99322\",\"NombreEmpresa\":\"I. MUNICIPALIDAD DE COLINA\"},{\"CodigoEmpresa\":\"87901\",\"NombreEmpresa\":\"I. MUNICIPALIDAD DE COQUIMBO\"},{\"CodigoEmpresa\":\"100448\",\"NombreEmpresa\":\"I. Municipalidad de Coronel\"},{\"CodigoEmpresa\":\"99105\",\"NombreEmpresa\":\"I. MUNICIPALIDAD DE INDEPENDENCIA\"},{\"CodigoEmpresa\":\"114398\",\"NombreEmpresa\":\"I. Municipalidad de Licantén\"},{\"CodigoEmpresa\":\"86518\",\"NombreEmpresa\":\"I. MUNICIPALIDAD DE LO ESPEJO\"},{\"CodigoEmpresa\":\"87373\",\"NombreEmpresa\":\"I. MUNICIPALIDAD DE LO PRADO\"},{\"CodigoEmpresa\":\"101002\",\"NombreEmpresa\":\"I. Municipalidad de Los Andes\"},{\"CodigoEmpresa\":\"115166\",\"NombreEmpresa\":\"I. MUNICIPALIDAD DE PENCAHUE\"},{\"CodigoEmpresa\":\"102868\",\"NombreEmpresa\":\"I. Municipalidad de Puerto Varas\"},{\"CodigoEmpresa\":\"87633\",\"NombreEmpresa\":\"I. MUNICIPALIDAD DE QUILPUE\"},{\"CodigoEmpresa\":\"114918\",\"NombreEmpresa\":\"I. MUNICIPALIDAD DE RINCONADA\"},{\"CodigoEmpresa\":\"7367\",\"NombreEmpresa\":\"I. Municipalidad de Río Negro\"},{\"CodigoEmpresa\":\"111960\",\"NombreEmpresa\":\"I. Municipalidad de San Pablo\"},{\"CodigoEmpresa\":\"99765\",\"NombreEmpresa\":\"I. MUNICIPALIDAD DE TALAGANTE\"},{\"CodigoEmpresa\":\"84480\",\"NombreEmpresa\":\"I. MUNICIPALIDAD DE TALCA\"},{\"CodigoEmpresa\":\"115167\",\"NombreEmpresa\":\"I. MUNICIPALIDAD DE TOCOPILLA\"},{\"CodigoEmpresa\":\"86491\",\"NombreEmpresa\":\"I. MUNICIPALIDAD DE VALLENAR\"},{\"CodigoEmpresa\":\"94315\",\"NombreEmpresa\":\"I. MUNICIPALIDAD POZO ALMONTE\"},{\"CodigoEmpresa\":\"86664\",\"NombreEmpresa\":\"I.MUNICIPALIDAD DE CERRO NAVIA\"},{\"CodigoEmpresa\":\"92414\",\"NombreEmpresa\":\"I.MUNICIPALIDAD DE CHEPICA\"},{\"CodigoEmpresa\":\"113254\",\"NombreEmpresa\":\"I.Municipalidad de Coinco\"},{\"CodigoEmpresa\":\"87382\",\"NombreEmpresa\":\"I.MUNICIPALIDAD DE CONCEPCION\"},{\"CodigoEmpresa\":\"94458\",\"NombreEmpresa\":\"I.MUNICIPALIDAD DE CONCON\"},{\"CodigoEmpresa\":\"87838\",\"NombreEmpresa\":\"I.Municipalidad de Curicó\"},{\"CodigoEmpresa\":\"87824\",\"NombreEmpresa\":\"I.MUNICIPALIDAD DE ESTACION CENTRAL\"},{\"CodigoEmpresa\":\"84300\",\"NombreEmpresa\":\"I.MUNICIPALIDAD DE MACUL\"},{\"CodigoEmpresa\":\"115304\",\"NombreEmpresa\":\"I.MUNICIPALIDAD DE MARCHIGUE\"},{\"CodigoEmpresa\":\"120798\",\"NombreEmpresa\":\"I.MUNICIPALIDAD DE MARIA PINTO\"},{\"CodigoEmpresa\":\"99101\",\"NombreEmpresa\":\"I.Municipalidad de Mostazal\"},{\"CodigoEmpresa\":\"87172\",\"NombreEmpresa\":\"I.MUNICIPALIDAD DE PEÑALOLEN\"},{\"CodigoEmpresa\":\"113913\",\"NombreEmpresa\":\"I.MUNICIPALIDAD DE SAN RAFAEL\"},{\"CodigoEmpresa\":\"87399\",\"NombreEmpresa\":\"I.MUNICIPALIDAD DE VIÑA DEL MAR\"},{\"CodigoEmpresa\":\"115609\",\"NombreEmpresa\":\"IIustre Municipalidad de Malloa\"},{\"CodigoEmpresa\":\"86580\",\"NombreEmpresa\":\"IL. MUNICIPALIDAD DE PUNTA ARENAS\"},{\"CodigoEmpresa\":\"7356\",\"NombreEmpresa\":\"ILUSTRE MUNICIPALIDAD  DE SAGRADA FAMILIA\"},{\"CodigoEmpresa\":\"182336\",\"NombreEmpresa\":\"Ilustre Municipalidad Alto Bio Bio\"},{\"CodigoEmpresa\":\"7294\",\"NombreEmpresa\":\"Ilustre Municipalidad de Algarrobo\"},{\"CodigoEmpresa\":\"111124\",\"NombreEmpresa\":\"Ilustre Municipalidad de Alhue\"},{\"CodigoEmpresa\":\"119639\",\"NombreEmpresa\":\"Ilustre Municipalidad de Andacollo\"},{\"CodigoEmpresa\":\"119484\",\"NombreEmpresa\":\"ILUSTRE MUNICIPALIDAD DE ANTUCO\"},{\"CodigoEmpresa\":\"7050\",\"NombreEmpresa\":\"Ilustre Municipalidad de Arauco\"},{\"CodigoEmpresa\":\"86624\",\"NombreEmpresa\":\"ILUSTRE MUNICIPALIDAD DE ARICA\"},{\"CodigoEmpresa\":\"118069\",\"NombreEmpresa\":\"Ilustre municipalidad de Bulnes\"},{\"CodigoEmpresa\":\"115459\",\"NombreEmpresa\":\"Ilustre Municipalidad de Cabildo\"},{\"CodigoEmpresa\":\"116407\",\"NombreEmpresa\":\"Ilustre Municipalidad de Cabo de Hornos\"},{\"CodigoEmpresa\":\"120186\",\"NombreEmpresa\":\"Ilustre Municipalidad de Cabrero\"},{\"CodigoEmpresa\":\"115011\",\"NombreEmpresa\":\"Ilustre Municipalidad de Calbuco\"},{\"CodigoEmpresa\":\"7364\",\"NombreEmpresa\":\"Ilustre Municipalidad de Caldera\"},{\"CodigoEmpresa\":\"116219\",\"NombreEmpresa\":\"Ilustre Municipalidad de Calera de Tango\"},{\"CodigoEmpresa\":\"294421\",\"NombreEmpresa\":\"Ilustre Municipalidad de Camarones\"},{\"CodigoEmpresa\":\"119487\",\"NombreEmpresa\":\"Ilustre Municipalidad de Camiña\"},{\"CodigoEmpresa\":\"84473\",\"NombreEmpresa\":\"ILUSTRE MUNICIPALIDAD DE CANELA\"},{\"CodigoEmpresa\":\"119488\",\"NombreEmpresa\":\"Ilustre Municipalidad de Cañete\"},{\"CodigoEmpresa\":\"100127\",\"NombreEmpresa\":\"ILUSTRE MUNICIPALIDAD DE CASTRO\"},{\"CodigoEmpresa\":\"129737\",\"NombreEmpresa\":\"Ilustre Municipalidad de Catemu\"},{\"CodigoEmpresa\":\"7351\",\"NombreEmpresa\":\"Ilustre Municipalidad de Cauquenes\"},{\"CodigoEmpresa\":\"114392\",\"NombreEmpresa\":\"ILUSTRE MUNICIPALIDAD DE CHAITEN\"},{\"CodigoEmpresa\":\"7501\",\"NombreEmpresa\":\"Ilustre Municipalidad de Chanco\"},{\"CodigoEmpresa\":\"109196\",\"NombreEmpresa\":\"ILUSTRE MUNICIPALIDAD DE CHAÑARAL\"},{\"CodigoEmpresa\":\"7362\",\"NombreEmpresa\":\"Ilustre Municipalidad de Chillán\"},{\"CodigoEmpresa\":\"116221\",\"NombreEmpresa\":\"Ilustre Municipalidad de Chillan Viejo\"},{\"CodigoEmpresa\":\"116404\",\"NombreEmpresa\":\"Ilustre Municipalidad de Chimbarongo\"},{\"CodigoEmpresa\":\"165105\",\"NombreEmpresa\":\"Ilustre Municipalidad de Cholchol\"},{\"CodigoEmpresa\":\"115168\",\"NombreEmpresa\":\"ILUSTRE MUNICIPALIDAD DE CHONCHI\"},{\"CodigoEmpresa\":\"116747\",\"NombreEmpresa\":\"Ilustre Municipalidad de Cisnes\"},{\"CodigoEmpresa\":\"114925\",\"NombreEmpresa\":\"ILUSTRE MUNICIPALIDAD DE COBQUECURA\"},{\"CodigoEmpresa\":\"182424\",\"NombreEmpresa\":\"Ilustre Municipalidad de Cochamo\"},{\"CodigoEmpresa\":\"116942\",\"NombreEmpresa\":\"Ilustre Municipalidad de Cochrane\"},{\"CodigoEmpresa\":\"165106\",\"NombreEmpresa\":\"Ilustre Municipalidad de Codegua\"},{\"CodigoEmpresa\":\"116742\",\"NombreEmpresa\":\"Ilustre Municipalidad de Coelemu\"},{\"CodigoEmpresa\":\"7146\",\"NombreEmpresa\":\"Ilustre Municipalidad de Coihueco\"},{\"CodigoEmpresa\":\"124195\",\"NombreEmpresa\":\"Ilustre Municipalidad de Colbún\"},{\"CodigoEmpresa\":\"1053458\",\"NombreEmpresa\":\"ILUSTRE MUNICIPALIDAD DE COLCHANE\"},{\"CodigoEmpresa\":\"113853\",\"NombreEmpresa\":\"Ilustre Municipalidad de Collipulli\"},{\"CodigoEmpresa\":\"119266\",\"NombreEmpresa\":\"Ilustre Municipalidad de Coltauco\"},{\"CodigoEmpresa\":\"102316\",\"NombreEmpresa\":\"ILUSTRE MUNICIPALIDAD DE CONSTITUCION\"},{\"CodigoEmpresa\":\"141884\",\"NombreEmpresa\":\"Ilustre Municipalidad de Contulmo\"},{\"CodigoEmpresa\":\"7071\",\"NombreEmpresa\":\"Ilustre Municipalidad de Coyhaique\"},{\"CodigoEmpresa\":\"129738\",\"NombreEmpresa\":\"Ilustre Municipalidad de Cunco\"},{\"CodigoEmpresa\":\"121613\",\"NombreEmpresa\":\"Ilustre Municipalidad de Curacautín\"},{\"CodigoEmpresa\":\"125602\",\"NombreEmpresa\":\"Ilustre Municipalidad de Curacaví\"},{\"CodigoEmpresa\":\"127036\",\"NombreEmpresa\":\"Ilustre Municipalidad de Curanilahue\"},{\"CodigoEmpresa\":\"118093\",\"NombreEmpresa\":\"Ilustre Municipalidad de Curarrehue\"},{\"CodigoEmpresa\":\"133311\",\"NombreEmpresa\":\"Ilustre Municipalidad de Curepto\"},{\"CodigoEmpresa\":\"7454\",\"NombreEmpresa\":\"Ilustre Municipalidad de Diego de Almagro\"},{\"CodigoEmpresa\":\"123784\",\"NombreEmpresa\":\"Ilustre Municipalidad de El Carmen\"},{\"CodigoEmpresa\":\"116741\",\"NombreEmpresa\":\"ILUSTRE MUNICIPALIDAD DE EL MONTE\"},{\"CodigoEmpresa\":\"7066\",\"NombreEmpresa\":\"Ilustre Municipalidad de El Tabo\"},{\"CodigoEmpresa\":\"132741\",\"NombreEmpresa\":\"Ilustre Municipalidad de Ercilla\"},{\"CodigoEmpresa\":\"115285\",\"NombreEmpresa\":\"Ilustre Municipalidad de Florida\"},{\"CodigoEmpresa\":\"118089\",\"NombreEmpresa\":\"Ilustre Municipalidad de Freire\"},{\"CodigoEmpresa\":\"135567\",\"NombreEmpresa\":\"Ilustre Municipalidad de Freirina\"},{\"CodigoEmpresa\":\"119651\",\"NombreEmpresa\":\"Ilustre Municipalidad de Fresia\"},{\"CodigoEmpresa\":\"84478\",\"NombreEmpresa\":\"ILUSTRE MUNICIPALIDAD DE FRUTILLAR\"},{\"CodigoEmpresa\":\"118068\",\"NombreEmpresa\":\"Ilustre Municipalidad de Futaleufu\"},{\"CodigoEmpresa\":\"106880\",\"NombreEmpresa\":\"Ilustre Municipalidad de Futrono\"},{\"CodigoEmpresa\":\"124203\",\"NombreEmpresa\":\"Ilustre Municipalidad de Galvarino\"},{\"CodigoEmpresa\":\"118859\",\"NombreEmpresa\":\"Ilustre Municipalidad de General Lagos\"},{\"CodigoEmpresa\":\"148507\",\"NombreEmpresa\":\"Ilustre Municipalidad de Graneros\"},{\"CodigoEmpresa\":\"165107\",\"NombreEmpresa\":\"Ilustre Municipalidad de Guaitecas\"},{\"CodigoEmpresa\":\"116733\",\"NombreEmpresa\":\"Ilustre Municipalidad de Hijuelas\"},{\"CodigoEmpresa\":\"106170\",\"NombreEmpresa\":\"ILUSTRE MUNICIPALIDAD DE HUALAIHUE\"},{\"CodigoEmpresa\":\"118855\",\"NombreEmpresa\":\"Ilustre Municipalidad de Hualañe\"},{\"CodigoEmpresa\":\"123786\",\"NombreEmpresa\":\"Ilustre Municipalidad de Hualpen\"},{\"CodigoEmpresa\":\"140867\",\"NombreEmpresa\":\"Ilustre Municipalidad de Hualqui\"},{\"CodigoEmpresa\":\"116946\",\"NombreEmpresa\":\"ILUSTRE MUNICIPALIDAD DE HUARA\"},{\"CodigoEmpresa\":\"116406\",\"NombreEmpresa\":\"Ilustre Municipalidad de Huasco\"},{\"CodigoEmpresa\":\"115164\",\"NombreEmpresa\":\"ILUSTRE MUNICIPALIDAD DE ILLAPEL\"},{\"CodigoEmpresa\":\"87175\",\"NombreEmpresa\":\"ILUSTRE MUNICIPALIDAD DE IQUIQUE\"},{\"CodigoEmpresa\":\"119852\",\"NombreEmpresa\":\"Ilustre Municipalidad de Isla de Pascua\"},{\"CodigoEmpresa\":\"108932\",\"NombreEmpresa\":\"ILUSTRE MUNICIPALIDAD DE JUAN FERNANDEZ\"},{\"CodigoEmpresa\":\"115185\",\"NombreEmpresa\":\"Ilustre Municipalidad de La Calera\"},{\"CodigoEmpresa\":\"100488\",\"NombreEmpresa\":\"Ilustre Municipalidad de La Cisterna\"},{\"CodigoEmpresa\":\"165285\",\"NombreEmpresa\":\"Ilustre Municipalidad de La Estrella\"},{\"CodigoEmpresa\":\"112097\",\"NombreEmpresa\":\"ILUSTRE MUNICIPALIDAD DE LA GRANJA\"},{\"CodigoEmpresa\":\"116410\",\"NombreEmpresa\":\"Ilustre Municipalidad de La Higuera\"},{\"CodigoEmpresa\":\"100648\",\"NombreEmpresa\":\"ILUSTRE MUNICIPALIDAD DE LA LIGUA\"},{\"CodigoEmpresa\":\"7366\",\"NombreEmpresa\":\"Ilustre Municipalidad de La Reina\"},{\"CodigoEmpresa\":\"87976\",\"NombreEmpresa\":\"ILUSTRE MUNICIPALIDAD DE LA SERENA\"},{\"CodigoEmpresa\":\"114725\",\"NombreEmpresa\":\"Ilustre Municipalidad de La Unión\"},{\"CodigoEmpresa\":\"113735\",\"NombreEmpresa\":\"ILUSTRE MUNICIPALIDAD DE LAGO RANCO\"},{\"CodigoEmpresa\":\"123529\",\"NombreEmpresa\":\"Ilustre Municipalidad de Lago Verde\"},{\"CodigoEmpresa\":\"119999\",\"NombreEmpresa\":\"Ilustre Municipalidad de Laguna Blanca\"},{\"CodigoEmpresa\":\"116405\",\"NombreEmpresa\":\"Ilustre Municipalidad de Laja\"},{\"CodigoEmpresa\":\"118067\",\"NombreEmpresa\":\"Ilustre Municipalidad de Lampa\"},{\"CodigoEmpresa\":\"106876\",\"NombreEmpresa\":\"Ilustre Municipalidad de Lanco\"},{\"CodigoEmpresa\":\"124577\",\"NombreEmpresa\":\"Ilustre Municipalidad de Lautaro\"},{\"CodigoEmpresa\":\"118096\",\"NombreEmpresa\":\"Ilustre Municipalidad de Lebu\"},{\"CodigoEmpresa\":\"7492\",\"NombreEmpresa\":\"Ilustre Municipalidad de Limache\"},{\"CodigoEmpresa\":\"86545\",\"NombreEmpresa\":\"ILUSTRE MUNICIPALIDAD DE LINARES\"},{\"CodigoEmpresa\":\"7365\",\"NombreEmpresa\":\"Ilustre Municipalidad de Litueche\"},{\"CodigoEmpresa\":\"118072\",\"NombreEmpresa\":\"Ilustre Municipalidad de Llay Llay\"},{\"CodigoEmpresa\":\"113258\",\"NombreEmpresa\":\"ILUSTRE MUNICIPALIDAD DE LOLOL\"},{\"CodigoEmpresa\":\"113851\",\"NombreEmpresa\":\"Ilustre Municipalidad de Loncoche\"},{\"CodigoEmpresa\":\"120788\",\"NombreEmpresa\":\"Ilustre Municipalidad de Longavi\"},{\"CodigoEmpresa\":\"119994\",\"NombreEmpresa\":\"Ilustre Municipalidad de Lonquimay\"},{\"CodigoEmpresa\":\"7159\",\"NombreEmpresa\":\"Ilustre Municipalidad de los Lagos\"},{\"CodigoEmpresa\":\"7304\",\"NombreEmpresa\":\"Ilustre Municipalidad de Los Muermos\"},{\"CodigoEmpresa\":\"116408\",\"NombreEmpresa\":\"Ilustre Municipalidad de Los Sauces\"},{\"CodigoEmpresa\":\"116401\",\"NombreEmpresa\":\"Ilustre Municipalidad de Los Vilos\"},{\"CodigoEmpresa\":\"138211\",\"NombreEmpresa\":\"Ilustre Municipalidad de Lumaco\"},{\"CodigoEmpresa\":\"113852\",\"NombreEmpresa\":\"ILUSTRE MUNICIPALIDAD DE MACHALI\"},{\"CodigoEmpresa\":\"115464\",\"NombreEmpresa\":\"Ilustre Municipalidad de Máfil\"},{\"CodigoEmpresa\":\"93619\",\"NombreEmpresa\":\"ILUSTRE MUNICIPALIDAD DE MAIPU\"},{\"CodigoEmpresa\":\"113738\",\"NombreEmpresa\":\"ILUSTRE MUNICIPALIDAD DE MARIA ELENA\"},{\"CodigoEmpresa\":\"120001\",\"NombreEmpresa\":\"Ilustre Municipalidad de Mariquina\"},{\"CodigoEmpresa\":\"118070\",\"NombreEmpresa\":\"Ilustre Municipalidad de Maule\"},{\"CodigoEmpresa\":\"120791\",\"NombreEmpresa\":\"ILUSTRE MUNICIPALIDAD DE MAULLIN\"},{\"CodigoEmpresa\":\"117581\",\"NombreEmpresa\":\"Ilustre Municipalidad de Mejillones\"},{\"CodigoEmpresa\":\"121617\",\"NombreEmpresa\":\"Ilustre Municipalidad de Melipeuco\"},{\"CodigoEmpresa\":\"98901\",\"NombreEmpresa\":\"ILUSTRE MUNICIPALIDAD DE MELIPILLA\"},{\"CodigoEmpresa\":\"84961\",\"NombreEmpresa\":\"ILUSTRE MUNICIPALIDAD DE MOLINA \"},{\"CodigoEmpresa\":\"115311\",\"NombreEmpresa\":\"Ilustre Municipalidad de Mulchen\"},{\"CodigoEmpresa\":\"135561\",\"NombreEmpresa\":\"Ilustre Municipalidad de Nacimiento\"},{\"CodigoEmpresa\":\"116750\",\"NombreEmpresa\":\"Ilustre Municipalidad de Nancagua\"},{\"CodigoEmpresa\":\"98448\",\"NombreEmpresa\":\"ILUSTRE MUNICIPALIDAD DE NATALES\"},{\"CodigoEmpresa\":\"118625\",\"NombreEmpresa\":\"Ilustre Municipalidad de Navidad\"},{\"CodigoEmpresa\":\"142508\",\"NombreEmpresa\":\"Ilustre Municipalidad de Negrete\"},{\"CodigoEmpresa\":\"7051\",\"NombreEmpresa\":\"Ilustre Municipalidad de Ninhue\"},{\"CodigoEmpresa\":\"115468\",\"NombreEmpresa\":\"Ilustre Municipalidad de Nogales\"},{\"CodigoEmpresa\":\"134356\",\"NombreEmpresa\":\"Ilustre Municipalidad de Ñiquen\"},{\"CodigoEmpresa\":\"86764\",\"NombreEmpresa\":\"ILUSTRE MUNICIPALIDAD DE ÑUÑOA\"},{\"CodigoEmpresa\":\"115463\",\"NombreEmpresa\":\"Ilustre Municipalidad de O\\'Higgins\"},{\"CodigoEmpresa\":\"119273\",\"NombreEmpresa\":\"Ilustre Municipalidad de Olivar\"},{\"CodigoEmpresa\":\"119996\",\"NombreEmpresa\":\"Ilustre Municipalidad de Ollagüe\"},{\"CodigoEmpresa\":\"114724\",\"NombreEmpresa\":\"Ilustre Municipalidad de Olmue\"},{\"CodigoEmpresa\":\"84959\",\"NombreEmpresa\":\"ILUSTRE MUNICIPALIDAD DE OSORNO\"},{\"CodigoEmpresa\":\"118075\",\"NombreEmpresa\":\"Ilustre Municipalidad de Paihuano\"},{\"CodigoEmpresa\":\"116744\",\"NombreEmpresa\":\"Ilustre Municipalidad de Paillaco\"},{\"CodigoEmpresa\":\"100728\",\"NombreEmpresa\":\"ILUSTRE MUNICIPALIDAD DE PAINE\"},{\"CodigoEmpresa\":\"110393\",\"NombreEmpresa\":\"Ilustre Municipalidad de Palena\"},{\"CodigoEmpresa\":\"123526\",\"NombreEmpresa\":\"Ilustre Municipalidad de Palmilla\"},{\"CodigoEmpresa\":\"115284\",\"NombreEmpresa\":\"Ilustre Municipalidad de Panguipulli\"},{\"CodigoEmpresa\":\"115302\",\"NombreEmpresa\":\"Ilustre Municipalidad de Papudo\"},{\"CodigoEmpresa\":\"118971\",\"NombreEmpresa\":\"Ilustre Municipalidad de Paredones\"},{\"CodigoEmpresa\":\"94459\",\"NombreEmpresa\":\"ILUSTRE MUNICIPALIDAD DE PARRAL\"},{\"CodigoEmpresa\":\"116729\",\"NombreEmpresa\":\"Ilustre Municipalidad de Pelarco\"},{\"CodigoEmpresa\":\"113978\",\"NombreEmpresa\":\"Ilustre Municipalidad de Pelluhue\"},{\"CodigoEmpresa\":\"117587\",\"NombreEmpresa\":\"Ilustre Municipalidad de Pemuco\"},{\"CodigoEmpresa\":\"142575\",\"NombreEmpresa\":\"Ilustre Municipalidad de Penco\"},{\"CodigoEmpresa\":\"118619\",\"NombreEmpresa\":\"Ilustre Municipalidad de Peralillo\"},{\"CodigoEmpresa\":\"133899\",\"NombreEmpresa\":\"Ilustre Municipalidad de Perquenco\"},{\"CodigoEmpresa\":\"116223\",\"NombreEmpresa\":\"Ilustre Municipalidad de Petorca\"},{\"CodigoEmpresa\":\"118861\",\"NombreEmpresa\":\"Ilustre Municipalidad de Peumo\"},{\"CodigoEmpresa\":\"118077\",\"NombreEmpresa\":\"Ilustre Municipalidad de Pica\"},{\"CodigoEmpresa\":\"118621\",\"NombreEmpresa\":\"Ilustre Municipalidad de Pichidegua\"},{\"CodigoEmpresa\":\"117179\",\"NombreEmpresa\":\"Ilustre Municipalidad de Pichilemu\"},{\"CodigoEmpresa\":\"118071\",\"NombreEmpresa\":\"Ilustre Municipalidad de Pinto\"},{\"CodigoEmpresa\":\"100072\",\"NombreEmpresa\":\"ILUSTRE MUNICIPALIDAD DE PIRQUE\"},{\"CodigoEmpresa\":\"116411\",\"NombreEmpresa\":\"Ilustre Municipalidad de Pitrufquen\"},{\"CodigoEmpresa\":\"118087\",\"NombreEmpresa\":\"Ilustre Municipalidad de Placilla\"},{\"CodigoEmpresa\":\"115798\",\"NombreEmpresa\":\"Ilustre Municipalidad de Porvenir\"},{\"CodigoEmpresa\":\"117585\",\"NombreEmpresa\":\"Ilustre Municipalidad de Primavera\"},{\"CodigoEmpresa\":\"119270\",\"NombreEmpresa\":\"Ilustre Municipalidad de Puchuncavi\"},{\"CodigoEmpresa\":\"86943\",\"NombreEmpresa\":\"ILUSTRE MUNICIPALIDAD DE PUCON\"},{\"CodigoEmpresa\":\"104899\",\"NombreEmpresa\":\"Ilustre Municipalidad de Puerto Octay\"},{\"CodigoEmpresa\":\"115313\",\"NombreEmpresa\":\"Ilustre Municipalidad de Puerto Saavedra\"},{\"CodigoEmpresa\":\"116402\",\"NombreEmpresa\":\"Ilustre Municipalidad de Pumanque\"},{\"CodigoEmpresa\":\"117588\",\"NombreEmpresa\":\"Ilustre Municipalidad de Punitaqui\"},{\"CodigoEmpresa\":\"116403\",\"NombreEmpresa\":\"Ilustre Municipalidad de Puqueldón\"},{\"CodigoEmpresa\":\"114916\",\"NombreEmpresa\":\"ILUSTRE MUNICIPALIDAD DE PURRANQUE\"},{\"CodigoEmpresa\":\"119479\",\"NombreEmpresa\":\"ILUSTRE MUNICIPALIDAD DE PUTRE\"},{\"CodigoEmpresa\":\"105334\",\"NombreEmpresa\":\"ILUSTRE MUNICIPALIDAD DE PUYEHUE\"},{\"CodigoEmpresa\":\"112919\",\"NombreEmpresa\":\"Ilustre Municipalidad de Queilen\"},{\"CodigoEmpresa\":\"110102\",\"NombreEmpresa\":\"Ilustre Municipalidad De Quellón\"},{\"CodigoEmpresa\":\"125066\",\"NombreEmpresa\":\"Ilustre Municipalidad de Quemchi\"},{\"CodigoEmpresa\":\"116940\",\"NombreEmpresa\":\"Ilustre Municipalidad de Quilaco\"},{\"CodigoEmpresa\":\"88313\",\"NombreEmpresa\":\"Ilustre Municipalidad de Quilicura\"},{\"CodigoEmpresa\":\"115979\",\"NombreEmpresa\":\"Ilustre Municipalidad de Quilleco\"},{\"CodigoEmpresa\":\"135562\",\"NombreEmpresa\":\"ILUSTRE MUNICIPALIDAD DE QUILLON\"},{\"CodigoEmpresa\":\"116731\",\"NombreEmpresa\":\"Ilustre Municipalidad de Quinchao\"},{\"CodigoEmpresa\":\"115010\",\"NombreEmpresa\":\"Ilustre Municipalidad de Quinta de Tilcoco\"},{\"CodigoEmpresa\":\"88075\",\"NombreEmpresa\":\"ILUSTRE MUNICIPALIDAD DE QUINTA NORMAL\"},{\"CodigoEmpresa\":\"138454\",\"NombreEmpresa\":\"Ilustre Municipalidad de Quintero\"},{\"CodigoEmpresa\":\"124198\",\"NombreEmpresa\":\"Ilustre Municipalidad de Quirihue\"},{\"CodigoEmpresa\":\"87167\",\"NombreEmpresa\":\"ILUSTRE MUNICIPALIDAD DE RANCAGUA\"},{\"CodigoEmpresa\":\"7418\",\"NombreEmpresa\":\"Ilustre Municipalidad de Ranquil\"},{\"CodigoEmpresa\":\"117589\",\"NombreEmpresa\":\"Ilustre Municipalidad de Rauco\"},{\"CodigoEmpresa\":\"7325\",\"NombreEmpresa\":\"Ilustre Municipalidad de Recoleta\"},{\"CodigoEmpresa\":\"118073\",\"NombreEmpresa\":\"Ilustre Municipalidad de Renaico\"},{\"CodigoEmpresa\":\"87185\",\"NombreEmpresa\":\"ILUSTRE MUNICIPALIDAD DE RENCA\"},{\"CodigoEmpresa\":\"100555\",\"NombreEmpresa\":\"ILUSTRE MUNICIPALIDAD DE RENGO\"},{\"CodigoEmpresa\":\"116215\",\"NombreEmpresa\":\"Ilustre Municipalidad de Requínoa\"},{\"CodigoEmpresa\":\"113252\",\"NombreEmpresa\":\"ILUSTRE MUNICIPALIDAD DE RETIRO\"},{\"CodigoEmpresa\":\"117580\",\"NombreEmpresa\":\"Ilustre Municipalidad de Rio Bueno\"},{\"CodigoEmpresa\":\"89591\",\"NombreEmpresa\":\"ILUSTRE MUNICIPALIDAD DE RIO CLARO\"},{\"CodigoEmpresa\":\"115301\",\"NombreEmpresa\":\"ILUSTRE MUNICIPALIDAD DE RIO VERDE\"},{\"CodigoEmpresa\":\"141881\",\"NombreEmpresa\":\"Ilustre Municipalidad de Romeral\"},{\"CodigoEmpresa\":\"116295\",\"NombreEmpresa\":\"Ilustre Municipalidad de Salamanca\"},{\"CodigoEmpresa\":\"86548\",\"NombreEmpresa\":\"ILUSTRE MUNICIPALIDAD DE SAN BERNARDO\"},{\"CodigoEmpresa\":\"116226\",\"NombreEmpresa\":\"Ilustre Municipalidad de San Esteban\"},{\"CodigoEmpresa\":\"128889\",\"NombreEmpresa\":\"ILUSTRE MUNICIPALIDAD DE SAN FABIAN\"},{\"CodigoEmpresa\":\"100158\",\"NombreEmpresa\":\"ILUSTRE MUNICIPALIDAD DE SAN FELIPE\"},{\"CodigoEmpresa\":\"7482\",\"NombreEmpresa\":\"Ilustre Municipalidad de San Fernando\"},{\"CodigoEmpresa\":\"115795\",\"NombreEmpresa\":\"Ilustre Municipalidad de San Gregorio\"},{\"CodigoEmpresa\":\"116409\",\"NombreEmpresa\":\"Ilustre Municipalidad de San Ignacio\"},{\"CodigoEmpresa\":\"86407\",\"NombreEmpresa\":\"ILUSTRE MUNICIPALIDAD DE SAN JAVIER\"},{\"CodigoEmpresa\":\"7135\",\"NombreEmpresa\":\"Ilustre Municipalidad de San Joaquin\"},{\"CodigoEmpresa\":\"118085\",\"NombreEmpresa\":\"Ilustre Municipalidad de San Juan de la Costa\"},{\"CodigoEmpresa\":\"7498\",\"NombreEmpresa\":\"Ilustre Municipalidad de San Miguel\"},{\"CodigoEmpresa\":\"7158\",\"NombreEmpresa\":\"Ilustre Municipalidad de San Nicolás\"},{\"CodigoEmpresa\":\"136421\",\"NombreEmpresa\":\"Ilustre Municipalidad de San Rosendo\"},{\"CodigoEmpresa\":\"135559\",\"NombreEmpresa\":\"Ilustre Municipalidad de San Vicente de Tagua Tagua\"},{\"CodigoEmpresa\":\"118860\",\"NombreEmpresa\":\"Ilustre Municipalidad de Santa Barbara\"},{\"CodigoEmpresa\":\"117584\",\"NombreEmpresa\":\"Ilustre Municipalidad de Santa Cruz\"},{\"CodigoEmpresa\":\"118623\",\"NombreEmpresa\":\"Ilustre Municipalidad de Santa Juana\"},{\"CodigoEmpresa\":\"117210\",\"NombreEmpresa\":\"Ilustre Municipalidad de Santa María\"},{\"CodigoEmpresa\":\"113981\",\"NombreEmpresa\":\"Ilustre Municipalidad de Santo Domingo\"},{\"CodigoEmpresa\":\"117579\",\"NombreEmpresa\":\"Ilustre Municipalidad de Sierra Gorda\"},{\"CodigoEmpresa\":\"118079\",\"NombreEmpresa\":\"Ilustre Municipalidad de Taltal\"},{\"CodigoEmpresa\":\"116299\",\"NombreEmpresa\":\"Ilustre Municipalidad de Teno\"},{\"CodigoEmpresa\":\"7360\",\"NombreEmpresa\":\"Ilustre Municipalidad de Tierra Amarilla\"},{\"CodigoEmpresa\":\"116218\",\"NombreEmpresa\":\"Ilustre Municipalidad de Til Til\"},{\"CodigoEmpresa\":\"224045\",\"NombreEmpresa\":\"Ilustre Municipalidad de Timaukel\"},{\"CodigoEmpresa\":\"117582\",\"NombreEmpresa\":\"Ilustre Municipalidad de Tolten\"},{\"CodigoEmpresa\":\"7301\",\"NombreEmpresa\":\"Ilustre Municipalidad de Tortel\"},{\"CodigoEmpresa\":\"145365\",\"NombreEmpresa\":\"Ilustre Municipalidad de Trehuaco\"},{\"CodigoEmpresa\":\"87402\",\"NombreEmpresa\":\"ILUSTRE MUNICIPALIDAD DE VALPARAISO\"},{\"CodigoEmpresa\":\"114914\",\"NombreEmpresa\":\"Ilustre Municipalidad de Vichuquén\"},{\"CodigoEmpresa\":\"115303\",\"NombreEmpresa\":\"Ilustre Municipalidad de Vicuña\"},{\"CodigoEmpresa\":\"115009\",\"NombreEmpresa\":\"Ilustre Municipalidad de Vilcún\"},{\"CodigoEmpresa\":\"7363\",\"NombreEmpresa\":\"Ilustre Municipalidad de Villa Alegre\"},{\"CodigoEmpresa\":\"7233\",\"NombreEmpresa\":\"Ilustre Municipalidad de Villa Alemana\"},{\"CodigoEmpresa\":\"118084\",\"NombreEmpresa\":\"Ilustre Municipalidad de Villarrica\"},{\"CodigoEmpresa\":\"116738\",\"NombreEmpresa\":\"Ilustre Municipalidad de Yerbas Buenas\"},{\"CodigoEmpresa\":\"120004\",\"NombreEmpresa\":\"Ilustre Municipalidad de Yumbel\"},{\"CodigoEmpresa\":\"115294\",\"NombreEmpresa\":\"Ilustre Municipalidad de Yungay\"},{\"CodigoEmpresa\":\"132199\",\"NombreEmpresa\":\"Ilustre Municipalidad de Zapallar\"},{\"CodigoEmpresa\":\"117181\",\"NombreEmpresa\":\"Ilustre Municipalidad Isla de Maipo\"},{\"CodigoEmpresa\":\"115280\",\"NombreEmpresa\":\"ILUSTRE MUNICIPALIDAD TEODORO SCHMIDT\"},{\"CodigoEmpresa\":\"106000\",\"NombreEmpresa\":\"Ilustre Municipalidad Torres del Payne\"},{\"CodigoEmpresa\":\"114924\",\"NombreEmpresa\":\"IMUNICIPALIDAD DE NUEVA IMPERIAL\"},{\"CodigoEmpresa\":\"7004\",\"NombreEmpresa\":\"Instituto Antártico Chileno\"},{\"CodigoEmpresa\":\"6937\",\"NombreEmpresa\":\"Instituto de Desarrollo Agropecuario - INDAP\"},{\"CodigoEmpresa\":\"7070\",\"NombreEmpresa\":\"Instituto de Fomento Pesquero - IFOP\"},{\"CodigoEmpresa\":\"7394\",\"NombreEmpresa\":\"Instituto de Investigaciones y Control del Ejércit\"},{\"CodigoEmpresa\":\"7474\",\"NombreEmpresa\":\"Instituto de Neurocirugía\"},{\"CodigoEmpresa\":\"1090469\",\"NombreEmpresa\":\"INSTITUTO DE PREVISION SOCIAL\"},{\"CodigoEmpresa\":\"7177\",\"NombreEmpresa\":\"INSTITUTO DE SALUD PUBLICA DE CHILE\"},{\"CodigoEmpresa\":\"6953\",\"NombreEmpresa\":\"Instituto de Seguridad Laboral - ISL\"},{\"CodigoEmpresa\":\"7497\",\"NombreEmpresa\":\"Instituto Forestal\"},{\"CodigoEmpresa\":\"7432\",\"NombreEmpresa\":\"Instituto Nac. de Rehabilitación Pedro Aguirre C.\"},{\"CodigoEmpresa\":\"7216\",\"NombreEmpresa\":\"INSTITUTO NACIONAL DE DEPORTES DE CHILE\"},{\"CodigoEmpresa\":\"6931\",\"NombreEmpresa\":\"Instituto Nacional de Estadísticas - INE\"},{\"CodigoEmpresa\":\"7430\",\"NombreEmpresa\":\"Instituto Nacional de Geriatría\"},{\"CodigoEmpresa\":\"7176\",\"NombreEmpresa\":\"Instituto Nacional de Hidráulicas - INH\"},{\"CodigoEmpresa\":\"7197\",\"NombreEmpresa\":\"Instituto Nacional de la Juventud - MIDEPLAN\"},{\"CodigoEmpresa\":\"1042394\",\"NombreEmpresa\":\"INSTITUTO NACIONAL DE PROPIEDAD INDUSTRIAL\"},{\"CodigoEmpresa\":\"7276\",\"NombreEmpresa\":\"Instituto Nacional del Cancer\"},{\"CodigoEmpresa\":\"7298\",\"NombreEmpresa\":\"Instituto Nacional del Torax\"},{\"CodigoEmpresa\":\"7044\",\"NombreEmpresa\":\"INSTITUTO PSIQUIATRICO DR JOSE HORWITZ BARAK\"},{\"CodigoEmpresa\":\"7456\",\"NombreEmpresa\":\"Instituto Traumatológico\"},{\"CodigoEmpresa\":\"7204\",\"NombreEmpresa\":\"INTENDENCIA II REGION ANTOFAGASTA\"},{\"CodigoEmpresa\":\"7115\",\"NombreEmpresa\":\"Intendencia III Región, Atacama\"},{\"CodigoEmpresa\":\"7236\",\"NombreEmpresa\":\"Intendencia IV Región, Coquimbo\"},{\"CodigoEmpresa\":\"7220\",\"NombreEmpresa\":\"Intendencia IX Región, de la Araucanía\"},{\"CodigoEmpresa\":\"7195\",\"NombreEmpresa\":\"Intendencia Región Metropolitana\"},{\"CodigoEmpresa\":\"270727\",\"NombreEmpresa\":\"Intendencia Regional de Arica y Parinacota\"},{\"CodigoEmpresa\":\"270726\",\"NombreEmpresa\":\"Intendencia Regional de Los Ríos\"},{\"CodigoEmpresa\":\"7234\",\"NombreEmpresa\":\"INTENDENCIA REGIONAL I REGION DE TARAPAC\"},{\"CodigoEmpresa\":\"7196\",\"NombreEmpresa\":\"Intendencia V Región, Valparaíso\"},{\"CodigoEmpresa\":\"7201\",\"NombreEmpresa\":\"Intendencia VI Región, Lib. Bdo. O´Higgins\"},{\"CodigoEmpresa\":\"7225\",\"NombreEmpresa\":\"Intendencia VII Región, del Maule\"},{\"CodigoEmpresa\":\"7226\",\"NombreEmpresa\":\"Intendencia VIII Región, del Bío-Bío\"},{\"CodigoEmpresa\":\"7215\",\"NombreEmpresa\":\"Intendencia X Región, de Los Lagos\"},{\"CodigoEmpresa\":\"7229\",\"NombreEmpresa\":\"Intendencia XI Región, Aysén\"},{\"CodigoEmpresa\":\"7214\",\"NombreEmpresa\":\"Intendencia XII Región de Magallanes y Antártica Chilena\"},{\"CodigoEmpresa\":\"7002\",\"NombreEmpresa\":\"JUNAEB\"},{\"CodigoEmpresa\":\"7014\",\"NombreEmpresa\":\"Junta de Aeronáutica Civil\"},{\"CodigoEmpresa\":\"1079772\",\"NombreEmpresa\":\"JUNTA NACIONAL DE CUERPOS DE BOMBEROS DE CHILE\"},{\"CodigoEmpresa\":\"6928\",\"NombreEmpresa\":\"JUNTA NACIONAL DE JARDINES         INFANTILES\"},{\"CodigoEmpresa\":\"1065029\",\"NombreEmpresa\":\"LICEO EL ROSARIO\"},{\"CodigoEmpresa\":\"7074\",\"NombreEmpresa\":\"METRO S.A.\"},{\"CodigoEmpresa\":\"6941\",\"NombreEmpresa\":\"Ministerio de Bienes Nacionales.\"},{\"CodigoEmpresa\":\"7247\",\"NombreEmpresa\":\"MINISTERIO DE OBRAS PUBLICAS DIREC CION GRAL DE OO PP DCYF\"},{\"CodigoEmpresa\":\"7249\",\"NombreEmpresa\":\"Ministerio de Obras Publicas Dirección Gral. de OOPP\"},{\"CodigoEmpresa\":\"6944\",\"NombreEmpresa\":\"Ministerio del Interior\"},{\"CodigoEmpresa\":\"224060\",\"NombreEmpresa\":\"MINISTERIO PUBLICO\"},{\"CodigoEmpresa\":\"7194\",\"NombreEmpresa\":\"Ministerio Secretaría General de Gobierno\"},{\"CodigoEmpresa\":\"6949\",\"NombreEmpresa\":\"MINISTERIO SECRETARIA GENERAL DE LA PRESIDENCIA DE LA REPUBLICA\"},{\"CodigoEmpresa\":\"7248\",\"NombreEmpresa\":\"MOP - Dirección de Vialidad\"},{\"CodigoEmpresa\":\"7353\",\"NombreEmpresa\":\"MOP Dirección General de Concesiones\"},{\"CodigoEmpresa\":\"114923\",\"NombreEmpresa\":\"Municipalidad de Alto Hospicio\"},{\"CodigoEmpresa\":\"98452\",\"NombreEmpresa\":\"Municipalidad de Ancud\"},{\"CodigoEmpresa\":\"100090\",\"NombreEmpresa\":\"MUNICIPALIDAD DE BUIN\"},{\"CodigoEmpresa\":\"115186\",\"NombreEmpresa\":\"Municipalidad de Carahue\"},{\"CodigoEmpresa\":\"99569\",\"NombreEmpresa\":\"MUNICIPALIDAD DE CARTAGENA\"},{\"CodigoEmpresa\":\"100523\",\"NombreEmpresa\":\"MUNICIPALIDAD DE CHIGUAYANTE\"},{\"CodigoEmpresa\":\"115297\",\"NombreEmpresa\":\"Municipalidad de Combarbala\"},{\"CodigoEmpresa\":\"119089\",\"NombreEmpresa\":\"Municipalidad de Corral\"},{\"CodigoEmpresa\":\"115165\",\"NombreEmpresa\":\"MUNICIPALIDAD DE DALCAHUE\"},{\"CodigoEmpresa\":\"123788\",\"NombreEmpresa\":\"MUNICIPALIDAD DE DOÑIHUE\"},{\"CodigoEmpresa\":\"117586\",\"NombreEmpresa\":\"Municipalidad de Gorbea\"},{\"CodigoEmpresa\":\"100739\",\"NombreEmpresa\":\"Municipalidad de Huechuraba\"},{\"CodigoEmpresa\":\"86766\",\"NombreEmpresa\":\"MUNICIPALIDAD DE LA FLORIDA\"},{\"CodigoEmpresa\":\"86571\",\"NombreEmpresa\":\"MUNICIPALIDAD DE LAS CONDES\"},{\"CodigoEmpresa\":\"100155\",\"NombreEmpresa\":\"Municipalidad de lo barnechea\"},{\"CodigoEmpresa\":\"87187\",\"NombreEmpresa\":\"Municipalidad de Los Angeles\"},{\"CodigoEmpresa\":\"113259\",\"NombreEmpresa\":\"MUNICIPALIDAD DE LOTA\"},{\"CodigoEmpresa\":\"99860\",\"NombreEmpresa\":\"MUNICIPALIDAD DE OVALLE\"},{\"CodigoEmpresa\":\"90886\",\"NombreEmpresa\":\"MUNICIPALIDAD DE PADRE LAS CASAS\"},{\"CodigoEmpresa\":\"113618\",\"NombreEmpresa\":\"Municipalidad de Panquehue\"},{\"CodigoEmpresa\":\"87104\",\"NombreEmpresa\":\"MUNICIPALIDAD DE PEDRO AGUIRRE CERDA\"},{\"CodigoEmpresa\":\"100137\",\"NombreEmpresa\":\"MUNICIPALIDAD DE PEÑAFLOR\"},{\"CodigoEmpresa\":\"115299\",\"NombreEmpresa\":\"Municipalidad de Portezuelo\"},{\"CodigoEmpresa\":\"84149\",\"NombreEmpresa\":\"MUNICIPALIDAD DE PUDAHUEL\"},{\"CodigoEmpresa\":\"116945\",\"NombreEmpresa\":\"Municipalidad de Purén \\\\\\\\ DEPTO.DE SALUD\"},{\"CodigoEmpresa\":\"114075\",\"NombreEmpresa\":\"Municipalidad de Rio Hurtado\"},{\"CodigoEmpresa\":\"120002\",\"NombreEmpresa\":\"Municipalidad de Río Ibáñez\"},{\"CodigoEmpresa\":\"100318\",\"NombreEmpresa\":\"Municipalidad de San Antonio\"},{\"CodigoEmpresa\":\"100107\",\"NombreEmpresa\":\"MUNICIPALIDAD DE SAN CARLOS\"},{\"CodigoEmpresa\":\"115457\",\"NombreEmpresa\":\"Municipalidad de San José de Maipo\"},{\"CodigoEmpresa\":\"100704\",\"NombreEmpresa\":\"MUNICIPALIDAD DE SAN PEDRO DE LA PAZ\"},{\"CodigoEmpresa\":\"7355\",\"NombreEmpresa\":\"Municipalidad de San Ramon\"},{\"CodigoEmpresa\":\"86568\",\"NombreEmpresa\":\"MUNICIPALIDAD DE SANTIAGO\"},{\"CodigoEmpresa\":\"86586\",\"NombreEmpresa\":\"MUNICIPALIDAD DE TALCAHUANO\"},{\"CodigoEmpresa\":\"7321\",\"NombreEmpresa\":\"Municipalidad de Temuco\"},{\"CodigoEmpresa\":\"183037\",\"NombreEmpresa\":\"Municipalidad de Tirúa\"},{\"CodigoEmpresa\":\"115163\",\"NombreEmpresa\":\"MUNICIPALIDAD DE TRAIGUEN\"},{\"CodigoEmpresa\":\"98462\",\"NombreEmpresa\":\"MUNICIPALIDAD DE VITACURA\"},{\"CodigoEmpresa\":\"7005\",\"NombreEmpresa\":\"Oficina de Estudios y Politicas Agrarias\"},{\"CodigoEmpresa\":\"7180\",\"NombreEmpresa\":\"Oficina Nacional de Emergencia\"},{\"CodigoEmpresa\":\"6935\",\"NombreEmpresa\":\"Parque Metropolitano de Santiago\"},{\"CodigoEmpresa\":\"7143\",\"NombreEmpresa\":\"Poder Judicial - Academia Judicial\"},{\"CodigoEmpresa\":\"111880\",\"NombreEmpresa\":\"POLICIA DE INVESTIGACIONES DE CHILE\"},{\"CodigoEmpresa\":\"6967\",\"NombreEmpresa\":\"Polla Chilena de Beneficencia S.A.\"},{\"CodigoEmpresa\":\"7238\",\"NombreEmpresa\":\"Presidencia de la República\"},{\"CodigoEmpresa\":\"7478\",\"NombreEmpresa\":\"S. S. Aysén - Dirección de Atención Primaria\"},{\"CodigoEmpresa\":\"7096\",\"NombreEmpresa\":\"SAG CONCEPCION\"},{\"CodigoEmpresa\":\"7184\",\"NombreEmpresa\":\"SENADIS\"},{\"CodigoEmpresa\":\"174692\",\"NombreEmpresa\":\"Senado de la República de Chile\"},{\"CodigoEmpresa\":\"6919\",\"NombreEmpresa\":\"SERVICIO AGRICOLA Y GANADERO\"},{\"CodigoEmpresa\":\"6950\",\"NombreEmpresa\":\"Servicio de Cooperación Técnica - SERCOTEC\"},{\"CodigoEmpresa\":\"7218\",\"NombreEmpresa\":\"Servicio de Evaluación Ambiental (SEA)\"},{\"CodigoEmpresa\":\"7113\",\"NombreEmpresa\":\"SERVICIO DE IMPUESTOS INTERNOS DIRECCION\"},{\"CodigoEmpresa\":\"6960\",\"NombreEmpresa\":\"Servicio de Registro Civil e Identificación\"},{\"CodigoEmpresa\":\"7205\",\"NombreEmpresa\":\"Servicio de Salud  Concepción\"},{\"CodigoEmpresa\":\"7431\",\"NombreEmpresa\":\"SERVICIO DE SALUD ACONCAGUA\"},{\"CodigoEmpresa\":\"7185\",\"NombreEmpresa\":\"Servicio de Salud Antofagasta\"},{\"CodigoEmpresa\":\"7451\",\"NombreEmpresa\":\"SERVICIO DE SALUD ANTOFAGASTA HOSPITAL L\"},{\"CodigoEmpresa\":\"7302\",\"NombreEmpresa\":\"Servicio de Salud Araucanía Norte\"},{\"CodigoEmpresa\":\"7306\",\"NombreEmpresa\":\"SERVICIO DE SALUD ARAUCANIA NORTE HOSPITAL DE ANGOL\"},{\"CodigoEmpresa\":\"7102\",\"NombreEmpresa\":\"Servicio de Salud Araucanía Sur\"},{\"CodigoEmpresa\":\"7060\",\"NombreEmpresa\":\"SERVICIO DE SALUD ARAUCANIA SUR HOSPITAL DE NUEVA IMPERIAL\"},{\"CodigoEmpresa\":\"6976\",\"NombreEmpresa\":\"SERVICIO DE SALUD ARAUCO\"},{\"CodigoEmpresa\":\"1667479\",\"NombreEmpresa\":\"SERVICIO DE SALUD ARICA HOSP DR JUAN NOE CREVANI\"},{\"CodigoEmpresa\":\"7409\",\"NombreEmpresa\":\"Servicio de Salud Atacama\"},{\"CodigoEmpresa\":\"7206\",\"NombreEmpresa\":\"SERVICIO DE SALUD AYSEN\"},{\"CodigoEmpresa\":\"7308\",\"NombreEmpresa\":\"Servicio de Salud Bío Bío\"},{\"CodigoEmpresa\":\"16223\",\"NombreEmpresa\":\"Servicio de Salud Chiloé\"},{\"CodigoEmpresa\":\"7052\",\"NombreEmpresa\":\"Servicio de Salud Coquimbo\"},{\"CodigoEmpresa\":\"7416\",\"NombreEmpresa\":\"SERVICIO DE SALUD COQUIMBO HOSPITAL DE COQUIMBO\"},{\"CodigoEmpresa\":\"7471\",\"NombreEmpresa\":\"SERVICIO DE SALUD COQUIMBO HOSPITAL DE LOS VILOS\"},{\"CodigoEmpresa\":\"7329\",\"NombreEmpresa\":\"SERVICIO DE SALUD COQUIMBO HOSPITAL VICUNA\"},{\"CodigoEmpresa\":\"6926\",\"NombreEmpresa\":\"SERVICIO DE SALUD DE ARICA\"},{\"CodigoEmpresa\":\"7374\",\"NombreEmpresa\":\"SERVICIO DE SALUD DEL LIBERTADOR B O\\'HIGGINS HOSPITAL REG RANCAGUA\"},{\"CodigoEmpresa\":\"7141\",\"NombreEmpresa\":\"Servicio de Salud del Maule\"},{\"CodigoEmpresa\":\"7257\",\"NombreEmpresa\":\"SERVICIO DE SALUD DEL MAULE HOSPITAL DE LICANTEN\"},{\"CodigoEmpresa\":\"7260\",\"NombreEmpresa\":\"SERVICIO DE SALUD DEL MAULE HOSPITAL DE TALCA\"},{\"CodigoEmpresa\":\"7453\",\"NombreEmpresa\":\"SERVICIO DE SALUD IQUIQUE\"},{\"CodigoEmpresa\":\"7382\",\"NombreEmpresa\":\"Servicio de Salud Magallanes\"},{\"CodigoEmpresa\":\"7088\",\"NombreEmpresa\":\"Servicio de Salud Metropolitano Central\"},{\"CodigoEmpresa\":\"7188\",\"NombreEmpresa\":\"Servicio de Salud Metropolitano del Ambiente\"},{\"CodigoEmpresa\":\"6963\",\"NombreEmpresa\":\"Servicio de Salud Metropolitano Norte\"},{\"CodigoEmpresa\":\"7029\",\"NombreEmpresa\":\"Servicio de Salud Metropolitano Occidente\"},{\"CodigoEmpresa\":\"7006\",\"NombreEmpresa\":\"SERVICIO DE SALUD METROPOLITANO SUR\"},{\"CodigoEmpresa\":\"7203\",\"NombreEmpresa\":\"Servicio de Salud Metropolitano Sur Oriente\"},{\"CodigoEmpresa\":\"6932\",\"NombreEmpresa\":\"SERVICIO DE SALUD NUBLE\"},{\"CodigoEmpresa\":\"7303\",\"NombreEmpresa\":\"SERVICIO DE SALUD NUBLE HOSPITAL DE QUIRIHUE\"},{\"CodigoEmpresa\":\"7285\",\"NombreEmpresa\":\"Servicio de Salud Ñuble - Hospital de Coelemu\"},{\"CodigoEmpresa\":\"7316\",\"NombreEmpresa\":\"SERVICIO DE SALUD OCCIDENTE HOSPITAL SAN JUAN DE DIOS\"},{\"CodigoEmpresa\":\"7054\",\"NombreEmpresa\":\"Servicio de Salud Ohiggins\"},{\"CodigoEmpresa\":\"7296\",\"NombreEmpresa\":\"SERVICIO DE SALUD OSORNO\"},{\"CodigoEmpresa\":\"7305\",\"NombreEmpresa\":\"SERVICIO DE SALUD SUR HOSPITAL EXEQUIEL\"},{\"CodigoEmpresa\":\"7315\",\"NombreEmpresa\":\"SERVICIO DE SALUD TALCAHUANO HOSPITAL DE\"},{\"CodigoEmpresa\":\"7106\",\"NombreEmpresa\":\"SERVICIO DE SALUD VALDIVIA\"},{\"CodigoEmpresa\":\"7410\",\"NombreEmpresa\":\"SERVICIO DE SALUD VALDIVIA HOSPITAL BASE\"},{\"CodigoEmpresa\":\"7239\",\"NombreEmpresa\":\"SERVICIO DE SALUD VALPARAISO SAN ANTONIO\"},{\"CodigoEmpresa\":\"7153\",\"NombreEmpresa\":\"Servicio de Salud Viña del Mar - Quillota\"},{\"CodigoEmpresa\":\"6965\",\"NombreEmpresa\":\"SERVICIO DE VIVIENDA Y URBANIZACION AREA METROPOLITANA\"},{\"CodigoEmpresa\":\"225773\",\"NombreEmpresa\":\"SERVICIO ELECTORAL\"},{\"CodigoEmpresa\":\"1723291\",\"NombreEmpresa\":\"SERVICIO LOCAL DE EDUCACION PÚBLICA DE ATACAMA\"},{\"CodigoEmpresa\":\"7179\",\"NombreEmpresa\":\"Servicio Médico Legal\"},{\"CodigoEmpresa\":\"7479\",\"NombreEmpresa\":\"SERVICIO NAC DE SALUD HOSPITAL TRAUMATOLOGICO\"},{\"CodigoEmpresa\":\"6952\",\"NombreEmpresa\":\"Servicio Nacional de Aduanas\"},{\"CodigoEmpresa\":\"6962\",\"NombreEmpresa\":\"Servicio Nacional de Capacitación y Empleo\"},{\"CodigoEmpresa\":\"7210\",\"NombreEmpresa\":\"Servicio Nacional de Geología y Minería\"},{\"CodigoEmpresa\":\"6948\",\"NombreEmpresa\":\"Servicio Nacional de la Mujer\"},{\"CodigoEmpresa\":\"7017\",\"NombreEmpresa\":\"Servicio Nacional de Menores\"},{\"CodigoEmpresa\":\"7008\",\"NombreEmpresa\":\"SERVICIO NACIONAL DE PESCA\"},{\"CodigoEmpresa\":\"7033\",\"NombreEmpresa\":\"Servicio Nacional de Pesca VI Región\"},{\"CodigoEmpresa\":\"1468521\",\"NombreEmpresa\":\"SERVICIO NACIONAL DE SALUD HOSPITAL CARLOS VAN BUREN\"},{\"CodigoEmpresa\":\"116754\",\"NombreEmpresa\":\"SERVICIO NACIONAL DE SALUD HOSPITAL DE C\"},{\"CodigoEmpresa\":\"7332\",\"NombreEmpresa\":\"SERVICIO NACIONAL DE SALUD HOSPITAL DE CORONEL\"},{\"CodigoEmpresa\":\"7190\",\"NombreEmpresa\":\"SERVICIO NACIONAL DE TURISMO\"},{\"CodigoEmpresa\":\"7032\",\"NombreEmpresa\":\"SERVICIO NACIONAL DEL ADULTO MAYOR\"},{\"CodigoEmpresa\":\"7230\",\"NombreEmpresa\":\"Servicio Nacional del Consumidor - SERNAC\"},{\"CodigoEmpresa\":\"7011\",\"NombreEmpresa\":\"SERVICIO NACIONAL DEL PATRIMONIO CULTURAL\"},{\"CodigoEmpresa\":\"278907\",\"NombreEmpresa\":\"Servicio Regional de la Vivienda y Urbanización Arica y Parinacota\"},{\"CodigoEmpresa\":\"7433\",\"NombreEmpresa\":\"SERVICIO SALUD ARAUCANIA NORTE HOSPITAL CURACAUTIN\"},{\"CodigoEmpresa\":\"7104\",\"NombreEmpresa\":\"SERVICIO SALUD DEL RELONCAVI\"},{\"CodigoEmpresa\":\"6923\",\"NombreEmpresa\":\"SERVIU I Región\"},{\"CodigoEmpresa\":\"6974\",\"NombreEmpresa\":\"SERVIU II Región\"},{\"CodigoEmpresa\":\"6972\",\"NombreEmpresa\":\"SERVIU IV Región\"},{\"CodigoEmpresa\":\"6980\",\"NombreEmpresa\":\"SERVIU IX Region\"},{\"CodigoEmpresa\":\"6975\",\"NombreEmpresa\":\"SERVIU REGION DE ATACAMA\"},{\"CodigoEmpresa\":\"6979\",\"NombreEmpresa\":\"SERVIU REGION DEL BIO BIO\"},{\"CodigoEmpresa\":\"6968\",\"NombreEmpresa\":\"SERVIU V Región\"},{\"CodigoEmpresa\":\"6977\",\"NombreEmpresa\":\"SERVIU VI Región\"},{\"CodigoEmpresa\":\"6978\",\"NombreEmpresa\":\"SERVIU VII Región\"},{\"CodigoEmpresa\":\"6981\",\"NombreEmpresa\":\"SERVIU X Región\"},{\"CodigoEmpresa\":\"6982\",\"NombreEmpresa\":\"SERVIU XI Región\"},{\"CodigoEmpresa\":\"6964\",\"NombreEmpresa\":\"SERVIU XII Región y Antartica Chilena\"},{\"CodigoEmpresa\":\"7333\",\"NombreEmpresa\":\"Subdirección del Ambiente Servicio de Salud Thno.\"},{\"CodigoEmpresa\":\"7065\",\"NombreEmpresa\":\"Subsecretaría de Aviación\"},{\"CodigoEmpresa\":\"7036\",\"NombreEmpresa\":\"Subsecretaría de Carabineros\"},{\"CodigoEmpresa\":\"1689493\",\"NombreEmpresa\":\"SUBSECRETARIA DE CIENCIA, TECNOLOGIA, CONOCIMIENTO E INNOVACION\"},{\"CodigoEmpresa\":\"7081\",\"NombreEmpresa\":\"Subsecretaría de Desarrollo Regional\"},{\"CodigoEmpresa\":\"7078\",\"NombreEmpresa\":\"SubSecretaria de Economía y Empresas de Menor Tamaño\"},{\"CodigoEmpresa\":\"1155673\",\"NombreEmpresa\":\"Subsecretaría de Energía\"},{\"CodigoEmpresa\":\"6943\",\"NombreEmpresa\":\"Subsecretaría de Hacienda\"},{\"CodigoEmpresa\":\"7217\",\"NombreEmpresa\":\"Subsecretaría de Investigaciones\"},{\"CodigoEmpresa\":\"7080\",\"NombreEmpresa\":\"Subsecretaría de Justicia\"},{\"CodigoEmpresa\":\"7359\",\"NombreEmpresa\":\"SUBSECRETARÍA DE LAS CULTURAS Y LAS ARTES\"},{\"CodigoEmpresa\":\"7221\",\"NombreEmpresa\":\"Subsecretaría de Marina\"},{\"CodigoEmpresa\":\"7018\",\"NombreEmpresa\":\"Subsecretaría de Minería\"},{\"CodigoEmpresa\":\"7211\",\"NombreEmpresa\":\"Subsecretaría de Pesca y Acuicultura\"},{\"CodigoEmpresa\":\"7191\",\"NombreEmpresa\":\"Subsecretaría de Previsión Social\"},{\"CodigoEmpresa\":\"7227\",\"NombreEmpresa\":\"Subsecretaría de R.R.E.E.\"},{\"CodigoEmpresa\":\"1674041\",\"NombreEmpresa\":\"Subsecretaría de Relaciones Económicas Internacionales\"},{\"CodigoEmpresa\":\"7079\",\"NombreEmpresa\":\"Subsecretaría de Salud Pública\"},{\"CodigoEmpresa\":\"6947\",\"NombreEmpresa\":\"Subsecretaría de Servicios Sociales\"},{\"CodigoEmpresa\":\"6934\",\"NombreEmpresa\":\"Subsecretaría de Telecomunicaciones\"},{\"CodigoEmpresa\":\"7007\",\"NombreEmpresa\":\"Subsecretaría de Transportes\"},{\"CodigoEmpresa\":\"1198788\",\"NombreEmpresa\":\"Subsecretaría del Medio Ambiente\"},{\"CodigoEmpresa\":\"7189\",\"NombreEmpresa\":\"SUBSECRETARIA DEL MINISTERIO DE AGRICULT\"},{\"CodigoEmpresa\":\"6958\",\"NombreEmpresa\":\"SUBSECRETARIA DEL MINISTERIO DE EDUCACION PUBLICA\"},{\"CodigoEmpresa\":\"6951\",\"NombreEmpresa\":\"SUBSECRETARIA DEL MINISTERIO DE LA VIVIENDA Y URBANISMO\"},{\"CodigoEmpresa\":\"6939\",\"NombreEmpresa\":\"Subsecretaria del Trabajo\"},{\"CodigoEmpresa\":\"128260\",\"NombreEmpresa\":\"SUPERINTENDENCIA DE CASINOS DE JUEGO\"},{\"CodigoEmpresa\":\"7232\",\"NombreEmpresa\":\"Superintendencia de Electricidad y Combustibles\"},{\"CodigoEmpresa\":\"7181\",\"NombreEmpresa\":\"Superintendencia de Insolvencia y Reemprendimiento\"},{\"CodigoEmpresa\":\"93096\",\"NombreEmpresa\":\"Superintendencia de Pensiones\"},{\"CodigoEmpresa\":\"6930\",\"NombreEmpresa\":\"Superintendencia de Salud\"},{\"CodigoEmpresa\":\"7114\",\"NombreEmpresa\":\"Superintendencia de Seguridad Social\"},{\"CodigoEmpresa\":\"7192\",\"NombreEmpresa\":\"Superintendencia de Servicios Sanitarios\"},{\"CodigoEmpresa\":\"6956\",\"NombreEmpresa\":\"Tesorería General de la República\"},{\"CodigoEmpresa\":\"1083414\",\"NombreEmpresa\":\"UNIDAD ADMINISTRADORA DE LOS TRIBUNALES TRIBUTARIOS Y ADUANEROS\"},{\"CodigoEmpresa\":\"85017\",\"NombreEmpresa\":\"Unidad de Analisis Financiero\"},{\"CodigoEmpresa\":\"7254\",\"NombreEmpresa\":\"UNIVERSIDAD ARTURO PRAT SEDE IQUIQUE\"},{\"CodigoEmpresa\":\"130585\",\"NombreEmpresa\":\"Universidad de Antofagasta\"},{\"CodigoEmpresa\":\"103916\",\"NombreEmpresa\":\"universidad de atacama\"},{\"CodigoEmpresa\":\"7251\",\"NombreEmpresa\":\"Universidad de Chile\"},{\"CodigoEmpresa\":\"277559\",\"NombreEmpresa\":\"Universidad de la Frontera\"},{\"CodigoEmpresa\":\"7319\",\"NombreEmpresa\":\"Universidad de La Serena\"},{\"CodigoEmpresa\":\"266724\",\"NombreEmpresa\":\"Universidad de Los Lagos\"},{\"CodigoEmpresa\":\"257227\",\"NombreEmpresa\":\"Universidad de Magallanes\"},{\"CodigoEmpresa\":\"130972\",\"NombreEmpresa\":\"UNIVERSIDAD DE PLAYA ANCHA DE CIENCIAS DE LA EDUC.\"},{\"CodigoEmpresa\":\"212299\",\"NombreEmpresa\":\"Universidad de Santiago de Chile\"},{\"CodigoEmpresa\":\"7147\",\"NombreEmpresa\":\"Universidad de Talca\"},{\"CodigoEmpresa\":\"204439\",\"NombreEmpresa\":\"Universidad de Tarapacá\"},{\"CodigoEmpresa\":\"96996\",\"NombreEmpresa\":\"Universidad de Valparaíso\"},{\"CodigoEmpresa\":\"99805\",\"NombreEmpresa\":\"Universidad del Bío-Bío\"},{\"CodigoEmpresa\":\"164268\",\"NombreEmpresa\":\"UNIVERSIDAD METROPOLITANA DE CIENCIAS DE LA EDUCAC\"},{\"CodigoEmpresa\":\"126109\",\"NombreEmpresa\":\"UNIVERSIDAD TECNOLOGICA METROPOLITANA\"},{\"CodigoEmpresa\":\"7438\",\"NombreEmpresa\":\"Zona Franca de Iquique\"}]}'"
            ]
          },
          "metadata": {
            "tags": []
          },
          "execution_count": 124
        }
      ]
    },
    {
      "cell_type": "code",
      "metadata": {
        "id": "gFPa16fTLeQL"
      },
      "source": [
        "respuestajson2 = json.loads(respuesta2.text)"
      ],
      "execution_count": 125,
      "outputs": []
    },
    {
      "cell_type": "code",
      "metadata": {
        "id": "EcegP0D2Letg",
        "outputId": "1233daf5-0c19-4f06-a2d9-0a57411b5a82",
        "colab": {
          "base_uri": "https://localhost:8080/",
          "height": 53
        }
      },
      "source": [
        "print(respuestajson2)"
      ],
      "execution_count": 126,
      "outputs": [
        {
          "output_type": "stream",
          "text": [
            "{'Cantidad': 863, 'FechaCreacion': '2020-10-21T09:59:19.193', 'listaEmpresas': [{'CodigoEmpresa': '1034640', 'NombreEmpresa': ' CORPORACION MUNICIPAL DE PEÑALOLEN PARA EL DESARROLLO SOCIAL '}, {'CodigoEmpresa': '7311', 'NombreEmpresa': ' Hospital de enfermedades InfecciDr. Lucio Córdova'}, {'CodigoEmpresa': '7086', 'NombreEmpresa': 'AGENCIA CHILENA DE COOPERACION INTERNACIONAL PARA EL DESARROLLO'}, {'CodigoEmpresa': '1224636', 'NombreEmpresa': 'Agencia Chilena de Eficiencia Energética'}, {'CodigoEmpresa': '7193', 'NombreEmpresa': 'Agencia de Promoción de la Inversión Extranjera'}, {'CodigoEmpresa': '7212', 'NombreEmpresa': 'Agencia Nacional de Inteligencia'}, {'CodigoEmpresa': '111875', 'NombreEmpresa': 'ARMADA DE CHILE'}, {'CodigoEmpresa': '6959', 'NombreEmpresa': 'Banco del Estado de Chile'}, {'CodigoEmpresa': '7265', 'NombreEmpresa': 'Biblioteca del Congreso Nacional'}, {'CodigoEmpresa': '7038', 'NombreEmpresa': 'Bienestar del Registro Civil'}, {'CodigoEmpresa': '7313', 'NombreEmpresa': 'C.D.T. Doctora Eloisa Díaz'}, {'CodigoEmpresa': '156657', 'NombreEmpresa': 'Cámara de Diputados de Chile'}, {'CodigoEmpresa': '7175', 'NombreEmpresa': 'CAPREDENA'}, {'CodigoEmpresa': '7198', 'NombreEmpresa': 'Casa de Moneda de Chile'}, {'CodigoEmpresa': '6957', 'NombreEmpresa': 'Central de Abastecimiento S.N.S.S. -  CENABAST'}, {'CodigoEmpresa': '1339711', 'NombreEmpresa': 'CENTRO ASISTENCIAL NORTE DE ANTOFAGASTA'}, {'CodigoEmpresa': '1741046', 'NombreEmpresa': 'CENTRO DE FORMACION TECNICA DE LA REGION DE ATACAMA'}, {'CodigoEmpresa': '1700248', 'NombreEmpresa': 'CENTRO DE FORMACIÓN TÉCNICA ESTATAL DE MAGALLANES Y ANTARTICA CHILENA'}, {'CodigoEmpresa': '1741019', 'NombreEmpresa': 'Centro de Formación Técnica Estatal Región de Arica y Parinacota'}, {'CodigoEmpresa': '7380', 'NombreEmpresa': 'Centro de Información de Recursos Naturales'}, {'CodigoEmpresa': '7317', 'NombreEmpresa': 'Centro de Referencia de Salud de Maipú'}, {'CodigoEmpresa': '7473', 'NombreEmpresa': 'Centro de Salud Dr. Víctor M. Fernández'}, {'CodigoEmpresa': '7461', 'NombreEmpresa': 'Centro Diagnóstico Terapéutico Los Angeles'}, {'CodigoEmpresa': '7373', 'NombreEmpresa': 'Centro Referencia Salud Doctor Salvador Allende G.'}, {'CodigoEmpresa': '118627', 'NombreEmpresa': 'Cesfam Dr. Alejandro Gutierrez'}, {'CodigoEmpresa': '111870', 'NombreEmpresa': 'COMANDO DE APOYO A LA FUERZA'}, {'CodigoEmpresa': '192032', 'NombreEmpresa': 'Comisión Administradora del Sistema de Créditos para Estudios Superiores'}, {'CodigoEmpresa': '7219', 'NombreEmpresa': 'Comisión Chilena de Energía Nuclear'}, {'CodigoEmpresa': '7075', 'NombreEmpresa': 'Comisión Chilena del Cobre - COCHILCO'}, {'CodigoEmpresa': '262897', 'NombreEmpresa': 'Comisión Nacional de Acreditación - CNA'}, {'CodigoEmpresa': '6938', 'NombreEmpresa': 'Comisión Nacional de Energía'}, {'CodigoEmpresa': '7213', 'NombreEmpresa': 'Comisión Nacional de Investigación Científica y Tecnológicas - CONICYT'}, {'CodigoEmpresa': '7186', 'NombreEmpresa': 'Comisión Nacional de Riego'}, {'CodigoEmpresa': '7016', 'NombreEmpresa': 'COMISION PARA EL MERCADO FINANCIERO'}, {'CodigoEmpresa': '7043', 'NombreEmpresa': 'Comité de Seguros del Agro'}, {'CodigoEmpresa': '7057', 'NombreEmpresa': 'Comité SEP'}, {'CodigoEmpresa': '7320', 'NombreEmpresa': 'Complejo Asistencial Dr. Sotero del Rio'}, {'CodigoEmpresa': '7375', 'NombreEmpresa': 'Complejo Asistencial Dr. Victor Ríos Ruíz'}, {'CodigoEmpresa': '7103', 'NombreEmpresa': 'Complejo Penitenciario de Valparaiso'}, {'CodigoEmpresa': '1090137', 'NombreEmpresa': 'CONGREGACIÓN HIJAS DE SANTA MARIA DE LA PROVIDENCIA'}, {'CodigoEmpresa': '6933', 'NombreEmpresa': 'Consejo de Defensa del Estado'}, {'CodigoEmpresa': '7224', 'NombreEmpresa': 'Consejo de Rectores de las Universidades Chilenas'}, {'CodigoEmpresa': '1692048', 'NombreEmpresa': 'CONSEJO FISCAL AUTONOMO'}, {'CodigoEmpresa': '7082', 'NombreEmpresa': 'Consejo Nacional de Educación'}, {'CodigoEmpresa': '1060064', 'NombreEmpresa': 'Consejo para la Transparencia'}, {'CodigoEmpresa': '118630', 'NombreEmpresa': 'Consultorio General Urbano Victor Domingo Silva'}, {'CodigoEmpresa': '7144', 'NombreEmpresa': 'Consultorio Gral. Urbano Violeta Parra'}, {'CodigoEmpresa': '7133', 'NombreEmpresa': 'Consultorio Miraflores'}, {'CodigoEmpresa': '7231', 'NombreEmpresa': 'Contraloría General de la República'}, {'CodigoEmpresa': '7354', 'NombreEmpresa': 'Corp. de Asistencia Judicial Región del Bío-Bío'}, {'CodigoEmpresa': '7058', 'NombreEmpresa': 'Corp. Municipal de Desarrollo Social Cerro Navia'}, {'CodigoEmpresa': '7342', 'NombreEmpresa': 'Corporacion Administrativa del Poder Judicial'}, {'CodigoEmpresa': '7235', 'NombreEmpresa': 'Corporación de Asistencia Judicial de la V Región'}, {'CodigoEmpresa': '272303', 'NombreEmpresa': 'Corporación de Asistencia Judicial de las Regiones de Tarapacá y Antofagasta'}, {'CodigoEmpresa': '7152', 'NombreEmpresa': 'Corporación de Asistencia Judicial RM'}, {'CodigoEmpresa': '1085182', 'NombreEmpresa': 'Corporación de Ecuación, Salud y Menores de Puerto Natales'}, {'CodigoEmpresa': '6942', 'NombreEmpresa': 'CORPORACION DE FOMENTO DE LA PRODUCCION'}, {'CodigoEmpresa': '1088974', 'NombreEmpresa': 'Corporación Municipal de Castro'}, {'CodigoEmpresa': '1035946', 'NombreEmpresa': 'Corporacion Municipal de Educacion'}, {'CodigoEmpresa': '1033466', 'NombreEmpresa': 'CORPORACIÓN MUNICIPAL DE EDUCACIÓN Y SALUD'}, {'CodigoEmpresa': '7105', 'NombreEmpresa': 'Corporación Municipal de la Florida'}, {'CodigoEmpresa': '7483', 'NombreEmpresa': 'Corporación Municipal de Panguipulli'}, {'CodigoEmpresa': '7183', 'NombreEmpresa': 'Corporación Nacional de Desarrollo Indígena - CONADI'}, {'CodigoEmpresa': '6924', 'NombreEmpresa': 'Corporación Nacional Forestal - CONAF'}, {'CodigoEmpresa': '7136', 'NombreEmpresa': 'CRS de Peñalolen Cordillera Oriente'}, {'CodigoEmpresa': '7129', 'NombreEmpresa': 'Defensa Civil de Chile'}, {'CodigoEmpresa': '7034', 'NombreEmpresa': 'DEFENSORIA PENAL PUBLICA'}, {'CodigoEmpresa': '7299', 'NombreEmpresa': 'Departamento de Salud Parral'}, {'CodigoEmpresa': '7228', 'NombreEmpresa': 'Dirección Administrativa - Min. Defensa'}, {'CodigoEmpresa': '7466', 'NombreEmpresa': 'Dirección Atención Primaria, Serv.Salud M.Central'}, {'CodigoEmpresa': '7243', 'NombreEmpresa': 'Dirección de Aeropuertos - MOPTT'}, {'CodigoEmpresa': '7245', 'NombreEmpresa': 'Dirección de Arquitectura - MOP'}, {'CodigoEmpresa': '6945', 'NombreEmpresa': 'Dirección de Compras y Contratación Pública'}, {'CodigoEmpresa': '7068', 'NombreEmpresa': 'Dirección de Contabilidad y Finanzas MOP'}, {'CodigoEmpresa': '7244', 'NombreEmpresa': 'Dirección de Fiscalía - MOPTT'}, {'CodigoEmpresa': '113812', 'NombreEmpresa': 'DIRECCION DE LOGISTICA DE CARABINEROS'}, {'CodigoEmpresa': '7242', 'NombreEmpresa': 'Dirección de Obras Hidráulicas - MOPTT'}, {'CodigoEmpresa': '7246', 'NombreEmpresa': 'Dirección de Obras Portuarias - MOPTT'}, {'CodigoEmpresa': '7067', 'NombreEmpresa': 'Dirección de Planeamiento - MOPTT'}, {'CodigoEmpresa': '7012', 'NombreEmpresa': 'Dirección de Presupuestos'}, {'CodigoEmpresa': '6927', 'NombreEmpresa': 'Dirección de Previsión de Carabineros de Chile'}, {'CodigoEmpresa': '7010', 'NombreEmpresa': 'Dirección de Relaciones Económicas'}, {'CodigoEmpresa': '118628', 'NombreEmpresa': 'Dirección de Salud Rural'}, {'CodigoEmpresa': '7000', 'NombreEmpresa': 'Dirección del Trabajo'}, {'CodigoEmpresa': '7202', 'NombreEmpresa': 'Dirección General de Aeronáutica Civil'}, {'CodigoEmpresa': '7209', 'NombreEmpresa': 'Dirección General de Crédito Prendario - DICREP'}, {'CodigoEmpresa': '6925', 'NombreEmpresa': 'DIRECCION GENERAL DE GENDARMERIA DE CHIL'}, {'CodigoEmpresa': '7127', 'NombreEmpresa': 'Dirección General de Movilización Nacional - DGMN'}, {'CodigoEmpresa': '7250', 'NombreEmpresa': 'Dirección General de Obras Publicas - MOP'}, {'CodigoEmpresa': '1674056', 'NombreEmpresa': 'Dirección General de Promoción de Exportaciones'}, {'CodigoEmpresa': '7187', 'NombreEmpresa': 'Dirección Nacional de Fronteras y Límites del Estado'}, {'CodigoEmpresa': '7371', 'NombreEmpresa': 'Dirección Nacional del Servicio Civil'}, {'CodigoEmpresa': '7295', 'NombreEmpresa': 'DIRECCION SERVICIO DE SALUD TALCAHUANO'}, {'CodigoEmpresa': '7272', 'NombreEmpresa': 'DIRECCION SERVICIO SALUD METROPOLITANO O'}, {'CodigoEmpresa': '7208', 'NombreEmpresa': 'Empresa de Abastecimiento de Zonas Aisladas- EMAZA'}, {'CodigoEmpresa': '7467', 'NombreEmpresa': 'Empresa de Servicios Sanitarios de Atacama'}, {'CodigoEmpresa': '7128', 'NombreEmpresa': 'Empresa de Servicios Sanitarios de la Araucania'}, {'CodigoEmpresa': '7358', 'NombreEmpresa': 'Empresa de Servicios Sanitarios de Magallanes S.A.'}, {'CodigoEmpresa': '7138', 'NombreEmpresa': 'Empresa de Servicios Sanitarios de Tarapacá S.A.'}, {'CodigoEmpresa': '6961', 'NombreEmpresa': 'Empresa Nacional de Minería'}, {'CodigoEmpresa': '7149', 'NombreEmpresa': 'Empresa Nacional del Petróleo'}, {'CodigoEmpresa': '1069779', 'NombreEmpresa': 'EMPRESA PORTUARIA ANTOFAGASTA'}, {'CodigoEmpresa': '1085179', 'NombreEmpresa': 'Empresa Portuaria Arica'}, {'CodigoEmpresa': '7493', 'NombreEmpresa': 'Empresa Portuaria Iquique'}, {'CodigoEmpresa': '7463', 'NombreEmpresa': 'Empresa Portuaria Puerto Montt'}, {'CodigoEmpresa': '1076044', 'NombreEmpresa': 'EMPRESA PORTUARIA SAN ANTONIO'}, {'CodigoEmpresa': '1061586', 'NombreEmpresa': 'EMPRESA PORTUARIA VALPARAISO'}, {'CodigoEmpresa': '7266', 'NombreEmpresa': 'Estado Mayor Conjunto'}, {'CodigoEmpresa': '7076', 'NombreEmpresa': 'FISCALIA NACIONAL ECONOMICA'}, {'CodigoEmpresa': '7182', 'NombreEmpresa': 'FONDO DE SOLIDARIDAD E INVERSION SOCIAL'}, {'CodigoEmpresa': '220665', 'NombreEmpresa': 'FONDO HOSPITAL DE LA DIRECCION DE PREVISION DE CARABINEROS DE CHILE'}, {'CodigoEmpresa': '6954', 'NombreEmpresa': 'Fondo Nacional de Salud - FONASA'}, {'CodigoEmpresa': '6946', 'NombreEmpresa': 'Fuerza Aérea de Chile'}, {'CodigoEmpresa': '1090451', 'NombreEmpresa': 'FUND NACIONAL DE ORQUESTAS JUVENILES E INFANTILES DE CHILE'}, {'CodigoEmpresa': '1736867', 'NombreEmpresa': 'Fundación para la Innovación Agraria'}, {'CodigoEmpresa': '7286', 'NombreEmpresa': 'Gobernación  Provincial de Choapa'}, {'CodigoEmpresa': '7379', 'NombreEmpresa': 'Gobernación de Cachapoal'}, {'CodigoEmpresa': '7134', 'NombreEmpresa': 'Gobernación Provincia Capitan Prat'}, {'CodigoEmpresa': '7284', 'NombreEmpresa': 'Gobernación Provincia Cordillera'}, {'CodigoEmpresa': '7271', 'NombreEmpresa': 'GOBERNACION PROVINCIA DE CHACABUCO'}, {'CodigoEmpresa': '7347', 'NombreEmpresa': 'Gobernación Provincia de Elqui'}, {'CodigoEmpresa': '7148', 'NombreEmpresa': 'Gobernación Provincial Antártica'}, {'CodigoEmpresa': '7151', 'NombreEmpresa': 'Gobernación Provincial Antofagasta'}, {'CodigoEmpresa': '7387', 'NombreEmpresa': 'Gobernación Provincial Cardenal Caro'}, {'CodigoEmpresa': '7281', 'NombreEmpresa': 'Gobernación Provincial Cauquenes'}, {'CodigoEmpresa': '7499', 'NombreEmpresa': 'Gobernación Provincial Chiloe'}, {'CodigoEmpresa': '7450', 'NombreEmpresa': 'Gobernación Provincial de Arauco'}, {'CodigoEmpresa': '7357', 'NombreEmpresa': 'Gobernación Provincial de Arica'}, {'CodigoEmpresa': '7059', 'NombreEmpresa': 'Gobernación Provincial de Aysén'}, {'CodigoEmpresa': '7061', 'NombreEmpresa': 'GOBERNACION PROVINCIAL DE CAUTIN'}, {'CodigoEmpresa': '7155', 'NombreEmpresa': 'Gobernación Provincial de Chañaral'}, {'CodigoEmpresa': '7376', 'NombreEmpresa': 'Gobernación Provincial de Colchagua'}, {'CodigoEmpresa': '7300', 'NombreEmpresa': 'Gobernación Provincial de Concepción'}, {'CodigoEmpresa': '7145', 'NombreEmpresa': 'Gobernación Provincial de Copiapó'}, {'CodigoEmpresa': '7292', 'NombreEmpresa': 'Gobernación Provincial de Coyhaique'}, {'CodigoEmpresa': '7263', 'NombreEmpresa': 'Gobernación Provincial de Curicó'}, {'CodigoEmpresa': '7237', 'NombreEmpresa': 'GOBERNACION PROVINCIAL DE EL LOA'}, {'CodigoEmpresa': '7309', 'NombreEmpresa': 'GOBERNACION PROVINCIAL DE GRAL CARRERA'}, {'CodigoEmpresa': '7150', 'NombreEmpresa': 'Gobernación Provincial de Huasco'}, {'CodigoEmpresa': '7349', 'NombreEmpresa': 'Gobernación Provincial de Iquique'}, {'CodigoEmpresa': '135959', 'NombreEmpresa': 'Gobernación Provincial de Isla de Pascua'}, {'CodigoEmpresa': '7037', 'NombreEmpresa': 'Gobernación Provincial de Limarí'}, {'CodigoEmpresa': '7282', 'NombreEmpresa': 'Gobernación Provincial de Linares'}, {'CodigoEmpresa': '7267', 'NombreEmpresa': 'Gobernación Provincial de Llanquihue'}, {'CodigoEmpresa': '7009', 'NombreEmpresa': 'Gobernación Provincial de Los Andes'}, {'CodigoEmpresa': '7484', 'NombreEmpresa': 'Gobernación Provincial de Magallanes'}, {'CodigoEmpresa': '7253', 'NombreEmpresa': 'Gobernación Provincial de Maipo'}, {'CodigoEmpresa': '7275', 'NombreEmpresa': 'Gobernación Provincial de Malleco'}, {'CodigoEmpresa': '7142', 'NombreEmpresa': 'Gobernación Provincial de Ñuble'}, {'CodigoEmpresa': '7283', 'NombreEmpresa': 'GOBERNACION PROVINCIAL DE OSORNO'}, {'CodigoEmpresa': '7252', 'NombreEmpresa': 'Gobernación Provincial de Palena'}, {'CodigoEmpresa': '7350', 'NombreEmpresa': 'GOBERNACION PROVINCIAL DE PARINACOTA'}, {'CodigoEmpresa': '7420', 'NombreEmpresa': 'Gobernación Provincial de Petorca'}, {'CodigoEmpresa': '7346', 'NombreEmpresa': 'GOBERNACION PROVINCIAL DE QUILLOTA'}, {'CodigoEmpresa': '269793', 'NombreEmpresa': 'Gobernación Provincial de Ranco'}, {'CodigoEmpresa': '111119', 'NombreEmpresa': 'Gobernación Provincial de San Antonio'}, {'CodigoEmpresa': '7055', 'NombreEmpresa': 'Gobernación Provincial de Talagante'}, {'CodigoEmpresa': '7269', 'NombreEmpresa': 'Gobernación Provincial de Talca'}, {'CodigoEmpresa': '7063', 'NombreEmpresa': 'Gobernación Provincial de Tocopilla'}, {'CodigoEmpresa': '7264', 'NombreEmpresa': 'Gobernación Provincial de Última Esperanza'}, {'CodigoEmpresa': '7322', 'NombreEmpresa': 'Gobernación Provincial de Valdivia'}, {'CodigoEmpresa': '7352', 'NombreEmpresa': 'Gobernación Provincial de Valparaíso'}, {'CodigoEmpresa': '7140', 'NombreEmpresa': 'Gobernación Provincial del Bío-Bío'}, {'CodigoEmpresa': '275314', 'NombreEmpresa': 'Gobernación Provincial del Tamarugal'}, {'CodigoEmpresa': '7056', 'NombreEmpresa': 'Gobernación Provincial Melipilla'}, {'CodigoEmpresa': '7495', 'NombreEmpresa': 'Gobernación Provincial San Felipe'}, {'CodigoEmpresa': '7381', 'NombreEmpresa': 'Gobernación Provincial Tierra del Fuego'}, {'CodigoEmpresa': '1163597', 'NombreEmpresa': 'Gobierno Provincial de Marga Marga'}, {'CodigoEmpresa': '7199', 'NombreEmpresa': 'Gobierno Regional de Antofagasta'}, {'CodigoEmpresa': '267965', 'NombreEmpresa': 'Gobierno Regional de Arica y Parinacota'}, {'CodigoEmpresa': '7077', 'NombreEmpresa': 'GOBIERNO REGIONAL DE ATACAMA'}, {'CodigoEmpresa': '7085', 'NombreEmpresa': 'Gobierno Regional de Aysén'}, {'CodigoEmpresa': '6940', 'NombreEmpresa': 'Gobierno Regional de Coquimbo'}, {'CodigoEmpresa': '7013', 'NombreEmpresa': 'Gobierno Regional de La Araucanía'}, {'CodigoEmpresa': '7015', 'NombreEmpresa': 'Gobierno Regional de la Región del Bío-Bío'}, {'CodigoEmpresa': '7207', 'NombreEmpresa': 'Gobierno Regional de Los Lagos'}, {'CodigoEmpresa': '267799', 'NombreEmpresa': 'GOBIERNO REGIONAL DE LOS RIOS'}, {'CodigoEmpresa': '7087', 'NombreEmpresa': 'GOBIERNO REGIONAL DE MAGALLANES Y ANTARTICA CHILEN'}, {'CodigoEmpresa': '7084', 'NombreEmpresa': 'Gobierno Regional de Tarapacá'}, {'CodigoEmpresa': '7172', 'NombreEmpresa': 'Gobierno Regional de Valparaíso'}, {'CodigoEmpresa': '7222', 'NombreEmpresa': 'Gobierno Regional Metropolitano'}, {'CodigoEmpresa': '7200', 'NombreEmpresa': 'GOBIERNO REGIONAL VI REGION DEL LI BERTADOR B O\"HIGGINS'}, {'CodigoEmpresa': '7223', 'NombreEmpresa': 'GOBIERNO REGIONAL VII REGION'}, {'CodigoEmpresa': '103933', 'NombreEmpresa': 'Hermanas Misioneras Franciscanas de Purulón'}, {'CodigoEmpresa': '7403', 'NombreEmpresa': 'Hospital  Lonquimay'}, {'CodigoEmpresa': '7472', 'NombreEmpresa': 'Hospital Andacollo'}, {'CodigoEmpresa': '7398', 'NombreEmpresa': 'Hospital Arauco'}, {'CodigoEmpresa': '7293', 'NombreEmpresa': 'HOSPITAL BARROS LUCO TRUDEAU'}, {'CodigoEmpresa': '7393', 'NombreEmpresa': 'Hospital Base Osorno'}, {'CodigoEmpresa': '7131', 'NombreEmpresa': 'Hospital Carahue'}, {'CodigoEmpresa': '7494', 'NombreEmpresa': 'Hospital Carlos Cisternas de Calama'}, {'CodigoEmpresa': '7256', 'NombreEmpresa': 'Hospital Cauquenes'}, {'CodigoEmpresa': '7297', 'NombreEmpresa': 'HOSPITAL CLINICO DE MAGALLANES DR. LAUTARO NAVARRO AVARIA'}, {'CodigoEmpresa': '1379869', 'NombreEmpresa': 'Hospital Clínico Metropolitano El Carmen Doctor Luis Valentín Ferrada'}, {'CodigoEmpresa': '1375151', 'NombreEmpresa': 'HOSPITAL CLINICO METROPOLITANO LA FLORIDA DRA ELOISA DIAZ INSUNZA'}, {'CodigoEmpresa': '7326', 'NombreEmpresa': 'Hospital Clínico San Borja Arriarán'}, {'CodigoEmpresa': '7480', 'NombreEmpresa': 'Hospital Cochrane'}, {'CodigoEmpresa': '7421', 'NombreEmpresa': 'Hospital Coinco'}, {'CodigoEmpresa': '7462', 'NombreEmpresa': 'Hospital Collipulli'}, {'CodigoEmpresa': '7330', 'NombreEmpresa': 'Hospital Combarbalá'}, {'CodigoEmpresa': '7137', 'NombreEmpresa': 'HOSPITAL COMUNITARIO DE SALUD FAMILIAR DE BULNES'}, {'CodigoEmpresa': '7400', 'NombreEmpresa': 'Hospital Contulmo'}, {'CodigoEmpresa': '7340', 'NombreEmpresa': 'Hospital Coyhaique'}, {'CodigoEmpresa': '7399', 'NombreEmpresa': 'Hospital Curanilahue'}, {'CodigoEmpresa': '7452', 'NombreEmpresa': 'Hospital Curicó'}, {'CodigoEmpresa': '1286160', 'NombreEmpresa': 'HOSPITAL DE CASTRO DR. AUGUSTO RIFFART'}, {'CodigoEmpresa': '7279', 'NombreEmpresa': 'Hospital de Chanco'}, {'CodigoEmpresa': '7413', 'NombreEmpresa': 'Hospital de Chañaral'}, {'CodigoEmpresa': '7441', 'NombreEmpresa': 'Hospital de Chimbarongo'}, {'CodigoEmpresa': '7277', 'NombreEmpresa': 'Hospital de Constitución'}, {'CodigoEmpresa': '7411', 'NombreEmpresa': 'Hospital de Copiapó'}, {'CodigoEmpresa': '7426', 'NombreEmpresa': 'Hospital de Corral'}, {'CodigoEmpresa': '7291', 'NombreEmpresa': 'Hospital de Cunco'}, {'CodigoEmpresa': '7455', 'NombreEmpresa': 'Hospital de Curacaví'}, {'CodigoEmpresa': '7278', 'NombreEmpresa': 'Hospital de Curepto'}, {'CodigoEmpresa': '7414', 'NombreEmpresa': 'Hospital de Huasco'}, {'CodigoEmpresa': '7468', 'NombreEmpresa': 'Hospital de Illapel'}, {'CodigoEmpresa': '7429', 'NombreEmpresa': 'Hospital De la Unión'}, {'CodigoEmpresa': '7424', 'NombreEmpresa': 'Hospital de Lanco'}, {'CodigoEmpresa': '7439', 'NombreEmpresa': 'Hospital de Litueche'}, {'CodigoEmpresa': '7447', 'NombreEmpresa': 'Hospital de Lolol'}, {'CodigoEmpresa': '7156', 'NombreEmpresa': 'Hospital de Loncoche'}, {'CodigoEmpresa': '7425', 'NombreEmpresa': 'Hospital de los Lagos'}, {'CodigoEmpresa': '7442', 'NombreEmpresa': 'Hospital de Marchigue'}, {'CodigoEmpresa': '7370', 'NombreEmpresa': 'Hospital de Mejillones'}, {'CodigoEmpresa': '7458', 'NombreEmpresa': 'Hospital de Melipilla'}, {'CodigoEmpresa': '1238659', 'NombreEmpresa': 'Hospital de Misión San Juan de la Costa'}, {'CodigoEmpresa': '7280', 'NombreEmpresa': 'Hospital de MOLINA'}, {'CodigoEmpresa': '7434', 'NombreEmpresa': 'Hospital de Mulchén'}, {'CodigoEmpresa': '7445', 'NombreEmpresa': 'Hospital de Nancagua'}, {'CodigoEmpresa': '7045', 'NombreEmpresa': 'Hospital de Niños Roberto del Rio'}, {'CodigoEmpresa': '7422', 'NombreEmpresa': 'Hospital de Paillaco'}, {'CodigoEmpresa': '7459', 'NombreEmpresa': 'Hospital de Peñaflor'}, {'CodigoEmpresa': '7444', 'NombreEmpresa': 'Hospital de Peumo'}, {'CodigoEmpresa': '7287', 'NombreEmpresa': 'HOSPITAL DE PUERTO OCTAY'}, {'CodigoEmpresa': '7465', 'NombreEmpresa': 'Hospital de Purén'}, {'CodigoEmpresa': '7327', 'NombreEmpresa': 'Hospital de Purranque'}, {'CodigoEmpresa': '7440', 'NombreEmpresa': 'Hospital de Rengo'}, {'CodigoEmpresa': '7323', 'NombreEmpresa': 'Hospital de Salamanca'}, {'CodigoEmpresa': '7448', 'NombreEmpresa': 'Hospital de San Fernando'}, {'CodigoEmpresa': '7443', 'NombreEmpresa': 'Hospital de San Vicente de Tagua Tagua'}, {'CodigoEmpresa': '7314', 'NombreEmpresa': 'Hospital de Santa Cruz'}, {'CodigoEmpresa': '7457', 'NombreEmpresa': 'Hospital de Talagante'}, {'CodigoEmpresa': '7391', 'NombreEmpresa': 'Hospital de Taltal'}, {'CodigoEmpresa': '7460', 'NombreEmpresa': 'HOSPITAL DE URGENCIA ASISTENCIA PUBLICA DR ALEJANDRO DEL RIO'}, {'CodigoEmpresa': '1238663', 'NombreEmpresa': 'Hospital del Perpetuo Socorro de Quilacahuin'}, {'CodigoEmpresa': '7428', 'NombreEmpresa': 'Hospital del Salvador'}, {'CodigoEmpresa': '7415', 'NombreEmpresa': 'Hospital Diego de Almagro'}, {'CodigoEmpresa': '7046', 'NombreEmpresa': 'Hospital Doctor Hernán Henríquez Aravena'}, {'CodigoEmpresa': '6918', 'NombreEmpresa': 'Hospital Doctor Luis Calvo Mackenna'}, {'CodigoEmpresa': '7491', 'NombreEmpresa': 'Hospital Dr Victor Hugo  Möll de Cabildo'}, {'CodigoEmpresa': '7289', 'NombreEmpresa': 'Hospital Dr. Abraham Godoy Peña'}, {'CodigoEmpresa': '7310', 'NombreEmpresa': 'Hospital Dr. Augusto Essmann Burgos'}, {'CodigoEmpresa': '7383', 'NombreEmpresa': 'Hospital Dr. Felix Bulnes Cerda'}, {'CodigoEmpresa': '7324', 'NombreEmpresa': 'Hospital Dr. GGB'}, {'CodigoEmpresa': '6936', 'NombreEmpresa': 'Hospital Dr. Gustavo Fricke'}, {'CodigoEmpresa': '7386', 'NombreEmpresa': 'Hospital Dr. Marcos Chamorro Iglesias'}, {'CodigoEmpresa': '7344', 'NombreEmpresa': 'Hospital Dr. Mario Sánchez Vergara de La Calera'}, {'CodigoEmpresa': '7139', 'NombreEmpresa': 'Hospital El Carmen'}, {'CodigoEmpresa': '7390', 'NombreEmpresa': 'Hospital El Pino'}, {'CodigoEmpresa': '7475', 'NombreEmpresa': 'Hospital Florida'}, {'CodigoEmpresa': '7290', 'NombreEmpresa': 'Hospital Galvarino'}, {'CodigoEmpresa': '7490', 'NombreEmpresa': 'Hospital Geriátrico Paz de la Tarde'}, {'CodigoEmpresa': '7047', 'NombreEmpresa': 'Hospital Gorbea'}, {'CodigoEmpresa': '7042', 'NombreEmpresa': 'Hospital Herminda Martin'}, {'CodigoEmpresa': '7255', 'NombreEmpresa': 'Hospital Hualañé'}, {'CodigoEmpresa': '7389', 'NombreEmpresa': 'Hospital Huepil'}, {'CodigoEmpresa': '7401', 'NombreEmpresa': 'Hospital Intercultural Kallvu Llanka'}, {'CodigoEmpresa': '7487', 'NombreEmpresa': 'Hospital La Ligua'}, {'CodigoEmpresa': '7312', 'NombreEmpresa': 'Hospital La Serena'}, {'CodigoEmpresa': '7464', 'NombreEmpresa': 'Hospital Laja'}, {'CodigoEmpresa': '7419', 'NombreEmpresa': 'Hospital Las Higueras'}, {'CodigoEmpresa': '7402', 'NombreEmpresa': 'Hospital Lebu'}, {'CodigoEmpresa': '7258', 'NombreEmpresa': 'Hospital Linares'}, {'CodigoEmpresa': '7481', 'NombreEmpresa': 'Hospital Lota'}, {'CodigoEmpresa': '1076658', 'NombreEmpresa': 'HOSPITAL METROPOLITANO DE SANTIAGO'}, {'CodigoEmpresa': '7388', 'NombreEmpresa': 'Hospital Nacimiento'}, {'CodigoEmpresa': '7417', 'NombreEmpresa': 'Hospital Ovalle'}, {'CodigoEmpresa': '7331', 'NombreEmpresa': 'Hospital Padre Alberto Hurtado'}, {'CodigoEmpresa': '102393', 'NombreEmpresa': 'HOSPITAL PANGUIPULLI'}, {'CodigoEmpresa': '7259', 'NombreEmpresa': 'Hospital Parral'}, {'CodigoEmpresa': '7053', 'NombreEmpresa': 'Hospital Pedro Morales C.'}, {'CodigoEmpresa': '7446', 'NombreEmpresa': 'Hospital Penco - Lirquen'}, {'CodigoEmpresa': '7489', 'NombreEmpresa': 'Hospital Peñablanca'}, {'CodigoEmpresa': '7343', 'NombreEmpresa': 'Hospital Petorca'}, {'CodigoEmpresa': '7435', 'NombreEmpresa': 'Hospital Pichidegua'}, {'CodigoEmpresa': '7436', 'NombreEmpresa': 'Hospital Pichilemu'}, {'CodigoEmpresa': '7048', 'NombreEmpresa': 'Hospital Pitrufquén'}, {'CodigoEmpresa': '7412', 'NombreEmpresa': 'Hospital Provincial del Huasco Monseñor Fernando Ariztia Ruiz'}, {'CodigoEmpresa': '1216633', 'NombreEmpresa': 'HOSPITAL PSIQUIATRICO DR. PHILIPPE PINEL PUTAENDO'}, {'CodigoEmpresa': '7427', 'NombreEmpresa': 'Hospital Psiquiátrico El Peral'}, {'CodigoEmpresa': '7335', 'NombreEmpresa': 'Hospital Puerto Aysén'}, {'CodigoEmpresa': '7476', 'NombreEmpresa': 'Hospital Puerto Cisnes'}, {'CodigoEmpresa': '127018', 'NombreEmpresa': 'HOSPITAL PUERTO MONTT SERVICIO DE SALUD DEL RELONCAVI'}, {'CodigoEmpresa': '7307', 'NombreEmpresa': 'Hospital Puerto Saavedra'}, {'CodigoEmpresa': '7485', 'NombreEmpresa': 'Hospital Quilpué'}, {'CodigoEmpresa': '7348', 'NombreEmpresa': 'Hospital Quintero'}, {'CodigoEmpresa': '7423', 'NombreEmpresa': 'Hospital Río Bueno'}, {'CodigoEmpresa': '7470', 'NombreEmpresa': 'Hospital Rio Negro'}, {'CodigoEmpresa': '1215262', 'NombreEmpresa': 'Hospital San Antonio de Putaendo'}, {'CodigoEmpresa': '7469', 'NombreEmpresa': 'Hospital San Carlos'}, {'CodigoEmpresa': '7262', 'NombreEmpresa': 'Hospital San Javier'}, {'CodigoEmpresa': '7406', 'NombreEmpresa': 'Hospital San José'}, {'CodigoEmpresa': '1214332', 'NombreEmpresa': 'Hospital San Juan de Dios de Los Andes'}, {'CodigoEmpresa': '7405', 'NombreEmpresa': 'Hospital San Luis de Buin'}, {'CodigoEmpresa': '7345', 'NombreEmpresa': 'Hospital San Martín de Quillota'}, {'CodigoEmpresa': '7477', 'NombreEmpresa': 'Hospital Sanatorio San José de Maipo'}, {'CodigoEmpresa': '7404', 'NombreEmpresa': 'Hospital Santa Barbara'}, {'CodigoEmpresa': '7449', 'NombreEmpresa': 'Hospital Santa Filomena de Graneros'}, {'CodigoEmpresa': '7318', 'NombreEmpresa': 'Hospital Santa Juana'}, {'CodigoEmpresa': '7130', 'NombreEmpresa': 'Hospital Santiago Oriente Dr. Luis Tisne Brousse'}, {'CodigoEmpresa': '7486', 'NombreEmpresa': 'Hospital Santo Tomás de Limache'}, {'CodigoEmpresa': '7261', 'NombreEmpresa': 'Hospital Teno'}, {'CodigoEmpresa': '7274', 'NombreEmpresa': 'Hospital Til - Til'}, {'CodigoEmpresa': '7385', 'NombreEmpresa': 'Hospital Tocopilla'}, {'CodigoEmpresa': '7062', 'NombreEmpresa': 'Hospital Toltén'}, {'CodigoEmpresa': '7384', 'NombreEmpresa': 'Hospital Traiguén'}, {'CodigoEmpresa': '7288', 'NombreEmpresa': 'Hospital Victoria'}, {'CodigoEmpresa': '7049', 'NombreEmpresa': 'Hospital Vilcún'}, {'CodigoEmpresa': '7132', 'NombreEmpresa': 'Hospital Villarrica'}, {'CodigoEmpresa': '7397', 'NombreEmpresa': 'Hospital Yumbel'}, {'CodigoEmpresa': '100156', 'NombreEmpresa': 'I MUNICIPALIDAD DE ANGOL'}, {'CodigoEmpresa': '87653', 'NombreEmpresa': 'I MUNICIPALIDAD DE ANTOFAGASTA'}, {'CodigoEmpresa': '100049', 'NombreEmpresa': 'I MUNICIPALIDAD DE AYSEN'}, {'CodigoEmpresa': '86917', 'NombreEmpresa': 'I MUNICIPALIDAD DE CALAMA'}, {'CodigoEmpresa': '7241', 'NombreEmpresa': 'I MUNICIPALIDAD DE CERRILLOS'}, {'CodigoEmpresa': '154782', 'NombreEmpresa': 'I MUNICIPALIDAD DE CHILE CHICO'}, {'CodigoEmpresa': '84958', 'NombreEmpresa': 'I MUNICIPALIDAD DE CONCHALI'}, {'CodigoEmpresa': '86872', 'NombreEmpresa': 'I MUNICIPALIDAD DE COPIAPO'}, {'CodigoEmpresa': '116298', 'NombreEmpresa': 'I MUNICIPALIDAD DE EL QUISCO'}, {'CodigoEmpresa': '116944', 'NombreEmpresa': 'I MUNICIPALIDAD DE EMPEDRADO'}, {'CodigoEmpresa': '7496', 'NombreEmpresa': 'I MUNICIPALIDAD DE LA COMUNA DE EL BOSQUE'}, {'CodigoEmpresa': '113255', 'NombreEmpresa': 'I MUNICIPALIDAD DE LA CRUZ'}, {'CodigoEmpresa': '83825', 'NombreEmpresa': 'I MUNICIPALIDAD DE LA PINTANA'}, {'CodigoEmpresa': '116296', 'NombreEmpresa': 'I MUNICIPALIDAD DE LAS CABRAS'}, {'CodigoEmpresa': '7064', 'NombreEmpresa': 'I MUNICIPALIDAD DE LLANQUIHUE'}, {'CodigoEmpresa': '118620', 'NombreEmpresa': 'I MUNICIPALIDAD DE LOS ALAMOS'}, {'CodigoEmpresa': '112924', 'NombreEmpresa': 'I MUNICIPALIDAD DE MONTEPATRIA'}, {'CodigoEmpresa': '117406', 'NombreEmpresa': 'I MUNICIPALIDAD DE PADRE HURTADO'}, {'CodigoEmpresa': '88102', 'NombreEmpresa': 'I MUNICIPALIDAD DE PROVIDENCIA'}, {'CodigoEmpresa': '87388', 'NombreEmpresa': 'I MUNICIPALIDAD DE PUENTE ALTO'}, {'CodigoEmpresa': '86507', 'NombreEmpresa': 'I MUNICIPALIDAD DE PUERTO MONTT'}, {'CodigoEmpresa': '98280', 'NombreEmpresa': 'I MUNICIPALIDAD DE PUTAENDO'}, {'CodigoEmpresa': '88203', 'NombreEmpresa': 'I MUNICIPALIDAD DE QUILLOTA'}, {'CodigoEmpresa': '93774', 'NombreEmpresa': 'I MUNICIPALIDAD DE SAN CLEMENTE'}, {'CodigoEmpresa': '142855', 'NombreEmpresa': 'I MUNICIPALIDAD DE SAN PEDRO'}, {'CodigoEmpresa': '113428', 'NombreEmpresa': 'I MUNICIPALIDAD DE SAN PEDRO DE ATACAMA'}, {'CodigoEmpresa': '98443', 'NombreEmpresa': 'I MUNICIPALIDAD DE TOME'}, {'CodigoEmpresa': '114395', 'NombreEmpresa': 'I MUNICIPALIDAD DE TUCAPEL'}, {'CodigoEmpresa': '116399', 'NombreEmpresa': 'I MUNICIPALIDAD DE VICTORIA'}, {'CodigoEmpresa': '84152', 'NombreEmpresa': 'I MUNICIPALIDAD VALDIVIA'}, {'CodigoEmpresa': '114393', 'NombreEmpresa': 'I.  MUNICIPALIDAD CURACO  DE VELEZ'}, {'CodigoEmpresa': '7328', 'NombreEmpresa': 'I. Municipalidad  de Alto del Carmen'}, {'CodigoEmpresa': '121539', 'NombreEmpresa': 'I. Municipalidad de Calle Larga'}, {'CodigoEmpresa': '113614', 'NombreEmpresa': 'I. MUNICIPALIDAD DE CASABLANCA'}, {'CodigoEmpresa': '88254', 'NombreEmpresa': 'I. Municipalidad de Chillán'}, {'CodigoEmpresa': '99322', 'NombreEmpresa': 'I. MUNICIPALIDAD DE COLINA'}, {'CodigoEmpresa': '87901', 'NombreEmpresa': 'I. MUNICIPALIDAD DE COQUIMBO'}, {'CodigoEmpresa': '100448', 'NombreEmpresa': 'I. Municipalidad de Coronel'}, {'CodigoEmpresa': '99105', 'NombreEmpresa': 'I. MUNICIPALIDAD DE INDEPENDENCIA'}, {'CodigoEmpresa': '114398', 'NombreEmpresa': 'I. Municipalidad de Licantén'}, {'CodigoEmpresa': '86518', 'NombreEmpresa': 'I. MUNICIPALIDAD DE LO ESPEJO'}, {'CodigoEmpresa': '87373', 'NombreEmpresa': 'I. MUNICIPALIDAD DE LO PRADO'}, {'CodigoEmpresa': '101002', 'NombreEmpresa': 'I. Municipalidad de Los Andes'}, {'CodigoEmpresa': '115166', 'NombreEmpresa': 'I. MUNICIPALIDAD DE PENCAHUE'}, {'CodigoEmpresa': '102868', 'NombreEmpresa': 'I. Municipalidad de Puerto Varas'}, {'CodigoEmpresa': '87633', 'NombreEmpresa': 'I. MUNICIPALIDAD DE QUILPUE'}, {'CodigoEmpresa': '114918', 'NombreEmpresa': 'I. MUNICIPALIDAD DE RINCONADA'}, {'CodigoEmpresa': '7367', 'NombreEmpresa': 'I. Municipalidad de Río Negro'}, {'CodigoEmpresa': '111960', 'NombreEmpresa': 'I. Municipalidad de San Pablo'}, {'CodigoEmpresa': '99765', 'NombreEmpresa': 'I. MUNICIPALIDAD DE TALAGANTE'}, {'CodigoEmpresa': '84480', 'NombreEmpresa': 'I. MUNICIPALIDAD DE TALCA'}, {'CodigoEmpresa': '115167', 'NombreEmpresa': 'I. MUNICIPALIDAD DE TOCOPILLA'}, {'CodigoEmpresa': '86491', 'NombreEmpresa': 'I. MUNICIPALIDAD DE VALLENAR'}, {'CodigoEmpresa': '94315', 'NombreEmpresa': 'I. MUNICIPALIDAD POZO ALMONTE'}, {'CodigoEmpresa': '86664', 'NombreEmpresa': 'I.MUNICIPALIDAD DE CERRO NAVIA'}, {'CodigoEmpresa': '92414', 'NombreEmpresa': 'I.MUNICIPALIDAD DE CHEPICA'}, {'CodigoEmpresa': '113254', 'NombreEmpresa': 'I.Municipalidad de Coinco'}, {'CodigoEmpresa': '87382', 'NombreEmpresa': 'I.MUNICIPALIDAD DE CONCEPCION'}, {'CodigoEmpresa': '94458', 'NombreEmpresa': 'I.MUNICIPALIDAD DE CONCON'}, {'CodigoEmpresa': '87838', 'NombreEmpresa': 'I.Municipalidad de Curicó'}, {'CodigoEmpresa': '87824', 'NombreEmpresa': 'I.MUNICIPALIDAD DE ESTACION CENTRAL'}, {'CodigoEmpresa': '84300', 'NombreEmpresa': 'I.MUNICIPALIDAD DE MACUL'}, {'CodigoEmpresa': '115304', 'NombreEmpresa': 'I.MUNICIPALIDAD DE MARCHIGUE'}, {'CodigoEmpresa': '120798', 'NombreEmpresa': 'I.MUNICIPALIDAD DE MARIA PINTO'}, {'CodigoEmpresa': '99101', 'NombreEmpresa': 'I.Municipalidad de Mostazal'}, {'CodigoEmpresa': '87172', 'NombreEmpresa': 'I.MUNICIPALIDAD DE PEÑALOLEN'}, {'CodigoEmpresa': '113913', 'NombreEmpresa': 'I.MUNICIPALIDAD DE SAN RAFAEL'}, {'CodigoEmpresa': '87399', 'NombreEmpresa': 'I.MUNICIPALIDAD DE VIÑA DEL MAR'}, {'CodigoEmpresa': '115609', 'NombreEmpresa': 'IIustre Municipalidad de Malloa'}, {'CodigoEmpresa': '86580', 'NombreEmpresa': 'IL. MUNICIPALIDAD DE PUNTA ARENAS'}, {'CodigoEmpresa': '7356', 'NombreEmpresa': 'ILUSTRE MUNICIPALIDAD  DE SAGRADA FAMILIA'}, {'CodigoEmpresa': '182336', 'NombreEmpresa': 'Ilustre Municipalidad Alto Bio Bio'}, {'CodigoEmpresa': '7294', 'NombreEmpresa': 'Ilustre Municipalidad de Algarrobo'}, {'CodigoEmpresa': '111124', 'NombreEmpresa': 'Ilustre Municipalidad de Alhue'}, {'CodigoEmpresa': '119639', 'NombreEmpresa': 'Ilustre Municipalidad de Andacollo'}, {'CodigoEmpresa': '119484', 'NombreEmpresa': 'ILUSTRE MUNICIPALIDAD DE ANTUCO'}, {'CodigoEmpresa': '7050', 'NombreEmpresa': 'Ilustre Municipalidad de Arauco'}, {'CodigoEmpresa': '86624', 'NombreEmpresa': 'ILUSTRE MUNICIPALIDAD DE ARICA'}, {'CodigoEmpresa': '118069', 'NombreEmpresa': 'Ilustre municipalidad de Bulnes'}, {'CodigoEmpresa': '115459', 'NombreEmpresa': 'Ilustre Municipalidad de Cabildo'}, {'CodigoEmpresa': '116407', 'NombreEmpresa': 'Ilustre Municipalidad de Cabo de Hornos'}, {'CodigoEmpresa': '120186', 'NombreEmpresa': 'Ilustre Municipalidad de Cabrero'}, {'CodigoEmpresa': '115011', 'NombreEmpresa': 'Ilustre Municipalidad de Calbuco'}, {'CodigoEmpresa': '7364', 'NombreEmpresa': 'Ilustre Municipalidad de Caldera'}, {'CodigoEmpresa': '116219', 'NombreEmpresa': 'Ilustre Municipalidad de Calera de Tango'}, {'CodigoEmpresa': '294421', 'NombreEmpresa': 'Ilustre Municipalidad de Camarones'}, {'CodigoEmpresa': '119487', 'NombreEmpresa': 'Ilustre Municipalidad de Camiña'}, {'CodigoEmpresa': '84473', 'NombreEmpresa': 'ILUSTRE MUNICIPALIDAD DE CANELA'}, {'CodigoEmpresa': '119488', 'NombreEmpresa': 'Ilustre Municipalidad de Cañete'}, {'CodigoEmpresa': '100127', 'NombreEmpresa': 'ILUSTRE MUNICIPALIDAD DE CASTRO'}, {'CodigoEmpresa': '129737', 'NombreEmpresa': 'Ilustre Municipalidad de Catemu'}, {'CodigoEmpresa': '7351', 'NombreEmpresa': 'Ilustre Municipalidad de Cauquenes'}, {'CodigoEmpresa': '114392', 'NombreEmpresa': 'ILUSTRE MUNICIPALIDAD DE CHAITEN'}, {'CodigoEmpresa': '7501', 'NombreEmpresa': 'Ilustre Municipalidad de Chanco'}, {'CodigoEmpresa': '109196', 'NombreEmpresa': 'ILUSTRE MUNICIPALIDAD DE CHAÑARAL'}, {'CodigoEmpresa': '7362', 'NombreEmpresa': 'Ilustre Municipalidad de Chillán'}, {'CodigoEmpresa': '116221', 'NombreEmpresa': 'Ilustre Municipalidad de Chillan Viejo'}, {'CodigoEmpresa': '116404', 'NombreEmpresa': 'Ilustre Municipalidad de Chimbarongo'}, {'CodigoEmpresa': '165105', 'NombreEmpresa': 'Ilustre Municipalidad de Cholchol'}, {'CodigoEmpresa': '115168', 'NombreEmpresa': 'ILUSTRE MUNICIPALIDAD DE CHONCHI'}, {'CodigoEmpresa': '116747', 'NombreEmpresa': 'Ilustre Municipalidad de Cisnes'}, {'CodigoEmpresa': '114925', 'NombreEmpresa': 'ILUSTRE MUNICIPALIDAD DE COBQUECURA'}, {'CodigoEmpresa': '182424', 'NombreEmpresa': 'Ilustre Municipalidad de Cochamo'}, {'CodigoEmpresa': '116942', 'NombreEmpresa': 'Ilustre Municipalidad de Cochrane'}, {'CodigoEmpresa': '165106', 'NombreEmpresa': 'Ilustre Municipalidad de Codegua'}, {'CodigoEmpresa': '116742', 'NombreEmpresa': 'Ilustre Municipalidad de Coelemu'}, {'CodigoEmpresa': '7146', 'NombreEmpresa': 'Ilustre Municipalidad de Coihueco'}, {'CodigoEmpresa': '124195', 'NombreEmpresa': 'Ilustre Municipalidad de Colbún'}, {'CodigoEmpresa': '1053458', 'NombreEmpresa': 'ILUSTRE MUNICIPALIDAD DE COLCHANE'}, {'CodigoEmpresa': '113853', 'NombreEmpresa': 'Ilustre Municipalidad de Collipulli'}, {'CodigoEmpresa': '119266', 'NombreEmpresa': 'Ilustre Municipalidad de Coltauco'}, {'CodigoEmpresa': '102316', 'NombreEmpresa': 'ILUSTRE MUNICIPALIDAD DE CONSTITUCION'}, {'CodigoEmpresa': '141884', 'NombreEmpresa': 'Ilustre Municipalidad de Contulmo'}, {'CodigoEmpresa': '7071', 'NombreEmpresa': 'Ilustre Municipalidad de Coyhaique'}, {'CodigoEmpresa': '129738', 'NombreEmpresa': 'Ilustre Municipalidad de Cunco'}, {'CodigoEmpresa': '121613', 'NombreEmpresa': 'Ilustre Municipalidad de Curacautín'}, {'CodigoEmpresa': '125602', 'NombreEmpresa': 'Ilustre Municipalidad de Curacaví'}, {'CodigoEmpresa': '127036', 'NombreEmpresa': 'Ilustre Municipalidad de Curanilahue'}, {'CodigoEmpresa': '118093', 'NombreEmpresa': 'Ilustre Municipalidad de Curarrehue'}, {'CodigoEmpresa': '133311', 'NombreEmpresa': 'Ilustre Municipalidad de Curepto'}, {'CodigoEmpresa': '7454', 'NombreEmpresa': 'Ilustre Municipalidad de Diego de Almagro'}, {'CodigoEmpresa': '123784', 'NombreEmpresa': 'Ilustre Municipalidad de El Carmen'}, {'CodigoEmpresa': '116741', 'NombreEmpresa': 'ILUSTRE MUNICIPALIDAD DE EL MONTE'}, {'CodigoEmpresa': '7066', 'NombreEmpresa': 'Ilustre Municipalidad de El Tabo'}, {'CodigoEmpresa': '132741', 'NombreEmpresa': 'Ilustre Municipalidad de Ercilla'}, {'CodigoEmpresa': '115285', 'NombreEmpresa': 'Ilustre Municipalidad de Florida'}, {'CodigoEmpresa': '118089', 'NombreEmpresa': 'Ilustre Municipalidad de Freire'}, {'CodigoEmpresa': '135567', 'NombreEmpresa': 'Ilustre Municipalidad de Freirina'}, {'CodigoEmpresa': '119651', 'NombreEmpresa': 'Ilustre Municipalidad de Fresia'}, {'CodigoEmpresa': '84478', 'NombreEmpresa': 'ILUSTRE MUNICIPALIDAD DE FRUTILLAR'}, {'CodigoEmpresa': '118068', 'NombreEmpresa': 'Ilustre Municipalidad de Futaleufu'}, {'CodigoEmpresa': '106880', 'NombreEmpresa': 'Ilustre Municipalidad de Futrono'}, {'CodigoEmpresa': '124203', 'NombreEmpresa': 'Ilustre Municipalidad de Galvarino'}, {'CodigoEmpresa': '118859', 'NombreEmpresa': 'Ilustre Municipalidad de General Lagos'}, {'CodigoEmpresa': '148507', 'NombreEmpresa': 'Ilustre Municipalidad de Graneros'}, {'CodigoEmpresa': '165107', 'NombreEmpresa': 'Ilustre Municipalidad de Guaitecas'}, {'CodigoEmpresa': '116733', 'NombreEmpresa': 'Ilustre Municipalidad de Hijuelas'}, {'CodigoEmpresa': '106170', 'NombreEmpresa': 'ILUSTRE MUNICIPALIDAD DE HUALAIHUE'}, {'CodigoEmpresa': '118855', 'NombreEmpresa': 'Ilustre Municipalidad de Hualañe'}, {'CodigoEmpresa': '123786', 'NombreEmpresa': 'Ilustre Municipalidad de Hualpen'}, {'CodigoEmpresa': '140867', 'NombreEmpresa': 'Ilustre Municipalidad de Hualqui'}, {'CodigoEmpresa': '116946', 'NombreEmpresa': 'ILUSTRE MUNICIPALIDAD DE HUARA'}, {'CodigoEmpresa': '116406', 'NombreEmpresa': 'Ilustre Municipalidad de Huasco'}, {'CodigoEmpresa': '115164', 'NombreEmpresa': 'ILUSTRE MUNICIPALIDAD DE ILLAPEL'}, {'CodigoEmpresa': '87175', 'NombreEmpresa': 'ILUSTRE MUNICIPALIDAD DE IQUIQUE'}, {'CodigoEmpresa': '119852', 'NombreEmpresa': 'Ilustre Municipalidad de Isla de Pascua'}, {'CodigoEmpresa': '108932', 'NombreEmpresa': 'ILUSTRE MUNICIPALIDAD DE JUAN FERNANDEZ'}, {'CodigoEmpresa': '115185', 'NombreEmpresa': 'Ilustre Municipalidad de La Calera'}, {'CodigoEmpresa': '100488', 'NombreEmpresa': 'Ilustre Municipalidad de La Cisterna'}, {'CodigoEmpresa': '165285', 'NombreEmpresa': 'Ilustre Municipalidad de La Estrella'}, {'CodigoEmpresa': '112097', 'NombreEmpresa': 'ILUSTRE MUNICIPALIDAD DE LA GRANJA'}, {'CodigoEmpresa': '116410', 'NombreEmpresa': 'Ilustre Municipalidad de La Higuera'}, {'CodigoEmpresa': '100648', 'NombreEmpresa': 'ILUSTRE MUNICIPALIDAD DE LA LIGUA'}, {'CodigoEmpresa': '7366', 'NombreEmpresa': 'Ilustre Municipalidad de La Reina'}, {'CodigoEmpresa': '87976', 'NombreEmpresa': 'ILUSTRE MUNICIPALIDAD DE LA SERENA'}, {'CodigoEmpresa': '114725', 'NombreEmpresa': 'Ilustre Municipalidad de La Unión'}, {'CodigoEmpresa': '113735', 'NombreEmpresa': 'ILUSTRE MUNICIPALIDAD DE LAGO RANCO'}, {'CodigoEmpresa': '123529', 'NombreEmpresa': 'Ilustre Municipalidad de Lago Verde'}, {'CodigoEmpresa': '119999', 'NombreEmpresa': 'Ilustre Municipalidad de Laguna Blanca'}, {'CodigoEmpresa': '116405', 'NombreEmpresa': 'Ilustre Municipalidad de Laja'}, {'CodigoEmpresa': '118067', 'NombreEmpresa': 'Ilustre Municipalidad de Lampa'}, {'CodigoEmpresa': '106876', 'NombreEmpresa': 'Ilustre Municipalidad de Lanco'}, {'CodigoEmpresa': '124577', 'NombreEmpresa': 'Ilustre Municipalidad de Lautaro'}, {'CodigoEmpresa': '118096', 'NombreEmpresa': 'Ilustre Municipalidad de Lebu'}, {'CodigoEmpresa': '7492', 'NombreEmpresa': 'Ilustre Municipalidad de Limache'}, {'CodigoEmpresa': '86545', 'NombreEmpresa': 'ILUSTRE MUNICIPALIDAD DE LINARES'}, {'CodigoEmpresa': '7365', 'NombreEmpresa': 'Ilustre Municipalidad de Litueche'}, {'CodigoEmpresa': '118072', 'NombreEmpresa': 'Ilustre Municipalidad de Llay Llay'}, {'CodigoEmpresa': '113258', 'NombreEmpresa': 'ILUSTRE MUNICIPALIDAD DE LOLOL'}, {'CodigoEmpresa': '113851', 'NombreEmpresa': 'Ilustre Municipalidad de Loncoche'}, {'CodigoEmpresa': '120788', 'NombreEmpresa': 'Ilustre Municipalidad de Longavi'}, {'CodigoEmpresa': '119994', 'NombreEmpresa': 'Ilustre Municipalidad de Lonquimay'}, {'CodigoEmpresa': '7159', 'NombreEmpresa': 'Ilustre Municipalidad de los Lagos'}, {'CodigoEmpresa': '7304', 'NombreEmpresa': 'Ilustre Municipalidad de Los Muermos'}, {'CodigoEmpresa': '116408', 'NombreEmpresa': 'Ilustre Municipalidad de Los Sauces'}, {'CodigoEmpresa': '116401', 'NombreEmpresa': 'Ilustre Municipalidad de Los Vilos'}, {'CodigoEmpresa': '138211', 'NombreEmpresa': 'Ilustre Municipalidad de Lumaco'}, {'CodigoEmpresa': '113852', 'NombreEmpresa': 'ILUSTRE MUNICIPALIDAD DE MACHALI'}, {'CodigoEmpresa': '115464', 'NombreEmpresa': 'Ilustre Municipalidad de Máfil'}, {'CodigoEmpresa': '93619', 'NombreEmpresa': 'ILUSTRE MUNICIPALIDAD DE MAIPU'}, {'CodigoEmpresa': '113738', 'NombreEmpresa': 'ILUSTRE MUNICIPALIDAD DE MARIA ELENA'}, {'CodigoEmpresa': '120001', 'NombreEmpresa': 'Ilustre Municipalidad de Mariquina'}, {'CodigoEmpresa': '118070', 'NombreEmpresa': 'Ilustre Municipalidad de Maule'}, {'CodigoEmpresa': '120791', 'NombreEmpresa': 'ILUSTRE MUNICIPALIDAD DE MAULLIN'}, {'CodigoEmpresa': '117581', 'NombreEmpresa': 'Ilustre Municipalidad de Mejillones'}, {'CodigoEmpresa': '121617', 'NombreEmpresa': 'Ilustre Municipalidad de Melipeuco'}, {'CodigoEmpresa': '98901', 'NombreEmpresa': 'ILUSTRE MUNICIPALIDAD DE MELIPILLA'}, {'CodigoEmpresa': '84961', 'NombreEmpresa': 'ILUSTRE MUNICIPALIDAD DE MOLINA '}, {'CodigoEmpresa': '115311', 'NombreEmpresa': 'Ilustre Municipalidad de Mulchen'}, {'CodigoEmpresa': '135561', 'NombreEmpresa': 'Ilustre Municipalidad de Nacimiento'}, {'CodigoEmpresa': '116750', 'NombreEmpresa': 'Ilustre Municipalidad de Nancagua'}, {'CodigoEmpresa': '98448', 'NombreEmpresa': 'ILUSTRE MUNICIPALIDAD DE NATALES'}, {'CodigoEmpresa': '118625', 'NombreEmpresa': 'Ilustre Municipalidad de Navidad'}, {'CodigoEmpresa': '142508', 'NombreEmpresa': 'Ilustre Municipalidad de Negrete'}, {'CodigoEmpresa': '7051', 'NombreEmpresa': 'Ilustre Municipalidad de Ninhue'}, {'CodigoEmpresa': '115468', 'NombreEmpresa': 'Ilustre Municipalidad de Nogales'}, {'CodigoEmpresa': '134356', 'NombreEmpresa': 'Ilustre Municipalidad de Ñiquen'}, {'CodigoEmpresa': '86764', 'NombreEmpresa': 'ILUSTRE MUNICIPALIDAD DE ÑUÑOA'}, {'CodigoEmpresa': '115463', 'NombreEmpresa': \"Ilustre Municipalidad de O'Higgins\"}, {'CodigoEmpresa': '119273', 'NombreEmpresa': 'Ilustre Municipalidad de Olivar'}, {'CodigoEmpresa': '119996', 'NombreEmpresa': 'Ilustre Municipalidad de Ollagüe'}, {'CodigoEmpresa': '114724', 'NombreEmpresa': 'Ilustre Municipalidad de Olmue'}, {'CodigoEmpresa': '84959', 'NombreEmpresa': 'ILUSTRE MUNICIPALIDAD DE OSORNO'}, {'CodigoEmpresa': '118075', 'NombreEmpresa': 'Ilustre Municipalidad de Paihuano'}, {'CodigoEmpresa': '116744', 'NombreEmpresa': 'Ilustre Municipalidad de Paillaco'}, {'CodigoEmpresa': '100728', 'NombreEmpresa': 'ILUSTRE MUNICIPALIDAD DE PAINE'}, {'CodigoEmpresa': '110393', 'NombreEmpresa': 'Ilustre Municipalidad de Palena'}, {'CodigoEmpresa': '123526', 'NombreEmpresa': 'Ilustre Municipalidad de Palmilla'}, {'CodigoEmpresa': '115284', 'NombreEmpresa': 'Ilustre Municipalidad de Panguipulli'}, {'CodigoEmpresa': '115302', 'NombreEmpresa': 'Ilustre Municipalidad de Papudo'}, {'CodigoEmpresa': '118971', 'NombreEmpresa': 'Ilustre Municipalidad de Paredones'}, {'CodigoEmpresa': '94459', 'NombreEmpresa': 'ILUSTRE MUNICIPALIDAD DE PARRAL'}, {'CodigoEmpresa': '116729', 'NombreEmpresa': 'Ilustre Municipalidad de Pelarco'}, {'CodigoEmpresa': '113978', 'NombreEmpresa': 'Ilustre Municipalidad de Pelluhue'}, {'CodigoEmpresa': '117587', 'NombreEmpresa': 'Ilustre Municipalidad de Pemuco'}, {'CodigoEmpresa': '142575', 'NombreEmpresa': 'Ilustre Municipalidad de Penco'}, {'CodigoEmpresa': '118619', 'NombreEmpresa': 'Ilustre Municipalidad de Peralillo'}, {'CodigoEmpresa': '133899', 'NombreEmpresa': 'Ilustre Municipalidad de Perquenco'}, {'CodigoEmpresa': '116223', 'NombreEmpresa': 'Ilustre Municipalidad de Petorca'}, {'CodigoEmpresa': '118861', 'NombreEmpresa': 'Ilustre Municipalidad de Peumo'}, {'CodigoEmpresa': '118077', 'NombreEmpresa': 'Ilustre Municipalidad de Pica'}, {'CodigoEmpresa': '118621', 'NombreEmpresa': 'Ilustre Municipalidad de Pichidegua'}, {'CodigoEmpresa': '117179', 'NombreEmpresa': 'Ilustre Municipalidad de Pichilemu'}, {'CodigoEmpresa': '118071', 'NombreEmpresa': 'Ilustre Municipalidad de Pinto'}, {'CodigoEmpresa': '100072', 'NombreEmpresa': 'ILUSTRE MUNICIPALIDAD DE PIRQUE'}, {'CodigoEmpresa': '116411', 'NombreEmpresa': 'Ilustre Municipalidad de Pitrufquen'}, {'CodigoEmpresa': '118087', 'NombreEmpresa': 'Ilustre Municipalidad de Placilla'}, {'CodigoEmpresa': '115798', 'NombreEmpresa': 'Ilustre Municipalidad de Porvenir'}, {'CodigoEmpresa': '117585', 'NombreEmpresa': 'Ilustre Municipalidad de Primavera'}, {'CodigoEmpresa': '119270', 'NombreEmpresa': 'Ilustre Municipalidad de Puchuncavi'}, {'CodigoEmpresa': '86943', 'NombreEmpresa': 'ILUSTRE MUNICIPALIDAD DE PUCON'}, {'CodigoEmpresa': '104899', 'NombreEmpresa': 'Ilustre Municipalidad de Puerto Octay'}, {'CodigoEmpresa': '115313', 'NombreEmpresa': 'Ilustre Municipalidad de Puerto Saavedra'}, {'CodigoEmpresa': '116402', 'NombreEmpresa': 'Ilustre Municipalidad de Pumanque'}, {'CodigoEmpresa': '117588', 'NombreEmpresa': 'Ilustre Municipalidad de Punitaqui'}, {'CodigoEmpresa': '116403', 'NombreEmpresa': 'Ilustre Municipalidad de Puqueldón'}, {'CodigoEmpresa': '114916', 'NombreEmpresa': 'ILUSTRE MUNICIPALIDAD DE PURRANQUE'}, {'CodigoEmpresa': '119479', 'NombreEmpresa': 'ILUSTRE MUNICIPALIDAD DE PUTRE'}, {'CodigoEmpresa': '105334', 'NombreEmpresa': 'ILUSTRE MUNICIPALIDAD DE PUYEHUE'}, {'CodigoEmpresa': '112919', 'NombreEmpresa': 'Ilustre Municipalidad de Queilen'}, {'CodigoEmpresa': '110102', 'NombreEmpresa': 'Ilustre Municipalidad De Quellón'}, {'CodigoEmpresa': '125066', 'NombreEmpresa': 'Ilustre Municipalidad de Quemchi'}, {'CodigoEmpresa': '116940', 'NombreEmpresa': 'Ilustre Municipalidad de Quilaco'}, {'CodigoEmpresa': '88313', 'NombreEmpresa': 'Ilustre Municipalidad de Quilicura'}, {'CodigoEmpresa': '115979', 'NombreEmpresa': 'Ilustre Municipalidad de Quilleco'}, {'CodigoEmpresa': '135562', 'NombreEmpresa': 'ILUSTRE MUNICIPALIDAD DE QUILLON'}, {'CodigoEmpresa': '116731', 'NombreEmpresa': 'Ilustre Municipalidad de Quinchao'}, {'CodigoEmpresa': '115010', 'NombreEmpresa': 'Ilustre Municipalidad de Quinta de Tilcoco'}, {'CodigoEmpresa': '88075', 'NombreEmpresa': 'ILUSTRE MUNICIPALIDAD DE QUINTA NORMAL'}, {'CodigoEmpresa': '138454', 'NombreEmpresa': 'Ilustre Municipalidad de Quintero'}, {'CodigoEmpresa': '124198', 'NombreEmpresa': 'Ilustre Municipalidad de Quirihue'}, {'CodigoEmpresa': '87167', 'NombreEmpresa': 'ILUSTRE MUNICIPALIDAD DE RANCAGUA'}, {'CodigoEmpresa': '7418', 'NombreEmpresa': 'Ilustre Municipalidad de Ranquil'}, {'CodigoEmpresa': '117589', 'NombreEmpresa': 'Ilustre Municipalidad de Rauco'}, {'CodigoEmpresa': '7325', 'NombreEmpresa': 'Ilustre Municipalidad de Recoleta'}, {'CodigoEmpresa': '118073', 'NombreEmpresa': 'Ilustre Municipalidad de Renaico'}, {'CodigoEmpresa': '87185', 'NombreEmpresa': 'ILUSTRE MUNICIPALIDAD DE RENCA'}, {'CodigoEmpresa': '100555', 'NombreEmpresa': 'ILUSTRE MUNICIPALIDAD DE RENGO'}, {'CodigoEmpresa': '116215', 'NombreEmpresa': 'Ilustre Municipalidad de Requínoa'}, {'CodigoEmpresa': '113252', 'NombreEmpresa': 'ILUSTRE MUNICIPALIDAD DE RETIRO'}, {'CodigoEmpresa': '117580', 'NombreEmpresa': 'Ilustre Municipalidad de Rio Bueno'}, {'CodigoEmpresa': '89591', 'NombreEmpresa': 'ILUSTRE MUNICIPALIDAD DE RIO CLARO'}, {'CodigoEmpresa': '115301', 'NombreEmpresa': 'ILUSTRE MUNICIPALIDAD DE RIO VERDE'}, {'CodigoEmpresa': '141881', 'NombreEmpresa': 'Ilustre Municipalidad de Romeral'}, {'CodigoEmpresa': '116295', 'NombreEmpresa': 'Ilustre Municipalidad de Salamanca'}, {'CodigoEmpresa': '86548', 'NombreEmpresa': 'ILUSTRE MUNICIPALIDAD DE SAN BERNARDO'}, {'CodigoEmpresa': '116226', 'NombreEmpresa': 'Ilustre Municipalidad de San Esteban'}, {'CodigoEmpresa': '128889', 'NombreEmpresa': 'ILUSTRE MUNICIPALIDAD DE SAN FABIAN'}, {'CodigoEmpresa': '100158', 'NombreEmpresa': 'ILUSTRE MUNICIPALIDAD DE SAN FELIPE'}, {'CodigoEmpresa': '7482', 'NombreEmpresa': 'Ilustre Municipalidad de San Fernando'}, {'CodigoEmpresa': '115795', 'NombreEmpresa': 'Ilustre Municipalidad de San Gregorio'}, {'CodigoEmpresa': '116409', 'NombreEmpresa': 'Ilustre Municipalidad de San Ignacio'}, {'CodigoEmpresa': '86407', 'NombreEmpresa': 'ILUSTRE MUNICIPALIDAD DE SAN JAVIER'}, {'CodigoEmpresa': '7135', 'NombreEmpresa': 'Ilustre Municipalidad de San Joaquin'}, {'CodigoEmpresa': '118085', 'NombreEmpresa': 'Ilustre Municipalidad de San Juan de la Costa'}, {'CodigoEmpresa': '7498', 'NombreEmpresa': 'Ilustre Municipalidad de San Miguel'}, {'CodigoEmpresa': '7158', 'NombreEmpresa': 'Ilustre Municipalidad de San Nicolás'}, {'CodigoEmpresa': '136421', 'NombreEmpresa': 'Ilustre Municipalidad de San Rosendo'}, {'CodigoEmpresa': '135559', 'NombreEmpresa': 'Ilustre Municipalidad de San Vicente de Tagua Tagua'}, {'CodigoEmpresa': '118860', 'NombreEmpresa': 'Ilustre Municipalidad de Santa Barbara'}, {'CodigoEmpresa': '117584', 'NombreEmpresa': 'Ilustre Municipalidad de Santa Cruz'}, {'CodigoEmpresa': '118623', 'NombreEmpresa': 'Ilustre Municipalidad de Santa Juana'}, {'CodigoEmpresa': '117210', 'NombreEmpresa': 'Ilustre Municipalidad de Santa María'}, {'CodigoEmpresa': '113981', 'NombreEmpresa': 'Ilustre Municipalidad de Santo Domingo'}, {'CodigoEmpresa': '117579', 'NombreEmpresa': 'Ilustre Municipalidad de Sierra Gorda'}, {'CodigoEmpresa': '118079', 'NombreEmpresa': 'Ilustre Municipalidad de Taltal'}, {'CodigoEmpresa': '116299', 'NombreEmpresa': 'Ilustre Municipalidad de Teno'}, {'CodigoEmpresa': '7360', 'NombreEmpresa': 'Ilustre Municipalidad de Tierra Amarilla'}, {'CodigoEmpresa': '116218', 'NombreEmpresa': 'Ilustre Municipalidad de Til Til'}, {'CodigoEmpresa': '224045', 'NombreEmpresa': 'Ilustre Municipalidad de Timaukel'}, {'CodigoEmpresa': '117582', 'NombreEmpresa': 'Ilustre Municipalidad de Tolten'}, {'CodigoEmpresa': '7301', 'NombreEmpresa': 'Ilustre Municipalidad de Tortel'}, {'CodigoEmpresa': '145365', 'NombreEmpresa': 'Ilustre Municipalidad de Trehuaco'}, {'CodigoEmpresa': '87402', 'NombreEmpresa': 'ILUSTRE MUNICIPALIDAD DE VALPARAISO'}, {'CodigoEmpresa': '114914', 'NombreEmpresa': 'Ilustre Municipalidad de Vichuquén'}, {'CodigoEmpresa': '115303', 'NombreEmpresa': 'Ilustre Municipalidad de Vicuña'}, {'CodigoEmpresa': '115009', 'NombreEmpresa': 'Ilustre Municipalidad de Vilcún'}, {'CodigoEmpresa': '7363', 'NombreEmpresa': 'Ilustre Municipalidad de Villa Alegre'}, {'CodigoEmpresa': '7233', 'NombreEmpresa': 'Ilustre Municipalidad de Villa Alemana'}, {'CodigoEmpresa': '118084', 'NombreEmpresa': 'Ilustre Municipalidad de Villarrica'}, {'CodigoEmpresa': '116738', 'NombreEmpresa': 'Ilustre Municipalidad de Yerbas Buenas'}, {'CodigoEmpresa': '120004', 'NombreEmpresa': 'Ilustre Municipalidad de Yumbel'}, {'CodigoEmpresa': '115294', 'NombreEmpresa': 'Ilustre Municipalidad de Yungay'}, {'CodigoEmpresa': '132199', 'NombreEmpresa': 'Ilustre Municipalidad de Zapallar'}, {'CodigoEmpresa': '117181', 'NombreEmpresa': 'Ilustre Municipalidad Isla de Maipo'}, {'CodigoEmpresa': '115280', 'NombreEmpresa': 'ILUSTRE MUNICIPALIDAD TEODORO SCHMIDT'}, {'CodigoEmpresa': '106000', 'NombreEmpresa': 'Ilustre Municipalidad Torres del Payne'}, {'CodigoEmpresa': '114924', 'NombreEmpresa': 'IMUNICIPALIDAD DE NUEVA IMPERIAL'}, {'CodigoEmpresa': '7004', 'NombreEmpresa': 'Instituto Antártico Chileno'}, {'CodigoEmpresa': '6937', 'NombreEmpresa': 'Instituto de Desarrollo Agropecuario - INDAP'}, {'CodigoEmpresa': '7070', 'NombreEmpresa': 'Instituto de Fomento Pesquero - IFOP'}, {'CodigoEmpresa': '7394', 'NombreEmpresa': 'Instituto de Investigaciones y Control del Ejércit'}, {'CodigoEmpresa': '7474', 'NombreEmpresa': 'Instituto de Neurocirugía'}, {'CodigoEmpresa': '1090469', 'NombreEmpresa': 'INSTITUTO DE PREVISION SOCIAL'}, {'CodigoEmpresa': '7177', 'NombreEmpresa': 'INSTITUTO DE SALUD PUBLICA DE CHILE'}, {'CodigoEmpresa': '6953', 'NombreEmpresa': 'Instituto de Seguridad Laboral - ISL'}, {'CodigoEmpresa': '7497', 'NombreEmpresa': 'Instituto Forestal'}, {'CodigoEmpresa': '7432', 'NombreEmpresa': 'Instituto Nac. de Rehabilitación Pedro Aguirre C.'}, {'CodigoEmpresa': '7216', 'NombreEmpresa': 'INSTITUTO NACIONAL DE DEPORTES DE CHILE'}, {'CodigoEmpresa': '6931', 'NombreEmpresa': 'Instituto Nacional de Estadísticas - INE'}, {'CodigoEmpresa': '7430', 'NombreEmpresa': 'Instituto Nacional de Geriatría'}, {'CodigoEmpresa': '7176', 'NombreEmpresa': 'Instituto Nacional de Hidráulicas - INH'}, {'CodigoEmpresa': '7197', 'NombreEmpresa': 'Instituto Nacional de la Juventud - MIDEPLAN'}, {'CodigoEmpresa': '1042394', 'NombreEmpresa': 'INSTITUTO NACIONAL DE PROPIEDAD INDUSTRIAL'}, {'CodigoEmpresa': '7276', 'NombreEmpresa': 'Instituto Nacional del Cancer'}, {'CodigoEmpresa': '7298', 'NombreEmpresa': 'Instituto Nacional del Torax'}, {'CodigoEmpresa': '7044', 'NombreEmpresa': 'INSTITUTO PSIQUIATRICO DR JOSE HORWITZ BARAK'}, {'CodigoEmpresa': '7456', 'NombreEmpresa': 'Instituto Traumatológico'}, {'CodigoEmpresa': '7204', 'NombreEmpresa': 'INTENDENCIA II REGION ANTOFAGASTA'}, {'CodigoEmpresa': '7115', 'NombreEmpresa': 'Intendencia III Región, Atacama'}, {'CodigoEmpresa': '7236', 'NombreEmpresa': 'Intendencia IV Región, Coquimbo'}, {'CodigoEmpresa': '7220', 'NombreEmpresa': 'Intendencia IX Región, de la Araucanía'}, {'CodigoEmpresa': '7195', 'NombreEmpresa': 'Intendencia Región Metropolitana'}, {'CodigoEmpresa': '270727', 'NombreEmpresa': 'Intendencia Regional de Arica y Parinacota'}, {'CodigoEmpresa': '270726', 'NombreEmpresa': 'Intendencia Regional de Los Ríos'}, {'CodigoEmpresa': '7234', 'NombreEmpresa': 'INTENDENCIA REGIONAL I REGION DE TARAPAC'}, {'CodigoEmpresa': '7196', 'NombreEmpresa': 'Intendencia V Región, Valparaíso'}, {'CodigoEmpresa': '7201', 'NombreEmpresa': 'Intendencia VI Región, Lib. Bdo. O´Higgins'}, {'CodigoEmpresa': '7225', 'NombreEmpresa': 'Intendencia VII Región, del Maule'}, {'CodigoEmpresa': '7226', 'NombreEmpresa': 'Intendencia VIII Región, del Bío-Bío'}, {'CodigoEmpresa': '7215', 'NombreEmpresa': 'Intendencia X Región, de Los Lagos'}, {'CodigoEmpresa': '7229', 'NombreEmpresa': 'Intendencia XI Región, Aysén'}, {'CodigoEmpresa': '7214', 'NombreEmpresa': 'Intendencia XII Región de Magallanes y Antártica Chilena'}, {'CodigoEmpresa': '7002', 'NombreEmpresa': 'JUNAEB'}, {'CodigoEmpresa': '7014', 'NombreEmpresa': 'Junta de Aeronáutica Civil'}, {'CodigoEmpresa': '1079772', 'NombreEmpresa': 'JUNTA NACIONAL DE CUERPOS DE BOMBEROS DE CHILE'}, {'CodigoEmpresa': '6928', 'NombreEmpresa': 'JUNTA NACIONAL DE JARDINES         INFANTILES'}, {'CodigoEmpresa': '1065029', 'NombreEmpresa': 'LICEO EL ROSARIO'}, {'CodigoEmpresa': '7074', 'NombreEmpresa': 'METRO S.A.'}, {'CodigoEmpresa': '6941', 'NombreEmpresa': 'Ministerio de Bienes Nacionales.'}, {'CodigoEmpresa': '7247', 'NombreEmpresa': 'MINISTERIO DE OBRAS PUBLICAS DIREC CION GRAL DE OO PP DCYF'}, {'CodigoEmpresa': '7249', 'NombreEmpresa': 'Ministerio de Obras Publicas Dirección Gral. de OOPP'}, {'CodigoEmpresa': '6944', 'NombreEmpresa': 'Ministerio del Interior'}, {'CodigoEmpresa': '224060', 'NombreEmpresa': 'MINISTERIO PUBLICO'}, {'CodigoEmpresa': '7194', 'NombreEmpresa': 'Ministerio Secretaría General de Gobierno'}, {'CodigoEmpresa': '6949', 'NombreEmpresa': 'MINISTERIO SECRETARIA GENERAL DE LA PRESIDENCIA DE LA REPUBLICA'}, {'CodigoEmpresa': '7248', 'NombreEmpresa': 'MOP - Dirección de Vialidad'}, {'CodigoEmpresa': '7353', 'NombreEmpresa': 'MOP Dirección General de Concesiones'}, {'CodigoEmpresa': '114923', 'NombreEmpresa': 'Municipalidad de Alto Hospicio'}, {'CodigoEmpresa': '98452', 'NombreEmpresa': 'Municipalidad de Ancud'}, {'CodigoEmpresa': '100090', 'NombreEmpresa': 'MUNICIPALIDAD DE BUIN'}, {'CodigoEmpresa': '115186', 'NombreEmpresa': 'Municipalidad de Carahue'}, {'CodigoEmpresa': '99569', 'NombreEmpresa': 'MUNICIPALIDAD DE CARTAGENA'}, {'CodigoEmpresa': '100523', 'NombreEmpresa': 'MUNICIPALIDAD DE CHIGUAYANTE'}, {'CodigoEmpresa': '115297', 'NombreEmpresa': 'Municipalidad de Combarbala'}, {'CodigoEmpresa': '119089', 'NombreEmpresa': 'Municipalidad de Corral'}, {'CodigoEmpresa': '115165', 'NombreEmpresa': 'MUNICIPALIDAD DE DALCAHUE'}, {'CodigoEmpresa': '123788', 'NombreEmpresa': 'MUNICIPALIDAD DE DOÑIHUE'}, {'CodigoEmpresa': '117586', 'NombreEmpresa': 'Municipalidad de Gorbea'}, {'CodigoEmpresa': '100739', 'NombreEmpresa': 'Municipalidad de Huechuraba'}, {'CodigoEmpresa': '86766', 'NombreEmpresa': 'MUNICIPALIDAD DE LA FLORIDA'}, {'CodigoEmpresa': '86571', 'NombreEmpresa': 'MUNICIPALIDAD DE LAS CONDES'}, {'CodigoEmpresa': '100155', 'NombreEmpresa': 'Municipalidad de lo barnechea'}, {'CodigoEmpresa': '87187', 'NombreEmpresa': 'Municipalidad de Los Angeles'}, {'CodigoEmpresa': '113259', 'NombreEmpresa': 'MUNICIPALIDAD DE LOTA'}, {'CodigoEmpresa': '99860', 'NombreEmpresa': 'MUNICIPALIDAD DE OVALLE'}, {'CodigoEmpresa': '90886', 'NombreEmpresa': 'MUNICIPALIDAD DE PADRE LAS CASAS'}, {'CodigoEmpresa': '113618', 'NombreEmpresa': 'Municipalidad de Panquehue'}, {'CodigoEmpresa': '87104', 'NombreEmpresa': 'MUNICIPALIDAD DE PEDRO AGUIRRE CERDA'}, {'CodigoEmpresa': '100137', 'NombreEmpresa': 'MUNICIPALIDAD DE PEÑAFLOR'}, {'CodigoEmpresa': '115299', 'NombreEmpresa': 'Municipalidad de Portezuelo'}, {'CodigoEmpresa': '84149', 'NombreEmpresa': 'MUNICIPALIDAD DE PUDAHUEL'}, {'CodigoEmpresa': '116945', 'NombreEmpresa': 'Municipalidad de Purén \\\\ DEPTO.DE SALUD'}, {'CodigoEmpresa': '114075', 'NombreEmpresa': 'Municipalidad de Rio Hurtado'}, {'CodigoEmpresa': '120002', 'NombreEmpresa': 'Municipalidad de Río Ibáñez'}, {'CodigoEmpresa': '100318', 'NombreEmpresa': 'Municipalidad de San Antonio'}, {'CodigoEmpresa': '100107', 'NombreEmpresa': 'MUNICIPALIDAD DE SAN CARLOS'}, {'CodigoEmpresa': '115457', 'NombreEmpresa': 'Municipalidad de San José de Maipo'}, {'CodigoEmpresa': '100704', 'NombreEmpresa': 'MUNICIPALIDAD DE SAN PEDRO DE LA PAZ'}, {'CodigoEmpresa': '7355', 'NombreEmpresa': 'Municipalidad de San Ramon'}, {'CodigoEmpresa': '86568', 'NombreEmpresa': 'MUNICIPALIDAD DE SANTIAGO'}, {'CodigoEmpresa': '86586', 'NombreEmpresa': 'MUNICIPALIDAD DE TALCAHUANO'}, {'CodigoEmpresa': '7321', 'NombreEmpresa': 'Municipalidad de Temuco'}, {'CodigoEmpresa': '183037', 'NombreEmpresa': 'Municipalidad de Tirúa'}, {'CodigoEmpresa': '115163', 'NombreEmpresa': 'MUNICIPALIDAD DE TRAIGUEN'}, {'CodigoEmpresa': '98462', 'NombreEmpresa': 'MUNICIPALIDAD DE VITACURA'}, {'CodigoEmpresa': '7005', 'NombreEmpresa': 'Oficina de Estudios y Politicas Agrarias'}, {'CodigoEmpresa': '7180', 'NombreEmpresa': 'Oficina Nacional de Emergencia'}, {'CodigoEmpresa': '6935', 'NombreEmpresa': 'Parque Metropolitano de Santiago'}, {'CodigoEmpresa': '7143', 'NombreEmpresa': 'Poder Judicial - Academia Judicial'}, {'CodigoEmpresa': '111880', 'NombreEmpresa': 'POLICIA DE INVESTIGACIONES DE CHILE'}, {'CodigoEmpresa': '6967', 'NombreEmpresa': 'Polla Chilena de Beneficencia S.A.'}, {'CodigoEmpresa': '7238', 'NombreEmpresa': 'Presidencia de la República'}, {'CodigoEmpresa': '7478', 'NombreEmpresa': 'S. S. Aysén - Dirección de Atención Primaria'}, {'CodigoEmpresa': '7096', 'NombreEmpresa': 'SAG CONCEPCION'}, {'CodigoEmpresa': '7184', 'NombreEmpresa': 'SENADIS'}, {'CodigoEmpresa': '174692', 'NombreEmpresa': 'Senado de la República de Chile'}, {'CodigoEmpresa': '6919', 'NombreEmpresa': 'SERVICIO AGRICOLA Y GANADERO'}, {'CodigoEmpresa': '6950', 'NombreEmpresa': 'Servicio de Cooperación Técnica - SERCOTEC'}, {'CodigoEmpresa': '7218', 'NombreEmpresa': 'Servicio de Evaluación Ambiental (SEA)'}, {'CodigoEmpresa': '7113', 'NombreEmpresa': 'SERVICIO DE IMPUESTOS INTERNOS DIRECCION'}, {'CodigoEmpresa': '6960', 'NombreEmpresa': 'Servicio de Registro Civil e Identificación'}, {'CodigoEmpresa': '7205', 'NombreEmpresa': 'Servicio de Salud  Concepción'}, {'CodigoEmpresa': '7431', 'NombreEmpresa': 'SERVICIO DE SALUD ACONCAGUA'}, {'CodigoEmpresa': '7185', 'NombreEmpresa': 'Servicio de Salud Antofagasta'}, {'CodigoEmpresa': '7451', 'NombreEmpresa': 'SERVICIO DE SALUD ANTOFAGASTA HOSPITAL L'}, {'CodigoEmpresa': '7302', 'NombreEmpresa': 'Servicio de Salud Araucanía Norte'}, {'CodigoEmpresa': '7306', 'NombreEmpresa': 'SERVICIO DE SALUD ARAUCANIA NORTE HOSPITAL DE ANGOL'}, {'CodigoEmpresa': '7102', 'NombreEmpresa': 'Servicio de Salud Araucanía Sur'}, {'CodigoEmpresa': '7060', 'NombreEmpresa': 'SERVICIO DE SALUD ARAUCANIA SUR HOSPITAL DE NUEVA IMPERIAL'}, {'CodigoEmpresa': '6976', 'NombreEmpresa': 'SERVICIO DE SALUD ARAUCO'}, {'CodigoEmpresa': '1667479', 'NombreEmpresa': 'SERVICIO DE SALUD ARICA HOSP DR JUAN NOE CREVANI'}, {'CodigoEmpresa': '7409', 'NombreEmpresa': 'Servicio de Salud Atacama'}, {'CodigoEmpresa': '7206', 'NombreEmpresa': 'SERVICIO DE SALUD AYSEN'}, {'CodigoEmpresa': '7308', 'NombreEmpresa': 'Servicio de Salud Bío Bío'}, {'CodigoEmpresa': '16223', 'NombreEmpresa': 'Servicio de Salud Chiloé'}, {'CodigoEmpresa': '7052', 'NombreEmpresa': 'Servicio de Salud Coquimbo'}, {'CodigoEmpresa': '7416', 'NombreEmpresa': 'SERVICIO DE SALUD COQUIMBO HOSPITAL DE COQUIMBO'}, {'CodigoEmpresa': '7471', 'NombreEmpresa': 'SERVICIO DE SALUD COQUIMBO HOSPITAL DE LOS VILOS'}, {'CodigoEmpresa': '7329', 'NombreEmpresa': 'SERVICIO DE SALUD COQUIMBO HOSPITAL VICUNA'}, {'CodigoEmpresa': '6926', 'NombreEmpresa': 'SERVICIO DE SALUD DE ARICA'}, {'CodigoEmpresa': '7374', 'NombreEmpresa': \"SERVICIO DE SALUD DEL LIBERTADOR B O'HIGGINS HOSPITAL REG RANCAGUA\"}, {'CodigoEmpresa': '7141', 'NombreEmpresa': 'Servicio de Salud del Maule'}, {'CodigoEmpresa': '7257', 'NombreEmpresa': 'SERVICIO DE SALUD DEL MAULE HOSPITAL DE LICANTEN'}, {'CodigoEmpresa': '7260', 'NombreEmpresa': 'SERVICIO DE SALUD DEL MAULE HOSPITAL DE TALCA'}, {'CodigoEmpresa': '7453', 'NombreEmpresa': 'SERVICIO DE SALUD IQUIQUE'}, {'CodigoEmpresa': '7382', 'NombreEmpresa': 'Servicio de Salud Magallanes'}, {'CodigoEmpresa': '7088', 'NombreEmpresa': 'Servicio de Salud Metropolitano Central'}, {'CodigoEmpresa': '7188', 'NombreEmpresa': 'Servicio de Salud Metropolitano del Ambiente'}, {'CodigoEmpresa': '6963', 'NombreEmpresa': 'Servicio de Salud Metropolitano Norte'}, {'CodigoEmpresa': '7029', 'NombreEmpresa': 'Servicio de Salud Metropolitano Occidente'}, {'CodigoEmpresa': '7006', 'NombreEmpresa': 'SERVICIO DE SALUD METROPOLITANO SUR'}, {'CodigoEmpresa': '7203', 'NombreEmpresa': 'Servicio de Salud Metropolitano Sur Oriente'}, {'CodigoEmpresa': '6932', 'NombreEmpresa': 'SERVICIO DE SALUD NUBLE'}, {'CodigoEmpresa': '7303', 'NombreEmpresa': 'SERVICIO DE SALUD NUBLE HOSPITAL DE QUIRIHUE'}, {'CodigoEmpresa': '7285', 'NombreEmpresa': 'Servicio de Salud Ñuble - Hospital de Coelemu'}, {'CodigoEmpresa': '7316', 'NombreEmpresa': 'SERVICIO DE SALUD OCCIDENTE HOSPITAL SAN JUAN DE DIOS'}, {'CodigoEmpresa': '7054', 'NombreEmpresa': 'Servicio de Salud Ohiggins'}, {'CodigoEmpresa': '7296', 'NombreEmpresa': 'SERVICIO DE SALUD OSORNO'}, {'CodigoEmpresa': '7305', 'NombreEmpresa': 'SERVICIO DE SALUD SUR HOSPITAL EXEQUIEL'}, {'CodigoEmpresa': '7315', 'NombreEmpresa': 'SERVICIO DE SALUD TALCAHUANO HOSPITAL DE'}, {'CodigoEmpresa': '7106', 'NombreEmpresa': 'SERVICIO DE SALUD VALDIVIA'}, {'CodigoEmpresa': '7410', 'NombreEmpresa': 'SERVICIO DE SALUD VALDIVIA HOSPITAL BASE'}, {'CodigoEmpresa': '7239', 'NombreEmpresa': 'SERVICIO DE SALUD VALPARAISO SAN ANTONIO'}, {'CodigoEmpresa': '7153', 'NombreEmpresa': 'Servicio de Salud Viña del Mar - Quillota'}, {'CodigoEmpresa': '6965', 'NombreEmpresa': 'SERVICIO DE VIVIENDA Y URBANIZACION AREA METROPOLITANA'}, {'CodigoEmpresa': '225773', 'NombreEmpresa': 'SERVICIO ELECTORAL'}, {'CodigoEmpresa': '1723291', 'NombreEmpresa': 'SERVICIO LOCAL DE EDUCACION PÚBLICA DE ATACAMA'}, {'CodigoEmpresa': '7179', 'NombreEmpresa': 'Servicio Médico Legal'}, {'CodigoEmpresa': '7479', 'NombreEmpresa': 'SERVICIO NAC DE SALUD HOSPITAL TRAUMATOLOGICO'}, {'CodigoEmpresa': '6952', 'NombreEmpresa': 'Servicio Nacional de Aduanas'}, {'CodigoEmpresa': '6962', 'NombreEmpresa': 'Servicio Nacional de Capacitación y Empleo'}, {'CodigoEmpresa': '7210', 'NombreEmpresa': 'Servicio Nacional de Geología y Minería'}, {'CodigoEmpresa': '6948', 'NombreEmpresa': 'Servicio Nacional de la Mujer'}, {'CodigoEmpresa': '7017', 'NombreEmpresa': 'Servicio Nacional de Menores'}, {'CodigoEmpresa': '7008', 'NombreEmpresa': 'SERVICIO NACIONAL DE PESCA'}, {'CodigoEmpresa': '7033', 'NombreEmpresa': 'Servicio Nacional de Pesca VI Región'}, {'CodigoEmpresa': '1468521', 'NombreEmpresa': 'SERVICIO NACIONAL DE SALUD HOSPITAL CARLOS VAN BUREN'}, {'CodigoEmpresa': '116754', 'NombreEmpresa': 'SERVICIO NACIONAL DE SALUD HOSPITAL DE C'}, {'CodigoEmpresa': '7332', 'NombreEmpresa': 'SERVICIO NACIONAL DE SALUD HOSPITAL DE CORONEL'}, {'CodigoEmpresa': '7190', 'NombreEmpresa': 'SERVICIO NACIONAL DE TURISMO'}, {'CodigoEmpresa': '7032', 'NombreEmpresa': 'SERVICIO NACIONAL DEL ADULTO MAYOR'}, {'CodigoEmpresa': '7230', 'NombreEmpresa': 'Servicio Nacional del Consumidor - SERNAC'}, {'CodigoEmpresa': '7011', 'NombreEmpresa': 'SERVICIO NACIONAL DEL PATRIMONIO CULTURAL'}, {'CodigoEmpresa': '278907', 'NombreEmpresa': 'Servicio Regional de la Vivienda y Urbanización Arica y Parinacota'}, {'CodigoEmpresa': '7433', 'NombreEmpresa': 'SERVICIO SALUD ARAUCANIA NORTE HOSPITAL CURACAUTIN'}, {'CodigoEmpresa': '7104', 'NombreEmpresa': 'SERVICIO SALUD DEL RELONCAVI'}, {'CodigoEmpresa': '6923', 'NombreEmpresa': 'SERVIU I Región'}, {'CodigoEmpresa': '6974', 'NombreEmpresa': 'SERVIU II Región'}, {'CodigoEmpresa': '6972', 'NombreEmpresa': 'SERVIU IV Región'}, {'CodigoEmpresa': '6980', 'NombreEmpresa': 'SERVIU IX Region'}, {'CodigoEmpresa': '6975', 'NombreEmpresa': 'SERVIU REGION DE ATACAMA'}, {'CodigoEmpresa': '6979', 'NombreEmpresa': 'SERVIU REGION DEL BIO BIO'}, {'CodigoEmpresa': '6968', 'NombreEmpresa': 'SERVIU V Región'}, {'CodigoEmpresa': '6977', 'NombreEmpresa': 'SERVIU VI Región'}, {'CodigoEmpresa': '6978', 'NombreEmpresa': 'SERVIU VII Región'}, {'CodigoEmpresa': '6981', 'NombreEmpresa': 'SERVIU X Región'}, {'CodigoEmpresa': '6982', 'NombreEmpresa': 'SERVIU XI Región'}, {'CodigoEmpresa': '6964', 'NombreEmpresa': 'SERVIU XII Región y Antartica Chilena'}, {'CodigoEmpresa': '7333', 'NombreEmpresa': 'Subdirección del Ambiente Servicio de Salud Thno.'}, {'CodigoEmpresa': '7065', 'NombreEmpresa': 'Subsecretaría de Aviación'}, {'CodigoEmpresa': '7036', 'NombreEmpresa': 'Subsecretaría de Carabineros'}, {'CodigoEmpresa': '1689493', 'NombreEmpresa': 'SUBSECRETARIA DE CIENCIA, TECNOLOGIA, CONOCIMIENTO E INNOVACION'}, {'CodigoEmpresa': '7081', 'NombreEmpresa': 'Subsecretaría de Desarrollo Regional'}, {'CodigoEmpresa': '7078', 'NombreEmpresa': 'SubSecretaria de Economía y Empresas de Menor Tamaño'}, {'CodigoEmpresa': '1155673', 'NombreEmpresa': 'Subsecretaría de Energía'}, {'CodigoEmpresa': '6943', 'NombreEmpresa': 'Subsecretaría de Hacienda'}, {'CodigoEmpresa': '7217', 'NombreEmpresa': 'Subsecretaría de Investigaciones'}, {'CodigoEmpresa': '7080', 'NombreEmpresa': 'Subsecretaría de Justicia'}, {'CodigoEmpresa': '7359', 'NombreEmpresa': 'SUBSECRETARÍA DE LAS CULTURAS Y LAS ARTES'}, {'CodigoEmpresa': '7221', 'NombreEmpresa': 'Subsecretaría de Marina'}, {'CodigoEmpresa': '7018', 'NombreEmpresa': 'Subsecretaría de Minería'}, {'CodigoEmpresa': '7211', 'NombreEmpresa': 'Subsecretaría de Pesca y Acuicultura'}, {'CodigoEmpresa': '7191', 'NombreEmpresa': 'Subsecretaría de Previsión Social'}, {'CodigoEmpresa': '7227', 'NombreEmpresa': 'Subsecretaría de R.R.E.E.'}, {'CodigoEmpresa': '1674041', 'NombreEmpresa': 'Subsecretaría de Relaciones Económicas Internacionales'}, {'CodigoEmpresa': '7079', 'NombreEmpresa': 'Subsecretaría de Salud Pública'}, {'CodigoEmpresa': '6947', 'NombreEmpresa': 'Subsecretaría de Servicios Sociales'}, {'CodigoEmpresa': '6934', 'NombreEmpresa': 'Subsecretaría de Telecomunicaciones'}, {'CodigoEmpresa': '7007', 'NombreEmpresa': 'Subsecretaría de Transportes'}, {'CodigoEmpresa': '1198788', 'NombreEmpresa': 'Subsecretaría del Medio Ambiente'}, {'CodigoEmpresa': '7189', 'NombreEmpresa': 'SUBSECRETARIA DEL MINISTERIO DE AGRICULT'}, {'CodigoEmpresa': '6958', 'NombreEmpresa': 'SUBSECRETARIA DEL MINISTERIO DE EDUCACION PUBLICA'}, {'CodigoEmpresa': '6951', 'NombreEmpresa': 'SUBSECRETARIA DEL MINISTERIO DE LA VIVIENDA Y URBANISMO'}, {'CodigoEmpresa': '6939', 'NombreEmpresa': 'Subsecretaria del Trabajo'}, {'CodigoEmpresa': '128260', 'NombreEmpresa': 'SUPERINTENDENCIA DE CASINOS DE JUEGO'}, {'CodigoEmpresa': '7232', 'NombreEmpresa': 'Superintendencia de Electricidad y Combustibles'}, {'CodigoEmpresa': '7181', 'NombreEmpresa': 'Superintendencia de Insolvencia y Reemprendimiento'}, {'CodigoEmpresa': '93096', 'NombreEmpresa': 'Superintendencia de Pensiones'}, {'CodigoEmpresa': '6930', 'NombreEmpresa': 'Superintendencia de Salud'}, {'CodigoEmpresa': '7114', 'NombreEmpresa': 'Superintendencia de Seguridad Social'}, {'CodigoEmpresa': '7192', 'NombreEmpresa': 'Superintendencia de Servicios Sanitarios'}, {'CodigoEmpresa': '6956', 'NombreEmpresa': 'Tesorería General de la República'}, {'CodigoEmpresa': '1083414', 'NombreEmpresa': 'UNIDAD ADMINISTRADORA DE LOS TRIBUNALES TRIBUTARIOS Y ADUANEROS'}, {'CodigoEmpresa': '85017', 'NombreEmpresa': 'Unidad de Analisis Financiero'}, {'CodigoEmpresa': '7254', 'NombreEmpresa': 'UNIVERSIDAD ARTURO PRAT SEDE IQUIQUE'}, {'CodigoEmpresa': '130585', 'NombreEmpresa': 'Universidad de Antofagasta'}, {'CodigoEmpresa': '103916', 'NombreEmpresa': 'universidad de atacama'}, {'CodigoEmpresa': '7251', 'NombreEmpresa': 'Universidad de Chile'}, {'CodigoEmpresa': '277559', 'NombreEmpresa': 'Universidad de la Frontera'}, {'CodigoEmpresa': '7319', 'NombreEmpresa': 'Universidad de La Serena'}, {'CodigoEmpresa': '266724', 'NombreEmpresa': 'Universidad de Los Lagos'}, {'CodigoEmpresa': '257227', 'NombreEmpresa': 'Universidad de Magallanes'}, {'CodigoEmpresa': '130972', 'NombreEmpresa': 'UNIVERSIDAD DE PLAYA ANCHA DE CIENCIAS DE LA EDUC.'}, {'CodigoEmpresa': '212299', 'NombreEmpresa': 'Universidad de Santiago de Chile'}, {'CodigoEmpresa': '7147', 'NombreEmpresa': 'Universidad de Talca'}, {'CodigoEmpresa': '204439', 'NombreEmpresa': 'Universidad de Tarapacá'}, {'CodigoEmpresa': '96996', 'NombreEmpresa': 'Universidad de Valparaíso'}, {'CodigoEmpresa': '99805', 'NombreEmpresa': 'Universidad del Bío-Bío'}, {'CodigoEmpresa': '164268', 'NombreEmpresa': 'UNIVERSIDAD METROPOLITANA DE CIENCIAS DE LA EDUCAC'}, {'CodigoEmpresa': '126109', 'NombreEmpresa': 'UNIVERSIDAD TECNOLOGICA METROPOLITANA'}, {'CodigoEmpresa': '7438', 'NombreEmpresa': 'Zona Franca de Iquique'}]}\n"
          ],
          "name": "stdout"
        }
      ]
    },
    {
      "cell_type": "code",
      "metadata": {
        "id": "wvAtOkF-MYNL",
        "outputId": "4a8e3530-f96c-4fba-8fd8-700694532db6",
        "colab": {
          "base_uri": "https://localhost:8080/",
          "height": 33
        }
      },
      "source": [
        "pd.read_json"
      ],
      "execution_count": 127,
      "outputs": [
        {
          "output_type": "execute_result",
          "data": {
            "text/plain": [
              "<function pandas.io.json._json.read_json>"
            ]
          },
          "metadata": {
            "tags": []
          },
          "execution_count": 127
        }
      ]
    },
    {
      "cell_type": "code",
      "metadata": {
        "id": "aFii6wnMLfDy"
      },
      "source": [
        "empresas = respuestajson2[\"listaEmpresas\"]"
      ],
      "execution_count": 140,
      "outputs": []
    },
    {
      "cell_type": "code",
      "metadata": {
        "id": "nuyOgvKVOh0Y"
      },
      "source": [
        "empresas"
      ],
      "execution_count": null,
      "outputs": []
    },
    {
      "cell_type": "code",
      "metadata": {
        "id": "xLN6QyvTRwc7"
      },
      "source": [
        "df_empresas_todas = pd.DataFrame(empresas, columns=[\"CodigoEmpresa\",\"NombreEmpresa\"])"
      ],
      "execution_count": 145,
      "outputs": []
    },
    {
      "cell_type": "code",
      "metadata": {
        "id": "mtTU-9x3RRbV",
        "outputId": "9ffa140f-b109-4647-d10f-9346e9954d34",
        "colab": {
          "base_uri": "https://localhost:8080/",
          "height": 391
        }
      },
      "source": [
        "df_empresas_todas"
      ],
      "execution_count": 146,
      "outputs": [
        {
          "output_type": "execute_result",
          "data": {
            "text/html": [
              "<div>\n",
              "<style scoped>\n",
              "    .dataframe tbody tr th:only-of-type {\n",
              "        vertical-align: middle;\n",
              "    }\n",
              "\n",
              "    .dataframe tbody tr th {\n",
              "        vertical-align: top;\n",
              "    }\n",
              "\n",
              "    .dataframe thead th {\n",
              "        text-align: right;\n",
              "    }\n",
              "</style>\n",
              "<table border=\"1\" class=\"dataframe\">\n",
              "  <thead>\n",
              "    <tr style=\"text-align: right;\">\n",
              "      <th></th>\n",
              "      <th>CodigoEmpresa</th>\n",
              "      <th>NombreEmpresa</th>\n",
              "    </tr>\n",
              "  </thead>\n",
              "  <tbody>\n",
              "    <tr>\n",
              "      <th>0</th>\n",
              "      <td>1034640</td>\n",
              "      <td>CORPORACION MUNICIPAL DE PEÑALOLEN PARA EL DE...</td>\n",
              "    </tr>\n",
              "    <tr>\n",
              "      <th>1</th>\n",
              "      <td>7311</td>\n",
              "      <td>Hospital de enfermedades InfecciDr. Lucio Cór...</td>\n",
              "    </tr>\n",
              "    <tr>\n",
              "      <th>2</th>\n",
              "      <td>7086</td>\n",
              "      <td>AGENCIA CHILENA DE COOPERACION INTERNACIONAL P...</td>\n",
              "    </tr>\n",
              "    <tr>\n",
              "      <th>3</th>\n",
              "      <td>1224636</td>\n",
              "      <td>Agencia Chilena de Eficiencia Energética</td>\n",
              "    </tr>\n",
              "    <tr>\n",
              "      <th>4</th>\n",
              "      <td>7193</td>\n",
              "      <td>Agencia de Promoción de la Inversión Extranjera</td>\n",
              "    </tr>\n",
              "    <tr>\n",
              "      <th>...</th>\n",
              "      <td>...</td>\n",
              "      <td>...</td>\n",
              "    </tr>\n",
              "    <tr>\n",
              "      <th>858</th>\n",
              "      <td>96996</td>\n",
              "      <td>Universidad de Valparaíso</td>\n",
              "    </tr>\n",
              "    <tr>\n",
              "      <th>859</th>\n",
              "      <td>99805</td>\n",
              "      <td>Universidad del Bío-Bío</td>\n",
              "    </tr>\n",
              "    <tr>\n",
              "      <th>860</th>\n",
              "      <td>164268</td>\n",
              "      <td>UNIVERSIDAD METROPOLITANA DE CIENCIAS DE LA ED...</td>\n",
              "    </tr>\n",
              "    <tr>\n",
              "      <th>861</th>\n",
              "      <td>126109</td>\n",
              "      <td>UNIVERSIDAD TECNOLOGICA METROPOLITANA</td>\n",
              "    </tr>\n",
              "    <tr>\n",
              "      <th>862</th>\n",
              "      <td>7438</td>\n",
              "      <td>Zona Franca de Iquique</td>\n",
              "    </tr>\n",
              "  </tbody>\n",
              "</table>\n",
              "<p>863 rows × 2 columns</p>\n",
              "</div>"
            ],
            "text/plain": [
              "    CodigoEmpresa                                      NombreEmpresa\n",
              "0         1034640   CORPORACION MUNICIPAL DE PEÑALOLEN PARA EL DE...\n",
              "1            7311   Hospital de enfermedades InfecciDr. Lucio Cór...\n",
              "2            7086  AGENCIA CHILENA DE COOPERACION INTERNACIONAL P...\n",
              "3         1224636           Agencia Chilena de Eficiencia Energética\n",
              "4            7193    Agencia de Promoción de la Inversión Extranjera\n",
              "..            ...                                                ...\n",
              "858         96996                          Universidad de Valparaíso\n",
              "859         99805                            Universidad del Bío-Bío\n",
              "860        164268  UNIVERSIDAD METROPOLITANA DE CIENCIAS DE LA ED...\n",
              "861        126109              UNIVERSIDAD TECNOLOGICA METROPOLITANA\n",
              "862          7438                             Zona Franca de Iquique\n",
              "\n",
              "[863 rows x 2 columns]"
            ]
          },
          "metadata": {
            "tags": []
          },
          "execution_count": 146
        }
      ]
    },
    {
      "cell_type": "code",
      "metadata": {
        "id": "kZ5MFl7F7WHG",
        "outputId": "389001f9-f711-4437-ba4c-a8ba7d9b3ec2",
        "colab": {
          "resources": {
            "http://localhost:8080/nbextensions/google.colab/files.js": {
              "data": "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",
              "ok": true,
              "headers": [
                [
                  "content-type",
                  "application/javascript"
                ]
              ],
              "status": 200,
              "status_text": ""
            }
          },
          "base_uri": "https://localhost:8080/",
          "height": 108
        }
      },
      "source": [
        "from google.colab import files\n",
        "files.upload()"
      ],
      "execution_count": 192,
      "outputs": [
        {
          "output_type": "display_data",
          "data": {
            "text/html": [
              "\n",
              "     <input type=\"file\" id=\"files-348d7a6f-24d6-4ba2-8eef-697503a04d1a\" name=\"files[]\" multiple disabled\n",
              "        style=\"border:none\" />\n",
              "     <output id=\"result-348d7a6f-24d6-4ba2-8eef-697503a04d1a\">\n",
              "      Upload widget is only available when the cell has been executed in the\n",
              "      current browser session. Please rerun this cell to enable.\n",
              "      </output>\n",
              "      <script src=\"/nbextensions/google.colab/files.js\"></script> "
            ],
            "text/plain": [
              "<IPython.core.display.HTML object>"
            ]
          },
          "metadata": {
            "tags": []
          }
        },
        {
          "output_type": "stream",
          "text": [
            "Saving organizaciones.xlsx to organizaciones (1).xlsx\n"
          ],
          "name": "stdout"
        },
        {
          "output_type": "execute_result",
          "data": {
            "text/plain": [
              "{'organizaciones.xlsx': b'PK\\x03\\x04\\x14\\x00\\x06\\x00\\x08\\x00\\x00\\x00!\\x00A7\\x82\\xcfn\\x01\\x00\\x00\\x04\\x05\\x00\\x00\\x13\\x00\\x08\\x02[Content_Types].xml \\xa2\\x04\\x02(\\xa0\\x00\\x02\\x00\\x00\\x00\\x00\\x00\\x00\\x00\\x00\\x00\\x00\\x00\\x00\\x00\\x00\\x00\\x00\\x00\\x00\\x00\\x00\\x00\\x00\\x00\\x00\\x00\\x00\\x00\\x00\\x00\\x00\\x00\\x00\\x00\\x00\\x00\\x00\\x00\\x00\\x00\\x00\\x00\\x00\\x00\\x00\\x00\\x00\\x00\\x00\\x00\\x00\\x00\\x00\\x00\\x00\\x00\\x00\\x00\\x00\\x00\\x00\\x00\\x00\\x00\\x00\\x00\\x00\\x00\\x00\\x00\\x00\\x00\\x00\\x00\\x00\\x00\\x00\\x00\\x00\\x00\\x00\\x00\\x00\\x00\\x00\\x00\\x00\\x00\\x00\\x00\\x00\\x00\\x00\\x00\\x00\\x00\\x00\\x00\\x00\\x00\\x00\\x00\\x00\\x00\\x00\\x00\\x00\\x00\\x00\\x00\\x00\\x00\\x00\\x00\\x00\\x00\\x00\\x00\\x00\\x00\\x00\\x00\\x00\\x00\\x00\\x00\\x00\\x00\\x00\\x00\\x00\\x00\\x00\\x00\\x00\\x00\\x00\\x00\\x00\\x00\\x00\\x00\\x00\\x00\\x00\\x00\\x00\\x00\\x00\\x00\\x00\\x00\\x00\\x00\\x00\\x00\\x00\\x00\\x00\\x00\\x00\\x00\\x00\\x00\\x00\\x00\\x00\\x00\\x00\\x00\\x00\\x00\\x00\\x00\\x00\\x00\\x00\\x00\\x00\\x00\\x00\\x00\\x00\\x00\\x00\\x00\\x00\\x00\\x00\\x00\\x00\\x00\\x00\\x00\\x00\\x00\\x00\\x00\\x00\\x00\\x00\\x00\\x00\\x00\\x00\\x00\\x00\\x00\\x00\\x00\\x00\\x00\\x00\\x00\\x00\\x00\\x00\\x00\\x00\\x00\\x00\\x00\\x00\\x00\\x00\\x00\\x00\\x00\\x00\\x00\\x00\\x00\\x00\\x00\\x00\\x00\\x00\\x00\\x00\\x00\\x00\\x00\\x00\\x00\\x00\\x00\\x00\\x00\\x00\\x00\\x00\\x00\\x00\\x00\\x00\\x00\\x00\\x00\\x00\\x00\\x00\\x00\\x00\\x00\\x00\\x00\\x00\\x00\\x00\\x00\\x00\\x00\\x00\\x00\\x00\\x00\\x00\\x00\\x00\\x00\\x00\\x00\\x00\\x00\\x00\\x00\\x00\\x00\\x00\\x00\\x00\\x00\\x00\\x00\\x00\\x00\\x00\\x00\\x00\\x00\\x00\\x00\\x00\\x00\\x00\\x00\\x00\\x00\\x00\\x00\\x00\\x00\\x00\\x00\\x00\\x00\\x00\\x00\\x00\\x00\\x00\\x00\\x00\\x00\\x00\\x00\\x00\\x00\\x00\\x00\\x00\\x00\\x00\\x00\\x00\\x00\\x00\\x00\\x00\\x00\\x00\\x00\\x00\\x00\\x00\\x00\\x00\\x00\\x00\\x00\\x00\\x00\\x00\\x00\\x00\\x00\\x00\\x00\\x00\\x00\\x00\\x00\\x00\\x00\\x00\\x00\\x00\\x00\\x00\\x00\\x00\\x00\\x00\\x00\\x00\\x00\\x00\\x00\\x00\\x00\\x00\\x00\\x00\\x00\\x00\\x00\\x00\\x00\\x00\\x00\\x00\\x00\\x00\\x00\\x00\\x00\\x00\\x00\\x00\\x00\\x00\\x00\\x00\\x00\\x00\\x00\\x00\\x00\\x00\\x00\\x00\\x00\\x00\\x00\\x00\\x00\\x00\\x00\\x00\\x00\\x00\\x00\\x00\\x00\\x00\\x00\\x00\\x00\\x00\\x00\\x00\\x00\\x00\\x00\\x00\\x00\\x00\\x00\\x00\\x00\\x00\\x00\\x00\\x00\\x00\\x00\\x00\\x00\\x00\\x00\\x00\\x00\\x00\\x00\\x00\\x00\\x00\\x00\\x00\\x00\\x00\\x00\\x00\\x00\\x00\\x00\\x00\\x00\\x00\\x00\\x00\\x00\\x00\\x00\\x00\\x00\\x00\\x00\\x00\\x00\\x00\\x00\\x00\\x00\\x00\\x00\\x00\\x00\\x00\\x00\\x00\\x00\\x00\\x00\\x00\\x00\\x00\\x00\\x00\\x00\\x00\\x00\\x00\\x00\\x00\\x00\\x00\\x00\\x00\\x00\\x00\\x00\\x00\\xacT\\xc9n\\xc20\\x10\\xbdW\\xea?D\\xbeV\\x89\\xa1\\x87\\xaa\\xaa\\x08\\x1c\\xba\\x1c[$\\xe8\\x07\\x98x\\x92X$\\xb6\\xe5\\x19(\\xfc}\\'fQU\\xb1\\x08\\xc1%Ql\\xcf[&\\xf3<\\x18\\xad\\xda&YB@\\xe3l.\\xfaYO$`\\x0b\\xa7\\x8d\\xadr\\xf1=\\xfdH\\x9fE\\x82\\xa4\\xacV\\x8d\\xb3\\x90\\x8b5\\xa0\\x18\\r\\xef\\xef\\x06\\xd3\\xb5\\x07L\\xb8\\xdab.j\"\\xff\"%\\x165\\xb4\\n3\\xe7\\xc1\\xf2N\\xe9B\\xab\\x88?C%\\xbd*\\xe6\\xaa\\x02\\xf9\\xd8\\xeb=\\xc9\\xc2Y\\x02K)u\\x18b8x\\x83R-\\x1aJ\\xdeW\\xbc\\xbcQ23V$\\xaf\\x9bs\\x1dU.\\x94\\xf7\\x8d)\\x14\\xb1P\\xb9\\xb4\\xfa\\x1fI\\xea\\xca\\xd2\\x14\\xa0]\\xb1h\\x19:C\\x1f@i\\xac\\x01\\xa8m2\\x1f\\x0c3\\x86\\t\\x10\\xb11\\x14\\xf2 g\\x80\\x06/#\\xdd\\xba\\xca\\xb82\\n\\xc3\\xdax|`\\xebG\\x18\\xba\\x9d\\xe3\\xae\\xb6u_\\xfc;\\x82\\xd1\\x90\\x8cU\\xa0O\\xd5\\xb2w\\xb9j\\xe4\\x8f\\x0b\\xf3\\x99s\\xf3\\xec4\\xc8\\xa5\\xad\\x89-\\xcaZe\\xecN\\xf7\\t\\xfex\\x18e|\\xf5o,\\xa4\\xf3\\x17\\x81\\xcf\\xe8 \\x9e1\\x90\\xf1y\\xbd\\x84\\x08s\\x86\\x10i\\xdd\\x00\\xde\\xba\\xed\\x11\\xf4\\x1cs\\xad\\x02\\xe8\\t\\xf1\\xf4V7\\x17\\xf0\\x17\\xfb\\x94\\x0e\\x8e\\xd488\\x8f\\x9c\\xda\\x00\\x97wa\\x17\\x91\\xae:\\xf5\\x0c\\x04\\x81\\x0c\\xecCrh\\xd8\\xf6\\x8c\\x1c\\xf9\\xab\\xdb\\x0e\\xdd\\x9d\\xa2A\\x1f\\xe0\\x96\\xf1\\x0e\\x1b\\xfe\\x02\\x00\\x00\\xff\\xff\\x03\\x00PK\\x03\\x04\\x14\\x00\\x06\\x00\\x08\\x00\\x00\\x00!\\x00\\xb5U0#\\xf4\\x00\\x00\\x00L\\x02\\x00\\x00\\x0b\\x00\\x08\\x02_rels/.rels \\xa2\\x04\\x02(\\xa0\\x00\\x02\\x00\\x00\\x00\\x00\\x00\\x00\\x00\\x00\\x00\\x00\\x00\\x00\\x00\\x00\\x00\\x00\\x00\\x00\\x00\\x00\\x00\\x00\\x00\\x00\\x00\\x00\\x00\\x00\\x00\\x00\\x00\\x00\\x00\\x00\\x00\\x00\\x00\\x00\\x00\\x00\\x00\\x00\\x00\\x00\\x00\\x00\\x00\\x00\\x00\\x00\\x00\\x00\\x00\\x00\\x00\\x00\\x00\\x00\\x00\\x00\\x00\\x00\\x00\\x00\\x00\\x00\\x00\\x00\\x00\\x00\\x00\\x00\\x00\\x00\\x00\\x00\\x00\\x00\\x00\\x00\\x00\\x00\\x00\\x00\\x00\\x00\\x00\\x00\\x00\\x00\\x00\\x00\\x00\\x00\\x00\\x00\\x00\\x00\\x00\\x00\\x00\\x00\\x00\\x00\\x00\\x00\\x00\\x00\\x00\\x00\\x00\\x00\\x00\\x00\\x00\\x00\\x00\\x00\\x00\\x00\\x00\\x00\\x00\\x00\\x00\\x00\\x00\\x00\\x00\\x00\\x00\\x00\\x00\\x00\\x00\\x00\\x00\\x00\\x00\\x00\\x00\\x00\\x00\\x00\\x00\\x00\\x00\\x00\\x00\\x00\\x00\\x00\\x00\\x00\\x00\\x00\\x00\\x00\\x00\\x00\\x00\\x00\\x00\\x00\\x00\\x00\\x00\\x00\\x00\\x00\\x00\\x00\\x00\\x00\\x00\\x00\\x00\\x00\\x00\\x00\\x00\\x00\\x00\\x00\\x00\\x00\\x00\\x00\\x00\\x00\\x00\\x00\\x00\\x00\\x00\\x00\\x00\\x00\\x00\\x00\\x00\\x00\\x00\\x00\\x00\\x00\\x00\\x00\\x00\\x00\\x00\\x00\\x00\\x00\\x00\\x00\\x00\\x00\\x00\\x00\\x00\\x00\\x00\\x00\\x00\\x00\\x00\\x00\\x00\\x00\\x00\\x00\\x00\\x00\\x00\\x00\\x00\\x00\\x00\\x00\\x00\\x00\\x00\\x00\\x00\\x00\\x00\\x00\\x00\\x00\\x00\\x00\\x00\\x00\\x00\\x00\\x00\\x00\\x00\\x00\\x00\\x00\\x00\\x00\\x00\\x00\\x00\\x00\\x00\\x00\\x00\\x00\\x00\\x00\\x00\\x00\\x00\\x00\\x00\\x00\\x00\\x00\\x00\\x00\\x00\\x00\\x00\\x00\\x00\\x00\\x00\\x00\\x00\\x00\\x00\\x00\\x00\\x00\\x00\\x00\\x00\\x00\\x00\\x00\\x00\\x00\\x00\\x00\\x00\\x00\\x00\\x00\\x00\\x00\\x00\\x00\\x00\\x00\\x00\\x00\\x00\\x00\\x00\\x00\\x00\\x00\\x00\\x00\\x00\\x00\\x00\\x00\\x00\\x00\\x00\\x00\\x00\\x00\\x00\\x00\\x00\\x00\\x00\\x00\\x00\\x00\\x00\\x00\\x00\\x00\\x00\\x00\\x00\\x00\\x00\\x00\\x00\\x00\\x00\\x00\\x00\\x00\\x00\\x00\\x00\\x00\\x00\\x00\\x00\\x00\\x00\\x00\\x00\\x00\\x00\\x00\\x00\\x00\\x00\\x00\\x00\\x00\\x00\\x00\\x00\\x00\\x00\\x00\\x00\\x00\\x00\\x00\\x00\\x00\\x00\\x00\\x00\\x00\\x00\\x00\\x00\\x00\\x00\\x00\\x00\\x00\\x00\\x00\\x00\\x00\\x00\\x00\\x00\\x00\\x00\\x00\\x00\\x00\\x00\\x00\\x00\\x00\\x00\\x00\\x00\\x00\\x00\\x00\\x00\\x00\\x00\\x00\\x00\\x00\\x00\\x00\\x00\\x00\\x00\\x00\\x00\\x00\\x00\\x00\\x00\\x00\\x00\\x00\\x00\\x00\\x00\\x00\\x00\\x00\\x00\\x00\\x00\\x00\\x00\\x00\\x00\\x00\\x00\\x00\\x00\\x00\\x00\\x00\\x00\\x00\\x00\\x00\\x00\\x00\\x00\\x00\\x00\\x00\\x00\\x00\\x00\\x00\\x00\\x00\\x00\\x00\\x00\\x00\\x00\\x00\\x00\\x00\\x00\\x00\\x00\\x00\\x00\\x00\\x00\\x00\\x00\\x00\\x00\\x00\\x00\\x00\\x00\\x00\\x00\\x00\\x00\\x00\\xac\\x92MO\\xc30\\x0c\\x86\\xefH\\xfc\\x87\\xc8\\xf7\\xd5\\xdd\\x90\\x10BKwAH\\xbb!T~\\x80I\\xdc\\x0f\\xb5\\x8d\\xa3$\\x1b\\xdd\\xbf\\'\\x1c\\x10T\\x1a\\x83\\x03G\\x7f\\xbd~\\xfc\\xca\\xdb\\xdd<\\x8d\\xea\\xc8!\\xf6\\xe24\\xac\\x8b\\x12\\x14;#\\xb6w\\xad\\x86\\x97\\xfaqu\\x07*&r\\x96Fq\\xac\\xe1\\xc4\\x11v\\xd5\\xf5\\xd5\\xf6\\x99GJy(v\\xbd\\x8f*\\xab\\xb8\\xa8\\xa1K\\xc9\\xdf#F\\xd3\\xf1D\\xb1\\x10\\xcf.W\\x1a\\t\\x13\\xa5\\x1c\\x86\\x16=\\x99\\x81Z\\xc6MY\\xdeb\\xf8\\xae\\x01\\xd5BS\\xed\\xad\\x86\\xb0\\xb77\\xa0\\xea\\x93\\xcf\\x9b\\x7f\\xd7\\x96\\xa6\\xe9\\r?\\x889L\\xec\\xd2\\x99\\x15\\xc8sbg\\xd9\\xae|\\xc8l!\\xf5\\xf9\\x1aUSh9i\\xb0b\\x9er:\"y_dl\\xc0\\xf3D\\x9b\\xbf\\x13\\xfd|-N\\x9c\\xc8R\"4\\x12\\xf82\\xcfG\\xc7%\\xa0\\xf5\\x7fZ\\xb44\\xf1\\xcb\\x9dy\\xc47\\t\\xc3\\xab\\xc8\\xf0\\xc9\\x82\\x8b\\x1f\\xa8\\xde\\x01\\x00\\x00\\xff\\xff\\x03\\x00PK\\x03\\x04\\x14\\x00\\x06\\x00\\x08\\x00\\x00\\x00!\\x00i\\x01r\\x12v\\x03\\x00\\x00s\\x08\\x00\\x00\\x0f\\x00\\x00\\x00xl/workbook.xml\\xacUmo\\xa38\\x10\\xfe~\\xd2\\xfd\\x07\\xc4w\\x8a\\xcd[\\x005]\\x85\\x04t\\x91\\xdaU\\xd5\\xcd\\xb6_\"\\xad\\x1cp\\x82/\\x809\\xdb4\\xa9\\xaa\\xfd\\xef;&!m\\xb7\\xabS\\xae{Qb\\xc7\\x9e\\xe1\\xf133\\xcf\\x98\\xcbO\\xfb\\xba2\\x1e\\xa9\\x90\\x8c7c\\x13_ \\xd3\\xa0M\\xce\\x0b\\xd6l\\xc6\\xe6\\xd7Ef\\x85\\xa6!\\x15i\\nR\\xf1\\x86\\x8e\\xcd\\'*\\xcdOW\\x7f\\xfeq\\xb9\\xe3b\\xbb\\xe2|k\\x00@#\\xc7f\\xa9T\\x1b\\xdb\\xb6\\xccKZ\\x13y\\xc1[\\xda\\x80e\\xcdEM\\x14,\\xc5\\xc6\\x96\\xad\\xa0\\xa4\\x90%\\xa5\\xaa\\xael\\x07\\xa1\\xc0\\xae\\tk\\xcc\\x03B,\\xce\\xc1\\xe0\\xeb5\\xcb\\xe9\\x8c\\xe7]M\\x1bu\\x00\\x11\\xb4\"\\n\\xe8\\xcb\\x92\\xb5r@\\xab\\xf3s\\xe0j\"\\xb6]k\\xe5\\xbcn\\x01b\\xc5*\\xa6\\x9ezP\\xd3\\xa8\\xf3x\\xbei\\xb8 \\xab\\n\\xc2\\xdec\\xdf\\xd8\\x0b\\xf8\\x06\\xf0\\xc3\\x08\\x06g8\\tL\\xef\\x8e\\xaaY.\\xb8\\xe4ku\\x01\\xd0\\xf6\\x81\\xf4\\xbb\\xf81\\xb21~\\x93\\x82\\xfd\\xfb\\x1c\\x9c\\x87\\xe4\\xd9\\x82>2]\\xc3\\x13+\\x11|\\x90Up\\xc2\\n^\\xc00\\xfam4\\x0c\\xd2\\xea\\xb5\\x12C\\xf2>\\x88\\xe6\\x9f\\xb89\\xe6\\xd5\\xe5\\x9aU\\xf4\\xfe ]\\x83\\xb4\\xedgR\\xebJU\\xa6Q\\x11\\xa9\\xd2\\x82)Z\\x8c\\xcd\\x11,\\xf9\\x8e\\xbe\\xd9\\x10]\\x9bt\\xac\\x02\\xab\\xe3:.6\\xed\\xab\\x93\\x9co\\x85Q\\xd05\\xe9*\\xb5\\x00!\\x0f\\xf0\\xd0\\x19A\\x109\\xbe\\xf6\\x04aL*EEC\\x14\\x9d\\xf2F\\x81\\x0e\\x8fq\\xfd\\xae\\xe6z\\xeci\\xc9A\\xe1\\xc6\\x1d\\xfd\\xa7c\\x82Bc\\x81\\xbe V\\x18I\\x1e\\x93\\x95\\xbc%\\xaa4:Q\\x8d\\xcdi\\xbc\\xfc*!\\xfc\\xe5\\xdf\\xbc1\\xc8\\x8a\\x08N\\x963*\\xb7\\x8a\\xb7K\\xb6\\xa2\\x82\\xe5d\\xa9;y\\xc3\\x97\\xaf\\xb4J\\xde7\\xc6\\x7fP+\\xc9u\\nl\\xc8\\xc1\\x81\\xe7\\xe1\\xff\\xcf\\xf9\\x00\\xba\"\\x1e\\x14y\\xab\\x84\\x01\\xff\\xe7\\xb3k\\xa8\\xca\\x17\\xf2\\x085\\x02%\\x14\\xc7\\x16\\x9eC\\x11\\xc2o\\xcf#?r\\xa2\\x89\\x17X)\\x8e\\x02\\xcb\\xf3\\xd2\\xd0\\n}\\x7fb\\x85\\x93\\x99\\x1bNQ\\xe2&I\\xf2\\x1d\\xa2\\x10A\\x9cs\\xd2\\xa9\\xf2Xw\\x8d96=\\xff\\x17\\xa6\\x1b\\xb2\\x1f,\\x18\\xc5\\x1d+^\\xce\\x7fF\\xc7\\x8f\\xa5\\xe7\\x9f\\x86\\xc1\\xf6]G\\xaao\\xb8{Fw\\xf2E!zi\\xec\\x1fXS\\xf0\\xdd\\xd8\\xb4\\xb0\\x03\\xd1<\\xbd]\\xeez\\xe3\\x03+T\\t\\xca\\x89<\\x0f\\\\\\x0e{\\x7fQ\\xb6)\\x811\\xc6\\xa3@\\xf7\\x83p4\\xb3\\xb1\\xf9\\x8c}7\\x1c\\xf9\\xc8\\xb324\\x99X^\\x88\\\\k\\xe2\\xf9\\x9e5J\\xa3,sB4E\\xd3I\\xcf\\xc8~E\\xa9\\xbfK\\x81Z?\\x1bM\\xaf\\xffy#\\x15S]\\x0ew\\x01\\\\\\xd5Fo\\xd2I\\xc6\\xa6!b}\\x94\\x98\\x17\\xbd\\xe2\\xed\\xe1\\xe9\\x9cT9\\xc8^O\\xbdc\\x84\\x91\\x13\\xe9\\xe0\\xe9^]K\\xd5\\xcf\\xa08\\xa6Yzh2B\\x91g\\xa1\\xd4\\xf5\\x81e\\xe4X\\xa1\\xe7:\\xd6\\xd4\\x9b9\\xa9?Jgi\\xe2\\xeb2\\xe9WB\\xfc\\x7f\\\\\\x8c\\xbd\\xf0\\xe3\\xe1]\\xa3Y\\x96D\\xa8\\x85 \\xf9\\x16\\xdePwt\\x9d\\x10\\t\\x82:\\x04\\x04|_\\x93M\\xfc0A.P\\xf42\\x9cY\\x1e\\x8e\\x90\\x95$\\x81g\\xf9\\xb3\\xcc\\xf5Gx6M\\xfd\\xec\\x85\\xac\\x0e\\x7f\\xfd\\xc1k)\\xb4\\xfb\\xa7)Q\\x1d\\xb4\\xac\\xee\\xd6~\\x1d\\xeb1;\\xee\\x9e6\\xd7\\x87\\x8dc\\xb9\\xde\\xf4^|7\\xd3y?>\\xfdo\\x8e_ \\xfa\\x8a\\x9e\\xe9\\x9c\\xdd\\x9f\\xe98\\xfd|\\xb3\\xb89\\xd3\\xf7:]|{\\xc8\\xfa\\xdb\\xe0\\x97\\xd1\\xda}5\\xf4\\xd8k\\xc8\\x1ejx\\xf5\\x03\\x00\\x00\\xff\\xff\\x03\\x00PK\\x03\\x04\\x14\\x00\\x06\\x00\\x08\\x00\\x00\\x00!\\x00\\x81>\\x94\\x97\\xf3\\x00\\x00\\x00\\xba\\x02\\x00\\x00\\x1a\\x00\\x08\\x01xl/_rels/workbook.xml.rels \\xa2\\x04\\x01(\\xa0\\x00\\x01\\x00\\x00\\x00\\x00\\x00\\x00\\x00\\x00\\x00\\x00\\x00\\x00\\x00\\x00\\x00\\x00\\x00\\x00\\x00\\x00\\x00\\x00\\x00\\x00\\x00\\x00\\x00\\x00\\x00\\x00\\x00\\x00\\x00\\x00\\x00\\x00\\x00\\x00\\x00\\x00\\x00\\x00\\x00\\x00\\x00\\x00\\x00\\x00\\x00\\x00\\x00\\x00\\x00\\x00\\x00\\x00\\x00\\x00\\x00\\x00\\x00\\x00\\x00\\x00\\x00\\x00\\x00\\x00\\x00\\x00\\x00\\x00\\x00\\x00\\x00\\x00\\x00\\x00\\x00\\x00\\x00\\x00\\x00\\x00\\x00\\x00\\x00\\x00\\x00\\x00\\x00\\x00\\x00\\x00\\x00\\x00\\x00\\x00\\x00\\x00\\x00\\x00\\x00\\x00\\x00\\x00\\x00\\x00\\x00\\x00\\x00\\x00\\x00\\x00\\x00\\x00\\x00\\x00\\x00\\x00\\x00\\x00\\x00\\x00\\x00\\x00\\x00\\x00\\x00\\x00\\x00\\x00\\x00\\x00\\x00\\x00\\x00\\x00\\x00\\x00\\x00\\x00\\x00\\x00\\x00\\x00\\x00\\x00\\x00\\x00\\x00\\x00\\x00\\x00\\x00\\x00\\x00\\x00\\x00\\x00\\x00\\x00\\x00\\x00\\x00\\x00\\x00\\x00\\x00\\x00\\x00\\x00\\x00\\x00\\x00\\x00\\x00\\x00\\x00\\x00\\x00\\x00\\x00\\x00\\x00\\x00\\x00\\x00\\x00\\x00\\x00\\x00\\x00\\x00\\x00\\x00\\x00\\x00\\x00\\x00\\x00\\x00\\x00\\x00\\x00\\x00\\x00\\x00\\x00\\x00\\x00\\x00\\x00\\x00\\x00\\x00\\x00\\x00\\x00\\x00\\x00\\x00\\x00\\x00\\x00\\x00\\x00\\x00\\x00\\x00\\x00\\x00\\x00\\x00\\x00\\x00\\x00\\x00\\x00\\x00\\x00\\x00\\x00\\x00\\x00\\x00\\x00\\x00\\x00\\x00\\x00\\x00\\x00\\x00\\x00\\x00\\xacRMK\\xc40\\x10\\xbd\\x0b\\xfe\\x870w\\x9bv\\x15\\x11\\xd9t/\"\\xecU\\xeb\\x0f\\x08\\xc9\\xb4)\\xdb&!3~\\xf4\\xdf\\x1b*\\xba]X\\xd6K/\\x03o\\x86y\\xef\\xcd\\xc7v\\xf75\\x0e\\xe2\\x03\\x13\\xf5\\xc1+\\xa8\\x8a\\x12\\x04z\\x13l\\xef;\\x05o\\xcd\\xf3\\xcd\\x03\\x08b\\xed\\xad\\x1e\\x82G\\x05\\x13\\x12\\xec\\xea\\xeb\\xab\\xed\\x0b\\x0e\\x9as\\x13\\xb9>\\x92\\xc8,\\x9e\\x148\\xe6\\xf8(%\\x19\\x87\\xa3\\xa6\"D\\xf4\\xb9\\xd2\\x864j\\xce0u2js\\xd0\\x1d\\xcaMY\\xde\\xcb\\xb4\\xe4\\x80\\xfa\\x84S\\xec\\xad\\x82\\xb4\\xb7\\xb7 \\x9a)f\\xe5\\xff\\xb9C\\xdb\\xf6\\x06\\x9f\\x82y\\x1f\\xd1\\xf3\\x19\\tI<\\ry\\x00\\xd1\\xe8\\xd4!+\\xf8\\xc1E\\xf6\\x08\\xf2\\xbc\\xfcfMy\\xcek\\xc1\\xa3\\xfa\\x0c\\xe5\\x1c\\xabK\\x1e\\xaa5=|\\x86t \\x87\\xc8G\\x1f\\x7f)\\x92s\\xe5\\xa2\\x99\\xbbU\\xef\\xe1tB\\xfb\\xca)\\xbf\\xdb\\xf2,\\xcb\\xf4\\xeff\\xe4\\xc9\\xc7\\xd5\\xdf\\x00\\x00\\x00\\xff\\xff\\x03\\x00PK\\x03\\x04\\x14\\x00\\x06\\x00\\x08\\x00\\x00\\x00!\\x00\\xc9\\xbbm\\x9fN\\x07\\x00\\x00\\xd6<\\x00\\x00\\x18\\x00\\x00\\x00xl/worksheets/sheet1.xml\\xac\\x9b\\xdbn\\xdbF\\x14E\\xdf\\x0b\\xf4\\x1f\\x08\\xbe\\xdb\\xe2\\xf0N\\xc1r`\\xc4u\\x1b\\xa0\\x05\\x8a\\xa6\\x97g\\x9a\\x1aYD$Q%\\xe9[\\x8b\\xfe{\\xcf\\x1c\\xc2\\x8ay\\xc8\\x83\\xa6\\xce\\x06bG\\xb2\\xe5\\xb5g\\xa8\\xf12E\\xed\\xb9x\\xf7\\xb4\\xdfy\\x0f\\xb6\\xed\\xea\\xe6\\xb0\\xf2\\xcdy\\xe0{\\xf6P5\\xeb\\xfap\\xb7\\xf2\\x7f\\xfb\\xf5\\xe6,\\xf7\\xbd\\xae/\\x0f\\xebr\\xd7\\x1c\\xec\\xca\\x7f\\xb6\\x9d\\xff\\xee\\xf2\\xdbo.\\x1e\\x9b\\xf6S\\xb7\\xb5\\xb6\\xf7\\x88p\\xe8V\\xfe\\xb6\\xef\\x8f\\xcb\\xc5\\xa2\\xab\\xb6v_v\\xe7\\xcd\\xd1\\x1e\\xe8;\\x9b\\xa6\\xdd\\x97=\\xddm\\xef\\x16\\xdd\\xb1\\xb5\\xe5\\x9a\\x7fh\\xbf[\\x84A\\x90.\\xf6e}\\xf0\\x07\\xc2\\xb2\\xfd\\x12F\\xb3\\xd9\\xd4\\x95\\xbdn\\xaa\\xfb\\xbd=\\xf4\\x03\\xa4\\xb5\\xbb\\xb2\\xa7\\xf1w\\xdb\\xfa\\xd8\\xbd\\xd0\\xf6\\xd5\\x97\\xe0\\xf6e\\xfb\\xe9\\xfexV5\\xfb#!n\\xeb]\\xdd?3\\xd4\\xf7\\xf6\\xd5\\xf2\\xc3\\xdd\\xa1i\\xcb\\xdb\\x1d\\xcd\\xfb\\xc9\\xc4e\\xe5=\\xb5\\xf4/\\xa4\\x8f\\xe8%\\x86\\xbf>I\\xda\\xd7U\\xdbt\\xcd\\xa6?\\'\\xf2b\\x18\\xf3t\\xfa\\xc5\\xa2X\\x94\\xd5\\x894\\x9d\\xff\\x17aL\\xbch\\xedC\\xed\\x9e\\xc0\\xcf\\xa8\\xf0mC2\\xc9\\x89\\x15~\\x86Eo\\x84\\xa5\\'\\x98;\\\\\\xed\\xf2\\xbe^\\xaf\\xfc\\xbf\\xaf\\x8d\\xc9\\xc2\\xf7Qx\\x96gE~\\x16\\xc77\\xc1\\xd9U\\x98\\xe5gIz\\x93\\xc4Qxu\\x95\\x04\\xd7\\xff\\xf8\\x97\\x17\\xeb\\x9a\\x9ea7+\\xaf\\xb5\\x9b\\x95\\x7fe\\x96W&L\\xfd\\xc5\\xe5\\x05\\xaf\\xa0\\xdfk\\xfb\\xd8\\xbd\\xba\\xedu\\xdb\\xe6\\xf1\\xfb\\xb6^\\xffX\\x1f,-GZ\\xc8}y\\xfb\\xd1\\xeel\\xd5[\\xca5t\\xbf9\\xfeh7\\xfd{\\xbb\\xdb\\x11/\\xa1\\x95\\xed\\x16\\xf1m\\xd3|r\\xb0\\x0f\\xf4\\xa0\\x80r;\\xfe\\x11\\x97[V}\\xfd`\\x87\\x87\\x7fg\\x08\\xd0\\xfd\\xc9Cq\\xb7i\\x18\\x8b\\xd38^\\xdf~\\x19\\xd3\\r/\\xfc\\x9f[\\xef\\xb6\\xec\\xec\\xfbf\\xf7G\\xbd\\xee\\xb74\\x0c\\x1a\\xd7\\xdan\\xca\\xfb]\\xffK\\xf3\\xf8\\x83\\xad\\xef\\xb6=}5\\xa1\\x03\\xe4V\\xd8r\\xfd|m\\xbb\\x8a\\x966\\r\\xe6<L\\\\N\\xd5\\xec\\x08J\\x9f\\xbd}\\xed~Gii\\x96O\\xfc\\xff\\xe3\\xc0L\\xe3\\xf3\\xcc\\x04E\\x94\\x11\\xa5\\xeb\\x9f\\xddr\\xa5[\\xb7\\xb6\\xeboj\\x07\\xf7\\xbd\\xea\\xbe\\xeb\\x9b\\xfd\\xcb\\x10x\\xf0\\x03\\x95\\xa7p]\\xf6\\xe5\\xe5E\\xdb<z\\xb4\\x04\\xdd4\\x8f\\xa5\\xfb\\x856K\\xba=?*\\x1a\\x8e{\\xec\\x95{\\xf0phW~G\\xc7\\xee\\xe12\\xb8X<\\xd0\\xe1\\xa8\\xe8\\x83\\x80\\'*\\xad\\xa6\\xd7\\xd4\\x979\\x0f\\xe3:\\x1d\\x85\\xff\\x8as\\x94\\x95O\\x9fiVC\\x9c\\x99\\x8f\\xa3\\xf5\\x06\\x88s\\x94\\x95O\\x9fOq\\xe1|\\\\\\x0c\\x89s\\x94q\\\\4\\x1f\\xe7\\x9e\\xe6WO\\xd1\\x1b\\x0f\\xa6\\xa3\\x8c\\xe3\\xe2\\xf9\\xb8\\x14\\x12\\xe7(\\xe3\\xb8d>.\\x83\\xc49\\xca8.\\x9d\\x8fs\\x7f\\xdf\\xbe\\xfe`:\\xca8.\\x9b\\x8f+ q\\x8e2\\x8e\\xcb\\xe7\\xe3\\x9cn\\x00\\xd3c\\xcc8\\xb0P\\x02\\x85?\\xde\\xb88\\xd9\\xb6\\xe3@\\xa3\\xa8\\xc5`\\xdc\\xc2\\x18\\x91\\xa8\\xd8\\xc5`\\xf4\\xc2\\x18\\x91\\xa8\\x08\\xc6`\\x0c\\xc3\\x18\\x91\\xa88\\xc6\\xfdEB,\\x9c\\xa9e\\x8c\\xa2\\x19\\x83\\xf1\\x0cc\\xc4\\x1c\\x15\\xd3\\x18\\x8cj\\x18#\\x12\\x15\\xd9\\x18\\x8cm\\x18#\\x12\\x15\\xdf\\x18\\x8cp\\x18#\\x12\\x15\\xe5\\x84\\x18\\xe50F$*\\xce\\t1\\xcea\\xcc81\\xd4Ng@\\xe73\\xc3\\t\\xcd\\xe8\\x0cCqN\\x88q\\x0ec\\xc4\\x1c\\x15\\xe7\\x84\\x18\\xe70F$*\\xce\\xa1\\xd3]\\xc8Y\\xe2\\xd49\\xa1\\xe2\\x1cz=\\x01I\\x9c\\x9e\\xdc\\x84\\x8asB\\x8cs\\x18#\\x8e\\xaa\\xe2\\x9c\\x10\\xe3\\x1c\\xc6\\x88D\\xc59!\\xc69\\x8c\\x11\\x89\\x8as\"\\x8cs\\x18#\\x12\\x15\\xe7D\\x18\\xe70f\\x9c\\x18)\\xce\\x890\\xcea\\x8cH\\xd4^E\\x81^FM_GE\\x8as\"\\x8cs\\x18#\\xe6\\xa88\\'\\xc28\\x871\"QqN\\x84q\\x0ecD\\xa2\\xe2\\x9c\\x08\\xe3\\x1c\\xc6\\x88D\\xc59\\x11\\xc69\\x8c\\x11\\x89\\x8as\"\\x8cs\\x18#\\x12\\x15\\xe7\\xc4\\x18\\xe70F$*\\xce\\x891\\xcea\\xcc81V\\x9c\\x13c\\x9c\\xc3\\x18\\x91\\xa88\\'\\xc68\\x871\"Q\\xbbx\\x03\\xbaz3\\xbd|\\x13+\\xce\\x891\\xcea\\x8c\\x98\\xa3\\xe2\\x9c\\x18\\xe3\\x1c\\xc6\\x88D\\xc591\\xc69\\x8c\\x11\\x89\\x8asb\\x8cs\\x18#\\x12\\x15\\xe7\\xc4\\x18\\xe70F$*\\xceI0\\xcea\\x8cHT\\x9c\\x93`\\x9c\\xc3\\x98qb\\xa28\\'\\xc18\\x871\"QqN\\x82q\\x0ecD\\xa2\\xe2\\x9c\\x04\\xe3\\x1c\\xc6\\x88D\\xed\\x9a1\\xe8\\xa2\\xf1\\xf4\\xb5U\\xa28\\'\\xc18\\x871b\\x8e\\x8as\\x12\\x8cs\\x18#\\x12\\x15\\xe7\\xb8\\xf7\\x90\\x10\\x97\\xe2\\xa7\\x97\\x8f\\x13\\xc59\\t\\xc69\\x8c\\x11sT\\x9c\\x93b\\x9c\\xc3\\x18\\x91\\xa88\\'\\xc58\\x871\\xe3\\xc4TqN\\x8aq\\x0ecD\\xa2\\xe2\\x9c\\x14\\xe3\\x1c\\xc6\\x88D\\xc59)\\xc69\\x8c\\x11\\x89\\x8asR\\x8cs\\x18#\\x12\\xb5\\xb7\\xaa@\\xefUM\\xaf\\xe7\\xa4\\x8asR\\x8cs\\x18#\\xe6\\xa88\\'\\xc58\\x871\"QqN\\x8aq\\x0ecD\\xa2\\xe2\\x9c\\x0c\\xe3\\x1c\\xc6\\x88D\\xc59\\x19\\xc69\\x8c\\x19\\'f\\x8as2\\x8cs\\x18#\\x12\\x15\\xe7d\\x18\\xe70F$*\\xce\\xc90\\xcea\\x8cHT\\x9c\\xc3\\x1d\\x88\\xaf\\x7f?\\x971\"QqN\\x86q\\x0ecD\\xa2\\xf6\\x0e9\\xe8-\\xf2\\xe9{\\xe4\\x99\\xe2\\x9c\\x0c\\xe3\\x1c\\xc6\\x889*\\xce\\xc90\\xcea\\x8cHT\\x9c\\x93c\\x9c\\xc3\\x18\\x91\\xa88\\'\\xc78\\x871\\xe3\\xc4\\\\qN\\x8eq\\x0ecD\\xa2\\xe2\\x9c\\x1c\\xe3\\x1c\\xc6\\x88D\\xc599\\xc69\\x8c\\x11\\x89\\x8asr\\xccy\\x0ecD\\xa2\\xe2\\x9c\\x1c\\xe3\\x1c\\xc6\\x88D\\xc599\\xc69\\x8c\\x11\\x89Z1\\x07\\xd4\\xcc\\x99\\xbe\\xb6\\xca\\x15\\xe7\\xe4\\x18\\xe70F\\xccQqN\\x81q\\x0ecD\\xa2\\xe2\\x9c\\x02\\xe3\\x1c\\xc6\\x8c\\x13\\x0b\\xc59\\x05\\xc69\\x8c\\x11\\x89\\x8as\\n\\x8cs\\x18#\\x12\\x15\\xe7\\x14\\x18\\xe70F$*\\xce)0\\xcea\\x8cHT\\x9cS`\\x9c\\xc3\\x18\\x91\\xa88\\xa7\\xc08\\x871\"QqN\\x81q\\x0ecD\\xa2\\xd6\\x07\\x04\\x15\\x02\\xa7\\x8d\\xc0B\\xad\\x04\\xa2:\\x81\\x8e#f\\xa9\\xb5\\x02\\x03P-\\x909\\xe3L\\x13h\\xc5\\xc0\\x00\\xd4\\x0cd\\x8e\\x0c\\xd5\\xba\\x81\\x01\\xa8\\x1c\\xc8\\x1c\\x19\\xaa\\xd5\\x03\\x03P?\\x9092Tk\\x08\\x06\\xa0\\x8a sd\\xa8V\\x12\\x0c@-A\\xe6\\xc8P\\xad\\'\\x18\\x80\\x8a\\x82\\xcc\\x91\\xa1ZU0\\x00u\\x05\\x99#C\\xb5\\xb6`\\x00\\xaa\\x0b2G\\x86jBB\\x95\\x94gZ\\xca\\xb4-B\\xeb)\\xa3\\x8a\\xca\\xc3\\x1e\\x88\\xd7\\x1d>\\xa3V\\x95Q]\\xe5\\xd9\\xb2\\xb2f$T]y\\xae\\xafl4#\\xa1\\x1a\\xcbs\\x95e\\xa3\\x19\\tUZf\\x8eX\\xbdjm\\x19\\xd5[\\x9e+.\\x1b\\xcdH\\xa8\\xea\\xf2\\\\w\\xd9hFB\\xb5\\x97\\xe7\\xea\\xcbF3\\x12\\xaa\\xc0<\\xd7`6\\x9a\\x91@\\x1df3Wb6\\x9a\\x91@5f3\\xd3c\\xa6\\x81(\\x1a\\x0cQ\\xbb\\'\\xa6Uf\\x1a\\x88\\x16\\n:G\\x9ai3\\x9bP3\\x12\\xa8\\xcflf\\n\\xcd&\\xd4\\x8c\\x04\\xaa4\\x1b\\xe6\\x08#i\\xa5f\\xb7K\\xf2\\xff\\xec\\xe1\\xe3\\x87\\xaf\\xfc\\x98\\xb7\\x05\\xf2\\xa6\\xbdag\\xe3\\xb0-\\xf0X\\xde\\xd9\\x9f\\xca\\xf6\\xae>t\\xde\\x8evO\\xba}\\x89t:\\xd4\\x0e\\x1b\\x17\\xf96\\xed\\xab\\xe4\\xaf\\xbaM\\x87MO\\x1b\\r_\\xeemi\\xbb\\xaf\\xa5}\\x82\\xc19=\\xe1\\x9b\\xa6\\xe9_\\xee\\xd0\\xaeF\\xc7\\xfdh\\xfb\\xfb\\xa3\\xd7\\xb45\\xedw\\xe4\\x1d\\xbc+\\xff\\xd8\\xb4}[\\xd6\\xbd\\xefm\\xe9\\xeb\\x7f5\\xf4\\x8d\\xdd\\xf5\\xb1\\xe6\\xfd\\x9c\\xb4M\\xb9\\xaf\\xab\\xcf\\xf7\\xdb\\xa5\\xdbP\\xda~X\\x0f\\xdb1O;\\x92/\\xff\\x05\\x00\\x00\\xff\\xff\\x03\\x00PK\\x03\\x04\\x14\\x00\\x06\\x00\\x08\\x00\\x00\\x00!\\x00\\x83Ml\\xc8V\\x07\\x00\\x00\\xc8 \\x00\\x00\\x13\\x00\\x00\\x00xl/theme/theme1.xml\\xecY[\\x8f\\x1b5\\x14~G\\xe2?X\\xf3\\x9e\\xe66\\x93\\xcb\\xaa)\\xca\\xb5K\\xbb\\xdbV\\xdd\\xb4\\x88Go\\xe2d\\xdc\\xf5\\x8c#\\xdb\\xd9m\\x84*\\xa1\\xf2\\xc4\\x0b\\x12\\x12 ^\\x90x\\xe3\\x01!\\x90@\\x02\\xf1\\xc2\\x8f\\xa9\\xd4\\x8a\\xcb\\x8f\\xe0\\xd83\\xc9\\xd8\\x1b\\x87^\\xd8\"@\\xbb\\x91V\\x19\\xe7;\\xc7\\xc7\\xe7\\x1c\\x7f>s|\\xf5\\xad\\x87\\tC\\xa7DH\\xca\\xd3NP\\xbdR\\t\\x10I\\'|J\\xd3y\\'\\xb87\\x1e\\x95Z\\x01\\x92\\n\\xa7S\\xccxJ:\\xc1\\x8a\\xc8\\xe0\\xadko\\xbeq\\x15\\xef\\xa9\\x98$\\x04\\x81|*\\xf7p\\'\\x88\\x95Z\\xec\\x95\\xcbr\\x02\\xc3X^\\xe1\\x0b\\x92\\xc2o3.\\x12\\xac\\xe0Q\\xcc\\xcbS\\x81\\xcf@o\\xc2\\xca\\xb5J\\xa5QN0M\\x03\\x94\\xe2\\x04\\xd4\\x8eA\\x06M\\t\\xba=\\x9b\\xd1\\t\\t\\xae\\xad\\xd5\\x0f\\x19\\xcc\\x91*\\xa9\\x07&L\\x1ci\\xe5$\\x97\\xb1\\xb0\\xd3\\x93\\xaaF\\xc8\\x95\\xec3\\x81N1\\xeb\\x040\\xd3\\x94\\x9f\\x8d\\xc9C\\x15 \\x86\\xa5\\x82\\x1f:A\\xc5\\xfc\\x05\\xe5kW\\xcbx/\\x17bj\\x87\\xac%72\\x7f\\xb9\\\\.0=\\xa9\\x999\\xc5\\xfcx3i\\x18Fa\\xa3\\xbb\\xd1o\\x00Lm\\xe3\\x86\\xcdac\\xd8\\xd8\\xe83\\x00<\\x99\\xc0J3[\\\\\\x9d\\xcdZ?\\xcc\\xb1\\x16(\\xfb\\xea\\xd1=h\\x0e\\xeaU\\x07o\\xe9\\xafo\\xd9\\xdc\\x8d\\xf4\\xc7\\xc1\\x1bP\\xa6?\\xdc\\xc2\\x8fF}\\xf0\\xa2\\x837\\xa0\\x0c\\x1fm\\xe1\\xa3^\\xbb7p\\xf5\\x1bP\\x86ol\\xe1\\x9b\\x95\\xee l:\\xfa\\r(f4=\\xd9BW\\xa2F\\xbd\\xbf^\\xed\\x062\\xe3l\\xdf\\x0boG\\xe1\\xa8Y\\xcb\\x95\\x17(\\xc8\\x86Mv\\xe9)f<U\\xbbr-\\xc1\\x0f\\xb8\\x18\\x01@\\x03\\x19V4Ej\\xb5 3<\\x81<\\xeecF\\x8f\\x05E\\x07t\\x1eC\\xe2-p\\xca%\\x0cWj\\x95Q\\xa5\\x0e\\xff\\xf5\\'4\\xdfLD\\xf1\\x1e\\xc1\\x96\\xb4\\xb6\\x0b,\\x91[C\\xda\\x1e$\\'\\x82.T\\'\\xb8\\x01Z\\x03\\x0b\\xf2\\xf4\\xa7\\x9f\\x9e<\\xfe\\xe1\\xc9\\xe3\\x1f\\x9f|\\xf0\\xc1\\x93\\xc7\\xdf\\xe6s\\x1bU\\x8e\\xdc>N\\xe7\\xb6\\xdc\\xef_}\\xfc\\xc7\\x17\\xef\\xa3\\xdf\\xbe\\xff\\xf2\\xf7O>\\xcd\\xa6>\\x8f\\x976\\xfe\\xd97\\x1f>\\xfb\\xf9\\x97\\xbfR\\x0f+.\\\\\\xf1\\xf4\\xb3\\xef\\x9e\\xfd\\xf0\\xdd\\xd3\\xcf?\\xfa\\xf5\\xebO<\\xda\\xbb\\x02\\x1f\\xdb\\xf01M\\x88D\\xb7\\xc8\\x19\\xba\\xcb\\x13X\\xa0\\xc7~r,^Nb\\x1cc\\xeaH\\xe0\\x18t{T\\x0fU\\xec\\x00o\\xad0\\xf3\\xe1z\\xc4u\\xe1}\\x01,\\xe3\\x03^_>pl=\\x8a\\xc5RQ\\xcf\\xcc7\\xe3\\xc4\\x01\\x1er\\xcez\\\\x\\x1dpS\\xcfeyx\\xbcL\\xe7\\xfe\\xc9\\xc5\\xd2\\xc6\\xdd\\xc5\\xf8\\xd47w\\x1f\\xa7N\\x80\\x87\\xcb\\x05\\xd0+\\xf5\\xa9\\xec\\xc7\\xc41\\xf3\\x0e\\xc3\\xa9\\xc2s\\x92\\x12\\x85\\xf4o\\xfc\\x84\\x10\\xcf\\xea\\xde\\xa5\\xd4\\xf1\\xeb!\\x9d\\x08.\\xf9L\\xa1w)\\xeaa\\xeau\\xc9\\x98\\x1e;\\x89T\\x08\\xed\\xd3\\x04\\xe2\\xb2\\xf2\\x19\\x08\\xa1v|sx\\x1f\\xf58\\xf3\\xadz@N]$l\\x0b\\xcc<\\xc6\\x8f\\ts\\xdcx\\x1d/\\x15N|*\\xc78a\\xb6\\xc3\\x0f\\xb0\\x8a}F\\x1e\\xad\\xc4\\xc4\\xc6\\r\\xa5\\x82H\\xcf\\t\\xe3h8%R\\xfadn\\x0bX\\xaf\\x15\\xf4\\x9b\\xc00\\xfe\\xb0\\x1f\\xb2U\\xe2\"\\x85\\xa2\\'>\\x9d\\x07\\x98s\\x1b9\\xe0\\'\\xfd\\x18\\'\\x0b\\xaf\\xcd4\\x8dm\\xec\\xdb\\xf2\\x04R\\x14\\xa3;\\\\\\xf9\\xe0\\x87\\xdc\\xdd!\\xfa\\x19\\xe2\\x80\\xd3\\x9d\\xe1\\xbeO\\x89\\x13\\xee\\xe7\\x13\\xc1= W\\xdb\\xa4\"A\\xf4/K\\xe1\\x89\\xe5u\\xc2\\xdd\\xfd\\xb8b3L|,\\xd3\\x15\\x89\\xc3\\xae]A\\xbd\\xd9\\xd1[\\xce\\x9d\\xd4> \\x84\\xe13<%\\x04\\xdd{\\xdbcA\\x8f/\\x1c\\x9f\\x17F\\xdf\\x88\\x81U\\xf6\\x89/\\xb1n`7W\\xf5sJ$A\\xa6\\xae\\xd9\\xa6\\xc8\\x03*\\x9d\\x94=\"s\\xbe\\xc3\\x9e\\xc3\\xd59\\xe2Y\\xe14\\xc1b\\x97\\xe6[\\x10u\\'u\\xe1\\x94\\xf3R\\xe9m69\\xb1\\x81\\xb7(\\x14\\x80\\x90/^\\xa7\\xdc\\x96\\xa0\\xc3J\\xee\\xe1.\\xadwb\\xec\\x9c]\\xfaY\\xfa\\xf3u%\\x9c\\xf8\\xbd\\xc8\\x1e\\x83}\\xf9\\xe0e\\xf7%\\xc8\\x90\\x97\\x96\\x01b\\x7fa\\xdf\\x8c1s&(\\x12f\\x8c\\xa1\\xc0\\xf0\\xd1-\\x888\\xe1/D\\xf4\\xb9j\\xc4\\x96^\\xb9\\x99\\xbbi\\x8b0@a\\xe4\\xd4;\\tM\\x9f[\\xfc\\x9c+{\\xa2\\x7f\\xa6\\xec\\xf1\\x170\\x17P\\xf0\\xf8\\x15\\xff\\x9dRg\\x17\\xa5\\xec\\x9f+pv\\xe1\\xfe\\x83e\\xcd\\x00/\\xd3;\\x04N\\x92m\\xce\\xba\\xacj.\\xab\\x9a\\xe0\\x7f_\\xd5\\xec\\xda\\xcb\\x97\\xb5\\xcce-sY\\xcb\\xf8\\xde\\xbe^K-S\\x94/P\\xd9\\x14]\\x1e\\xd3\\xf3Iv\\xb6|f\\x94\\xb1#\\xb5b\\xe4@\\x9a\\xae\\x8f\\x847\\x9a\\xe9\\x08\\x06M;\\xca\\xf4$7-\\xc0E\\x0c_\\xf3\\x06\\x93\\x83\\x9b\\x0bld\\x90\\xe0\\xea\\x1d\\xaa\\xe2\\xa3\\x18/\\xa05T5\\xcd\\xce\\xb9\\xccU\\xcf%Zp\\t\\x1d#3l\\x9a\\xa9\\xe4\\x9cn\\xd3wZ&\\x87|\\x9au:\\xabU\\xdd\\xd5\\xcc\\\\(\\xb1*\\xc6+\\xd1f\\x1c\\xbaT*C7\\x9aE\\xf7n\\xa3\\xde\\xf4C\\xe7\\xa6\\xcb\\xba6@\\xcb\\xbe\\x8c\\x11\\xd6d\\xae\\x11u\\x8f\\x11\\xcd\\xf5 D\\xe1\\xaf\\x8c0+\\xbb\\x10+\\xda\\x1e+ZZ\\xfd:T\\xeb(n\\\\\\x01\\xa6m\\xa2\\x02\\xaf\\xdc\\x08^\\xd4;A\\x14f\\x1ddh\\xc6Ay>\\xd5q\\xca\\x9a\\xc9\\xeb\\xe8\\xea\\xe0\\\\h\\xa4w9\\x93\\xd9\\x19\\x00%\\xf6:\\x03\\x8aH\\xb7\\xb5\\xad;\\x97\\xa7W\\x97\\xa5\\xda\\x0bD\\xda1\\xc2J7\\xd7\\x08+\\rcx\\x11\\xce\\xb3\\xd3n\\xb9_d\\xac\\xdbEH\\x1d\\xf3\\xb4+\\xd6\\xbb\\xa10\\xa3\\xd9z\\x1d\\xb1\\xd6$r\\x8e\\x1bXj3\\x05K\\xd1Y\\'h\\xd4#\\xb8W\\x99\\xe0E\\'\\x98A\\xc7\\x18\\xbe&\\x0b\\xc8\\x1d\\xa9\\xdf\\xba0\\x9b\\xc3\\xc5\\xcbD\\x89l\\xc3\\xbf\\n\\xb3,\\x84T\\x03,\\xe3\\xcc\\xe1\\x86t26H\\xa8\"\\x021\\x9at\\x02\\xbd\\xfcM6\\xb0\\xd4p\\x88\\xb1\\xadZ\\x03B\\xf8\\xd7\\x1a\\xd7\\x06Z\\xf9\\xb7\\x19\\x07Aw\\x83Lf32Qv\\xd8\\xad\\x11\\xed\\xe9\\xec\\x11\\x18>\\xe3\\n\\xef\\xafF\\xfc\\xd5\\xc1Z\\x92/!\\xdcG\\xf1\\xf4\\x0c\\x1d\\xb3\\xa5\\xb8\\x8b!\\xc5\\xa2fU;pJ%\\\\\\x1cT3oN)\\xdc\\x84m\\x88\\xac\\xc8\\xbfs\\x07SN\\xbb\\xf6U\\x94\\xc9\\xa1l\\x1c\\xb3E\\x8c\\xf3\\x13\\xc5&\\xf3\\x0cnHtc\\x8ey\\xda\\xf8\\xc0z\\xca\\xd7\\x0c\\x0e\\xddv\\xe1\\xf1\\\\\\x1f\\xb0\\x7f\\xfb\\xd4}\\xfeQ\\xad=g\\x91fqf:\\xac\\xa2OM?\\x99\\xbe\\xbeC\\xde\\xb2\\xaa8D\\x1d\\xab2\\xea6\\xef\\xd4\\xb2\\xe0\\xba\\xf6\\x9a\\xeb Q\\xbd\\xa7\\xc4sN\\xdd\\x178\\x10,\\xd3\\x8a\\xc9\\x1c\\xd3\\xb4\\xc5\\xdb4\\xac9;\\x1fuM\\xbb\\xc0\\x82\\xc0\\xf2Dc\\x87\\xdf6g\\x84\\xd7\\x13\\xafz\\xf2\\x83\\xdc\\xf9\\xac\\xd5\\x07\\xc4\\xba\\xae4\\x89o.\\xcd\\xed[m~\\xfc\\x00\\xc8c\\x00\\xf7\\x87K\\xa6\\xa4\\t%\\xdcY\\x0b\\x0cE_v\\x03\\x99\\xd1\\x06l\\x91\\x87*\\xaf\\x11\\xe1\\x1bZ\\n\\xda\\t\\xde\\xabD\\xdd\\xb0_\\x8b\\xfa\\xa5J+\\x1a\\x96\\xc2zX)\\xb5\\xa2n\\xbd\\xd4\\x8d\\xa2zu\\x18U+\\x83^\\xed\\x11\\x1c,*N\\xaaQva?\\x82+\\x0c\\xb6\\xca\\xaf\\xed\\xcd\\xf8\\xd6\\xd5}\\xb2\\xbe\\xa5\\xb92\\xe1I\\x99\\x9b+\\xf9\\xb21\\xdc\\\\\\xddWk\\xce\\xd5}v\\r\\x8f\\xc6\\xfaf>@\\x14H\\xe7\\xbdFm\\xd4\\xae\\xb7{\\x8dR\\xbb\\xde\\x1d\\x95\\xc2A\\xafUj\\xf7\\x1b\\xbd\\xd2\\xa0\\xd1o\\x0eF\\x83~\\xd4j\\x8f\\x1e\\x05\\xe8\\xd4\\x80\\xc3n\\xbd\\x1f6\\x86\\xadR\\xa3\\xda\\xef\\x97\\xc2FE\\x9b\\xdfj\\x97\\x9aa\\xad\\xd6\\r\\x9b\\xdd\\xd60\\xec>\\xca\\xcb\\x18XyF\\x1f\\xb9/\\xc0\\xbd\\xc6\\xaek\\x7f\\x02\\x00\\x00\\xff\\xff\\x03\\x00PK\\x03\\x04\\x14\\x00\\x06\\x00\\x08\\x00\\x00\\x00!\\x00\\xde\\xe8B\\xf7\\xe2\\x03\\x00\\x00\\xff\\r\\x00\\x00\\r\\x00\\x00\\x00xl/styles.xml\\xe4WK\\x8f\\xdb6\\x10\\xbe\\x17\\xe8\\x7f x\\xd7\\xea\\xb1\\x96b\\x1b\\x96\\x83\\xb5\\xd7\\x02\\x02\\xa4m\\x80u\\x81\\\\i\\x89\\xb2\\x89\\xe5C\\xa0\\xe8\\x8d\\xdc\"\\xff\\xbdC=,9\\xbb\\xde(\\x9bK\\xd1\\xfabq\\xc4\\xf9\\xe6\\x1b\\xce\\x83\\xa3\\xc5\\xfbJp\\xf4Du\\xc9\\x94\\x8c\\xb1\\x7f\\xe3aDe\\xaa2&\\xf71\\xfes\\x9b8S\\x8cJCdF\\xb8\\x924\\xc6\\'Z\\xe2\\xf7\\xcb_\\x7fY\\x94\\xe6\\xc4\\xe9\\xc3\\x81R\\x83\\x00B\\x961>\\x18S\\xcc]\\xb7L\\x0fT\\x90\\xf2F\\x15T\\xc2\\x9b\\\\iA\\x0c,\\xf5\\xde-\\x0bMIVZ%\\xc1\\xdd\\xc0\\xf3\"W\\x10&q\\x830\\x17\\xe9\\x18\\x10A\\xf4\\xe3\\xb1pR%\\nb\\xd8\\x8eqfN5\\x16F\"\\x9d\\x7f\\xd8K\\xa5\\xc9\\x8e\\x03\\xd5\\xca\\x9f\\x90\\x14U~\\xa4\\x03T\\xe9\\xceH-}fG\\xb0T\\xabR\\xe5\\xe6\\x06p]\\x95\\xe7,\\xa5\\xcf\\xe9\\xce\\xdc\\x99K\\xd2\\x1e\\t\\x90\\xdf\\x86\\xe4\\x87\\xae\\x17\\\\\\xf8^\\xe97\"M\\\\M\\x9f\\x98\\r\\x1f^.r%M\\x89Ru\\x94&\\xc6\\x13 j\\x8f`\\xfe(\\xd5\\x17\\x99\\xd8W\\x10\\xe1v\\xd7rQ\\xfe\\x85\\x9e\\x08\\x07\\x89\\x8f\\xdd\\xe5\"U\\\\i\\xa4\\xf7\\xbb\\x18\\'\\x89W\\xff\\xacX\\x12A\\x9bmk\\xc2\\xd9N3+\\xcc\\x89`\\xfc\\xd4\\x88\\x03+\\xa8C\\xde\\xee\\x13\\x0c\\x02`\\x85\\xae%\\xd3PZ.vvWkp\\xf6\\xcc^R\\xff.\\xedm\\xc9A\\t\\xf2\\xa2\\xb9\\x0b\\xe4\\xeb\\xa8\\x93u4\\xbd\\xab\\xf9\\xf5^\\xfc(\\xaa\\xef]\\xb2\\xba\\xd3\\x8c\\xf0\\xd7H\\xd5\\xdcJp\\x9bq>\\x88D#X. e\\r\\xd52\\x81\\xb7\\xa8}\\xde\\x9e\\nHV\\t\\xd5\\xd5\\x9c\\x1a\\xbc\\xfa\\xee\\xee\\xbd&\\'?\\x08\\xc7+\\x94\\x8a\\xb3\\xcc\\x86~\\xbf\\x1e\\x06\\xba?\\xa2\\xdd\\xe5\\x8b>\\x03\\xdc\\x01e\\x1b\\xd41\\xf4\\xaeX\\xdbD\\x9bM\\xb2\\xb6\\xa4\\x7f\\xccZm\\x14\\xcet\\xa7t\\x06\\x9d\\xaa\\xcf\\xefN\\xb4\\\\p\\x9a\\x1b\\xc0\\xd5l\\x7f\\xb0\\xffF\\x15\\xd6\\x8a2\\x06\\xaay\\xb9\\xc8\\x18\\xd9+I\\xb8\\xcd\\xca\\x06\\xe4R\\x13:\\x1c4\\xb3\\x18\\x9b\\x034\\xa3oj\\xe1]0\\x0b\\xd65i\\xd7\\x1aim\\x8c\\xd4\\xa8\\xf9\\xd4tF*\\x00\\xf1\\x8e\\xf7H\\x8d\\xc6\\xc9\\x9f\\xf3\\xb1\\xaf\\xbf\\xb1>\\x0e4\\xc6\\xf98P\\x18\\xe9\\xe3@\\xe3_\\xe4\\xe39\\xad^\\x0b\\xcfH\\xeam.Bf\\xa7\\x94\\xf3\\x07\\x9b\\x83\\x9f\\xf3sz\\xdbN]\\xe5H\\x1eE\"\\xcc\\x87,\\xc6p5\\xdb\\x96\\xda=B!\\xb6\\x8fMJ7\\x0b\\x9b\\xe2C\\xb4\\x06{\\x00\\x1b\\xbd\\t\\x16U\\xf9\\x19\\xff\\x1a)\\x1f\\xf8\\xb5\\xa4\\x02\\x8czR \\xef\\xb4\\x11)\\n~\\xb2W\\x91\\xbd\\x89\\xda\\x15\\xe8\\xf4\\xabU]\\xe3\\xfd\\xfa\\x8e\\xb3\\xbd\\x14t\\xa8\\xf0I+CS\\xd3\\x0c,\\xe0\\r\\\\L\\xcd\\x16;\\xc7\\x18\\x96\\xdaK\\rr\\x0c\\xa3/\\x9a\\x14[Z5\\xb6\\xec\\xe4\\x01C\\xcd\\x1f\\xb6\\x85Xx8\\xa8\\xe2\\x0c\\x84\\xb8J\\x1fi}\\xc6\\xf6\\x00\\xab\\xfc\\xfa\\xd1\\x83k\\x9d\\x97\\xb7C/A\\xfe?\\xf0\\x12\\\\\\xfe\\x0fy\\t\\xdet\\xb1\\x84\\xe2\\xea3\\xf6;^\\xf69\\n\\xc9r\\xad\\x1a\\xaea\\x83\\xa1\\x97O\\xb0\\xab\\\\\\xa8\\xd5AC\\xb8h\\x07\\xe7\\xc2Fv\\xa2\\x89\\xf1\\xefv\\xb6\\xe6\\x03\\xc0\\xdd\\x91q\\xc3\\xe4\\x0b\\xad\\x000\\xb3\\xaao.\\xf5Xc\\xec\\x9c\\\\\\xb7\\x9d\\xb3\\x15`\\x97\\xd1\\x9c\\x1c\\xb9\\xd9\\x9e_\\xc6\\xb8\\x7f\\xfe\\x8df\\xec( \\xd7\\xdb]\\x9f\\xd8\\x9325D\\x8c\\xfb\\xe7\\x8f\\xf6\\x1a\\xf6#[cP~\\x1fK\\xb85\\xe1\\x1f\\x1d5\\x8b\\xf1\\xdf\\x9b\\xd5\\xbb\\xd9\\xfd&\\t\\x9c\\xa9\\xb7\\x9a:\\x93[\\x1a:\\xb3pu\\xef\\x84\\x93\\xf5\\xea\\xfe>\\x99y\\x81\\xb7\\xfe:\\x98\\xd6\\x7fbV\\xaf?. D\\xfed^r\\x98\\xe8u\\xeblK\\xfe\\xa1\\x97\\xc5x\\xb0h\\xe8\\xd7\\xc3\\x15\\xd0\\x1er\\x9f\\x05\\x91w\\x17\\xfa\\x9e\\x93\\xdcz\\xbe3\\x89\\xc8\\xd4\\x99F\\xb7\\xa1\\x93\\x84~p\\x1fMV\\x9b0\\t\\x07\\xdc\\xc37\\xce\\xf4\\x9e\\xeb\\xfb\\xcd\\xd7\\x81%\\x1f\\xce\\r\\x13\\x943\\xd9\\xc5\\xaa\\x8b\\xd0P\\nA\\x82\\xe5+N\\xb8]$\\xdc\\xfe\\xcbm\\xf9\\x0f\\x00\\x00\\x00\\xff\\xff\\x03\\x00PK\\x03\\x04\\x14\\x00\\x06\\x00\\x08\\x00\\x00\\x00!\\x00\\x8c\\xd1pv\\xfd\\x06\\x00\\x00\\xb8\\x16\\x00\\x00\\x14\\x00\\x00\\x00xl/sharedStrings.xml\\x94X\\xcbn\\xe38\\x16\\xdd\\x0f0\\xff@x_\\x95\\xea\\x06f0h\\xa4\\xdc\\xa0e\\xc5QA\\x96\\xd4\\x92\\x15\\xa0{\\xc7H\\x8c\\xcd\\x1aZt\\x91\\xa2QU\\xff0\\xab\\xf9\\x82Z\\xf6\"\\x8bF\\xedf\\xab\\x1f\\x9bC9q\\x1e\\x8a\\xe8\\x14\\x10\\xc8V|/y\\x9f\\xe7>\\xce\\x7f\\xfd\\xbc\\x95d\\xcf\\xb5\\x11\\xaay?\\xf9\\xe9\\xed\\xbb\\t\\xe1M\\xa5j\\xd1\\xac\\xdfO\\xca\\xd5\\xc5\\x9b\\x7fM\\x88iYS3\\xa9\\x1a\\xfe~\\xf2\\x85\\x9b\\xc9\\xaf\\xd3\\xbf\\xff\\xed\\xdc\\x98\\x96\\x80\\xb71\\xef\\'\\x9b\\xb6\\xdd\\xfdrvf\\xaa\\r\\xdf2\\xf3V\\xedx\\x83_n\\x94\\xde\\xb2\\x16\\xafz}fv\\x9a\\xb3\\xdal8o\\xb7\\xf2\\xec\\xe7w\\xef\\xfey\\xb6e\\xa2\\x99\\x90J\\xd9\\xa6\\xc5\\xbd?\\xffcBl#>Y\\x1e<\\xfcgzn\\xc4\\xf4\\xbc\\x9d\\xa6z\\xcd\\x1aa\\xb6\\xea\\xfc\\xac\\x9d\\x9e\\x9f\\xb9\\x7f\\xf6?\\xb8\\xfb\\x7f1;VA.\\\\`\\xb8\\xde\\xf3\\xc9\\x94\\\\*\\xb3\\x13-\\x93\\xa4\\xe6\\xd0\\xe5\\x86\\xeb-\\xafY\\xcd\\r\\x89\\xf0RUb\\xae\\xdf\\x92\\xd8VB\\x91\\xa0\\xfb\\xaek\\xb5g\\xcf\\xce\\x9d\\x06a\\xb2\\xcaS2\\x0fIXda\\x10\\xd18\\x9a\\xd3\\xb9{\\xa7\\xab0\\t\\xa2\\xee\\xbf\\t\\xc9\\xf2\\xf02-\\xb2hEc\\x9aG\\x94\\x14tY\\x92Y\\xf7\\x9f\\xb4\\x7f\\x0cN\\xe4M\\xab\\x95\\x93(\\xe7\\x90\\x08&\\x16\\xcc\\xbd\\x15L\\xda\\xda}Y2\\xb1\\xeb\\xfe\\xf7clGE3\\xad\\xf6\\xa2?2P\\xba\\x16Rr=\\xd4\\xe9(\\xc1\\xe1\\xce\\x07JB\\x1b\\xb8{\\x8ca\\xc9!\\xf8NIX\\xb4\\xe9\\x15\\xa0\\xad\\x93\\xbe\\xfb\\xde\\x90L\\xf3\\xcd\\x9d\\xad\\x99\\x16\\xc3\\x03\\xd4v\\'\\xf9GE\\xa8\\x11\\xa6g\\x82O\\x9c\\xf1\\x0b\\xd5\\xf2\\xde\\x18\\x92\\xe4\\xe2\\xb9S\\xa7\\xc1\\x18\\xdb\\x95\\xa8Z\\xa5I\\xde\\xdd*Cr\\xdb\\xdd~\\x1d\\x98K5\\xc6J\\x10\\xc1\\xb7\\x0b\\xde\\xc0\\n\\x92\\x94\\xfa\\xda\\t^\\xb0\\x86\\\\p)v\\xdc\\xc7\\xb4\\x14\\x9a\\xddH\\x85XzNu\\xa1\\x9aZ=\\x84\\xd6\\\\ \\xe0\\xaa\\x81\\xcaG\\x8f\\xc0\\xa4\\xacRR\\x0e\\xb4{D\\xb1V\\xf2\\xf9-\\x0f\\xbfjf\\xab!\\xf3]\\xc0\\x91\\x19\\xcd\\xf3\\xb4 q\\x19\\xa4d\\x95\\x97\\xf3\\x90\\x96\\xa3G\\xcd\\x98\\xe1$5J7\\xe3\\xc2\\x04LK\\x185p~\\xd2\\r3.\"\\x03&\\xd9v\\\\\\xc3;\\x96+\\xd8uf\\x11\\xd0\\x83\\xfb\\xefe\\r\\xe2(\\x89 \\'\\xb2gI\\x174\\x8ei\\x12\\x16d\\x9e#\\ti\\xb9\\xa2\\xc8\\xb3\\x84^9}\\x88\\xfb\\x88\\xe8\\xa8\"\\x81\\xecn\\x1bQ)\\xf24$C\\tQ\\x91\\xe3\\r\\x99\\xab>@b+\\x0c\\xb9b\\x12\\x01\\x0f\\x06x]kV\\x0f\\x15y.\\xdf2D\\xcegi\\x8c\\x8cNR\\xc8F.\\xe24G\\xdeCTJ\\xc28\\x8d\\n|\\x8d\\xe8\\x1f$J\\x8a2\\xf9\\xe3\\x15r\\xba\\x98\\x9b)\\xfd\\x91\\x11\\xaa\\x91\\x1f\\xba\\xfb6\\xb4\\xd2=V\\x05\\xea\\x93\\x15\\xdbk\\x8f\\x8b\\xd4\\x97\\rs\\x009n\\x1f\\xab\\x01\\x93\\x92m\\xfc4\\xa2\\xea\\xbe\\x8f\\x9e\\xe1\\xfc\\xbea(\\x00^\\n\\xa4Y+Z@(P\\xc0O\\xb8\\x13lw\\xe2:\\x05\\xf7\\x8c\\'\\x02\\x04\\x8a\\xa4d;\\xee%q\\xc1\\x1b\\xb3\\xb5\\x1a\\xa4\\xed\\xe3Z\\xb0t\\xe9\\x0fp\\x1c\\x8fi\\x87\\xc3VV\\x9b\\xeeO\\xafZ\\x89\\xe8\\xfer\\x10\\xa4\\xae\\xb9n\\x1d&\\xbe\\x88c\\x8f\\xaf\\xce\\x98\\xbb\\xd7o\\xd5\\x8cw\\x7f\\xf5\\xe0\\xe3\\xb3hf\\xfb+\\x97\\xaai[?\\x9d>\\xa1Dfa\\xf7\\xc6\\x17O\\x87\\xf2\\x04\\x0ch<@\\xd7\\x13\\xf5I\\xd6\\xa0I\\xf0\\x86\\x8dK\\x07`8\\xd2\\x92;|Y\\xb1\\xb5e\\x87\\xa7O\\x13p\\xb5\\x8c\\x04\\xda\\x0e\\xd0\\xfe\\xb1\\x81Wj\\xdb\\xfd9\\nA\\x80\\x9e2_\\xb8\\xcaM\\t-\\xa2\\xa2/\\xe2\\x94d\\xe5,\\x8e\\x02\\x97\\xe0\\x84\\xc6\\xe1\\x07\\x9a\\xcc\\xfb\\xa2\\x1f\\x93<J=\"IW\\xb5\\xf7\\xacVz\\x94\\xe8\\x0e\\x89H\\xcc]\\xe9D\\xe1Hu\\xcb\\xd7\\x0c!S\\xeb\\xeevm\\xf9\\xb82w\\xac\\x97\\xc0a\\xe0\\x05\\xb9\\xe4\\r8\\xe0\\xa6\\xaf\\x00\\x11\\xb6\\xe7\\xc3:}4\\xc3c\\xf8\\x03x\\xef\\x01\\x94\\xac\\xfa7o|,\\xa8\\xc6\\xf4Z\\xb3\\r\\xdb\\x92\\x85\\xaa\\xd5\\x17\\xd2G\\xe1\\xb8^\\x8e\\xde\\xae\\xadA\\xd8\\x87\\xc6 4z\\xf4\\xf7%\\x9e+\\xf8\\xa1n\\xb8cY!\\xd7\\xd1\\x87-\\x98\\xac\\xd9vXc\\x1f4q<\\x9f9\\x10\\x11\\xa9\\xb5P\\xcd\\xd7\\xee\\x9b\\x84\\x01\\xd0\\xb2\\xb4\\'\\xb8\\\\\\x89\\xff\\x8c\\x82$q!\\t\\xb8~\\x01\\xf7\\xef\\x11\\xd7\\t\\xb6X\\xcc\\xbc\\xba.\\xa0)\\x83!/\\xb4\\x80%GIQ\\x822\\xe1)\\xaf\\x17h)\\x84G\\x148{+\\xd01\\xc0a\\xba\\x15\\xe3\\xd8si9\\x00lT\\x8c\\x98\\x91\\xc2\\xf5\\x96\\xe3\\x00\\x17\\xb3\\x8f\\xbe\\x1f\\r\\xb9\\x14\\x08N\\xcd\\xc6q4\\xe6\\xd7v\\\\\\x00\\xb4\\x91/\\xf4NG\\xbf\\xc6\\x92}!\\xee1~\\x82j\\xc7\\x05LX%\\xb6\\x02\\xf81\\x0e3\\x19\\xf3V\\x93\\xcc\\xcd6\\xe4\\r\\x89\\x85FJ\\x8d\\x1b:\\x13\\xd5FH\\xbe\\x1dW5\\x13\\xad\\xb67\\x9f\\xac\\x0fe\\x8fm\\xb9\\x1bE$\\xb9\\xb4\\xcc\\xb8\\xee\\x05\\xd5\\x13P\\x8fN\\x16\\x9dI\\x0f\\x9a\\xc8l\\xf1\\xb5\\xc5@\\x90[1\\x0e\\x0c\\x99A\\xf5\\x17\\xdd\\xb7\\x16\\xb1\\xa8H\\xdfHg\\x10R\\xecv\\x9c\\xb8\\xf0\\xc3\\r\\x0eV3\\xdb2\\xeeC\\xe2\\xbb\\x12R0\\xa0I=\\x9c\\x13\\x8e\\xce\\xfa\\xcd\\n\\xb9\\x83~\\xa3\\xbe\\xca\\xf9\\x1aC\\xe3a\\xce\\xa2p\\xca\\r[3\\xa4\\xcbi\\xfa\\xdcU\\x14\\x07\\xfeo\\xc8e\\x9e\\x8f\\xd2\\xbbz\\x11\\xb0\\xad\\x90\\xfd\\xd81\\xde\\xc0\\x1f%>0\\xb8N\\xd6{\\xe6\\x07e<Z\\xb9C>X<`\\xcb\\xb9@\\x99\\xc7g\\x8c\\x0ft\\xf4\\x1e\\xecq\\\\}\\xdf\\t\\xea\\x99\\xf5\\xa40\\x08\\xd9a@\\xe9/r\\xa2\\xdc\\x8f\\x7f\\xe3Q}\\xa8\\x813\\x86Q\\xc6\\xe3\\xb0\\x03\\x95\\x93}\\xdc\\x07\\x8eF\\xa0QBAr\\x89\\x04\\x15\\xfba\\x18\\r\\xf3J\\x98\\x06\\xb2ke\\x8d\\x19G\\xba\\x15\\x93\\x9ef`\\xa5*\\xe5\\xef\\xb0V\\x9a\\x01a|I\\x03\\n\\x8b\\xbd\\x81\\x92\\xdd\\xf7\\xb5\\x0bt\\xd7\\x91\\xaa\\xa6\\xe2;\\x7f\\xb7\\x89~\\xbf\\x16\\xfb\\xe1\\x10z\\x0c\\x8e\\xc3\\xf4\\xe8\\'\\xb0\\xe8\\xc0\\x9e\\x87\\x0e\\x10u/\\xdc\\xb2\\xe08\\xad\\xfb\\xe4)\\xc2\\xfc*\\n\\xa2~\\xda)h\\\\\\xce\\t\\r\\xd2$\\xa0\\x8br0/\\x0c\\x0f\\xf6$\\xd1\\x0b\\xc4nBdMw\\xcbH\\xe2\\xea\\xe2i\\xb9\\xd1?\\xdcs\\x14v\\xd0\\xbb\\xbc yN\\xcb\\x80&n\\xb7Q\\xe6\\xe4~\\xd9\\xe1\\xe6\\xb8\\xa4\\x0c\\xaf(\\x89\\x96Y\\x88y-\\x1e\\xdc<\\xb4\\x81;i\\xd0R\\xbd\\xa4\\x93\\x18F\\xd7\\x08\\xd9\\xa3Y\\x1c!\\xdcgl\\xa2\\x90L\\x81\\xe6{\\x8cA\\xaf\\x10\\xea\\xf7\"LN[m\\x86u\\x03V:\\xb7\\x83\\xec\\x1c\\xca\\x15\\x00\\x8e!\\xc2\\xe93\\xc7\\x86\\xbd\\xe1\\x91\\xaen,\\x99\\x95\\xafpo?\\x86pl\\xe9*\\xb6\\xefnO\\xeb\\x1f\\xfdV\\xe2/<-\\xed\\x12\\xb8\\x8e\\xe9\\x05\\x1d\\xd5+h\\x9fl\\x8b\\x02\\xb7s\\x1a\\x0ewC5\\x9fN\\xf4\\xaf\\x8c\\xe7\\xa7L)6{\\xb5\\x83\\xb4\\x1f\\x15\\xf2\\x0e\\tO\\x1b\\xec\\xe9\\x82\\x009\\xf1\\xa37!\\xeb\\xeeq\\xf74kb\\xaf_\\xf0\\xfa \\xb5\\xd2 \\x88\\xe6XW\\x86\\x0f\\tZ\\xd0\\x84|(\\xf1@\\xa6\\xce\\xa3\\xb48\\xadYZ\\xa4y\\xf2\\x8a\\xfc\\x1c\\x03\\xd9\\xa1CA\\xb9C\\xad\\xean\\xcda\\xf5\\xe6\\xa0\\xad\\x19\\xee\\xfa^`\\xc4l\\xed6\\xa3.\\xec5\\x1a\\x04\\xd7\\x85\\xc8\\'M\\xe1\\x196\\xcf\\xd3\\xff\\x03\\x00\\x00\\xff\\xff\\x03\\x00PK\\x03\\x04\\x14\\x00\\x06\\x00\\x08\\x00\\x00\\x00!\\x00;m2K\\xc1\\x00\\x00\\x00B\\x01\\x00\\x00#\\x00\\x00\\x00xl/worksheets/_rels/sheet1.xml.rels\\x84\\x8f\\xc1\\x8a\\xc20\\x14E\\xf7\\x03\\xfeCx{\\x93\\xd6\\x85\\x0cCS7\"\\xb8U\\xe7\\x03b\\xfa\\xda\\x06\\xdb\\x97\\x90\\xf7\\x14\\xfd{\\xb3\\x1ce\\xc0\\xe5\\xe5p\\xcf\\xe56\\x9b\\xfb<\\xa9\\x1bf\\x0e\\x91,\\xd4\\xba\\x02\\x85\\xe4c\\x17h\\xb0\\xf0{\\xda-\\xbfA\\xb18\\xea\\xdc\\x14\\t-<\\x90a\\xd3.\\xbe\\x9a\\x03NNJ\\x89\\xc7\\x90X\\x15\\x0b\\xb1\\x85Q$\\xfd\\x18\\xc3~\\xc4\\xd9\\xb1\\x8e\\t\\xa9\\x90>\\xe6\\xd9I\\x89y0\\xc9\\xf9\\x8b\\x1b\\xd0\\xac\\xaajm\\xf2_\\x07\\xb4/N\\xb5\\xef,\\xe4}W\\x83:=RY\\xfe\\xec\\x8e}\\x1f<n\\xa3\\xbf\\xceH\\xf2\\xcf\\x84I9\\x90`>\\xa2H9\\xc8E\\xed\\xf2\\x80bA\\xebw\\xf6\\x9ek}\\x0e\\x04\\xa6m\\xcc\\xcb\\xf3\\xf6\\t\\x00\\x00\\xff\\xff\\x03\\x00PK\\x03\\x04\\x14\\x00\\x06\\x00\\x08\\x00\\x00\\x00!\\x00\\xb1\\x0b\\xd9\\xcb\\xca\\x01\\x00\\x00P\\r\\x00\\x00\\'\\x00\\x00\\x00xl/printerSettings/printerSettings1.bin\\xecV\\xcdK\\x02A\\x14\\xff\\x8di\\x89\\ty\\xea\\xe3\\xb6Q\\xe0Ea\\xf5\\xd2\\xb1\\x0c\\x02\\x151I\\x8anb\\xb8\\x90\\x11\\x19\\xea?\\xd1-\\xe8\\x1f\\xe8\\xcf\\xf0\\xdc\\xc9\\x83\\xa7\\x8e\\xe1\\xd1S\\xe7:ti{of]W\\xd4\\x85\\xd8\\x15\\xa4|\\xc3\\x0co\\xde\\xee\\xfb\\x987\\xefc\\x8e\\xd1D\\x03m\\\\\\xc3 LC\\x16\\x05$\\x91B\\x1a:\\r\\r-I\\xaf\\xd3\\xda\\xc24\\x10A\\x88>\\xda\\xd1\\x8d\\'\\x01\\x1e\\xef\\x91F\\xb8&\\xb1\\x84\\xe0=\\xaf \\x99\\x06\\xe9hKYS\\xc5\\xcc\\x95\\xf8\\xd8\\xf9Z\\x1d)\\x08\\xd8\\xa8@7\\xd4\\r\\xa9\\xd5\\x0f\\x03\\xe8\\xa4|\\xd8\\xe1\\nV*\\xb0\\xe6$\\x81\\xb5\\x07\\xa4\\xab6\\x95J\\xe2`\\x9a\\xfa\\x8b\\x90\\x1d`\\x10U\\x9f:\\xeb\\xc0\\xfd\\x96\\xc2\\xfb!\\xe0rd\\xba$~\\x9b\\xb3\\xad> \\x19o4c\\xf1\\xf1\\xf9\\x1c\\x01^\\xc8\\xb0\\x0e\\xcdD\\x108\"\\xfd\\xaf$f[\\x8a\\x8a\\xc5y(\\x8eI\\xd9\\xeap\\x96\\x11\\xf2^g\\xeb\\xff\\xdb_T\\xacS\\xe8\\xf8\\n&A\\xcdg\\xc7\\xf5z=W\\x89\\x19\\xca\\xfa:\\xaa\\xb8\\xf5\\xa0wi30\\x7f?s\\xcc\\x8d<\\xcd\\x95k\\xc5\\x8a?\\x15\\x8d|\\x81\\x01Yy%yA\\xf2s\\x9f\\xac\\xfa\\xa4\\xb8\\x9e\\x12^\\xd2L?\\xe2\\x8f\\xc5\\x0fS\\xd1\\xe7\\x94t\\xcd\\n!\\xc2\\x10B\\xb7\\xeb\\xfd\\xafR\\x88\\xeeG\\xf6\\x02b\\xe2\\xfb\\xe3\\xaa\\xeb\\x054\\x8b\\xb9\\\\\\xca\\x14s\\xe5\\xac-\\x8a\\xda\\xc6\\x04\\x94\\xcer\\x17\\xc2\\xcc\\x16\\x92\\xa9\\xb4\\xaek-\\xa3Y7\\x9c\\xcd\\xfd\\xd0\\xc9\\xb0+7\\x1f\\xb6[M\\xc2\\x1eb\\xeesL!\\xf50\\xee\\'\\x03\\xea57\\xf4\\xd2\\xb8\\xa37E\\x15W4\\xf9\\xddQ\\xf5v\\xe8%\\xf7\\x02z \\x8fS\\x14\\xbd\\xdae\\xc5\\x9b\\xaawjS\\xc1\\x1e\\x8d\"I?G\\x19\\'rWAe\\x19\\x03\\xff\\xce\\x03yYG\\x16\\xf3\\xd8?\\x00\\x00\\x00\\xff\\xff\\x03\\x00PK\\x03\\x04\\x14\\x00\\x06\\x00\\x08\\x00\\x00\\x00!\\x00V\\xf7X\\x84@\\x01\\x00\\x00e\\x02\\x00\\x00\\x11\\x00\\x08\\x01docProps/core.xml \\xa2\\x04\\x01(\\xa0\\x00\\x01\\x00\\x00\\x00\\x00\\x00\\x00\\x00\\x00\\x00\\x00\\x00\\x00\\x00\\x00\\x00\\x00\\x00\\x00\\x00\\x00\\x00\\x00\\x00\\x00\\x00\\x00\\x00\\x00\\x00\\x00\\x00\\x00\\x00\\x00\\x00\\x00\\x00\\x00\\x00\\x00\\x00\\x00\\x00\\x00\\x00\\x00\\x00\\x00\\x00\\x00\\x00\\x00\\x00\\x00\\x00\\x00\\x00\\x00\\x00\\x00\\x00\\x00\\x00\\x00\\x00\\x00\\x00\\x00\\x00\\x00\\x00\\x00\\x00\\x00\\x00\\x00\\x00\\x00\\x00\\x00\\x00\\x00\\x00\\x00\\x00\\x00\\x00\\x00\\x00\\x00\\x00\\x00\\x00\\x00\\x00\\x00\\x00\\x00\\x00\\x00\\x00\\x00\\x00\\x00\\x00\\x00\\x00\\x00\\x00\\x00\\x00\\x00\\x00\\x00\\x00\\x00\\x00\\x00\\x00\\x00\\x00\\x00\\x00\\x00\\x00\\x00\\x00\\x00\\x00\\x00\\x00\\x00\\x00\\x00\\x00\\x00\\x00\\x00\\x00\\x00\\x00\\x00\\x00\\x00\\x00\\x00\\x00\\x00\\x00\\x00\\x00\\x00\\x00\\x00\\x00\\x00\\x00\\x00\\x00\\x00\\x00\\x00\\x00\\x00\\x00\\x00\\x00\\x00\\x00\\x00\\x00\\x00\\x00\\x00\\x00\\x00\\x00\\x00\\x00\\x00\\x00\\x00\\x00\\x00\\x00\\x00\\x00\\x00\\x00\\x00\\x00\\x00\\x00\\x00\\x00\\x00\\x00\\x00\\x00\\x00\\x00\\x00\\x00\\x00\\x00\\x00\\x00\\x00\\x00\\x00\\x00\\x00\\x00\\x00\\x00\\x00\\x00\\x00\\x00\\x00\\x00\\x00\\x00\\x00\\x00\\x00\\x00\\x00\\x00\\x00\\x00\\x00\\x00\\x00\\x00\\x00\\x00\\x00\\x00\\x00\\x00\\x00\\x00\\x00\\x00\\x00\\x00\\x00\\x00\\x00\\x00\\x00\\x00\\x00\\x00\\x00\\x8c\\x92_K\\xc30\\x14\\xc5\\xdf\\x05\\xbfC\\xc9{\\x9b\\xa4\\x15\\x91\\xd0v\\xa0\\xb2\\'\\x07\\x82\\x13\\xc5\\xb7\\x98\\xdcm\\xd5\\xe6\\x0fI\\xb4\\xdb\\xb77\\xed\\xb6\\xda1\\x1f|\\xcc=\\'\\xbf\\x9csI9\\xdb\\xaa6\\xf9\\x06\\xe7\\x1b\\xa3+D3\\x82\\x12\\xd0\\xc2\\xc8F\\xaf+\\xf4\\xbc\\x9c\\xa77(\\xf1\\x81k\\xc9[\\xa3\\xa1B;\\xf0hV_^\\x94\\xc22a\\x1c<:c\\xc1\\x85\\x06|\\x12I\\xda3a+\\xb4\\t\\xc12\\x8c\\xbd\\xd8\\x80\\xe2>\\x8b\\x0e\\x1d\\xc5\\x95q\\x8a\\x87xtkl\\xb9\\xf8\\xe4k\\xc09!\\xd7XA\\xe0\\x92\\x07\\x8e{`jG\": \\xa5\\x18\\x91\\xf6\\xcb\\xb5\\x03@\\n\\x0c-(\\xd0\\xc1c\\x9aQ\\xfc\\xeb\\r\\xe0\\x94\\xff\\xf3\\xc2\\xa0L\\x9c\\xaa\\t;\\x1b;\\x1d\\xe2N\\xd9R\\xec\\xc5\\xd1\\xbd\\xf5\\xcdh\\xec\\xba.\\xeb\\x8a!F\\xccO\\xf1\\xeb\\xe2\\xe1i\\xa8\\x9a6\\xba\\xdf\\x95\\x00T\\x97R0\\xe1\\x80\\x07\\xe3\\xea\\x0f\\xa3\\x13\\xfe\\xce\\x9d\\xe1%\\x9e\\x8c\\xfb\\x15\\xb6\\xdc\\x87E\\xdc\\xf6\\xaa\\x01y\\xbb;q\\x9e\\xab\\x919T\\xd8\\x83A&1\\x14\\xdbW8*/\\xc5\\xdd\\xfdr\\x8e\\xea\\x9c\\xe4$\\xa5$\\xcd\\xe9\\x92\\x16\\xac \\xec\\x8a\\xbc\\xf5\\x8f\\x9f\\xdc\\xefC\\xee\\x07\\xea\\x10\\xe1\\xffD\\xca\\x8abB<\\x02\\xea\\x12\\x9f}\\x8c\\xfa\\x07\\x00\\x00\\xff\\xff\\x03\\x00PK\\x03\\x04\\x14\\x00\\x06\\x00\\x08\\x00\\x00\\x00!\\x00\\xbd\\x93\\xadF\\x98\\x01\\x00\\x00\\x1f\\x03\\x00\\x00\\x10\\x00\\x08\\x01docProps/app.xml \\xa2\\x04\\x01(\\xa0\\x00\\x01\\x00\\x00\\x00\\x00\\x00\\x00\\x00\\x00\\x00\\x00\\x00\\x00\\x00\\x00\\x00\\x00\\x00\\x00\\x00\\x00\\x00\\x00\\x00\\x00\\x00\\x00\\x00\\x00\\x00\\x00\\x00\\x00\\x00\\x00\\x00\\x00\\x00\\x00\\x00\\x00\\x00\\x00\\x00\\x00\\x00\\x00\\x00\\x00\\x00\\x00\\x00\\x00\\x00\\x00\\x00\\x00\\x00\\x00\\x00\\x00\\x00\\x00\\x00\\x00\\x00\\x00\\x00\\x00\\x00\\x00\\x00\\x00\\x00\\x00\\x00\\x00\\x00\\x00\\x00\\x00\\x00\\x00\\x00\\x00\\x00\\x00\\x00\\x00\\x00\\x00\\x00\\x00\\x00\\x00\\x00\\x00\\x00\\x00\\x00\\x00\\x00\\x00\\x00\\x00\\x00\\x00\\x00\\x00\\x00\\x00\\x00\\x00\\x00\\x00\\x00\\x00\\x00\\x00\\x00\\x00\\x00\\x00\\x00\\x00\\x00\\x00\\x00\\x00\\x00\\x00\\x00\\x00\\x00\\x00\\x00\\x00\\x00\\x00\\x00\\x00\\x00\\x00\\x00\\x00\\x00\\x00\\x00\\x00\\x00\\x00\\x00\\x00\\x00\\x00\\x00\\x00\\x00\\x00\\x00\\x00\\x00\\x00\\x00\\x00\\x00\\x00\\x00\\x00\\x00\\x00\\x00\\x00\\x00\\x00\\x00\\x00\\x00\\x00\\x00\\x00\\x00\\x00\\x00\\x00\\x00\\x00\\x00\\x00\\x00\\x00\\x00\\x00\\x00\\x00\\x00\\x00\\x00\\x00\\x00\\x00\\x00\\x00\\x00\\x00\\x00\\x00\\x00\\x00\\x00\\x00\\x00\\x00\\x00\\x00\\x00\\x00\\x00\\x00\\x00\\x00\\x00\\x00\\x00\\x00\\x00\\x00\\x00\\x00\\x00\\x00\\x00\\x00\\x00\\x00\\x00\\x00\\x00\\x00\\x00\\x00\\x00\\x00\\x00\\x00\\x00\\x00\\x00\\x00\\x00\\x00\\x00\\x00\\x00\\x00\\x00\\x00\\x9c\\x92An\\xdb0\\x10E\\xf7\\x05z\\x07\\x82\\xfb\\x98rZ\\x04\\x85A1(\\x9c\\x16.\\xd0\\xa2\\x06\\xecd\\xcfP#\\x9b-E\\n\\x9c\\xb1`\\xf76=K/\\xd6\\x91\\x848r\\xd3Uv3\\xf3G\\x9fO\\x9f\\xd4\\xb7\\xc7&\\x88\\x0e2\\xfa\\x14K9\\x9f\\x15R@t\\xa9\\xf2qW\\xca\\xfb\\xed\\xe7\\xab\\x0fR \\xd9X\\xd9\\x90\"\\x94\\xf2\\x04(o\\xcd\\xdb7z\\x9dS\\x0b\\x99<\\xa0`\\x8b\\x88\\xa5\\xdc\\x13\\xb5\\x0b\\xa5\\xd0\\xed\\xa1\\xb18c9\\xb2R\\xa7\\xdcX\\xe26\\xefT\\xaak\\xef\\xe0.\\xb9C\\x03\\x91\\xd4uQ\\xdc(8\\x12\\xc4\\n\\xaa\\xab\\xf6l(G\\xc7EG\\xaf5\\xad\\x92\\xeb\\xf9\\xf0a{j\\x19\\xd8\\xe8\\x8fm\\x1b\\xbc\\xb3\\xc4\\x7fi\\xbey\\x97\\x13\\xa6\\x9a\\xc4\\xa7\\xa3\\x83\\xa0\\xd5T\\xd4L\\xb7\\x01w\\xc8\\x9eN\\xa6\\xd0j\\xda\\xea\\x8d\\xb3\\x01\\x96llj\\x1b\\x10\\xb4z\\x1e\\xe8\\x15\\xd8>\\xb4\\xb5\\xf5\\x19\\x8d\\xeeh\\xd1\\x81\\xa3\\x94\\x05\\xfa_\\x1c\\xdb\\xb5\\x14\\x8f\\x16\\xa1\\xc7)eg\\xb3\\xb7\\x91\\x18\\xab_\\x1b\\x9b\\xa1\\x0e-R6\\xab\\xf4\\xc3\\xa2\\xa8@\\xb8?\\xbf\\x83;\\x84\\xa4\\x15\\xef\\x8d\\xdaPN?\\x99\\xd6\\xfe\\xbd\\x99\\x0f\\x0b\\\\\\\\.\\xf6\\x06#\\x0f\\x0b\\x97\\xa4[O\\x01\\xf0{\\xbd\\xb6\\x99\\xfe\\x03>\\x9f\\x82\\x0f\\x0c#\\xf6\\x88\\xf3%\"y:8\\x8e\\x15\\xf0\\x05\\xe6\\x10\\x00\\x1f\\xf8\\xcf\\x11\\xcb\\xd4\\xb46\\x9eX8W_}\\xfc\\x89\\xf7\\xed6\\xddY\\x82\\xa7p/\\x87z\\xb3\\xb7\\x19*\\xbe\\x8fs\\xf8\\xe7\\x81^q\\xae9\\xf4&\\xcb\\xbd\\x8d;\\xa8\\x9ev^\\n\\xfdSx\\x18\\xdf\\xbb\\x99\\xdf\\xcc\\x8aw\\x05\\xdf\\xf2d\\xa6\\xd5\\xf3\\xcb6\\x7f\\x01\\x00\\x00\\xff\\xff\\x03\\x00PK\\x01\\x02-\\x00\\x14\\x00\\x06\\x00\\x08\\x00\\x00\\x00!\\x00A7\\x82\\xcfn\\x01\\x00\\x00\\x04\\x05\\x00\\x00\\x13\\x00\\x00\\x00\\x00\\x00\\x00\\x00\\x00\\x00\\x00\\x00\\x00\\x00\\x00\\x00\\x00\\x00[Content_Types].xmlPK\\x01\\x02-\\x00\\x14\\x00\\x06\\x00\\x08\\x00\\x00\\x00!\\x00\\xb5U0#\\xf4\\x00\\x00\\x00L\\x02\\x00\\x00\\x0b\\x00\\x00\\x00\\x00\\x00\\x00\\x00\\x00\\x00\\x00\\x00\\x00\\x00\\xa7\\x03\\x00\\x00_rels/.relsPK\\x01\\x02-\\x00\\x14\\x00\\x06\\x00\\x08\\x00\\x00\\x00!\\x00i\\x01r\\x12v\\x03\\x00\\x00s\\x08\\x00\\x00\\x0f\\x00\\x00\\x00\\x00\\x00\\x00\\x00\\x00\\x00\\x00\\x00\\x00\\x00\\xcc\\x06\\x00\\x00xl/workbook.xmlPK\\x01\\x02-\\x00\\x14\\x00\\x06\\x00\\x08\\x00\\x00\\x00!\\x00\\x81>\\x94\\x97\\xf3\\x00\\x00\\x00\\xba\\x02\\x00\\x00\\x1a\\x00\\x00\\x00\\x00\\x00\\x00\\x00\\x00\\x00\\x00\\x00\\x00\\x00o\\n\\x00\\x00xl/_rels/workbook.xml.relsPK\\x01\\x02-\\x00\\x14\\x00\\x06\\x00\\x08\\x00\\x00\\x00!\\x00\\xc9\\xbbm\\x9fN\\x07\\x00\\x00\\xd6<\\x00\\x00\\x18\\x00\\x00\\x00\\x00\\x00\\x00\\x00\\x00\\x00\\x00\\x00\\x00\\x00\\xa2\\x0c\\x00\\x00xl/worksheets/sheet1.xmlPK\\x01\\x02-\\x00\\x14\\x00\\x06\\x00\\x08\\x00\\x00\\x00!\\x00\\x83Ml\\xc8V\\x07\\x00\\x00\\xc8 \\x00\\x00\\x13\\x00\\x00\\x00\\x00\\x00\\x00\\x00\\x00\\x00\\x00\\x00\\x00\\x00&\\x14\\x00\\x00xl/theme/theme1.xmlPK\\x01\\x02-\\x00\\x14\\x00\\x06\\x00\\x08\\x00\\x00\\x00!\\x00\\xde\\xe8B\\xf7\\xe2\\x03\\x00\\x00\\xff\\r\\x00\\x00\\r\\x00\\x00\\x00\\x00\\x00\\x00\\x00\\x00\\x00\\x00\\x00\\x00\\x00\\xad\\x1b\\x00\\x00xl/styles.xmlPK\\x01\\x02-\\x00\\x14\\x00\\x06\\x00\\x08\\x00\\x00\\x00!\\x00\\x8c\\xd1pv\\xfd\\x06\\x00\\x00\\xb8\\x16\\x00\\x00\\x14\\x00\\x00\\x00\\x00\\x00\\x00\\x00\\x00\\x00\\x00\\x00\\x00\\x00\\xba\\x1f\\x00\\x00xl/sharedStrings.xmlPK\\x01\\x02-\\x00\\x14\\x00\\x06\\x00\\x08\\x00\\x00\\x00!\\x00;m2K\\xc1\\x00\\x00\\x00B\\x01\\x00\\x00#\\x00\\x00\\x00\\x00\\x00\\x00\\x00\\x00\\x00\\x00\\x00\\x00\\x00\\xe9&\\x00\\x00xl/worksheets/_rels/sheet1.xml.relsPK\\x01\\x02-\\x00\\x14\\x00\\x06\\x00\\x08\\x00\\x00\\x00!\\x00\\xb1\\x0b\\xd9\\xcb\\xca\\x01\\x00\\x00P\\r\\x00\\x00\\'\\x00\\x00\\x00\\x00\\x00\\x00\\x00\\x00\\x00\\x00\\x00\\x00\\x00\\xeb\\'\\x00\\x00xl/printerSettings/printerSettings1.binPK\\x01\\x02-\\x00\\x14\\x00\\x06\\x00\\x08\\x00\\x00\\x00!\\x00V\\xf7X\\x84@\\x01\\x00\\x00e\\x02\\x00\\x00\\x11\\x00\\x00\\x00\\x00\\x00\\x00\\x00\\x00\\x00\\x00\\x00\\x00\\x00\\xfa)\\x00\\x00docProps/core.xmlPK\\x01\\x02-\\x00\\x14\\x00\\x06\\x00\\x08\\x00\\x00\\x00!\\x00\\xbd\\x93\\xadF\\x98\\x01\\x00\\x00\\x1f\\x03\\x00\\x00\\x10\\x00\\x00\\x00\\x00\\x00\\x00\\x00\\x00\\x00\\x00\\x00\\x00\\x00q,\\x00\\x00docProps/app.xmlPK\\x05\\x06\\x00\\x00\\x00\\x00\\x0c\\x00\\x0c\\x00&\\x03\\x00\\x00?/\\x00\\x00\\x00\\x00'}"
            ]
          },
          "metadata": {
            "tags": []
          },
          "execution_count": 192
        }
      ]
    },
    {
      "cell_type": "code",
      "metadata": {
        "id": "pAJgDsWtKOEu",
        "outputId": "db4eedef-8a03-461a-962b-9b74e9b65b76",
        "colab": {
          "base_uri": "https://localhost:8080/",
          "height": 128
        }
      },
      "source": [
        "from google.colab sa\n",
        "files.download()"
      ],
      "execution_count": 194,
      "outputs": [
        {
          "output_type": "error",
          "ename": "SyntaxError",
          "evalue": "ignored",
          "traceback": [
            "\u001b[0;36m  File \u001b[0;32m\"<ipython-input-194-94f2ad3b4696>\"\u001b[0;36m, line \u001b[0;32m1\u001b[0m\n\u001b[0;31m    from google.colab export files\u001b[0m\n\u001b[0m                           ^\u001b[0m\n\u001b[0;31mSyntaxError\u001b[0m\u001b[0;31m:\u001b[0m invalid syntax\n"
          ]
        }
      ]
    },
    {
      "cell_type": "code",
      "metadata": {
        "id": "Wm5FX6mT4pCu",
        "outputId": "928f9b35-fd18-4e83-bfee-de49600c2e3a",
        "colab": {
          "base_uri": "https://localhost:8080/",
          "height": 76
        }
      },
      "source": [
        "df.head(1)"
      ],
      "execution_count": 193,
      "outputs": [
        {
          "output_type": "execute_result",
          "data": {
            "text/html": [
              "<div>\n",
              "<style scoped>\n",
              "    .dataframe tbody tr th:only-of-type {\n",
              "        vertical-align: middle;\n",
              "    }\n",
              "\n",
              "    .dataframe tbody tr th {\n",
              "        vertical-align: top;\n",
              "    }\n",
              "\n",
              "    .dataframe thead th {\n",
              "        text-align: right;\n",
              "    }\n",
              "</style>\n",
              "<table border=\"1\" class=\"dataframe\">\n",
              "  <thead>\n",
              "    <tr style=\"text-align: right;\">\n",
              "      <th></th>\n",
              "      <th>NombreEmpresa</th>\n",
              "    </tr>\n",
              "  </thead>\n",
              "  <tbody>\n",
              "    <tr>\n",
              "      <th>0</th>\n",
              "      <td>Hospital de enfermedades InfecciDr. Lucio Cór...</td>\n",
              "    </tr>\n",
              "  </tbody>\n",
              "</table>\n",
              "</div>"
            ],
            "text/plain": [
              "                                       NombreEmpresa\n",
              "0   Hospital de enfermedades InfecciDr. Lucio Cór..."
            ]
          },
          "metadata": {
            "tags": []
          },
          "execution_count": 193
        }
      ]
    },
    {
      "cell_type": "markdown",
      "metadata": {
        "id": "Jp1qplhrKjBS"
      },
      "source": [
        "**Prueba de union entre dataframe y excel valentina**"
      ]
    },
    {
      "cell_type": "code",
      "metadata": {
        "id": "2Xa_zRYFdbR7",
        "outputId": "e009d3d5-8ce0-4a34-a030-5711e150d656",
        "colab": {
          "base_uri": "https://localhost:8080/",
          "height": 33
        }
      },
      "source": [
        "import pandas as pd\n",
        "\n",
        "xlsx = pd.ExcelFile(\"organizaciones.xlsx\")\n",
        "print(xlsx.sheet_names)"
      ],
      "execution_count": 150,
      "outputs": [
        {
          "output_type": "stream",
          "text": [
            "['Instituciones']\n"
          ],
          "name": "stdout"
        }
      ]
    },
    {
      "cell_type": "code",
      "metadata": {
        "id": "9_WOs81CdiUM",
        "outputId": "ea9f29d8-3ff2-4bc1-d3cd-f25b12e0acb3",
        "colab": {
          "base_uri": "https://localhost:8080/",
          "height": 245
        }
      },
      "source": [
        "df=xlsx.parse(\"Instituciones\")\n",
        "print(df)"
      ],
      "execution_count": 172,
      "outputs": [
        {
          "output_type": "stream",
          "text": [
            "                                             Organismo\n",
            "0     Hospital de enfermedades InfecciDr. Lucio Cór...\n",
            "1    CENTRO DE ESPECIALIDAD DE ATENCIÓN PREHOSPITAL...\n",
            "2               Centro de Referencia de Salud de Maipú\n",
            "3    Centro de Referencia de Salud Hospital Provinc...\n",
            "4                    Centro de Salud Cordillera Andina\n",
            "..                                                 ...\n",
            "119  SERVICIO DE SALUD OCCIDENTE HOSPITAL SAN JUAN ...\n",
            "120                           SERVICIO DE SALUD OSORNO\n",
            "121                         Servicio de Salud Valdivia\n",
            "122           Servicio de Salud Valparaíso San Antonio\n",
            "123          Servicio de Salud Viña del Mar - Quillota\n",
            "\n",
            "[124 rows x 1 columns]\n"
          ],
          "name": "stdout"
        }
      ]
    },
    {
      "cell_type": "code",
      "metadata": {
        "id": "wUOgACfAgf77",
        "outputId": "4c349779-1575-46ff-de7c-f1020527e89d",
        "colab": {
          "base_uri": "https://localhost:8080/",
          "height": 33
        }
      },
      "source": [
        "df.columns"
      ],
      "execution_count": 173,
      "outputs": [
        {
          "output_type": "execute_result",
          "data": {
            "text/plain": [
              "Index(['Organismo'], dtype='object')"
            ]
          },
          "metadata": {
            "tags": []
          },
          "execution_count": 173
        }
      ]
    },
    {
      "cell_type": "code",
      "metadata": {
        "id": "4Xkry7-bgmdz"
      },
      "source": [
        "df.columns = [\"NombreEmpresa\"]"
      ],
      "execution_count": 174,
      "outputs": []
    },
    {
      "cell_type": "markdown",
      "metadata": {
        "id": "gJfgugciKjOD"
      },
      "source": [
        "**Outer Merge**"
      ]
    },
    {
      "cell_type": "code",
      "metadata": {
        "id": "UWIUYLRWtqU7",
        "outputId": "d2071fd1-a690-4891-c37a-3ded4c365d42",
        "colab": {
          "base_uri": "https://localhost:8080/",
          "height": 245
        }
      },
      "source": [
        "import pandas as pd\n",
        "\n",
        "store_a_b_outer = pd.merge(df, df_empresas_todas, how='outer')\n",
        "\n",
        "print(store_a_b_outer)"
      ],
      "execution_count": 183,
      "outputs": [
        {
          "output_type": "stream",
          "text": [
            "                                         NombreEmpresa CodigoEmpresa\n",
            "0     Hospital de enfermedades InfecciDr. Lucio Cór...          7311\n",
            "1    CENTRO DE ESPECIALIDAD DE ATENCIÓN PREHOSPITAL...           NaN\n",
            "2               Centro de Referencia de Salud de Maipú          7317\n",
            "3    Centro de Referencia de Salud Hospital Provinc...           NaN\n",
            "4                    Centro de Salud Cordillera Andina           NaN\n",
            "..                                                 ...           ...\n",
            "888                          Universidad de Valparaíso         96996\n",
            "889                            Universidad del Bío-Bío         99805\n",
            "890  UNIVERSIDAD METROPOLITANA DE CIENCIAS DE LA ED...        164268\n",
            "891              UNIVERSIDAD TECNOLOGICA METROPOLITANA        126109\n",
            "892                             Zona Franca de Iquique          7438\n",
            "\n",
            "[893 rows x 2 columns]\n"
          ],
          "name": "stdout"
        }
      ]
    },
    {
      "cell_type": "code",
      "metadata": {
        "id": "6j4MuzpehEFH",
        "outputId": "aadd1c6b-efd5-4dda-c529-d3202aa3412e",
        "colab": {
          "base_uri": "https://localhost:8080/",
          "height": 33
        }
      },
      "source": [
        "df.columns"
      ],
      "execution_count": 175,
      "outputs": [
        {
          "output_type": "execute_result",
          "data": {
            "text/plain": [
              "Index(['NombreEmpresa'], dtype='object')"
            ]
          },
          "metadata": {
            "tags": []
          },
          "execution_count": 175
        }
      ]
    },
    {
      "cell_type": "code",
      "metadata": {
        "id": "3NMmGgrMfDpt"
      },
      "source": [
        "comparativo = pd.merge(df, df_empresas_todas)"
      ],
      "execution_count": 176,
      "outputs": []
    },
    {
      "cell_type": "code",
      "metadata": {
        "id": "iMEL-_7KhHho",
        "outputId": "1882a2a0-0637-4a37-f34d-c66267401a2b",
        "colab": {
          "base_uri": "https://localhost:8080/",
          "height": 76
        }
      },
      "source": [
        "comparativo.head(1)"
      ],
      "execution_count": 177,
      "outputs": [
        {
          "output_type": "execute_result",
          "data": {
            "text/html": [
              "<div>\n",
              "<style scoped>\n",
              "    .dataframe tbody tr th:only-of-type {\n",
              "        vertical-align: middle;\n",
              "    }\n",
              "\n",
              "    .dataframe tbody tr th {\n",
              "        vertical-align: top;\n",
              "    }\n",
              "\n",
              "    .dataframe thead th {\n",
              "        text-align: right;\n",
              "    }\n",
              "</style>\n",
              "<table border=\"1\" class=\"dataframe\">\n",
              "  <thead>\n",
              "    <tr style=\"text-align: right;\">\n",
              "      <th></th>\n",
              "      <th>NombreEmpresa</th>\n",
              "      <th>CodigoEmpresa</th>\n",
              "    </tr>\n",
              "  </thead>\n",
              "  <tbody>\n",
              "    <tr>\n",
              "      <th>0</th>\n",
              "      <td>Hospital de enfermedades InfecciDr. Lucio Cór...</td>\n",
              "      <td>7311</td>\n",
              "    </tr>\n",
              "  </tbody>\n",
              "</table>\n",
              "</div>"
            ],
            "text/plain": [
              "                                       NombreEmpresa CodigoEmpresa\n",
              "0   Hospital de enfermedades InfecciDr. Lucio Cór...          7311"
            ]
          },
          "metadata": {
            "tags": []
          },
          "execution_count": 177
        }
      ]
    },
    {
      "cell_type": "code",
      "metadata": {
        "id": "cRx1yHCqhM1_",
        "outputId": "01076581-3e22-44f7-fe65-f4fcac337c7c",
        "colab": {
          "base_uri": "https://localhost:8080/",
          "height": 391
        }
      },
      "source": [
        "comparativo"
      ],
      "execution_count": 178,
      "outputs": [
        {
          "output_type": "execute_result",
          "data": {
            "text/html": [
              "<div>\n",
              "<style scoped>\n",
              "    .dataframe tbody tr th:only-of-type {\n",
              "        vertical-align: middle;\n",
              "    }\n",
              "\n",
              "    .dataframe tbody tr th {\n",
              "        vertical-align: top;\n",
              "    }\n",
              "\n",
              "    .dataframe thead th {\n",
              "        text-align: right;\n",
              "    }\n",
              "</style>\n",
              "<table border=\"1\" class=\"dataframe\">\n",
              "  <thead>\n",
              "    <tr style=\"text-align: right;\">\n",
              "      <th></th>\n",
              "      <th>NombreEmpresa</th>\n",
              "      <th>CodigoEmpresa</th>\n",
              "    </tr>\n",
              "  </thead>\n",
              "  <tbody>\n",
              "    <tr>\n",
              "      <th>0</th>\n",
              "      <td>Hospital de enfermedades InfecciDr. Lucio Cór...</td>\n",
              "      <td>7311</td>\n",
              "    </tr>\n",
              "    <tr>\n",
              "      <th>1</th>\n",
              "      <td>Centro de Referencia de Salud de Maipú</td>\n",
              "      <td>7317</td>\n",
              "    </tr>\n",
              "    <tr>\n",
              "      <th>2</th>\n",
              "      <td>Complejo Asistencial Dr. Sotero del Rio</td>\n",
              "      <td>7320</td>\n",
              "    </tr>\n",
              "    <tr>\n",
              "      <th>3</th>\n",
              "      <td>Complejo Asistencial Dr. Victor Ríos Ruíz</td>\n",
              "      <td>7375</td>\n",
              "    </tr>\n",
              "    <tr>\n",
              "      <th>4</th>\n",
              "      <td>Consultorio Miraflores</td>\n",
              "      <td>7133</td>\n",
              "    </tr>\n",
              "    <tr>\n",
              "      <th>...</th>\n",
              "      <td>...</td>\n",
              "      <td>...</td>\n",
              "    </tr>\n",
              "    <tr>\n",
              "      <th>89</th>\n",
              "      <td>SERVICIO DE SALUD METROPOLITANO SUR</td>\n",
              "      <td>7006</td>\n",
              "    </tr>\n",
              "    <tr>\n",
              "      <th>90</th>\n",
              "      <td>Servicio de Salud Metropolitano Sur Oriente</td>\n",
              "      <td>7203</td>\n",
              "    </tr>\n",
              "    <tr>\n",
              "      <th>91</th>\n",
              "      <td>SERVICIO DE SALUD OCCIDENTE HOSPITAL SAN JUAN ...</td>\n",
              "      <td>7316</td>\n",
              "    </tr>\n",
              "    <tr>\n",
              "      <th>92</th>\n",
              "      <td>SERVICIO DE SALUD OSORNO</td>\n",
              "      <td>7296</td>\n",
              "    </tr>\n",
              "    <tr>\n",
              "      <th>93</th>\n",
              "      <td>Servicio de Salud Viña del Mar - Quillota</td>\n",
              "      <td>7153</td>\n",
              "    </tr>\n",
              "  </tbody>\n",
              "</table>\n",
              "<p>94 rows × 2 columns</p>\n",
              "</div>"
            ],
            "text/plain": [
              "                                        NombreEmpresa CodigoEmpresa\n",
              "0    Hospital de enfermedades InfecciDr. Lucio Cór...          7311\n",
              "1              Centro de Referencia de Salud de Maipú          7317\n",
              "2             Complejo Asistencial Dr. Sotero del Rio          7320\n",
              "3           Complejo Asistencial Dr. Victor Ríos Ruíz          7375\n",
              "4                              Consultorio Miraflores          7133\n",
              "..                                                ...           ...\n",
              "89                SERVICIO DE SALUD METROPOLITANO SUR          7006\n",
              "90        Servicio de Salud Metropolitano Sur Oriente          7203\n",
              "91  SERVICIO DE SALUD OCCIDENTE HOSPITAL SAN JUAN ...          7316\n",
              "92                           SERVICIO DE SALUD OSORNO          7296\n",
              "93          Servicio de Salud Viña del Mar - Quillota          7153\n",
              "\n",
              "[94 rows x 2 columns]"
            ]
          },
          "metadata": {
            "tags": []
          },
          "execution_count": 178
        }
      ]
    },
    {
      "cell_type": "code",
      "metadata": {
        "id": "YK2LI02tfyz9"
      },
      "source": [
        "comparativo.head(1)"
      ],
      "execution_count": null,
      "outputs": []
    },
    {
      "cell_type": "code",
      "metadata": {
        "id": "6BKRXv4Qht52",
        "outputId": "da36af28-c15d-4f35-e691-ce7846a11e85",
        "colab": {
          "base_uri": "https://localhost:8080/",
          "height": 245
        }
      },
      "source": [
        "merged_df = pd.merge(df,df_empresas_todas)\n",
        "\n",
        "print(merged_df)"
      ],
      "execution_count": 171,
      "outputs": [
        {
          "output_type": "stream",
          "text": [
            "                                        NombreEmpresa CodigoEmpresa\n",
            "0    Hospital de enfermedades InfecciDr. Lucio Cór...          7311\n",
            "1              Centro de Referencia de Salud de Maipú          7317\n",
            "2             Complejo Asistencial Dr. Sotero del Rio          7320\n",
            "3           Complejo Asistencial Dr. Victor Ríos Ruíz          7375\n",
            "4                              Consultorio Miraflores          7133\n",
            "..                                                ...           ...\n",
            "89                SERVICIO DE SALUD METROPOLITANO SUR          7006\n",
            "90        Servicio de Salud Metropolitano Sur Oriente          7203\n",
            "91  SERVICIO DE SALUD OCCIDENTE HOSPITAL SAN JUAN ...          7316\n",
            "92                           SERVICIO DE SALUD OSORNO          7296\n",
            "93          Servicio de Salud Viña del Mar - Quillota          7153\n",
            "\n",
            "[94 rows x 2 columns]\n"
          ],
          "name": "stdout"
        }
      ]
    },
    {
      "cell_type": "code",
      "metadata": {
        "id": "oN3olLKkleUS",
        "outputId": "8efd599f-a5ec-4306-9b5f-adee120fe564",
        "colab": {
          "base_uri": "https://localhost:8080/",
          "height": 128
        }
      },
      "source": [
        "# EXPOERTAR UN ARCHIVO\n",
        "merged_df.to_excel (C:\\\\Users\\\\jon abaroa\\\\Desktop\\\\iberica\\\\codigo)"
      ],
      "execution_count": 182,
      "outputs": [
        {
          "output_type": "error",
          "ename": "SyntaxError",
          "evalue": "ignored",
          "traceback": [
            "\u001b[0;36m  File \u001b[0;32m\"<ipython-input-182-e109e21f1b75>\"\u001b[0;36m, line \u001b[0;32m2\u001b[0m\n\u001b[0;31m    merged_df.to_excel (C:\\\\Users\\\\jon abaroa\\\\Desktop\\\\iberica\\\\codigo)\u001b[0m\n\u001b[0m                         ^\u001b[0m\n\u001b[0;31mSyntaxError\u001b[0m\u001b[0;31m:\u001b[0m invalid syntax\n"
          ]
        }
      ]
    },
    {
      "cell_type": "code",
      "metadata": {
        "id": "Yt2HO8haiSOM",
        "outputId": "e85838ba-7a4e-49d7-d190-cfe52818511e",
        "colab": {
          "base_uri": "https://localhost:8080/",
          "height": 245
        }
      },
      "source": [
        "store_a_b_outer = pd.merge(df_empresas_todas,df, how='outer')\n",
        "\n",
        "print(store_a_b_outer)"
      ],
      "execution_count": 166,
      "outputs": [
        {
          "output_type": "stream",
          "text": [
            "    CodigoEmpresa                                      NombreEmpresa\n",
            "0         1034640   CORPORACION MUNICIPAL DE PEÑALOLEN PARA EL DE...\n",
            "1            7311   Hospital de enfermedades InfecciDr. Lucio Cór...\n",
            "2            7086  AGENCIA CHILENA DE COOPERACION INTERNACIONAL P...\n",
            "3         1224636           Agencia Chilena de Eficiencia Energética\n",
            "4            7193    Agencia de Promoción de la Inversión Extranjera\n",
            "..            ...                                                ...\n",
            "888           NaN                    Servicio de Salud del Reloncaví\n",
            "889           NaN            Servicio de Salud Metropolitano Oriente\n",
            "890           NaN                            Servicio de Salud Nuble\n",
            "891           NaN                         Servicio de Salud Valdivia\n",
            "892           NaN           Servicio de Salud Valparaíso San Antonio\n",
            "\n",
            "[893 rows x 2 columns]\n"
          ],
          "name": "stdout"
        }
      ]
    },
    {
      "cell_type": "code",
      "metadata": {
        "id": "o7jKnR4vizx-",
        "outputId": "8e6f568d-2bbf-4086-96eb-63142cdbee2b",
        "colab": {
          "base_uri": "https://localhost:8080/",
          "height": 82
        }
      },
      "source": [
        "store_a_b_outer.isna().value_counts()"
      ],
      "execution_count": 170,
      "outputs": [
        {
          "output_type": "execute_result",
          "data": {
            "text/plain": [
              "CodigoEmpresa  NombreEmpresa\n",
              "False          False            863\n",
              "True           False             30\n",
              "dtype: int64"
            ]
          },
          "metadata": {
            "tags": []
          },
          "execution_count": 170
        }
      ]
    },
    {
      "cell_type": "markdown",
      "metadata": {
        "id": "KCGXlTHQKiyr"
      },
      "source": [
        ""
      ]
    }
  ]
}