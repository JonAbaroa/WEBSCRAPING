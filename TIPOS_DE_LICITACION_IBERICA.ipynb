{
  "nbformat": 4,
  "nbformat_minor": 0,
  "metadata": {
    "colab": {
      "name": "TIPOS DE LICITACION_IBERICA.ipynb",
      "provenance": [],
      "collapsed_sections": [],
      "authorship_tag": "ABX9TyNmjHiFgpO+G2Rp9cywATid",
      "include_colab_link": true
    },
    "kernelspec": {
      "name": "python3",
      "display_name": "Python 3"
    }
  },
  "cells": [
    {
      "cell_type": "markdown",
      "metadata": {
        "id": "view-in-github",
        "colab_type": "text"
      },
      "source": [
        "<a href=\"https://colab.research.google.com/github/JonAbaroa/WEBSCRAPING/blob/main/TIPOS_DE_LICITACION_IBERICA.ipynb\" target=\"_parent\"><img src=\"https://colab.research.google.com/assets/colab-badge.svg\" alt=\"Open In Colab\"/></a>"
      ]
    },
    {
      "cell_type": "code",
      "metadata": {
        "id": "vjpOsLBQU6b8"
      },
      "source": [
        "import json\n",
        "import requests\n",
        "\n",
        "# Por {código} de Organismo Público:\n",
        "\n",
        "# Ejemplo   Nº1 {CódigoOrganismo} = 694\n",
        "# 694 = \n",
        "\n",
        "# ticket mercado publico de on iñaki abaroa schilling= 81D9D50E-E3EA-41F5-A456-0AD2B42E6D80\n",
        "\n",
        "# url1 = \"http://api.mercadopublico.cl/servicios/v1/publico/licitaciones.json?fecha={fecha}&CodigoOrganismo={CódigoOrganismo}&ticket=81D9D50E-E3EA-41F5-A456-0AD2B42E6D80\"\n",
        "\n",
        "#url1 = http://api.mercadopublico.cl/servicios/v1/publico/licitaciones.json?fecha=02022014&CodigoOrganismo=6945&ticket=81D9D50E-E3EA-41F5-A456-0AD2B42E6D80\n",
        "\n",
        "\n",
        "url1 = \"http://api.mercadopublico.cl/servicios/v1/publico/licitaciones.json?fecha=20102020&ticket=166E1F2D-5FD5-4063-BA75-CFA20CE6798B\"\n",
        "\n",
        "respuesta1=requests.request(\"GET\", url1)\n",
        "print(respuesta1)"
      ],
      "execution_count": null,
      "outputs": []
    }
  ]
}