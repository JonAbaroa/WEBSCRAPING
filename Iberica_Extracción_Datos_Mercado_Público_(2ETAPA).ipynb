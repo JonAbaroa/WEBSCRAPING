{
  "nbformat": 4,
  "nbformat_minor": 0,
  "metadata": {
    "colab": {
      "name": "Iberica_Extracción_Datos_Mercado_Público (2ETAPA).ipynb",
      "provenance": [],
      "collapsed_sections": [],
      "include_colab_link": true
    },
    "kernelspec": {
      "display_name": "Python 3",
      "language": "python",
      "name": "python3"
    },
    "language_info": {
      "codemirror_mode": {
        "name": "ipython",
        "version": 3
      },
      "file_extension": ".py",
      "mimetype": "text/x-python",
      "name": "python",
      "nbconvert_exporter": "python",
      "pygments_lexer": "ipython3",
      "version": "3.8.3"
    }
  },
  "cells": [
    {
      "cell_type": "markdown",
      "metadata": {
        "id": "view-in-github",
        "colab_type": "text"
      },
      "source": [
        "<a href=\"https://colab.research.google.com/github/JonAbaroa/WEBSCRAPING/blob/main/Iberica_Extracci%C3%B3n_Datos_Mercado_P%C3%BAblico_(2ETAPA).ipynb\" target=\"_parent\"><img src=\"https://colab.research.google.com/assets/colab-badge.svg\" alt=\"Open In Colab\"/></a>"
      ]
    },
    {
      "cell_type": "markdown",
      "metadata": {
        "id": "VfXCX9r-ltcj",
        "outputId": "2f761a76-8a9b-42d5-e9bf-35b9101558f7"
      },
      "source": [
        "# Iberica \n",
        "\n",
        "Consulta del día\n"
      ]
    },
    {
      "cell_type": "code",
      "metadata": {
        "id": "lbqMP-KhssWh"
      },
      "source": [
        "# Importando librerías\n",
        "\n",
        "import json\n",
        "import requests\n",
        "import pandas as pd\n",
        "import datetime\n",
        "from datetime import date"
      ],
      "execution_count": null,
      "outputs": []
    },
    {
      "cell_type": "code",
      "metadata": {
        "id": "tjMXTLlYssWv",
        "outputId": "0bd1ecd5-7962-4b64-8f22-dc80a39d5b8a",
        "colab": {
          "base_uri": "https://localhost:8080/",
          "height": 34
        }
      },
      "source": [
        "today = date.today()\n",
        "hoy = today.strftime(\"%d%m%Y\")\n",
        "print(\"d1 =\", hoy)"
      ],
      "execution_count": null,
      "outputs": [
        {
          "output_type": "stream",
          "text": [
            "d1 = 23102020\n"
          ],
          "name": "stdout"
        }
      ]
    },
    {
      "cell_type": "code",
      "metadata": {
        "id": "UHYQ9NXEssW9",
        "outputId": "e8b5095f-8236-4a51-a87f-c44afc61af6e",
        "colab": {
          "base_uri": "https://localhost:8080/",
          "height": 34
        }
      },
      "source": [
        "ticket_number = \"81D9D50E-E3EA-41F5-A456-0AD2B42E6D80\"\n",
        "\n",
        "\n",
        "url_dia = f\"http://api.mercadopublico.cl/servicios/v1/publico/licitaciones.json?fecha={hoy}&estado=publicada&ticket={ticket_number}\"\n",
        "respuesta =requests.request(\"GET\", url_dia)\n",
        "print(respuesta)"
      ],
      "execution_count": null,
      "outputs": [
        {
          "output_type": "stream",
          "text": [
            "<Response [200]>\n"
          ],
          "name": "stdout"
        }
      ]
    },
    {
      "cell_type": "code",
      "metadata": {
        "id": "x0gwOR1essXS",
        "outputId": "5e704a42-26da-430a-d139-ca1769a88e6c",
        "colab": {
          "base_uri": "https://localhost:8080/",
          "height": 124
        }
      },
      "source": [
        "respuesta.text"
      ],
      "execution_count": null,
      "outputs": [
        {
          "output_type": "execute_result",
          "data": {
            "application/vnd.google.colaboratory.intrinsic+json": {
              "type": "string"
            },
            "text/plain": [
              "'{\"Cantidad\":66,\"FechaCreacion\":\"2020-10-23T11:04:50.107\",\"Version\":\"v1\",\"Listado\":[{\"CodigoExterno\":\"3170-13-L120\",\"Nombre\":\"REPARACION DE CAJA MECANICA Y TOMA FUERZA CAMION CE-029\",\"CodigoEstado\":5,\"FechaCierre\":\"2020-11-06T18:00:00\"},{\"CodigoExterno\":\"1641-178-LP20\",\"Nombre\":\"CMO- MANTENCION PREV Y CORR INCUBADORAS MEDIX\",\"CodigoEstado\":5,\"FechaCierre\":\"2020-11-02T16:00:00\"},{\"CodigoExterno\":\"1469-112-L120\",\"Nombre\":\"“SERVICIOS DE PUBLICIDAD Y DIFUSIÓN PROYECTO “MONITOREO CALIDAD DEL AIRE” FIC 40.001.091-0, UNIVERSIDAD DE TALCA”\",\"CodigoEstado\":5,\"FechaCierre\":\"2020-10-30T15:00:00\"},{\"CodigoExterno\":\"5276-12-LE20\",\"Nombre\":\"PROVISION E INSTALACION DE ESTUFA DE CULTIVO\",\"CodigoEstado\":5,\"FechaCierre\":\"2020-11-02T19:55:00\"},{\"CodigoExterno\":\"2341-190-L120\",\"Nombre\":\"ADQ 2040/SP 41/SECPLA-ESTUDIOS Y PROYECTOS/MEJORAMIENTO SEDE SOCIAL SAN FRANCISCO II\",\"CodigoEstado\":5,\"FechaCierre\":\"2020-10-30T17:22:00\"},{\"CodigoExterno\":\"661-4-LQ20\",\"Nombre\":\"ACTUALIZACION DEL PLAN REGULADOR TIMAUKEL\",\"CodigoEstado\":5,\"FechaCierre\":\"2020-11-12T17:46:00\"},{\"CodigoExterno\":\"4766-11-LE20\",\"Nombre\":\"ADQUISICIÓN MEDICAMENTOS E INSUMOS, CONSULTORIO MUNICIPAL\",\"CodigoEstado\":5,\"FechaCierre\":\"2020-10-28T15:02:00\"},{\"CodigoExterno\":\"359-49-LE20\",\"Nombre\":\"ADQ. MASCARAS TERMOPLASTICAS PARA RADIOTERAPIA INC\",\"CodigoEstado\":5,\"FechaCierre\":\"2020-11-02T15:01:00\"},{\"CodigoExterno\":\"2735-98-LQ20\",\"Nombre\":\"APERTURA Y MANTENCIÓN DE CUENTAS CORRIENTES\",\"CodigoEstado\":5,\"FechaCierre\":\"2020-11-13T15:01:00\"},{\"CodigoExterno\":\"4884-19-LE20\",\"Nombre\":\"SERVICIO DE PRODUCCIÓN INTEGRAL BICICLETEARTE\",\"CodigoEstado\":5,\"FechaCierre\":\"2020-11-02T16:00:00\"},{\"CodigoExterno\":\"4032-29-L120\",\"Nombre\":\"Servicio instalaciones eléctricas para Programa Habitabilidad 2019\",\"CodigoEstado\":5,\"FechaCierre\":\"2020-10-29T13:00:00\"},{\"CodigoExterno\":\"5020-10-L120\",\"Nombre\":\"Adquisición de Lámpara lupa para dermatología\",\"CodigoEstado\":5,\"FechaCierre\":\"2020-10-30T15:15:00\"},{\"CodigoExterno\":\"2735-96-LQ20\",\"Nombre\":\"SERV. PROFESIONALES SALUD Y TENS PARA TURNOS\",\"CodigoEstado\":5,\"FechaCierre\":\"2020-11-13T10:00:00\"},{\"CodigoExterno\":\"1859-3-LE20\",\"Nombre\":\"ALIMENTACION BRIGADAS INCENDIOS CONAF OSORNO\",\"CodigoEstado\":5,\"FechaCierre\":\"2020-11-03T18:30:00\"},{\"CodigoExterno\":\"2428-53-L120\",\"Nombre\":\"ARENA, ESTABILIZADO Y GRAVILLA\",\"CodigoEstado\":5,\"FechaCierre\":\"2020-10-30T15:30:00\"},{\"CodigoExterno\":\"2780-103-L120\",\"Nombre\":\"COMPRA DE MEDICAMENTOS PARA CESFAM\",\"CodigoEstado\":5,\"FechaCierre\":\"2020-10-29T12:29:00\"},{\"CodigoExterno\":\"548874-67-LE20\",\"Nombre\":\"Htas. Online de Búsqueda e Indexación Algolia. IPS\",\"CodigoEstado\":5,\"FechaCierre\":\"2020-11-05T15:01:00\"},{\"CodigoExterno\":\"4881-25-L120\",\"Nombre\":\"TALLER DE GUITARRA EN FORMATO CAPSULAS AUDIOVISUALES - ATACAMA  \",\"CodigoEstado\":5,\"FechaCierre\":\"2020-10-29T15:00:00\"},{\"CodigoExterno\":\"966131-71-L120\",\"Nombre\":\"IMPRESION DE 500 trípticos para programa Quiero mi Barrio Castro\",\"CodigoEstado\":5,\"FechaCierre\":\"2020-10-29T11:33:00\"},{\"CodigoExterno\":\"3664-23-LE20\",\"Nombre\":\"PROYECTO SISTEMA DE AUDIO Y ESCENOTECNIA\",\"CodigoEstado\":5,\"FechaCierre\":\"2020-11-03T10:00:00\"},{\"CodigoExterno\":\"2111-116-LE20\",\"Nombre\":\"Suministro de Ácido Tranexamico 1 gr.\",\"CodigoEstado\":5,\"FechaCierre\":\"2020-11-04T15:00:00\"},{\"CodigoExterno\":\"1161-54-LE20\",\"Nombre\":\"CRJ-MANTENCION DE VEHICULOS FLOTA SAG X REGION\",\"CodigoEstado\":5,\"FechaCierre\":\"2020-11-03T19:00:00\"},{\"CodigoExterno\":\"2314-43-LQ20\",\"Nombre\":\"OBRAS DE CONSERVACION JARDIN INFANTIL SAN DANIEL \",\"CodigoEstado\":5,\"FechaCierre\":\"2020-11-12T16:22:00\"},{\"CodigoExterno\":\"963799-3-LE20\",\"Nombre\":\"Suministro de insumos varios de laboratorio\",\"CodigoEstado\":5,\"FechaCierre\":\"2020-11-09T15:17:00\"},{\"CodigoExterno\":\"3293-53-E220\",\"Nombre\":\"Reparación cerco multicancha sector sur\",\"CodigoEstado\":5,\"FechaCierre\":\"2020-10-29T12:17:00\"},{\"CodigoExterno\":\"3888-19-LE20\",\"Nombre\":\"ARRIENDO DE RETROEXCAVADORA\",\"CodigoEstado\":5,\"FechaCierre\":\"2020-11-02T15:30:00\"},{\"CodigoExterno\":\"4473-42-LE20\",\"Nombre\":\"INSUMOS PARA MANTENCIÓN DE ÁREAS VERDES Y ESPACIOS\",\"CodigoEstado\":5,\"FechaCierre\":\"2020-10-30T15:01:00\"},{\"CodigoExterno\":\"620956-11-LE20\",\"Nombre\":\"Módulos prefabricados para CF\",\"CodigoEstado\":5,\"FechaCierre\":\"2020-11-03T09:00:00\"},{\"CodigoExterno\":\"4525-73-L120\",\"Nombre\":\"MATERIALES PARA CONSTRUIR ESTANTES (T.J.) OPI-118\",\"CodigoEstado\":5,\"FechaCierre\":\"2020-10-29T12:00:00\"},{\"CodigoExterno\":\"620956-10-LE20\",\"Nombre\":\"SUMINISTRO, INSTALACIÓN Y CONFIGURACIÓN DE CÁMARAS\",\"CodigoEstado\":5,\"FechaCierre\":\"2020-10-30T09:00:00\"},{\"CodigoExterno\":\"4329-25-LE20\",\"Nombre\":\"SILLON DENTAL Y ACCESORIOS\",\"CodigoEstado\":5,\"FechaCierre\":\"2020-11-02T16:14:00\"},{\"CodigoExterno\":\"1006-14-LE20\",\"Nombre\":\"MOLDES DE RESINA\",\"CodigoEstado\":5,\"FechaCierre\":\"2020-11-06T15:00:00\"},{\"CodigoExterno\":\"3997-45-LE20\",\"Nombre\":\"CONSERV.PLAZA O´HIGGINS Y OTROS ESPACIOS PUBLICOS\",\"CodigoEstado\":5,\"FechaCierre\":\"2020-11-06T15:00:00\"},{\"CodigoExterno\":\"3710-98-L120\",\"Nombre\":\"ctto suministro reparaciones e instalaciones electricas y otras Cesfam Victoria. \",\"CodigoEstado\":5,\"FechaCierre\":\"2020-10-29T12:00:00\"},{\"CodigoExterno\":\"1057415-25-LE20\",\"Nombre\":\"CONV.SUMINISTRO AYUDAS TECNICAS Y ORTESIS H.NACTO\",\"CodigoEstado\":5,\"FechaCierre\":\"2020-11-02T19:54:00\"},{\"CodigoExterno\":\"2794-18-LP20\",\"Nombre\":\"Reposición Mobiliario U. Plaza de Armas Los Andes\",\"CodigoEstado\":5,\"FechaCierre\":\"2020-11-12T14:00:00\"},{\"CodigoExterno\":\"592-23-LE20\",\"Nombre\":\"Servicio Reparación de sillas y sillones Mineduc\",\"CodigoEstado\":5,\"FechaCierre\":\"2020-11-06T17:00:00\"},{\"CodigoExterno\":\"1658-444-LE20\",\"Nombre\":\"P.142-20 \\\\\"SERVICIO TRASLADO PARA ENTREGA DE CAJAS\\\\\"\",\"CodigoEstado\":5,\"FechaCierre\":\"2020-11-02T15:01:00\"},{\"CodigoExterno\":\"4486-21-L120\",\"Nombre\":\"SEGUNDO LLAMADO LIMPIEZA DE FOSAS COMUNA DE NEGRETE\",\"CodigoEstado\":5,\"FechaCierre\":\"2020-10-29T16:00:00\"},{\"CodigoExterno\":\"3502-79-LE20\",\"Nombre\":\"ADQUISICION SEÑELETICAS TRANSITO Y PINTURA ESMALTE\",\"CodigoEstado\":5,\"FechaCierre\":\"2020-10-30T18:00:00\"},{\"CodigoExterno\":\"5740-16-L120\",\"Nombre\":\"NEUMÁTICOS PARA VEHÍCULOS FISCALES DE LA REGIÓN\",\"CodigoEstado\":5,\"FechaCierre\":\"2020-11-02T15:00:00\"},{\"CodigoExterno\":\"5740-15-L120\",\"Nombre\":\"ARREGLO FURGON MARCA FIAT MODELO DOBLO MAXI CARGO AÑO 2013\",\"CodigoEstado\":5,\"FechaCierre\":\"2020-10-30T20:41:00\"},{\"CodigoExterno\":\"2945-35-LR20\",\"Nombre\":\"SERVICIO DE MANTENIMIENTO AERONÁUTICO\",\"CodigoEstado\":5,\"FechaCierre\":\"2020-11-23T15:01:00\"},{\"CodigoExterno\":\"883-55-L120\",\"Nombre\":\"ADQ. DE UN CONTENEDOR MARÍTIMO DE 40 PIES CON INSTALACIÓN PARA USO DE BODEGA  PARA SD TP \",\"CodigoEstado\":5,\"FechaCierre\":\"2020-11-04T12:30:00\"},{\"CodigoExterno\":\"3956-25-LE20\",\"Nombre\":\"ADQ. E INST DE FARMACIAS MODULARES PSR SANTA JUANA\",\"CodigoEstado\":5,\"FechaCierre\":\"2020-10-30T10:15:00\"},{\"CodigoExterno\":\"2688-27-L120\",\"Nombre\":\"ADQUISICION DE INSUMOS, EQUIPAMIENTO Y OTROS.\",\"CodigoEstado\":5,\"FechaCierre\":\"2020-10-29T11:26:00\"},{\"CodigoExterno\":\"3191-182-L120\",\"Nombre\":\"L1 (FAR) ADQUIRIR PRODUCTOS FARMACÉUTICOS PARA EL HOSPITAL NAVAL \\\\\"ALMIRANTE NEF\\\\\"\",\"CodigoEstado\":5,\"FechaCierre\":\"2020-10-30T15:00:00\"},{\"CodigoExterno\":\"4473-41-L120\",\"Nombre\":\"CURSO DE GASTRONOMÍA INTERNACIONAL Y TÉCNICAS\",\"CodigoEstado\":5,\"FechaCierre\":\"2020-10-29T15:01:00\"},{\"CodigoExterno\":\"4329-24-L120\",\"Nombre\":\"ELECTROVISTURI\",\"CodigoEstado\":5,\"FechaCierre\":\"2020-10-29T11:47:00\"},{\"CodigoExterno\":\"996-159-LE20\",\"Nombre\":\"CIERRE PERIMETRAL PROV DE ELQUI\",\"CodigoEstado\":5,\"FechaCierre\":\"2020-10-29T17:28:00\"},{\"CodigoExterno\":\"740-73-LE20\",\"Nombre\":\"PAE AGRICOLA HORTISERVICIOS LTDA -PARRAL\",\"CodigoEstado\":5,\"FechaCierre\":\"2020-11-03T12:00:00\"},{\"CodigoExterno\":\"2663-91-L120\",\"Nombre\":\"Contrato de suministro servicio gomeria\",\"CodigoEstado\":5,\"FechaCierre\":\"2020-10-30T12:00:00\"},{\"CodigoExterno\":\"1658-453-LQ20\",\"Nombre\":\"PROPUESTA PÚBLICA Nº201-2020 “CONTRATO DE SUMINISTRO SERVICIO VETERINARIO PARA REALIZACIÓN DE ESTERILIZACIONES MASIVAS DE HEMBRAS Y MACHOS CANINOS Y FELINOS CON IMPLANTACIÓN DE MICROCHIPS EN LA COMUNA DE TEMUCO 2020”\",\"CodigoEstado\":5,\"FechaCierre\":\"2020-11-12T12:00:00\"},{\"CodigoExterno\":\"740-74-LE20\",\"Nombre\":\"PAE SERVICIOS AGRICOLAS CUYUMILLACO LTDA-PARRAL\",\"CodigoEstado\":5,\"FechaCierre\":\"2020-11-03T12:00:00\"},{\"CodigoExterno\":\"2741-35-LP20\",\"Nombre\":\"CONSERVACION EDIFICIO CONSISTORIAL\",\"CodigoEstado\":5,\"FechaCierre\":\"2020-11-12T12:00:00\"},{\"CodigoExterno\":\"2408-172-LE20\",\"Nombre\":\"ADQUISICIÓN DE LUMINARIAS LED 2020\",\"CodigoEstado\":5,\"FechaCierre\":\"2020-11-03T09:00:00\"},{\"CodigoExterno\":\"1411-57-LR20\",\"Nombre\":\"OBRA TORRE 5B CCP COLINA 1\",\"CodigoEstado\":5,\"FechaCierre\":\"2020-11-18T10:30:00\"},{\"CodigoExterno\":\"4160-14-LQ20\",\"Nombre\":\"CONSERVACION LICEO LUCILA GODOY ALCAYAGA\",\"CodigoEstado\":5,\"FechaCierre\":\"2020-11-13T14:00:00\"},{\"CodigoExterno\":\"4856-59-LE20\",\"Nombre\":\"Examenes de Mamografias para dpto Salud Tirua.-\",\"CodigoEstado\":5,\"FechaCierre\":\"2020-11-03T15:06:00\"},{\"CodigoExterno\":\"2282-181-LE20\",\"Nombre\":\"Mecánica Suelos Maranatha, P.P. 124-2020\",\"CodigoEstado\":5,\"FechaCierre\":\"2020-11-05T11:00:00\"},{\"CodigoExterno\":\"1040758-12-L120\",\"Nombre\":\"SEGUNDO LLAMADO: SERVICIOS PROFESIONALES DE IMPLEMENTACIÓN DE OPERATIVOS EN EL CONTEXTO DEL PLAN NACIONAL DE PREVENCIÓN Y CONTROL DE VIH/SIDA E ITS\",\"CodigoEstado\":5,\"FechaCierre\":\"2020-10-28T14:00:00\"},{\"CodigoExterno\":\"1149-55-LR20\",\"Nombre\":\"CONSERVACIÓN SISTEMAS DE AGUA POTABLE RURAL DEL GR\",\"CodigoEstado\":5,\"FechaCierre\":\"2020-11-09T15:05:00\"},{\"CodigoExterno\":\"2735-101-LQ20\",\"Nombre\":\"Conservación Infreastructura Sede Infancia\",\"CodigoEstado\":5,\"FechaCierre\":\"2020-11-13T15:00:00\"},{\"CodigoExterno\":\"2974-77-L120\",\"Nombre\":\"ADQ. DE MENAJE DE COCINA PARA SALA CUNA NIDO DE CONDORES (252-2020)\",\"CodigoEstado\":5,\"FechaCierre\":\"2020-10-29T20:37:00\"},{\"CodigoExterno\":\"3697-72-L120\",\"Nombre\":\"Adq. arido cortado en 2 1/2\\\\\", OPERACIONES\",\"CodigoEstado\":5,\"FechaCierre\":\"2020-10-29T15:15:00\"},{\"CodigoExterno\":\"3697-71-L120\",\"Nombre\":\"Cont. serv. inst. sist. cosecha de agua lluvias c/ acumuladores, PDTI MARILUAN\",\"CodigoEstado\":5,\"FechaCierre\":\"2020-10-29T15:15:00\"}]}'"
            ]
          },
          "metadata": {
            "tags": []
          },
          "execution_count": 28
        }
      ]
    },
    {
      "cell_type": "code",
      "metadata": {
        "id": "ivtzPTJxssXd",
        "outputId": "f054fc82-2f35-4e38-cc77-747d36515b17",
        "colab": {
          "base_uri": "https://localhost:8080/",
          "height": 416
        }
      },
      "source": [
        "# Pasar de json a df\n",
        "\n",
        "respuestajson = json.loads(respuesta.text)\n",
        "licitaciones_dia = respuestajson['Listado']\n",
        "df_licitaciones_diarias = pd.DataFrame(licitaciones_dia)\n",
        "df_licitaciones_diarias\n",
        "\n",
        "# df_licitaciones_diarias - dataframebase"
      ],
      "execution_count": null,
      "outputs": [
        {
          "output_type": "execute_result",
          "data": {
            "text/html": [
              "<div>\n",
              "<style scoped>\n",
              "    .dataframe tbody tr th:only-of-type {\n",
              "        vertical-align: middle;\n",
              "    }\n",
              "\n",
              "    .dataframe tbody tr th {\n",
              "        vertical-align: top;\n",
              "    }\n",
              "\n",
              "    .dataframe thead th {\n",
              "        text-align: right;\n",
              "    }\n",
              "</style>\n",
              "<table border=\"1\" class=\"dataframe\">\n",
              "  <thead>\n",
              "    <tr style=\"text-align: right;\">\n",
              "      <th></th>\n",
              "      <th>CodigoExterno</th>\n",
              "      <th>Nombre</th>\n",
              "      <th>CodigoEstado</th>\n",
              "      <th>FechaCierre</th>\n",
              "    </tr>\n",
              "  </thead>\n",
              "  <tbody>\n",
              "    <tr>\n",
              "      <th>0</th>\n",
              "      <td>3170-13-L120</td>\n",
              "      <td>REPARACION DE CAJA MECANICA Y TOMA FUERZA CAMI...</td>\n",
              "      <td>5</td>\n",
              "      <td>2020-11-06T18:00:00</td>\n",
              "    </tr>\n",
              "    <tr>\n",
              "      <th>1</th>\n",
              "      <td>1641-178-LP20</td>\n",
              "      <td>CMO- MANTENCION PREV Y CORR INCUBADORAS MEDIX</td>\n",
              "      <td>5</td>\n",
              "      <td>2020-11-02T16:00:00</td>\n",
              "    </tr>\n",
              "    <tr>\n",
              "      <th>2</th>\n",
              "      <td>1469-112-L120</td>\n",
              "      <td>“SERVICIOS DE PUBLICIDAD Y DIFUSIÓN PROYECTO “...</td>\n",
              "      <td>5</td>\n",
              "      <td>2020-10-30T15:00:00</td>\n",
              "    </tr>\n",
              "    <tr>\n",
              "      <th>3</th>\n",
              "      <td>5276-12-LE20</td>\n",
              "      <td>PROVISION E INSTALACION DE ESTUFA DE CULTIVO</td>\n",
              "      <td>5</td>\n",
              "      <td>2020-11-02T19:55:00</td>\n",
              "    </tr>\n",
              "    <tr>\n",
              "      <th>4</th>\n",
              "      <td>2341-190-L120</td>\n",
              "      <td>ADQ 2040/SP 41/SECPLA-ESTUDIOS Y PROYECTOS/MEJ...</td>\n",
              "      <td>5</td>\n",
              "      <td>2020-10-30T17:22:00</td>\n",
              "    </tr>\n",
              "    <tr>\n",
              "      <th>...</th>\n",
              "      <td>...</td>\n",
              "      <td>...</td>\n",
              "      <td>...</td>\n",
              "      <td>...</td>\n",
              "    </tr>\n",
              "    <tr>\n",
              "      <th>61</th>\n",
              "      <td>1149-55-LR20</td>\n",
              "      <td>CONSERVACIÓN SISTEMAS DE AGUA POTABLE RURAL DE...</td>\n",
              "      <td>5</td>\n",
              "      <td>2020-11-09T15:05:00</td>\n",
              "    </tr>\n",
              "    <tr>\n",
              "      <th>62</th>\n",
              "      <td>2735-101-LQ20</td>\n",
              "      <td>Conservación Infreastructura Sede Infancia</td>\n",
              "      <td>5</td>\n",
              "      <td>2020-11-13T15:00:00</td>\n",
              "    </tr>\n",
              "    <tr>\n",
              "      <th>63</th>\n",
              "      <td>2974-77-L120</td>\n",
              "      <td>ADQ. DE MENAJE DE COCINA PARA SALA CUNA NIDO D...</td>\n",
              "      <td>5</td>\n",
              "      <td>2020-10-29T20:37:00</td>\n",
              "    </tr>\n",
              "    <tr>\n",
              "      <th>64</th>\n",
              "      <td>3697-72-L120</td>\n",
              "      <td>Adq. arido cortado en 2 1/2\", OPERACIONES</td>\n",
              "      <td>5</td>\n",
              "      <td>2020-10-29T15:15:00</td>\n",
              "    </tr>\n",
              "    <tr>\n",
              "      <th>65</th>\n",
              "      <td>3697-71-L120</td>\n",
              "      <td>Cont. serv. inst. sist. cosecha de agua lluvia...</td>\n",
              "      <td>5</td>\n",
              "      <td>2020-10-29T15:15:00</td>\n",
              "    </tr>\n",
              "  </tbody>\n",
              "</table>\n",
              "<p>66 rows × 4 columns</p>\n",
              "</div>"
            ],
            "text/plain": [
              "    CodigoExterno  ...          FechaCierre\n",
              "0    3170-13-L120  ...  2020-11-06T18:00:00\n",
              "1   1641-178-LP20  ...  2020-11-02T16:00:00\n",
              "2   1469-112-L120  ...  2020-10-30T15:00:00\n",
              "3    5276-12-LE20  ...  2020-11-02T19:55:00\n",
              "4   2341-190-L120  ...  2020-10-30T17:22:00\n",
              "..            ...  ...                  ...\n",
              "61   1149-55-LR20  ...  2020-11-09T15:05:00\n",
              "62  2735-101-LQ20  ...  2020-11-13T15:00:00\n",
              "63   2974-77-L120  ...  2020-10-29T20:37:00\n",
              "64   3697-72-L120  ...  2020-10-29T15:15:00\n",
              "65   3697-71-L120  ...  2020-10-29T15:15:00\n",
              "\n",
              "[66 rows x 4 columns]"
            ]
          },
          "metadata": {
            "tags": []
          },
          "execution_count": 29
        }
      ]
    },
    {
      "cell_type": "code",
      "metadata": {
        "id": "xQAnFEOvvWZi"
      },
      "source": [
        "# CODIGO PROFE ANA ODE DATAFRAME A DATEFRAME\n",
        "\n",
        "import time\n",
        "df_licitaciones_detalles = pd.DataFrame()\n",
        "for i in range(len(df_licitaciones_diarias)):\n",
        "    codigoexterno = df_licitaciones_diarias.loc[i,'CodigoExterno']\n",
        "    url_1= f\"http://api.mercadopublico.cl/servicios/v1/publico/licitaciones.json?codigo={codigoexterno}&ticket=F8537A18-6766-4DEF-9E59-426B4FEE2844\"\n",
        "    respuesta_1 = requests.request(\"GET\", url_1)\n",
        "    respuestajson_1 = json.loads(respuesta_1.text)\n",
        "    detalle_licitacion = respuestajson_1[\"Listado\"]\n",
        "    df_licitacion = pd.DataFrame(detalle_licitacion)\n",
        "    df_licitaciones_detalles = df_licitaciones_detalles.append(df_licitacion,ignore_index=True)\n",
        "    time.sleep(10)"
      ],
      "execution_count": null,
      "outputs": []
    },
    {
      "cell_type": "code",
      "metadata": {
        "id": "4t6fwrqezJvJ",
        "outputId": "7a13cf11-626a-4b27-cd12-afe1303135a5",
        "colab": {
          "base_uri": "https://localhost:8080/",
          "height": 185
        }
      },
      "source": [
        "# df_licitaciones_diarias - dataframe base\n",
        "# df_licitaciones_detalles -  dataframe con todas las empresas del dia, sacdo del dataframe diario\n",
        "\n",
        "df_licitaciones_detalles.head(1)"
      ],
      "execution_count": null,
      "outputs": [
        {
          "output_type": "execute_result",
          "data": {
            "text/html": [
              "<div>\n",
              "<style scoped>\n",
              "    .dataframe tbody tr th:only-of-type {\n",
              "        vertical-align: middle;\n",
              "    }\n",
              "\n",
              "    .dataframe tbody tr th {\n",
              "        vertical-align: top;\n",
              "    }\n",
              "\n",
              "    .dataframe thead th {\n",
              "        text-align: right;\n",
              "    }\n",
              "</style>\n",
              "<table border=\"1\" class=\"dataframe\">\n",
              "  <thead>\n",
              "    <tr style=\"text-align: right;\">\n",
              "      <th></th>\n",
              "      <th>CodigoExterno</th>\n",
              "      <th>Nombre</th>\n",
              "      <th>CodigoEstado</th>\n",
              "      <th>Descripcion</th>\n",
              "      <th>FechaCierre</th>\n",
              "      <th>Estado</th>\n",
              "      <th>Comprador</th>\n",
              "      <th>DiasCierreLicitacion</th>\n",
              "      <th>Informada</th>\n",
              "      <th>CodigoTipo</th>\n",
              "      <th>Tipo</th>\n",
              "      <th>TipoConvocatoria</th>\n",
              "      <th>Moneda</th>\n",
              "      <th>Etapas</th>\n",
              "      <th>EstadoEtapas</th>\n",
              "      <th>TomaRazon</th>\n",
              "      <th>EstadoPublicidadOfertas</th>\n",
              "      <th>JustificacionPublicidad</th>\n",
              "      <th>Contrato</th>\n",
              "      <th>Obras</th>\n",
              "      <th>CantidadReclamos</th>\n",
              "      <th>Fechas</th>\n",
              "      <th>UnidadTiempoEvaluacion</th>\n",
              "      <th>DireccionVisita</th>\n",
              "      <th>DireccionEntrega</th>\n",
              "      <th>Estimacion</th>\n",
              "      <th>FuenteFinanciamiento</th>\n",
              "      <th>VisibilidadMonto</th>\n",
              "      <th>MontoEstimado</th>\n",
              "      <th>Tiempo</th>\n",
              "      <th>UnidadTiempo</th>\n",
              "      <th>Modalidad</th>\n",
              "      <th>TipoPago</th>\n",
              "      <th>NombreResponsablePago</th>\n",
              "      <th>EmailResponsablePago</th>\n",
              "      <th>NombreResponsableContrato</th>\n",
              "      <th>EmailResponsableContrato</th>\n",
              "      <th>FonoResponsableContrato</th>\n",
              "      <th>ProhibicionContratacion</th>\n",
              "      <th>SubContratacion</th>\n",
              "      <th>UnidadTiempoDuracionContrato</th>\n",
              "      <th>TiempoDuracionContrato</th>\n",
              "      <th>TipoDuracionContrato</th>\n",
              "      <th>JustificacionMontoEstimado</th>\n",
              "      <th>ObservacionContract</th>\n",
              "      <th>ExtensionPlazo</th>\n",
              "      <th>EsBaseTipo</th>\n",
              "      <th>UnidadTiempoContratoLicitacion</th>\n",
              "      <th>ValorTiempoRenovacion</th>\n",
              "      <th>PeriodoTiempoRenovacion</th>\n",
              "      <th>EsRenovable</th>\n",
              "      <th>Adjudicacion</th>\n",
              "      <th>Items</th>\n",
              "    </tr>\n",
              "  </thead>\n",
              "  <tbody>\n",
              "    <tr>\n",
              "      <th>0</th>\n",
              "      <td>3170-13-L120</td>\n",
              "      <td>REPARACION DE CAJA MECANICA Y TOMA FUERZA CAMI...</td>\n",
              "      <td>5</td>\n",
              "      <td>CONTRATAR EL SERVICIO DE MANTECION CORRECTIVA ...</td>\n",
              "      <td>None</td>\n",
              "      <td>Publicada</td>\n",
              "      <td>{'CodigoOrganismo': '111875', 'NombreOrganismo...</td>\n",
              "      <td>14</td>\n",
              "      <td>0</td>\n",
              "      <td>1</td>\n",
              "      <td>L1</td>\n",
              "      <td>1</td>\n",
              "      <td>CLP</td>\n",
              "      <td>1</td>\n",
              "      <td>0</td>\n",
              "      <td>0</td>\n",
              "      <td>1</td>\n",
              "      <td>Todas las ofertas técnicas serán visibles al p...</td>\n",
              "      <td>0</td>\n",
              "      <td>0</td>\n",
              "      <td>1708</td>\n",
              "      <td>{'FechaCreacion': '2020-10-20T16:56:52.35', 'F...</td>\n",
              "      <td>2</td>\n",
              "      <td></td>\n",
              "      <td></td>\n",
              "      <td>1</td>\n",
              "      <td></td>\n",
              "      <td>1</td>\n",
              "      <td>4.942e+06</td>\n",
              "      <td>None</td>\n",
              "      <td>2</td>\n",
              "      <td>0</td>\n",
              "      <td>-1</td>\n",
              "      <td></td>\n",
              "      <td></td>\n",
              "      <td></td>\n",
              "      <td></td>\n",
              "      <td></td>\n",
              "      <td></td>\n",
              "      <td>1</td>\n",
              "      <td>0</td>\n",
              "      <td>0</td>\n",
              "      <td></td>\n",
              "      <td>0</td>\n",
              "      <td>None</td>\n",
              "      <td>0</td>\n",
              "      <td>0</td>\n",
              "      <td>0</td>\n",
              "      <td>0</td>\n",
              "      <td></td>\n",
              "      <td>0</td>\n",
              "      <td>None</td>\n",
              "      <td>{'Cantidad': 1, 'Listado': [{'Correlativo': 1,...</td>\n",
              "    </tr>\n",
              "  </tbody>\n",
              "</table>\n",
              "</div>"
            ],
            "text/plain": [
              "  CodigoExterno  ...                                              Items\n",
              "0  3170-13-L120  ...  {'Cantidad': 1, 'Listado': [{'Correlativo': 1,...\n",
              "\n",
              "[1 rows x 53 columns]"
            ]
          },
          "metadata": {
            "tags": []
          },
          "execution_count": 39
        }
      ]
    },
    {
      "cell_type": "code",
      "metadata": {
        "id": "S7DslRpG2IOf",
        "outputId": "feaab7f0-2548-4223-b4ff-9d8c02750353",
        "colab": {
          "base_uri": "https://localhost:8080/",
          "height": 235
        }
      },
      "source": [
        "# Abrir la lista COMPRADOR  dentro del dataframe\n",
        "df_licitaciones_detalles[\"Comprador\"][0]"
      ],
      "execution_count": null,
      "outputs": [
        {
          "output_type": "execute_result",
          "data": {
            "text/plain": [
              "{'CargoUsuario': 'SUPERVISOR',\n",
              " 'CodigoOrganismo': '111875',\n",
              " 'CodigoUnidad': '4091',\n",
              " 'CodigoUsuario': '1358434',\n",
              " 'ComunaUnidad': 'Estación Central',\n",
              " 'DireccionUnidad': 'av. cuadro verde 0350',\n",
              " 'NombreOrganismo': 'ARMADA DE CHILE',\n",
              " 'NombreUnidad': 'CENTRO DE ABASTECIMIENTO IQUIQUE',\n",
              " 'NombreUsuario': 'IGNACIO ENRIQUE VILLAGRAN ALBORNOZ',\n",
              " 'RegionUnidad': 'Región Metropolitana de Santiago',\n",
              " 'RutUnidad': '61.941.300-8',\n",
              " 'RutUsuario': '17.957.105-6'}"
            ]
          },
          "metadata": {
            "tags": []
          },
          "execution_count": 40
        }
      ]
    },
    {
      "cell_type": "code",
      "metadata": {
        "id": "dlSWuoZ0K69z",
        "outputId": "c3bb7c2e-50c0-4ae1-8cd8-f27aac96b589",
        "colab": {
          "base_uri": "https://localhost:8080/",
          "height": 151
        }
      },
      "source": [
        "diccionarioCOMPRADOR = df_licitaciones_detalles['Comprador'].to_dict()\n",
        "diccionarioCOMPRADOR\n",
        "df = pd.DataFrame([key for key in diccionario.keys()], columns=[\"correlativo\"])\n",
        "df['CargoUsuario'] = [value['CargoUsuario'] for value in diccionario.values()]\n",
        "df['CodigoOrganismo'] = [value['CodigoOrganismo'] for value in diccionario.values()]\n",
        "df['CodigoUnidad'] = [value['CodigoUnidad'] for value in diccionario.values()]\n",
        "df['CodigoUsuario'] = [value['CodigoUsuario'] for value in diccionario.values()]\n",
        "\n",
        "df['ComunaUnidad'] = [value['ComunaUnidad'] for value in diccionario.values()]\n",
        "df['DireccionUnidad'] = [value['DireccionUnidad'] for value in diccionario.values()]\n",
        "df['NombreOrganismo'] = [value['NombreOrganismo'] for value in diccionario.values()]\n",
        "df['NombreUnidad'] = [value['NombreUnidad'] for value in diccionario.values()]\n",
        "df['NombreUsuario'] = [value['NombreUsuario'] for value in diccionario.values()]\n",
        "df['RegionUnidad'] = [value['RegionUnidad'] for value in diccionario.values()]\n",
        "df['RutUnidad'] = [value['RutUnidad'] for value in diccionario.values()]\n",
        "df['RutUsuario'] = [value['RutUsuario'] for value in diccionario.values()]\n",
        "\n",
        "df.head(1)"
      ],
      "execution_count": 93,
      "outputs": [
        {
          "output_type": "execute_result",
          "data": {
            "text/html": [
              "<div>\n",
              "<style scoped>\n",
              "    .dataframe tbody tr th:only-of-type {\n",
              "        vertical-align: middle;\n",
              "    }\n",
              "\n",
              "    .dataframe tbody tr th {\n",
              "        vertical-align: top;\n",
              "    }\n",
              "\n",
              "    .dataframe thead th {\n",
              "        text-align: right;\n",
              "    }\n",
              "</style>\n",
              "<table border=\"1\" class=\"dataframe\">\n",
              "  <thead>\n",
              "    <tr style=\"text-align: right;\">\n",
              "      <th></th>\n",
              "      <th>correlativo</th>\n",
              "      <th>CargoUsuario</th>\n",
              "      <th>CodigoOrganismo</th>\n",
              "      <th>CodigoUnidad</th>\n",
              "      <th>CodigoUsuario</th>\n",
              "      <th>ComunaUnidad</th>\n",
              "      <th>DireccionUnidad</th>\n",
              "      <th>NombreOrganismo</th>\n",
              "      <th>NombreUnidad</th>\n",
              "      <th>NombreUsuario</th>\n",
              "      <th>RegionUnidad</th>\n",
              "      <th>RutUnidad</th>\n",
              "      <th>RutUsuario</th>\n",
              "    </tr>\n",
              "  </thead>\n",
              "  <tbody>\n",
              "    <tr>\n",
              "      <th>0</th>\n",
              "      <td>0</td>\n",
              "      <td>SUPERVISOR</td>\n",
              "      <td>111875</td>\n",
              "      <td>4091</td>\n",
              "      <td>1358434</td>\n",
              "      <td>Estación Central</td>\n",
              "      <td>av. cuadro verde 0350</td>\n",
              "      <td>ARMADA DE CHILE</td>\n",
              "      <td>CENTRO DE ABASTECIMIENTO IQUIQUE</td>\n",
              "      <td>IGNACIO ENRIQUE VILLAGRAN ALBORNOZ</td>\n",
              "      <td>Región Metropolitana de Santiago</td>\n",
              "      <td>61.941.300-8</td>\n",
              "      <td>17.957.105-6</td>\n",
              "    </tr>\n",
              "  </tbody>\n",
              "</table>\n",
              "</div>"
            ],
            "text/plain": [
              "   correlativo CargoUsuario  ...     RutUnidad    RutUsuario\n",
              "0            0   SUPERVISOR  ...  61.941.300-8  17.957.105-6\n",
              "\n",
              "[1 rows x 13 columns]"
            ]
          },
          "metadata": {
            "tags": []
          },
          "execution_count": 93
        }
      ]
    },
    {
      "cell_type": "code",
      "metadata": {
        "id": "XPeKXvsY2R9B",
        "outputId": "3d966e5e-6fd4-4db9-9fca-ca0270ae728a",
        "colab": {
          "base_uri": "https://localhost:8080/",
          "height": 294
        }
      },
      "source": [
        "# Abrir la lista FECHAS dentro del dataframe\n",
        "\n",
        "df_licitaciones_detalles[\"Fechas\"][0]"
      ],
      "execution_count": null,
      "outputs": [
        {
          "output_type": "execute_result",
          "data": {
            "text/plain": [
              "{'FechaActoAperturaEconomica': '2020-11-09T07:00:00',\n",
              " 'FechaActoAperturaTecnica': '2020-11-09T07:00:00',\n",
              " 'FechaAdjudicacion': '2020-11-23T21:06:00',\n",
              " 'FechaCierre': '2020-11-06T18:00:00',\n",
              " 'FechaCreacion': '2020-10-20T16:56:52.35',\n",
              " 'FechaEntregaAntecedentes': None,\n",
              " 'FechaEstimadaAdjudicacion': '2020-11-23T21:06:00',\n",
              " 'FechaEstimadaFirma': None,\n",
              " 'FechaFinal': '2020-11-04T16:00:00',\n",
              " 'FechaInicio': '2020-10-23T11:05:33.46',\n",
              " 'FechaPubRespuestas': '2020-11-05T17:00:00',\n",
              " 'FechaPublicacion': '2020-10-23T11:05:33.46',\n",
              " 'FechaSoporteFisico': None,\n",
              " 'FechaTiempoEvaluacion': None,\n",
              " 'FechaVisitaTerreno': None,\n",
              " 'FechasUsuario': None}"
            ]
          },
          "metadata": {
            "tags": []
          },
          "execution_count": 63
        }
      ]
    },
    {
      "cell_type": "code",
      "metadata": {
        "id": "9bEVkdYmMLSp",
        "outputId": "ad7437e2-8259-4c49-9f77-26798acd4da5",
        "colab": {
          "base_uri": "https://localhost:8080/",
          "height": 117
        }
      },
      "source": [
        "diccionarioFECHAS = df_licitaciones_detalles['Fechas'].to_dict()\n",
        "diccionarioFECHAS\n",
        "df = pd.DataFrame([key for key in diccionarioFECHAS.keys()], columns=[\"correlativo\"])\n",
        "df['FechaActoAperturaEconomica'] = [value['FechaActoAperturaEconomica'] for value in diccionarioFECHAS.values()]\n",
        "df['FechaActoAperturaTecnica'] = [value['FechaActoAperturaTecnica'] for value in diccionarioFECHAS.values()]\n",
        "df['FechaAdjudicacion'] = [value['FechaAdjudicacion'] for value in diccionarioFECHAS.values()]\n",
        "df['FechaCreacion'] = [value['FechaCreacion'] for value in diccionarioFECHAS.values()]\n",
        "df['FechaEntregaAntecedentes'] = [value['FechaEntregaAntecedentes'] for value in diccionarioFECHAS.values()]\n",
        "df['FechaEstimadaAdjudicacion'] = [value['FechaEstimadaAdjudicacion'] for value in diccionarioFECHAS.values()]\n",
        "df['FechaEstimadaFirma'] = [value['FechaEstimadaFirma'] for value in diccionarioFECHAS.values()]\n",
        "df['FechaFinal'] = [value['FechaFinal'] for value in diccionarioFECHAS.values()]\n",
        "df['FechaInicio'] = [value['FechaInicio'] for value in diccionarioFECHAS.values()]\n",
        "df['FechaPubRespuestas'] = [value['FechaPubRespuestas'] for value in diccionarioFECHAS.values()]\n",
        "df['FechaPublicacion'] = [value['FechaPublicacion'] for value in diccionarioFECHAS.values()]\n",
        "df['FechaSoporteFisico'] = [value['FechaSoporteFisico'] for value in diccionarioFECHAS.values()]\n",
        "df['FechaTiempoEvaluacion'] = [value['FechaTiempoEvaluacion'] for value in diccionarioFECHAS.values()]\n",
        "df['FechaVisitaTerreno'] = [value['FechaVisitaTerreno'] for value in diccionarioFECHAS.values()]\n",
        "df['FechasUsuario'] = [value['FechasUsuario'] for value in diccionarioFECHAS.values()]\n",
        "\n",
        "df.head(1)"
      ],
      "execution_count": 92,
      "outputs": [
        {
          "output_type": "execute_result",
          "data": {
            "text/html": [
              "<div>\n",
              "<style scoped>\n",
              "    .dataframe tbody tr th:only-of-type {\n",
              "        vertical-align: middle;\n",
              "    }\n",
              "\n",
              "    .dataframe tbody tr th {\n",
              "        vertical-align: top;\n",
              "    }\n",
              "\n",
              "    .dataframe thead th {\n",
              "        text-align: right;\n",
              "    }\n",
              "</style>\n",
              "<table border=\"1\" class=\"dataframe\">\n",
              "  <thead>\n",
              "    <tr style=\"text-align: right;\">\n",
              "      <th></th>\n",
              "      <th>correlativo</th>\n",
              "      <th>FechaActoAperturaEconomica</th>\n",
              "      <th>FechaActoAperturaTecnica</th>\n",
              "      <th>FechaAdjudicacion</th>\n",
              "      <th>FechaCreacion</th>\n",
              "      <th>FechaEntregaAntecedentes</th>\n",
              "      <th>FechaEstimadaAdjudicacion</th>\n",
              "      <th>FechaEstimadaFirma</th>\n",
              "      <th>FechaFinal</th>\n",
              "      <th>FechaInicio</th>\n",
              "      <th>FechaPubRespuestas</th>\n",
              "      <th>FechaPublicacion</th>\n",
              "      <th>FechaSoporteFisico</th>\n",
              "      <th>FechaTiempoEvaluacion</th>\n",
              "      <th>FechaVisitaTerreno</th>\n",
              "      <th>FechasUsuario</th>\n",
              "    </tr>\n",
              "  </thead>\n",
              "  <tbody>\n",
              "    <tr>\n",
              "      <th>0</th>\n",
              "      <td>0</td>\n",
              "      <td>2020-11-09T07:00:00</td>\n",
              "      <td>2020-11-09T07:00:00</td>\n",
              "      <td>2020-11-23T21:06:00</td>\n",
              "      <td>2020-10-20T16:56:52.35</td>\n",
              "      <td>None</td>\n",
              "      <td>2020-11-23T21:06:00</td>\n",
              "      <td>None</td>\n",
              "      <td>2020-11-04T16:00:00</td>\n",
              "      <td>2020-10-23T11:05:33.46</td>\n",
              "      <td>2020-11-05T17:00:00</td>\n",
              "      <td>2020-10-23T11:05:33.46</td>\n",
              "      <td>None</td>\n",
              "      <td>None</td>\n",
              "      <td>None</td>\n",
              "      <td>None</td>\n",
              "    </tr>\n",
              "  </tbody>\n",
              "</table>\n",
              "</div>"
            ],
            "text/plain": [
              "   correlativo FechaActoAperturaEconomica  ... FechaVisitaTerreno FechasUsuario\n",
              "0            0        2020-11-09T07:00:00  ...               None          None\n",
              "\n",
              "[1 rows x 16 columns]"
            ]
          },
          "metadata": {
            "tags": []
          },
          "execution_count": 92
        }
      ]
    },
    {
      "cell_type": "code",
      "metadata": {
        "id": "cdjWyobM2SoD",
        "outputId": "d0a099a8-35cd-42c6-b4a7-446fc80ebcb8",
        "colab": {
          "base_uri": "https://localhost:8080/",
          "height": 221
        }
      },
      "source": [
        "# Abrir la lista Item IITEM dentro del dataframe\n",
        "\n",
        "df_licitaciones_detalles[\"Items\"][0][\"Listado\"]\n"
      ],
      "execution_count": 94,
      "outputs": [
        {
          "output_type": "execute_result",
          "data": {
            "text/plain": [
              "0     {'Cantidad': 1, 'Listado': [{'Correlativo': 1,...\n",
              "1     {'Cantidad': 1, 'Listado': [{'Correlativo': 1,...\n",
              "2     {'Cantidad': 1, 'Listado': [{'Correlativo': 1,...\n",
              "3     {'Cantidad': 1, 'Listado': [{'Correlativo': 1,...\n",
              "4     {'Cantidad': 1, 'Listado': [{'Correlativo': 1,...\n",
              "                            ...                        \n",
              "61    {'Cantidad': 1, 'Listado': [{'Correlativo': 1,...\n",
              "62    {'Cantidad': 1, 'Listado': [{'Correlativo': 1,...\n",
              "63    {'Cantidad': 74, 'Listado': [{'Correlativo': 1...\n",
              "64    {'Cantidad': 1, 'Listado': [{'Correlativo': 1,...\n",
              "65    {'Cantidad': 1, 'Listado': [{'Correlativo': 1,...\n",
              "Name: Items, Length: 66, dtype: object"
            ]
          },
          "metadata": {
            "tags": []
          },
          "execution_count": 94
        }
      ]
    },
    {
      "cell_type": "code",
      "metadata": {
        "id": "JJARq3SLLO2j",
        "outputId": "bea7f061-e76e-4511-faec-b771af4a7d0d",
        "colab": {
          "base_uri": "https://localhost:8080/",
          "height": 47
        }
      },
      "source": [
        "diccionarioFECHAS = df_licitaciones_detalles['Comprador'].to_dict()\n",
        "diccionarioFECHAS\n",
        "df = pd.DataFrame([key for key in diccionario.keys()], columns=[\"correlativo\"])\n",
        "df['CargoUsuario'] = [value['CargoUsuario'] for value in diccionario.values()]\n",
        "df['CodigoOrganismo'] = [value['CodigoOrganismo'] for value in diccionario.values()]\n",
        "df['CodigoUnidad'] = [value['CodigoUnidad'] for value in diccionario.values()]\n",
        "df['CodigoUsuario'] = [value['CodigoUsuario'] for value in diccionario.values()]\n",
        "df.head(0)"
      ],
      "execution_count": null,
      "outputs": [
        {
          "output_type": "execute_result",
          "data": {
            "text/html": [
              "<div>\n",
              "<style scoped>\n",
              "    .dataframe tbody tr th:only-of-type {\n",
              "        vertical-align: middle;\n",
              "    }\n",
              "\n",
              "    .dataframe tbody tr th {\n",
              "        vertical-align: top;\n",
              "    }\n",
              "\n",
              "    .dataframe thead th {\n",
              "        text-align: right;\n",
              "    }\n",
              "</style>\n",
              "<table border=\"1\" class=\"dataframe\">\n",
              "  <thead>\n",
              "    <tr style=\"text-align: right;\">\n",
              "      <th></th>\n",
              "      <th>correlativo</th>\n",
              "      <th>CargoUsuario</th>\n",
              "      <th>CodigoOrganismo</th>\n",
              "      <th>CodigoUnidad</th>\n",
              "      <th>CodigoUsuario</th>\n",
              "    </tr>\n",
              "  </thead>\n",
              "  <tbody>\n",
              "  </tbody>\n",
              "</table>\n",
              "</div>"
            ],
            "text/plain": [
              "Empty DataFrame\n",
              "Columns: [correlativo, CargoUsuario, CodigoOrganismo, CodigoUnidad, CodigoUsuario]\n",
              "Index: []"
            ]
          },
          "metadata": {
            "tags": []
          },
          "execution_count": 83
        }
      ]
    },
    {
      "cell_type": "code",
      "metadata": {
        "id": "tSiq-MbgAt7a"
      },
      "source": [
        "#TRANSFORMAR UNA LISTA A UN DICIONARIO\n",
        "\n",
        "diccionario_comprador = df_licitaciones_detalles['Comprador'].to_dict()"
      ],
      "execution_count": null,
      "outputs": []
    },
    {
      "cell_type": "code",
      "metadata": {
        "id": "D8wFMKDHE_wu",
        "outputId": "cc137a2f-6179-428e-acae-cf366a3a028b",
        "colab": {
          "base_uri": "https://localhost:8080/",
          "height": 49
        }
      },
      "source": [
        "#TRANSFORMAR UN DICIONARIO A UN DATAFRAME\n",
        "\n",
        "diccionario = df_licitaciones_detalles['Comprador'].to_dict()\n",
        "diccionario\n",
        "df = pd.DataFrame([key for key in diccionario.keys()], columns=[\"correlativo\"])\n",
        "df['CargoUsuario'] = [value['CargoUsuario'] for value in diccionario.values()]\n",
        "df['CodigoOrganismo'] = [value['CodigoOrganismo'] for value in diccionario.values()]\n",
        "df['CodigoUnidad'] = [value['CodigoUnidad'] for value in diccionario.values()]\n",
        "df['CodigoUsuario'] = [value['CodigoUsuario'] for value in diccionario.values()]\n",
        "df.head(0)"
      ],
      "execution_count": null,
      "outputs": [
        {
          "output_type": "execute_result",
          "data": {
            "text/html": [
              "<div>\n",
              "<style scoped>\n",
              "    .dataframe tbody tr th:only-of-type {\n",
              "        vertical-align: middle;\n",
              "    }\n",
              "\n",
              "    .dataframe tbody tr th {\n",
              "        vertical-align: top;\n",
              "    }\n",
              "\n",
              "    .dataframe thead th {\n",
              "        text-align: right;\n",
              "    }\n",
              "</style>\n",
              "<table border=\"1\" class=\"dataframe\">\n",
              "  <thead>\n",
              "    <tr style=\"text-align: right;\">\n",
              "      <th></th>\n",
              "      <th>correlativo</th>\n",
              "      <th>CargoUsuario</th>\n",
              "      <th>CodigoOrganismo</th>\n",
              "      <th>CodigoUnidad</th>\n",
              "      <th>CodigoUsuario</th>\n",
              "    </tr>\n",
              "  </thead>\n",
              "  <tbody>\n",
              "  </tbody>\n",
              "</table>\n",
              "</div>"
            ],
            "text/plain": [
              "Empty DataFrame\n",
              "Columns: [correlativo, CargoUsuario, CodigoOrganismo, CodigoUnidad, CodigoUsuario]\n",
              "Index: []"
            ]
          },
          "metadata": {
            "tags": []
          },
          "execution_count": 81
        }
      ]
    },
    {
      "cell_type": "code",
      "metadata": {
        "id": "TJoTg4kyssXI"
      },
      "source": [
        "licitaciones_dia"
      ],
      "execution_count": null,
      "outputs": []
    },
    {
      "cell_type": "code",
      "metadata": {
        "id": "caltJM8_oBMH"
      },
      "source": [
        "codigos_externos = df_licitaciones_diarias['CodigoExterno'].tolist()"
      ],
      "execution_count": null,
      "outputs": []
    },
    {
      "cell_type": "code",
      "metadata": {
        "id": "cZ0H2B_-tHS-"
      },
      "source": [
        "codigos_externos"
      ],
      "execution_count": null,
      "outputs": []
    },
    {
      "cell_type": "markdown",
      "metadata": {
        "id": "nssQEDuNssXv"
      },
      "source": [
        "Consumir la API con cada código para extraer su información respectiva\n",
        "\n",
        "http://api.mercadopublico.cl/servicios/v1/publico/licitaciones.json?codigo=1509-5-L114&ticket=F8537A18-6766-4DEF-9E59-426B4FEE2844"
      ]
    },
    {
      "cell_type": "markdown",
      "metadata": {
        "id": "X4kJoi_YssXw"
      },
      "source": [
        "Consumo de API para cada código"
      ]
    },
    {
      "cell_type": "code",
      "metadata": {
        "id": "HFFPCHmS_vOw"
      },
      "source": [
        "import time"
      ],
      "execution_count": null,
      "outputs": []
    },
    {
      "cell_type": "code",
      "metadata": {
        "id": "okvWbHLvssXx"
      },
      "source": [
        "respuestas = []\n",
        "for codigo in codigos_externos:\n",
        "    url_dia2 = f\"http://api.mercadopublico.cl/servicios/v1/publico/licitaciones.json?codigo={codigo}&ticket=81D9D50E-E3EA-41F5-A456-0AD2B42E6D80\"\n",
        "    respuesta =requests.request(\"GET\", url_dia2)\n",
        "    respuestajson = json.loads(respuesta.text)\n",
        "    #licitacionesOK = respuestajson[\"Listado\"]\n",
        "    respuestas.append(respuestajson)\n",
        "    time.sleep(10)\n",
        "    "
      ],
      "execution_count": null,
      "outputs": []
    },
    {
      "cell_type": "code",
      "metadata": {
        "id": "moTuyjG2K6xX",
        "outputId": "8f47c97f-79ee-4813-958d-c3582aa054b3",
        "colab": {
          "base_uri": "https://localhost:8080/",
          "height": 34
        }
      },
      "source": [
        "type(respuestas[3][\"Listado\"])"
      ],
      "execution_count": null,
      "outputs": [
        {
          "output_type": "execute_result",
          "data": {
            "text/plain": [
              "list"
            ]
          },
          "metadata": {
            "tags": []
          },
          "execution_count": 17
        }
      ]
    },
    {
      "cell_type": "code",
      "metadata": {
        "id": "zeQvGMq6ssX6"
      },
      "source": [
        "for i in respuestas:\n",
        "\n",
        "  data = ([i[\"Listado\"]])\n",
        "\n",
        "#df_prueba.columns[3]\n",
        "#df_sub = df_prueba.columns[3]\n",
        "#df_sudf_prueba\n"
      ],
      "execution_count": null,
      "outputs": []
    },
    {
      "cell_type": "code",
      "metadata": {
        "id": "LDDrmVxessYB"
      },
      "source": [
        "respuestas"
      ],
      "execution_count": null,
      "outputs": []
    },
    {
      "cell_type": "markdown",
      "metadata": {
        "id": "7chjtyckvJuP"
      },
      "source": [
        "codigo profe ana\n",
        "\n",
        "\n"
      ]
    },
    {
      "cell_type": "code",
      "metadata": {
        "id": "8anw1yy1vCT5",
        "outputId": "13c659d9-433e-4d07-ec43-a47edcda251e",
        "colab": {
          "base_uri": "https://localhost:8080/",
          "height": 141
        }
      },
      "source": [
        "url_dia2 = \"http://api.mercadopublico.cl/servicios/v1/publico/licitaciones.json?codigo=2793-206-LE20&ticket=81D9D50E-E3EA-41F5-A456-0AD2B42E6D80\"\n",
        "respuesta3 =requests.request(\"GET\", url_dia2)\n",
        "print(respuesta3)\n",
        "respuesta3.text"
      ],
      "execution_count": null,
      "outputs": [
        {
          "output_type": "stream",
          "text": [
            "<Response [200]>\n"
          ],
          "name": "stdout"
        },
        {
          "output_type": "execute_result",
          "data": {
            "application/vnd.google.colaboratory.intrinsic+json": {
              "type": "string"
            },
            "text/plain": [
              "'{\"Cantidad\":1,\"FechaCreacion\":\"2020-10-23T10:51:05.06\",\"Version\":\"v1\",\"Listado\":[{\"CodigoExterno\":\"2793-206-LE20\",\"Nombre\":\"MEDICAMENTOS CENTRO DE ESTERILIZACIÓN DE MASCOTAS\",\"CodigoEstado\":5,\"Descripcion\":\"COMPRA DE MEDICAMENTOS PARA EL PROGRAMA CENTRO DE ESTERILIZACIÓN DE MASCOTAS DE LA MUNICIPALIDAD DE HUECHURABA\",\"FechaCierre\":null,\"Estado\":\"Publicada\",\"Comprador\":{\"CodigoOrganismo\":\"100739\",\"NombreOrganismo\":\"Municipalidad de Huechuraba\",\"RutUnidad\":\"69.255.400-0\",\"CodigoUnidad\":\"3782\",\"NombreUnidad\":\"Municipalidad de Huechuraba\",\"DireccionUnidad\":\"Premio Nóbel   5555\",\"ComunaUnidad\":\"Huechuraba\",\"RegionUnidad\":\"Región Metropolitana de Santiago\",\"RutUsuario\":\"13.275.551-5\",\"CodigoUsuario\":\"1317432\",\"NombreUsuario\":\"Leonardo Obreque Bravo\",\"CargoUsuario\":\"Jefe de Adquisiciones\"},\"DiasCierreLicitacion\":\"6\",\"Informada\":0,\"CodigoTipo\":1,\"Tipo\":\"LE\",\"TipoConvocatoria\":\"1\",\"Moneda\":\"CLP\",\"Etapas\":1,\"EstadoEtapas\":\"0\",\"TomaRazon\":\"0\",\"EstadoPublicidadOfertas\":1,\"JustificacionPublicidad\":\"\",\"Contrato\":\"2\",\"Obras\":\"0\",\"CantidadReclamos\":835,\"Fechas\":{\"FechaCreacion\":\"2020-10-22T13:18:44.85\",\"FechaCierre\":\"2020-10-29T10:00:00\",\"FechaInicio\":\"2020-10-22T14:01:00\",\"FechaFinal\":\"2020-10-26T15:05:00\",\"FechaPubRespuestas\":\"2020-10-27T12:00:00\",\"FechaActoAperturaTecnica\":\"2020-10-29T10:30:00\",\"FechaActoAperturaEconomica\":\"2020-10-29T10:30:00\",\"FechaPublicacion\":\"2020-10-22T13:46:31.32\",\"FechaAdjudicacion\":\"2020-11-26T17:00:00\",\"FechaEstimadaAdjudicacion\":\"2020-11-26T17:00:00\",\"FechaSoporteFisico\":null,\"FechaTiempoEvaluacion\":null,\"FechaEstimadaFirma\":null,\"FechasUsuario\":null,\"FechaVisitaTerreno\":null,\"FechaEntregaAntecedentes\":null},\"UnidadTiempoEvaluacion\":1,\"DireccionVisita\":\"\",\"DireccionEntrega\":\"\",\"Estimacion\":1,\"FuenteFinanciamiento\":\"\",\"VisibilidadMonto\":0,\"MontoEstimado\":null,\"Tiempo\":null,\"UnidadTiempo\":\"1\",\"Modalidad\":1,\"TipoPago\":\"2\",\"NombreResponsablePago\":\"Pablo Machuca\",\"EmailResponsablePago\":\"pablo.machuca@huechuraba.cl\",\"NombreResponsableContrato\":\"Asesoría Jurídica\",\"EmailResponsableContrato\":\"francisca.abarca@huechuraba.cl\",\"FonoResponsableContrato\":\"56-02-27197098-\",\"ProhibicionContratacion\":\"\",\"SubContratacion\":\"0\",\"UnidadTiempoDuracionContrato\":1,\"TiempoDuracionContrato\":\"0\",\"TipoDuracionContrato\":\" \",\"JustificacionMontoEstimado\":\"\",\"ObservacionContract\":null,\"ExtensionPlazo\":0,\"EsBaseTipo\":0,\"UnidadTiempoContratoLicitacion\":\"0\",\"ValorTiempoRenovacion\":\"0\",\"PeriodoTiempoRenovacion\":\" \",\"EsRenovable\":0,\"Adjudicacion\":null,\"Items\":{\"Cantidad\":7,\"Listado\":[{\"Correlativo\":1,\"CodigoProducto\":70122008,\"CodigoCategoria\":\"70122000\",\"Categoria\":\"Servicios agrícolas, pesqueros, forestales y relacionados con la fauna / Servicios de ganadería / Salud animal\",\"NombreProducto\":\"Tecnología de laboratorio veterinario\",\"Descripcion\":\"LIDOCAINA CLORHIDRATO 2%. SOLUCIÓN INYECTABLE; FRASCO MULTIDOSIS 50 ML. ANEXAR FICHA TÉCNICA. FECHA VENCIMIENTO OCTUBRE 2021 O POSTERIOR.\",\"UnidadMedida\":\"Unidad\",\"Cantidad\":2.0,\"Adjudicacion\":null},{\"Correlativo\":2,\"CodigoProducto\":70122008,\"CodigoCategoria\":\"70122000\",\"Categoria\":\"Servicios agrícolas, pesqueros, forestales y relacionados con la fauna / Servicios de ganadería / Salud animal\",\"NombreProducto\":\"Tecnología de laboratorio veterinario\",\"Descripcion\":\"LIDOCAINA 10% EN SPRAY, FRASCO 100 ML. ANEXAR FICHA TÉCNICA. FECHA DE VENCIMIENTO OCTUBRE 2021 O POSTERIOR.\",\"UnidadMedida\":\"Unidad\",\"Cantidad\":2.0,\"Adjudicacion\":null},{\"Correlativo\":3,\"CodigoProducto\":70122008,\"CodigoCategoria\":\"70122000\",\"Categoria\":\"Servicios agrícolas, pesqueros, forestales y relacionados con la fauna / Servicios de ganadería / Salud animal\",\"NombreProducto\":\"Tecnología de laboratorio veterinario\",\"Descripcion\":\"UNIDADES DE TRAMADOL AMPOLLA 100 MG/2ML. ANEXAR FICHA TÉCNICA. FECHA DE VENCIMIENTO OCTUBRE 2021 O POSTERIOR.\",\"UnidadMedida\":\"Unidad\",\"Cantidad\":100.0,\"Adjudicacion\":null},{\"Correlativo\":4,\"CodigoProducto\":70122008,\"CodigoCategoria\":\"70122000\",\"Categoria\":\"Servicios agrícolas, pesqueros, forestales y relacionados con la fauna / Servicios de ganadería / Salud animal\",\"NombreProducto\":\"Tecnología de laboratorio veterinario\",\"Descripcion\":\"XILACINA 2% FRASCO MULTIDOSIS 50ML. ANEXAR FICHA TÉCNICA. FECHA VENCIMIENTO OCTUBRE 2021 O POSTERIOR.\",\"UnidadMedida\":\"Unidad\",\"Cantidad\":2.0,\"Adjudicacion\":null},{\"Correlativo\":5,\"CodigoProducto\":70122008,\"CodigoCategoria\":\"70122000\",\"Categoria\":\"Servicios agrícolas, pesqueros, forestales y relacionados con la fauna / Servicios de ganadería / Salud animal\",\"NombreProducto\":\"Tecnología de laboratorio veterinario\",\"Descripcion\":\"KETAMINA 10% FRASCO MULTIDOSIS 50 ML. ANEXAR FICHA TÉCNICA. FECHA VENCIMIENTO OCTUBRE 2021 O POSTERIOR.\",\"UnidadMedida\":\"Unidad\",\"Cantidad\":2.0,\"Adjudicacion\":null},{\"Correlativo\":6,\"CodigoProducto\":70122008,\"CodigoCategoria\":\"70122000\",\"Categoria\":\"Servicios agrícolas, pesqueros, forestales y relacionados con la fauna / Servicios de ganadería / Salud animal\",\"NombreProducto\":\"Tecnología de laboratorio veterinario\",\"Descripcion\":\"FRASCOS TIOPENTAL SÓDICO 1 GR. ANEXAR FICHA TÉCNICA. FECHA VENCIMIENTO OCTUBRE 2021 O POSTERIOR.\",\"UnidadMedida\":\"Unidad\",\"Cantidad\":80.0,\"Adjudicacion\":null},{\"Correlativo\":7,\"CodigoProducto\":70122008,\"CodigoCategoria\":\"70122000\",\"Categoria\":\"Servicios agrícolas, pesqueros, forestales y relacionados con la fauna / Servicios de ganadería / Salud animal\",\"NombreProducto\":\"Tecnología de laboratorio veterinario\",\"Descripcion\":\"PROPOFOL 1% FRASCO MULTIDOSIS DE 100ML. ANEXAR FICHA TÉCNICA. FECHA DE VENCIMIENTO OCTUBRE 2021 O POSTERIOR.\",\"UnidadMedida\":\"Unidad\",\"Cantidad\":20.0,\"Adjudicacion\":null}]}}]}'"
            ]
          },
          "metadata": {
            "tags": []
          },
          "execution_count": 22
        }
      ]
    },
    {
      "cell_type": "code",
      "metadata": {
        "id": "EpDcBc5assYL"
      },
      "source": [
        "respuestajson"
      ],
      "execution_count": null,
      "outputs": []
    },
    {
      "cell_type": "code",
      "metadata": {
        "id": "94dwXB3C0bV9"
      },
      "source": [
        "respuesta2\n",
        "respuestajson = json.loads(respuesta2.text)\n",
        "licitacionesOK = respuestajson[\"Listado\"]\n",
        "df_licitaciones_complete = pd.DataFrame(licitacionesOK)\n",
        "df_licitaciones_complete['Comprador']"
      ],
      "execution_count": null,
      "outputs": []
    },
    {
      "cell_type": "code",
      "metadata": {
        "id": "EnmgvBdWssYY"
      },
      "source": [
        "diccionario = df_licitaciones_complete['Comprador'].to_dict()"
      ],
      "execution_count": null,
      "outputs": []
    },
    {
      "cell_type": "code",
      "metadata": {
        "id": "sUE8dP6GssYe"
      },
      "source": [
        "len(diccionario[0])"
      ],
      "execution_count": null,
      "outputs": []
    },
    {
      "cell_type": "code",
      "metadata": {
        "id": "9bt0jetgssYj"
      },
      "source": [
        "df_comprador = pd.DataFrame(diccionario[0], index=[0])"
      ],
      "execution_count": null,
      "outputs": []
    },
    {
      "cell_type": "code",
      "metadata": {
        "id": "gKx2v0XissYp"
      },
      "source": [
        "df_comprador.head()"
      ],
      "execution_count": null,
      "outputs": []
    },
    {
      "cell_type": "code",
      "metadata": {
        "id": "HrlldgN6ssYv"
      },
      "source": [
        "respuestajson['Listado'][0]['CodigoExterno']"
      ],
      "execution_count": null,
      "outputs": []
    },
    {
      "cell_type": "code",
      "metadata": {
        "id": "CbWAp2jCssY1"
      },
      "source": [
        "len(respuestajson['Listado'][0]['Comprador'])"
      ],
      "execution_count": null,
      "outputs": []
    },
    {
      "cell_type": "code",
      "metadata": {
        "id": "-yauSxlVssY7"
      },
      "source": [
        ""
      ],
      "execution_count": null,
      "outputs": []
    },
    {
      "cell_type": "code",
      "metadata": {
        "id": "Yr0akWdYwKYR"
      },
      "source": [
        "licitaciones_dia2 = respuestajson['Listado']\n",
        "df_licitaciones_diarias2 = pd.DataFrame(licitaciones_dia2)\n",
        "df_licitaciones_diarias2"
      ],
      "execution_count": null,
      "outputs": []
    },
    {
      "cell_type": "code",
      "metadata": {
        "id": "uVFxGWXdHj0v"
      },
      "source": [
        "df_lici = df_licitaciones_diarias['CodigoExterno'].apply(lambda x: pd.Series(x.split('-')))\n",
        "df_licitaciones_diarias[\"Codigo empresa\"] = df_lici[0]\n",
        "df_licitaciones_diarias[\"Codigo2\"] = df_lici[1]\n",
        "df_licitaciones_diarias[\"Monto\"] = df_lici[2]\n",
        "df_licitaciones_new = df_licitaciones_diarias\n",
        "df_licitaciones_final = df_licitaciones_new.drop([\"CodigoExterno\"], axis = 1)\n",
        "df_licitaciones_final"
      ],
      "execution_count": null,
      "outputs": []
    }
  ]
}